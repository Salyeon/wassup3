{
 "cells": [
  {
   "cell_type": "markdown",
   "metadata": {
    "id": "RMLHu3RZ5lWK"
   },
   "source": [
    "# Keras iris Modeling"
   ]
  },
  {
   "cell_type": "code",
   "execution_count": null,
   "metadata": {
    "id": "RbPgODpVzdHI",
    "tags": []
   },
   "outputs": [],
   "source": [
    "import warnings\n",
    "warnings.filterwarnings('ignore')"
   ]
  },
  {
   "cell_type": "markdown",
   "metadata": {
    "id": "Z0vCjo566DU3"
   },
   "source": [
    "> ## 1) 실습용 데이터 설정\n",
    "\n",
    "* iris.csv"
   ]
  },
  {
   "cell_type": "code",
   "execution_count": null,
   "metadata": {
    "id": "LfEBY4JwDS1i",
    "tags": []
   },
   "outputs": [],
   "source": [
    "import seaborn as sns\n",
    "\n",
    "iris = sns.load_dataset('iris')"
   ]
  },
  {
   "cell_type": "markdown",
   "metadata": {
    "id": "_2m1joqE6eEq"
   },
   "source": [
    "* pandas DataFrame"
   ]
  },
  {
   "cell_type": "code",
   "execution_count": null,
   "metadata": {
    "colab": {
     "base_uri": "https://localhost:8080/"
    },
    "executionInfo": {
     "elapsed": 727,
     "status": "ok",
     "timestamp": 1721633965993,
     "user": {
      "displayName": "연샐",
      "userId": "10831208288393304500"
     },
     "user_tz": -540
    },
    "id": "F6MvmhtB53CS",
    "outputId": "59b3224c-e05b-47c5-bb84-9d588ea74a39",
    "tags": []
   },
   "outputs": [
    {
     "name": "stdout",
     "output_type": "stream",
     "text": [
      "<class 'pandas.core.frame.DataFrame'>\n",
      "RangeIndex: 150 entries, 0 to 149\n",
      "Data columns (total 5 columns):\n",
      " #   Column        Non-Null Count  Dtype  \n",
      "---  ------        --------------  -----  \n",
      " 0   sepal_length  150 non-null    float64\n",
      " 1   sepal_width   150 non-null    float64\n",
      " 2   petal_length  150 non-null    float64\n",
      " 3   petal_width   150 non-null    float64\n",
      " 4   species       150 non-null    object \n",
      "dtypes: float64(4), object(1)\n",
      "memory usage: 6.0+ KB\n"
     ]
    }
   ],
   "source": [
    "iris.info()"
   ]
  },
  {
   "cell_type": "code",
   "execution_count": null,
   "metadata": {
    "colab": {
     "base_uri": "https://localhost:8080/",
     "height": 143
    },
    "executionInfo": {
     "elapsed": 462,
     "status": "ok",
     "timestamp": 1721633967978,
     "user": {
      "displayName": "연샐",
      "userId": "10831208288393304500"
     },
     "user_tz": -540
    },
    "id": "7l2ojjz_D39D",
    "outputId": "56225f2f-9d3a-4632-b78c-38e9b9c670f9",
    "tags": []
   },
   "outputs": [
    {
     "data": {
      "application/vnd.google.colaboratory.intrinsic+json": {
       "summary": "{\n  \"name\": \"iris\",\n  \"rows\": 150,\n  \"fields\": [\n    {\n      \"column\": \"sepal_length\",\n      \"properties\": {\n        \"dtype\": \"number\",\n        \"std\": 0.828066127977863,\n        \"min\": 4.3,\n        \"max\": 7.9,\n        \"num_unique_values\": 35,\n        \"samples\": [\n          6.2,\n          4.5,\n          5.6\n        ],\n        \"semantic_type\": \"\",\n        \"description\": \"\"\n      }\n    },\n    {\n      \"column\": \"sepal_width\",\n      \"properties\": {\n        \"dtype\": \"number\",\n        \"std\": 0.4358662849366982,\n        \"min\": 2.0,\n        \"max\": 4.4,\n        \"num_unique_values\": 23,\n        \"samples\": [\n          2.3,\n          4.0,\n          3.5\n        ],\n        \"semantic_type\": \"\",\n        \"description\": \"\"\n      }\n    },\n    {\n      \"column\": \"petal_length\",\n      \"properties\": {\n        \"dtype\": \"number\",\n        \"std\": 1.7652982332594662,\n        \"min\": 1.0,\n        \"max\": 6.9,\n        \"num_unique_values\": 43,\n        \"samples\": [\n          6.7,\n          3.8,\n          3.7\n        ],\n        \"semantic_type\": \"\",\n        \"description\": \"\"\n      }\n    },\n    {\n      \"column\": \"petal_width\",\n      \"properties\": {\n        \"dtype\": \"number\",\n        \"std\": 0.7622376689603465,\n        \"min\": 0.1,\n        \"max\": 2.5,\n        \"num_unique_values\": 22,\n        \"samples\": [\n          0.2,\n          1.2,\n          1.3\n        ],\n        \"semantic_type\": \"\",\n        \"description\": \"\"\n      }\n    },\n    {\n      \"column\": \"species\",\n      \"properties\": {\n        \"dtype\": \"category\",\n        \"num_unique_values\": 3,\n        \"samples\": [\n          \"setosa\",\n          \"versicolor\",\n          \"virginica\"\n        ],\n        \"semantic_type\": \"\",\n        \"description\": \"\"\n      }\n    }\n  ]\n}",
       "type": "dataframe",
       "variable_name": "iris"
      },
      "text/html": [
       "\n",
       "  <div id=\"df-86af2515-f301-42c6-a4da-cfc80d15601a\" class=\"colab-df-container\">\n",
       "    <div>\n",
       "<style scoped>\n",
       "    .dataframe tbody tr th:only-of-type {\n",
       "        vertical-align: middle;\n",
       "    }\n",
       "\n",
       "    .dataframe tbody tr th {\n",
       "        vertical-align: top;\n",
       "    }\n",
       "\n",
       "    .dataframe thead th {\n",
       "        text-align: right;\n",
       "    }\n",
       "</style>\n",
       "<table border=\"1\" class=\"dataframe\">\n",
       "  <thead>\n",
       "    <tr style=\"text-align: right;\">\n",
       "      <th></th>\n",
       "      <th>sepal_length</th>\n",
       "      <th>sepal_width</th>\n",
       "      <th>petal_length</th>\n",
       "      <th>petal_width</th>\n",
       "      <th>species</th>\n",
       "    </tr>\n",
       "  </thead>\n",
       "  <tbody>\n",
       "    <tr>\n",
       "      <th>0</th>\n",
       "      <td>5.1</td>\n",
       "      <td>3.5</td>\n",
       "      <td>1.4</td>\n",
       "      <td>0.2</td>\n",
       "      <td>setosa</td>\n",
       "    </tr>\n",
       "    <tr>\n",
       "      <th>1</th>\n",
       "      <td>4.9</td>\n",
       "      <td>3.0</td>\n",
       "      <td>1.4</td>\n",
       "      <td>0.2</td>\n",
       "      <td>setosa</td>\n",
       "    </tr>\n",
       "    <tr>\n",
       "      <th>2</th>\n",
       "      <td>4.7</td>\n",
       "      <td>3.2</td>\n",
       "      <td>1.3</td>\n",
       "      <td>0.2</td>\n",
       "      <td>setosa</td>\n",
       "    </tr>\n",
       "  </tbody>\n",
       "</table>\n",
       "</div>\n",
       "    <div class=\"colab-df-buttons\">\n",
       "\n",
       "  <div class=\"colab-df-container\">\n",
       "    <button class=\"colab-df-convert\" onclick=\"convertToInteractive('df-86af2515-f301-42c6-a4da-cfc80d15601a')\"\n",
       "            title=\"Convert this dataframe to an interactive table.\"\n",
       "            style=\"display:none;\">\n",
       "\n",
       "  <svg xmlns=\"http://www.w3.org/2000/svg\" height=\"24px\" viewBox=\"0 -960 960 960\">\n",
       "    <path d=\"M120-120v-720h720v720H120Zm60-500h600v-160H180v160Zm220 220h160v-160H400v160Zm0 220h160v-160H400v160ZM180-400h160v-160H180v160Zm440 0h160v-160H620v160ZM180-180h160v-160H180v160Zm440 0h160v-160H620v160Z\"/>\n",
       "  </svg>\n",
       "    </button>\n",
       "\n",
       "  <style>\n",
       "    .colab-df-container {\n",
       "      display:flex;\n",
       "      gap: 12px;\n",
       "    }\n",
       "\n",
       "    .colab-df-convert {\n",
       "      background-color: #E8F0FE;\n",
       "      border: none;\n",
       "      border-radius: 50%;\n",
       "      cursor: pointer;\n",
       "      display: none;\n",
       "      fill: #1967D2;\n",
       "      height: 32px;\n",
       "      padding: 0 0 0 0;\n",
       "      width: 32px;\n",
       "    }\n",
       "\n",
       "    .colab-df-convert:hover {\n",
       "      background-color: #E2EBFA;\n",
       "      box-shadow: 0px 1px 2px rgba(60, 64, 67, 0.3), 0px 1px 3px 1px rgba(60, 64, 67, 0.15);\n",
       "      fill: #174EA6;\n",
       "    }\n",
       "\n",
       "    .colab-df-buttons div {\n",
       "      margin-bottom: 4px;\n",
       "    }\n",
       "\n",
       "    [theme=dark] .colab-df-convert {\n",
       "      background-color: #3B4455;\n",
       "      fill: #D2E3FC;\n",
       "    }\n",
       "\n",
       "    [theme=dark] .colab-df-convert:hover {\n",
       "      background-color: #434B5C;\n",
       "      box-shadow: 0px 1px 3px 1px rgba(0, 0, 0, 0.15);\n",
       "      filter: drop-shadow(0px 1px 2px rgba(0, 0, 0, 0.3));\n",
       "      fill: #FFFFFF;\n",
       "    }\n",
       "  </style>\n",
       "\n",
       "    <script>\n",
       "      const buttonEl =\n",
       "        document.querySelector('#df-86af2515-f301-42c6-a4da-cfc80d15601a button.colab-df-convert');\n",
       "      buttonEl.style.display =\n",
       "        google.colab.kernel.accessAllowed ? 'block' : 'none';\n",
       "\n",
       "      async function convertToInteractive(key) {\n",
       "        const element = document.querySelector('#df-86af2515-f301-42c6-a4da-cfc80d15601a');\n",
       "        const dataTable =\n",
       "          await google.colab.kernel.invokeFunction('convertToInteractive',\n",
       "                                                    [key], {});\n",
       "        if (!dataTable) return;\n",
       "\n",
       "        const docLinkHtml = 'Like what you see? Visit the ' +\n",
       "          '<a target=\"_blank\" href=https://colab.research.google.com/notebooks/data_table.ipynb>data table notebook</a>'\n",
       "          + ' to learn more about interactive tables.';\n",
       "        element.innerHTML = '';\n",
       "        dataTable['output_type'] = 'display_data';\n",
       "        await google.colab.output.renderOutput(dataTable, element);\n",
       "        const docLink = document.createElement('div');\n",
       "        docLink.innerHTML = docLinkHtml;\n",
       "        element.appendChild(docLink);\n",
       "      }\n",
       "    </script>\n",
       "  </div>\n",
       "\n",
       "\n",
       "<div id=\"df-46a9c8ae-b865-4c7b-8924-981847276eb3\">\n",
       "  <button class=\"colab-df-quickchart\" onclick=\"quickchart('df-46a9c8ae-b865-4c7b-8924-981847276eb3')\"\n",
       "            title=\"Suggest charts\"\n",
       "            style=\"display:none;\">\n",
       "\n",
       "<svg xmlns=\"http://www.w3.org/2000/svg\" height=\"24px\"viewBox=\"0 0 24 24\"\n",
       "     width=\"24px\">\n",
       "    <g>\n",
       "        <path d=\"M19 3H5c-1.1 0-2 .9-2 2v14c0 1.1.9 2 2 2h14c1.1 0 2-.9 2-2V5c0-1.1-.9-2-2-2zM9 17H7v-7h2v7zm4 0h-2V7h2v10zm4 0h-2v-4h2v4z\"/>\n",
       "    </g>\n",
       "</svg>\n",
       "  </button>\n",
       "\n",
       "<style>\n",
       "  .colab-df-quickchart {\n",
       "      --bg-color: #E8F0FE;\n",
       "      --fill-color: #1967D2;\n",
       "      --hover-bg-color: #E2EBFA;\n",
       "      --hover-fill-color: #174EA6;\n",
       "      --disabled-fill-color: #AAA;\n",
       "      --disabled-bg-color: #DDD;\n",
       "  }\n",
       "\n",
       "  [theme=dark] .colab-df-quickchart {\n",
       "      --bg-color: #3B4455;\n",
       "      --fill-color: #D2E3FC;\n",
       "      --hover-bg-color: #434B5C;\n",
       "      --hover-fill-color: #FFFFFF;\n",
       "      --disabled-bg-color: #3B4455;\n",
       "      --disabled-fill-color: #666;\n",
       "  }\n",
       "\n",
       "  .colab-df-quickchart {\n",
       "    background-color: var(--bg-color);\n",
       "    border: none;\n",
       "    border-radius: 50%;\n",
       "    cursor: pointer;\n",
       "    display: none;\n",
       "    fill: var(--fill-color);\n",
       "    height: 32px;\n",
       "    padding: 0;\n",
       "    width: 32px;\n",
       "  }\n",
       "\n",
       "  .colab-df-quickchart:hover {\n",
       "    background-color: var(--hover-bg-color);\n",
       "    box-shadow: 0 1px 2px rgba(60, 64, 67, 0.3), 0 1px 3px 1px rgba(60, 64, 67, 0.15);\n",
       "    fill: var(--button-hover-fill-color);\n",
       "  }\n",
       "\n",
       "  .colab-df-quickchart-complete:disabled,\n",
       "  .colab-df-quickchart-complete:disabled:hover {\n",
       "    background-color: var(--disabled-bg-color);\n",
       "    fill: var(--disabled-fill-color);\n",
       "    box-shadow: none;\n",
       "  }\n",
       "\n",
       "  .colab-df-spinner {\n",
       "    border: 2px solid var(--fill-color);\n",
       "    border-color: transparent;\n",
       "    border-bottom-color: var(--fill-color);\n",
       "    animation:\n",
       "      spin 1s steps(1) infinite;\n",
       "  }\n",
       "\n",
       "  @keyframes spin {\n",
       "    0% {\n",
       "      border-color: transparent;\n",
       "      border-bottom-color: var(--fill-color);\n",
       "      border-left-color: var(--fill-color);\n",
       "    }\n",
       "    20% {\n",
       "      border-color: transparent;\n",
       "      border-left-color: var(--fill-color);\n",
       "      border-top-color: var(--fill-color);\n",
       "    }\n",
       "    30% {\n",
       "      border-color: transparent;\n",
       "      border-left-color: var(--fill-color);\n",
       "      border-top-color: var(--fill-color);\n",
       "      border-right-color: var(--fill-color);\n",
       "    }\n",
       "    40% {\n",
       "      border-color: transparent;\n",
       "      border-right-color: var(--fill-color);\n",
       "      border-top-color: var(--fill-color);\n",
       "    }\n",
       "    60% {\n",
       "      border-color: transparent;\n",
       "      border-right-color: var(--fill-color);\n",
       "    }\n",
       "    80% {\n",
       "      border-color: transparent;\n",
       "      border-right-color: var(--fill-color);\n",
       "      border-bottom-color: var(--fill-color);\n",
       "    }\n",
       "    90% {\n",
       "      border-color: transparent;\n",
       "      border-bottom-color: var(--fill-color);\n",
       "    }\n",
       "  }\n",
       "</style>\n",
       "\n",
       "  <script>\n",
       "    async function quickchart(key) {\n",
       "      const quickchartButtonEl =\n",
       "        document.querySelector('#' + key + ' button');\n",
       "      quickchartButtonEl.disabled = true;  // To prevent multiple clicks.\n",
       "      quickchartButtonEl.classList.add('colab-df-spinner');\n",
       "      try {\n",
       "        const charts = await google.colab.kernel.invokeFunction(\n",
       "            'suggestCharts', [key], {});\n",
       "      } catch (error) {\n",
       "        console.error('Error during call to suggestCharts:', error);\n",
       "      }\n",
       "      quickchartButtonEl.classList.remove('colab-df-spinner');\n",
       "      quickchartButtonEl.classList.add('colab-df-quickchart-complete');\n",
       "    }\n",
       "    (() => {\n",
       "      let quickchartButtonEl =\n",
       "        document.querySelector('#df-46a9c8ae-b865-4c7b-8924-981847276eb3 button');\n",
       "      quickchartButtonEl.style.display =\n",
       "        google.colab.kernel.accessAllowed ? 'block' : 'none';\n",
       "    })();\n",
       "  </script>\n",
       "</div>\n",
       "\n",
       "    </div>\n",
       "  </div>\n"
      ],
      "text/plain": [
       "   sepal_length  sepal_width  petal_length  petal_width species\n",
       "0           5.1          3.5           1.4          0.2  setosa\n",
       "1           4.9          3.0           1.4          0.2  setosa\n",
       "2           4.7          3.2           1.3          0.2  setosa"
      ]
     },
     "execution_count": 4,
     "metadata": {},
     "output_type": "execute_result"
    }
   ],
   "source": [
    "iris.head(3)"
   ]
  },
  {
   "cell_type": "markdown",
   "metadata": {
    "id": "I2Forf0oXF8c"
   },
   "source": [
    "> ## 2) Version check"
   ]
  },
  {
   "cell_type": "markdown",
   "metadata": {
    "id": "uPaHtu9NOYaX"
   },
   "source": [
    "* TensorFlow Version"
   ]
  },
  {
   "cell_type": "code",
   "execution_count": null,
   "metadata": {
    "colab": {
     "base_uri": "https://localhost:8080/",
     "height": 36
    },
    "executionInfo": {
     "elapsed": 10585,
     "status": "ok",
     "timestamp": 1721633980237,
     "user": {
      "displayName": "연샐",
      "userId": "10831208288393304500"
     },
     "user_tz": -540
    },
    "id": "X6xKtsfgOTso",
    "outputId": "2776f0ec-93a5-4d76-e640-540d7ab9d6d6",
    "tags": []
   },
   "outputs": [
    {
     "data": {
      "application/vnd.google.colaboratory.intrinsic+json": {
       "type": "string"
      },
      "text/plain": [
       "'2.15.0'"
      ]
     },
     "execution_count": 5,
     "metadata": {},
     "output_type": "execute_result"
    }
   ],
   "source": [
    "import tensorflow\n",
    "\n",
    "tensorflow.__version__"
   ]
  },
  {
   "cell_type": "markdown",
   "metadata": {
    "id": "Ydu4ux7dOm2N"
   },
   "source": [
    "* Keras Version"
   ]
  },
  {
   "cell_type": "code",
   "execution_count": null,
   "metadata": {
    "colab": {
     "base_uri": "https://localhost:8080/",
     "height": 36
    },
    "executionInfo": {
     "elapsed": 470,
     "status": "ok",
     "timestamp": 1721633985590,
     "user": {
      "displayName": "연샐",
      "userId": "10831208288393304500"
     },
     "user_tz": -540
    },
    "id": "zhMz9QSBOjTK",
    "outputId": "4675dfd2-bcb1-4d50-ef3b-f81b68c11ddc",
    "tags": []
   },
   "outputs": [
    {
     "data": {
      "application/vnd.google.colaboratory.intrinsic+json": {
       "type": "string"
      },
      "text/plain": [
       "'2.15.0'"
      ]
     },
     "execution_count": 6,
     "metadata": {},
     "output_type": "execute_result"
    }
   ],
   "source": [
    "import keras\n",
    "\n",
    "keras.__version__"
   ]
  },
  {
   "cell_type": "markdown",
   "metadata": {
    "id": "0a9zRCoM6iHg"
   },
   "source": [
    "# I. Data Preprocessing"
   ]
  },
  {
   "cell_type": "markdown",
   "metadata": {
    "id": "WIq-NRIq659b"
   },
   "source": [
    "> ## 1) iris.Species 빈도분석"
   ]
  },
  {
   "cell_type": "markdown",
   "metadata": {
    "id": "sg3g1ycL0bj_"
   },
   "source": [
    "* Species : setosa, versicolor, virginica"
   ]
  },
  {
   "cell_type": "code",
   "execution_count": null,
   "metadata": {
    "colab": {
     "base_uri": "https://localhost:8080/"
    },
    "executionInfo": {
     "elapsed": 403,
     "status": "ok",
     "timestamp": 1721633989807,
     "user": {
      "displayName": "연샐",
      "userId": "10831208288393304500"
     },
     "user_tz": -540
    },
    "id": "Ccv6L9LX6mBD",
    "outputId": "a717004b-a4c6-4bd1-d349-6ba34b89880c",
    "tags": []
   },
   "outputs": [
    {
     "data": {
      "text/plain": [
       "species\n",
       "setosa        50\n",
       "versicolor    50\n",
       "virginica     50\n",
       "Name: count, dtype: int64"
      ]
     },
     "execution_count": 7,
     "metadata": {},
     "output_type": "execute_result"
    }
   ],
   "source": [
    "iris.species.value_counts()"
   ]
  },
  {
   "cell_type": "markdown",
   "metadata": {
    "id": "JrKQmY9s7WzT"
   },
   "source": [
    "> ## 2) 분석 변수 선택\n",
    "\n",
    "* X: 'sepal_length', 'sepal_width', 'petal_length', 'petal_width'\n",
    "* y: 'species'"
   ]
  },
  {
   "cell_type": "code",
   "execution_count": null,
   "metadata": {
    "colab": {
     "base_uri": "https://localhost:8080/"
    },
    "executionInfo": {
     "elapsed": 569,
     "status": "ok",
     "timestamp": 1721633992588,
     "user": {
      "displayName": "연샐",
      "userId": "10831208288393304500"
     },
     "user_tz": -540
    },
    "id": "tPJYM6B3Y64I",
    "outputId": "b4b86fa9-d737-4841-d4ed-14b8c433d04a",
    "tags": []
   },
   "outputs": [
    {
     "data": {
      "text/plain": [
       "((150, 4), (150,))"
      ]
     },
     "execution_count": 8,
     "metadata": {},
     "output_type": "execute_result"
    }
   ],
   "source": [
    "X = iris[['sepal_length', 'sepal_width', 'petal_length', 'petal_width']]\n",
    "y = iris['species']\n",
    "\n",
    "X.shape, y.shape"
   ]
  },
  {
   "cell_type": "markdown",
   "metadata": {
    "id": "lUx516tc8E6Q"
   },
   "source": [
    "> ## 3) One Hot Encoding with sklearn & Keras"
   ]
  },
  {
   "cell_type": "markdown",
   "metadata": {
    "id": "9lm5fWHmIgOd"
   },
   "source": [
    "* LabelEncoder( )\n",
    " - ['setosa', 'versicolor', 'virginica'] to [0, 1, 2]"
   ]
  },
  {
   "cell_type": "code",
   "execution_count": null,
   "metadata": {
    "colab": {
     "base_uri": "https://localhost:8080/"
    },
    "executionInfo": {
     "elapsed": 406,
     "status": "ok",
     "timestamp": 1721633995187,
     "user": {
      "displayName": "연샐",
      "userId": "10831208288393304500"
     },
     "user_tz": -540
    },
    "id": "iFhNzeIMbXyV",
    "outputId": "bef7e3a6-f41b-4c83-a006-9d6f67dd55a5",
    "tags": []
   },
   "outputs": [
    {
     "data": {
      "text/plain": [
       "array([0, 0, 0, 0, 0, 0, 0, 0, 0, 0, 0, 0, 0, 0, 0, 0, 0, 0, 0, 0, 0, 0,\n",
       "       0, 0, 0, 0, 0, 0, 0, 0, 0, 0, 0, 0, 0, 0, 0, 0, 0, 0, 0, 0, 0, 0,\n",
       "       0, 0, 0, 0, 0, 0, 1, 1, 1, 1, 1, 1, 1, 1, 1, 1, 1, 1, 1, 1, 1, 1,\n",
       "       1, 1, 1, 1, 1, 1, 1, 1, 1, 1, 1, 1, 1, 1, 1, 1, 1, 1, 1, 1, 1, 1,\n",
       "       1, 1, 1, 1, 1, 1, 1, 1, 1, 1, 1, 1, 2, 2, 2, 2, 2, 2, 2, 2, 2, 2,\n",
       "       2, 2, 2, 2, 2, 2, 2, 2, 2, 2, 2, 2, 2, 2, 2, 2, 2, 2, 2, 2, 2, 2,\n",
       "       2, 2, 2, 2, 2, 2, 2, 2, 2, 2, 2, 2, 2, 2, 2, 2, 2, 2])"
      ]
     },
     "execution_count": 9,
     "metadata": {},
     "output_type": "execute_result"
    }
   ],
   "source": [
    "from sklearn.preprocessing import LabelEncoder\n",
    "\n",
    "encoder =  LabelEncoder()\n",
    "LBE_y = encoder.fit_transform(y)\n",
    "\n",
    "LBE_y"
   ]
  },
  {
   "cell_type": "markdown",
   "metadata": {
    "id": "k7LEIdH3JAtw"
   },
   "source": [
    "* One-Hot Encoding - to_categorical( )"
   ]
  },
  {
   "cell_type": "code",
   "execution_count": null,
   "metadata": {
    "colab": {
     "base_uri": "https://localhost:8080/"
    },
    "collapsed": true,
    "executionInfo": {
     "elapsed": 2,
     "status": "ok",
     "timestamp": 1721633998710,
     "user": {
      "displayName": "연샐",
      "userId": "10831208288393304500"
     },
     "user_tz": -540
    },
    "id": "hxdLQPuuZQ13",
    "jupyter": {
     "outputs_hidden": true
    },
    "outputId": "7e9a3dbc-7321-4df8-c7a3-ab5ef20e523b",
    "tags": []
   },
   "outputs": [
    {
     "data": {
      "text/plain": [
       "array([[1., 0., 0.],\n",
       "       [1., 0., 0.],\n",
       "       [1., 0., 0.],\n",
       "       [1., 0., 0.],\n",
       "       [1., 0., 0.],\n",
       "       [1., 0., 0.],\n",
       "       [1., 0., 0.],\n",
       "       [1., 0., 0.],\n",
       "       [1., 0., 0.],\n",
       "       [1., 0., 0.],\n",
       "       [1., 0., 0.],\n",
       "       [1., 0., 0.],\n",
       "       [1., 0., 0.],\n",
       "       [1., 0., 0.],\n",
       "       [1., 0., 0.],\n",
       "       [1., 0., 0.],\n",
       "       [1., 0., 0.],\n",
       "       [1., 0., 0.],\n",
       "       [1., 0., 0.],\n",
       "       [1., 0., 0.],\n",
       "       [1., 0., 0.],\n",
       "       [1., 0., 0.],\n",
       "       [1., 0., 0.],\n",
       "       [1., 0., 0.],\n",
       "       [1., 0., 0.],\n",
       "       [1., 0., 0.],\n",
       "       [1., 0., 0.],\n",
       "       [1., 0., 0.],\n",
       "       [1., 0., 0.],\n",
       "       [1., 0., 0.],\n",
       "       [1., 0., 0.],\n",
       "       [1., 0., 0.],\n",
       "       [1., 0., 0.],\n",
       "       [1., 0., 0.],\n",
       "       [1., 0., 0.],\n",
       "       [1., 0., 0.],\n",
       "       [1., 0., 0.],\n",
       "       [1., 0., 0.],\n",
       "       [1., 0., 0.],\n",
       "       [1., 0., 0.],\n",
       "       [1., 0., 0.],\n",
       "       [1., 0., 0.],\n",
       "       [1., 0., 0.],\n",
       "       [1., 0., 0.],\n",
       "       [1., 0., 0.],\n",
       "       [1., 0., 0.],\n",
       "       [1., 0., 0.],\n",
       "       [1., 0., 0.],\n",
       "       [1., 0., 0.],\n",
       "       [1., 0., 0.],\n",
       "       [0., 1., 0.],\n",
       "       [0., 1., 0.],\n",
       "       [0., 1., 0.],\n",
       "       [0., 1., 0.],\n",
       "       [0., 1., 0.],\n",
       "       [0., 1., 0.],\n",
       "       [0., 1., 0.],\n",
       "       [0., 1., 0.],\n",
       "       [0., 1., 0.],\n",
       "       [0., 1., 0.],\n",
       "       [0., 1., 0.],\n",
       "       [0., 1., 0.],\n",
       "       [0., 1., 0.],\n",
       "       [0., 1., 0.],\n",
       "       [0., 1., 0.],\n",
       "       [0., 1., 0.],\n",
       "       [0., 1., 0.],\n",
       "       [0., 1., 0.],\n",
       "       [0., 1., 0.],\n",
       "       [0., 1., 0.],\n",
       "       [0., 1., 0.],\n",
       "       [0., 1., 0.],\n",
       "       [0., 1., 0.],\n",
       "       [0., 1., 0.],\n",
       "       [0., 1., 0.],\n",
       "       [0., 1., 0.],\n",
       "       [0., 1., 0.],\n",
       "       [0., 1., 0.],\n",
       "       [0., 1., 0.],\n",
       "       [0., 1., 0.],\n",
       "       [0., 1., 0.],\n",
       "       [0., 1., 0.],\n",
       "       [0., 1., 0.],\n",
       "       [0., 1., 0.],\n",
       "       [0., 1., 0.],\n",
       "       [0., 1., 0.],\n",
       "       [0., 1., 0.],\n",
       "       [0., 1., 0.],\n",
       "       [0., 1., 0.],\n",
       "       [0., 1., 0.],\n",
       "       [0., 1., 0.],\n",
       "       [0., 1., 0.],\n",
       "       [0., 1., 0.],\n",
       "       [0., 1., 0.],\n",
       "       [0., 1., 0.],\n",
       "       [0., 1., 0.],\n",
       "       [0., 1., 0.],\n",
       "       [0., 1., 0.],\n",
       "       [0., 1., 0.],\n",
       "       [0., 1., 0.],\n",
       "       [0., 0., 1.],\n",
       "       [0., 0., 1.],\n",
       "       [0., 0., 1.],\n",
       "       [0., 0., 1.],\n",
       "       [0., 0., 1.],\n",
       "       [0., 0., 1.],\n",
       "       [0., 0., 1.],\n",
       "       [0., 0., 1.],\n",
       "       [0., 0., 1.],\n",
       "       [0., 0., 1.],\n",
       "       [0., 0., 1.],\n",
       "       [0., 0., 1.],\n",
       "       [0., 0., 1.],\n",
       "       [0., 0., 1.],\n",
       "       [0., 0., 1.],\n",
       "       [0., 0., 1.],\n",
       "       [0., 0., 1.],\n",
       "       [0., 0., 1.],\n",
       "       [0., 0., 1.],\n",
       "       [0., 0., 1.],\n",
       "       [0., 0., 1.],\n",
       "       [0., 0., 1.],\n",
       "       [0., 0., 1.],\n",
       "       [0., 0., 1.],\n",
       "       [0., 0., 1.],\n",
       "       [0., 0., 1.],\n",
       "       [0., 0., 1.],\n",
       "       [0., 0., 1.],\n",
       "       [0., 0., 1.],\n",
       "       [0., 0., 1.],\n",
       "       [0., 0., 1.],\n",
       "       [0., 0., 1.],\n",
       "       [0., 0., 1.],\n",
       "       [0., 0., 1.],\n",
       "       [0., 0., 1.],\n",
       "       [0., 0., 1.],\n",
       "       [0., 0., 1.],\n",
       "       [0., 0., 1.],\n",
       "       [0., 0., 1.],\n",
       "       [0., 0., 1.],\n",
       "       [0., 0., 1.],\n",
       "       [0., 0., 1.],\n",
       "       [0., 0., 1.],\n",
       "       [0., 0., 1.],\n",
       "       [0., 0., 1.],\n",
       "       [0., 0., 1.],\n",
       "       [0., 0., 1.],\n",
       "       [0., 0., 1.],\n",
       "       [0., 0., 1.],\n",
       "       [0., 0., 1.]], dtype=float32)"
      ]
     },
     "execution_count": 10,
     "metadata": {},
     "output_type": "execute_result"
    }
   ],
   "source": [
    "from tensorflow.keras.utils import to_categorical\n",
    "\n",
    "OHE_y = to_categorical(LBE_y)\n",
    "\n",
    "OHE_y"
   ]
  },
  {
   "cell_type": "markdown",
   "metadata": {
    "id": "8zievJ6A8dQc"
   },
   "source": [
    "> ## 4) train_test_split( )"
   ]
  },
  {
   "cell_type": "markdown",
   "metadata": {
    "id": "CT8iuCjxJdIn"
   },
   "source": [
    "* 7 : 3"
   ]
  },
  {
   "cell_type": "code",
   "execution_count": null,
   "metadata": {
    "colab": {
     "base_uri": "https://localhost:8080/"
    },
    "executionInfo": {
     "elapsed": 461,
     "status": "ok",
     "timestamp": 1721634028616,
     "user": {
      "displayName": "연샐",
      "userId": "10831208288393304500"
     },
     "user_tz": -540
    },
    "id": "WIiSOik0dGct",
    "outputId": "b3ad55a8-f915-4863-fdf7-0d2be2bd82fd",
    "tags": []
   },
   "outputs": [
    {
     "data": {
      "text/plain": [
       "((105, 4), (45, 4), (105, 3), (45, 3))"
      ]
     },
     "execution_count": 11,
     "metadata": {},
     "output_type": "execute_result"
    }
   ],
   "source": [
    "from sklearn.model_selection import train_test_split\n",
    "\n",
    "X_train, X_test, y_train, y_test = train_test_split(X, OHE_y,\n",
    "                                                    test_size = 0.3,\n",
    "                                                    random_state = 2045)\n",
    "\n",
    "X_train.shape, X_test.shape, y_train.shape, y_test.shape"
   ]
  },
  {
   "cell_type": "code",
   "execution_count": null,
   "metadata": {
    "colab": {
     "base_uri": "https://localhost:8080/",
     "height": 206
    },
    "executionInfo": {
     "elapsed": 3,
     "status": "ok",
     "timestamp": 1721634032036,
     "user": {
      "displayName": "연샐",
      "userId": "10831208288393304500"
     },
     "user_tz": -540
    },
    "id": "TE120SGUP0he",
    "outputId": "a5f6b083-2e28-464a-f6e7-22212aa8ee09",
    "tags": []
   },
   "outputs": [
    {
     "data": {
      "application/vnd.google.colaboratory.intrinsic+json": {
       "summary": "{\n  \"name\": \"X_train\",\n  \"rows\": 105,\n  \"fields\": [\n    {\n      \"column\": \"sepal_length\",\n      \"properties\": {\n        \"dtype\": \"number\",\n        \"std\": 0.822339199018117,\n        \"min\": 4.3,\n        \"max\": 7.9,\n        \"num_unique_values\": 32,\n        \"samples\": [\n          6.9,\n          6.7,\n          6.8\n        ],\n        \"semantic_type\": \"\",\n        \"description\": \"\"\n      }\n    },\n    {\n      \"column\": \"sepal_width\",\n      \"properties\": {\n        \"dtype\": \"number\",\n        \"std\": 0.43566504255451716,\n        \"min\": 2.0,\n        \"max\": 4.2,\n        \"num_unique_values\": 22,\n        \"samples\": [\n          3.5,\n          3.3,\n          3.1\n        ],\n        \"semantic_type\": \"\",\n        \"description\": \"\"\n      }\n    },\n    {\n      \"column\": \"petal_length\",\n      \"properties\": {\n        \"dtype\": \"number\",\n        \"std\": 1.771273108503718,\n        \"min\": 1.0,\n        \"max\": 6.9,\n        \"num_unique_values\": 40,\n        \"samples\": [\n          3.9,\n          5.7,\n          5.8\n        ],\n        \"semantic_type\": \"\",\n        \"description\": \"\"\n      }\n    },\n    {\n      \"column\": \"petal_width\",\n      \"properties\": {\n        \"dtype\": \"number\",\n        \"std\": 0.7596533815321697,\n        \"min\": 0.1,\n        \"max\": 2.5,\n        \"num_unique_values\": 21,\n        \"samples\": [\n          0.3,\n          1.7,\n          0.4\n        ],\n        \"semantic_type\": \"\",\n        \"description\": \"\"\n      }\n    }\n  ]\n}",
       "type": "dataframe",
       "variable_name": "X_train"
      },
      "text/html": [
       "\n",
       "  <div id=\"df-e731ad95-add0-47f0-b428-1e610d34d630\" class=\"colab-df-container\">\n",
       "    <div>\n",
       "<style scoped>\n",
       "    .dataframe tbody tr th:only-of-type {\n",
       "        vertical-align: middle;\n",
       "    }\n",
       "\n",
       "    .dataframe tbody tr th {\n",
       "        vertical-align: top;\n",
       "    }\n",
       "\n",
       "    .dataframe thead th {\n",
       "        text-align: right;\n",
       "    }\n",
       "</style>\n",
       "<table border=\"1\" class=\"dataframe\">\n",
       "  <thead>\n",
       "    <tr style=\"text-align: right;\">\n",
       "      <th></th>\n",
       "      <th>sepal_length</th>\n",
       "      <th>sepal_width</th>\n",
       "      <th>petal_length</th>\n",
       "      <th>petal_width</th>\n",
       "    </tr>\n",
       "  </thead>\n",
       "  <tbody>\n",
       "    <tr>\n",
       "      <th>40</th>\n",
       "      <td>5.0</td>\n",
       "      <td>3.5</td>\n",
       "      <td>1.3</td>\n",
       "      <td>0.3</td>\n",
       "    </tr>\n",
       "    <tr>\n",
       "      <th>83</th>\n",
       "      <td>6.0</td>\n",
       "      <td>2.7</td>\n",
       "      <td>5.1</td>\n",
       "      <td>1.6</td>\n",
       "    </tr>\n",
       "    <tr>\n",
       "      <th>110</th>\n",
       "      <td>6.5</td>\n",
       "      <td>3.2</td>\n",
       "      <td>5.1</td>\n",
       "      <td>2.0</td>\n",
       "    </tr>\n",
       "    <tr>\n",
       "      <th>78</th>\n",
       "      <td>6.0</td>\n",
       "      <td>2.9</td>\n",
       "      <td>4.5</td>\n",
       "      <td>1.5</td>\n",
       "    </tr>\n",
       "    <tr>\n",
       "      <th>93</th>\n",
       "      <td>5.0</td>\n",
       "      <td>2.3</td>\n",
       "      <td>3.3</td>\n",
       "      <td>1.0</td>\n",
       "    </tr>\n",
       "  </tbody>\n",
       "</table>\n",
       "</div>\n",
       "    <div class=\"colab-df-buttons\">\n",
       "\n",
       "  <div class=\"colab-df-container\">\n",
       "    <button class=\"colab-df-convert\" onclick=\"convertToInteractive('df-e731ad95-add0-47f0-b428-1e610d34d630')\"\n",
       "            title=\"Convert this dataframe to an interactive table.\"\n",
       "            style=\"display:none;\">\n",
       "\n",
       "  <svg xmlns=\"http://www.w3.org/2000/svg\" height=\"24px\" viewBox=\"0 -960 960 960\">\n",
       "    <path d=\"M120-120v-720h720v720H120Zm60-500h600v-160H180v160Zm220 220h160v-160H400v160Zm0 220h160v-160H400v160ZM180-400h160v-160H180v160Zm440 0h160v-160H620v160ZM180-180h160v-160H180v160Zm440 0h160v-160H620v160Z\"/>\n",
       "  </svg>\n",
       "    </button>\n",
       "\n",
       "  <style>\n",
       "    .colab-df-container {\n",
       "      display:flex;\n",
       "      gap: 12px;\n",
       "    }\n",
       "\n",
       "    .colab-df-convert {\n",
       "      background-color: #E8F0FE;\n",
       "      border: none;\n",
       "      border-radius: 50%;\n",
       "      cursor: pointer;\n",
       "      display: none;\n",
       "      fill: #1967D2;\n",
       "      height: 32px;\n",
       "      padding: 0 0 0 0;\n",
       "      width: 32px;\n",
       "    }\n",
       "\n",
       "    .colab-df-convert:hover {\n",
       "      background-color: #E2EBFA;\n",
       "      box-shadow: 0px 1px 2px rgba(60, 64, 67, 0.3), 0px 1px 3px 1px rgba(60, 64, 67, 0.15);\n",
       "      fill: #174EA6;\n",
       "    }\n",
       "\n",
       "    .colab-df-buttons div {\n",
       "      margin-bottom: 4px;\n",
       "    }\n",
       "\n",
       "    [theme=dark] .colab-df-convert {\n",
       "      background-color: #3B4455;\n",
       "      fill: #D2E3FC;\n",
       "    }\n",
       "\n",
       "    [theme=dark] .colab-df-convert:hover {\n",
       "      background-color: #434B5C;\n",
       "      box-shadow: 0px 1px 3px 1px rgba(0, 0, 0, 0.15);\n",
       "      filter: drop-shadow(0px 1px 2px rgba(0, 0, 0, 0.3));\n",
       "      fill: #FFFFFF;\n",
       "    }\n",
       "  </style>\n",
       "\n",
       "    <script>\n",
       "      const buttonEl =\n",
       "        document.querySelector('#df-e731ad95-add0-47f0-b428-1e610d34d630 button.colab-df-convert');\n",
       "      buttonEl.style.display =\n",
       "        google.colab.kernel.accessAllowed ? 'block' : 'none';\n",
       "\n",
       "      async function convertToInteractive(key) {\n",
       "        const element = document.querySelector('#df-e731ad95-add0-47f0-b428-1e610d34d630');\n",
       "        const dataTable =\n",
       "          await google.colab.kernel.invokeFunction('convertToInteractive',\n",
       "                                                    [key], {});\n",
       "        if (!dataTable) return;\n",
       "\n",
       "        const docLinkHtml = 'Like what you see? Visit the ' +\n",
       "          '<a target=\"_blank\" href=https://colab.research.google.com/notebooks/data_table.ipynb>data table notebook</a>'\n",
       "          + ' to learn more about interactive tables.';\n",
       "        element.innerHTML = '';\n",
       "        dataTable['output_type'] = 'display_data';\n",
       "        await google.colab.output.renderOutput(dataTable, element);\n",
       "        const docLink = document.createElement('div');\n",
       "        docLink.innerHTML = docLinkHtml;\n",
       "        element.appendChild(docLink);\n",
       "      }\n",
       "    </script>\n",
       "  </div>\n",
       "\n",
       "\n",
       "<div id=\"df-507303c4-d83f-4343-aace-0e1bf5ecf2ee\">\n",
       "  <button class=\"colab-df-quickchart\" onclick=\"quickchart('df-507303c4-d83f-4343-aace-0e1bf5ecf2ee')\"\n",
       "            title=\"Suggest charts\"\n",
       "            style=\"display:none;\">\n",
       "\n",
       "<svg xmlns=\"http://www.w3.org/2000/svg\" height=\"24px\"viewBox=\"0 0 24 24\"\n",
       "     width=\"24px\">\n",
       "    <g>\n",
       "        <path d=\"M19 3H5c-1.1 0-2 .9-2 2v14c0 1.1.9 2 2 2h14c1.1 0 2-.9 2-2V5c0-1.1-.9-2-2-2zM9 17H7v-7h2v7zm4 0h-2V7h2v10zm4 0h-2v-4h2v4z\"/>\n",
       "    </g>\n",
       "</svg>\n",
       "  </button>\n",
       "\n",
       "<style>\n",
       "  .colab-df-quickchart {\n",
       "      --bg-color: #E8F0FE;\n",
       "      --fill-color: #1967D2;\n",
       "      --hover-bg-color: #E2EBFA;\n",
       "      --hover-fill-color: #174EA6;\n",
       "      --disabled-fill-color: #AAA;\n",
       "      --disabled-bg-color: #DDD;\n",
       "  }\n",
       "\n",
       "  [theme=dark] .colab-df-quickchart {\n",
       "      --bg-color: #3B4455;\n",
       "      --fill-color: #D2E3FC;\n",
       "      --hover-bg-color: #434B5C;\n",
       "      --hover-fill-color: #FFFFFF;\n",
       "      --disabled-bg-color: #3B4455;\n",
       "      --disabled-fill-color: #666;\n",
       "  }\n",
       "\n",
       "  .colab-df-quickchart {\n",
       "    background-color: var(--bg-color);\n",
       "    border: none;\n",
       "    border-radius: 50%;\n",
       "    cursor: pointer;\n",
       "    display: none;\n",
       "    fill: var(--fill-color);\n",
       "    height: 32px;\n",
       "    padding: 0;\n",
       "    width: 32px;\n",
       "  }\n",
       "\n",
       "  .colab-df-quickchart:hover {\n",
       "    background-color: var(--hover-bg-color);\n",
       "    box-shadow: 0 1px 2px rgba(60, 64, 67, 0.3), 0 1px 3px 1px rgba(60, 64, 67, 0.15);\n",
       "    fill: var(--button-hover-fill-color);\n",
       "  }\n",
       "\n",
       "  .colab-df-quickchart-complete:disabled,\n",
       "  .colab-df-quickchart-complete:disabled:hover {\n",
       "    background-color: var(--disabled-bg-color);\n",
       "    fill: var(--disabled-fill-color);\n",
       "    box-shadow: none;\n",
       "  }\n",
       "\n",
       "  .colab-df-spinner {\n",
       "    border: 2px solid var(--fill-color);\n",
       "    border-color: transparent;\n",
       "    border-bottom-color: var(--fill-color);\n",
       "    animation:\n",
       "      spin 1s steps(1) infinite;\n",
       "  }\n",
       "\n",
       "  @keyframes spin {\n",
       "    0% {\n",
       "      border-color: transparent;\n",
       "      border-bottom-color: var(--fill-color);\n",
       "      border-left-color: var(--fill-color);\n",
       "    }\n",
       "    20% {\n",
       "      border-color: transparent;\n",
       "      border-left-color: var(--fill-color);\n",
       "      border-top-color: var(--fill-color);\n",
       "    }\n",
       "    30% {\n",
       "      border-color: transparent;\n",
       "      border-left-color: var(--fill-color);\n",
       "      border-top-color: var(--fill-color);\n",
       "      border-right-color: var(--fill-color);\n",
       "    }\n",
       "    40% {\n",
       "      border-color: transparent;\n",
       "      border-right-color: var(--fill-color);\n",
       "      border-top-color: var(--fill-color);\n",
       "    }\n",
       "    60% {\n",
       "      border-color: transparent;\n",
       "      border-right-color: var(--fill-color);\n",
       "    }\n",
       "    80% {\n",
       "      border-color: transparent;\n",
       "      border-right-color: var(--fill-color);\n",
       "      border-bottom-color: var(--fill-color);\n",
       "    }\n",
       "    90% {\n",
       "      border-color: transparent;\n",
       "      border-bottom-color: var(--fill-color);\n",
       "    }\n",
       "  }\n",
       "</style>\n",
       "\n",
       "  <script>\n",
       "    async function quickchart(key) {\n",
       "      const quickchartButtonEl =\n",
       "        document.querySelector('#' + key + ' button');\n",
       "      quickchartButtonEl.disabled = true;  // To prevent multiple clicks.\n",
       "      quickchartButtonEl.classList.add('colab-df-spinner');\n",
       "      try {\n",
       "        const charts = await google.colab.kernel.invokeFunction(\n",
       "            'suggestCharts', [key], {});\n",
       "      } catch (error) {\n",
       "        console.error('Error during call to suggestCharts:', error);\n",
       "      }\n",
       "      quickchartButtonEl.classList.remove('colab-df-spinner');\n",
       "      quickchartButtonEl.classList.add('colab-df-quickchart-complete');\n",
       "    }\n",
       "    (() => {\n",
       "      let quickchartButtonEl =\n",
       "        document.querySelector('#df-507303c4-d83f-4343-aace-0e1bf5ecf2ee button');\n",
       "      quickchartButtonEl.style.display =\n",
       "        google.colab.kernel.accessAllowed ? 'block' : 'none';\n",
       "    })();\n",
       "  </script>\n",
       "</div>\n",
       "\n",
       "    </div>\n",
       "  </div>\n"
      ],
      "text/plain": [
       "     sepal_length  sepal_width  petal_length  petal_width\n",
       "40            5.0          3.5           1.3          0.3\n",
       "83            6.0          2.7           5.1          1.6\n",
       "110           6.5          3.2           5.1          2.0\n",
       "78            6.0          2.9           4.5          1.5\n",
       "93            5.0          2.3           3.3          1.0"
      ]
     },
     "execution_count": 12,
     "metadata": {},
     "output_type": "execute_result"
    }
   ],
   "source": [
    "X_train.head()"
   ]
  },
  {
   "cell_type": "code",
   "execution_count": null,
   "metadata": {
    "colab": {
     "base_uri": "https://localhost:8080/"
    },
    "executionInfo": {
     "elapsed": 467,
     "status": "ok",
     "timestamp": 1721634092247,
     "user": {
      "displayName": "연샐",
      "userId": "10831208288393304500"
     },
     "user_tz": -540
    },
    "id": "_uC3IvDyYqCm",
    "outputId": "9016b2b7-a8a6-4b05-b5e0-a63b0c9e1226"
   },
   "outputs": [
    {
     "data": {
      "text/plain": [
       "array([[1., 0., 0.],\n",
       "       [0., 1., 0.],\n",
       "       [0., 0., 1.],\n",
       "       [0., 1., 0.],\n",
       "       [0., 1., 0.]], dtype=float32)"
      ]
     },
     "execution_count": 16,
     "metadata": {},
     "output_type": "execute_result"
    }
   ],
   "source": [
    "y_train[:5]"
   ]
  },
  {
   "cell_type": "markdown",
   "metadata": {
    "id": "_WuSRwBd8oxV"
   },
   "source": [
    "# II. Keras Modeling"
   ]
  },
  {
   "cell_type": "markdown",
   "metadata": {
    "id": "5RHmF1kr9heb"
   },
   "source": [
    "> ## 1) Keras models & layers import"
   ]
  },
  {
   "cell_type": "code",
   "execution_count": null,
   "metadata": {
    "id": "K0DN73_6duqG",
    "tags": []
   },
   "outputs": [],
   "source": [
    "from tensorflow.keras import models\n",
    "from tensorflow.keras import layers"
   ]
  },
  {
   "cell_type": "markdown",
   "metadata": {
    "id": "-rDeiCMV-eKV"
   },
   "source": [
    "> ## 2) Model Define"
   ]
  },
  {
   "cell_type": "markdown",
   "metadata": {
    "id": "1ix6_3Tk-yWW"
   },
   "source": [
    "* 모델 신경망 구조 정의"
   ]
  },
  {
   "cell_type": "code",
   "execution_count": null,
   "metadata": {
    "id": "DJ8uzQMSemA-",
    "tags": []
   },
   "outputs": [],
   "source": [
    "Model_iris = models.Sequential() # 순차적 모델\n",
    "\n",
    "# Dense = Fully Connected layer\n",
    "Model_iris.add(layers.Dense(16, activation = 'relu', input_shape = (4,))) # DNN에서 layer을 dense layer라고 함\n",
    "Model_iris.add(layers.Dense(8, activation = 'relu'))\n",
    "Model_iris.add(layers.Dense(3, activation = 'softmax'))"
   ]
  },
  {
   "cell_type": "markdown",
   "metadata": {
    "id": "U0vAUcHx-zdW"
   },
   "source": [
    "* 모델 구조 확인\n",
    " - Layers & Parameters"
   ]
  },
  {
   "cell_type": "code",
   "execution_count": null,
   "metadata": {
    "colab": {
     "base_uri": "https://localhost:8080/"
    },
    "executionInfo": {
     "elapsed": 3,
     "status": "ok",
     "timestamp": 1721634256287,
     "user": {
      "displayName": "연샐",
      "userId": "10831208288393304500"
     },
     "user_tz": -540
    },
    "id": "1sfOdgz2jQeM",
    "outputId": "abfa8eb3-816d-4982-beae-e58accf9365d",
    "tags": []
   },
   "outputs": [
    {
     "name": "stdout",
     "output_type": "stream",
     "text": [
      "Model: \"sequential_1\"\n",
      "_________________________________________________________________\n",
      " Layer (type)                Output Shape              Param #   \n",
      "=================================================================\n",
      " dense_3 (Dense)             (None, 16)                80        \n",
      "                                                                 \n",
      " dense_4 (Dense)             (None, 8)                 136       \n",
      "                                                                 \n",
      " dense_5 (Dense)             (None, 3)                 27        \n",
      "                                                                 \n",
      "=================================================================\n",
      "Total params: 243 (972.00 Byte)\n",
      "Trainable params: 243 (972.00 Byte)\n",
      "Non-trainable params: 0 (0.00 Byte)\n",
      "_________________________________________________________________\n"
     ]
    }
   ],
   "source": [
    "Model_iris.summary()"
   ]
  },
  {
   "cell_type": "markdown",
   "metadata": {
    "id": "j9nJ82S8TmOW"
   },
   "source": [
    "* 모델 레이어 시각화\n",
    "    - 파일로도 저장해준다."
   ]
  },
  {
   "cell_type": "code",
   "execution_count": null,
   "metadata": {
    "colab": {
     "base_uri": "https://localhost:8080/",
     "height": 545
    },
    "executionInfo": {
     "elapsed": 697,
     "status": "ok",
     "timestamp": 1721634261866,
     "user": {
      "displayName": "연샐",
      "userId": "10831208288393304500"
     },
     "user_tz": -540
    },
    "id": "SqtCd2AuTWfv",
    "outputId": "33f6b162-6024-4439-a63e-4ea9ab52a725",
    "tags": []
   },
   "outputs": [
    {
     "data": {
      "image/png": "[encoded data removed]",
      "text/plain": [
       "<IPython.core.display.Image object>"
      ]
     },
     "execution_count": 22,
     "metadata": {},
     "output_type": "execute_result"
    }
   ],
   "source": [
    "from tensorflow.keras import utils\n",
    "\n",
    "utils.plot_model(Model_iris,\n",
    "                 show_shapes = True,\n",
    "                 show_dtype = True)"
   ]
  },
  {
   "cell_type": "code",
   "execution_count": null,
   "metadata": {
    "id": "71_BMtplZoNu"
   },
   "outputs": [],
   "source": [
    "객체 정의(Define)완료"
   ]
  },
  {
   "cell_type": "markdown",
   "metadata": {
    "id": "3jTRDB6y-5Mx"
   },
   "source": [
    "> ## 3) Model Compile"
   ]
  },
  {
   "cell_type": "markdown",
   "metadata": {
    "id": "iixRFcKM_PUJ"
   },
   "source": [
    "* 모델 학습방법 설정"
   ]
  },
  {
   "cell_type": "code",
   "execution_count": null,
   "metadata": {
    "id": "Qe9CXqyKjHhI",
    "tags": []
   },
   "outputs": [],
   "source": [
    "Model_iris.compile(loss = 'categorical_crossentropy', # 다중 분류(softmax)를 하기 위한\n",
    "                   optimizer = 'adam', # gradient descent 방법 정하기\n",
    "                   metrics = ['accuracy'])"
   ]
  },
  {
   "cell_type": "markdown",
   "metadata": {
    "id": "y7zLg_l4_BvM"
   },
   "source": [
    "> ## 4) Model Fit"
   ]
  },
  {
   "cell_type": "markdown",
   "metadata": {
    "id": "BLjGgSpG_UiT"
   },
   "source": [
    "* 모델 학습 수행"
   ]
  },
  {
   "cell_type": "code",
   "execution_count": null,
   "metadata": {
    "collapsed": true,
    "id": "EhnBXGA9P0hh",
    "jupyter": {
     "outputs_hidden": true
    },
    "tags": []
   },
   "outputs": [],
   "source": [
    "Model_iris.fit?"
   ]
  },
  {
   "cell_type": "code",
   "execution_count": null,
   "metadata": {
    "colab": {
     "base_uri": "https://localhost:8080/"
    },
    "executionInfo": {
     "elapsed": 42566,
     "status": "ok",
     "timestamp": 1721634460959,
     "user": {
      "displayName": "연샐",
      "userId": "10831208288393304500"
     },
     "user_tz": -540
    },
    "id": "1J-5DPpUjKPZ",
    "outputId": "8178cb29-1200-46b1-9a1b-88f668ce6df2",
    "tags": []
   },
   "outputs": [
    {
     "name": "stdout",
     "output_type": "stream",
     "text": [
      "Epoch 1/250\n",
      "15/15 [==============================] - 2s 32ms/step - loss: 4.3169 - accuracy: 0.3143 - val_loss: 3.4001 - val_accuracy: 0.3778\n",
      "Epoch 2/250\n",
      "15/15 [==============================] - 0s 6ms/step - loss: 3.3051 - accuracy: 0.3143 - val_loss: 2.6333 - val_accuracy: 0.3778\n",
      "Epoch 3/250\n",
      "15/15 [==============================] - 0s 6ms/step - loss: 2.6079 - accuracy: 0.3143 - val_loss: 2.1289 - val_accuracy: 0.3333\n",
      "Epoch 4/250\n",
      "15/15 [==============================] - 0s 8ms/step - loss: 2.1119 - accuracy: 0.1048 - val_loss: 1.8153 - val_accuracy: 0.0222\n",
      "Epoch 5/250\n",
      "15/15 [==============================] - 0s 6ms/step - loss: 1.7834 - accuracy: 0.0381 - val_loss: 1.5675 - val_accuracy: 0.0444\n",
      "Epoch 6/250\n",
      "15/15 [==============================] - 0s 6ms/step - loss: 1.5599 - accuracy: 0.1333 - val_loss: 1.4306 - val_accuracy: 0.1778\n",
      "Epoch 7/250\n",
      "15/15 [==============================] - 0s 6ms/step - loss: 1.3623 - accuracy: 0.3333 - val_loss: 1.2634 - val_accuracy: 0.3111\n",
      "Epoch 8/250\n",
      "15/15 [==============================] - 0s 7ms/step - loss: 1.2039 - accuracy: 0.3429 - val_loss: 1.1588 - val_accuracy: 0.3111\n",
      "Epoch 9/250\n",
      "15/15 [==============================] - 0s 6ms/step - loss: 1.1309 - accuracy: 0.3429 - val_loss: 1.1189 - val_accuracy: 0.3111\n",
      "Epoch 10/250\n",
      "15/15 [==============================] - 0s 8ms/step - loss: 1.0989 - accuracy: 0.3429 - val_loss: 1.1086 - val_accuracy: 0.3111\n",
      "Epoch 11/250\n",
      "15/15 [==============================] - 0s 6ms/step - loss: 1.0954 - accuracy: 0.3429 - val_loss: 1.1072 - val_accuracy: 0.3111\n",
      "Epoch 12/250\n",
      "15/15 [==============================] - 0s 7ms/step - loss: 1.0943 - accuracy: 0.3429 - val_loss: 1.1055 - val_accuracy: 0.3111\n",
      "Epoch 13/250\n",
      "15/15 [==============================] - 0s 7ms/step - loss: 1.0917 - accuracy: 0.3429 - val_loss: 1.1045 - val_accuracy: 0.3111\n",
      "Epoch 14/250\n",
      "15/15 [==============================] - 0s 13ms/step - loss: 1.0905 - accuracy: 0.3143 - val_loss: 1.1029 - val_accuracy: 0.2667\n",
      "Epoch 15/250\n",
      "15/15 [==============================] - 0s 6ms/step - loss: 1.0886 - accuracy: 0.1810 - val_loss: 1.1016 - val_accuracy: 0.1556\n",
      "Epoch 16/250\n",
      "15/15 [==============================] - 0s 7ms/step - loss: 1.0868 - accuracy: 0.1333 - val_loss: 1.1002 - val_accuracy: 0.1556\n",
      "Epoch 17/250\n",
      "15/15 [==============================] - 0s 7ms/step - loss: 1.0857 - accuracy: 0.2762 - val_loss: 1.0987 - val_accuracy: 0.3111\n",
      "Epoch 18/250\n",
      "15/15 [==============================] - 0s 7ms/step - loss: 1.0830 - accuracy: 0.3429 - val_loss: 1.0972 - val_accuracy: 0.3111\n",
      "Epoch 19/250\n",
      "15/15 [==============================] - 0s 9ms/step - loss: 1.0812 - accuracy: 0.3429 - val_loss: 1.0954 - val_accuracy: 0.3111\n",
      "Epoch 20/250\n",
      "15/15 [==============================] - 0s 8ms/step - loss: 1.0792 - accuracy: 0.3429 - val_loss: 1.0937 - val_accuracy: 0.3111\n",
      "Epoch 21/250\n",
      "15/15 [==============================] - 0s 8ms/step - loss: 1.0765 - accuracy: 0.3429 - val_loss: 1.0915 - val_accuracy: 0.3111\n",
      "Epoch 22/250\n",
      "15/15 [==============================] - 0s 12ms/step - loss: 1.0737 - accuracy: 0.3429 - val_loss: 1.0887 - val_accuracy: 0.3111\n",
      "Epoch 23/250\n",
      "15/15 [==============================] - 0s 7ms/step - loss: 1.0713 - accuracy: 0.3429 - val_loss: 1.0853 - val_accuracy: 0.3111\n",
      "Epoch 24/250\n",
      "15/15 [==============================] - 0s 5ms/step - loss: 1.0674 - accuracy: 0.3429 - val_loss: 1.0823 - val_accuracy: 0.3111\n",
      "Epoch 25/250\n",
      "15/15 [==============================] - 0s 5ms/step - loss: 1.0643 - accuracy: 0.3429 - val_loss: 1.0790 - val_accuracy: 0.3111\n",
      "Epoch 26/250\n",
      "15/15 [==============================] - 0s 5ms/step - loss: 1.0598 - accuracy: 0.3429 - val_loss: 1.0746 - val_accuracy: 0.3111\n",
      "Epoch 27/250\n",
      "15/15 [==============================] - 0s 5ms/step - loss: 1.0553 - accuracy: 0.3429 - val_loss: 1.0700 - val_accuracy: 0.3111\n",
      "Epoch 28/250\n",
      "15/15 [==============================] - 0s 5ms/step - loss: 1.0502 - accuracy: 0.3429 - val_loss: 1.0650 - val_accuracy: 0.3111\n",
      "Epoch 29/250\n",
      "15/15 [==============================] - 0s 5ms/step - loss: 1.0452 - accuracy: 0.3429 - val_loss: 1.0583 - val_accuracy: 0.3111\n",
      "Epoch 30/250\n",
      "15/15 [==============================] - 0s 10ms/step - loss: 1.0384 - accuracy: 0.3429 - val_loss: 1.0515 - val_accuracy: 0.3111\n",
      "Epoch 31/250\n",
      "15/15 [==============================] - 0s 11ms/step - loss: 1.0314 - accuracy: 0.3429 - val_loss: 1.0443 - val_accuracy: 0.3111\n",
      "Epoch 32/250\n",
      "15/15 [==============================] - 0s 7ms/step - loss: 1.0232 - accuracy: 0.3429 - val_loss: 1.0353 - val_accuracy: 0.3111\n",
      "Epoch 33/250\n",
      "15/15 [==============================] - 0s 8ms/step - loss: 1.0143 - accuracy: 0.3429 - val_loss: 1.0254 - val_accuracy: 0.3111\n",
      "Epoch 34/250\n",
      "15/15 [==============================] - 0s 7ms/step - loss: 1.0052 - accuracy: 0.3429 - val_loss: 1.0135 - val_accuracy: 0.3111\n",
      "Epoch 35/250\n",
      "15/15 [==============================] - 0s 28ms/step - loss: 0.9939 - accuracy: 0.3429 - val_loss: 1.0023 - val_accuracy: 0.3111\n",
      "Epoch 36/250\n",
      "15/15 [==============================] - 0s 33ms/step - loss: 0.9834 - accuracy: 0.3429 - val_loss: 0.9924 - val_accuracy: 0.3111\n",
      "Epoch 37/250\n",
      "15/15 [==============================] - 0s 7ms/step - loss: 0.9729 - accuracy: 0.3429 - val_loss: 0.9815 - val_accuracy: 0.3111\n",
      "Epoch 38/250\n",
      "15/15 [==============================] - 0s 7ms/step - loss: 0.9619 - accuracy: 0.3905 - val_loss: 0.9731 - val_accuracy: 0.3333\n",
      "Epoch 39/250\n",
      "15/15 [==============================] - 0s 7ms/step - loss: 0.9512 - accuracy: 0.4667 - val_loss: 0.9608 - val_accuracy: 0.4444\n",
      "Epoch 40/250\n",
      "15/15 [==============================] - 0s 12ms/step - loss: 0.9397 - accuracy: 0.5905 - val_loss: 0.9506 - val_accuracy: 0.5111\n",
      "Epoch 41/250\n",
      "15/15 [==============================] - 0s 28ms/step - loss: 0.9282 - accuracy: 0.5905 - val_loss: 0.9407 - val_accuracy: 0.6222\n",
      "Epoch 42/250\n",
      "15/15 [==============================] - 0s 16ms/step - loss: 0.9175 - accuracy: 0.6190 - val_loss: 0.9308 - val_accuracy: 0.6222\n",
      "Epoch 43/250\n",
      "15/15 [==============================] - 0s 8ms/step - loss: 0.9071 - accuracy: 0.6190 - val_loss: 0.9194 - val_accuracy: 0.6667\n",
      "Epoch 44/250\n",
      "15/15 [==============================] - 0s 21ms/step - loss: 0.8966 - accuracy: 0.6190 - val_loss: 0.9112 - val_accuracy: 0.6667\n",
      "Epoch 45/250\n",
      "15/15 [==============================] - 0s 21ms/step - loss: 0.8870 - accuracy: 0.6190 - val_loss: 0.9025 - val_accuracy: 0.6667\n",
      "Epoch 46/250\n",
      "15/15 [==============================] - 0s 23ms/step - loss: 0.8783 - accuracy: 0.6190 - val_loss: 0.8935 - val_accuracy: 0.6667\n",
      "Epoch 47/250\n",
      "15/15 [==============================] - 0s 20ms/step - loss: 0.8690 - accuracy: 0.6286 - val_loss: 0.8835 - val_accuracy: 0.6667\n",
      "Epoch 48/250\n",
      "15/15 [==============================] - 0s 31ms/step - loss: 0.8606 - accuracy: 0.6286 - val_loss: 0.8770 - val_accuracy: 0.6667\n",
      "Epoch 49/250\n",
      "15/15 [==============================] - 0s 10ms/step - loss: 0.8533 - accuracy: 0.6286 - val_loss: 0.8681 - val_accuracy: 0.6667\n",
      "Epoch 50/250\n",
      "15/15 [==============================] - 0s 12ms/step - loss: 0.8448 - accuracy: 0.6381 - val_loss: 0.8600 - val_accuracy: 0.6667\n",
      "Epoch 51/250\n",
      "15/15 [==============================] - 0s 12ms/step - loss: 0.8375 - accuracy: 0.6381 - val_loss: 0.8523 - val_accuracy: 0.6667\n",
      "Epoch 52/250\n",
      "15/15 [==============================] - 0s 16ms/step - loss: 0.8305 - accuracy: 0.6476 - val_loss: 0.8427 - val_accuracy: 0.6889\n",
      "Epoch 53/250\n",
      "15/15 [==============================] - 0s 8ms/step - loss: 0.8232 - accuracy: 0.6571 - val_loss: 0.8369 - val_accuracy: 0.6889\n",
      "Epoch 54/250\n",
      "15/15 [==============================] - 0s 19ms/step - loss: 0.8166 - accuracy: 0.6571 - val_loss: 0.8286 - val_accuracy: 0.6889\n",
      "Epoch 55/250\n",
      "15/15 [==============================] - 0s 15ms/step - loss: 0.8101 - accuracy: 0.6571 - val_loss: 0.8229 - val_accuracy: 0.6889\n",
      "Epoch 56/250\n",
      "15/15 [==============================] - 0s 28ms/step - loss: 0.8041 - accuracy: 0.6571 - val_loss: 0.8153 - val_accuracy: 0.6889\n",
      "Epoch 57/250\n",
      "15/15 [==============================] - 0s 7ms/step - loss: 0.7971 - accuracy: 0.6571 - val_loss: 0.8097 - val_accuracy: 0.6889\n",
      "Epoch 58/250\n",
      "15/15 [==============================] - 0s 11ms/step - loss: 0.7914 - accuracy: 0.6571 - val_loss: 0.8035 - val_accuracy: 0.6889\n",
      "Epoch 59/250\n",
      "15/15 [==============================] - 0s 10ms/step - loss: 0.7856 - accuracy: 0.6571 - val_loss: 0.7973 - val_accuracy: 0.6889\n",
      "Epoch 60/250\n",
      "15/15 [==============================] - 0s 12ms/step - loss: 0.7799 - accuracy: 0.6571 - val_loss: 0.7904 - val_accuracy: 0.6889\n",
      "Epoch 61/250\n",
      "15/15 [==============================] - 0s 18ms/step - loss: 0.7744 - accuracy: 0.6571 - val_loss: 0.7836 - val_accuracy: 0.6889\n",
      "Epoch 62/250\n",
      "15/15 [==============================] - 0s 10ms/step - loss: 0.7694 - accuracy: 0.6571 - val_loss: 0.7781 - val_accuracy: 0.6889\n",
      "Epoch 63/250\n",
      "15/15 [==============================] - 0s 8ms/step - loss: 0.7637 - accuracy: 0.6571 - val_loss: 0.7734 - val_accuracy: 0.6889\n",
      "Epoch 64/250\n",
      "15/15 [==============================] - 0s 8ms/step - loss: 0.7587 - accuracy: 0.6571 - val_loss: 0.7684 - val_accuracy: 0.6889\n",
      "Epoch 65/250\n",
      "15/15 [==============================] - 0s 10ms/step - loss: 0.7537 - accuracy: 0.6571 - val_loss: 0.7608 - val_accuracy: 0.6889\n",
      "Epoch 66/250\n",
      "15/15 [==============================] - 0s 10ms/step - loss: 0.7482 - accuracy: 0.6571 - val_loss: 0.7555 - val_accuracy: 0.6889\n",
      "Epoch 67/250\n",
      "15/15 [==============================] - 0s 9ms/step - loss: 0.7448 - accuracy: 0.6571 - val_loss: 0.7505 - val_accuracy: 0.6889\n",
      "Epoch 68/250\n",
      "15/15 [==============================] - 0s 8ms/step - loss: 0.7390 - accuracy: 0.6571 - val_loss: 0.7453 - val_accuracy: 0.6889\n",
      "Epoch 69/250\n",
      "15/15 [==============================] - 0s 10ms/step - loss: 0.7349 - accuracy: 0.6571 - val_loss: 0.7403 - val_accuracy: 0.6889\n",
      "Epoch 70/250\n",
      "15/15 [==============================] - 0s 9ms/step - loss: 0.7295 - accuracy: 0.6571 - val_loss: 0.7354 - val_accuracy: 0.6889\n",
      "Epoch 71/250\n",
      "15/15 [==============================] - 0s 10ms/step - loss: 0.7250 - accuracy: 0.6571 - val_loss: 0.7303 - val_accuracy: 0.6889\n",
      "Epoch 72/250\n",
      "15/15 [==============================] - 0s 8ms/step - loss: 0.7203 - accuracy: 0.6571 - val_loss: 0.7257 - val_accuracy: 0.6889\n",
      "Epoch 73/250\n",
      "15/15 [==============================] - 0s 7ms/step - loss: 0.7162 - accuracy: 0.6571 - val_loss: 0.7209 - val_accuracy: 0.6889\n",
      "Epoch 74/250\n",
      "15/15 [==============================] - 0s 12ms/step - loss: 0.7122 - accuracy: 0.6571 - val_loss: 0.7163 - val_accuracy: 0.6889\n",
      "Epoch 75/250\n",
      "15/15 [==============================] - 0s 11ms/step - loss: 0.7076 - accuracy: 0.6571 - val_loss: 0.7119 - val_accuracy: 0.6889\n",
      "Epoch 76/250\n",
      "15/15 [==============================] - 0s 10ms/step - loss: 0.7043 - accuracy: 0.6571 - val_loss: 0.7073 - val_accuracy: 0.6889\n",
      "Epoch 77/250\n",
      "15/15 [==============================] - 0s 11ms/step - loss: 0.6996 - accuracy: 0.6571 - val_loss: 0.7027 - val_accuracy: 0.6889\n",
      "Epoch 78/250\n",
      "15/15 [==============================] - 0s 9ms/step - loss: 0.6953 - accuracy: 0.6571 - val_loss: 0.6982 - val_accuracy: 0.6889\n",
      "Epoch 79/250\n",
      "15/15 [==============================] - 0s 7ms/step - loss: 0.6908 - accuracy: 0.6571 - val_loss: 0.6941 - val_accuracy: 0.6889\n",
      "Epoch 80/250\n",
      "15/15 [==============================] - 0s 10ms/step - loss: 0.6876 - accuracy: 0.6571 - val_loss: 0.6898 - val_accuracy: 0.6889\n",
      "Epoch 81/250\n",
      "15/15 [==============================] - 0s 8ms/step - loss: 0.6834 - accuracy: 0.6571 - val_loss: 0.6855 - val_accuracy: 0.6889\n",
      "Epoch 82/250\n",
      "15/15 [==============================] - 0s 12ms/step - loss: 0.6802 - accuracy: 0.6571 - val_loss: 0.6815 - val_accuracy: 0.6889\n",
      "Epoch 83/250\n",
      "15/15 [==============================] - 0s 9ms/step - loss: 0.6761 - accuracy: 0.6571 - val_loss: 0.6772 - val_accuracy: 0.6889\n",
      "Epoch 84/250\n",
      "15/15 [==============================] - 0s 7ms/step - loss: 0.6727 - accuracy: 0.6571 - val_loss: 0.6732 - val_accuracy: 0.6889\n",
      "Epoch 85/250\n",
      "15/15 [==============================] - 0s 8ms/step - loss: 0.6695 - accuracy: 0.6571 - val_loss: 0.6693 - val_accuracy: 0.6889\n",
      "Epoch 86/250\n",
      "15/15 [==============================] - 0s 7ms/step - loss: 0.6667 - accuracy: 0.6571 - val_loss: 0.6658 - val_accuracy: 0.6889\n",
      "Epoch 87/250\n",
      "15/15 [==============================] - 0s 7ms/step - loss: 0.6617 - accuracy: 0.6571 - val_loss: 0.6618 - val_accuracy: 0.6889\n",
      "Epoch 88/250\n",
      "15/15 [==============================] - 0s 15ms/step - loss: 0.6588 - accuracy: 0.6571 - val_loss: 0.6580 - val_accuracy: 0.6889\n",
      "Epoch 89/250\n",
      "15/15 [==============================] - 0s 16ms/step - loss: 0.6561 - accuracy: 0.6571 - val_loss: 0.6543 - val_accuracy: 0.7111\n",
      "Epoch 90/250\n",
      "15/15 [==============================] - 0s 7ms/step - loss: 0.6523 - accuracy: 0.6571 - val_loss: 0.6507 - val_accuracy: 0.7111\n",
      "Epoch 91/250\n",
      "15/15 [==============================] - 0s 7ms/step - loss: 0.6486 - accuracy: 0.6571 - val_loss: 0.6472 - val_accuracy: 0.7111\n",
      "Epoch 92/250\n",
      "15/15 [==============================] - 0s 10ms/step - loss: 0.6451 - accuracy: 0.6571 - val_loss: 0.6438 - val_accuracy: 0.6889\n",
      "Epoch 93/250\n",
      "15/15 [==============================] - 0s 8ms/step - loss: 0.6427 - accuracy: 0.6571 - val_loss: 0.6402 - val_accuracy: 0.6889\n",
      "Epoch 94/250\n",
      "15/15 [==============================] - 0s 12ms/step - loss: 0.6393 - accuracy: 0.6571 - val_loss: 0.6369 - val_accuracy: 0.6889\n",
      "Epoch 95/250\n",
      "15/15 [==============================] - 0s 7ms/step - loss: 0.6363 - accuracy: 0.6571 - val_loss: 0.6335 - val_accuracy: 0.7111\n",
      "Epoch 96/250\n",
      "15/15 [==============================] - 0s 9ms/step - loss: 0.6332 - accuracy: 0.6571 - val_loss: 0.6301 - val_accuracy: 0.7111\n",
      "Epoch 97/250\n",
      "15/15 [==============================] - 0s 7ms/step - loss: 0.6299 - accuracy: 0.6571 - val_loss: 0.6271 - val_accuracy: 0.7111\n",
      "Epoch 98/250\n",
      "15/15 [==============================] - 0s 7ms/step - loss: 0.6272 - accuracy: 0.6571 - val_loss: 0.6236 - val_accuracy: 0.7111\n",
      "Epoch 99/250\n",
      "15/15 [==============================] - 0s 7ms/step - loss: 0.6251 - accuracy: 0.6571 - val_loss: 0.6207 - val_accuracy: 0.7111\n",
      "Epoch 100/250\n",
      "15/15 [==============================] - 0s 8ms/step - loss: 0.6213 - accuracy: 0.6571 - val_loss: 0.6173 - val_accuracy: 0.7111\n",
      "Epoch 101/250\n",
      "15/15 [==============================] - 0s 13ms/step - loss: 0.6187 - accuracy: 0.6571 - val_loss: 0.6141 - val_accuracy: 0.7111\n",
      "Epoch 102/250\n",
      "15/15 [==============================] - 0s 10ms/step - loss: 0.6159 - accuracy: 0.6571 - val_loss: 0.6112 - val_accuracy: 0.7111\n",
      "Epoch 103/250\n",
      "15/15 [==============================] - 0s 11ms/step - loss: 0.6135 - accuracy: 0.6571 - val_loss: 0.6082 - val_accuracy: 0.7111\n",
      "Epoch 104/250\n",
      "15/15 [==============================] - 0s 22ms/step - loss: 0.6102 - accuracy: 0.6571 - val_loss: 0.6051 - val_accuracy: 0.7111\n",
      "Epoch 105/250\n",
      "15/15 [==============================] - 0s 26ms/step - loss: 0.6080 - accuracy: 0.6571 - val_loss: 0.6024 - val_accuracy: 0.7111\n",
      "Epoch 106/250\n",
      "15/15 [==============================] - 0s 10ms/step - loss: 0.6047 - accuracy: 0.6667 - val_loss: 0.5995 - val_accuracy: 0.7111\n",
      "Epoch 107/250\n",
      "15/15 [==============================] - 0s 9ms/step - loss: 0.6024 - accuracy: 0.6762 - val_loss: 0.5966 - val_accuracy: 0.7111\n",
      "Epoch 108/250\n",
      "15/15 [==============================] - 0s 7ms/step - loss: 0.5997 - accuracy: 0.6857 - val_loss: 0.5937 - val_accuracy: 0.7111\n",
      "Epoch 109/250\n",
      "15/15 [==============================] - 0s 6ms/step - loss: 0.5972 - accuracy: 0.6857 - val_loss: 0.5909 - val_accuracy: 0.7111\n",
      "Epoch 110/250\n",
      "15/15 [==============================] - 0s 7ms/step - loss: 0.5954 - accuracy: 0.6857 - val_loss: 0.5883 - val_accuracy: 0.7111\n",
      "Epoch 111/250\n",
      "15/15 [==============================] - 0s 10ms/step - loss: 0.5924 - accuracy: 0.6857 - val_loss: 0.5855 - val_accuracy: 0.7111\n",
      "Epoch 112/250\n",
      "15/15 [==============================] - 0s 9ms/step - loss: 0.5900 - accuracy: 0.6857 - val_loss: 0.5828 - val_accuracy: 0.7111\n",
      "Epoch 113/250\n",
      "15/15 [==============================] - 0s 9ms/step - loss: 0.5892 - accuracy: 0.6667 - val_loss: 0.5805 - val_accuracy: 0.7111\n",
      "Epoch 114/250\n",
      "15/15 [==============================] - 0s 7ms/step - loss: 0.5872 - accuracy: 0.6857 - val_loss: 0.5776 - val_accuracy: 0.7111\n",
      "Epoch 115/250\n",
      "15/15 [==============================] - 0s 7ms/step - loss: 0.5844 - accuracy: 0.6857 - val_loss: 0.5751 - val_accuracy: 0.7333\n",
      "Epoch 116/250\n",
      "15/15 [==============================] - 0s 7ms/step - loss: 0.5806 - accuracy: 0.6857 - val_loss: 0.5724 - val_accuracy: 0.7111\n",
      "Epoch 117/250\n",
      "15/15 [==============================] - 0s 7ms/step - loss: 0.5785 - accuracy: 0.6857 - val_loss: 0.5699 - val_accuracy: 0.7111\n",
      "Epoch 118/250\n",
      "15/15 [==============================] - 0s 6ms/step - loss: 0.5761 - accuracy: 0.6857 - val_loss: 0.5674 - val_accuracy: 0.7111\n",
      "Epoch 119/250\n",
      "15/15 [==============================] - 0s 7ms/step - loss: 0.5736 - accuracy: 0.6857 - val_loss: 0.5649 - val_accuracy: 0.7111\n",
      "Epoch 120/250\n",
      "15/15 [==============================] - 0s 7ms/step - loss: 0.5712 - accuracy: 0.6857 - val_loss: 0.5626 - val_accuracy: 0.7333\n",
      "Epoch 121/250\n",
      "15/15 [==============================] - 0s 9ms/step - loss: 0.5704 - accuracy: 0.6857 - val_loss: 0.5600 - val_accuracy: 0.7333\n",
      "Epoch 122/250\n",
      "15/15 [==============================] - 0s 8ms/step - loss: 0.5670 - accuracy: 0.6952 - val_loss: 0.5577 - val_accuracy: 0.7333\n",
      "Epoch 123/250\n",
      "15/15 [==============================] - 0s 8ms/step - loss: 0.5655 - accuracy: 0.7048 - val_loss: 0.5554 - val_accuracy: 0.7333\n",
      "Epoch 124/250\n",
      "15/15 [==============================] - 0s 6ms/step - loss: 0.5630 - accuracy: 0.7143 - val_loss: 0.5529 - val_accuracy: 0.7333\n",
      "Epoch 125/250\n",
      "15/15 [==============================] - 0s 8ms/step - loss: 0.5608 - accuracy: 0.6952 - val_loss: 0.5508 - val_accuracy: 0.7111\n",
      "Epoch 126/250\n",
      "15/15 [==============================] - 0s 7ms/step - loss: 0.5589 - accuracy: 0.6857 - val_loss: 0.5484 - val_accuracy: 0.7111\n",
      "Epoch 127/250\n",
      "15/15 [==============================] - 0s 7ms/step - loss: 0.5564 - accuracy: 0.6857 - val_loss: 0.5460 - val_accuracy: 0.7333\n",
      "Epoch 128/250\n",
      "15/15 [==============================] - 0s 9ms/step - loss: 0.5542 - accuracy: 0.7048 - val_loss: 0.5436 - val_accuracy: 0.7333\n",
      "Epoch 129/250\n",
      "15/15 [==============================] - 0s 17ms/step - loss: 0.5523 - accuracy: 0.7048 - val_loss: 0.5414 - val_accuracy: 0.7333\n",
      "Epoch 130/250\n",
      "15/15 [==============================] - 0s 9ms/step - loss: 0.5502 - accuracy: 0.7048 - val_loss: 0.5391 - val_accuracy: 0.7333\n",
      "Epoch 131/250\n",
      "15/15 [==============================] - 0s 16ms/step - loss: 0.5485 - accuracy: 0.7238 - val_loss: 0.5369 - val_accuracy: 0.7778\n",
      "Epoch 132/250\n",
      "15/15 [==============================] - 0s 17ms/step - loss: 0.5459 - accuracy: 0.7143 - val_loss: 0.5346 - val_accuracy: 0.7333\n",
      "Epoch 133/250\n",
      "15/15 [==============================] - 0s 24ms/step - loss: 0.5438 - accuracy: 0.7048 - val_loss: 0.5324 - val_accuracy: 0.7333\n",
      "Epoch 134/250\n",
      "15/15 [==============================] - 0s 17ms/step - loss: 0.5421 - accuracy: 0.7238 - val_loss: 0.5302 - val_accuracy: 0.7556\n",
      "Epoch 135/250\n",
      "15/15 [==============================] - 0s 7ms/step - loss: 0.5396 - accuracy: 0.7238 - val_loss: 0.5280 - val_accuracy: 0.7333\n",
      "Epoch 136/250\n",
      "15/15 [==============================] - 0s 12ms/step - loss: 0.5376 - accuracy: 0.7333 - val_loss: 0.5258 - val_accuracy: 0.7778\n",
      "Epoch 137/250\n",
      "15/15 [==============================] - 0s 8ms/step - loss: 0.5356 - accuracy: 0.7333 - val_loss: 0.5236 - val_accuracy: 0.7778\n",
      "Epoch 138/250\n",
      "15/15 [==============================] - 0s 19ms/step - loss: 0.5346 - accuracy: 0.7333 - val_loss: 0.5215 - val_accuracy: 0.7778\n",
      "Epoch 139/250\n",
      "15/15 [==============================] - 0s 8ms/step - loss: 0.5327 - accuracy: 0.7048 - val_loss: 0.5195 - val_accuracy: 0.7333\n",
      "Epoch 140/250\n",
      "15/15 [==============================] - 0s 8ms/step - loss: 0.5295 - accuracy: 0.7238 - val_loss: 0.5171 - val_accuracy: 0.7778\n",
      "Epoch 141/250\n",
      "15/15 [==============================] - 0s 10ms/step - loss: 0.5276 - accuracy: 0.7333 - val_loss: 0.5150 - val_accuracy: 0.7778\n",
      "Epoch 142/250\n",
      "15/15 [==============================] - 0s 11ms/step - loss: 0.5252 - accuracy: 0.7429 - val_loss: 0.5129 - val_accuracy: 0.7778\n",
      "Epoch 143/250\n",
      "15/15 [==============================] - 0s 12ms/step - loss: 0.5242 - accuracy: 0.7333 - val_loss: 0.5109 - val_accuracy: 0.7778\n",
      "Epoch 144/250\n",
      "15/15 [==============================] - 0s 8ms/step - loss: 0.5222 - accuracy: 0.7524 - val_loss: 0.5087 - val_accuracy: 0.7778\n",
      "Epoch 145/250\n",
      "15/15 [==============================] - 0s 10ms/step - loss: 0.5198 - accuracy: 0.7333 - val_loss: 0.5066 - val_accuracy: 0.7778\n",
      "Epoch 146/250\n",
      "15/15 [==============================] - 0s 9ms/step - loss: 0.5180 - accuracy: 0.7524 - val_loss: 0.5045 - val_accuracy: 0.7778\n",
      "Epoch 147/250\n",
      "15/15 [==============================] - 0s 4ms/step - loss: 0.5155 - accuracy: 0.7524 - val_loss: 0.5025 - val_accuracy: 0.7778\n",
      "Epoch 148/250\n",
      "15/15 [==============================] - 0s 6ms/step - loss: 0.5138 - accuracy: 0.7429 - val_loss: 0.5004 - val_accuracy: 0.7778\n",
      "Epoch 149/250\n",
      "15/15 [==============================] - 0s 7ms/step - loss: 0.5127 - accuracy: 0.7429 - val_loss: 0.4983 - val_accuracy: 0.7778\n",
      "Epoch 150/250\n",
      "15/15 [==============================] - 0s 11ms/step - loss: 0.5097 - accuracy: 0.7524 - val_loss: 0.4963 - val_accuracy: 0.7778\n",
      "Epoch 151/250\n",
      "15/15 [==============================] - 0s 8ms/step - loss: 0.5085 - accuracy: 0.7810 - val_loss: 0.4945 - val_accuracy: 0.7778\n",
      "Epoch 152/250\n",
      "15/15 [==============================] - 0s 6ms/step - loss: 0.5065 - accuracy: 0.7619 - val_loss: 0.4923 - val_accuracy: 0.7778\n",
      "Epoch 153/250\n",
      "15/15 [==============================] - 0s 5ms/step - loss: 0.5040 - accuracy: 0.7524 - val_loss: 0.4902 - val_accuracy: 0.7778\n",
      "Epoch 154/250\n",
      "15/15 [==============================] - 0s 5ms/step - loss: 0.5019 - accuracy: 0.7524 - val_loss: 0.4882 - val_accuracy: 0.7778\n",
      "Epoch 155/250\n",
      "15/15 [==============================] - 0s 5ms/step - loss: 0.5008 - accuracy: 0.7524 - val_loss: 0.4862 - val_accuracy: 0.7778\n",
      "Epoch 156/250\n",
      "15/15 [==============================] - 0s 7ms/step - loss: 0.4998 - accuracy: 0.7714 - val_loss: 0.4845 - val_accuracy: 0.7778\n",
      "Epoch 157/250\n",
      "15/15 [==============================] - 0s 4ms/step - loss: 0.4964 - accuracy: 0.7905 - val_loss: 0.4821 - val_accuracy: 0.7778\n",
      "Epoch 158/250\n",
      "15/15 [==============================] - 0s 5ms/step - loss: 0.4956 - accuracy: 0.7810 - val_loss: 0.4804 - val_accuracy: 0.7778\n",
      "Epoch 159/250\n",
      "15/15 [==============================] - 0s 4ms/step - loss: 0.4929 - accuracy: 0.7810 - val_loss: 0.4782 - val_accuracy: 0.7778\n",
      "Epoch 160/250\n",
      "15/15 [==============================] - 0s 5ms/step - loss: 0.4904 - accuracy: 0.7619 - val_loss: 0.4762 - val_accuracy: 0.7778\n",
      "Epoch 161/250\n",
      "15/15 [==============================] - 0s 5ms/step - loss: 0.4888 - accuracy: 0.7714 - val_loss: 0.4741 - val_accuracy: 0.7778\n",
      "Epoch 162/250\n",
      "15/15 [==============================] - 0s 6ms/step - loss: 0.4873 - accuracy: 0.7905 - val_loss: 0.4723 - val_accuracy: 0.7778\n",
      "Epoch 163/250\n",
      "15/15 [==============================] - 0s 6ms/step - loss: 0.4851 - accuracy: 0.8095 - val_loss: 0.4702 - val_accuracy: 0.7778\n",
      "Epoch 164/250\n",
      "15/15 [==============================] - 0s 6ms/step - loss: 0.4827 - accuracy: 0.8095 - val_loss: 0.4682 - val_accuracy: 0.7778\n",
      "Epoch 165/250\n",
      "15/15 [==============================] - 0s 5ms/step - loss: 0.4818 - accuracy: 0.8095 - val_loss: 0.4663 - val_accuracy: 0.7778\n",
      "Epoch 166/250\n",
      "15/15 [==============================] - 0s 4ms/step - loss: 0.4794 - accuracy: 0.7905 - val_loss: 0.4644 - val_accuracy: 0.7778\n",
      "Epoch 167/250\n",
      "15/15 [==============================] - 0s 5ms/step - loss: 0.4776 - accuracy: 0.8000 - val_loss: 0.4623 - val_accuracy: 0.7778\n",
      "Epoch 168/250\n",
      "15/15 [==============================] - 0s 5ms/step - loss: 0.4752 - accuracy: 0.8286 - val_loss: 0.4604 - val_accuracy: 0.7778\n",
      "Epoch 169/250\n",
      "15/15 [==============================] - 0s 5ms/step - loss: 0.4733 - accuracy: 0.8381 - val_loss: 0.4586 - val_accuracy: 0.7778\n",
      "Epoch 170/250\n",
      "15/15 [==============================] - 0s 5ms/step - loss: 0.4730 - accuracy: 0.8571 - val_loss: 0.4568 - val_accuracy: 0.8000\n",
      "Epoch 171/250\n",
      "15/15 [==============================] - 0s 5ms/step - loss: 0.4695 - accuracy: 0.8476 - val_loss: 0.4546 - val_accuracy: 0.7778\n",
      "Epoch 172/250\n",
      "15/15 [==============================] - 0s 5ms/step - loss: 0.4676 - accuracy: 0.8190 - val_loss: 0.4526 - val_accuracy: 0.7778\n",
      "Epoch 173/250\n",
      "15/15 [==============================] - 0s 6ms/step - loss: 0.4657 - accuracy: 0.8381 - val_loss: 0.4507 - val_accuracy: 0.7778\n",
      "Epoch 174/250\n",
      "15/15 [==============================] - 0s 5ms/step - loss: 0.4645 - accuracy: 0.8571 - val_loss: 0.4491 - val_accuracy: 0.8222\n",
      "Epoch 175/250\n",
      "15/15 [==============================] - 0s 6ms/step - loss: 0.4620 - accuracy: 0.8476 - val_loss: 0.4470 - val_accuracy: 0.8000\n",
      "Epoch 176/250\n",
      "15/15 [==============================] - 0s 5ms/step - loss: 0.4602 - accuracy: 0.8286 - val_loss: 0.4451 - val_accuracy: 0.7778\n",
      "Epoch 177/250\n",
      "15/15 [==============================] - 0s 5ms/step - loss: 0.4584 - accuracy: 0.8190 - val_loss: 0.4431 - val_accuracy: 0.8000\n",
      "Epoch 178/250\n",
      "15/15 [==============================] - 0s 5ms/step - loss: 0.4596 - accuracy: 0.8762 - val_loss: 0.4420 - val_accuracy: 0.8444\n",
      "Epoch 179/250\n",
      "15/15 [==============================] - 0s 5ms/step - loss: 0.4545 - accuracy: 0.8476 - val_loss: 0.4394 - val_accuracy: 0.7778\n",
      "Epoch 180/250\n",
      "15/15 [==============================] - 0s 5ms/step - loss: 0.4544 - accuracy: 0.8095 - val_loss: 0.4378 - val_accuracy: 0.7778\n",
      "Epoch 181/250\n",
      "15/15 [==============================] - 0s 5ms/step - loss: 0.4507 - accuracy: 0.8571 - val_loss: 0.4356 - val_accuracy: 0.8444\n",
      "Epoch 182/250\n",
      "15/15 [==============================] - 0s 5ms/step - loss: 0.4495 - accuracy: 0.8571 - val_loss: 0.4336 - val_accuracy: 0.8222\n",
      "Epoch 183/250\n",
      "15/15 [==============================] - 0s 5ms/step - loss: 0.4469 - accuracy: 0.8667 - val_loss: 0.4317 - val_accuracy: 0.8222\n",
      "Epoch 184/250\n",
      "15/15 [==============================] - 0s 5ms/step - loss: 0.4459 - accuracy: 0.8762 - val_loss: 0.4301 - val_accuracy: 0.8444\n",
      "Epoch 185/250\n",
      "15/15 [==============================] - 0s 6ms/step - loss: 0.4451 - accuracy: 0.8667 - val_loss: 0.4279 - val_accuracy: 0.8000\n",
      "Epoch 186/250\n",
      "15/15 [==============================] - 0s 17ms/step - loss: 0.4412 - accuracy: 0.8667 - val_loss: 0.4262 - val_accuracy: 0.8444\n",
      "Epoch 187/250\n",
      "15/15 [==============================] - 0s 10ms/step - loss: 0.4396 - accuracy: 0.8857 - val_loss: 0.4243 - val_accuracy: 0.8444\n",
      "Epoch 188/250\n",
      "15/15 [==============================] - 0s 15ms/step - loss: 0.4382 - accuracy: 0.8857 - val_loss: 0.4226 - val_accuracy: 0.8444\n",
      "Epoch 189/250\n",
      "15/15 [==============================] - 0s 11ms/step - loss: 0.4356 - accuracy: 0.8762 - val_loss: 0.4206 - val_accuracy: 0.8444\n",
      "Epoch 190/250\n",
      "15/15 [==============================] - 0s 8ms/step - loss: 0.4343 - accuracy: 0.8667 - val_loss: 0.4188 - val_accuracy: 0.8444\n",
      "Epoch 191/250\n",
      "15/15 [==============================] - 0s 13ms/step - loss: 0.4335 - accuracy: 0.8857 - val_loss: 0.4170 - val_accuracy: 0.8444\n",
      "Epoch 192/250\n",
      "15/15 [==============================] - 0s 10ms/step - loss: 0.4325 - accuracy: 0.8571 - val_loss: 0.4153 - val_accuracy: 0.8000\n",
      "Epoch 193/250\n",
      "15/15 [==============================] - 0s 10ms/step - loss: 0.4301 - accuracy: 0.8762 - val_loss: 0.4143 - val_accuracy: 0.9111\n",
      "Epoch 194/250\n",
      "15/15 [==============================] - 0s 7ms/step - loss: 0.4272 - accuracy: 0.8952 - val_loss: 0.4118 - val_accuracy: 0.8667\n",
      "Epoch 195/250\n",
      "15/15 [==============================] - 0s 7ms/step - loss: 0.4248 - accuracy: 0.8857 - val_loss: 0.4098 - val_accuracy: 0.8444\n",
      "Epoch 196/250\n",
      "15/15 [==============================] - 0s 8ms/step - loss: 0.4241 - accuracy: 0.8571 - val_loss: 0.4080 - val_accuracy: 0.8444\n",
      "Epoch 197/250\n",
      "15/15 [==============================] - 0s 7ms/step - loss: 0.4213 - accuracy: 0.8857 - val_loss: 0.4063 - val_accuracy: 0.8667\n",
      "Epoch 198/250\n",
      "15/15 [==============================] - 0s 12ms/step - loss: 0.4200 - accuracy: 0.8857 - val_loss: 0.4045 - val_accuracy: 0.8444\n",
      "Epoch 199/250\n",
      "15/15 [==============================] - 0s 9ms/step - loss: 0.4191 - accuracy: 0.8952 - val_loss: 0.4035 - val_accuracy: 0.9333\n",
      "Epoch 200/250\n",
      "15/15 [==============================] - 0s 8ms/step - loss: 0.4171 - accuracy: 0.8952 - val_loss: 0.4011 - val_accuracy: 0.8889\n",
      "Epoch 201/250\n",
      "15/15 [==============================] - 0s 8ms/step - loss: 0.4153 - accuracy: 0.8857 - val_loss: 0.3994 - val_accuracy: 0.8889\n",
      "Epoch 202/250\n",
      "15/15 [==============================] - 0s 8ms/step - loss: 0.4127 - accuracy: 0.8857 - val_loss: 0.3975 - val_accuracy: 0.8667\n",
      "Epoch 203/250\n",
      "15/15 [==============================] - 0s 8ms/step - loss: 0.4117 - accuracy: 0.8857 - val_loss: 0.3958 - val_accuracy: 0.8444\n",
      "Epoch 204/250\n",
      "15/15 [==============================] - 0s 7ms/step - loss: 0.4130 - accuracy: 0.8952 - val_loss: 0.3944 - val_accuracy: 0.9111\n",
      "Epoch 205/250\n",
      "15/15 [==============================] - 0s 8ms/step - loss: 0.4082 - accuracy: 0.8857 - val_loss: 0.3924 - val_accuracy: 0.8889\n",
      "Epoch 206/250\n",
      "15/15 [==============================] - 0s 10ms/step - loss: 0.4060 - accuracy: 0.8857 - val_loss: 0.3908 - val_accuracy: 0.8889\n",
      "Epoch 207/250\n",
      "15/15 [==============================] - 0s 7ms/step - loss: 0.4045 - accuracy: 0.8952 - val_loss: 0.3893 - val_accuracy: 0.9111\n",
      "Epoch 208/250\n",
      "15/15 [==============================] - 0s 8ms/step - loss: 0.4042 - accuracy: 0.8857 - val_loss: 0.3880 - val_accuracy: 0.9333\n",
      "Epoch 209/250\n",
      "15/15 [==============================] - 0s 7ms/step - loss: 0.4021 - accuracy: 0.9048 - val_loss: 0.3860 - val_accuracy: 0.9333\n",
      "Epoch 210/250\n",
      "15/15 [==============================] - 0s 7ms/step - loss: 0.4028 - accuracy: 0.8857 - val_loss: 0.3843 - val_accuracy: 0.8667\n",
      "Epoch 211/250\n",
      "15/15 [==============================] - 0s 7ms/step - loss: 0.3980 - accuracy: 0.9048 - val_loss: 0.3833 - val_accuracy: 0.9556\n",
      "Epoch 212/250\n",
      "15/15 [==============================] - 0s 9ms/step - loss: 0.3966 - accuracy: 0.9048 - val_loss: 0.3811 - val_accuracy: 0.9333\n",
      "Epoch 213/250\n",
      "15/15 [==============================] - 0s 8ms/step - loss: 0.3951 - accuracy: 0.8952 - val_loss: 0.3795 - val_accuracy: 0.9333\n",
      "Epoch 214/250\n",
      "15/15 [==============================] - 0s 10ms/step - loss: 0.3944 - accuracy: 0.8952 - val_loss: 0.3778 - val_accuracy: 0.9333\n",
      "Epoch 215/250\n",
      "15/15 [==============================] - 0s 7ms/step - loss: 0.3924 - accuracy: 0.9048 - val_loss: 0.3781 - val_accuracy: 0.9778\n",
      "Epoch 216/250\n",
      "15/15 [==============================] - 0s 10ms/step - loss: 0.3913 - accuracy: 0.8952 - val_loss: 0.3746 - val_accuracy: 0.9333\n",
      "Epoch 217/250\n",
      "15/15 [==============================] - 0s 15ms/step - loss: 0.3892 - accuracy: 0.9048 - val_loss: 0.3736 - val_accuracy: 0.9556\n",
      "Epoch 218/250\n",
      "15/15 [==============================] - 0s 11ms/step - loss: 0.3865 - accuracy: 0.9048 - val_loss: 0.3715 - val_accuracy: 0.9111\n",
      "Epoch 219/250\n",
      "15/15 [==============================] - 0s 21ms/step - loss: 0.3856 - accuracy: 0.8952 - val_loss: 0.3700 - val_accuracy: 0.9333\n",
      "Epoch 220/250\n",
      "15/15 [==============================] - 0s 20ms/step - loss: 0.3832 - accuracy: 0.9143 - val_loss: 0.3692 - val_accuracy: 0.9556\n",
      "Epoch 221/250\n",
      "15/15 [==============================] - 0s 13ms/step - loss: 0.3840 - accuracy: 0.9333 - val_loss: 0.3677 - val_accuracy: 0.9556\n",
      "Epoch 222/250\n",
      "15/15 [==============================] - 0s 13ms/step - loss: 0.3804 - accuracy: 0.9143 - val_loss: 0.3655 - val_accuracy: 0.8889\n",
      "Epoch 223/250\n",
      "15/15 [==============================] - 0s 15ms/step - loss: 0.3794 - accuracy: 0.9143 - val_loss: 0.3640 - val_accuracy: 0.9556\n",
      "Epoch 224/250\n",
      "15/15 [==============================] - 0s 6ms/step - loss: 0.3773 - accuracy: 0.9143 - val_loss: 0.3624 - val_accuracy: 0.9333\n",
      "Epoch 225/250\n",
      "15/15 [==============================] - 0s 8ms/step - loss: 0.3764 - accuracy: 0.9048 - val_loss: 0.3611 - val_accuracy: 0.9556\n",
      "Epoch 226/250\n",
      "15/15 [==============================] - 0s 8ms/step - loss: 0.3742 - accuracy: 0.9238 - val_loss: 0.3604 - val_accuracy: 0.9778\n",
      "Epoch 227/250\n",
      "15/15 [==============================] - 0s 7ms/step - loss: 0.3726 - accuracy: 0.9333 - val_loss: 0.3584 - val_accuracy: 0.9556\n",
      "Epoch 228/250\n",
      "15/15 [==============================] - 0s 9ms/step - loss: 0.3715 - accuracy: 0.9238 - val_loss: 0.3565 - val_accuracy: 0.9556\n",
      "Epoch 229/250\n",
      "15/15 [==============================] - 0s 7ms/step - loss: 0.3706 - accuracy: 0.9238 - val_loss: 0.3555 - val_accuracy: 0.9556\n",
      "Epoch 230/250\n",
      "15/15 [==============================] - 0s 6ms/step - loss: 0.3683 - accuracy: 0.9238 - val_loss: 0.3537 - val_accuracy: 0.9556\n",
      "Epoch 231/250\n",
      "15/15 [==============================] - 0s 11ms/step - loss: 0.3675 - accuracy: 0.9238 - val_loss: 0.3522 - val_accuracy: 0.9556\n",
      "Epoch 232/250\n",
      "15/15 [==============================] - 0s 8ms/step - loss: 0.3652 - accuracy: 0.9238 - val_loss: 0.3515 - val_accuracy: 0.9778\n",
      "Epoch 233/250\n",
      "15/15 [==============================] - 0s 7ms/step - loss: 0.3647 - accuracy: 0.9333 - val_loss: 0.3499 - val_accuracy: 0.9778\n",
      "Epoch 234/250\n",
      "15/15 [==============================] - 0s 7ms/step - loss: 0.3631 - accuracy: 0.9238 - val_loss: 0.3484 - val_accuracy: 0.9778\n",
      "Epoch 235/250\n",
      "15/15 [==============================] - 0s 6ms/step - loss: 0.3614 - accuracy: 0.9333 - val_loss: 0.3466 - val_accuracy: 0.9556\n",
      "Epoch 236/250\n",
      "15/15 [==============================] - 0s 6ms/step - loss: 0.3594 - accuracy: 0.9238 - val_loss: 0.3452 - val_accuracy: 0.9556\n",
      "Epoch 237/250\n",
      "15/15 [==============================] - 0s 7ms/step - loss: 0.3591 - accuracy: 0.9238 - val_loss: 0.3449 - val_accuracy: 0.9556\n",
      "Epoch 238/250\n",
      "15/15 [==============================] - 0s 6ms/step - loss: 0.3599 - accuracy: 0.9238 - val_loss: 0.3424 - val_accuracy: 0.9556\n",
      "Epoch 239/250\n",
      "15/15 [==============================] - 0s 7ms/step - loss: 0.3566 - accuracy: 0.9333 - val_loss: 0.3422 - val_accuracy: 0.9556\n",
      "Epoch 240/250\n",
      "15/15 [==============================] - 0s 9ms/step - loss: 0.3563 - accuracy: 0.9333 - val_loss: 0.3400 - val_accuracy: 0.9778\n",
      "Epoch 241/250\n",
      "15/15 [==============================] - 0s 9ms/step - loss: 0.3540 - accuracy: 0.9238 - val_loss: 0.3385 - val_accuracy: 0.9556\n",
      "Epoch 242/250\n",
      "15/15 [==============================] - 0s 7ms/step - loss: 0.3516 - accuracy: 0.9238 - val_loss: 0.3376 - val_accuracy: 0.9778\n",
      "Epoch 243/250\n",
      "15/15 [==============================] - 0s 11ms/step - loss: 0.3514 - accuracy: 0.9333 - val_loss: 0.3361 - val_accuracy: 0.9778\n",
      "Epoch 244/250\n",
      "15/15 [==============================] - 0s 5ms/step - loss: 0.3491 - accuracy: 0.9429 - val_loss: 0.3346 - val_accuracy: 0.9778\n",
      "Epoch 245/250\n",
      "15/15 [==============================] - 0s 5ms/step - loss: 0.3472 - accuracy: 0.9429 - val_loss: 0.3334 - val_accuracy: 0.9778\n",
      "Epoch 246/250\n",
      "15/15 [==============================] - 0s 4ms/step - loss: 0.3462 - accuracy: 0.9429 - val_loss: 0.3321 - val_accuracy: 0.9556\n",
      "Epoch 247/250\n",
      "15/15 [==============================] - 0s 5ms/step - loss: 0.3461 - accuracy: 0.9333 - val_loss: 0.3312 - val_accuracy: 0.9556\n",
      "Epoch 248/250\n",
      "15/15 [==============================] - 0s 5ms/step - loss: 0.3433 - accuracy: 0.9429 - val_loss: 0.3294 - val_accuracy: 0.9778\n",
      "Epoch 249/250\n",
      "15/15 [==============================] - 0s 4ms/step - loss: 0.3451 - accuracy: 0.9238 - val_loss: 0.3281 - val_accuracy: 0.9556\n",
      "Epoch 250/250\n",
      "15/15 [==============================] - 0s 6ms/step - loss: 0.3405 - accuracy: 0.9429 - val_loss: 0.3282 - val_accuracy: 0.9556\n"
     ]
    }
   ],
   "source": [
    "History_iris = Model_iris.fit(X_train, y_train,\n",
    "                              epochs = 250,\n",
    "                              batch_size = 7, # 배치 수준 정해주는 것\n",
    "                              validation_data = (X_test, y_test)) # 밸리데이션 전용 데티어로 비교"
   ]
  },
  {
   "cell_type": "markdown",
   "metadata": {
    "id": "KWR3hsEE_ZGS"
   },
   "source": [
    "> ## 5) 학습 결과 시각화"
   ]
  },
  {
   "cell_type": "code",
   "execution_count": null,
   "metadata": {
    "colab": {
     "base_uri": "https://localhost:8080/",
     "height": 522
    },
    "executionInfo": {
     "elapsed": 725,
     "status": "ok",
     "timestamp": 1721634540213,
     "user": {
      "displayName": "연샐",
      "userId": "10831208288393304500"
     },
     "user_tz": -540
    },
    "id": "OMpwabfNq2_v",
    "outputId": "34cad663-7d86-48c4-a904-3348e6b29002",
    "tags": []
   },
   "outputs": [
    {
     "data": {
      "image/png": "[encoded data removed]",
      "text/plain": [
       "<Figure size 900x600 with 1 Axes>"
      ]
     },
     "metadata": {},
     "output_type": "display_data"
    }
   ],
   "source": [
    "import matplotlib.pyplot as plt\n",
    "\n",
    "plt.figure(figsize = (9, 6))\n",
    "plt.ylim(0, 1.1)\n",
    "plt.plot(History_iris.history['loss'])\n",
    "plt.plot(History_iris.history['val_loss'])\n",
    "plt.plot(History_iris.history['accuracy'])\n",
    "plt.plot(History_iris.history['val_accuracy'])\n",
    "plt.legend(['loss', 'val_loss', 'accuracy', 'val_accuracy'])\n",
    "plt.grid()\n",
    "plt.show()"
   ]
  },
  {
   "cell_type": "markdown",
   "metadata": {
    "id": "FNq1blJf_eIW"
   },
   "source": [
    "> ## 6) Model Evaluate"
   ]
  },
  {
   "cell_type": "markdown",
   "metadata": {
    "id": "Dok6iL5RKeTP"
   },
   "source": [
    "* Loss & Accuracy"
   ]
  },
  {
   "cell_type": "code",
   "execution_count": null,
   "metadata": {
    "colab": {
     "base_uri": "https://localhost:8080/"
    },
    "executionInfo": {
     "elapsed": 512,
     "status": "ok",
     "timestamp": 1721634609801,
     "user": {
      "displayName": "연샐",
      "userId": "10831208288393304500"
     },
     "user_tz": -540
    },
    "id": "fJ2HtnYYsPIE",
    "outputId": "a1745e3d-82e0-4cef-cd5b-4b7701620c20",
    "tags": []
   },
   "outputs": [
    {
     "name": "stdout",
     "output_type": "stream",
     "text": [
      "2/2 [==============================] - 0s 10ms/step - loss: 0.3282 - accuracy: 0.9556\n",
      "Loss = 0.32817\n",
      "Accuracy = 0.95556\n"
     ]
    }
   ],
   "source": [
    "loss, accuracy = Model_iris.evaluate(X_test, y_test)\n",
    "\n",
    "print('Loss = {:.5f}'.format(loss))\n",
    "print('Accuracy = {:.5f}'.format(accuracy))"
   ]
  },
  {
   "cell_type": "markdown",
   "metadata": {
    "id": "jFjd3_I7_mqn"
   },
   "source": [
    "> ## 7) Model Predict"
   ]
  },
  {
   "cell_type": "markdown",
   "metadata": {
    "id": "CGP07vr3_rAK"
   },
   "source": [
    "* Probability"
   ]
  },
  {
   "cell_type": "code",
   "execution_count": null,
   "metadata": {
    "colab": {
     "base_uri": "https://localhost:8080/"
    },
    "executionInfo": {
     "elapsed": 2,
     "status": "ok",
     "timestamp": 1721634614508,
     "user": {
      "displayName": "연샐",
      "userId": "10831208288393304500"
     },
     "user_tz": -540
    },
    "id": "St1qcFxQuKqB",
    "outputId": "7c126679-a556-4f21-afa6-8207414b4311",
    "tags": []
   },
   "outputs": [
    {
     "name": "stdout",
     "output_type": "stream",
     "text": [
      "2/2 [==============================] - 0s 6ms/step\n"
     ]
    },
    {
     "data": {
      "text/plain": [
       "array([[0.82896, 0.14707, 0.02397],\n",
       "       [0.82896, 0.14707, 0.02397],\n",
       "       [0.48224, 0.42022, 0.09754],\n",
       "       [0.     , 0.13099, 0.86901],\n",
       "       [0.82896, 0.14707, 0.02397],\n",
       "       [0.13426, 0.6464 , 0.21934],\n",
       "       [0.     , 0.24853, 0.75146],\n",
       "       [0.82896, 0.14707, 0.02397],\n",
       "       [0.     , 0.18232, 0.81768],\n",
       "       [0.82896, 0.14707, 0.02397],\n",
       "       [0.0005 , 0.47626, 0.52324],\n",
       "       [0.     , 0.20209, 0.79791],\n",
       "       [0.00417, 0.58015, 0.41569],\n",
       "       [0.82896, 0.14707, 0.02397],\n",
       "       [0.82896, 0.14707, 0.02397],\n",
       "       [0.00563, 0.59412, 0.40025],\n",
       "       [0.00134, 0.52517, 0.47349],\n",
       "       [0.82896, 0.14707, 0.02397],\n",
       "       [0.01131, 0.62442, 0.36427],\n",
       "       [0.82896, 0.14707, 0.02397],\n",
       "       [0.82896, 0.14707, 0.02397],\n",
       "       [0.82896, 0.14707, 0.02397],\n",
       "       [0.     , 0.18283, 0.81717],\n",
       "       [0.82896, 0.14707, 0.02397],\n",
       "       [0.     , 0.26204, 0.73796],\n",
       "       [0.00001, 0.30667, 0.69332],\n",
       "       [0.82896, 0.14707, 0.02397],\n",
       "       [0.00225, 0.55059, 0.44717],\n",
       "       [0.00281, 0.56142, 0.43577],\n",
       "       [0.00001, 0.29964, 0.70035],\n",
       "       [0.82896, 0.14707, 0.02397],\n",
       "       [0.00367, 0.5741 , 0.42223],\n",
       "       [0.82896, 0.14707, 0.02397],\n",
       "       [0.00013, 0.41005, 0.58982],\n",
       "       [0.00266, 0.55873, 0.43861],\n",
       "       [0.08917, 0.66304, 0.24779],\n",
       "       [0.     , 0.12938, 0.87062],\n",
       "       [0.04883, 0.66624, 0.28494],\n",
       "       [0.82896, 0.14707, 0.02397],\n",
       "       [0.00534, 0.59169, 0.40298],\n",
       "       [0.     , 0.14703, 0.85297],\n",
       "       [0.82896, 0.14707, 0.02397],\n",
       "       [0.     , 0.23799, 0.76201],\n",
       "       [0.     , 0.20483, 0.79517],\n",
       "       [0.     , 0.25387, 0.74613]], dtype=float32)"
      ]
     },
     "execution_count": 33,
     "metadata": {},
     "output_type": "execute_result"
    }
   ],
   "source": [
    "import numpy as np\n",
    "np.set_printoptions(suppress = True, precision = 5)\n",
    "\n",
    "Model_iris.predict(X_test)"
   ]
  },
  {
   "cell_type": "markdown",
   "metadata": {
    "id": "JbO8z-fFbrAT"
   },
   "source": [
    "* Probability to Class"
   ]
  },
  {
   "cell_type": "code",
   "execution_count": null,
   "metadata": {
    "colab": {
     "base_uri": "https://localhost:8080/"
    },
    "executionInfo": {
     "elapsed": 517,
     "status": "ok",
     "timestamp": 1721634628721,
     "user": {
      "displayName": "연샐",
      "userId": "10831208288393304500"
     },
     "user_tz": -540
    },
    "id": "X9X3NSI1bc9z",
    "outputId": "e1b3e2a4-e1c4-40d5-b756-d6c0651e7b69",
    "tags": []
   },
   "outputs": [
    {
     "name": "stdout",
     "output_type": "stream",
     "text": [
      "2/2 [==============================] - 0s 4ms/step\n"
     ]
    },
    {
     "data": {
      "text/plain": [
       "array([0, 0, 0, 2, 0, 1, 2, 0, 2, 0, 2, 2, 1, 0, 0, 1, 1, 0, 1, 0, 0, 0,\n",
       "       2, 0, 2, 2, 0, 1, 1, 2, 0, 1, 0, 2, 1, 1, 2, 1, 0, 1, 2, 0, 2, 2,\n",
       "       2])"
      ]
     },
     "execution_count": 34,
     "metadata": {},
     "output_type": "execute_result"
    }
   ],
   "source": [
    "y_hat = np.argmax(Model_iris.predict(X_test), axis = 1)\n",
    "\n",
    "y_hat"
   ]
  },
  {
   "cell_type": "markdown",
   "metadata": {
    "id": "spr7DJmE_62e"
   },
   "source": [
    "* One-Hot Encoding to Array\n",
    " * np.argmax( ) : 다차원 배열의 차원에 따라 가장 큰 값의 인덱스를 반환\n",
    " * axis = 1 : 열기준"
   ]
  },
  {
   "cell_type": "code",
   "execution_count": null,
   "metadata": {
    "colab": {
     "base_uri": "https://localhost:8080/"
    },
    "executionInfo": {
     "elapsed": 402,
     "status": "ok",
     "timestamp": 1721634638701,
     "user": {
      "displayName": "연샐",
      "userId": "10831208288393304500"
     },
     "user_tz": -540
    },
    "id": "8xv4SLZm0nzn",
    "outputId": "bbfb0259-b625-4313-f65c-5c4d4053f1ee",
    "tags": []
   },
   "outputs": [
    {
     "data": {
      "text/plain": [
       "array([0, 0, 1, 2, 0, 1, 2, 0, 2, 0, 1, 2, 1, 0, 0, 1, 1, 0, 1, 0, 0, 0,\n",
       "       2, 0, 2, 2, 0, 1, 1, 2, 0, 1, 0, 2, 1, 1, 2, 1, 0, 1, 2, 0, 2, 2,\n",
       "       2])"
      ]
     },
     "execution_count": 35,
     "metadata": {},
     "output_type": "execute_result"
    }
   ],
   "source": [
    "y = np.argmax(y_test, axis = 1)\n",
    "\n",
    "y"
   ]
  },
  {
   "cell_type": "markdown",
   "metadata": {
    "id": "y-hzFPiDAEyo"
   },
   "source": [
    "* Confusion Matrix & Claasification Report"
   ]
  },
  {
   "cell_type": "code",
   "execution_count": null,
   "metadata": {
    "colab": {
     "base_uri": "https://localhost:8080/"
    },
    "executionInfo": {
     "elapsed": 2,
     "status": "ok",
     "timestamp": 1721634643127,
     "user": {
      "displayName": "연샐",
      "userId": "10831208288393304500"
     },
     "user_tz": -540
    },
    "id": "ECnlNwrRzZve",
    "outputId": "8959c2fb-86e2-48eb-d6c2-30504890311d",
    "tags": []
   },
   "outputs": [
    {
     "data": {
      "text/plain": [
       "array([[17,  0,  0],\n",
       "       [ 1, 12,  1],\n",
       "       [ 0,  0, 14]])"
      ]
     },
     "execution_count": 36,
     "metadata": {},
     "output_type": "execute_result"
    }
   ],
   "source": [
    "from sklearn.metrics import confusion_matrix, classification_report\n",
    "\n",
    "confusion_matrix(y, y_hat)"
   ]
  },
  {
   "cell_type": "code",
   "execution_count": null,
   "metadata": {
    "colab": {
     "base_uri": "https://localhost:8080/"
    },
    "executionInfo": {
     "elapsed": 2,
     "status": "ok",
     "timestamp": 1721634645033,
     "user": {
      "displayName": "연샐",
      "userId": "10831208288393304500"
     },
     "user_tz": -540
    },
    "id": "6xW7Tw8Luk8O",
    "outputId": "0452c72e-b2ce-4d04-8eab-2b8c20e59e2a",
    "tags": []
   },
   "outputs": [
    {
     "name": "stdout",
     "output_type": "stream",
     "text": [
      "              precision    recall  f1-score   support\n",
      "\n",
      "      setosa       0.94      1.00      0.97        17\n",
      "  versicolor       1.00      0.86      0.92        14\n",
      "   virginica       0.93      1.00      0.97        14\n",
      "\n",
      "    accuracy                           0.96        45\n",
      "   macro avg       0.96      0.95      0.95        45\n",
      "weighted avg       0.96      0.96      0.95        45\n",
      "\n"
     ]
    }
   ],
   "source": [
    "print(classification_report(y, y_hat,\n",
    "                            target_names = ['setosa',\n",
    "                                            'versicolor',\n",
    "                                            'virginica']))"
   ]
  },
  {
   "cell_type": "markdown",
   "metadata": {
    "id": "N6YjXuM2AeEA"
   },
   "source": [
    "# III. Model Save & Load"
   ]
  },
  {
   "cell_type": "markdown",
   "metadata": {
    "id": "QJHanSlYBMaD"
   },
   "source": [
    "> ## 1) File System"
   ]
  },
  {
   "cell_type": "markdown",
   "metadata": {
    "id": "9fukCVfZBreP"
   },
   "source": [
    "* Save to Colab File System"
   ]
  },
  {
   "cell_type": "code",
   "execution_count": null,
   "metadata": {
    "id": "90EpGKTo1B_2"
   },
   "outputs": [],
   "source": [
    "# !ls -l"
   ]
  },
  {
   "cell_type": "code",
   "execution_count": null,
   "metadata": {
    "id": "FXz2D-PxAn0p",
    "tags": []
   },
   "outputs": [],
   "source": [
    "Model_iris.save('Model_iris.h5')\n",
    "\n",
    "# !ls -l"
   ]
  },
  {
   "cell_type": "markdown",
   "metadata": {
    "id": "mnABg40YB0Ex"
   },
   "source": [
    "* Download Colab File System to Local File System"
   ]
  },
  {
   "cell_type": "code",
   "execution_count": null,
   "metadata": {
    "id": "UROGkgi7B3J6"
   },
   "outputs": [],
   "source": [
    "# from google.colab import files\n",
    "\n",
    "# files.download('Model_iris.h5')"
   ]
  },
  {
   "cell_type": "markdown",
   "metadata": {
    "id": "50eGEKhzDbVg"
   },
   "source": [
    "* Load from Colab File System"
   ]
  },
  {
   "cell_type": "code",
   "execution_count": 42,
   "metadata": {
    "executionInfo": {
     "elapsed": 563,
     "status": "ok",
     "timestamp": 1721634864151,
     "user": {
      "displayName": "연샐",
      "userId": "10831208288393304500"
     },
     "user_tz": -540
    },
    "id": "SlNcgVb9BZQz",
    "tags": []
   },
   "outputs": [],
   "source": [
    "from tensorflow.keras.models import load_model\n",
    "\n",
    "Model_local = load_model('Model_iris.h5')"
   ]
  },
  {
   "cell_type": "code",
   "execution_count": 43,
   "metadata": {
    "colab": {
     "base_uri": "https://localhost:8080/"
    },
    "executionInfo": {
     "elapsed": 567,
     "status": "ok",
     "timestamp": 1721634868257,
     "user": {
      "displayName": "연샐",
      "userId": "10831208288393304500"
     },
     "user_tz": -540
    },
    "id": "OoOS6Eet1-jY",
    "outputId": "c28276ae-8cc6-4bb5-bd6d-b5fcb0ec3982",
    "tags": []
   },
   "outputs": [
    {
     "name": "stdout",
     "output_type": "stream",
     "text": [
      "2/2 [==============================] - 0s 12ms/step\n"
     ]
    },
    {
     "data": {
      "text/plain": [
       "array([0, 0, 0, 2, 0, 1, 2, 0, 2, 0, 2, 2, 1, 0, 0, 1, 1, 0, 1, 0, 0, 0,\n",
       "       2, 0, 2, 2, 0, 1, 1, 2, 0, 1, 0, 2, 1, 1, 2, 1, 0, 1, 2, 0, 2, 2,\n",
       "       2])"
      ]
     },
     "execution_count": 43,
     "metadata": {},
     "output_type": "execute_result"
    }
   ],
   "source": [
    "np.argmax(Model_local.predict(X_test), axis = 1)"
   ]
  },
  {
   "cell_type": "markdown",
   "metadata": {
    "id": "q24HQDn3Bbmv"
   },
   "source": [
    "> ## 2) Google Drive"
   ]
  },
  {
   "cell_type": "markdown",
   "metadata": {
    "id": "-DoXDaDQD_nR"
   },
   "source": [
    "* Mount Google Drive"
   ]
  },
  {
   "cell_type": "code",
   "execution_count": null,
   "metadata": {
    "colab": {
     "base_uri": "https://localhost:8080/"
    },
    "executionInfo": {
     "elapsed": 126098,
     "status": "ok",
     "timestamp": 1673400680559,
     "user": {
      "displayName": "이정구",
      "userId": "17400242557229223804"
     },
     "user_tz": -540
    },
    "id": "XUcAHm-oEThi",
    "outputId": "bdc6b776-7162-4c1a-9e93-e28f1c7ebaaf"
   },
   "outputs": [
    {
     "name": "stdout",
     "output_type": "stream",
     "text": [
      "Mounted at /content/drive\n"
     ]
    }
   ],
   "source": [
    "from google.colab import drive\n",
    "\n",
    "drive.mount('/content/drive')"
   ]
  },
  {
   "cell_type": "markdown",
   "metadata": {
    "id": "R3yaKi3GEftH"
   },
   "source": [
    "* Check Mounted_Drive"
   ]
  },
  {
   "cell_type": "code",
   "execution_count": null,
   "metadata": {
    "colab": {
     "base_uri": "https://localhost:8080/"
    },
    "executionInfo": {
     "elapsed": 442,
     "status": "ok",
     "timestamp": 1673400680988,
     "user": {
      "displayName": "이정구",
      "userId": "17400242557229223804"
     },
     "user_tz": -540
    },
    "id": "Y96H0gSfEl0-",
    "outputId": "351177a7-3a2a-4bde-b1d3-50bcb7aa9dd5"
   },
   "outputs": [
    {
     "name": "stdout",
     "output_type": "stream",
     "text": [
      "total 40562\n",
      "-rw------- 1 root root    35432 Nov  5 02:33 001_Model_iris.h5\n",
      "-rw------- 1 root root 41499528 Nov 12 05:29 002_dogs_and_cats_small.h5\n"
     ]
    }
   ],
   "source": [
    "!ls -l '/content/drive/My Drive/Colab Notebooks/models'"
   ]
  },
  {
   "cell_type": "markdown",
   "metadata": {
    "id": "izCHadxzFuj-"
   },
   "source": [
    "* Save to Mounted Google Drive Directory"
   ]
  },
  {
   "cell_type": "code",
   "execution_count": null,
   "metadata": {
    "id": "VYxWBnRXF1sm"
   },
   "outputs": [],
   "source": [
    "Model_iris.save('/content/drive/My Drive/Colab Notebooks/models/001_Model_iris.h5')"
   ]
  },
  {
   "cell_type": "code",
   "execution_count": null,
   "metadata": {
    "colab": {
     "base_uri": "https://localhost:8080/"
    },
    "executionInfo": {
     "elapsed": 8,
     "status": "ok",
     "timestamp": 1673400681337,
     "user": {
      "displayName": "이정구",
      "userId": "17400242557229223804"
     },
     "user_tz": -540
    },
    "id": "62Ks4RIcGM5e",
    "outputId": "09f2d2cd-7258-41b6-b00e-a7942099cf34"
   },
   "outputs": [
    {
     "name": "stdout",
     "output_type": "stream",
     "text": [
      "total 40562\n",
      "-rw------- 1 root root    35432 Jan 11 01:31 001_Model_iris.h5\n",
      "-rw------- 1 root root 41499528 Nov 12 05:29 002_dogs_and_cats_small.h5\n"
     ]
    }
   ],
   "source": [
    "!ls -l '/content/drive/My Drive/Colab Notebooks/models'"
   ]
  },
  {
   "cell_type": "markdown",
   "metadata": {
    "id": "9qHYg5fPGnaB"
   },
   "source": [
    "* Load from Mounted Google Drive Directory"
   ]
  },
  {
   "cell_type": "code",
   "execution_count": null,
   "metadata": {
    "id": "-c2nlwDbGcVZ"
   },
   "outputs": [],
   "source": [
    "from tensorflow.keras.models import load_model\n",
    "\n",
    "Model_google = load_model('/content/drive/My Drive/Colab Notebooks/models/001_Model_iris.h5')"
   ]
  },
  {
   "cell_type": "code",
   "execution_count": null,
   "metadata": {
    "colab": {
     "base_uri": "https://localhost:8080/"
    },
    "executionInfo": {
     "elapsed": 327,
     "status": "ok",
     "timestamp": 1673400681661,
     "user": {
      "displayName": "이정구",
      "userId": "17400242557229223804"
     },
     "user_tz": -540
    },
    "id": "nsYObO3z4m3_",
    "outputId": "6c27d53a-7667-461b-e4a8-d278c190b30e"
   },
   "outputs": [
    {
     "name": "stdout",
     "output_type": "stream",
     "text": [
      "2/2 [==============================] - 0s 4ms/step\n"
     ]
    },
    {
     "data": {
      "text/plain": [
       "array([0, 0, 1, 2, 0, 1, 2, 0, 2, 0, 1, 2, 1, 0, 0, 1, 1, 0, 1, 0, 0, 0,\n",
       "       2, 0, 2, 2, 0, 1, 1, 2, 0, 1, 0, 1, 1, 1, 2, 1, 0, 1, 2, 0, 2, 2,\n",
       "       2])"
      ]
     },
     "execution_count": 35,
     "metadata": {},
     "output_type": "execute_result"
    }
   ],
   "source": [
    "np.argmax(Model_google.predict(X_test), axis = 1)"
   ]
  },
  {
   "cell_type": "markdown",
   "metadata": {
    "id": "prgTZL2h1A2Z"
   },
   "source": [
    "# The End"
   ]
  }
 ],
 "metadata": {
  "colab": {
   "provenance": []
  },
  "kernelspec": {
   "display_name": "Python 3 (ipykernel)",
   "language": "python",
   "name": "python3"
  },
  "language_info": {
   "codemirror_mode": {
    "name": "ipython",
    "version": 3
   },
   "file_extension": ".py",
   "mimetype": "text/x-python",
   "name": "python",
   "nbconvert_exporter": "python",
   "pygments_lexer": "ipython3",
   "version": "3.11.7"
  },
  "toc": {
   "base_numbering": 1,
   "nav_menu": {},
   "number_sections": true,
   "sideBar": true,
   "skip_h1_title": false,
   "title_cell": "Table of Contents",
   "title_sidebar": "Contents",
   "toc_cell": false,
   "toc_position": {},
   "toc_section_display": true,
   "toc_window_display": false
  }
 },
 "nbformat": 4,
 "nbformat_minor": 4
}
