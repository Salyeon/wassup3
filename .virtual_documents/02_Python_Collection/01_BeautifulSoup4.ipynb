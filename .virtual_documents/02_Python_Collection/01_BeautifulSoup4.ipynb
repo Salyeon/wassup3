


pip list


pip install bs4


pip install lxml





from bs4 import BeautifulSoup
import lxml


BeautifulSoup?


# sample
html = '''
<div id=prices >
    <table >
        <tr class=bb>
            <th class="bb lm lft">Date
            <th class="rgt bb">Open
            <th class="rgt bb">High
            <th class="rgt bb">Low
            <th class="rgt bb">Close
            <th class="rgt bb rm">Volume
        <tr>
            <td class="lm">Feb 28, 2014
            <td class="rgt">100.71
            <td class="rgt">100.71
            <td class="rgt">100.71
            <td class="rgt">100.71
            <td class="rgt rm">0
     </table>
'''
#div, tr, th, td 닫은게 없음


#</th>가 앞에 있는거 빼곤 괜찮음 -> 실제론 위에 달려있기 때문에 문법상 문제 없음, 보여지는 것만 아래에 있을 뿐


# 파이썬 표준 html 파서
BeautifulSoup(html, 'html.parser')


# lxml의 HTML 파서
BeautifulSoup(html, 'lxml')


# 비어있는게 한쪽 아래에 다 몰려있음, 이래도 작동을 하긴 함





pwd


html_file = open('sample/market.html', encoding='utf-8')
html_file


html_src = html_file.read()
html_file.close()


html_src


print(html_src)


# Dom 구조로 변환
soup = BeautifulSoup(html_src,'lxml')


type(soup) # <- 이거 자체는 객체


soup # 이건 객체 !


soup.





# select는 css를 사용해 찾는 것 !
# find 태그, id, class
# class_ 인 이유 - class는 예약어라서 구분하는 것
# find -> 단일 요소 찾기 find_all -> 다 찾기


soup.find?


soup.find('p') # find는 단일요소 찾기라서 p 가 3개였지만 한개만 찾아다줌(제일 위에꺼)


type(soup.find('p')) # 얘도 객체(문자열, 리스트 아님: DOM 객체를 만들었고, 그 안의 Tag 객체를 만든 것)


# 여기서 문자열 뽑으면 데이터 타입 객체를 뽑는 것


soup.find_all('p')


type(soup.find_all('p')) # 얘도 리스트가 아니라 객체(아직 요소 안에까지 안들어간거라서 객체로 들어가는 것)


# find로 오렌지를 찾고 싶은데 p 떄리면 바나나만 나옴
soup.find('p',id = 'orange')


# class 찾기 - 여기선 group label의 역할
soup.find('p',id = 'orange')
# <p class="fruit best" id="orange" title="오렌지"> <-여기서 p 뿐만 아니라 class를 가지고도 찾아올 수가 있음,
# 태그 하나론 불가능(너무 많아서) 보통 태그 + 클래스로 찾아옴


soup.find_all(class_='fruit')





# soup select만 하면 여러개
# select_one 하면 한개


soup.select?


soup.select('p')
#find는 태그 요소를 찾음
#select는 관계를 찾음 -> 그래서 복수 검색


soup.select_one('p')
#1개만 나옴(가장 먼저 만나는 1개의 관계만 반환하겠다!)


# css 셀렉터 문법
soup.select('#orange') # 여기선 아이디를 #(샾)으로 표현함


soup.select_one('#orange') # 아이디는 유니크하기 때문에 1개만 나와서 select나 select_one이나 검색결과는 차이가 없음
#리스트로 감싸져있는지 없는지 차이만 있음(select가 리스트로 감싸져있음)


soup.select('.price') # class 속성
#itterable하다는 뜻(리스트로 감싸져있음: 리스트의 특징을 가지고 있는 객체 = for 문을 돌릴 수 있음)


# AND 관계
soup.select('p#orange') # p와 orange 모두 해당하는 것만 반환


# OR 관계 = a 태그 또는 store 클래스에 해당하는 모든 요소를 찾아줘
soup.select('a, .store') # a 태그들은 class가 없지만 ,는 or 이라서 a 태그와 class 태그 둘중 하나만 가져도 다 반환함
# , = or 관계


soup.select('.fruit.best') # class가 2개인 값도 찾아줌: 클래스는 group label이라서 여러개의 class를 부여할 수도 있음


# p 태그 안에 있는 url 뽑고 싶을 때
soup.select('.fruit.best>a')
# >     <- 자식(저거 안에 있는 a를 찾아줘)


soup.select('.fruit.best > a') 
#공백 되긴 함, 그런데 권장하지 않음


soup.select('.fruit.best a') # 공백은 자손을 의미.(내 자식, 손주 등등 전부 다 해당됨)
#공백 자체가 의미가 있기 때문에 가독성때문에 띄어쓰기는 권장하지 않음


soup.select('.fruit.best>span>a')


type(soup.select('.fruit.best a'))


type(soup.select('.fruit.best a')[0])
# 태그 객체가 모여서 result 객체가 됐음
#실제 전체 본 소스가 다 모여있는 거가 result고 그 안에 각각의 tag 요소들이 있음
# 각각의 tag 요소들을 보면 데이터 타입으로 데이터가 들어있음
# select_one 하면 단일로 tag 요소가 반환이 됨(result 요소로 묶이지 않고)


# 오로지 tag 객체에서만 조회 메서드를 활용할 수 있음, result에선 안됨


soup.select('.fruit.best a')[0].text


mylist = soup.select('.fruit.best a')[0]
mylist


mylist. # 탭 해보면 사용할 수 있는게 많다ㅏ


yourlist = soup.select('.fruit.best a')
yourlist
# 이게 다 객체


yourlist = soup.select('.fruit.best a')
for i in yourlist:
    print(i.text)


# 태그 객체 > result 객체 > Dom 객체
# 태그까지 파고들어야 메서드 객체를 활용할 수 있다
for tagItem in yourlist :
    print(tagItem.text)


# href = a 태그의 속성


tagItem['href']


for tagItem in yourlist :
    print(tagItem['href'])





aa = soup.select('.fruit>span')
aa


bb = soup.select('.fruit a')
bb


aa = soup.select('.fruit>span')
for i in aa:
    print(i.text, end ='')


for item in soup.select('.fruit'):
    print(item)


for item in soup.select('.fruit'):  
    name = item['title']
    price = item.find('span','price').text
    count = item.find('span','count').text
    store = item.find('span', 'store').text
    url = item.find('a')['href']
    print(name, price, count, store, url)





e = soup.find('p', id='orange')


e


type(e)


e.name #속성 아렬줌


e.attrs # id , class, title이 뭔지 알려준다


e.attrs['title']


e.string


print(e.string)


e.text


#e 는 p 태그인데 p 는 텍스트를 가지고 있지 않음(p 태그의 자손인 apn과 a가 텍스트를 가지고 있음)
# 그래서 string에선 아무것도 없음
# text는 자손, 후손으로 텍스트를 구분해서 표시해주고 있음


print(e.text)


e.strings # 생성해주는 객체, itterable 하지만 출력 하려면 하나씩 반환 해줘야함


e.strings?


for i in e.strings:
    print(i)


# strings - 객체로 반환, sting, text -  문자열로 반환





e.parent


e.parents


for i in e.parents:
    print(i.name) # 너무ㅡ 기니까 이름만~


e.contents


e.children


for i in e.children:
    print(i.name)



























