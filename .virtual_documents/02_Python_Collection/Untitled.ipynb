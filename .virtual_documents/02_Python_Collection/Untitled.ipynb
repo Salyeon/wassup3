


pip list


pip install bs4


pip install lxml





from bs4 import BeautifulSoup
import lxml


BeautifulSoup?


# sample
html = '''
<div id=prices >
    <table >
        <tr class=bb>
            <th class="bb lm lft">Date
            <th class="rgt bb">Open
            <th class="rgt bb">High
            <th class="rgt bb">Low
            <th class="rgt bb">Close
            <th class="rgt bb rm">Volume
        <tr>
            <td class="lm">Feb 28, 2014
            <td class="rgt">100.71
            <td class="rgt">100.71
            <td class="rgt">100.71
            <td class="rgt">100.71
            <td class="rgt rm">0
     </table>
'''
#div, tr, th, td 닫은게 없음


# lxml의 HTML 파서
BeautifulSoup(html, 'lxml')


#</th>가 앞에 있는거 빼곤 괜찮음 -> 실제론 위에 달려있기 때문에 문법상 문제 없음, 보여지는 것만 아래에 있을 뿐


# 파이썬 표준 html 파서
BeautifulSoup(html, 'html.parser')


# 비어있는게 한쪽 아래에 다 몰려있음, 이래도 작동을 하긴 함













































