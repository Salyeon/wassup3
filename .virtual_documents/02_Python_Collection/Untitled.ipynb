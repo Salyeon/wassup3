


pip install requests





import requests
from bs4 import BeautifulSoup


PATH = 'https://finance.naver.com/'
resp = requests.get(PATH) #주소 넣기에 대한 resp(응답)


resp


resp?


requests.get?


resp.text


print(resp.text)


# dom 객체로 변환~


src = resp.text


soup = BeautifulSoup(src, 'lxml')
print(soup)





# 뉴스 목록 찾기
srclist = soup.select('.section_strategy li a')
srclist


srclists = soup.select('.news_area li a')
srclists


len(srclist)
len(srclists)


srclists[0]


for i in soup.select('.div.section'):
    i = item.find('','price').text


# 첫번째 뉴스 제목 추출
srclists[0].text


scrlist[0]['href']





url = scrlist[0]['href']
PATH + url


# naver.com// 으로 /가 2개 -> 고쳐줘야함


from urllib.parse import urljoin


urljoin(PATH, url)





srclists = soup.select('.news_area li a')
for i in srclists:
    title = i.find(


news_title = []
news_url= []

for i in srclist:
    title = i.text
    url = urljoin(PATH, i['href'])
    print(title, url)
    news_title.append(title)
    news_url.append(url)


news_title


news_url





import pandas as pd


df = pd.DataFrame({'제목':news_title, '주소':news_url})


df


print(df)





df.to_excel('output/naver.xlsx', index = False) #<- 반드시 확장자 넣기





# 파일명에 저장시각을 추가해보자
import time


today = time.localtime()
today


time.ctime()


df.to_excel(f'output/{today.tm_year}_{today.tm_mon}_{today.tm_mday}_naver.xlsx', index = False)


# 스트링 포매팅으로 날짜 포맷을 바꿔보자
# 2024-06-20
'%d-%-2d-%-2d'%(today.tm_year, today.tm_mon, today.tm_mday)


filename = '%d-%-2d-%-2d'%(today.tm_year, today.tm_mon, today.tm_mday)
excel_name = filename + '.xlsx'
csv_name = filename +'.csv'
excel_name, csv_name


df.to_csv(f'output/{csv_name}')



