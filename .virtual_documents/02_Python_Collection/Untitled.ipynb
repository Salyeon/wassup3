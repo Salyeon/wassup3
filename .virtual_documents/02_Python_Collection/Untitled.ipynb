





import requests, json, pandas as pd


URL = 'http://www.krei.re.kr:18181/chart/main_chart/index/kind/W/sdate/2019-01-01/edate/2019-12-31'
resp = requests.get(URL)
resp


data = resp.text
print(type(data),len(data))
print(data)


data


data2 = resp.json()
print(type(data2),len(data2))
print(data2)


data2


ddd = []
for i in data2:
    id = i.get(id)
    data = i.get(data)
    symbol = i.get(symbol)
    open = i.get(open)
    close = i.get(close)
    ddd.append(id)
    ddd.append(data)
    ddd.append(symbol)
    ddd.append(open)
    ddd.append(close)


id_, date, symbol, open_, close= [], [], [], [], []

for item in data2 :
    id_.append(item['id'])
    date.append(item['date'])
    symbol.append(item['symbol'])
    open_.append(item['open'])
    close.append(item['close'])


df = pd.DataFrame({
    'id' : id_,
    'date' : date,
    'symbol' :symbol,
    'open' : open_,
    'close' : close,
})


df





import requests
from bs4 import BeautifulSoup


#api 키
#QZDKs%2FoGt0QFHXINoMJZHoUIBWan%2B1sahzLzfJ8rNkgzKP9z3MLkx02n%2BRNnS0k5%2BPDK2rbcr3iOvz%2BZ9nK1Vg%3D%3D
date = '201512'
region_code = '11110'
key = 'QZDKs%2FoGt0QFHXINoMJZHoUIBWan%2B1sahzLzfJ8rNkgzKP9z3MLkx02n%2BRNnS0k5%2BPDK2rbcr3iOvz%2BZ9nK1Vg%3D%3D'
url = f'http://openapi.molit.go.kr:8081/OpenAPI_ToolInstallPackage/service/rest/RTMSOBJSvc/getRTMSDataSvcAptTrade?LAWD_CD={region_code}&DEAL_YMD={date}&serviceKey={key}'

resp = requests.get(url)
textsrc = resp.text
textsrc


# 데이터 형식  보통xml, json -> 둘 중 한개


soup = BeautifulSoup(textsrc,'xml')
soup


# xml 은 id 와 class 가 없어서 select 써야 함


items = soup.select('response > body > items > item')
items


# items = soup.find_all
# items


items[0]



a = items[0].select('거래금액')
print(type(a),a) # 태그 요소 -> 1개로 뽑으려면 find 나 select_one으로 뽑아야 함


a = items[0].select_one('거래금액')
print(type(a),a) # tag 객체로 만들었으니 .text 가능 !


a.text


#Varchar 아니고 공간 차지하는 이유 -> 데이터 수집 속도 때문에





items = soup.select('response > body > items > item')
items


item_list = ['거래금액', '건축년도', '년', '법정동', '아파트', '월', '일', '전용면적', '지번', '지역코드', '층']

for item in items:
    for tag in item_list:
        print(item.select_one(tag).text.strip(), end=' ')
    print()





def default_text(node, text):
    if node != None:
        return node.text.strip()
    else:
        return text


item_list = ['거래금액', '건축년도', '년', '법정동', '아파트', '월', '일', '전용면적', '지번', '지역코드', '층']
for item in items:
    for tag in item_list:
        print(default_text(item.select_one(tag), ''), end=' ')
    print()





item_list = ['거래금액', '건축년도', '년', '법정동', '아파트', '월', '일', '전용면적', '지번', '지역코드', '층']
data_list = []

for item in items:
    data_list.append([ default_text(item.select_one(tag), '') for tag in item_list]) # value를 행기준으로 맞춤, 110 X 11
print(data_list)

df = pd.DataFrame(data_list, columns=item_list)
print('='*50)
print(df)
df.to_csv('./sample/아파트매매실거래자료수집.csv', index=False, encoding='cp949') 














# while 문 사용 이유: 특정 시점부터 최근까지(끝을 모르는 경우에 사용)
