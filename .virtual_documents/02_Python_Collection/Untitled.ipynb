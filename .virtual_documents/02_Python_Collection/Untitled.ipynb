





#셀레리움 라이브러리 설치
!pip install selenium


from selenium import webdriver
from selenium.webdriver.common.by import By
from selenium.webdriver.chrome.options import Options
import time

options = Options() # 객체!
options # option 은 options의 인스턴스


#특정함수안에서  드라이버 생성시 함수종료될 때 브라우저 같이 종료되는 문제 대응
options.add_experimental_option('detach', True)
#for 문 반복이 끝나도 브라우저가 같이 꺼지는거 방지하는 기능





url = 'https://naver.com'
driver = webdriver.Chrome(options = options)


driver.get(url) # 실행 
time.sleep(2) 





driver.back()


driver.forward()


driver.refresh()





title = driver.title
url = driver.current_url
handle = driver.current_window_handle
print(title, url, handle)
# 각각 탭에 뜨는 이름, url 창에 주소, 윈도우 창에 대한 ID를 의미
#ID가 있다 = 동시에 여러개를 조작할 수 있다





drive.find_element?


driver.find_element(By.ID, 'query')


# 키 입력
driver.find_element(By.ID, 'query').send_keys('뉴진스')


driver.find_element(By.CLASS_NAME, "search_input").send_keys('블랙핑크')


driver.find_element(By.NAME, "query").send_keys('르세라핌')


driver.find_element(By.CSS_SELECTOR, "#query").send_keys('에스파')


driver.find_element(By.CSS_SELECTOR, ".search_input").send_keys('세븐틴')


driver.find_element(By.CSS_SELECTOR, "[title = '검색어를 입력해 주세요.']").send_keys('트와이스')


driver.find_element(By.XPATH,'//*[@id="query"]').send_keys('BTS')





driver.find_element(By.LINK_TEXT, '쇼핑') # 해당 텍스트가 있는 링크 객체를 찾아줘


driver.find_element(By.LINK_TEXT, '쇼핑').click()


# 일부 매칭(일부 키워드만으로 이동하기)
driver.find_element(By.PARTIAL_LINK_TEXT, '증').click()


# 태그로 찾기
# 태그는 요소가 너무 많으므로 정확하게 대상을 찾을 때에는 권장 안함
driver.find_element(By.TAG_NAME,'div')


# 여러 개의 요소를 찾을 때
driver.find_elements(By.CSS_SELECTOR, '.link_service')


#태그 객체 안에 딕셔너리 속성이라 href 사용했었음
#지금은 리스트로 엮여있음!


driver.find_elements(By.CSS_SELECTOR, '.link_service')[0].get_attribute('href')


a = driver.find_elements(By.CSS_SELECTOR, '.link_service')
for i in a:
    print(i.get_attribute('href'))





# 테스트용 html
url = 'file:///C:/workspace/wassup3/02_Python_Collection/sample/signin.html'
driver = webdriver.Chrome(options = options)
driver.get(url)
time.sleep(2)


username = driver.find_element(By.NAME, 'username')
username.send_keys('korea')


password = driver.find_element(By.NAME, 'password')
password.send_keys('1234')


#클릭해서 로그인하기
login = driver.find_element(By.XPATH, '//*[@id="loginForm"]/input[3]')
login.click()


driver.back()


login = driver.find_element(By.XPATH, '/html/body/form/input[3]')
login.click()


driver.back()


login = driver.find_element(By.CSS_SELECTOR, '[value = Login]')
login.click()


driver.back()


username.clear()


password.clear()


username = driver.find_element(By.NAME, 'username')
username.send_keys('korea')
password = driver.find_element(By.NAME, 'password')
password.send_keys('1234')


username.submit()


driver.back()


driver.find_element(By.TAG_NAME,'p').text


#html 소스 추출하기
driver.page_source


driver.close()
