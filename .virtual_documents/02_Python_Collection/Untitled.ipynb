pip list


pip install bs4


pip install lxml


from bs4 import BeautifulSoup
import lxml


html_file = open('sample/market.html', encoding='utf-8')
html_file


html_src = html_file.read()
html_file.close()


html_src


print(html_src)


soup = BeautifulSoup(html_src,'lxml')


type(soup)


soup


soup.select?


soup.select('p')


soup.select('.fruit')


soup.select('.fruit span')


soup.select('.fruit a')


soup.select('.fruit>a')


soup.select('.fruit')


a = soup.select('.fruit')
a


a = soup.select('.fruit')
for i in soup.select('.fruit'):
    name = i['title']
    price = i.find('span','price').text
    count = i.find('span','count').text
    store = i.find('span', 'store').text
    url = i.find('a')['href']
    print(name,price,count, store, url)


a = soup.select('.fruit')
for i in soup.select('.fruit'):
    price = i.find('span','price')
    print(price)


b = soup.find('.fruit')
b.name






