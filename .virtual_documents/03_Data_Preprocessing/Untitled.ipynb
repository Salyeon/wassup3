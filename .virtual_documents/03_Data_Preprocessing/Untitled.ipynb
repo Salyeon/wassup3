


# # 주피터노트북 셀 스타일 조절
# from IPython.core.display import display, HTML
# # display(HTML("<style>.container { font-weight: bold !important; }</style>"))
# display(HTML("<style>.container { width: 100% !important; }</style>"))

# # 경고메시지 숨기기
# import warning
# warnings.filterwarnings(action='ignore')





import numpy as np
np.__version__








a = np.array(0)
a, a.ndim, type(a)
#ndim은 차원을 의미하는 것, 값이 1개라 스칼라인 0으로 표기


a = np.array([2,4,6])
a, a.ndim, type(a)
# ndim은 차원을 의미하는 것, 값이 3개라 벡터인 1로 표기


a = [[1,2,3],[4,5,6]]
a


a = np.array([[1, 2, 3], [4, 5, 6]])
a, a.ndim, type(a)


a = np.array([[[1, 2, 3], [4, 5, 6]],[[1, 2, 3], [4, 5, 6]]])
a, a.ndim, type(a)


a.shape


a.shape?


2행3열이 2개가 있다는 뜻





a = np.array(3)
a,a.shape # 행렬이 아니라서 아무것도 안나옴


a = np.array([1,3,5,7,9])
a,a.shape


a = np.array([[1, 2, 3], [4, 5, 6]])
a, a.shape


a = np.array([[[0, 0, 0, 0], [0, 0, 0, 0], [0, 0, 0, 0]], [[0, 0, 0, 0], [0, 0, 0, 0], [0, 0, 0, 0]]])
a, a.shape # 2개의 3행 4열


a.ndim





# 1차원 리스트 객체(이터러블)
myList = [10, 56, 77, 23, 44]
print(myList, type(myList), len(myList))


myArr = np.array(myList)
print(myArr, type(myArr), len(myArr))
print(f'차원={myArr.ndim}, 구조={myArr.shape}, size={myArr.size}, 길이={len(myArr)}')


# 2차원 리스트 객체(이터러블)
myList2 = [[1,2,3 ],[10,20,30],[100,200,300]]
myList2, len(myList2)


myArr2 = np.array(myList2)
print(myArr2, type(myArr2), len(myArr2))
print(f'차원= {myArr2.ndim}, 구조 = {myArr2.shape}, size = {myArr2.size}, 길이={len(myArr2)}' )


size = 요소의 개수
길이 = 행의 갯수


# 2차원 리스트에서 각 행의 수가 다를 경우?
myList21 = [ [1,2,3,4],[10,20,30,40,50],[100,200,]]
print(myList21, type(myList21), len(myList21))


# 길이가 달라 에러 리턴
myArr21 = np.array(myList21)
print(myArr21, type(myArr21), len(myArr21))
print(f'차원= {myArr21.ndim}, 구조 = {myArr21.shape}, size = {myArr21.size}')


broadcasting은 행렬 연산에만 적용됨, array를 만들때는 적용이 안됨(만들 땐 잘 만들어야 함, 연산만 구조가 달라도 가능)





# 리스트의 산술연산자 +, * 
listA = [10, 30, 50]
listB = [1, 2, 3]
print(listA + listB) # 리스트의 + 연산자는 조인역할
print(listA + 2) # 불가


print(listA * 2) # 해당 리스트의 반복
print(listA * listB) # 불가


# 넘파이의 산술연산
arrA = np.array([1, 2, 3])
print(arrA + 2)
print(arrA * 2)


arrB = np.array([4, 5, 6])
print(arrA + arrB)
print(arrA * arrB)
print(arrA / arrB)
print(arrA // arrB) # 몫
print(arrA % arrB) # 나머지





# 자료형 테스트
myList_c = ['안녕', 100, 3.14, True, False] # 리스트는 혼합된 형 그대로 유지
print(myList_c)


myArr_c = np.array(myList_c) # 넘파이배열은 '문자열'로 통일 자동형변환 바이트 단위라서 문자열이 제일큼, 문자열로 통일
print(myArr_c, type(myArr_c), myArr_c.dtype) #문자열 없으면 소수점으로 통일됨
#유니코드 32로 표기됨
#외우지 말라고 하심..ㅎ


# 정수와 실수가 혼합된 넘파이 배열
myArr_d = np.array([100, 3.14, 23.5, 0])
print(myArr_d, type(myArr_d), myArr_d.dtype) # 정수와 실수 혼합시, 더 큰 실수형으로 통일 자동형변환





np.array([0, 1, -1, 0]) / np.array([1, 0, 0, 0])


np.log(0) # 로그


np.exp(-np.inf) #지수





x = np.array([18,   5,  10,  23,  19,  -8,  10,   0,   0,   5,   2,  15,   8,
              2,   5,   4,  15,  -1,   4,  -7, -24,   7,   9,  -6,  23, -13])


#평균
x.mean() 43분 두개 차이 설명..!


#평균
np.mean(x)


# 분산
np.var(x)


# 표준 편차
np.std(x) 


#최대 
np.max(x)


#최소
np.min(x)


#중앙값
np.median(x)





박스플롯


# 최소값
np.percentile(x, 0) #데이터를 놓고 0에 대한 위치를 알려줘


np.percentile(x, 25) # 1사분위수


np.percentile(x, 50) #2사분위수(중앙값)


np.percentile(x, 75) #3사분위수


np.percentile(x, 100) #최대값





# 1로 메모리 초기화, 넘파이 함수로 배열을 만들때에는 디폴트가 실수형
print(np.ones(10), np.ones(10).dtype)  # 10개의 요소를 1로 채워줘 (default가 실수로 채워짐)


print(np.ones((2,4)), np.ones((2,4)).dtype)


np.ones?


연산하다가 원하는 특징을 유지해야할 때  <- ones를 사용함


print(np.ones(10, dtype = int), np.ones(10, dtype = int).dtype) #dtype을 int로 지정하면 int로 저장됨 !


# 0으로 메모리 초기화
print(np.zeros(10), np.zeros(10).dtype)


np.empty?


print(np.zeros((3,3)), np.zeros((3,3)).dtype)


# 메모리가 비어있음 -> 메모리가 초기화 되지 않는다.
print(np.empty(10), np.empty(10).dtype)
print(np.empty((3,3)), np.empty((3,3)).dtype)
print(np.empty((3,3)))
print(np.empty((3,3), dtype=int))  # 기존 메모리에 있던 값을 출력한다.(정확히 알수 없음)


empty -> 메로리를 초기화해주는 개념
그냥 저런 기능이 있다, 정도로만


# 리스트+레인지
print( list(range(1,21)), type(list(range(1,21))) )


# 1~20으로 구성된 4행 5열의 넘파이 배열print(np.array(list(range(1,21))), type(list(range(1,21))))
print(np.arange(20), type(np.arange(20)))
print(np.arange(1, 20), type(np.arange(1, 20)))
print(np.arange(1, 20, 2), type(np.arange(1, 20,2)))

#배열에서 사용하는 range라 np.arrange라고 사용해야 함!


# 0~49까지 구성된 넘파이 배열
arr = np.arange(50)
print(arr, len(arr), arr.size)


# linspace 명령이나 logspace 명령은 선형 구간 혹은 로그 구간을 지정한 구간의 수만큼 분할한다.
np.linspace(0, 100, 5)  # 시작, 끝(포함), 갯수 0에서 100까지 수를 5개로 나눠서 표시함


np.linspace?


np.logspace?


np.logspace(0.1, 1, 10)





# 0~49까지 구성된 넘파이 배열
arr = np.arange(50)
print(arr, len(arr), arr.size)


arr, arr.ndim, arr.shape


arr = arr.reshape(10,5) #10행 5열로 바꿔줘
arr, arr.ndim, arr.shape


arr2 = arr.reshape(5,10) #5행 10열로 바꿔줘
arr2, arr2.ndim, arr2.shape


arr2 = arr.reshape(4,10) 
arr2, arr2.ndim, arr2.shape #안맞으면 에러가 남


# 2차원 -> 1차원
# 넘파이배열.flatten()
arr3 = arr2.flatten()
arr3, arr3.shape, arr3.ndim


# 1~100 사이의 짝수로 된 넘파이 배열 생성
np.arange(2,101,2)


print(np.arange(2,101,2).reshape(5,10))


np.arange(1, 31)


# 2차원인데 1개 칼럼의 모형을 만들어보자
# reshape(-1, n) : 2차원 n개의 컬럼으로 구성, -1을 넣으면 자동으로 사이즈를 맞춰준다. -1,n이든 n,-1이든
arr4 = np.arange(1, 31).reshape(-1, 1) #1열로, 행은 알아서
arr4, arr4.ndim, arr4.shape


30행 1열이라서 2차원


# 4개 칼럼으로 배열 모형을 만들자
np.arange(1, 21).reshape(5, 4)


# -1 사용해서 5열인 모형
np.arange(1, 21).reshape(-1, 5)  # 사이즈는 반드시 맞아야 함, 5열을 알아서 배치해줘~
#20개라서 7열로 맞춰달라 해도 안됨 -> arragy 는 immutable하기 떄문


a = np.arange(12)
a, a.shape


a.shape = -1, 1
a, a.shape


# flatten
a.shape = -1
a, a.shape





matrix1 = np.arange(1, 10)
matrix1, matrix1.dtype


# 정수형, 3행 3열
matrix = np.arange(1, 10).reshape(3,3)
matrix, matrix.dtype


# 실수형, 3행 3열
matrix = np.arange(1, 10, dtype=float).reshape(3,3)
matrix, matrix.dtype


# 문자열형, 3행 3열 -> 불가
matrix = np.arange(1, 10, dtype='str').reshape(3,3)
matrix, matrix.dtype
#문자열로는 적용 불가


# 정수형 => 문자열
matrix.astype('<U5') #유니코드로 지정해주면 문자열로 바뀜(str은 먹히지 않음)


# 논리형으로 구성된 넘파이 배열 생성
matrix2 = np.array([True, False, True, True])
matrix2, matrix2.dtype


# 불린 -> 정수
matrix2.astype(int) # T는 1 F는0


# 불린형 -> 문자열
matrix2.astype('<U5') # 문자열로 T F 작성됨


# 문자열 숫자 => 정수 , 실수
matrix3 = np.array(['3.14', '5.5', '0.78'])
matrix3, matrix3.dtype


print(matrix3.astype(float))

print(matrix3.astype(int)) # 불가 -> 실수라서 정수 변환은 안됨
print(matrix3.astype(bool)) # 불가 -> 실수라서 T F 변환은 안됨


matrix4 = np.array(['3', '5', '7'])
matrix4.astype(int)  # 가능, 값이 유효하기 때문


숫자 -> 문자는 가능
문자 -> 숫자는 제약이 있음(실제 해당 숫자 형에 맞아야함)









a = np.array([1, 3, 5, 7, 9])
a, a.ndim, a.shape, a.size


a[0]


a[4]


a[-1]


a[[0,2,4]]


# 행렬 구조로 인덱싱도 가능하다
b = np.array( [[1,3], [4,2]] )
b


# 넘파이배열1을 넘파이배열2로 인덱싱하는 경우. 넘파이배열2는 인덱스 번호로 인식
a[b]


print(a)
a[2] = 0
print(a)


a[1] += 2
a


a [0] += 6
a





a = np.arange(15).reshape(3, 5)
a, a.ndim, a.shape, a.size


#인덱싱 값이 1개인 경우엔 행을 인덱싱함
a[0]


a[1]


#인덱싱값이 2개 들어가면 행/열 인덱싱
a[0,1]


a[1,3]


a[2,4]


a[-1,-1]


a[-1,4]


a[-1][-1] # 행 먼저 인덱싱하고 그 다음에 열 인덱싱 해도 됨





#값 변경
a = np.arange(15).reshape(3, -1)
a


# 2행의 값 다 바꾸고 싶을 때
a[1] = [1,3,5,7,9]
a


# 다 같은 값으로 변환
a[-1] = 10
a


# 인덱싱별로 값을 더함
a[0] += [1,2,3,4,5]
a








a = np.array([1, 3, 5, 7, 9])
a, a.ndim, a.shape, a.size


a[:]


 a[1:]


a[-1:]


a[1:4]


a = np.arange(10)
a


#홀수
a[1::2]


# 거꾸로 나열


a[::-1]





a = np.arange(10, 25).reshape(3, 5)
a, a.ndim, a.shape, a.size


a[1:]


a[:-3] #인덱스를 벗어나서 나오지 않음


a[1:-1]


a[:,:] #행의 범위, 열의 범위


a[:, 1:] #(높이인 행은 전체 필요, 열은 인덱스 두번째꺼부터)


a[:, -1:]


a[1:,2]


a[:2, 1:4]


a[1, 2]


a[1][2]












