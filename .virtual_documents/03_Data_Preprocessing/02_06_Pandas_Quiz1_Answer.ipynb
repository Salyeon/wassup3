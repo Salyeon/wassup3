# 쥬피터노트북 셀 스타일 조절 
from IPython.core.display import display, HTML
display(HTML("<style>.container { font-weight: bold !important; }</style>"))
display(HTML("<style>.container { width: 100% !important; }</style>"))

# 경고 메세지 숨기기 
import warnings
warnings.filterwarnings(action='ignore')


import pandas as pd
import numpy as np
import os


# ls data








df











# (1) 아래의 데이타를 이용하여 데이타프레임을 생성하여라.
   
data = {'kor':[40, 55, 66, 77, 34],
        'math':[70, 55, 66, 20, 40],
        'eng':[80, 95, 100, 77, 90]}
        
name_list = ['고길동','김희동','신윤지','이민호','박준희']    

df = pd.DataFrame(data, index=name_list)
df








df.loc['신머신']=[55, 67, 88]


df.loc['윤파이']=[90, 100, 90]


df





df['sci'] = [90, 45, 77, 90, 67, 90, 80]
df








# eng과목의 평균점수 : 반올림 round(data, n)
round(df['eng'].mean(),2)


df['eng']>df['eng'].mean()


df[df['eng']>df['eng'].mean()]


df[df['eng']>df['eng'].mean()].index


list(df[df['eng']>df['eng'].mean()].index)


for student in list(df[df['eng']>df['eng'].mean()].index):
    print(student)








df['tot'] = df['kor']+df['math']+df['eng']+df['sci']
# df['tot'] = df.sum(axis=1)
# df['avg'] = df.sum(axis=1)
df['avg'] = round(df['tot']/4,2)


result = df['avg'].mean()
result


df.loc[df['avg']<result, 'pass'] = 'X'
df.loc[df['avg']>=result, 'pass'] = 'O'
df








student_list = [ { 'name' : 'John', 'major' : 'Computer Science', 'gender' : 'male'},
                 { 'name' : 'Nate', 'major' : 'Computer Science', 'gender' : 'male'},
                 { 'name' : 'Abrabam', 'major' : 'Physics', 'gender' : 'male'},
                 { 'name' : 'Brian', 'major' : 'Psychology', 'gender' : 'male'},
                 { 'name' : 'Jenny', 'major' : 'Economics', 'gender' : 'female'},
                 { 'name' : 'Yuba', 'major' : 'Economics', 'gender' : 'female'},
                 { 'name' : 'Jennifer', 'major' : 'Computer Science', 'gender' : 'female'},
                 { 'name' : 'Edward', 'major' : 'Computer Science', 'gender' : 'male'},
                 { 'name' : 'Sara', 'major' : 'Psychology', 'gender' : 'female'},
                 { 'name' : 'Wendy', 'major' : 'Economics', 'gender' : 'female'},
                 { 'name' : 'Sera', 'major' : 'Psychology', 'gender' : 'female'}
               ]


df_student = pd.DataFrame(student_list)


df_student.sample(3)





df_student


# df_student.index = ['std1', 'std2', 'std3', 'std4',...]


['std'+str(i+1) for i in range(df_student.shape[0])]


[f'std{i}' for i in range(df_student.shape[0])]


df_student.index = ['std'+str(i+1) for i in range(df_student.shape[0])]


df_student





df_student_female = df_student[df_student['gender'] == 'female'].copy()
df_student_female





# df_student_female.set_index('name', inplace=True)
# df_student_female


df_student_female.index = df_student_female['name']
df_student_female


df_student_female.drop(['name', 'gender'], axis=1)





df_student2 = df_student[df_student['major'] != 'Computer Science' ].copy()
df_student2.set_index('name', inplace=True)
df_student2





df_student2.drop(['Brian', 'Sara'], axis=0, inplace=True)


df_student2['grade'] = [4.5, 4.0, 3.5, 4.0, 3.0]
df_student2





# df_student2.columns
# df_student2.columns = ['major', 'gender', 'score']


# 특정 컬럼명만 교체 
# rename(columns={old: new})
df_student2 = df_student2.rename(columns={'grade': 'score'})
df_student2


# 전체 컬럼 순서를 gender, score, major 순서
df_student2 = df_student2[['gender', 'score', 'major']]
df_student2





df_student2.describe()


df_student2.describe().loc[['mean', '25%', '50%', '75%']]











#  pd.read_csv('data/기상온도_서울202012.csv', encoding='cp949')


df_weather = pd.read_csv('data/기상온도_서울202012.csv', encoding='cp949', usecols=[2, 3, 5, 8])


df_weather.head()











df_weather.shape


df_weather.info()


df_weather.isnull()


df_weather.isnull().sum()








df_weather.isnull()['일시'].sum()


df_weather[df_weather.isnull()['일시']]


df_weather[df_weather.isnull()['일시']].index





df_weather.dropna(how="all", inplace=True)


df_weather[df_weather.isnull()['일시']]


df_weather.isnull().sum()








df_weather[df_weather.isnull()['평균기온(℃)']]


df_weather.fillna(value=0, inplace=True)


df_weather[df_weather.isnull()['평균기온(℃)']]


df_weather.isnull().sum()





df_weather.dtypes


df_weather['일시'] = pd.to_datetime(df_weather['일시'])


df_weather.dtypes


df_weather.set_index('일시', inplace=True)


df_weather.head()





df_weather['2000']





# 2000년 이후
df_weather['2000':]





















