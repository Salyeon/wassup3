














import pandas as pd
import numpy as np


s = pd.Series(range(10))
s


s[3] = np.nan
s


s.count() #NaN 값은 빼고 계산함





np.random.seed(2) # 난수가 시작되는 초기화지점 지정
df = pd.DataFrame(np.random.randint(5, size=(4, 4)), dtype=float)
df


df.iloc[2, 3] = np.nan
df


df.count() # 열에 대한 데이터 개수(행에 대한 것 아님, ㅣ 기준으로 보는 것)





import seaborn as sns


titanic = sns.load_dataset("titanic")
titanic.head()


len(titanic)





titanic.count()











import pandas as pd
np.random.seed(1)
s2 = pd.Series(np.random.randint(6, size=100))
s2.tail()


s2 # 0~5까지의 수가 100까지 이루어져있음


s2.value_counts() # 0부터 5까지 각각 몇개가 있는지 셀 수 있음
#범주형 데이터 있을 때 각각 몇명씩 해당되는지 파악이 용이(A+ A b+ b 등등)





df


df[0].value_counts() # 특정 '열'을 뽑아서 value counting을 해야 함














s2.value_counts() # value 기준으로 내림차순


s2.value_counts().sort_index() # index 기준으로 오름차순





s


s.sort_values()
# head, tail 다 봐야 하는 이유 -> 끝에 NaN 잘 나오는지 체크하기 위함도 있음





s.sort_values?


s.sort_values(ascending=False)





df


df.sort_values(by=2)





df.sort_values(by=1)


df.sort_values(by=[1, 2]) # 00이라 겹쳐서 2번 열 인덱스에서 2.0 3.0으로 정렬해줬음





# 내가 풀어보기


tt = sns.load_dataset("titanic")





tt.sort_values(by=['sex','age','class','alive'])





tt[['sex','age','class','alive']]


tt['sex'].sort_values()


tt['sex'].value_counts()






































titanic[['sex', 'age', 'class', 'alive']]


titanic['sex'].sort_values()


titanic['sex'].value_counts()


list1 = ['sex', 'age', 'class', 'alive']
for l in list1:
    print(titanic[l].value_counts())
    print('='*10)











np.random.seed(1)
df2 = pd.DataFrame(np.random.randint(10, size=(4, 8)))
df2





df2.sum(axis=1)


df2["RowValSum"] = df2.sum(axis=1) # 그냥 인덱싱하면 열 기준으로 추가됨
df2





df2.sum()


df2.loc["ColTotal"] = df2.sum() # df2.loc["ColTotal", :]  # loc을 활용해서 행 기준으로 아래에 들어감


df2








df


df.mean()


df.mean(axis=1)





titanic


# 풀어보기


tt_a = titanic['age'].sort_values()
tt_a


tt_a.mean()














#정답


titanic.head()


# 1. 타이타닉호 승객의 평균 나이를 구하라.
titanic['age'].mean()


titanic['sex']=='female'


# 타이타닉호 승객중 여성 승객의 평균 나이를 구하라
titanic[titanic['sex']=='female']['age'].mean()


titanic['class']=='First'


# 3. 타이타닉호 승객중 1등실 선실의 여성 승객의 평균 나이를 구하라.
titanic[(titanic['class']=='First') & (titanic['sex']=='female')]['age'].mean()





df3 = pd.DataFrame({
    'A': [1, 3, 4, 3, 4],
    'B': [2, 3, 1, 2, 3],
    'C': [1, 5, 2, 4, 4]
})
df3





df3.apply(lambda x: x.max() - x.min()) # default axis=0,





df3.apply(lambda x: x.max() - x.min(), axis=1)





df3


df3.apply(pd.value_counts)





# 풀어보기


titanic


tt= titanic
tt











tt['adult_age'] = tt.apply(lambda x: 'adult' if x.age >= 20 else 'child', axis = 1)


tt.tail()


# 답


titanic["adult/child"] = titanic.apply(lambda r: "adult" if r.age >= 20 else "child", axis=1)
titanic.tail()





# 풀어보기


tt['category1'] = tt.apply(lambda x: x.sex if x.age >= 20 else 'child', axis =1)
tt


# 정답


titanic["category1"] = titanic.apply(lambda r: r.sex if r.age >= 20 else "child", axis=1)
titanic








df3


df3['A']


df3['A'].value_counts()


# 각 열의 고유한 값 수를 파악하는 방법
df3.apply(pd.value_counts) # axis=0 열기준


df3.fillna?


df3.apply(pd.value_counts).dropna() # any가 적용되어서 1개만 NaN이 있어도 지움


df3.dropna?


df3.apply(pd.value_counts).fillna(0.0) # NaN 값을 자동으로 0.0으로 바꿔줌





a = tt['age'].mean()
a


type(a)


average_age = tt['age'].mean()
tt['age'].fillna(average_age, inplace=True)  # inplace -> 원본 수정 유무, 기본은 False로 수정 x, True 하면 원본 수정됨


tt


tt['age'] = tt['age'].round(2)


tt





24.07.02 

















#답


titanic['age'] # 나이 한번 봐보자


titanic['age'].value_counts() #한번 찍어봤다(나이대의 분포를 보기 위해 그냥 age 말고 value_counts를 사용)
# 참고로 시리즈라서 뽑아낼 수 있음


titanic['age'].sort_values() # 한번 해봄, 이상함 왜 소수점? -> 애기(개월수)


titanic['age'].isnull() # 불린인덱싱 -> null값만 계산(보통 결측치가 많지 않기 때문)


titanic['age'].isnull().sum() # 177명이 null값인 것


titanic[ titanic['age'].isnull() ]['age']


round(titanic['age'].mean()) # mean은 원래 결측치 빼고 계산함


titanic['age'].fillna( round(titanic['age'].mean()) )


titanic['age'].isnull().sum()


# titanic['age'].fillna( round(titanic['age'].mean()), inplace=True)
titanic['age'] = titanic['age'].fillna( round(titanic['age'].mean() ))
titanic.tail()


titanic['age'].fillna( round(titanic['age'].mean()), inplace=True) # 원본에 적용해줘
titanic.tail()


titanic['age'].isnull().sum() # null값인거 개수 합








df3.apply(pd.value_counts)


df3.apply(pd.value_counts).fillna(0).astype(int)





#풀어보기


tt['category2'] = tt.sex + tt.age.astype(int).astype(str) # 바로 문자열 말고 정수로 바꾸고 문자열 하면 소수점 사라져서 round 함수 안써도 됨!!
tt














#정딥


titanic.head()


titanic['category2'] = titanic.sex + titanic.age.astype(int).astype(str)
titanic


titanic["category2"] = titanic.apply(lambda x: x.sex + str(int(x.age)), axis=1)
titanic











ages = [0, 2, 10, 21, 23, 37, 31, 61, 20, 41, 32, 101]





pd.cut?


bins = [1, 20, 40, 50, 70, 100] # 카테고리를 나누는 기준
labels = ["미성년자", "청년", "중년", "장년", "노년"] #쪼갠 기준들에 대한 이름
cats = pd.cut(ages, bins, labels=labels)
cats





type(cats) # 카테고리컬 객체 = 메서드 사용 가능


cats.categories # 우리가 보기 편하게 만든 라벨


cats.codes # 컴퓨터가 정수로 구분하는 라벨  -1: 해당하지 않는 값


df4 = pd.DataFrame(ages, columns=["ages"])
df4 # 시리즈가 1개지만 데이터프레임으로 바꿈


df4["age_cat"] = pd.cut(df4.ages, bins, labels=labels)
print(bins)
print(labels)
df4
#1부터 미성년자라서 0는 기준이 X, 100살 위도 적용 안됨





df4['age_cat'] #실제론 카테고리컬이란 오브젝트 객체


df4.age_cat.astype(str) + df4.ages.astype(str)





data = np.random.randn(1000)
cats = pd.qcut(data, 4, labels=["Q1", "Q2", "Q3", "Q4"])
cats


pd.value_counts(cats)





# 풀어보기


bins = [1, 20, 40, 50, 70, 100]
labels = ["미성년자", "청년", "중년", "장년", "노년"]

df5 = pd.cut(tt.age, bins, labels=labels)
df5


df5.value_counts()/len(df5)


len(df5)


df5.value_counts(normalize = True)/len(df5)


#normailize 활용(상대분포, 결측치 제거하고 계산하는 것)


sum(df5.value_counts(normalize = True))














#답


bins = [1, 20, 40, 50, 70, 100]
labels = ["미성년자", "청년", "중년", "장년", "노년"]

df5 = pd.cut(titanic.age, bins, labels=labels)
df5.head()


df5.value_counts()


df5.value_counts()/ len(df5) * 100





#풀어보기





bins = [1, 20, 40, 50, 70, 100]
labels = ["미성년자", "청년", "중년", "장년", "노년"]


tt['category3'] = tt.apply(lambda x: pd.cut(x.age,bins, labels=labels).astype(str) + x.age.astype(int).astype(str) if x.age >=20 else '미성년자')




















tt['category3'] = tt.apply(lambda x: pd.cut(x.age,bins, labels=labels).astype(str) + x.age.astype(int).astype(str) if x.age >=20 else '미성년자') 


#답


bins = [1, 20, 40, 50, 70, 100]
labels = ["미성년자", "청년", "중년", "장년", "노년"]
sexlabel = ['남성', '여성']


titanic["category3"] = pd.cut(titanic.age, bins, labels=labels)
titanic["category3"] 


titanic["category3"] = titanic.apply(lambda x : '미성년자' if x.age <= 20 else x.category3 + x.sex, axis=1)
titanic


titanic["category3"] = pd.cut(titanic.age, bins, labels=labels)
titanic["category3"] = titanic.apply(lambda x : '미성년자' if x.age <= 20 else 
                                     (x.category3 + '남성' if x.sex == 'male' else x.category3 + '여성'), axis=1)
titanic





# 이렇게 한단계씩 만들어가는게 한문장으로 만드는것보다 더 빠를 수도 있음!(초심자니까..)
