





import numpy as np
a = np.array(['강아지', '원숭이', '꽃', '45', '100'])
a,a.ndim,a.size,type(a),a.shape





np.ones((2,3))





np.arange(51,81).reshape(6,5)





-------------------------------------  

dtype('float64')


a = np.arange(51,81, dtype=float).reshape(6,5)
a, a.dtype





q5 = np.array([[ 1,  4,  5,  6], [56, 23, 45, 67], [ 8,  4,  6, 10]]).reshape(3,4)
q5


q5a = q5.flatten()
q5a


q5a[5:-1]





a6 = np.arange(1,11)
a6


a6[a6>7] = 0
a6[0] = 10
a6





a7 = np.random.randint(10, 100, 25).reshape(5,5)
print(a7)





a8 = np.random.randint(1, 101, 7)
print(a8)
print('max =',a8.max())
print('min =',a8.min())





a1 = np.arange(1,10).reshape(3,3)
a2 = np.arange(11,20).reshape(3,3)
a3 = np.arange(21,30).reshape(3,3)
a1,a2,a3
c1 = np.hstack((a1,a2,a3))
c2 = np.vstack((a1,a2,a3))

print('Result1','\n','\n',c1,'\n','--------------------------------------')
print('Result2','\n','\n',c2)





arr = np.random.choice(100, 40, replace=False)
arr[arr>50]





kor = np.array( [60,55,70,30,20,90])
kor


#11-1
kor.max()


#11-2
kor[(kor>80)]


#11-3
kor[(kor>50)&(kor<=80)]


#11-4
kor.mean().round(2)


#11-5
kor.sum()


#11-6
b = np.where(kor<=40)
c = np.delete(kor,b)
print(kor)
print(c)


#11-7
np.where(kor<50, kor, 1.1*kor)


#11-8
a = np.sort(kor)
a[::-1][:3]


#11-9
kor, np.where(kor>=70, '합격', '불합격')
