








import numpy as np
import pandas as pd


np.round(np.random.rand(3, 5), 2)


np.vstack([list('ABCDE'), np.round(np.random.rand(3, 5), 2)])


np.random.seed(0)
df1 = pd.DataFrame(np.vstack([list('ABCDE'), np.round(np.random.rand(3, 5), 2)]).T, # transpose
                   columns=["C1", "C2", "C3", "C4"])
df1








df2 = df1.set_index("C1")
df2





df2.set_index("C2") # 원본 반영 안됨


df2








df2.reset_index()


df2





df2.reset_index(drop=True) #c1 사라짐..





# 문제 풀어보기


df_score1 =
국어 영어 수학
1a 1b 1c
2a 2b 2c
3a 3b 3c
4a 4b 3c
5a 5b 5c


df_score1.index = 
_학생 이름  국어 영어 수학
1            1a 1b 1c
2            2a 2b 2c
3            3a 3b 3c
4            4a 4b 3c
5            5a 5b 5c


df_score2 = 
학생 이름  국어 영어 수학
1            1a 1b 1c
2            2a 2b 2c
3            3a 3b 3c
4            4a 4b 3c
5            5a 5b 5c


set index


df_score2 = 
_학생 이름  국어 영어 수학
1            1a 1b 1c
2            2a 2b 2c
3            3a 3b 3c
4            4a 4b 3c
5            5a 5b 5c


df_score1 = np.array((['국어', '영어', '수학'], [1,2,3],[4,5,6],[7,8,9]))
df_score1


















































#답


# 데이터 프레임 생성
df_score1 = pd.DataFrame(np.random.randint(0, 101, size=(5, 3)), columns=['국어', '영어', '수학'])
df_score1


# 인덱스에 학생 이름 지정
df_score1.index = ['학생1', '학생2', '학생3', '학생4', '학생5']
df_score1


# 인덱스 열을 일반 데이터열로 바꾸어 데이터프레임 생성
df_score2 = df_score1.reset_index()
df_score2


# 학생 이름을 다시 인덱스로 변경
df_score2 = df_score2.set_index('index')
df_score2











np.random.seed(0)
df3 = pd.DataFrame(np.round(np.random.randn(5, 4), 2),
                   columns=[["A", "A", "B", "B"],
                            ["C1", "C2", "C1", "C2"]])
df3








df3.columns.names = ["Cidx1", "Cidx2"] # 인덱스 이름 넣을 땐 다중인덱스 or 시각화할 때
df3








np.random.seed(0)
df4 = pd.DataFrame(np.round(np.random.randn(6, 4), 2),
                   columns=[["A", "A", "B", "B"],
                            ["C", "D", "C", "D"]],
                   index=[["M", "M", "M", "F", "F", "F"],
                          ["id_" + str(i + 1) for i in range(3)] * 2])
df4.columns.names = ["Cidx1", "Cidx2"]
df4.index.names = ["Ridx1", "Ridx2"]
df4














df4


df4.stack("Cidx1") # 열인덱스->행인덱스  # 안에 넣은거가 열인덱스에서 행인덱스로 이동하는 것


df4.stack?


데이터에서 인덱스 값은 가까울수록 값이 큼(y축은 위로 갈수록 0에 수렴, x축은 멀리 갈수록 0에 수렴)
-1은 데이터 바로 앞 인덱스


df4.stack(1) # cidx2 == 1


df4.stack(0) # cidx2 == 1


df4.unstack("Ridx2")


df4.unstack(1)


df4.unstack("Ridx1")


df4.unstack(0)


df4


 df4.unstack(0) # ridx1 == 0








df3


df3[ ("B", "C1") ]





df3.loc[0, ("B", "C1")] # loc은 행이 먼저


df3.loc[0, ("B", "C1")] = 100
df3





df3.iloc[0, 2] # iloc은 맨 아래에 있는(가장 low한) 인덱스의 정수 인덱싱을 함 





df3['A'] # 해당 상위 계층을 지정했기 때문에 아래에 있는 모든 열 보여줌


# 당연히 하위 인덱스는 단일 라벨값만 넣으면 인식이 안된다.
df3['C1'] # <- A의 C1인지 B의 C1인지 모르기 때문





df4


df4.loc[("M", "id_1"), ("A", "C")]


df4.loc[:, ("A", "C")]


df4.loc[("M", "id_1"), :]


df4.loc[("All", "All"), :] = df4.sum()
df4





df4.loc["M"]








df4.loc[("M": ), :]


df4.loc[("M", slice(None)), :] # ("M" : ) -> 불가 


df4.loc[(slice(None), "id_1"), :]  # = (:,'id_1')








df4


df5 = df4.swaplevel("Ridx1", "Ridx2") # 디폴트 0       0 = index(행), 1 = column(열)
df5


df6 = df4.swaplevel("Cidx1", "Cidx2", 1) # axis=1
df6


# 당연히 cidx1과 2는 행인덱스가 아니기 때문에 에러 -> 1로 해야 열인덱스인 cidx가 있음
df6 = df4.swaplevel("Cidx1", "Cidx2", 0)
df6








df5


df5.sort_index?


# 디폴트 axis=0 행인덱스, level = 인덱스 수준값 또는 라벨
df5.sort_index(level=0) # ridx2 기준(제일 높은거 기준) # a가 문자열에서 제일 앞이라서 ALL부터 나옴


df5.sort_index(level=1) # ridx1 기준
# F가 M보다 먼저 와서 A F M순





# 풀어보기


a 1
a 2
a 3
a 4
a 
b 1



df_score1 = pd.DataFrame(np.random.randint(0, 101, size=(5, 3)), columns=['국어', '영어', '수학'])
df_score1


df_score = pd.DataFrame(np.random.randint(0, 101,(10,5)),
                        columns=["반", "번호", "국어", "영어", "수학"])
df_score


df_score['반'][:5]= 'A'
df_score['반'][5:]= 'B'
df_score


df_score4 = df_score.set_index(['반','번호'])
df_score4

































































# 답


반 데이터, 번호 데이터, 국영수 랜덤 데이터  총 3개 데이터를 만들어야 함


반 데이터(10,1)


np.random.seed(0)    
class1 = np.array(list('AAAAABBBBB')).reshape(10, 1)
class1


점수 데이터(10,3)


score = np.random.randint(0,101,(10,3))
score


번호 데이터(1~5까지 만듦, 걍 랜덤 해도 되고, nprange 1-5 해도 되고 자유)


number = np.random.choice(range(1,6), 5, replace=False) # <- 비복원추출
number


number = np.hstack([number, number]).reshape(10, 1)
number


df_score3 = pd.DataFrame(np.hstack([class1,number, score]), columns=["반","번호","국어","영어","수학"])
df_score3
#합치기


# 1번
np.random.seed(0)                            
class1 = np.array(list('AAAAABBBBB')).reshape(10, 1)
score = np.random.randint(0,101,(10,3))
number = np.random.choice(range(1,6), 5, replace=False)
number = np.hstack([number, number]).reshape(10,1)
df_score3 = pd.DataFrame(np.hstack([class1,number, score]), columns=["반","번호","국어","영어","수학"])
df_score3                                  


# 1번 for문으로 풀어보기

df_score3 = pd.DataFrame(columns=['반', '번호', '국어', '영어', '수학'])
df_score3

for i in range(5):
    df_score3.loc[i] = ['A', i+1] + list(np.random.randint(0, 101, size=3))
    df_score3.loc[i+5] = ['B', i+1] + list(np.random.randint(0, 101, size=3))
df_score3


# 2번 인덱스 설정
df_score4 = df_score3.set_index(['반', '번호'])
df_score4


# 3번 각 학생의 평균 계산
df_score4['평균'] = round(df_score4.mean(axis=1),1)
df_score4


# 4. `df_score3`을 변형하여 행 인덱스로 "번호"를, 1차 열 인덱스로 "국어", "영어", "수학"을, 
# 2차 열 인덱스로 "반"을 가지는 데이터프레임 `df_score5`을 만든다
# 행과 열 인덱스 변경  df_score3.set_index('번호').pivot(columns='반')
df_score3


df_score3.set_index(['번호','반'])


df_score5 = df_score3.set_index(['번호','반']).unstack()
df_score5


# 각 반별 과목 평균 계산
df_score5.loc['평균'] = df_score5.mean(axis=0)
df_score5
