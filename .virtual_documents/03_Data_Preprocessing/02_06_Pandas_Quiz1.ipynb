import pandas as pd
import numpy as np
import os


# ls data








# 1
data = {'kor':[40, 55, 66, 77, 34],
        'math':[70, 55, 66, 20, 40],
        'eng':[80, 95, 100, 77, 90]}
        
name_list = ['고길동','김희동','신윤지','이민호','박준희'] 
df = pd.DataFrame(data, index = name_list)
df


신머신	55	67	88
윤파이	90	100	90


# 2

df.loc['신머신'] = [55,67,88]
df.loc['윤파이'] = [90,100,90]
df


90, 45, 77, 90, 67, 90, 80


#3 
df['sci'] = [90, 45, 77, 90, 67, 90, 80]
df


# 4 eng 과목에서 eng 평균점수보다 높은 학생은?


eng_mean = df['eng'].mean
eng_mean().round(2)


df['eng'] > eng_mean().round(2)


df[df['eng'] > eng_mean().round(2)]


for i in list(df[df['eng'] > eng_mean().round(2)].index):
    print(i)


# 5
전체 과목의 평균을 구한 후 평균이상이면 O, 평균미만이면 X를 pass 컬럼에 출력하여라.


df


df['pass'] = df['kor']+df['math']+df['eng']+df['sci']
df['pass']


tot_m = df['pass'].mean()
tot_m


df


df['pass'] = df.apply(lambda x:'O' if x.pass >= tot_m, else 'X')
df
#뭐가 틀린건지 모르겠음.. ㅈㅈ


df['pass']['고길동']


for i in df['pass']:
    if df['pass'][i] >= tot_m:
        df['pass'][i] = 'O'
    else:
        df['pass'][i] = 'X'


df['tot'] = df['kor']+df['math']+df['eng']+df['sci']
# df['tot'] = df.sum(axis=1)
# df['avg'] = df.sum(axis=1)
df['avg'] = round(df['tot']/4,2)


result = df['avg'].mean()
result


df.loc[df['avg']<result, 'pass'] = 'X'
df.loc[df['avg']>=result, 'pass'] = 'O'
df


df['avg']


























# 아 엉뚱한거 구함 1
df_m = pd.DataFrame(df.mean().round(2), columns=['average'])
df_m


# 아 엉뚱한거 구함 2
df_m.loc['kor']








student_list = [ { 'name' : 'John', 'major' : 'Computer Science', 'gender' : 'male'},
                 { 'name' : 'Nate', 'major' : 'Computer Science', 'gender' : 'male'},
                 { 'name' : 'Abrabam', 'major' : 'Physics', 'gender' : 'male'},
                 { 'name' : 'Brian', 'major' : 'Psychology', 'gender' : 'male'},
                 { 'name' : 'Jenny', 'major' : 'Economics', 'gender' : 'female'},
                 { 'name' : 'Yuba', 'major' : 'Economics', 'gender' : 'female'},
                 { 'name' : 'Jennifer', 'major' : 'Computer Science', 'gender' : 'female'},
                 { 'name' : 'Edward', 'major' : 'Computer Science', 'gender' : 'male'},
                 { 'name' : 'Sara', 'major' : 'Psychology', 'gender' : 'female'},
                 { 'name' : 'Wendy', 'major' : 'Economics', 'gender' : 'female'},
                 { 'name' : 'Sera', 'major' : 'Psychology', 'gender' : 'female'}
               ]


df_student = pd.DataFrame(student_list)
df_student





std = ['std1','std2','std3','std4','std5','std6','std7','std8','std9','std10','std11']


df_student.index = std
df_student





df_student_female = df_student[df_student['gender'] =='female']
df_student_female





df_student_female.set_index('name').drop('gender', axis = 1)





df_student2 = df_student[df_student['major']!= 'Computer Science'].set_index('name')
df_student2


# 3. 타이타닉호 승객중 1등실 선실의 여성 승객의 평균 나이를 구하라.
# titanic[(titanic['class']=='First') & (titanic['sex']=='female')]['age'].mean()





df_student2.drop('Brian', inplace = True)
df_student2.drop('Sara', inplace = True)



df_student2['grade'] = [4.5, 4.0, 3.5, 4.0, 3.0]
df_student2





df_student2['score'] = df_student2['grade'] 
df_student2.drop('grade', axis =1)


df_student2 = df_student2[['gender','score','major']]
df_student2





df_student2.describe()


a = df_student2.describe().round(1).loc[['mean','25%','50%','75%']]
a











pwd


pd.read_csv('data/기상온도_서울202012.csv', encoding = 'cp949')


df_weather = pd.read_csv('data/기상온도_서울202012.csv', encoding = 'cp949').drop(['\t\t지점번호','지점명','평균최고기온(℃)','\t최고기온일자','평균최저기온(℃)','최저기온일자'], axis = 1)
df_weather





df_weather.value_counts


df_weather.isnull()


df_weather.isnull().sum()





df_weather[df_weather['일시'].isnull()]





df_weather.dropna(how='all', inplace = True)
df_weather


df_weather[df_weather.isnull()['일시']] # 다 지워서 없음


df_weather.isnull().sum()





df_weather.fillna(0, inplace = True)
df_weather





## import datetime


df_weather['일시'] = pd.to_datetime(df_weather['일시'])


df_weather.dtypes


df_weather.set_index('일시', inplace = True)
df_weather





df_weather['2000-01-01':]





















