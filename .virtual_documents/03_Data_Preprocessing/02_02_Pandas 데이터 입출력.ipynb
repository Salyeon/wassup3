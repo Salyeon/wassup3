














pwd


%%writefile sample1.csv
c1, c2, c3
1, 1.11, one
2, 2.22, two
3, 3.33, three








import pandas as pd


pd.read_csv('sample1.csv')





%%writefile sample2.csv
1, 1.11, one
2, 2.22, two
3, 3.33, three


pd.read_csv('sample2.csv', names=['c1', 'c2', 'c3'])





pd.read_csv('sample1.csv', index_col='c1')





%%writefile sample3.txt
c1        c2        c3        c4
0.179181 -1.538472  1.347553  0.43381
1.024209  0.087307 -1.281997  0.49265
0.417899 -2.002308  0.255245 -1.10515


pd.read_table('sample3.txt', sep='\s+')





%%writefile sample4.txt
파일 제목: sample4.txt
데이터 포맷의 설명: # <- 요거를 생략하기 위함
c1, c2, c3
1, 1.11, one
2, 2.22, two
3, 3.33, three


pd.read_csv('sample4.txt', skiprows=[0, 1])





%%writefile sample5.csv
c1, c2, c3
1, 1.11, one
2, , two
누락, 3.33, three


df = pd.read_csv('sample5.csv')
df


df = pd.read_csv('sample5.csv', na_values=['누락'])
df








df.to_csv('sample6.csv')





!type sample6.csv





df.to_csv('sample7.txt', sep='|')


!type sample7.txt





df


df.to_csv('sample8.csv', na_rep='누락') # unicode encoding 처리 필요


!type sample8.csv # 인덱스 = 행인덱스(0,1,2) 열 인덱스 = 칼럼





df.index 


df.index = ["a", "b", "c"]
df


df.to_csv('sample9.csv', index=False, header=False)


!type sample9.csv








df = pd.read_csv("https://raw.githubusercontent.com/datascienceschool/docker_rpython/master/data/titanic.csv")
df





df.head?


df.head()


df.tail() #head, tail 뽑는 이유 -> 잘 찍어온건지 보기 위함, 기본값이 5라서 갯수 지정 안하면 5개 나옴


df.tail(10)











import datetime
dt_start = datetime.datetime(2015, 1, 1)
dt_end = "2016, 6, 30"





pip install pandas_datareader


import pandas_datareader as pdr


pdr?


pdr.get_data_fred?


gdp = pdr.get_data_fred('GDP', dt_start, dt_end)
gdp.tail()


gdp





inflation = pdr.get_data_fred(["CPIAUCSL", "CPILFESL"], dt_start, dt_end)
inflation.tail()
