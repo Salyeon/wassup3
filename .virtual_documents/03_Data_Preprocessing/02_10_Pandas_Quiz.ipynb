import pandas as pd
import numpy as np
import os


ls





df_covid = pd.read_csv('data/seoul-covid19_6_30_.csv')
df_covid





df_covid_2 = df_covid.drop('연번', axis=1).sort_values(by='환자').set_index('환자')
df_covid_2





df_covid_place = df_covid_2.groupby('거주지').count().sort_values(by='확진일', ascending = False)
df_covid_place





df_covid_top3 = df_covid_2[(df_covid_2['거주지']=='관악구') | (df_covid_2['거주지']=='구로구')|(df_covid_2['거주지']=='강남구')]
df_covid_top3





df_covid_2['확진일'] = '2020.' + df_covid_2['확진일']
df_covid_2['확진일']


df_covid_2['확진일']  = pd.to_datetime(df_covid_2['확진일'], format='%Y.%m.%d.') 
df_covid_2['확진일']


df_covid_2





df_covid_2['확진일'].dtype


df_covid_2.info()
# 이미 바껴있는듯..?





df_3 = df_covid_2[['확진일']]
df_3


df_4 = df_covid_2.set_index('확진일')
df_4.sort_index(inplace = True)
df_4['2020-03-01':'2020-03-31']





?





# 안배움





# 안배움





df_covid


# 안배움





df_apt = pd.read_csv('data/전국 평균 분양가격.csv', encoding = 'cp949')
df_apt





df_apt = df_apt.T
df_apt





df_apt.drop('지역', inplace = True)
# ? 2행을 왜 컬럼으로 지정해요
df_apt.T
# ???


df_apt['지역']


df_apt2 = df_apt.set_index('지역')
df_apt2 = df_apt2.T
df_apt2
# 이걸 말하려는듯..





df_apt2.index = pd.to_datetime(df_apt2.index, format='%Y년%m월')
df_apt2.index.dtype
df_apt2





df_apt2['2015-6':]





df3 = df_apt2['2014-1':'2014-12']
df3


df3[['서울','인천','경기']]





df3.to_csv('./data/평균분양가격_서울인천경기.csv')
