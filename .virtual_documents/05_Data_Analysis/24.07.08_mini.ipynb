


import pandas as pd
import matplotlib.pyplot as plt
import numpy as np
import koreanize_matplotlib
import seaborn as sns


pip show seaborn


#pip install seaborn==0.13.2


pwd





mini = pd.read_table('data/mini.csv',sep=',')
mini


mini.info()


mini.describe()


mini.describe(include='all')


mini['average_login_time'].sort_values()





by = mini.groupby('payment_pattern')['user_id'].count()
by.plot()


byy = pd.DataFrame(mini.payment_pattern)
byy.plot.hist(bins=8)


byy.value_counts()








a = mini.sort_values('subscription_duration')
a[a['subscription_duration'] == 1]


mini.groupby('subscription_duration')['user_id'].count()


mini








# 구독기간 추이
a = mini.groupby('subscription_duration')['user_id'].count()
a.plot()


aa = pd.DataFrame(mini.subscription_duration)
aa.plot.kde()


aa.describe()


a


# 마지막 접속 시간
b = mini.groupby('recent_login_time')['user_id'].count()
b.plot()


bb = pd.DataFrame(mini.recent_login_time)
bb.plot.kde()


b


c = mini.groupby('average_login_time')['user_id'].count()
c.plot()


cc = pd.DataFrame(mini.average_login_time)
cc.plot.kde()


c


ccc = pd.DataFrame(mini.monthly_active_learning_days.describe())
ccc


aca = pd.DataFrame(mini.T).drop(['recent_login_time','subscription_duration','target','average_time_per_learning_session','recent_learning_achievement']).T
aca.plot.kde()


ada = pd.DataFrame(mini.monthly_active_learning_days)
ada.plot.kde()


mini.plot.kde()


pd.DataFrame(mini.average_login_time.sort_values()).plot(kind='bar')


# 월간 활동 학습 일수
d = mini.groupby('monthly_active_learning_days')['user_id'].count()
d.plot()


d


aaa = pd.DataFrame(mini.monthly_active_learning_days.describe())
aaa


aaa.drop(['count'],axis=0, inplace=True)


aaa.plot(kind='bar')


e = mini.groupby('total_completed_courses')['user_id'].count()
e.plot()


e





pivot_table = pd.pivot_table(mini, index='total_completed_courses', columns='monthly_active_learning_days', values='user_id', aggfunc='count')
pivot_table


sns.heatmap(pivot_table)





pivot_table2 = pd.pivot_table(mini, index='recent_learning_achievement', columns='monthly_active_learning_days', values='user_id', aggfunc='count')
pivot_table2


sns.heatmap(pivot_table2)





f = pd.DataFrame(mini.average_time_per_learning_session)
ff = f.sort_values('average_time_per_learning_session')
ff.plot.hist(bins=30)


ff.describe()


ff.tail()





f.mean()





g = pd.DataFrame(mini.monthly_active_learning_days)
g


g.describe()


g.plot.hist()





h = pd.DataFrame(mini.recent_learning_achievement)
h.plot.hist()


h.describe()





i = mini.groupby('total_completed_courses')['user_id'].count()
i.plot()


ii = pd.DataFrame(mini.total_completed_courses)
ii.plot.hist()


ii.describe()





mini
mini.T.drop(['recent_login_time','payment_pattern','community_engagement_level','preferred_difficulty_level','target','customer_inquiry_history','subscription_type','abandoned_learning_sessions'])








sd = pd.DataFrame({'user_id': mini['user_id'], 'subscription_duration': mini['subscription_duration']})
sd.describe


sd.plot.hist(bins=23)


sd.plot.pie()


sd.describe()





df3 = mini.payment_pattern.value_counts()
df3.plot.pie(autopct='%.2f%%')
plt.title("사용자의 지난 3개월 간의 결제 패턴")
plt.show()


df33 = pd.DataFrame(df3)
df33.sort_index()


# 3개월 결제 패턴과 장기 결제 인원 비교
pivot_table3 = pd.pivot_table(mini, index='subscription_duration', columns='payment_pattern', values='user_id', aggfunc='count')
pivot_table3


sns.heatmap(pivot_table3)


sns.pairplot(pivot_table3)
plt.suptitle("3개월 결제 패턴과 장기 결제 인원 비교")
plt.show()


# 상관관계가 전혀~ 없다








j = pd.DataFrame(mini.average_login_time)
j.plot.hist()


j.describe()


jj = j.sort_values(by='average_login_time')
jj.plot.hist()





k = pd.DataFrame(mini.average_time_per_learning_session)
k.plot.kde()


k.plot.hist()


k.describe()





mini['preferred_difficulty_level']


l = pd.DataFrame(mini.preferred_difficulty_level)
ll = l['preferred_difficulty_level'].value_counts()
ll.plot(kind = 'bar')


ll


l.describe()





# 3개월 결제 패턴과 장기 결제 인원 비교
pivot_table5 = pd.pivot_table(mini, index='preferred_difficulty_level', columns='subscription_type', values='user_id', aggfunc='count')
pivot_table5


sns.heatmap(pivot_table5, annot=True)








g = pd.DataFrame(mini.monthly_active_learning_days)
g


g.plot.kde()


g.describe()





h = pd.DataFrame(mini.recent_learning_achievement)
h.plot.hist()





m = pd.DataFrame(mini.abandoned_learning_sessions)
m.plot.hist()


m.describe()





n = pd.DataFrame(mini.community_engagement_level)
n.plot.hist()


nn = mini.groupby('community_engagement_level')['user_id'].count()
nn.plot.pie(autopct='%.2f%%')


pd.DataFrame(nn)


pivot_table = pd.pivot_table(mini, index='payment_pattern', columns='subscription_duration', values='user_id', aggfunc='count')
pivot_table


sns.heatmap(pivot_table, annot=True)


pivot_table = pd.pivot_table(mini, index='target', columns='subscription_duration', values='user_id', aggfunc='count')
pivot_table.plot.bar()
plt.legend()


sns.jointplot(x='payment_pattern', y='subscription_duration',data=mini,kind='kde')


sns.jointplot(y='average_time_per_learning_session', x='total_completed_courses',data=mini)


sns.stripplot(x='preferred_difficulty_level', y='recent_learning_achievement',data=mini, jitter=True)


sns.pairplot(pivot_table)


abc = pivot_table.corr()
sns.heatmap(abc)
































mini.average_login_time.describe()








a = pd.DataFrame(mini.subscription_duration)
a.plot.kde()


descriptive_stats = a.describe()


subscription_duration = mini['subscription_duration']
descriptive_stats = subscription_duration.describe()

plt.boxplot(subscription_duration)
plt.title('구독 기간')
plt.text(1.1, descriptive_stats['min'], f"Min: {descriptive_stats['min']}")
plt.text(1.1, descriptive_stats['25%'], f"Q1: {descriptive_stats['25%']}")
plt.text(1.1, descriptive_stats['50%'], f"Median: {descriptive_stats['50%']}")
plt.text(1.1, descriptive_stats['75%'], f"Q3: {descriptive_stats['75%']}")
plt.text(1.1, descriptive_stats['max'], f"Max: {descriptive_stats['max']}")
plt.show()


aa.describe()





pivot_table = pd.pivot_table(mini, index='total_completed_courses', columns='monthly_active_learning_days', values='user_id', aggfunc='count')
pivot_table


sns.heatmap(pivot_table)























mini.info()


mini_0.describe()


mini_1.describe()


mini_0 = pd.DataFrame(mini[mini['target']==0])
mini_0.describe(include='all')


mini_1 = pd.DataFrame(mini[mini['target']==1])
mini_1.describe(include='all')


sns.scatterplot(data=mini, x="payment_pattern", y="monthly_active_learning_days", hue="target")


sns.swarmplot(x="preferred_difficulty_level", y="recent_learning_achievement", hue="community_engagement_level", data=mini)
plt.show()





pivot_table = pd.pivot_table(mini, index='target', columns='average_time_per_learning_session', values='user_id', aggfunc='count')
pivot_table


sns.heatmap(pivot_table)


mini_cor = mini.corr()
mini_cor





pivot_table = pd.pivot_table(mini, index='total_completed_courses', columns='subscription_duration', values='user_id', aggfunc='count')
pivot_table


sns.scatterplot(data=mini,x='total_completed_courses',y='subscription_duration')


pivot_table = pd.pivot_table(mini, index='preferred_difficulty_level', columns='subscription_duration', values='user_id', aggfunc='count')
pivot_table


sort_order = ['High', 'Medium', 'Low']
sorted_pivot_table = pivot_table.reindex(sort_order)
sorted_pivot_table


sns.heatmap(sorted_pivot_table)





pivot_table = pd.pivot_table(mini, index='community_engagement_level', columns='total_completed_courses', values='user_id', aggfunc='count')
pivot_table


sns.heatmap(pivot_table)





pivot_table = pd.pivot_table(mini, index='target', columns='average_time_per_learning_session', values='user_id', aggfunc='count')
pivot_table


pivot_table.plot.box()


selected_columns = ['target', 'average_time_per_learning_session']
new_df = mini[selected_columns]
new_df


dfdf = new_df.sort_values('target')
dfdf[dfdf['target']==1].describe()


dfdf[dfdf['target']==0].describe()


a=new_df.corr()
a


sns.heatmap(a)


a = mini.sort_values('subscription_duration')
a[a['subscription_duration'] == 1]





sns.boxplot(x="day", y="total_bill", data=tips)
