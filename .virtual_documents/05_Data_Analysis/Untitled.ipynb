import pandas as pd


pwd


mini = pd.read_table('data/mini.csv',sep=',')
mini


mini.info()


mini.describe()


mini.describe(include='all')
