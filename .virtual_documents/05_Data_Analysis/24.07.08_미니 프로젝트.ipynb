import pandas as pd
import matplotlib.pyplot as plt
import numpy as np
import koreanize_matplotlib


pwd


mini = pd.read_table('data/mini.csv',sep=',')
mini


mini.info()


mini.describe()


mini.describe(include='all')


mini.groupby('payment_pattern')['user_id'].count()


a = mini.sort_values('subscription_duration')
a[a['subscription_duration'] == 1]


mini.groupby('subscription_duration')['user_id'].count()


mini


a = mini.groupby('subscription_duration')['user_id'].count()
a.plot()


a


b = mini.groupby('recent_login_time')['user_id'].count()
b.plot()


b


c = mini.groupby('average_login_time')['user_id'].count()
c.plot()


c


pd.DataFrame(mini.average_login_time.sort_values()).plot(kind='bar')


d = mini.groupby('monthly_active_learning_days')['user_id'].count()
d.plot()


d


e = mini.groupby('total_completed_courses')['user_id'].count()
e.plot()


e


# from 요일 별 접속 시간 살펴보기 
# to 접속시간 별 완료 코스 수 살펴보기
#피벗테이블 만들기
est_data_pivot_table = pd.pivot_table(mini, values='total_completed_courses',   #values : 열에 들어 가는 부분
                       index=['monthly_active_learning_days'], #index : 행에 들어가는 부분
                       columns=['monthly_active_learning_days'],  
                       aggfunc="count")  #aggfunc : 데이터 축약시 사용할 함수
est_data_pivot_table
