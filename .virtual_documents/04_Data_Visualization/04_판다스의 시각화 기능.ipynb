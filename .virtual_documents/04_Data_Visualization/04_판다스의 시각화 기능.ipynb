





import pandas as pd
import numpy as np
import seaborn as sns
import matplotlib.pylab as plt
import koreanize_matplotlib 


# matplotlib은 한글 폰트 설치 + 설정해야함 but OS따라 방법이 다름 ! 
# window(jupyter notebook), mac, colab(리눅스) 다 다름
# koreanize_matplotlib해서 쉽게 할 수 있었다~


np.random.seed(0)
df1 = pd.DataFrame(np.random.randn(100, 3), # 평균0 표준편차1을 가지는 표준정규분포 내에서 임의 추출, 100행 3열
                   index=pd.date_range('1/1/2018', periods=100),
                   columns=['A', 'B', 'C']).cumsum() # cumsum은 배열에서 주어진 축에 따라 누적되는 원소들의 누적합을 계산
df1.tail()


df1.info()


df1.plot()


# 직접 스타일 인자를 넣을 수도 있음
df1.plot?


df1.plot()
plt.title("Pandas의 Plot메소드 사용 예")
plt.xlabel("시간")
plt.ylabel("Data")
plt.show()

#판다스 플롯 + 맷플로립


df1.plot(title="Pandas의 Plot메소드 사용 예", xlabel="시간", ylabel="Data")
# 이렇게 한줄로도 쓸 수 있음





iris = sns.load_dataset("iris")    # 붓꽃 데이터
titanic = sns.load_dataset("titanic")    # 타이타닉호 데이터


iris.sepal_length[:20]


iris.sepal_length[:20].plot(kind='bar', rot=0) # rot은 xtick 각도 # 시리즈도 plot을 지원함
plt.title("꽃받침의 길이 시각화")
plt.xlabel("Data")
plt.ylabel("꽃받침의 길이")
plt.show()





iris.info()


iris.describe()


iris[:5].plot.bar(rot=0)
plt.title("Iris 데이터의 Bar Plot")
plt.xlabel("Data")
plt.ylabel("각 Feature의 값")
plt.ylim(0, 7)
plt.show()





df2 = iris.groupby(iris.species).mean()
df2.columns.name = "feature"
df2





df2.plot.bar(rot=0)
plt.title("각 종의 Feature별 평균")
plt.xlabel("평균")
plt.ylabel("종")
plt.ylim(0, 8)
plt.show()

#범주형 데이터(종의 개수)





df2.T


df2.T.plot.bar(rot=0)
plt.title("각 Feature의 종 별 평균")
plt.xlabel("Feature")
plt.ylabel("평균")
plt.show()

#수치형 데이터





df3 = titanic.pclass.value_counts()
df3


df3 = titanic.pclass.value_counts()
df3.plot.pie(autopct='%.2f%%')
plt.title("선실별 승객 수 비율")
# plt.axis('equal')
plt.show()


iris.plot.hist()
plt.title("각 Feature 값들의 빈도수 Histogram")
plt.xlabel("데이터 값")
plt.show()


iris.plot.kde()
plt.title("각 Feature 값들의 빈도수에 대한 Kernel Density Plot")
plt.xlabel("데이터 값")
plt.show()


iris.plot.box()
plt.title("각 Feature 값들의 빈도수에 대한 Box Plot")
plt.xlabel("Feature")
plt.ylabel("데이터 값")
plt.show()





iris.boxplot(by='species')
plt.tight_layout(pad=3, h_pad=1)
plt.title("각 Feature의 종 별 데이터에 대한 Box Plot")
plt.show()


iris.plot.box(by='species')
plt.tight_layout(pad=3, h_pad=1)
plt.title("각 Feature의 종 별 데이터에 대한 Box Plot")
plt.show()
