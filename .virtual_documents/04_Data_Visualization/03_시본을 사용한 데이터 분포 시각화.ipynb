





import seaborn as sns
import matplotlib.pylab as plt


# 한글 및 특정 문자 깨짐 문제 해결
import koreanize_matplotlib # 시본의 한글 깨짐은 해결못하지만, - 깨짐 해결

from matplotlib import font_manager, rc # 폰트 세팅을 위한 모듈 추가
font_path = "C:/Windows/Fonts/malgun.ttf" # 사용할 폰트명 경로 삽입
font = font_manager.FontProperties(fname = font_path).get_name()
rc('font', family = font)
# plt.rcParams['font.size'] = 11.0
plt.rcParams['font.family'] = 'Malgun Gothic' # 'batang'

# 그래프에서 마이너스 폰트 깨지는 문제에 대한 대처
# matplotlib.rcParams['axes.unicode_minus'] = False


# 주의 메시지 숨기기
import warnings
warnings.filterwarnings("ignore")











iris = sns.load_dataset("iris")    # 붓꽃 데이터
titanic = sns.load_dataset("titanic")    # 타이타닉호 데이터
tips = sns.load_dataset("tips")    # 팁 데이터
flights = sns.load_dataset("flights")    # 여객운송 데이터








sns.set_theme()
sns.kdeplot(data=tips, x="total_bill") #선으로 된거
sns.rugplot(data=tips, x="total_bill") #아래에 있는거
plt.show()

#통합 데이터를 넣기, 칼럼명 정도만 지정해주기


sns.scatterplot(data=tips, x="total_bill", y="tip")
sns.rugplot(data=tips, x="total_bill", y="tip")


tips.head()


# hue = 범주 구분
sns.scatterplot(data=tips, x="total_bill", y="tip", hue="time")
sns.rugplot(data=tips, x="total_bill", y="tip", hue="time")





x = iris
x


sns.kdeplot(x)
plt.title("아이리스 Kernel Density Plot")
plt.show()





x = iris['sepal_length']
x


sns.distplot(x, kde=True, rug=True)
plt.title("Iris 데이터 중, 꽃잎의 길이에 대한 Dist Plot")
plt.show()








titanic.head()


sns.countplot(x="class", data=titanic) 
plt.title("타이타닉호의 각 클래스별, 승객 수")
plt.show()





sns.barplot?


#풀어보기
sns.barplot(data=titanic, x='class')
plt.show()
#망함 ㅎ


titanic['class'].unique()


titanic['class'].value_counts() # 시리즈에서만 사용 가능


titanic['class'].unique()


titanic['class'].value_counts().index


# 깜짝 퀴즈, barplot으로 그려보자!
# barplot은 x에는 범주형, y에는 수치를 넣어줘야 한다.
sns.barplot(x=titanic['class'].unique(), y= titanic['class'].value_counts()) 
plt.title("타이타닉호의 각 클래스별, 승객 수")
plt.show()


sns.countplot(x="day", data=tips)
plt.title("요일별 팁을 준 횟수") # 거래주문 수에 비례한건 아닐까?(왜 금요일만 팁 횟수가 적을까? 에 대한 분석을 위해)
plt.show()

















sns.jointplot(x="sepal_length", y="sepal_width", data=iris)
plt.suptitle("꽃받침의 길이와 넓이의 Joint Plot", y=1.02)
plt.show()





sns.jointplot(x="sepal_length", y="sepal_width", data=iris, kind="kde")
plt.suptitle("꽃받침의 길이와 넓이의 Joint Plot 과 Kernel Density Plot", y=1.02) #suptitle(supertitle)을 쓴 이유 -> 그냥 title로 하면 안나옴
# 다수의 plt가 들어있기 때문에 단순히 title해도 안나옴 !
plt.show()








# 3차원 이상 = 칼럼이 3개 이상이란 뜻


iris.head()


sns.pairplot(iris)
plt.title("Iris Data의 Pair Plot")
plt.show()

# 각자 본인 값을 만나는 경우엔 히스토그램(산도 분포)를 표기함


sns.pairplot?





sns.pairplot(iris, hue="species", markers=["o", "s", "D"])
plt.title("Iris Pair Plot, Hue로 꽃의 종을 시각화")
plt.show()
# species별로 색 구분


help(sns.PairGrid)


# 산점도, 도수분포표 말고 다른걸 보고 싶을 때 사용하는 것
# pair grid
g = sns.PairGrid(iris, hue='species')

g.map_diag(sns.histplot) # 대각선 = 히스토그램
g.map_offdiag(sns.scatterplot) # 비대각선 = 산점도

g.add_legend()
plt.show()


# pair grid
g = sns.PairGrid(iris, hue='species')

g.map_diag(sns.boxplot) # 대각선 = 박스 플롯
g.map_offdiag(sns.lineplot) # 비대각선 = 라인 플롯 

g.add_legend()
plt.show()








범주형 데이터 - 빈도로 표현(히트맵으로 파악)
상관분석할 때 많이 사용함!


titanic_size = titanic.pivot_table(index="class", columns="sex", aggfunc="size")
titanic_size


sns.heatmap(titanic_size)
plt.title("Heatmap")
plt.show()


sns.heatmap(titanic_size, cmap=sns.light_palette("gray", as_cmap=True), annot=True, fmt="d") # annot - 주석

plt.title("Heatmap")
plt.show()











sns.barplot(x="day", y="total_bill", data=tips)
plt.title("요일 별, 전체 팁")
plt.show()
#편차를 자동으로 그려줌





sns.boxplot(x="day", y="total_bill", data=tips)
plt.title("요일 별 전체 팁의 Box Plot")
plt.show()





sns.violinplot(x="day", y="total_bill", data=tips)
plt.title("요일 별 전체 팁의 Violin Plot")
plt.show()

# 밀도 그래프를 복제한거라서 바이올린처럼 보임
# 안에는 박스플롯





import numpy as np


np.random.seed(0)
sns.stripplot(x="day", y="total_bill", data=tips, jitter=True) # True가 기본값, False로 바꿔보자
plt.title("요일 별 전체 팁의 Strip Plot")
plt.show()
# jitter = Treu 하면 너무 많으면 안겹치게, False하면 일자로 겹치게 나옴





sns.swarmplot(x="day", y="total_bill", data=tips)
plt.title("요일 별 전체 팁의 Swarm Plot")
plt.show()








sns.barplot(x="day", y="total_bill", hue="sex", data=tips)
plt.title("요일 별, 성별 전체 팁의 Histogram")
plt.show()


sns.boxplot(x="day", y="total_bill", data=tips)
plt.title("요일 별, 성별 전체 팁의 Box Plot")
plt.show()


sns.boxplot(x="day", y="total_bill", hue="sex", data=tips) #hue를 줘서 박스플롯도 여럿 비교
plt.title("요일 별, 성별 전체 팁의 Box Plot")
plt.show()


sns.violinplot(x="day", y="total_bill", hue="sex", data=tips) # 마찬가지로 hue
plt.title("요일 별, 성별 전체 팁의 Violin Plot")
plt.show()


sns.stripplot(x="day", y="total_bill", hue="sex", data=tips, jitter=True)
plt.title("요일 별, 성별 전체 팁의 Strip Plot")
plt.legend(loc=1)
plt.show()


sns.swarmplot(x="day", y="total_bill", hue="sex", data=tips)
plt.title("요일 별, 성별 전체 팁의 Swarm Plot")
plt.legend(loc=1)
plt.show()





sns.violinplot(x="day", y="total_bill", hue="sex", data=tips)
plt.title("요일 별, 성별 전체 팁의 Violin Plot, Split=True")
plt.show()


어차피 양옆은 복제한거니까 왼쪽 오른쪽 다른 데이터 넣자


sns.violinplot(x="day", y="total_bill", hue="sex", data=tips, split=True)
plt.title("요일 별, 성별 전체 팁의 Violin Plot, Split=True")
plt.show()


sns.stripplot(x="day", y="total_bill", hue="sex",
              data=tips, jitter=True, dodge=False)
plt.title("요일 별, 성별 전체 팁의 Strip Plot, Split=True")
plt.show()


sns.stripplot(x="day", y="total_bill", hue="sex",
              data=tips, jitter=True, dodge=True)
plt.title("요일 별, 성별 전체 팁의 Strip Plot, Split=True")
plt.show()


sns.swarmplot(x="day", y="total_bill", hue="sex", data=tips, dodge=False)
plt.title("요일 별, 성별 전체 팁의 Swarm Plot, Split=True")
plt.show()


sns.swarmplot(x="day", y="total_bill", hue="sex", data=tips, dodge=True)
plt.title("요일 별, 성별 전체 팁의 Swarm Plot, Split=True")
plt.show()





flights


flights_passengers = flights.pivot(index="month", columns="year", values="passengers")
flights_passengers


plt.title("연도, 월 별 승객수에 대한 Heatmap")
sns.heatmap(flights_passengers, annot=True, fmt="d", linewidths=1)
plt.show()








비교하는 조건의 조건의 조건이 3개 이상일 때


titanic.survived


data = titanic[titanic.survived.notnull()]
sns.catplot(x="age", y="sex", hue="survived", row="class", data=data,
            kind="violin", split=True, height=2, aspect=4)
plt.title("각 클래스의 성별 생존자 수의 Catplot") #각 클래스, 각 성별, 생존 유무, 나이별로 보고 싶을 때
plt.show()








plt.title("Boxplot과 Strip Plot로 표현한, 요일 별 팁")

sns.boxplot(x="tip", y="day", data=tips, whis=np.inf)
sns.stripplot(x="tip", y="day", data=tips, jitter=True, color="0.4")

plt.show()


plt.title("Violin plot과 Swarm Plot로 표현한, 요일 별 팁")

sns.violinplot(x="day", y="total_bill", data=tips, inner=None)
sns.swarmplot(x="day", y="total_bill", data=tips, color="0.9")

plt.show()








def sinplot(flip=1):
    x = np.linspace(0, 14, 100)
    for i in range(1, 7):
        plt.plot(x, np.sin(x + i * .5) * (7 - i) * flip)


sns.set_style?


sinplot()


sns.set_style("ticks")
sinplot()


sns.set_style("darkgrid")
sinplot()


sns.set_style("whitegrid")
sinplot()
