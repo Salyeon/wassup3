





























import matplotlib as mpl
import matplotlib.pyplot as plt
# plt.style.use("ggplot")


mpl.__version__


# %matplotlib inline ## 현재는 생략가능











plt.plot?





plt.title("Line Plot")
plt.plot([1, 4, 9, 16]) # 각 data 값 = y틱
plt.show()

















plt.title("x ticks")
plt.plot([10, 20, 30, 40], [1, 4, 9, 16]) # x틱,y틱
plt.show() # 이걸 디스플레이해줘


plt.title("x ticks")
plt.plot([10, 20, 30, 40], [1, 4, 9, 16])
# vscode, 파이참 등으로 했을 때 print하려면 원래는 show를 넣어줘야하지만 파이썬에서는 자체 기능으로 보여주는중


plt.title("x ticks")
plt.plot([10, 20, 30, 40], [1, 4, 9, 16])








# !pip install koreanize-matplotlib


pip install koreanize-matplotlib


import koreanize_matplotlib


plt.title('한글 제목')
plt.plot([10, 20, 30, 40], [1, 4, 9, 16])
plt.xlabel("엑스축 라벨")
plt.ylabel("와이축 라벨")
plt.show()








plt.plot?


plt.title("'rs--' 스타일의 plot ")
plt.plot([10, 20, 30, 40], [1, 4, 9, 16], 'cs--') # cs-- r: 빨간색, s: 마커 네모 --: 선 스타일 점선
plt.show()





























plt.plot([10, 20, 30, 40], [1, 4, 9, 16], c="b",lw=5, ls="--", marker="o", ms=15, mec="g", mew=5, mfc="r")
plt.title("스타일 적용 예")
plt.show()
# lw = 선 너비 ms = 마커 사이즈 mec = 마커 엣지 색 emw = 마커 엣지 외부 색 mfc = 마커 내부 색














plt.title("x축, y축의 범위 설정")
plt.plot([10, 20, 30, 40], [-5, 4, 9, 16],
         c="b", lw=5, ls="--", marker="o", ms=15, mec="g", mew=5, mfc="r")
plt.xlim(0, 50)
plt.ylim(-10, 30)
plt.show()














import numpy as np
X = np.linspace(-np.pi, np.pi, 256) # 구간 내 숫자 채우기

Y = np.cos(X) # x값에 대한 cos값

plt.title("x축과 y축의 tick label 설정")
plt.plot(X, Y)

# plt.xticks([-np.pi, -np.pi/2, 0, np.pi/2, np.pi])
# plt.yticks([-1, 0, +1])

plt.show()


import numpy as np
X = np.linspace(-np.pi, np.pi, 256) # 구간 내 숫자 채우기

Y = np.cos(X) # x값에 대한 cos값

plt.title("x축과 y축의 tick label 설정")
plt.plot(X, Y)

plt.xticks([-np.pi, -np.pi/2, 0, np.pi/2, np.pi])
plt.yticks([-1, 0, +1])

plt.show()





plt.xticks?


X = np.linspace(-np.pi, np.pi, 256)
Y = np.cos(X)

plt.title("LaTeX, 문자열로 tick label 정의")
plt.plot(X, Y)

plt.xticks([-np.pi, -np.pi / 2, 0, np.pi / 2, np.pi], #라벨
           [r'$-\pi$', r'$-\pi/2$', r'$0$', r'$+\pi/2$', r'$+\pi$']) #값

plt.yticks([-1, 0, 1], ["Low", "Zero", "High"])

plt.show()


plt.tick_params?


X = np.linspace(-np.pi, np.pi, 256)
Y = np.cos(X)

plt.title("Tick 스타일 정의")
plt.plot(X, Y)
plt.xticks([-np.pi, -np.pi / 2, 0, np.pi / 2, np.pi],
           [r'$-\pi$', r'$-\pi/2$', r'$0$', r'$+\pi/2$', r'$+\pi$'])
plt.yticks([-1, 0, 1], ["Low", "Zero", "High"])


plt.tick_params(axis='x', direction='inout', length=20, pad=10, # axis =x: x 좌표에 params를 지정 
                # inout - 안과 밖 모두 표시(y틱 보면 밖에만 표시되어있음)
width=5, color='red', labelsize=20, labelcolor='Orange', labelrotation=180)


plt.show()











plt.grid?


X = np.linspace(-np.pi, np.pi, 256)
Y = np.cos(X)

plt.title("Grid 추가")
plt.plot(X, Y)
plt.xticks([-np.pi, -np.pi / 2, 0, np.pi / 2, np.pi],
           [r'$-\pi$', r'$-\pi/2$', r'$0$', r'$+\pi/2$', r'$+\pi$'])
plt.yticks([-1, 0, 1], ["Low", "Zero", "High"])

plt.grid(True)
# plt.grid(True, color='r', linestyle='-', linewidth=2)

plt.show()


X = np.linspace(-np.pi, np.pi, 256)
Y = np.cos(X)

plt.title("Grid 추가")
plt.plot(X, Y)
plt.xticks([-np.pi, -np.pi / 2, 0, np.pi / 2, np.pi],
           [r'$-\pi$', r'$-\pi/2$', r'$0$', r'$+\pi/2$', r'$+\pi$'])
plt.yticks([-1, 0, 1], ["Low", "Zero", "High"])

# plt.grid(True)
plt.grid(True, color='r', linestyle='-', linewidth=2)

plt.show()








t = np.arange(0., 5., 0.2)

plt.title("라인 플롯에서 여러개의 선 그리기")
plt.plot(t,t,'r--',    # x y s(스타일)
         t,0.5*(t**2),'bs:',  # x2 y2 s2  
         t,0.2*(t**3),'g^-') # x3 y3 s3
plt.show()
# 따로 있어야 커스텀하기 편함, 권장하진 않음








plt.title("복수의 plot 명령을 한 그림에서 표현")
plt.plot([1, 4, 9, 16],
         c="b", lw=5, ls="--", marker="o", ms=15, mec="g", mew=5, mfc="r")

plt.plot([9, 16, 4, 1],
         c="k", lw=3, ls=":", marker="s", ms=10, mec="m", mew=5, mfc="c")

plt.show()
# plt 2개 그리고 show하면 한꺼번에 나오기 때문에 이 방법이 더 좋다











X = np.linspace(-np.pi, np.pi, 256)

C, S = np.cos(X), np.sin(X)

plt.title("legend를 표시한 플롯")

plt.plot(X, C, ls="--", label="cosine")
plt.plot(X, S, ls=":", label="sine")

plt.legend() # 딱히 지정 안하면 비어있는 곳에 자동으로 들어감

plt.show()


X = np.linspace(-np.pi, np.pi, 256)

C, S = np.cos(X), np.sin(X)

plt.title("legend를 표시한 플롯")

plt.plot(X, C, ls="--", label="cosine")
plt.plot(X, S, ls=":", label="sine")

# plt.legend(loc=10)
plt.legend('best')
plt.show()


X = np.linspace(-np.pi, np.pi, 256)

C, S = np.cos(X), np.sin(X)

plt.title("legend를 표시한 플롯")

plt.plot(X, C, ls="--", label="cosine")
plt.plot(X, S, ls=":", label="sine")

plt.legend(loc=10)
# plt.legend('best')
plt.show()


plt.legend?


# 범례 스타일
X = np.linspace(-np.pi, np.pi, 256)
C, S = np.cos(X), np.sin(X)
plt.title("Legend Style")
plt.plot(X, C, ls="--", label="cosine")
plt.plot(X, S, ls=":", label="sine")

plt.legend(loc='best', ncols=2, fontsize=20, frameon=True, shadow=True, facecolor='#EEEEEE',labelcolor='Green')

plt.show()














X = np.linspace(-np.pi, np.pi, 256)
C, S = np.cos(X), np.sin(X)
plt.plot(X, C, label="cosine")

plt.xlabel("time")
plt.ylabel("amplitude")

plt.title("Cosine Plot")
plt.show()


# label sytle
X = np.linspace(-np.pi, np.pi, 256)
C, S = np.cos(X), np.sin(X)
plt.plot(X, C, label="cosine")

plt.xlabel('time', loc='right', labelpad=15, fontsize=10, color='blue')
plt.ylabel('amplitude', loc='top', labelpad=15, fontsize=10, color='blue')

plt.title("Cosine Plot label style")
plt.show()


# 회전도 가능

X = np.linspace(-np.pi, np.pi, 256)
C, S = np.cos(X), np.sin(X)
plt.plot(X, C, label="cosine")

plt.xlabel('time', loc='right', labelpad=15, fontsize=10, color='blue')
# plt.ylabel('amplitude', loc='top', labelpad=15, fontsize=10, color='blue', rotation=0) # -할수있음
plt.ylabel('amplitude', loc='top', labelpad=-50, fontsize=10, color='blue', rotation=0)

plt.title("Cosine Plot")
plt.show()





X = np.linspace(-np.pi, np.pi, 256)
C, S, T = np.cos(X), np.sin(X), np.tan(X)
plt.title('연습문제')

plt.plot(X,C, ls=":", label='cosine')
plt.plot(X,S, ls="-.", label='sine')
plt.plot(X,X, label='tan')

plt.legend(loc='best')
plt.show()





#참고 자료들


plt.title("'rs--' 스타일의 plot ")
plt.plot([10, 20, 30, 40], [1, 4, 9, 16], 'cs--') # cs-- r: 빨간색, s: 마커 네모 --: 선 스타일 점선
plt.show()


plt.plot([10, 20, 30, 40], [1, 4, 9, 16], c="b",lw=5, ls="--", marker="o", ms=15, mec="g", mew=5, mfc="r")
plt.title("스타일 적용 예")
plt.show()
# lw = 선 너비 ms = 마커 사이즈 mec = 마커 엣지 색 emw = 마커 엣지 외부 색 mfc = 마커 내부 색








# 답


X = np.linspace(-np.pi, np.pi, 256)
C, S, T = np.cos(X), np.sin(X), np.tan(X)
plt.title("연습 문제")

plt.plot(X, C, ls="--", label="cosine")
plt.plot(X, S, ls=":", label="sine")
plt.plot(X, X, ls="-", label="Line")
# plt.plot(X, T, ls="-", label="tangent")

plt.legend(loc=4)
plt.show()




















np.random.seed(0)
# f1 = plt.figure(figsize=(10, 2)) # 캔버스 크기부터 정의하기
# 그림 동시에 10개 그린다던가, 그림 커스텀한다던가 하면 반드시 캔버스 크기 지정해야함
# plt.figure(figsize=(10, 2))
plt.title("figure size : (10, 2)")
plt.plot(np.random.randn(100))
plt.show()


np.random.seed(0)
# f1 = plt.figure(figsize=(10, 2))
plt.figure(figsize=(10, 2))
plt.title("figure size : (10, 2)")
plt.plot(np.random.randn(100))
plt.show()








plt.gcf?
# Get the Current Figure


f1 = plt.figure()
plt.title("현재의 Figure 객체")
plt.plot([1, 2, 3, 4], 'ro:')

f2 = plt.gcf() # f2 = f1
print(f1, id(f1))
print(f2, id(f2))
plt.show()




















x1 = np.linspace(0.0, 5.0)
x2 = np.linspace(0.0, 2.0)

y1 = np.cos(2 * np.pi * x1) * np.exp(-x1)
y2 = np.cos(2 * np.pi * x2)

ax1 = plt.subplot(2, 1, 1) # 2행 1열, 순서(인덱스)
plt.plot(x1, y1, 'yo-')
plt.title('A tale of 2 subplots')
plt.ylabel('Damped oscillation')

ax2 = plt.subplot(2, 1, 2) # 2행 1열, 순서(인덱스)
plt.plot(x2, y2, 'r.-')
plt.xlabel('time (s)')
plt.ylabel('Undamped')

plt.tight_layout()
plt.show()





np.random.seed(0)

plt.subplot(221) # 2행2열 1번
plt.plot(np.random.rand(5))
plt.title("axes 1")

plt.subplot(222)# 2행2열 2번
plt.plot(np.random.rand(5))
plt.title("axes 2")

plt.subplot(223) # 2행2열 3번
plt.plot(np.random.rand(5))
plt.title("axes 3")

plt.subplot(224) # 2행2열 4번
plt.plot(np.random.rand(5))
plt.title("axes 4")

plt.tight_layout()
plt.show()


# 2행 3열
np.random.seed(0)

plt.subplot(231)
plt.plot(np.random.rand(5))
plt.title("axes 1")

plt.subplot(232)
plt.plot(np.random.rand(5))
plt.title("axes 2")

plt.subplot(233)
plt.plot(np.random.rand(5))
plt.title("axes 3")

plt.subplot(234)
plt.plot(np.random.rand(5))
plt.title("axes 4")

plt.subplot(235)
plt.plot(np.random.rand(5))
plt.title("axes 5")

plt.subplot(236)
plt.plot(np.random.rand(5))
plt.title("axes 6")


plt.tight_layout()
plt.show()


# 연습문제 3 행2열
np.random.seed(0)

plt.subplot(321)
plt.plot(np.random.rand(5))
plt.title("axes 1")

plt.subplot(322)
plt.plot(np.random.rand(5))
plt.title("axes 2")

plt.subplot(323)
plt.plot(np.random.rand(5))
plt.title("axes 3")

plt.subplot(324)
plt.plot(np.random.rand(5))
plt.title("axes 4")

plt.subplot(325)
plt.plot(np.random.rand(5))
plt.title("axes 4")

plt.subplot(326)
plt.plot(np.random.rand(5))
plt.title("axes 4")
plt.tight_layout()
plt.show()


np.random.seed(0)

plt.subplot(431)
plt.plot(np.random.rand(5))
plt.title("axes 1")

plt.subplot(432)
plt.plot(np.random.rand(5))
plt.title("axes 1")

plt.subplot(433)
plt.plot(np.random.rand(5))
plt.title("axes 1")

plt.subplot(434)
plt.plot(np.random.rand(5))
plt.title("axes 2")

plt.subplot(435)
plt.plot(np.random.rand(5))
plt.title("axes 2")

plt.subplot(436)
plt.plot(np.random.rand(5))
plt.title("axes 2")

plt.subplot(437)
plt.plot(np.random.rand(5))
plt.title("axes 3")

plt.subplot(438)
plt.plot(np.random.rand(5))
plt.title("axes 3")

plt.subplot(439)
plt.plot(np.random.rand(5))
plt.title("axes 3")

plt.subplot(4,3,10)
plt.plot(np.random.rand(5))
plt.title("axes 4")

plt.subplot(4,3,11)
plt.plot(np.random.rand(5))
plt.title("axes 4")

plt.subplot(4,3,12)
plt.plot(np.random.rand(5))
plt.title("axes 4")

plt.tight_layout()
plt.show()


np.random.seed(0)
for i in range(1,13):
    plt.subplot(4,3,i)
    plt.plot(np.random.rand(5))
    plt.title(f"axes {i}")
    plt.tight_layout()
plt.show()

# 각각의 figure(총 12개)








plt.subplots?


fig, axes = plt.subplots(2, 2)

np.random.seed(0)
axes[0, 0].plot(np.random.rand(5))
axes[0, 0].set_title("axes 1")

axes[0, 1].plot(np.random.rand(5))
axes[0, 1].set_title("axes 2")

axes[1, 0].plot(np.random.rand(5))
axes[1, 0].set_title("axes 3")

axes[1, 1].plot(np.random.rand(5))
axes[1, 1].set_title("axes 4")

plt.tight_layout()
plt.show()

# 1개의 figure, 4개의 axes -> 커스텀하기가 좋음


fig, axes = plt.subplots(4, 3)
np.random.seed(0)
n=0
for i in range(0,4):
    for j in range(0,3):
        axes[i, j].plot(np.random.rand(5))
        axes[i, j].set_title(f"axes {n+1}")
        n = n+1
        plt.tight_layout()
plt.show()





# pip install tensorflow


# pip install tensorflow
import pandas as pd
import numpy as np
import matplotlib.pyplot as plt
from tensorflow.keras.datasets import mnist


(X_train, y_train), (X_test, y_test) = mnist.load_data() #mnist는 필기체 데이터~


X_train.shape


y_train[0]


X_train[0]


# import sys
np.set_printoptions(linewidth = 150, precision = 2)


X_train[0]# 5..라고 하네요..?





# plt.figure(figsize=(3,3))

plt.subplot(2, 1, 1)
plt.imshow(X_train[0], cmap='gray')
plt.axis('off') # 이미지니까 굳이 축이 필요 없어서

plt.subplot(2, 1, 2)
plt.imshow(X_train[1], cmap='gray')
# plt.axis('off')
plt.show()





plt.figure(figsize=(3,3))

plt.subplot(1, 2, 1)
plt.imshow(X_train[0], cmap='gray')
plt.axis('off')

plt.subplot(1, 2, 2)
plt.imshow(X_train[1], cmap='gray')
plt.axis('off')
plt.show()





fig, axes = plt.subplots(2, 2, figsize=(3,3))

axes[0,0].imshow(X_train[0], cmap='gray')
axes[0,1].imshow(X_train[1], cmap='gray')
axes[1,0].imshow(X_train[2], cmap='gray')
axes[1,1].imshow(X_train[3], cmap='gray')

plt.show()





rows = 2
cols = 2

fig, axes = plt.subplots(rows, cols, figsize=(3,3))

index = 0 # 데이터 인덱스
for row in range(rows):
    for col in range(cols):
        print(row, col, index)
        axes[row, col].imshow(X_train[index], cmap='gray')
        axes[row, col].axis('off')
        index = index + 1

plt.show()





axes.ravel?
# flatten array를 반환함
# 1 2
# 3 4 있을 때 1,2,3,4로 출력해버림


# 더 간단하게
rows = 2
cols = 2

fig, axes = plt.subplots(rows, cols, figsize=(3,3))
axes = axes.ravel() # 객체의 차원을 1차원으로 낮춘거죠.

for i in range(rows * cols):
    axes[i].imshow(X_train[i], cmap='gray')
    axes[i].axis('off')

plt.show()





X_train.shape
X_train[0].shape


def plot_mnist_images(images, labels, rows, cols):
    fig, axes = plt.subplots(rows, cols, figsize=(5, 5))
    axes = axes.ravel()
    
    for i in range(rows * cols):
        axes[i].imshow(images[i], cmap='gray')
        axes[i].set_title(labels[i])
        axes[i].axis('off')
        
    plt.tight_layout()
    plt.show()


plot_mnist_images(X_train, y_train, 3, 5)  # 함수 커스텀해서 즉시 수정이 가능하도록





from tensorflow.keras.datasets import cifar10
(X_train, y_train), (X_test, y_test) = cifar10.load_data()
labels = ['airplane', 'automobile', 'bird', 'cat', 'deer', 'dog', 'flog', 'horse', 'ship', 'truck']








plt.imshow(X_train[6])

















from tensorflow.keras.datasets import cifar10


(X_train, y_train), (X_test, y_test) = cifar10.load_data()


X_train.shape


X_test.shape


X_train[0].shape


y_train[0]


labels = ['airplane', 'automobile', 'bird', 'cat', 'deer', 'dog', 'flog', 'horse', 'ship', 'truck']


labels[y_train[0][0]]


plt.imshow(X_train[6])




















len(labels)


import matplotlib.pyplot as plt
L_grid = 3
W_grid = 10

fig, axes = plt.subplots(L_grid, W_grid, figsize=(20, 6))

axes = axes.ravel()

for i in range(W_grid * L_grid):
    axes[i].imshow(X_train[i])
    label_index = int(y_train[i])
    axes[i].set_title(labels[label_index], fontsize = 20)
    axes[i].axis('off')
    
plt.show()














fig, axes1 = plt.subplots()

axes1.set_title("2개의 y축 한 figure에서 사용하기")
axes1.set_xlabel("공유되는 x축")

axes1.plot([10, 5, 2, 9, 7], 'r-') # 기준 주차트
axes1.set_ylabel("y0")
plt.show()


fig, axes1 = plt.subplots()

axes1.set_title("2개의 y축 한 figure에서 사용하기")
axes1.set_xlabel("공유되는 x축")

axes1.plot([10, 5, 2, 9, 7], 'r-') # 기준 주차트
axes1.set_ylabel("y0")

axes2 = axes1.twinx() # 상속 받아서 씀(복제해서 쓴다는 뜻)
axes2.plot([100, 200, 220, 180, 120], 'g:') # 보조차트
axes2.set_ylabel("y1")

plt.show()





import pandas as pd


df = pd.read_csv('data/trade_apt_api_2023_address.txt', sep='\t')
df.head()


df.info()


df['거래금액'][:5]


# 공백, 콤마로 인해 오류
# 거래수를 뽑아보자
# df['거래금액'] = df['거래금액'].astype(int)
df_cnt = df.groupby('기준년월').count()['거래금액']
df_cnt


len(df_cnt)


x1 = df_cnt.values
x1


plt.plot(x1)
plt.title('거래수')
plt.xticks(np.arange(len(df_cnt.index)), labels=df_cnt.index )
plt.tick_params(axis='x', labelrotation=45)

plt.show()


# 거래금액 도 뽑아보자
df['거래금액'] = df['거래금액'].str.replace(',','').replace(' ','').astype(int)
df['거래금액']


df_mean = df.groupby('기준년월')['거래금액'].mean()
df_mean


x2 = df_mean.values
x2[:3]


# 이중축
fig, ax1 = plt.subplots()

plt.plot(x1, color='b', label='count')
plt.legend()

plt.xticks(np.arange(len(df_cnt.index)), labels=df_cnt.index )
plt.tick_params(axis='x', labelrotation=45)

ax2 = ax1.twinx()

plt.plot(x2, color='r', label='avg price')
plt.legend()


plt.show()


# 스타일 적용
fig, ax1 = plt.subplots(figsize=(12, 5))

plt.xlabel('year month', loc='center', labelpad=5, fontsize=10, color='blue')
plt.xticks(np.arange(len(df_cnt.index)), labels=df_cnt.index )
plt.tick_params(axis='x', labelrotation=60)

plt.ylabel('count', labelpad=0, fontsize=10, color='blue')
plt.plot(x1, 'b^-', label='count')
plt.legend()

ax2 = ax1.twinx()

plt.ylabel('avg.price', labelpad=0, fontsize=10, color='blue')
plt.plot(x2, 'sr--', label='avg price')
plt.legend()

plt.title('APT price', loc='center', pad=10, fontsize = 20, color='black')

plt.show()
