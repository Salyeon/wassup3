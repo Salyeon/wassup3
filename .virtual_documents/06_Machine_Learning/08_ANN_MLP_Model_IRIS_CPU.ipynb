


import warnings
warnings.filterwarnings('ignore')





import seaborn as sns

DF = sns.load_dataset('iris')





DF.info()


DF.head(3)








DF.species.value_counts()





import matplotlib.pyplot as plt
import seaborn as sns

sns.pairplot(hue = 'species', data = DF)
plt.show()








X = DF[['sepal_length', 'sepal_width', 'petal_length', 'petal_width']]
y = DF['species']








from sklearn.model_selection import train_test_split

X_train, X_test, y_train, y_test = train_test_split(X, y,
                                                    test_size = 0.3,
                                                    random_state = 2045)

print('Train Data : ', X_train.shape, y_train.shape)
print('Test Data : ', X_test.shape, y_test.shape)











from sklearn.neural_network import MLPClassifier

Model_NN = MLPClassifier(hidden_layer_sizes = (5), # node 5개 # 딥 뉴럴 네트워크는 히든 레이어 수지만 여기는 개발 전이라 무조건 노드 수
                         activation = 'logistic', # sigmoid
                         solver ='adam',  # optimizer
                         max_iter = 5000,
                         random_state = 2045)

Model_NN.fit(X_train, y_train)





y_hat = Model_NN.predict(X_test)

y_hat





from sklearn.metrics import confusion_matrix

confusion_matrix(y_test, y_hat)


y_test.value_counts()





from sklearn.metrics import accuracy_score

print('%.8f' % accuracy_score(y_test, y_hat))





from sklearn.metrics import classification_report

print(classification_report(y_test, y_hat, 
                            target_names = ['setosa', 'versicolor', 'virginica'],
                            digits = 5))



