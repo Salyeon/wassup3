


class UpgradeCalculator(Calculator):
    def __init__(self):
        self.value = 0
    def add(self, val):
        self.value += val
    def minus(self, val):
        self.value -= val


cal = UpgradeCalculator()
cal.add(10)
cal.minus(7)
print(cal.value)





class Calculator:
    def __init__(self):
        self.value = 0
    def add(self, val):
        self.value += val


class MaxLimitCalculator(Calculator):
    def __init__(self):
        self.value = 0
    def add(self, val):
        self.value += val
        if self.value >= 100:
            self.value = 100


cal = MaxLimitCalculator()
cal.add(50)
cal.add(60)

print(cal.value) 





all({1, 2, abs(-3)-3})
# 3번째 항목이 0이라서 False


chr(ord('a')) == 'a'
#유니코드 정수로 바꿨다가 그걸 다시 정수로 바꾸니까 원래대로 돌아오니 True





list =  [1, -2, 3, -5, 8, -3]
result = []
for i in list:
    if i>0:
        result.append(i)
print(result)








int('0xea', 16)





a = [1,2,3,4]
list = []
for i in a:
    list.append(i*3)
print(list)


# lambda는 모르곗음...





a = [-8, 2, 7, 5, -3, 5, 0, 1]
max(a)


a = [-8, 2, 7, 5, -3, 5, 0, 1]
min(a)


a = [-8, 2, 7, 5, -3, 5, 0, 1]
print('max:',max(a))
print('min:',min(a))
max(a) + min(a)





round(17/3, 4)





# 모듈임,,





#모듈임,, 패수,,





#모듈,,패수,,





#모듈,,패수..





#모듈,,패수,,



