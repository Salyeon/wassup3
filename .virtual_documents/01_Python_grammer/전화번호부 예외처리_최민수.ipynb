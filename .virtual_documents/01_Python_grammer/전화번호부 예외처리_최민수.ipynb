


요구사항 분석 및 설계
데이터 타입 = dict
데이터 - 사용자 입력(input 함수)
구조 - while(사용자 입력 전까지 한무 대기)
기능
1. 연락처 추가
2. 연락처 전체 조회
연락처 검색
연락처 수정
연락처 삭제
프로그램 종료


db = {'홍길동':'010-123-4567'}
while True:
    print('*****전화번호부 CRUD 프로그램*****')
    print('1. 추가    2. 조회    3. 검색    4. 수정    5. 삭제    0. 종료')
    remote = int(input('원하는 기능을 숫자로 입력하세요: '))

    if remote == 1:
        print('연락처 추가')
        new_name = input('이름: ')
        new_num = input('번호: ')
        print(new_name, new_num)
        #db[new_name] = new_num
        db.setdefault(new_name,new_num)
        
    elif remote == 2:
        print('전체 연락처 조회')
        print(db)
        
    elif remote == 3:
        print('연락처 검색')
        s_name = input('이름: ')
        print(db.get(s_name,'해당 이름에 대한 정보가 없습니다.'))
        
    elif remote == 4:
        print('연락처 수정')
        u_name = input('연락처를 수정할 이름: ')
        if u_name in db:
            u_num = input('수정할 연락처: ')
            db[u_name] = u_num
        else: 
            print('연락처에 존재하지 않는 이름입니다.')
            
    elif remote == 5:
        print('연락처 삭제')
        del_name = input('연락처에서 삭제할 이름 :')
        if del_name in db:
            del db[del_name]
            print(del_name, '이(가) 연락처에서 삭제되었습니다.')
        else: 
            print('등록되지 않은 연락처입니다.')
            
    elif remote == 0:
        print('프로그램 종료')
        break


db = {'홍길동':'010-123-4567'}
while True:
    print('*****전화번호부 프로그램*****')
    print('1. 추가    2. 조회    3. 검색    4. 수정    5. 삭제    0. 종료')
    try: 
        remote = int(input('원하는 기능을 숫자로 입력하세요: '))
    except: 
        print('숫자 1,2,3,4,5,0 중에 하나로 입력해주세요')
    else:

        
        
        if remote == 1:
            print('연락처 추가')
            new_name = input('이름: ')
            new_num = input('번호: ')
            print(new_name, new_num)
            #db[new_name] = new_num
            db.setdefault(new_name,new_num)
            
        elif remote == 2:
            print('전체 연락처 조회')
            print(db)
            
        elif remote == 3:
            print('연락처 검색')
            s_name = input('이름: ')
            print(db.get(s_name,'해당 이름에 대한 정보가 없습니다.'))
            
        elif remote == 4:
            print('연락처 수정')
            u_name = input('연락처를 수정할 이름: ')
            if u_name in db:
                u_num = input('수정할 연락처: ')
                db[u_name] = u_num
            else: 
                print('연락처에 존재하지 않는 이름입니다.')
                
        elif remote == 5:
            print('연락처 삭제')
            del_name = input('연락처에서 삭제할 이름 :')
            if del_name in db:
                del db[del_name]
                print(del_name, '이(가) 연락처에서 삭제되었습니다.')
            else: 
                print('등록되지 않은 연락처입니다.')

        elif remote >= 6:
            print('숫자 1,2,3,4,5,0 중에 하나로 입력해주세요')
                
        elif remote == 0:
            print('프로그램 종료')
            break
