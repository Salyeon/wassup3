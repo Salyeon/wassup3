


a = (80+75+55)/3
a





a = 13%2
if a == 0:
    print('짝수')
else:
    print('홀수')





pin = '881120-1068234'
a,b = pin.split('-')
yyyymmdd = a
num = b
print(a)
print(b)





pin = "881120-1068234"
print(pin[7])





a = "a:b:c:d"
b = a.replace(':','#')
print(b)





a = [1, 3, 5, 4, 2]
a.sort()
a.reverse()
print(a)





a = ['Life', 'is', 'too', 'short']
result = ' '.join(a)
print(result)





a = (1, 2, 3)
a = (1,2,3) + (4,)
print(a)





# 3번, dict 에는 순서가 없기 때문에 a[[1]] 해도 int 성격의 두번째 데이터가 존재하지 않음
a = dict() 
a
a['name'] = 'python'
a[('a',)] = 'python'
a[250] = 'python'
a





a = {'A':90, 'B':80, 'C':70}
result = a['B']
print(a)
print(result)





a = [1, 1, 1, 2, 2, 3, 3, 3, 4, 4, 5]
aSet = set(a)
b = aSet
print(b)





a = b = [1, 2, 3]
a[1] = 4
print(b)

# 리스트 형식이라 원본 수정 가능.
# 바뀐대로 다 바뀜 ! 



