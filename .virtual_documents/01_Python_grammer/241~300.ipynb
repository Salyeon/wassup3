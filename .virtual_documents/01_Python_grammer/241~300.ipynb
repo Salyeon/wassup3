





#241
import datetime
a = datetime.datetime.now()
print(a.time())


#242
type(a)


#243
import datetime

a = datetime.datetime.now()

for i in range(5,0,-1):
    b = datetime.timedelta(i)
    c = a - b
    print(c)


#244
import time
time.strftime('%X', time.localtime(time.time()))


#245
day = "2020-05-04"
a = datetime.datetime.strptime(day, '%Y-%m-%d')
print(type(a), a)


#246
import time
import datetime
while True:
    i = time.strftime('%X', time.localtime(time.time()))
    print(i)
    time.sleep(1)


#247
import 해서 모듈 불러오기
말곤 모르겠숩니다



#248



#249


#250








#251


#252


#253


#254


#255


#256


#257


#258


#259


#260





#261


#262


#263


#264


#265


#266


#267


#268


#269


#270





#271


#272


#273


#274


#275


#276


#277


#278


#279


#280





#281


#282


#283


#284


#285


#286


#287


#288


#289


#290








#291


#292


#293


#294


#295


#296


#297


#298


#299


#300
