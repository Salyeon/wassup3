





#241
import datetime
a = datetime.datetime.now()
print(a.time())


#242
type(a)


#243
import datetime

a = datetime.datetime.now()

for i in range(5,0,-1):
    b = datetime.timedelta(i)
    c = a - b
    print(c)


#244
import time
time.strftime('%X', time.localtime(time.time()))


#245
day = "2020-05-04"
a = datetime.datetime.strptime(day, '%Y-%m-%d')
print(type(a), a)


#246
import time
import datetime
while True:
    i = time.strftime('%X', time.localtime(time.time()))
    print(i)
    time.sleep(1)


#247
import 해서 모듈 불러오기
말곤 모르겠숩니다



#248
import os
os.getcwd()


#249
import os
os.rename('C:/Users/ChoiMinsoo/Desktop/2.txt', 'C:/Users/ChoiMinsoo/Desktop/1.txt')


#250
import numpy as np
for i in np.arange(0, 5.1, 0.1):
    print(i)








#251
# 클래스 안의 요소가 객체 
#객체는 클래스의 인스턴스라고 부름 !


#252
class Human:
    pass


#253
class Human:
    pass
areum = Human()


#254
class Human:
    def


#254
class Human:
    def __init__(self): #__init__ = key, 함수 = value, print('응애응애') = 바인딩되어있는 코드
        print("응애응애")
areum = Human()


#255



#256


#257


#258


#259


#260





#261


#262


#263


#264


#265


#266


#267


#268


#269


#270





#271


#272


#273


#274


#275


#276


#277


#278


#279


#280





#281


#282


#283


#284


#285


#286


#287


#288


#289


#290








#291
f = open('C:/Users/Choiminsoo/Desktop/매수종목1.txt', 'w')
a = ['005930','005380','035420']
for i in a:
    j = f'{i} \n'
    print(j)
    f.write(j)

f.close()


#292
f = open('C:/Users/Choiminsoo/Desktop/매수종목2.txt', 'w')
a = ['005930','005380','035420']
b = ['삼성전자','현대차','NAVER']
c = {'005930':'삼성전자', '005380':'현대차','035420':'NAVER'}

for i in c:
    j = f'{i}'
    k = f'{i} \n'
    print(k)
    f.write(k)

f.close()


#292_답
f = open("C:/Users/Choiminsoo/Desktop/매수종목2.txt", mode="w",encoding='cp949')
f.write("005930 삼성전자\n")
f.write("005380 현대차\n")
f.write("035420 NAVER\n")
f.close()


#293
import csv
f = open("C:/Users/Choiminsoo/Desktop/매수종목.csv",'w',newline='')
data = [['종목명','종목코드','PER'],['삼성전자','005930','15.79'],['NAVER','035420','55.82']]
writer = csv.writer(f)
writer.writerow(['종목명','종목코드','PER'])
writer.writerow(['삼성전자','005930','15.79'])
writer.writerow(['NAVER','035420','55.82'])

f.close()


#294
f = open('C:/Users/Choiminsoo/Desktop/매수종목1.txt', 'r')
lines = f.readlines()
lists = []
for line in lines:
    list = line.strip()
    lists.append(list)
print(lists)
f.close()


#295
f = open('C:/Users/Choiminsoo/Desktop/매수종목2.txt', 'r')
lines = f.readlines()
dics = {}
for line in lines:
    dic = line.strip()
    a,b = dic.split()
    dics[a] = b
print(dics)
f.close()


#296
per = ["10.31", "", "8.00"]
for i in per:
    try:
        print(float(i))
    except:
        print(0)


#297
per = ["10.31","","8.00"]
list = []
for i in per:
    try: 
        j = float(i)
    except: 
        j = 0
    list.append(j)
print(list)


#298
try : 
    4/0
except ZeroDivisionError:
    print('바보')



#299
data = [1, 2, 3]
for i in range(5):
    print(data[i])


data = [1, 2, 3]
for i in range(5):
    try:
        print(data[i])
    except IndexError as e:
        print(e)


#300
per = ["10.31", "", "8.00"]

for i in per:
    print(float(per))


per = ["10.31","","8.00"]

for i in per:
    try: 
        print(float(i))
    except: 
        print(0)
    else: 
        print('-')
    finally: 
        print('finish')

# 솔직히 뭔말인지 하나도 모르곘음..
