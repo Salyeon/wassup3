





#241
import datetime
a = datetime.datetime.now()
print(a.time())


#242
type(a)


#243
import datetime

a = datetime.datetime.now()

for i in range(5,0,-1):
    b = datetime.timedelta(i)
    c = a - b
    print(c)


#244
import time
time.strftime('%X', time.localtime(time.time()))


#245
day = "2020-05-04"
a = datetime.datetime.strptime(day, '%Y-%m-%d')
print(type(a), a)


#246
import time
import datetime
while True:
    i = time.strftime('%X', time.localtime(time.time()))
    print(i)
    time.sleep(1)


#247
import 해서 모듈 불러오기
말곤 모르겠숩니다



#248
import os
os.getcwd()


#249
import os
os.rename('C:/Users/ChoiMinsoo/Desktop/2.txt', 'C:/Users/ChoiMinsoo/Desktop/1.txt')


#250
import numpy as np
for i in np.arange(0, 5.1, 0.1):
    print(i)








#251
# 클래스 안의 요소가 객체 
#객체는 클래스의 인스턴스라고 부름 !


#252
class Human:
    pass


#253
class Human:
    pass
areum = Human()


#254
class Human:
    def


#254
class Human:
    def __init__(self): #__init__ = key, 함수 = value, print('응애응애') = 바인딩되어있는 코드
        print("응애응애")
areum = Human()


#255
class Human:
    def __init__(a, full_name, age, gender):
        a.name = full_name
        a.age = age
        a.gen = gender

areum = Human("아름", 25, "여자")
print(areum.name)


#256
class Human:
    def __init__(a, full_name, age, gender):
        a.name = full_name
        a.age = age
        a.gen = gender

areum = Human("조아름", 25, "여자")
print('이름:', areum.name, '나이:', areum.age, '성별:', areum.gen)



#257
class Human:
    def __init__(a, full_name, age, gender):
        a.name = full_name
        a.age = age
        a.gen = gender
    def who(a):
        print('이름:', areum.name, '나이:', areum.age, '성별:', areum.gen)

areum = Human("조아름", 25, "여자")
areum.who()


#258
class Human:
    def __init__(a, full_name, age, gender):
        a.name = full_name
        a.age = age
        a.gen = gender
    def who(a):
        print('이름:', areum.name, '나이:', areum.age, '성별:', areum.gen)
    def setInfo(a, name,age,gen):
        a.name = name
        a.age = age
        a.gen = gen

areum = Human("모름", 0, "모름")
areum.who()
areum.setInfo("아름", 25, "여자")
areum.who()


#259
#258
class Human:
    def __init__(a, full_name, age, gender):
        a.name = full_name
        a.age = age
        a.gen = gender
    def who(a):
        print('이름:', areum.name, '나이:', areum.age, '성별:', areum.gen)
    def setInfo(a, name,age,gen):
        a.name = name
        a.age = age
        a.gen = gen
    def __del__(a):
        print('나의 죽음을 알리지 말라')

areum = Human("아름", 25, "여자")
del areum


#260
class OMG : 
    def print() :
        print("Oh my god")
        
myStock = OMG() #함수 밖에서 정의를 해줘야 
OMG.print() # myStock이 아니라 정의한 OMG를 뽑아야 값이 나옴





#261
class Stock:
    pass


#262
class Stock:
    def __init__(self,name,code):
        self.name = name
        self.code = code

삼성 = Stock("삼성전자", "005930")
print(삼성.name)
print(삼성.code)


#263
class Stock:
    def __init__(self,name,code):
        self.name = name
        self.code = code
    def set_name(self,name):
        self.name = name
        
a = Stock(None, None)
a.set_name('삼성전자')
print(a.name)


#264
class Stock:
    def __init__(self,name,code):
        self.name = name
        self.code = code
    def set_name(self,name):
        self.name = name
    def set_code(self,code):
        self.code = code
                
        
a = Stock(None, None)
a.set_code('005930')
print(a.code)


#265
class Stock:
    def __init__(self,name,code):
        self.name = name
        self.code = code
    def set_name(self,name):
        self.name = name
    def set_code(self,code):
        self.code = code
    def get_name(self):
        return self.name
    def get_code(self):
        return self.code
                
        
삼성 = Stock("삼성전자", "005930")
print(삼성.name)
print(삼성.code)
print(삼성.get_name())
print(삼성.get_code())


#266


#267


#268


#269


#270





#271


#272


#273


#274


#275


#276


#277


#278


#279


#280





#281


#282


#283


#284


#285


#286


#287


#288


#289


#290








#291
f = open('C:/Users/Choiminsoo/Desktop/매수종목1.txt', 'w')
a = ['005930','005380','035420']
for i in a:
    j = f'{i} \n'
    print(j)
    f.write(j)

f.close()


#292
f = open('C:/Users/Choiminsoo/Desktop/매수종목2.txt', 'w')
a = ['005930','005380','035420']
b = ['삼성전자','현대차','NAVER']
c = {'005930':'삼성전자', '005380':'현대차','035420':'NAVER'}

for i in c:
    j = f'{i}'
    k = f'{i} \n'
    print(k)
    f.write(k)

f.close()


#292_답
f = open("C:/Users/Choiminsoo/Desktop/매수종목2.txt", mode="w",encoding='cp949')
f.write("005930 삼성전자\n")
f.write("005380 현대차\n")
f.write("035420 NAVER\n")
f.close()


#293
import csv
f = open("C:/Users/Choiminsoo/Desktop/매수종목.csv",'w',newline='')
data = [['종목명','종목코드','PER'],['삼성전자','005930','15.79'],['NAVER','035420','55.82']]
writer = csv.writer(f)
writer.writerow(['종목명','종목코드','PER'])
writer.writerow(['삼성전자','005930','15.79'])
writer.writerow(['NAVER','035420','55.82'])

f.close()


#294
f = open('C:/Users/Choiminsoo/Desktop/매수종목1.txt', 'r')
lines = f.readlines()
lists = []
for line in lines:
    list = line.strip()
    lists.append(list)
print(lists)
f.close()


#295
f = open('C:/Users/Choiminsoo/Desktop/매수종목2.txt', 'r')
lines = f.readlines()
dics = {}
for line in lines:
    dic = line.strip()
    a,b = dic.split()
    dics[a] = b
print(dics)
f.close()


#296
per = ["10.31", "", "8.00"]
for i in per:
    try:
        print(float(i))
    except:
        print(0)


#297
per = ["10.31","","8.00"]
list = []
for i in per:
    try: 
        j = float(i)
    except: 
        j = 0
    list.append(j)
print(list)


#298
try : 
    4/0
except ZeroDivisionError:
    print('바보')



#299
data = [1, 2, 3]
for i in range(5):
    print(data[i])


data = [1, 2, 3]
for i in range(5):
    try:
        print(data[i])
    except IndexError as e:
        print(e)


#300
per = ["10.31", "", "8.00"]

for i in per:
    print(float(per))


per = ["10.31","","8.00"]

for i in per:
    try: 
        print(float(i))
    except: 
        print(0)
    else: 
        print('-')
    finally: 
        print('finish')

# 솔직히 뭔말인지 하나도 모르곘음..
