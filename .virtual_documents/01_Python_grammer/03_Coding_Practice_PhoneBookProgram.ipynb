


prompt = """
1. 연락처 추가
2. 연락처 전체 보기
3. 검색, 이름을 입력받아서 전화번호 조회
4. 수정, 이름을 입력받아서 전화번호 입력수정
5. 삭제, 이름 입력받아서 삭제
6. 프로그램 종료

Enter number: """



db = {'홍길동', '010-123-4567'}
number = 0
while number != 6:
    print(prompt)
    number = int(input())
    if number == 1:
        db = input('이름, 연락처를 입력해주세요')
    elif number == 2:
        print(db)
    elif number == 3:
        db[input('이름을 입력하세요')]
    elif number == 4:
        name = input('이름을 입력하세요')
    elif number == 5:
        del(name[input('이름을 입력하세요')])
    elif number == 6:
        break
        


    


1. 기본 메뉴창 123456 있는거
1. 연락처 추가 창 인풋창
2. 전체 연락처 조회 창 
3. 이름 검색 창
4. 전화번호 수정 창
5. 데이터 삭제 창
6. 종료 창





contact = {}

while True: 
    print('-----전화번호부 프로그램-----')
    print('1. 추가    2. 보기    3. 검색    4. 수정    5. 삭제    9. 종료')
    menu = int(input('메뉴를 선택해주세요.(숫자 only): '))

    if menu == 1:
        print('연락처를 추가합니다.')
        new_name = input('이름: ')
        new_tel = input('전화번호: ')
        print(new_name,new_tel)
        #contact[new_name] = new_tel
        contact.setdefault(new_name, new_tel)

    
    elif menu == 2:
        print('연락처를 조회합니다.')
        #print(contact)
        for name, tel in contact.items():
            print(name, '=', tel)

    
    elif menu == 3:
        print('연락처를 검색합니다.')
        search_name = input('검색 이름: ')
        #print(contact[search_name])
        print(contact.get(search_name, '없는 이름입니다.'))
     
    
    elif menu == 4:
        print('연락처를 수정합니다.')
        mod_name = input('수정 이름: ')

        if mod_name in contact:
            mod_tel = input('새 전화번호: ')
            contact[mod_name] = mod_tel
        else: 
            print('등록되지 않은 이름입니다.')

    
    elif menu == 5:
        print('연락처를 삭제합니다.')
        del_name = input('삭제 이름: ')
        
        if del_name in contact:
             del contact[del_name]
        else: 
            print('등록되지 않은 이름입니다.')
           

    
    elif menu == 9:
        print('연락처를 종료합니다.')
        break
        
    else : 
        print('잘못된 입력입니다.')


else
