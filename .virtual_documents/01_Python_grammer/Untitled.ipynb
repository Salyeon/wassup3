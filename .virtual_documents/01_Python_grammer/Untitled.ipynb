


a = 123


a


a = -178
a


a = 0
a


a = 1.2
a


a = -3.45
a


a = 4.24E10
a


a = 4.24E-10
a


a = 0o177
a


a = 0x8ff
b = 0xABC
a,b





a = 3
b = 4
a + b


a-b


a*b


a/b





a**b





7 % 3


3 % 7





7 // 4


7 / 4





"Hello World"


Hello World


'hello world'


""" Hello World """


'''
hello wordld
'''





Python's favorite food is perl


'Python's favorite food is perl'


"Python's favorite food is perl" #<- 같은 성격이 아닌 다른 성격으로 표시(', ")


"Python is very easy." he says.


'"Python is very easy." he says.'


'Python\'s favorite food is perl' # \ = 원화 표시: 게헹문자 구분(\n으로 줄 바꿈 같은거)


"Life is too short \n You need python"


multiline = "Life is too short \n You need python"
multiline


print(multiline)


# 개발환경에서 이루어지는 것인지? 외장 라이브러리에서 이루어지는 것인지?
# 주피터 노트북 편의기능(입력만 해도 나오던 것): IDE에서 변수만 적어도 변수 정보를 출력하는 편의기능
#실제 동작하게 하려면 print 기능을 활용해야함



multiline = '''
Life is too short
You need python
'''


multiline


print(multiline)





head = "Python"
tail = " is fun!"
head + tail # 수치는 계산하고, 문자열은 연결해주는 것


a = 'python'
a * 5





a = "Life is too short"
len(a) # 값의 길이, 문자열의 길이(공백도 1로 포함됨, ""은 제외하고 L~t까지 길이를 센 것)





a = "Life is too short, You need Python"


len(a)


a[3] # a라는 index에서 4번째(0부터 있으므로 4번째꺼를 표시함) index를 표시해줘


a[13]


a[-1] #0부터 시작, 뒤는 -1부터 시작


a[-7]


a[-0]





#구간을 잘라내어 추출 !
a = "Life is too short, You need Python"


a[0]+a[1]+a[2]+a[3]


a[start:end]


a[0:3] # end: -1이 들어감 -> life를 가져오려면 4까지 지정해야함
#why? 연산때문에 그럼: 범위간 계산할 때 겹치지 않게 하기 위함


a[0:4]


a[-15:] # -15부터 끝나는 곳까지 전부 다 가져와! 라는 뜻


a[:] # start와 제약 없이 끝까지 전부 다 보여줘


a[19:-7]





a = "20240610Sunny" # date날짜와 sunny를 구분하고 싶을 때
date = a[:8]
weather = a[8:]


date


weather


year = a[:4]
day = a[4:8]
year, day, weather





a = "pithon"
# i를 y로 바꾸고 싶을 때


a[1] = 'y' #문자열이라 수정할 수 없음 -> 변수를 새로 생성해야 함 !
a


a[0]+'y'+a[2:]





#오늘의 날씨 등 동적인 데이터 보여주기
#숫자를 바로 대입
"I eat %d apples"%3
#특수기호가 들어간 것 = 게헹문자


# 문자열 바로 대입
"I eat %s apples"%"five"


"I eat %s apples"%5


#숫자는 문자열로 인식 가능 but 오 -> 이걸 숫자로 바꿀 순 없음(컴퓨터는 이게 무슨 말인지를 모름)


"I eat %d apples"%"삼"


# 숫자값을 나타내는 변수로 대입(여태까진 상수)
num = 3
"I eat %d apples"%num


# 2개 이상 값 넣기
num = 10
day = 'three'
"I ate %d apples. So I was sick for %s days."%(num,day)


"I ate %d apples. So I was sick for %s days."%(day,num)
# 타입이 맞지 않음(숫자, 문자인데 문자 숫자를 주면 에러가 남)


"I have %s apples"%3


"rate is %s"%3.234


"오늘의 습도는 %d%% 입니다"%70 #%d%라고 하면 하나의 게헹문자로 이어져있음, %d%%로 %를 따로 표기한다는 것을 알려주기





"%0.2f"%3.14159268 #소수점 2자리까지 보여주고, 실수다(f)


"%0.4f"%3.14159268 #자동 반올림





"I eat {} apples".format(3) #. -> 메서드(기능): . 하고 탭 하면 나오는 기능들 
#문자열이라는 객체에!


"I eat {} apples".format('five') # %d, %s를 구분하지 않아도 됨


num = 10
"I eat {} apples".format(num)


# 2개 이상 값 넣기
num = 10
day = 'three'
"I ate {} apples. So I was sick for {} days.".format(num,day)


"I ate {} apples. So I was sick for {} days.".format(day,num) 
# <- 자료형이 지정이 되어있지 않아서 num,day순서 바꿔도 작동


"I ate {num} apples. So I was sick for {day} days.".format(num=10,day=3) 
# 인자를 지정해둔 것, 뒤에 num과 day 순서를 바꿔도 작동


"I ate {num} apples. So I was sick for {day} days.".format(day=3,num=10) 


"I ate {} apples. So I was sick for {day} days.".format(day=3,10) 
# day는 라벨이 있어서 들어감, 
#10은 라벨 지정이 안되어있어서 순서대로 들어감 = 2번째에 들어가야 하는데 이미 day 라벨이 있어서 작동 X


"I ate {} apples. So I was sick for {day} days.".format(10, day=3) 





y = 3.4213426
"{0:0.4f}".format(y)





name = "홍길동"
age = 30
f'나의 이름은 {name}입니다. 나이는  {age}입니다.'


f'나는 내년이면 {age+1}살이 됩니다.'


d = {'name' : '홍길동', 'age' : 30}
f'나의 이름은 {d["name"]}입니다. 나이는 {d["age"]}입니다.'









