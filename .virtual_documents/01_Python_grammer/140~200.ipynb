





#131
과일 = ["사과", "귤", "수박"]
for 변수 in 과일:
    print(변수)
# 사과\
#    귤\
#    수박


#132
과일 = ["사과", "귤", "수박"]
for 변수 in 과일:
  print("#####")
# ##### 3줄


#133
for 변수 in ["A", "B", "C"]:
  print(변수)

print('===')

print('A')
print('B')
print('C')


#134
for 변수 in ["A", "B", "C"]:
  print("출력:", 변수)

print('===')

print('출력: A')
print('출력: B')
print('출력: C')


#135
for 변수 in ["A", "B", "C"]:
  b = 변수.lower()
  print("변환:", b)

print('===')

print('변환: a')
print('변환: b')
print('변환: c')


#136
변수 = 10
print(변수)
변수 = 20
print(변수)
변수 = 30
print(변수)

print('===')

for 변수 in ['10','20','30']:
    print(변수)


#137
print(10)
print(20)
print(30)

print('===')

for 변수 in ['10','20','30']:
    print(변수)


#138
print(10)
print("-------")
print(20)
print("-------")
print(30)
print("-------")

print('===')

변수 = [10,20,30]
for i in 변수:
    print(i)
    print('------')


#139
print("++++")
print(10)
print(20)
print(30)


변수 = [10,20,30]
print("++++")
for i in 변수:
    print(i)
    


#140
변수 = [1,2,3,4]
for i in 변수:
    print("-------")

print('\n')

for i in [1,2,3,4]:
    print("-------")





#141
리스트 = [100, 200, 300]
for i in 리스트:
    print(int(i)+10)


#142
리스트 = ["김밥", "라면", "튀김"]
for i in 리스트:
    print('오늘의 메뉴:', i)


#143
리스트 = ["SK하이닉스", "삼성전자", "LG전자"]
for i in 리스트:
    print(len(i))

print('-----------------------------------')

for i in 리스트:
    print(i)

print('-----------------------------------')

for i in 리스트:
    print(리스트)

print('-----------------------------------')

print(i)
print(리스트)


#144
리스트 = ['dog', 'cat', 'parrot']
for i in 리스트:
    print(i, len(i))


#145
리스트 = ['dog', 'cat', 'parrot']
for i in 리스트:
    print(i[0])


#146
리스트 = [1, 2, 3]
for i in 리스트:
    print(f'3 x {i}')


#147
리스트 = [1, 2, 3]
for i in 리스트:
    print(f'3 x {i} = {i*3}')


#148
리스트 = ["가", "나", "다", "라"]
for i in 리스트:
    if i == '가':
        pass
    else :
        print(i)


#149
리스트 = ["가", "나", "다", "라"]
for i in 리스트:
    if i == '나':
        pass
    elif i == '라':
        pass
    else: 
        print(i)

print('====================')

리스트 = ["가", "나", "다", "라"]
for 변수 in 리스트[: :2]:
  print(변수)


#150
리스트 = ["가", "나", "다", "라"]
리스트.reverse()

for i in 리스트:
    print(i)





#151
리스트 = [3, -20, -3, 44]
for i in 리스트:
    if i < 0: 
        print(i)


#152
리스트 = [3, 100, 23, 44]
for i in 리스트:
    if i%3==0:
        print(i)


#153
리스트 = [13, 21, 12, 14, 30, 18]
for i in 리스트:
    if i <20 and i%3==0:
        print(i)


#154
리스트 = ["I", "study", "python", "language", "!"]
for i in 리스트:
    if len(i) >=3:
        print(i)


#155
리스트 = ["A", "b", "c", "D"]
for i in 리스트:
    if i.isupper() == True:
        print(i)


#156
리스트 = ["A", "b", "c", "D"]
for i in 리스트:
    if i.islower() == True:
        print(i)


#157
리스트 = ['dog', 'cat', 'parrot']
for i in 리스트:
    print(i[0].upper() + i[1:])


#158
리스트 = ['hello.py', 'ex01.py', 'intro.hwp']
for i in 리스트:
    list = i.split('.')
    print(list[0])
print('\n')
print('===========', '\n')
type(i)


#159
리스트 = ['intra.h', 'intra.c', 'define.h', 'run.py']
for i in 리스트:
    list = i.split('.')
    if list[1] == 'h':
        print(i)
        print(list)


#160
리스트 = ['intra.h', 'intra.c', 'define.h', 'run.py']
for i in 리스트:
    list = i.split('.')
    if list[1] in ('h', 'c'):
        print(i)





#161
for i in range(0,100):
    print(i)


#162
for i in range(2002,2051,4):
    print(i)


#163
for i in range(1,31,3):
    print(i+2)


#164
for i in range(0,100):
    print(99-i)


#165
for i in range(0,10):
    print(i/10)


#166
for i in range(1,10):
    print(f'3x{i} = {3*i}')


#167
for i in range(1,10,2):
    print(f'3x{i} = {3*i}')


#168
result = 0
for i in range(1,11):
    result += i
    print(result)


#169
result = 0
for i in range(1,11,2):
    result += i
    print(result)


#170
result = 1
for i in range(1,11):
    result = result * i # result *= i 하면 같은 뜻
    print(result)





#171
price_list = [32100, 32150, 32000, 32500]
for i in range(4):
    print(price_list[i])


#172
price_list = [32100, 32150, 32000, 32500]
for i in range(4):
    print(i, price_list[i])


#173
price_list = [32100, 32150, 32000, 32500]
for i in range(4):
    print(3-i, price_list[i])


#174
price_list = [32100, 32150, 32000, 32500]
for i in range(1,4):
    print(f'1{i}0', price_list[i])


#175
my_list = ["가", "나", "다", "라"]
for i in range(0,3):
    print(my_list[i], my_list[i+1])


#176
my_list = ["가", "나", "다", "라", "마"]
for i in range(len(my_list)-2):
    print(my_list[i], my_list[i+1], my_list[i+2])


#177
my_list = ["가", "나", "다", "라"]
for i in range(3):
    print(my_list[3-i],my_list[2-i] )


#178
my_list = [100, 200, 400, 800]
for i in range(3):
    print(my_list[i+1]-my_list[i])


#179
my_list = [100, 200, 400, 800, 1000, 1300]
for i in range(4):
    print((my_list[i] + my_list[i+1] + my_list[i+2])/3)


#180
volatility = [] # 리스트 지정
low_prices  = [100, 200, 400, 800, 1000]
high_prices = [150, 300, 430, 880, 1000]
for i in range(5):
    volatility.append(high_prices[i] - low_prices[i]) #append 함수 통해서 리스트 내 값 추가(01_자료형과 변수 시트에 자세한거 있음)

print(volatility)





#181
apart = [['101호', '102호',], [['201호', '202호'], ['301호','302호'] ]


#182
stock = [['시가','100','200','300'],['종가','80','210','330']]


#183
stock = {'시가': ['100','200','300'], '종가': ['80','210','330'] }


#184
stcok = {'10/10':['80','110','70','90'], '10/11': ['210','230','190','200'] }


#185
apart = [ [101, 102], [201, 202], [301, 302] ]
for i in apart:
    print(i[0],'호')
    print(i[1],'호')


#186
apart = [ [101, 102], [201, 202], [301, 302] ]
for i in apart[::-1]: # [시작:끝:간격] -1은 역순이라고 함
    print(i[0],'호')
    print(i[1],'호')


#187
apart = [ [101, 102], [201, 202], [301, 302] ]
for i in apart[::-1]: # [시작:끝:간격] -1은 역순이라고 함
    print(i[1],'호')
    print(i[0],'호')


#188
apart = [ [101, 102], [201, 202], [301, 302] ]
for i in apart:
    print(i[0],'호')
    print('-----')
    print(i[1],'호')
    print('-----')


#189
apart = [ [101, 102], [201, 202], [301, 302] ]
for i in apart:
    print(i[0],'호')
    print(i[1],'호')
    print('-----')


#190
apart = [ [101, 102], [201, 202], [301, 302] ]
for i in apart:
    print(i[0],'호')
    print(i[1],'호')
print('-----')





#191
data = [ [ 2000,  3050,  2050,  1980], [ 7500,  2050,  2050,  1980], [15450, 15050, 15550, 14900] ]
for i in data:
    print(i[0]*1.014)
    print(i[1]*1.014)
    print(i[2]*1.014)
    print(i[3]*1.014)

print('================')

for i in data:
    for j in i:
        print(j*1.00014)


#192
data = [ [ 2000,  3050,  2050,  1980], [ 7500,  2050,  2050,  1980], [15450, 15050, 15550, 14900] ]
for i in data:
    for j in i:
        print(j*1.00014)
    print('----')


#193
result= []
data = [ [ 2000,  3050,  2050,  1980], [ 7500,  2050,  2050,  1980], [15450, 15050, 15550, 14900] ]
for i in data:
    for j in i:
        result.append(j*1.00014)
print(result)


#194
result= []
bal = []
data = [ [ 2000,  3050,  2050,  1980], [ 7500,  2050,  2050,  1980], [15450, 15050, 15550, 14900] ]
for i in data:
    sub_result = []
    for j in i:
        sub_result.append(j*1.00014)
    result.append(sub_result)
print(result)


#195
ohlc = [["open", "high", "low", "close"], [100, 110, 70, 100], [200, 210, 180, 190], [300, 310, 300, 310]]
print(ohlc[0][3])
print(ohlc[1][3])
print(ohlc[2][3])
print(ohlc[3][3])

print('=====')

for i in ohlc:
    print(i[3])



#196
ohlc = [["open", "high", "low", "close"], [100, 110, 70, 100], [200, 210, 180, 190], [300, 310, 300, 310]]
for i in ohlc[1:]:
    if i[3] > 150:
        print(i[3])
    else :
        pass


#197
ohlc = [["open", "high", "low", "close"], [100, 110, 70, 100], [200, 210, 180, 190], [300, 310, 300, 310]]
for i in ohlc[1:]:
    if i[3] >= i[0]:
        print(i[3])
    else: 
        pass


#198
volatility = []
ohlc = [["open", "high", "low", "close"], [100, 110, 70, 100], [200, 210, 180, 190], [300, 310, 300, 310]]
for i in ohlc[1:]:
    volatility.append(i[1]-i[2])
print(volatility)


#199
ohlc = [["open", "high", "low", "close"], [100, 110, 70, 100], [200, 210, 180, 190], [300, 310, 300, 310]]
for i in ohlc[1:]:
    if i[3] > i[0]:
        print(i[1]-i[2])
    else:
        pass


#200
sum = 0
ohlc = [["open", "high", "low", "close"], [100, 110, 70, 100], [200, 210, 180, 190], [300, 310, 300, 310]]
for i in ohlc[1:]:
    sum += i[0]-i[3]
print(sum)



