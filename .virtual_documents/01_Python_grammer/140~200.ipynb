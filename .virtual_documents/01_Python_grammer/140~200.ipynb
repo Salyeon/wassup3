





#131
과일 = ["사과", "귤", "수박"]
for 변수 in 과일:
    print(변수)
# 사과\
#    귤\
#    수박


#132
과일 = ["사과", "귤", "수박"]
for 변수 in 과일:
  print("#####")
# ##### 3줄


#133
for 변수 in ["A", "B", "C"]:
  print(변수)

print('===')

print('A')
print('B')
print('C')


#134
for 변수 in ["A", "B", "C"]:
  print("출력:", 변수)

print('===')

print('출력: A')
print('출력: B')
print('출력: C')


#135
for 변수 in ["A", "B", "C"]:
  b = 변수.lower()
  print("변환:", b)

print('===')

print('변환: a')
print('변환: b')
print('변환: c')


#136
변수 = 10
print(변수)
변수 = 20
print(변수)
변수 = 30
print(변수)

print('===')

for 변수 in ['10','20','30']:
    print(변수)


#137
print(10)
print(20)
print(30)

print('===')

for 변수 in ['10','20','30']:
    print(변수)


#138
print(10)
print("-------")
print(20)
print("-------")
print(30)
print("-------")

print('===')

변수 = [10,20,30]
for i in 변수:
    print(i)
    print('------')


#139
print("++++")
print(10)
print(20)
print(30)


변수 = [10,20,30]
print("++++")
for i in 변수:
    print(i)
    


#140
변수 = [1,2,3,4]
for i in 변수:
    print("-------")

print('\n')

for i in [1,2,3,4]:
    print("-------")





#141
리스트 = [100, 200, 300]
for i in 리스트:
    print(int(i)+10)


#142
리스트 = ["김밥", "라면", "튀김"]
for i in 리스트:
    print('오늘의 메뉴:', i)


#143
리스트 = ["SK하이닉스", "삼성전자", "LG전자"]
for i in 리스트:
    print(len(i))

print('-----------------------------------')

for i in 리스트:
    print(i)

print('-----------------------------------')

for i in 리스트:
    print(리스트)

print('-----------------------------------')

print(i)
print(리스트)


#144
리스트 = ['dog', 'cat', 'parrot']
for i in 리스트:
    print(i, len(i))


#145
리스트 = ['dog', 'cat', 'parrot']
for i in 리스트:
    print(i[0])


#146
리스트 = [1, 2, 3]
for i in 리스트:
    print(f'3 x {i}')


#147
리스트 = [1, 2, 3]
for i in 리스트:
    print(f'3 x {i} = {i*3}')


#148
리스트 = ["가", "나", "다", "라"]
for i in 리스트:
    if i == '가':
        pass
    else :
        print(i)


#149
리스트 = ["가", "나", "다", "라"]
for i in 리스트:
    if i == '나':
        pass
    elif i == '라':
        pass
    else: 
        print(i)

print('====================')

리스트 = ["가", "나", "다", "라"]
for 변수 in 리스트[: :2]:
  print(변수)


#150
리스트 = ["가", "나", "다", "라"]
리스트.reverse()

for i in 리스트:
    print(i)





#151



#152


#153


#154


#155


#156


#157


#158


#159


#160





#161


#162


#163


#164


#165


#166


#167


#168


#169


#170





#171


#172


#173


#174


#175


#176


#177


#178


#179


#180





#181


#182


#183


#184


#185


#186


#187


#188


#189


#190





#191


#192


#193


#194


#195


#196


#197


#198


#199


#200
