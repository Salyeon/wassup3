


#더하기
result = 0

def add(num):
    global result # 로컬 지역변수만 사용하는게 아닌 글로벌로 존재하는 메모리를 사용, 누적하여 값을 더함
    result += num  # 결괏값(result)에 입력값(num) 더하기
    return result  # 결괏값 리턴

print(add(3))
print(add(4))

#나만 사용 가능한 계산기


# calculator2.py
result1 = 0
result2 = 0

def add1(num):  # 계산기1
    global result1
    result1 += num
    return result1

def add2(num):  # 계산기2
    global result2
    result2 += num
    return result2

print(add1(3))
print(add1(4))
print(add2(3))
print(add2(7))
#2개까진 수작업으로 만들었다 하지만 수만명이 사용하는 프로그램은 일일히 다 만들어야? 아니라면 어떻게? -> class

# 나와 타인 1명만 사용가능한 계산기


# calculator3.py
class Calculator:    #코드는 하나
    def __init__(self):
        self.result = 0

    def add(self, num):
        self.result += num
        return self.result

cal1 = Calculator()   #인스턴스를 만듦
cal2 = Calculator()   # 2명이라서 2개의 인스턴스를 만든 것

print(cal1.add(3))  #메서드를 사용해 계산기 프로그램을 사용한 것
print(cal1.add(4))  
print(cal2.add(3))  # 사람이 사용가능하도록 메서드를 사용한 것
print(cal2.add(7))

#사람이 사용 가능한 계신기





# 과자틀 = class, 과자 = 객체


class Cookie: # 변수와 구분하기 위해 첫글자는 반드시 대문자로 작성
    pass


type(Cookie)


type(Cookie())


a = Cookie()
print(a,type(a)) # 이 객체가 인스턴스
#문자열이란 자료형에서 만들어진 객체 인스턴스
#인스턴스는 개체 안에 포함되어있는 것








# 값 받아올 메서드 1개, 사칙연산 메서드 4개 도합 5개 메서드가 필요


class FourCal():
    pass


a = FourCal()
type(a)


# 객체에 연산할 숫자를 지정하기
# 사칙연산보다 값 받아오는걸 먼저 구현해야 함
class FourCal:
    def setdata(self, first, second): #method(=function) # 매개변수
        self.first = first # 매서드의 수행문
        self.second = second # 매서드의 수행문
#self라고 안적어도 되지만 관례상 self라고 많이 함


# 클래스 안에 들어간 함수 = 메서드
# 그냥 함수 = function


a = FourCal()  # 빵, 빵틀, 아래에서 잼을 넣어줘(4,2)를 함
a.setdata(4,2) # a라는 인스턴스 지정, self -> 내가 이걸 쓴다!
# 공통 4,2가 아닌, 나만을 위한(내부적으로 사용할) 계산이다
#모르느 질문을 강사한테 직접


# 메서드를 호출하는 또다른 방법
a = FourCal()
FourCal.setdata(a,4,2) #어떤 빵인지는 모르겠는데 빵 안에 잼을 넣을게,(a,4,2) <- 아 a에 잼 넣을게!
#모르는 질문을 멘토한테 -> 멘토가 강사에게 질문 전달





a.first


a.second


a.setdata # 객체 변수, 속성(Attribute)


# first, second -> 객체 변수
# set.data -> 함수
# 괄호가 필요한 것들 = 실행이 필요한 함수들이라서
# 괄호가 필요없는 것들 = 객체변수(값, 조회하는 기능만 있기 때문)


a = FourCal()
b = FourCal()


a.setdata(4,2)
a.first


b.setdata(3,7)
b.first
# a와 b가 안섞이고 보여주는걸 알 수 있음





class FourCal:
    def setdata(self, first, second):
        self.first = first
        self.second = second
    def add(self): # 이미 first, second는 받아와서 굳이 한번 더 self, first, second라고 할 필요 없음
        result = self.first + self.second
        return result


a = FourCal()
a.setdata(4,2)


a.add()





class FourCal:
    def setdata(self, first, second):
        self.first = first
        self.second = second
    def add(self):
        result = self.first + self.second
        return result
    def sub(self):
        result = self.first - self.second
        return result
    def x(self):
        result = self.first * self.second
        return result
    def div(self):
        result = self.first / self.second
        return result
    


a = FourCal()
b = FourCal()
a.setdata(4,2)
b.setdata(3,8)
print(a.add(), a.sub(), a.x(), a.div())
print(b.add(), b.sub(), b.x(), b.div())





class FourCal:
    def setdata(self, first, second):
        self.first = first
        self.second = second
    def add(self):
        result = self.first + self.second
        return result
    def sub(self):
        result = self.first - self.second
        return result
    def x(self):
        result = self.first * self.second
        return result
    def div(self):
        result = self.first / self.second
        return result
    


a = FourCal()


a = FourCal()
a.add() #값을 먼저 지정해줘야함


class FourCal: # __init__ = 생성자
    def __init__(self, first, second): # __init__ = 매직메서드: 규칙으로 정해져있는 것 (__ __로 일반 변수와 구분)
        self.first = first   # __init__ : 그떄그때 초기화해주는 기능 !
        self.second = second
        
    # def setdata(self, first, second):
    #     self.first = first
    #     self.second = second
        
    def add(self):
        result = self.first + self.second
        return result
    def sub(self):
        result = self.first - self.second
        return result
    def x(self):
        result = self.first * self.second
        return result
    def div(self):
        result = self.first / self.second
        return result
    


a = FourCal


a = FourCal(4,2) # 정상동작함 !


a.add()


a.sub()





# 절차 지향은 위에 바꾸면 아래도 다 바꿔야함
# 객체 지향은 한개 수정해야하면 상속받아서 수정하면 됨: 유지 관리 보수가 좋음


class MoreFourCal(FourCal):
    pass


a = MoreFourCal(4,2)
a


a.add(), a.x(), a.sub(), a.div()


# 상속받아서 버전업
# 코드의 도식화는 불가능에 가까움 - 하나 수정했다고 변수와 연결된 모든걸 수정하는게 너무 까다로움
# 한개만 새 클래스를 만들어서 버전업, 앞으로 사용할 때 클래스명만 변경하면 됨


class MoreFourCal(FourCal):
    def power(self):
        result = self.first ** self.second
        return result
# 빵 틀 만든 것


a = MoreFourCal(4,2) # 빵 틀에 빵 넣기
a.add(), a.x(), a.sub(), a.div(), a.power() # 빵에 잼 넣기





a = FourCal(4,0)
a.div()


# 상속받은 메서드 덮어씌우기
class SafeFourCal(FourCal):
    def div(self):
        if self.second == 0:  # 나누는 값이 0인 경우 0을 리턴하도록 수정
            return 0
        else:
            return self.first / self.second


a = SafeFourCal(4,0)
a.div()





class Family:
    lastname = '김'


Family.lastname


a = Family()
b = Family()
a.lastname, b.lastname
#Family 안에서 어떤 인스턴스를 만들어도 무조건 변수가 '김'으로 고정되어있음


Family.lastname = '박'
a.lastname


b.lastname #기준이 바꼈기때문에 인스턴스가 바껴도 변경점이 그대로


a.lastname = ('최')
a.lastname


b.lastname # a만 성이 바꼈기 때문에 종가는 그대로, 따라서 b는 그대로 박


# class가 바뀌면 인스턴스도 바뀌지만 인스턴스가 바뀐다고 클래스가 바뀌진 않음








# 커퓌머쉰...
# 전화...번호부...
# 내가 원하는 값만 넣지 않아서 예외처리가 필요~





#존재하지 않는 파일을 사용하려고 시도했을 때
f = open('없는파일','r')


# 0으로 나누려고 시도했을 때
4/0


# 인덱스 요소가 없을 때
a = [1,2,3]
a[3]


# 에러코드가 바꼈다 -> 나름 발전하고 있다는 뜻





#  1. Try-except 문

# 모니터링하는 구간에서 에러가 난다면
# 이렇게 해줘 (분기문처럼)
# 에러의 범위는 무궁무진하고 예상할 수 없기 때문에 분기문 처리하지말고 오류 예외 처리 기법 사용


# 1. try-except만 쓰는 방법
# 이 경우에는 오류의 종류에 상관없이 오류가 발생하면 except 블록을 수행한다.


#   1. 오류 원인 파악
#   2. 오류에 대한 대응


#에러코드 관리하는 내부 WIKI 문서가 있음
#정책, 프로그래밍, 코드관리, 히스토리 등
#에러코드 관리를 위한 문서도 있음 !
# 알툴즈 당시 에러 200+개, 에러코드 구분해서 기획자가 문서에 각각 고객 대응 메뉴얼을 작성, 고객지원팀이 그걸 보고 대응


# try except만 쓰는 방법
try:
#    4/0
    f = open('없는파일','r')
except :  # 오류 캐치 블록
    print(0)
# 모든 오류에 대해 0으로 표기 -> 뭐가 문제인지 모름


# 2. 발생 오류만 포함하는 except문
try:
    4/0
#    f = open('없는파일','r')
except ZeroDivisionError:
    print(0)


try:
    4/0
#    f = open('없는파일','r')
except FileNotFoundError:
    print(0)
# 에러가 났을 때 에러메시지 팝업으 띄우기 위해서 - 에러 정보도 알아야하고 에러 내용도 추출해야함(적합한 팝업 띄우려고)


#3. 발생오류와 오류 변수까지 포함한 except문
try:
    4/0
except ZeroDivisionError as e:
    print(e)
# 에러 나도 컴 꺼지는게 아니라 에러 있는채로 그대로 사용 가능함





try:
    f = open('foo.txt', 'w')
    # 무언가를 수행한다.
    # 근데 다른 코스 실행하다가 에러가 남
    # 안전장치로 존재하는것이 finally
    # 중간에 에러 있더라도 기능 동작, 프로세스 같은것들이 에러가 난 상태에서 계속 켜지면 오류가 더 심각해짐
    # 데이터 수집을 위해 text 객체 열어서 씌우고 있는데 갑자기 예상하지 못한 에러가 나는 경우(네트워크 오류 등):
        # 상대 서버에서 에러가 났다던가, 네트워크 오류가 났다던가 등등
    # 기존에 가져간거 다 버리는게 아닌 종료하든 저장하든 해줘 라고 안전장치를 두는 것
finally:
    f.close()  # 중간에 오류가 발생하더라도 무조건 실행된다.





try:
    a = [1,2]
    print(a[3])
    4/0
except ZeroDivisionError:
    print("0으로 나눌 수 없습니다.")
except IndexError:
    print("인덱싱 할 수 없습니다.")

#인덱스에서 이미 에러가 났기 때문에 인덱스 에러가 뜸


# as 사용한 것
try:
    a = [1,2]
    print(a[3])
    4/0
except ZeroDivisionError as e:
    print(e)
except IndexError as e:
    print(e)


# 튜플
try:
    a = [1,2]
    print(a[3])
    4/0
except (ZeroDivisionError, IndexError) as e:
    print(e)





# 코드가 에러가 났을 때 실행하는 문법을 여태 배웠다
# 그럼 코드가 에러가 나지 않았을 땐?(정상 코드일 때)


try:
    age=int(input('나이를 입력하세요: '))
except:
    print('입력이 정확하지 않습니다.')
else:
    if age <= 18:
        print('미성년자는 출입금지입니다.')
    else:
        print('환영합니다.')





try:
    f = open("없는파일", 'r')
except FileNotFoundError:
    pass
# 원인은 잘 모르겠는데 진짜 사소한 에러일 때
# 알려면 코드 다 까봐야하는데 별로 큰 에러는 아닐 때 그냥 넘기는 용으로
# 100번중에 1번 에러 뜨긴 하는데 되게 사소한 에러라 잘 모른다 ~ 이런거일 때





# class 만들었는데 계속 활용되고 overwriting 하고, 다른 사람도 쓰고, 내 코드가 배포 되고 있음
# 제약을 알려줘야 함 !
# 에러가 뜨는 것도 raise 시켜주는 것
# 이런 경우에 이런 에러 코드를 보여줘, 라고 제공하고 있는 것
# 진짜 오류는 동작 안하고 꺼짐


class Bird:
    def fly(self):
        raise NotImplementedError


class Eagle(Bird):
    pass


eagle = Eagle()
eagle.fly() # 정의하지 않은 메서드 사용하니까 NotImplementedError라고 뜸


class Eagle(Bird):
    def fly(self):
        print("very fast")

eagle = Eagle()
eagle.fly()
# 넣어주면 정상 작동함





class MyError(Exception): 
    pass


def say_nick(nick):
    if nick == '바보':
        raise MyError()
    print(nick)


say_nick('천사')


say_nick('바보')


try:
    say_nick('천사')
    say_nick('바보')
except MyError:
    print('허용되지 않는 별명입니다.')





# 누군가는 숫자, 누군가는 영어, 누군가는 한글, 누군가는 특수기호 기입할 것
# 사용법을 알려주지 않았을 때 정상동작하게끔 예외를 처리해보자
