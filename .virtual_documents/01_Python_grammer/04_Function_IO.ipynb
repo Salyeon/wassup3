


#def = define
# 나는 함수를 정의할거야!(함수 이름 = 함수변수명)
#매개변수 = input을 정의


def add(a,b): # 규칙만 정의한 것, 함수에 구체적인 값을 넣어야 실행함
    return a + b


a = 3
b = 4
add(3,4)


c = add(3,4)
c


c





# 일반적인 함수 형태
def add(a, b):  #문장
    result = a + b  # 변수 안에 수행할 문장
    return result # 수행한걸 반환


# 입력값이 없는 함수
def say(): 
    return 'Hi' 


# 매개변수를 받지 않아 인자가 없지만 say라고 하면 Hi를 반환


say()


# 조회 메서드
# default 값이라서 안받는것


print?


#리턴값이 없는 함수
def add(a, b): 
    print("%d, %d의 합은 %d입니다." % (a, b, a+b)) # <- 로컬 영역 안에서만 print가 되고, 글로벌 영역으로 반환 x


add(3,4)


add(4,4)


#return을 받는것과의 차이? 
c = add(3,4)


c


def add(a,b): 
    return a + b


c = add(3,4)


c


# 아무것도 설정하지 않으면 글로벌 영역(RAM 영역)에서 활용됨
# 함수 = 함수만의 폐쇄적인 영역(LOCAL 영역)에서 활용됨
# 함수에서 이루어지는 변수 등은 모두 함수에서만 이루어짐


# return = 폐쇄적인 영역에서 작성한 함수를 글로벌 영역까지 반환하겠다


# 전역변수, 지역변수
# A = 글로벌(모든 자원을 공유)
# B = 로컬: 외주 <- 얘가 함수





# 매개변수를 지정하여 호출하기
def sub(a, b):
    return a - b


a = sub(7,3)
a


a = sub(3,7)
a


sub(a=7, b=3)


sub(b=3, a=7)





print('asdf','asdfasdf')


# 가변인자 args 만들기
# 깂이 몇개가 되든 누적시켜 더해주는 함수


def add_many(*args): # 인자 10개는 100개든 다 받을 수 있음, iterable한 객체(데이터 요소의 묶음)
    result = 0 
    for i in args: 
        result = result + i   # *args에 입력받은 모든 값을 더한다.
    return result 


add_many(1,3,5)


add_many(1,3,5,7,9,1,11,111,1)





def add_mul(choice, *args): 
    if choice == "add":
        result = 0 # 더하기는 0+ 해야 원래 넣은 값들의 합이나옴
        for i in args:
            result = result + i

    elif choice == "mul":
        result = 1 # 곱하기는 1 x 해야 원래 넣은 값들의 곱이 나옴
        for i in args:
            result = result * i
            
    return result



add_mul('add',1,3,4)


add_mul('mul',1,3,5)


def add(select, *args):
    if select == 'sum':
        result = 0
        for i in args:
            result += i
    elif select =='multi':
        result = 1
        for i in args:
            result = result * i
    return result
    


add('sum',1,3,5)


add('multi',3,5)





dict?
# kwargs 가 있는 것들 -> dict로 반환하여 사용하는 것!


def print_kwargs(**kwargs):
    print(kwargs)


print_kwargs(a=1)


print_kwargs(name = 'est', age = 20)





def add_and_mul(a,b):
    return a+b,a*b


add_and_mul(3,4)
# 얜 튜플로 이루어진 1개의 값임


a = add_and_mul(3,4)
a


len(a), type(a)


# 함수 input 에서 output 으로 갈 때 값이 변경되면 안되서 튜플로 값이 와서 튜플로 값이 나감


#char varchar
#char은 용량이 적지만 느림(그때그때 길이를 파악해야해서)
#varchar은 용량은 고정이지만 빠름(길이가 정해져있으니까)


a, b = add_and_mul(3,4)
a


b


a, _ = add_and_mul(3,4) # _ 를 사용하면 필요한 변수만 받아올 수 있음
a


def add_and_mul(a,b): 
    return a+b 
    return a*b 


add_and_mul(3,5) # return 하는 순간 반드시 함수를 빠져나옴(return 여러번 적어도 소용 없음)


#return의 또 다른 쓰임새
# break와 유사한 역할로도 사용


def say_nick(nick): 
    if nick == "바보":
        return  # 함수는 return으로만 빠져나와짐
    print("나의 별명은 %s 입니다." % nick)


say_nick("야호")


say_nick("바보") # 출력하지 않고 그냥 나와버림





#default라는 값은 오류를 막아주는 역할을 한다


def say_myself(name, age, man=True): #man = True 가 기본값(남자가 기본)
    print("나의 이름은 %s 입니다." % name) 
    print("나이는 %d살입니다." % age) 
    if man: 
        print("남자입니다.")
    else: 
        print("여자입니다.")


say_myself('이스트', 20) # 초기값이 남자로 이루어져있음


say_myself('이스트', 20, man=False)


def say_myself(name, man=True, age): # 초기값이 정해지면 다 정하거나 일부로 하려면 맨 뒤에만 넣어야
    print("나의 이름은 %s 입니다." % name) 
    print("나이는 %d살입니다." % age) 
    if man: 
        print("남자입니다.")
    else: 
        print("여자입니다.")





a = 1
def vartest(a):
    a = a + 1
    print(a) #vartest 안에서만 이용되는 함수이기 때문에 2를 표시


vartest(a)


print(a) #그냥 2 표시





# return


a = 1
def vartest(a):
    a = a + 1
    return a
a = vartest(a)
print(a)


#global 명령 3:19
a = 1
def vartest():
    global a
    a = a+1
vartest()
print(a)





def add(a,b):
    return a+b


add = lambda a,b: a+b
result = add(3,4)
print(result)
# 리스트 컴프리헨션처럼 누적됐을 때 속도가 빠르다





#데이터 자료형을 정해야


# input 사용하기
a = input()
a


# 프롬프트로 사용자 입력받기
a = input('입력해주세요')
a


print('hi hello thank you')


print('hi', 'hello', 'thank', 'you')


# print 결과 한줄에 보기
for i in range(10):
    print(i, end=' ')





f = open('새파일.txt', 'w')
f.close()


open?
# r 읽기모드
# w 쓰기 모드(덮어쓰기)
# a 추가 모드(마지막에 새로운 내용 추가)


f = open('C:/workspace/wassup3/01_Python_grammer/output/새파일.txt', 'w')
f.close()
# / 나 \\로 경로 표기


f = open('output/새파일2.txt', 'w')
f.close()


pwd #현재 경로 위치 파악


f = open('output/새파일.txt', 'w')

for i in range(1,11):
    data = f'{i}번째 줄입니다. \n'
    f.write




f.close()


f = open('output/새파일2.txt', 'w')

print(f,type(f))

f.close()


f = open('output/새파일.txt', 'w')

for i in range(1,11):
    data = f'{i}번째 줄입니다. \n'
    f.write(data)
f.close()


for i in range(1,11):
    data = f'{i}번째 줄입니다. \n'
    print(data) # 줄바꿈이 2번인 이유는 print 함수에 기본적으로 다음 값이 들어갈 떄 줄바꿈이 적용되기 떄문





#readline 함수 - 딱 한줄 읽어줌
f = open("output/새파일.txt", 'r')
line = f.readline()
print(line)
f.close()


f = open("output/새파일.txt", 'r')
while True: 
    line = f.readline()
    if not line: break
    print(line)
f.close()
#while 쓰는 이유: 내용이 얼마나 있는지 모르기 때문


f = open("output/새파일.txt", 'r')
lines = f.readlines()
print(lines)
f.close()


f.readlines?


f = open("output/새파일.txt", 'r')
lines = f.readlines()
for line in lines:
    print(line.strip()) #줄바꿈 한개만 냅두는 방법(프린트 함수에 이미 줄바꿈 들어있어서)
    
f.close()


#read함수 사용하기
f = open("output/새파일.txt", 'r')
data = f.read()
print(len(data), type(data))
print(data)
f.close()


## 파일 객체를 for문과 함께 사용하기
f = open("output/새파일.txt", 'r')
print(f, type(f)) # file이 iterable한 객체라서 바로 for문 써도 작동함


for line in f:
    print(line)
f.close()





f = open("output/새파일.txt",'a')
for i in range(11, 20):
    data = "%d번째 줄입니다.\n" % i
    f.write(data)
f.close()
#파일 추가 시 반드시 파일 끄고 하기 - 에러가 날 수도 있음 !





f = open("output/foo.txt", 'w')
f.write("Life is too short, you need python")
f.close()


with open("output/foo.txt", 'w') as f:
    f.write("Life is too short, you need python")


open?
















































