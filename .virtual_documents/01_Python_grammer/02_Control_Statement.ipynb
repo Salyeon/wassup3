





money = True # 돈 있음
if money:
    print("택시를 타고 가라") # 돈 있으면 택시 타고 가라
else:
    print("걸어 가라") # 돈 있는게 아니면 걸어 가라

# tab 1 = space 4


# *** 계층 주의 ***
# *** 반드시 : 붙이기 ***


money = True
if money:
    print("택시를")
print("타고") # <- 여기가 내려가서 안된다는 뜻
    print("가라")


money = True
if money:
    print("택시를")
    print("타고")
        print("가라") #<- 더 들어가서 실패








# 비교연산자
x = 3
y = 2
x > y


x < y


# == 같다 != 같지 않다


x != y


## quiz
##만약 3000원 이상의 돈을 가지고 있으면 택시를 타고 가고, 그렇지 않으면 걸어가라.
money = 3000  # 요기 금액을 수정~
if money >= 3000:
    print("택시를 타고 가라") 
else:
    print("걸어 가라")






money = 3000 
card = True
if money >= 3000 or card:
    print("택시를 타고 가라") 
else:
    print("걸어 가라")





1 in [1,2,3]


1 not in [1,2,3]


주머니 = ['돈','휴대폰', '종이']
if '돈' in 주머니:
    print("택시를 타고 가라")
else:
    print("걸어가라")





주머니 = ['돈','휴대폰', '종이']
if '돈' in 주머니:
    pass
else:
    print("걸어가라")





#참과 거짓, 2개만 찾을 수 있음 -> elif로 여럿 사용가능!


# if 문만으로 문제 풀기


p = ['money', 'phone', 'paper']
card = True
if 'money' in p or card:
    print("택시를 타고 가라")
else:
    if card:
        print("택시를 타고 가라")
    else:
        print("걸어가라")


p = ['phone', 'paper']
card = True
if 'money' in p or card:
    print("택시를 타고 가라")
else:
    if card:
        print("택시를 타고 가라")
    else:
        print("걸어가라")


p = ['phone', 'paper']
card = False
if 'money' in p or card:
    print("택시를 타고 가라")
else:
    if card:
        print("택시를 타고 가라")
    else:
        print("걸어가라")


#elif 문
p = ['money', 'phone', 'paper']
card = True
if 'money' in p or card:
    print("택시를 타고 가라")
elif card:
        print("택시를 타고 가라")
else:
        print("걸어가라")


# elif는 개수의 제한이 없음


# if문 한줄로 작성하기
p = ['money', 'phone', 'paper']
if 'money' in p or card:pass
else:print("카드를 꺼내라")





score = 88
if score >= 60:
    message = "success"
    print(message)
else:
    message = "failure"
    print(message)


score = 88
if score >= 60:
    message = "success"
else:
    message = "failure"
print(message)


score = 88
message = "success" if score >= 60 else "failure"
print(message)
#기본적으로 왼쪽을 참, 오른쪽을 거짓으로 봄





#for과 while의 역할이 다름
#while은 조건


treeHit = 0
while treeHit < 10: # 10부터 종료
    treeHit = treeHit +1 #10보다 작으면 계속 실행하고 기존에서 +1 수치만큼 늘려줘(기록하기 위함)
    print("나무를 %d번 찍었습니다." % treeHit)
    if treeHit == 10:
        print("나무 넘어갑니다.") #분기문





prompt = """
1. Add
2. Del
3. List
4. Quit

Enter number: """


# """  ~~~ """ = 단락
print(prompt)


number = 0
while number != 4:
    print(prompt)
    number = int(input())





# 가장먼저 구현하는게 종료 기능
# why? 무한히 실행시키면 끌 수 없기 때문에 기능 만들 땐 가장 먼저 종료부터 만들어야 함
# if 의 pass문처럼(얘는 지나가는거긴 하지만..) break를 통해 문장을 종료함


coffee = 10
money = 300
while money :
    print('돈을 받았으니 커피를 줍니다.')
    coffee = coffee - 1
    print(f'남은 커피의 양은 {coffee}입니다.')
    if coffee == 0:
        print('커피가 다 떨어져서 판매를 중지합니다.')
        break





coffee = 10
money = int(input('금액을 투입하세요'))
while money == 300:
    print('돈을 받았으니 커피를 줍니다.')
    if coffee > 0:
        coffee = coffee -1
        print(f'남은 커피의 양은 {coffee}입니다.')
        if coffee == 0:
            print('커피가 다 떨어져서 판매를 중지합니다.')
            break


* input, output 정의
* 데이터: 커피 가격 300원(정의되어있음), 커피 재고(상수), 사용자 입력 커피 금액(input())
* 조건
  1. 커피값 == 300
     커피를 제공하고(print())
     커피 재고를 차감하고(stock = coffee-userinput)
     재고를 안내해주자 stock print
  2. 커피값 > 300
     커피를 제공하고
     거스름돈을 준다(userinput-300)
     커피 재고 차감하고 안내한다 
  3. 커피값 < 300
     안준다(print)
     남은 재고 알려줘도 되고 안알려줘도 됨(print)
  4. 커피 재고 == 0
     재고 소진을 안내하고
     마감을 안내한다.(print)
     break


coffee = 10

while True : 
    money = int(input('돈을 넣어주세요: '))

    if money == 300:
        print('300원을 받았습니다. 커피를 줍니다.')
        coffee = coffee -1
        print(f'남은 커피수량은 {coffee}입니다.')

    elif money > 300:
        print(f'거스름돈 {money-300}원을 주고 커피를 줍니다.')
        coffee = coffee -1
        print(f'남은 커피수량은 {coffee}입니다.')

    else : # money < 300
        print('돈이 부족합니다. 커피를 주지 않습니다.')
    if coffee == 0:
        print('커피가 다 떨어졌습니다. 판매를 중지합니다')
        break





coffee = 10
money = int(input('금액을 투입하세요'))
while money == 300:
    print('돈을 받았으니 커피를 줍니다.')
    if coffee > 0:
        coffee = coffee -1
        print(f'남은 커피의 양은 {coffee}입니다.')
        if coffee == 0:
            print('커피가 다 떨어져서 판매를 중지합니다.')
            break


24.06.13





# 전형적인 for 문
test_list = ['one', 'two', 'three'] 
for i in test_list:  # 여기서 뽑은 i ndex라는 뜻(우리가 만든 변수)
    print(i)


a = [(1,2), (3,4), (5,6)] #요소 3개(튜플짜리 요소 3개)
for (first, last) in a: # 파이썬만의 특징
    print(first + last)





marks = [90, 25, 67, 45, 80]
for i in marks:
    if i >= 60:
        print('합격입니다.')
    else :
        print('불합격입니다.')


#답..
number = 0   # 학생에게 붙여 줄 번호
for mark in marks:   # 90, 25, 67, 45, 80을 순서대로 mark에 대입
    number = number +1 
    if mark >= 60: 
        print("%d번 학생은 합격입니다." % number)
    else: 
        print("%d번 학생은 불합격입니다." % number)





number = 0   # 학생에게 붙여 줄 번호
for mark in marks:   # 90, 25, 67, 45, 80을 순서대로 mark에 대입
    number = number +1 
    if mark < 60: 
        continue
    print("%d번 학생은 합격입니다." % number) # 분기가 많은건 좋은게 아님 !(오히려 오래걸림)





range?


range(10)


type(range(10)) #<- 10개짜리 박스를 뜯지 않음, 그냥 박스인채로 보여줌


for i in range(10): # 10번 돌려줘(0~9 나옴), (0:10) 이므로 0부터 10-1 해서 9까지 표시
    print(i)


for i in range(1,11):
    print(i)





a = sum(range(1,11))
print(a)


sum = 0
for i in range(1,11):
    sum += i  # A = A+1 == A+=1
    print(sum)


marks = [90, 25, 67, 45, 80]
for number in range(len(marks)):  # 굳이 len을 사용한 이유는 원천 데이터 손대기보다 이렇게 따로 빼와서 다른 정보를 대입해서 하는게 더 안전해서
    if marks[number] < 60: 
        continue
    print("%d번 학생 축하합니다. 합격입니다." % (number+1))


#continue - 처음으로 다시 돌아옴
# pass - 넘어감?





for i in range(1,10):
    for j in range(1,10):
        print((i)*(j))


구조 짜기
n x m = 결과 <- n for문이 상위, m for문이 하위
2 x (1~9) 
3
4
5
6
7
8
9





a = [1,2,3,4]
result = []
for num in a:
    result.append(num*3)
print(result) # 매우 복잡하다 (새 리스트 만들고 넣어준다?)


a = [1,2,3,4]
#result = [num*3 for num in a] #퍼포먼스를 위해 빠르게 
result = [num * 3 for num in a if num % 2 == 0] # 짝수만
print(result)



# 시간 측정을 위한 코드, 2배넘게 차이남
import time

start = time.time() 
numbers = [i for i in range(1000000)] 
end = time.time() 
print('List Comprehension Time:', end-start)

start = time.time() 
numbers = []
for i in range(1000000):
    numbers.append(i)
end = time.time() 
print('For loop Time:', end-start)






















































