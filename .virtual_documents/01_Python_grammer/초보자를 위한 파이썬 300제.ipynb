





#1
print('hello world')


#2
print("Mary's cosmetics")


#3
print('신씨가 소리질렀다. "도둑이야".')


#4
print('C:\Windows')


#5
print("안녕하세요.\n만나서\t\t반갑습니다.")
# \n = 엔터
# \t = 탭


#6
print ("오늘은","일요일")


#7
print("naver;kakao;sk;samsung")


#8
print("naver/kakao/sk/samsung")


#9
print("first",end=", "); print("second")


#10
a = 5/3
a
print(a)
print(5/3)








#11
삼성전자 = 50000
type(삼성전자)
총평가금액 = 삼성전자 * 10
print('삼성전자', type(삼성전자))
print(총평가금액)


#12
시가총액 = 298000000000000
현재가 = 50000
PER = 15.79
print('시가총액', 시가총액, type(시가총액))
print('현재가', 현재가, type(현재가))
print('PER', PER, type(PER))


#13
s = "hello"
t = "python"
print(s + '! ' + t)


#14
a = 2+2*3
print(a)
print(2+2*3)


#15
a= "132"
print(type(a))


#16
num_str = "720"
int_num = int(num_str)
print(int_num)


#17
num = 100
str_num = str(num)
print(str_num, type(str_num))


#18
str = "15.79"
flo = float(str)
print(flo, type(flo))


#19
year = "2020"
int_y = int(year)
print(int_y-2, int_y-1, int_y)


#20
월정액 = 48584
총금액 = 월정액*36
print(총금액)








#21
letters = 'python'
print(letters[0], letters[2])


#22
license_plate = "24가 2210"
print(license_plate[-4:])


#23
string = "홀짝홀짝홀짝"
print(string[::2])


#24
string = "PYTHON"
r_s = string[::-1]
print(r_s)


#25
phone_number = "010-1111-2222"
a = phone_number.replace ('-', ' ')
print(a)


#26
phone_number = "010-1111-2222"
b = phone_number.replace ('-', '')
print(b)


#27
url = "http://sharebook.kr"
url_s = url.split('.')
print(url_s[1])


#28
lang = 'python'
lang[0] = 'p' # <- 리스트가 아니라 str이라서 안됨
print(lang)



#29
string = 'abcdfe2a354a32a'
stringA = string.replace('a', 'A')
print(stringA)


#30
string = 'abcd'
string.replace('b', 'B')
print(string)
#aBcd
#string 자체는 변화 X, 표시만 aBcd로 나오고 실제 값은 abcd에서 바뀌지 않음





#31
a = "3"
b = "4"
print(a+b) # 34
print(a,b) # 3 4


#32
print("Hi" * 3) #HiHiHi


#33
print('-'*80)


#34
t1 = 'python'
t2 = 'java'
t3 = t1 +' '+ t2+' '
print(t3*5)


#35
name1 = "김민수" 
age1 = 10
name2 = "이철희"
age2 = 13
print('이름: {} 나이: {}'.format(name1,age1))
print('이름: {} 나이: {}'.format(name2,age2))

print('이름: %s 나이: %d'%(name1, age1))
print('이름: %s 나이: %d'%(name2, age2))


#36
name1 = "김민수" 
age1 = 10
name2 = "이철희"
age2 = 13
print('이름: {} 나이: {}'.format(name1,age1))
print('이름: {} 나이: {}'.format(name2,age2))


#37
name1 = "김민수" 
age1 = 10
name2 = "이철희"
age2 = 13
print(f'이름: {name1} 나이: {age1}')
print(f'이름: {name2} 나이: {age2}')


#38
상장주식수 = "5,969,782,550"
a = 상장주식수.replace(',', '')
b = int(a)
type(b)


#39
분기 = "2020/03(E) (IFRS연결)"
분기[0:7]


#40
data = "   삼성전자    "
a_data = data.strip()
print(a_data)





#41
ticker = "btc_krw"
ticker.upper()


#42
ticker = "BTC_KRW"
ticker.lower()


#43
a = 'hello'
a.capitalize()


#44
file_name = "보고서.xlsx"
file_name.endswith('xlsx')


#45
file_name = "보고서.xlsx"
file_name.endswith(('xlsx', 'xls'))


#46
file_name = "2020_보고서.xlsx"
file_name.startswith('2020')


#47
a = "hello world"
a.split()


#48
ticker = "btc_krw"
ticker.split('_')


#49
date = "2020-05-01"
date.split('-')


#50
data = "039490     "
data.rstrip()








#51
movie_rank = ['닥터 스트레인지', '스플릿', '럭키']
print(movie_rank, type(movie_rank))


#52
movie_rank = ['닥터 스트레인지', '스플릿', '럭키']
movie_rank.append('배트맨')
movie_rank


#53
movie_rank = ['닥터 스트레인지', '스플릿', '럭키', '배트맨']
movie_rank.insert(1, '슈퍼맨')
movie_rank


#54
movie_rank = ['닥터 스트레인지', '슈퍼맨', '스플릿', '럭키', '배트맨']
del movie_rank[3]
movie_rank


#55
movie_rank = ['닥터 스트레인지', '슈퍼맨', '스플릿', '배트맨']
del movie_rank[2:]
movie_rank


#56
lang1 = ["C", "C++", "JAVA"]
lang2 = ["Python", "Go", "C#"]
langs = lang1 + lang2
langs


#57
nums = [1, 2, 3, 4, 5, 6, 7]
print('max: ', max(nums))
print('min: ', min(nums))



#58
nums = [1, 2, 3, 4, 5]
a = sum(nums)
print(a)


#59
cook = ["피자", "김밥", "만두", "양념치킨", "족발", "피자", "김치만두", "쫄면", "소시지", "라면", "팥빙수", "김치전"]
print(len(cook))


#60
nums = [1, 2, 3, 4, 5]
average = sum(nums) / len(nums)
print(average)
#58에서 print(sum(nums))를 사용했기에 계산 전에 del sum 사용 필수 -> 58번을 a 함수로 지정해서 해결





#61
price = ['20180728', 100, 130, 140, 150, 160, 170]
price[1:]


#62
nums = [1, 2, 3, 4, 5, 6, 7, 8, 9, 10]
nums[::2]


#63
nums = [1, 2, 3, 4, 5, 6, 7, 8, 9, 10]
nums[1::2]


#64
nums = [1, 2, 3, 4, 5]
nums.reverse()
print(nums)


#65
interest = ['삼성전자', 'LG전자', 'Naver']
print(interest[0], interest[2]) #<- 이렇게 하면 a b 이런 구조로 나옴

del interest[1]
print(interest) # <- 이렇게 하면 ['a', 'b'] 이런 구조로 나옴


#66
interest = ['삼성전자', 'LG전자', 'Naver', 'SK하이닉스', '미래에셋대우']
print(' '.join(interest))


#67
interest = ['삼성전자', 'LG전자', 'Naver', 'SK하이닉스', '미래에셋대우']
print('/'.join(interest))


#68
interest = ['삼성전자', 'LG전자', 'Naver', 'SK하이닉스', '미래에셋대우']
print('\n'.join(interest))


#69
string = "삼성전자/LG전자/Naver"
interest = string.split('/')
print(interest)


#70
data = [2, 4, 3, 1, 5, 10, 9]
data.sort()
data








#71
my_variable = ()
print(my_variable, type(my_variable))


#72
movie_rank = ('닥터 스트레인지', '스플릿', '럭키')


#73
a = (1,)
print(a, type(a))


#74
# 튜플은 원본 생략 불가능


#75
t = 1,2,3,4
type(t)
# 튜플은 괄호 생략해도 됨~


#76
t = ('A', 'b', 'c')
# 튜플은 바꾸는게 안돼용..


#77
interest = ('삼성전자', 'LG전자', 'SK Hynix')
list(interest)


#78
interest = ['삼성전자', 'LG전자', 'SK Hynix']
tuple(interest)


#79
temp = ('apple', 'banana', 'cake')
a, b, c = temp
print(a, b, c)
#apple, banana, cake
print(a,b,c, temp)
temp = ('apple','banana','cake')
temp = a,b,c
print(a,b,c)


#80
a = tuple(range(1,100))
print(a[1::2])

data = tuple(range(2, 100, 2))
print( data )
