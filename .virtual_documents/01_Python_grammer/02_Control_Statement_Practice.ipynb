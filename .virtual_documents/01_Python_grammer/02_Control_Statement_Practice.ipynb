


# shirt - wife x python o but you o shift x 
a = 'Life is too short, you need python'
if 'wife' in a: print('wife')
elif 'python' in a and 'you' not in a : print('python')
elif 'shirt' not in a : print('shirt')
elif 'need' in a: print('need')
else: print('none')






result = 0
i = 1
while i <= 1000:
    if i%3 == 0:
        result += i
    else:
        pass
    i += 1
print(result)





i = 0
while True:
    if i < 6:
        i +=1
    else:
        break
    print('*'*i)





for i in range(1,101):
    print(i)





A = [70, 60, 55, 75, 95, 90, 80, 80, 85, 100]
total = 0
for score in A:
    total += score
average = int(total) / int(len(A))
average





numbers = [1, 2, 3, 4, 5]
result = [n*2 for n in numbers if n%2 == 1]
print(result)



