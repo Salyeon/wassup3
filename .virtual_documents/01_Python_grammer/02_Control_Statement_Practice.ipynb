


# shirt - wife x python o but you o shift x 
a = 'Life is too short, you need python'
if 'wife' in a: print('wife')
elif 'python' in a and 'you' not in a : print('python')
elif 'shirt' not in a : print('shirt')
elif 'need' in a: print('need')
else: print('none')






result = 0
i = 1
while i <= 1000:
    if i%3 == 0:
        result += 1
    else:
        pass
    i += 1
type(result)





while True
print(*)





for i in range(1:101)
print(i)















