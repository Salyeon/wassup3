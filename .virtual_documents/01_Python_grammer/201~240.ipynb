





#201
def print_coin():
    return '비트코인'


#202
print_coin()


#203
for i in range(100):
    print_coin()


#204
for i in range(100):
    print(print_coin())


#205
def hello():
    return 'hi'
hello()
# 정의가 완료되지 않아서 hello()라고 써도 hi를 결과값으로 내지 않는 것


#206
def message() :
    print("A")
    print("B")

message()
print('C')
message()

#ABABC?
#이렇게 해도 함수가 출력이 되네..?


#207
#A C B 각 엔터
print("A")

def message() :
    print("B")

print("C")
message()


#208
# A C B E D 각 엔터
print("A")
def message1() :
    print("B")
print("C")
def message2() :
    print("D")
message1()
print("E")
message2()


#209
# B A 각 엔터
def message1():
    print("A")

def message2():
    print("B")
    message1()

message2()


#210
# 어... [['B,'C'], ['B','C'],['B','C']] 에 엔터하고 A
def message1():
    print("A")

def message2():
    print("B")

def message3():
    for i in range (3) :
        message2()
        print("C")
    message1()

message3()
#그냥 Print라서 B C B C B C A





#211
# 안녕 HI 각 엔터
def 함수(문자열) :
    print(문자열)

함수("안녕")
함수("Hi")


#212
# 7, 15
def 함수(a, b) :
    print(a + b)

함수(3, 4)
함수(7, 8)


#213
#내용물이 없어서
def 함수(문자열) :
    print(문자열)
함수('a')
함수(1)
#내용물 넣으면 잘 됨


#214
def 함수(a, b) :
    print(a + b)

함수(안녕, 3)
#둘 다 int가 아니라 한개만 int 라서


#215
def print_with_smile(문자열):
    print(문자열+':D')


#216
print_with_smile('안녕하세요')


#217
def print_upper_pirce(number):
    print(number*1.3)


#218
def print_sum(a,b):
    print(a+b)


#219
def print_arithmetic_operation(a,b):
    print(f'{a} + {b} = {a+b}')
    print(f'{a} - {b} = {a-b}')
    print(f'{a} * {b} = {a*b}')
    print(f'{a} / {b} = {a/b}')

print_arithmetic_operation(3, 4)


#219 for문으로 구하려면 eval이란 문자열을 계산해주는 함수가 필요
def print_arithmetic_operation(a,b):
    for i in ['+','-','*','/']:
        result = eval(f'{a} {i} {b}')
        print(f'{a} {i} {b} = {result}')
        
print_arithmetic_operation(3,4)


#220
def print_max(a,b,c):
    if a >= b and a>=c:
        print(a)
    elif b > a and b>c:
        print(b)
    else:
        print(c)

print_max(30,5,10)





#221


#222


#223


#224


#225


#226


#227


#228


#229


#230





#231


#232


#233


#234


#235


#236


#237


#238


#239


#240
