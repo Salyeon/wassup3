





#201
def print_coin():
    return '비트코인'


#202
print_coin()


#203
for i in range(100):
    print_coin()


#204
for i in range(100):
    print(print_coin())


#205
def hello():
    return 'hi'
hello()
# 정의가 완료되지 않아서 hello()라고 써도 hi를 결과값으로 내지 않는 것


#206
def message() :
    print("A")
    print("B")

message()
print('C')
message()

#ABABC?
#이렇게 해도 함수가 출력이 되네..?


#207
#A C B 각 엔터
print("A")

def message() :
    print("B")

print("C")
message()


#208
# A C B E D 각 엔터
print("A")
def message1() :
    print("B")
print("C")
def message2() :
    print("D")
message1()
print("E")
message2()


#209
# B A 각 엔터
def message1():
    print("A")

def message2():
    print("B")
    message1()

message2()


#210
# 어... [['B,'C'], ['B','C'],['B','C']] 에 엔터하고 A
def message1():
    print("A")

def message2():
    print("B")

def message3():
    for i in range (3) :
        message2()
        print("C")
    message1()

message3()
#그냥 Print라서 B C B C B C A





#211
# 안녕 HI 각 엔터
def 함수(문자열) :
    print(문자열)

함수("안녕")
함수("Hi")


#212
# 7, 15
def 함수(a, b) :
    print(a + b)

함수(3, 4)
함수(7, 8)


#213
#내용물이 없어서
def 함수(문자열) :
    print(문자열)
함수('a')
함수(1)
#내용물 넣으면 잘 됨


#214
def 함수(a, b) :
    print(a + b)

함수(안녕, 3)
#둘 다 int가 아니라 한개만 int 라서


#215
def print_with_smile(문자열):
    print(문자열+':D')


#216
print_with_smile('안녕하세요')


#217
def print_upper_pirce(number):
    print(number*1.3)


#218
def print_sum(a,b):
    print(a+b)


#219
def print_arithmetic_operation(a,b):
    print(f'{a} + {b} = {a+b}')
    print(f'{a} - {b} = {a-b}')
    print(f'{a} * {b} = {a*b}')
    print(f'{a} / {b} = {a/b}')

print_arithmetic_operation(3, 4)


#219 for문으로 구하려면 eval이란 문자열을 계산해주는 함수가 필요
def print_arithmetic_operation(a,b):
    for i in ['+','-','*','/']:
        result = eval(f'{a} {i} {b}')
        print(f'{a} {i} {b} = {result}')
        
print_arithmetic_operation(3,4)


#220
def print_max(a,b,c):
    if a >= b and a>=c:
        print(a)
    elif b > a and b>c:
        print(b)
    else:
        print(c)

print_max(30,5,10)





#221
def print_reverse(str):
    print(str[::-1])


print_reverse("python")


#222
def print_score(a):
    print(sum(a)/3)
    
print_score([1,2,3])


#223
def print_even(a):
    for i in a:
        if i%2==0:
            print(i)
print_even ([1, 3, 2, 10, 12, 11, 15])


#224
def print_keys(a):
    for i in a.keys():
        print(i)

print_keys ({"이름":"김말똥", "나이":30, "성별":0})


#225
my_dict = {"10/26" : [100, 130, 100, 100], "10/27" : [10, 12, 10, 11]}

def print_value_by_key(a,b):
    print(a.get(b))


print_value_by_key(my_dict, "10/26")  # get 함수 사용 버전


# 인덱스 사용 버전
my_dict = {"10/26" : [100, 130, 100, 100], "10/27" : [10, 12, 10, 11]}
def print_value_by_key (my_dict, key) :
    print(my_dict[key])


print_value_by_key(my_dict, "10/26")


#226
def print_5xn(string):
    print(string)

print_5xn('가나다라마바')
# 뭔소린지 모르겠다


#227
#얘도 뭔소린지 1도 모르겠다


#228
def calc_monthly_salary(annual_salary):
    a= int(annual_salary/12)
    print(a)

calc_monthly_salary(12000013)


#229
#왼쪽: a=100
#오른쪽: b=100
def my_print (a, b) :
    print("왼쪽:", a)
    print("오른쪽:", b)

my_print(a=100, b=200)
#예상치대로 나오려면 'a=100' 이라고 적어야됨


#230
#왼쪽: 200
#오른쪽: 100

def my_print (a, b) :
    print("왼쪽:", a)
    print("오른쪽:", b)

my_print(b=100, a=200)





#231
# 지정되지 않은 함수라 에러 뜰듯?
def n_plus_1 (n) :
    result = n + 1

n_plus_1(3)
print (result)


def n_plus_1(n) :
    result = n + 1
    return(result)
n_plus_1(3)


#232
def make_url(text):
    print(f'www.{text}.com')
make_url("naver")


#233
def make_list(text):
    a = list(text)
    return(a)

make_list("abcd")


#233 return 없이
def make_list(text):
    print(list(text))

make_list("abcd")


#234
result = []
def pickup_even(list):
    for i in list:
        if i%2==0:
            result.append(i)
    return result

pickup_even([3, 4, 5, 6, 7, 8])    


#235
def convert_int(str):
    return int(str.replace(',',''))
convert_int("1,234,567")


#236
def 함수(num) :
    return num + 4

a = 함수(10) # a= 14
b = 함수(a) # b = 18
c = 함수(b) # c = 22
print(c)


#237
def 함수(num) :
    return num + 4

c = 함수(함수(함수(10))) #14 18 22
print(c)


#238
def 함수1(num) :
    return num + 4

def 함수2(num) :
    return num * 10

a = 함수1(10) # 10+4 = 14
c = 함수2(a) # 14*10 = 140
print(c) #140


#239
def 함수1(num) :
    return num + 4

def 함수2(num) :
    num = num + 2
    return 함수1(num)

c = 함수2(10) # 함수1(12) = 16
print(c)


#240
def 함수0(num) :
    return num * 2

def 함수1(num) :
    return 함수0(num + 2)

def 함수2(num) :
    num = num + 10
    return 함수1(num)

c = 함수2(2) #함수1(12) 함수0(14) 28
print(c)
