


def is_odd(number): 
    if number%2 == 1:
        return True
    else:
        return False


is_odd(3)





def avg_numbers(*args):
    result = 0
    for i in args:
        result += i
    return result / len(args)


avg_numbers(11,22,33)





input1 = input("첫번째 숫자를 입력하세요:")
input2 = input("두번째 숫자를 입력하세요:")

total = int(input1) + int(input2)
print("두 수의 합은 %s 입니다" % total)

# 그냥 input은 문자열로 인식이 되기 때문에 단순이 3과 6을 붙이기 때문에 36이 나옴
# int로 바꿔주면 3+6이 됨





print("you" "need" "python")
print("you"+"need"+"python")
print("you","need","python")
print("".join(["you","need","python"]))
#3번
# 4번은 " ".join 하면 3번과 동일하게 스페이스바 한개 들어감





f1 = open("test.txt", 'w')
f1.write("Life is too short")

f2 = open("test.txt", 'r')
print(f2.read())
#한번 더 누르니까 출력하는데요..?


pwd





user_input = input("저장할 내용을 입력하세요: ")
f = open('test.txt', 'a')
f.write('\n')
f.write(user_input)
f.close()





f = open('test2.txt','w')
f.write(body)
f.close()


f = open('test2.txt','r')
body = "Life is too short \n you need java"
f.close

f = open('test2.txt','w')
f.write(body)
f.close()



