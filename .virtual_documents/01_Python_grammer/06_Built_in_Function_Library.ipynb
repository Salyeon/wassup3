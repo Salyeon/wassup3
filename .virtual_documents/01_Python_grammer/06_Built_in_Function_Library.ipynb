





# 절대값 리턴 함수
abs(3)


abs(-3)


abs(-1.2)





all([1,2,3]) #요소가 있다


all([1,2,3,0]) # 0은 요소로 인정 안함


all([]) # 판단할게 없다





any([1,2,3])


any([0,''])


any([])


any([' '])





chr(97)


chr(44032)





dir([1,2,3]) # 리스트 객체가 가지고 있는 모든 함수(메서드)를 보여줌


dir({1,2,3})





#함수를 통해 몫과 나머지를 튜플 형식으로 구할 수 있음


divmod(7,3)


7//3,7%3





#인지하고 있어라ㅏㅏ외우면 더 좋다ㅏㅏㅏㅏ


#순서가 있는 데이터를 받을 경우 = immutable


# 인덱스 값을 포함하는 enumerate 객체를 리턴한다.


for i, name in enumerate(['body', 'foo', 'bar']):
    print(enumerate(['body', 'foo', 'bar']))
    print(i,name)

#객체
# 인덱스 붙이기 위해 따로 for문을 쓸 필요가 없어짐~





eval('1+2')


eval(" 'hi' + 'a' ")


eval('divmod(4,3)')





def positive(l): 
    result = [] 
    for i in l: 
        if i > 0: 
            result.append(i) 
    return result

print(positive([1,-3,2,0,-5,6]))


def positive(x):
    return x > 0


filter(positive, [1,-3,2,0,-5,6])


list(filter(positive, [1,-3,2,0,-5,6]))


positive = lambder x: x>0


filter(lambda x: x>0, [1,-3,2,0,-5,6])


list(filter(lambda x: x>0, [1,-3,2,0,-5,6]))





int('3')


int(3.4)


int('11',2)


int('1A',16)





class Person: pass


a = Person()
a


isinstance(a,Person)


b=3
isinstance(b,Person)





list('python')


list((1,2,3))





def two_times(numberList):
    result = []
    for number in numberList:
        result.append(number*2)
    return result

result = two_times([1, 2, 3, 4])
print(result)


def two_times(x):
    return x*2


list(map(two_times, [1, 2, 3, 4]))
[2, 4, 6, 8]


list(map(lambda x:x*2,[1,2,3,4]))





max([1,2,3])


min([1,2,3])


ord('a')


chr(97)





pow(2,4)


pow(2,3)





range(5)


list(range(5))


list(range(5,10))


list(range(5,10,2))





round(4.6)


round(5.678,2)





sorted([3,1,2])


sorted(['a','c','b'])


sorted('zero')





# iterable한 객체가 들어갔을 때 동일한 데이터들을 묶어서 리턴


#enumalate, filter, map, zip


zip([1,2,3,],[4,5,6])


list(zip([1,2,3,],[4,5,6]))





import datetime
day1 = datetime.date(2024, 5, 2)
day2 = datetime.date(2024, 6, 18)


day1, day2


diff = day2-day1
diff.days


day = datetime.date(2024,6,18)
day.weekday() #0부터 시작해서 화요일


day.isoweekday() #1부터 시작해서 화요일





import time
time.time() # 기준은 1970 1 1 00:00:00 기준에서 초로 얼마나 지났는지


time.localtime(time.time())


time.asctime(time.localtime(time.time()))


time.ctime()


#str format time
time.strftime('%x',time.localtime(time.time()))


time.strftime('%c',time.localtime(time.time()))


for i in range(10):
    print(i)
    time.sleep(1)
# 짱신기해.. 일정 간격으로 한개씩 값 나옴





import random
random.random() #무작위로 실수가 나옴


import random
random.random() # 0~1사이 실수


import random
random.randint(1,10)


import random
random.randint(1,10)


import random
random.randint(1,10)


random.randint(1,55)





lotto = random.randint(1,45)
num = [1,2,3,4,5,6]
for i in num:
    print(lotto)
# 아 몰라


random.choice?


random.sample?


import random
def random_pop(data):
    number = random.choice(data)
    data.remove(number)
    return number


 data = [1, 2, 3, 4, 5]
    while data: 
        print(random_pop(data))


def random_pop(data):
    number = random.randint(0, len(data)-1)
    return data.pop(number)





import random
data = [1, 2, 3, 4, 5]
random.sample(data, len(data))


import random
lotto = list(range(1,56))
random.sample(lotto, 5)


data = [1,2,3,4,5]
import numpy as np
np.random.choice(data,30) # <- 얜 리스트 숫자 이상으로도 뽑아낼 수 있음(복원 추출)


np.random.choice(data, 4, False) # <- 얜 리스트 숫자 넘어가면 에러 뜸(비복원 추출)





pwd


import glob
glob.glob('C:\\workspace\\wassup3\\01_Python_grammer\\*.ipynb') #*,? 등으로 찾으면 됨





import glob
a = glob.glob('C:\\workspace\\wassup3\\01_Python_grammer\\*.ipynb')
print(a)



b = []
for i in a:
    b = i.replace('C:\\workspace\\wassup3\\01_Python_grammer\\','')
    print(b)


b = []
import glob
a = glob.glob('C:\\workspace\\wassup3\\01_Python_grammer\\*.ipynb')
for i in a:
    b = i.replace('C:\\workspace\\wassup3\\01_Python_grammer\\','')
    print(b.split('.ipynb')[0])





import os
os.environ


os.environ['path']


os.getcwd()


# os.chdir('c:/windows')








# dictionary를 file로 만든 확장자 = json


myinfo = {
    "name": "홍길동",
    "birth": "0525",
    "age": 30
}


import json
data = {'name': '홍길동', 'birth': '0525', 'age': 30}
with open('output/myinfo.json', 'w') as f:
    json.dump(data, f)


import json
data = {'name': '홍길동', 'birth': '0525', 'age': 30}
with open('output/myinfo.json') as f:
    json.load(f)

type(data), data


with open('output/myinfo.json', 'w') as f:
    json.dump(data, f, ensure_ascii=False)





import urllib.request


def get_wikidocs(page):
    resource = 'https://wikidocs.net/{}'.format(page)
    with urllib.request.urlopen(resource) as s:
        with open('wikidocs_%s.html' % page, 'wb') as f:
            f.write(s.read())


get_wikidocs(33)


#정적 웹페이지를 수집할 땐 쉽지만 실제 웹사이트는 동적 웹페이지가 많기 때문에 ㅁ..머라구?셀레니움? 아무튼 뭔가를 활용해서 수집한다고 합니다





import webbrowser

webbrowser.open_new('http://python.org')


webbrowser.open('http://python.org')





# 깔 떈 pip install == 1.0.4등 버전까지 입력 가능: 호환성, 안정성이 좋아서 구버전을 많이 활용함
# 삭제할 땐 pip uninstall


pip list # 많은 이유는 아나콘다로 설치해서 대부분의 리스트들이 깔려있기 때문 !





# 테스트용 가짜 데이터 생성하는 라이브러리





# 반드시 대문자로 Faker 입력





pip install Faker


from faker import Faker
fake = Faker()
type(fake), fake


fake.address()


fake = Faker('ko-KR')
fake.name()


fake.address()


test_data = [(fake.name(), fake.address()) for i in range(30)]
test_data


fake.catch_phrase()



