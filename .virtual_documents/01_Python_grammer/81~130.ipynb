





#81
scores = [8.8, 8.9, 8.7, 9.2, 9.3, 9.7, 9.9, 9.5, 7.8, 9.4]
*valid_score, a, b = scores
print(valid_score)


#82
scores = [8.8, 8.9, 8.7, 9.2, 9.3, 9.7, 9.9, 9.5, 7.8, 9.4]
a, b, *valid_score = scores
print(valid_score)


#83
scores = [8.8, 8.9, 8.7, 9.2, 9.3, 9.7, 9.9, 9.5, 7.8, 9.4]
a, *valid_score, b = scores
print(valid_score)


#84
temp = {}
print(temp, type(temp))


#85
a = {'메로나':1000, '폴라포':1200, '빵빠레':1800}
print(a)


#86
a['죠스바'] = 1200
a['월드콘'] = 1500
print(a)


#87
a
print('메로나 가격: ', a['메로나'])


#88
a['메로나'] = 1300
print(a)


#89
del a['메로나']
print(a)


#90
>> icecream = {'폴라포': 1200, '빵빠레': 1800, '월드콘': 1500, '메로나': 1000}
>> icecream['누가바'] # <- 여기 get을 써야 에러가 안뜸(index는 없는 key 검색하면 에러 표시)






#91
inventory = {'메로나':[300,20], '비비빅':[400,3], '죠스바':[250,100]}
print(inventory)


#92
inventory = {'메로나':[300,20], '비비빅':[400,3], '죠스바':[250,100]}
print(inventory['메로나'][0],'원')


#93
inventory = {'메로나':[300,20], '비비빅':[400,3], '죠스바':[250,100]}
print(inventory['메로나'][1],'개')


#94
inventory['월드콘'] = [500,7]
print(inventory)


#95
icecream = {'탱크보이': 1200, '폴라포': 1200, '빵빠레': 1800, '월드콘': 1500, '메로나': 1000}
menu = list(icecream.keys())
print(menu)


#96
price = list(icecream.values())
print(price)


#97
price = list(icecream.values())
print(sum(price),'원')


#98
icecream = {'탱크보이': 1200, '폴라포': 1200, '빵빠레': 1800, '월드콘': 1500, '메로나': 1000}
new_product = {'팥빙수':2700, '아맛나':1000}
icecream['팥빙수'] = 2700
icecream['아맛나'] = 1000
print(icecream)


#98, update 메서드
icecream = {'탱크보이': 1200, '폴라포': 1200, '빵빠레': 1800, '월드콘': 1500, '메로나': 1000}
new_product = {'팥빙수':2700, '아맛나':1000}
icecream.update(new_product)
print(icecream)


#99
keys = ("apple", "pear", "peach")
vals = (300, 250, 400)
result = dict(zip(keys, vals))
print(result)


#100
date = ['09/05', '09/06', '09/07', '09/08', '09/09']
close_price = [10500, 10300, 10100, 10800, 11000]
close_table = dict(zip(date, close_price))
print(close_table)








#101
boolean


#102
print(3 == 5)
# False요


#103
print(3 < 5)
# True요


#104
x = 4
print(1 < x < 5)
#4는 1보다 크고 5보다 작으니까 T


#105
print ((3 == 3) and (4 != 3))
# 3=3은 T이고 4!=3 도T니까 True


#106
print(3 => 4)
# =>가 아니라 >=


#107
if 4 < 3:
    print("Hello World")
# 암것도 인나옴. 4 < 3가 F라서


#108
if 4 < 3:
    print("Hello World.")
else:
    print("Hi, there.")
#4<3가 F이므로 else 값인 "Hi, there." 나옴


#109
if True :
    print ("1")
    print ("2")
else :
    print("3")
print("4")
aa


#110





#111


#112


#113


#114


#115


#116


#117


#118


#119


#120





#121


#122


#123


#124


#125


#126


#127


#128


#129


#130
