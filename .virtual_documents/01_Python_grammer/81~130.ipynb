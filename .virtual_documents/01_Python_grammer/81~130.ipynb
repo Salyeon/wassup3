





#81
scores = [8.8, 8.9, 8.7, 9.2, 9.3, 9.7, 9.9, 9.5, 7.8, 9.4]
*valid_score, a, b = scores
print(valid_score)


#82
scores = [8.8, 8.9, 8.7, 9.2, 9.3, 9.7, 9.9, 9.5, 7.8, 9.4]
a, b, *valid_score = scores
print(valid_score)


#83
scores = [8.8, 8.9, 8.7, 9.2, 9.3, 9.7, 9.9, 9.5, 7.8, 9.4]
a, *valid_score, b = scores
print(valid_score)


#84
temp = {}
print(temp, type(temp))


#85
a = {'메로나':1000, '폴라포':1200, '빵빠레':1800}
print(a)


#86
a['죠스바'] = 1200
a['월드콘'] = 1500
print(a)


#87
a
print('메로나 가격: ', a['메로나'])


#88
a['메로나'] = 1300
print(a)


#89
del a['메로나']
print(a)


#90
>> icecream = {'폴라포': 1200, '빵빠레': 1800, '월드콘': 1500, '메로나': 1000}
>> icecream['누가바'] # <- 여기 get을 써야 에러가 안뜸(index는 없는 key 검색하면 에러 표시)






#91
inventory = {'메로나':[300,20], '비비빅':[400,3], '죠스바':[250,100]}
print(inventory)


#92
inventory = {'메로나':[300,20], '비비빅':[400,3], '죠스바':[250,100]}
print(inventory['메로나'][0],'원')


#93
inventory = {'메로나':[300,20], '비비빅':[400,3], '죠스바':[250,100]}
print(inventory['메로나'][1],'개')


#94
inventory['월드콘'] = [500,7]
print(inventory)


#95
icecream = {'탱크보이': 1200, '폴라포': 1200, '빵빠레': 1800, '월드콘': 1500, '메로나': 1000}
menu = list(icecream.keys())
print(menu)


#96
price = list(icecream.values())
print(price)


#97
price = list(icecream.values())
print(sum(price),'원')


#98
icecream = {'탱크보이': 1200, '폴라포': 1200, '빵빠레': 1800, '월드콘': 1500, '메로나': 1000}
new_product = {'팥빙수':2700, '아맛나':1000}
icecream['팥빙수'] = 2700
icecream['아맛나'] = 1000
print(icecream)


#98, update 메서드
icecream = {'탱크보이': 1200, '폴라포': 1200, '빵빠레': 1800, '월드콘': 1500, '메로나': 1000}
new_product = {'팥빙수':2700, '아맛나':1000}
icecream.update(new_product)
print(icecream)


#99
keys = ("apple", "pear", "peach")
vals = (300, 250, 400)
result = dict(zip(keys, vals))
print(result)


#100
date = ['09/05', '09/06', '09/07', '09/08', '09/09']
close_price = [10500, 10300, 10100, 10800, 11000]
close_table = dict(zip(date, close_price))
print(close_table)








#101
boolean


#102
print(3 == 5)
# False요


#103
print(3 < 5)
# True요


#104
x = 4
print(1 < x < 5)
#4는 1보다 크고 5보다 작으니까 T


#105
print ((3 == 3) and (4 != 3))
# 3=3은 T이고 4!=3 도T니까 True


#106
print(3 => 4)
# =>가 아니라 >=


#107
if 4 < 3:
    print("Hello World")
# 암것도 인나옴. 4 < 3가 F라서


#108
if 4 < 3:
    print("Hello World.")
else:
    print("Hi, there.")
#4<3가 F이므로 else 값인 "Hi, there." 나옴


#109
if True : # <- 이게 나온 이상 이미 전제는 참으로 시작, else는 볼 필요가 없다
    print ("1")
    print ("2")
else :
    print("3")
print("4")



#110
# 3,5 
if True : # <- 이미 참, true 말곤 볼 필요 x
    if False:
        print("1")
        print("2")
    else:
        print("3") # <-false 아닌게 true니까 이걸 출력
else :
    print("4")
print("5")





#111
text = (input())
print(text*2)


#112
num = int(input())
print(num+10)


#113
num = int(input())
if num%2==0:
    print('짝수')
else:
    print('홀수')


#114
numa = int(input()) + 20
if numa <= 255:
    print(numa)
else:
    print(255)


#115
num2 = int(input()) - 20
if num2 > 255:
    print(255)
elif 1 <= num2 <= 255:
    print(num2)
else :
    print(0)


1. 21~274
2. ~20
3. 275~


#116
hour, minute = input('시간:분').split(':')
hour = int(hour)
minute = int(minute)

if minute == 0:
    print('정각입니다.')
else:
    print('정각이 아닙니다.')


time = input("현재시간: ")
if time[-2:] == "00":
    print("정각 입니다.")
else:
    print("정각이 아닙니다.")


#117
fruit = ["사과", "포도", "홍시"]
fq = input("좋아하는 과일은?")
if fq in fruit:
    print('정답입니다.')
else :
    print('오답입니다.')


#118
warn_investment_list = ["Microsoft", "Google", "Naver", "Kakao", "SAMSUNG", "LG"]
list = input("")
if list in warn_investment_list:
    print('투자 경고 종목입니다.')
else: 
    print('투자 경고 종목이 아닙니다.')

#대소문자 구분 안하려면 문자열을 해야 하는데 문자열은 수정이 불가능해서 안됨 <- 이 부분 극복할 수 있는 방법이 없을까?


#119
fruit = {"봄" : "딸기", "여름" : "토마토", "가을" : "사과"}
f = input('제가 제일 좋아하는 계절은: ')
if f in fruit.keys():
    print('정답입니다.')
else :
    print('오답입니다.')


#120
fruit = {"봄" : "딸기", "여름" : "토마토", "가을" : "사과"}
f = input('제가 제일 좋아하는 계절은: ')
if f in fruit.values():
    print('정답입니다.')
else :
    print('오답입니다.')





#121
a = input()
if a.islower() == True:
    print(a.upper())
else:
    print(a.lower())


#122
s = int(input('점수: '))
if s >= 81:
    print('A')
elif 61 <= s <= 80:
    print('B')
elif 41 <= s <= 60:
    print('C')
elif 21<= s<= 40:
    print('D')
else:
    print('E')


#123
m = ['달러', '엔', '유로', '위안']
r = [1167, 1.096, 1268, 171]

r, m = input('입력: ').split(' ')
print(r, m)


a = {"달러": 1167, "엔": 1.096, "유로": 1268, "위안": 171}
b = input('입력: ')
c,d = b.split()
print(float(c)*a[d] ,'원')


a = {'달러': 1167, '엔': 1.096, '유로': 1268, '위안': 171}
b = input('입력: ')
c,d= b.split() # c= 100 d = 달러
print(float(c)*a[d], '원')
# 실수(소수점땜에, 100)*a에서 d key값의 value(달러의 환율)


#124
n1 = input('input number1')
n2 = input('input number2')
n3 = input('input number3')
nb1 = int(n1)
nb2 = int(n2)
nb3 = int(n3)

result = [nb1, nb2, nb3]
print(max(result))


#125
a = input('휴대전화 번호 입력: ')

if a[:3] == '011':
    b = 'SKT'
elif a[:3] == '016':
    b = 'KT'
elif a[:3] == '019':
     b = 'LGU'
else:
    b = '알수없음'
print(f'당신은 {b} 사용자입니다.')


#126
z = {'강북구':['010','011','012'], '도봉구':['013','014','015',], '노원구': ['016','017','018','019']}
a = input('우편번호: ')
if a[:3] in z['강북구']:
    print('강북구')
elif a[:3] in z['도봉구']:
    print('도봉구')
elif a[:3] in z['노원구']:
    print('노원구')
else :
    print('바른 값을 입력해주세요')


#127
b = input('주민등록번호: ')
a = b.split('-')[1]
if a[0] == '1' or a[0] =='3':
    print('남자')
elif a[0] == '2' or a[0] == '4':
    print('여자')
else:
    print('옳바른 주민등록번호를 입력해주세요')


#128
b = input('주민등록번호: ')
a = b.split('-')[1]
if a[1:3] in ['00','01','02','03','04','05','06','07','08']:
    c = ' 입니다.'
else: 
    c = '이 아닙니다.'
print(f'서울{c}')


#129
pn = input('주민등록번호: ')
a = int(pn[0])*2 + int(pn[1])*3 + int(pn[2])*4 + int(pn[3])*5 + int(pn[4])*6 + int(pn[5])*7 + \
int(pn[7])*8 + int(pn[8])*9 + int(pn[9])*2 + int(pn[10])*3 + int(pn[11])*4 + int(pn[12])*5
b = a%11
c = 11-b
if c == int(pn[13]):
    print('유효')
else:
    print('유효하지 않은 주민등록번호입니다. ')


if c == int(pn[13]):
    print('유효')
else:
    print('유효하지 않은 주민등록번호입니다. ')


#130
