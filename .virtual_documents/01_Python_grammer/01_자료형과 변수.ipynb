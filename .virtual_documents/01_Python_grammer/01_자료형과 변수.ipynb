


a = 123


a


a = -178
a


a = 0
a


a = 1.2
a


a = -3.45
a


a = 4.24E10
a


a = 4.24E-10
a


a = 0o177
a


a = 0x8ff
b = 0xABC
a,b





a = 3
b = 4
a + b


a-b


a*b


a/b





a**b





7 % 3


3 % 7





7 // 4


7 / 4





"Hello World"


Hello World


'hello world'


""" Hello World """


'''
hello wordld
'''





Python's favorite food is perl


'Python's favorite food is perl'


"Python's favorite food is perl" #<- 같은 성격이 아닌 다른 성격으로 표시(', ")


"Python is very easy." he says.


'"Python is very easy." he says.'


'Python\'s favorite food is perl' # \ = 원화 표시: 게헹문자 구분(\n으로 줄 바꿈 같은거)


"Life is too short \n You need python"


multiline = "Life is too short \n You need python"
multiline


print(multiline)


# 개발환경에서 이루어지는 것인지? 외장 라이브러리에서 이루어지는 것인지?
# 주피터 노트북 편의기능(입력만 해도 나오던 것): IDE에서 변수만 적어도 변수 정보를 출력하는 편의기능
#실제 동작하게 하려면 print 기능을 활용해야함



multiline = '''
Life is too short
You need python
'''


multiline


print(multiline)





head = "Python"
tail = " is fun!"
head + tail # 수치는 계산하고, 문자열은 연결해주는 것


a = 'python'
a * 5





a = "Life is too short"
len(a) # 값의 길이, 문자열의 길이(공백도 1로 포함됨, ""은 제외하고 L~t까지 길이를 센 것)





a = "Life is too short, You need Python"


len(a)


a[3] # a라는 index에서 4번째(0부터 있으므로 4번째꺼를 표시함) index를 표시해줘


a[13]


a[-1] #0부터 시작, 뒤는 -1부터 시작


a[-7]


a[-0]





#구간을 잘라내어 추출 !
a = "Life is too short, You need Python"


a[0]+a[1]+a[2]+a[3]


a[start:end]


a[0:3] # end: -1이 들어감 -> life를 가져오려면 4까지 지정해야함
#why? 연산때문에 그럼: 범위간 계산할 때 겹치지 않게 하기 위함


a[0:4]


a[-15:] # -15부터 끝나는 곳까지 전부 다 가져와! 라는 뜻


a[:] # start와 제약 없이 끝까지 전부 다 보여줘


a[19:-7]





a = "20240610Sunny" # date날짜와 sunny를 구분하고 싶을 때
date = a[:8]
weather = a[8:]


date


weather


year = a[:4]
day = a[4:8]
year, day, weather





a = "pithon"
# i를 y로 바꾸고 싶을 때


a[1] = 'y' #문자열이라 수정할 수 없음 -> 변수를 새로 생성해야 함 !
a


a[0]+'y'+a[2:]





#오늘의 날씨 등 동적인 데이터 보여주기
#숫자를 바로 대입
"I eat %d apples"%3
#특수기호가 들어간 것 = 게헹문자


# 문자열 바로 대입
"I eat %s apples"%"five"


"I eat %s apples"%5


#숫자는 문자열로 인식 가능 but 오 -> 이걸 숫자로 바꿀 순 없음(컴퓨터는 이게 무슨 말인지를 모름)


"I eat %d apples"%"삼"


# 숫자값을 나타내는 변수로 대입(여태까진 상수)
num = 3
"I eat %d apples"%num


# 2개 이상 값 넣기
num = 10
day = 'three'
"I ate %d apples. So I was sick for %s days."%(num,day)


"I ate %d apples. So I was sick for %s days."%(day,num)
# 타입이 맞지 않음(숫자, 문자인데 문자 숫자를 주면 에러가 남)


"I have %s apples"%3


"rate is %s"%3.234


"오늘의 습도는 %d%% 입니다"%70 #%d%라고 하면 하나의 게헹문자로 이어져있음, %d%%로 %를 따로 표기한다는 것을 알려주기





"%0.2f"%3.14159268 #소수점 2자리까지 보여주고, 실수다(f)


"%0.4f"%3.14159268 #자동 반올림





"I eat {} apples".format(3) #. -> 메서드(기능): . 하고 탭 하면 나오는 기능들 
#문자열이라는 객체에!


"I eat {} apples".format('five') # %d, %s를 구분하지 않아도 됨


num = 10
"I eat {} apples".format(num)


# 2개 이상 값 넣기
num = 10
day = 'three'
"I ate {} apples. So I was sick for {} days.".format(num,day)


"I ate {} apples. So I was sick for {} days.".format(day,num) 
# <- 자료형이 지정이 되어있지 않아서 num,day순서 바꿔도 작동


"I ate {num} apples. So I was sick for {day} days.".format(num=10,day=3) 
# 인자를 지정해둔 것, 뒤에 num과 day 순서를 바꿔도 작동


"I ate {num} apples. So I was sick for {day} days.".format(day=3,num=10) 


"I ate {} apples. So I was sick for {day} days.".format(day=3,10) 
# day는 라벨이 있어서 들어감, 
#10은 라벨 지정이 안되어있어서 순서대로 들어감 = 2번째에 들어가야 하는데 이미 day 라벨이 있어서 작동 X


"I ate {} apples. So I was sick for {day} days.".format(10, day=3) 





y = 3.4213426
"{0:0.4f}".format(y)





name = "홍길동"
age = 30
f'나의 이름은 {name}입니다. 나이는  {age}입니다.'


f'나는 내년이면 {age+1}살이 됩니다.'


d = {'name' : '홍길동', 'age' : 30}
f'나의 이름은 {d["name"]}입니다. 나이는 {d["age"]}입니다.'


24.06.11





#문자 개수 세기 count
a = 'hobby'
a.count('b') #a 에서 b 문자 수를 세줘


# 위치 알려주기 find
a = "Python is the best choice"
a.find('b') # index를 반환해줌


#같은 요소가 여럿일 때 뒤의 요소 검색하는 법
a = "Python is the best choice"
a.find('e', 13)

find()인자에 start, end 인자가 있는데
a.find('e')의 값이 12 이므로
13부터 시작을 하겠다는
a.find('e', 13)을 입력하면 두번째 e의 인덱스를 찾을 수 있습니다


a.find('e',13)


a.find('k') #없는 문자 달라 그러면 -1로 표기가 됨


# 위치 알려주기 index
a = 'Life is too short'
a.index('t')


a.index('k') 
# find와 index의 가장 큰 차이 
# index-> 찾고자하는 값이 없으면 오류를 반환(안정성 해치는 케이스 - 보안 이슈)
# find -> 찾고자하는 값이 없으면 -1을 반환 (예외사항 케이스 - 사용자 경험 해치지 않는 경우: 만보기 10만보같은 극한수치)
# 없을 때 오류가 발생해야 하는 상황도 있고, 유보해야하는 상황도 있음: 그때마다 다른 함수 사용


# 문자열 삽입 join
a = 'abcd'
a


','.join(a)


a = ['a', 'b', 'c', 'd']
a


':'.join(a) #<- 인풋이 필요한 기능





a = 'hi'
a.upper() # <- input이 필요없는 기능


print(a)


a # upper은 출력값을 변환만 하는 것(함수로서 값을 변경시키지 않음)


print?


help(print())


# 함수를 잘 모르겠으면 phython documents를 검색하는게 베스트
# https://www.python.org/doc/ 2:48..


# 왼쪽 공백 지우기 lstrip
a= '   hi   '
a


a.lstrip()


a.rstrip()


a.strip()





a = 'Life is too short'
a.replace?


a.replace('Life', 'Your leg') # 원본을 바꾸는게 아닌 표시할 때만 달라지게 만드는 것


a = a.replace('Life', 'Your leg')
a





a.split()


a.split?


#sep 인자가 있다 = 이걸 지정할 수 있다


b = 'a:b:c:d'
b


b.split(':') #3:05





a = 1
a, type(a) #문자열 메서드랑 다르게 type는 파이썬 기본 함수(데이터 유형에 종속되어있지 않음)


b = 'python'
b, type(b) 


c = [1,2,3]
c, type(c)


id(a) #메모리 주소 id


# 복사
a = [1,2,3]
b = a
id(a), id(b) # b 는 참조


a is b


a == b


del b


a


b


a = [1,2,3]
b = a
id(a), id(b)


a[1] # 1번쟤(0부터니까 사실상 두번쨰) 요소 보여주기


a[1] = 4
a


b


a = [1,2,3]
b = a[:]
id(a), id(b) 
#변수에서 변수로 가면 얕은 복사



a[:] # <- 값만 추출된 것이기 때문에 실제 a와 다른 것(슬라이싱 한 것)





from copy import copy


a = [1,2,3]
a


b = copy(a)
id(a), id(b) #깊은 복사(단순 메모리 복사하는 상대 참조가 아닌 변수를 똑같이 복사해서 새 메모리를 할당한 것)
#copy를 사용하거나 슬라이싱을 활용해 복사하는 것이 깊은 복사


b is a # 변수 그 자체를 비교
# 똑같은 123인데도 a와 b가 다르다고 나옴(얕은 복사가 아님)


b == a # 값만 비교


# 조건문 작성 시 비교 연산자를 가지고 조건문을 만듦
# 값을 비교하는 건지, 변수를 비교하는건지, 변수가 잘 할당이 됐는지 id를 잘 체크해야함





# 변수 = 값
# python이 너무 직관적이라 파이써닉하다 라는 말이 있음(엄청 간결, 직관적이라는 뜻)


a = 'python'
b = 'life'
a, b


a, b = ('python', 'life')
a, b


(a, b) = 'python', 'life'
a, b


a


b


[a, b] = ['python', 'life']
a


b


a = 3
b = 5


a, b = b, a
a, b





odd = [1,3,5,7,9]
odd


type(odd)


a = []
b = [1,2,3]
c = ['Life', 'is', 'too', 'short']
d = [1,2,'Life','is']
e = [1,2,['Life', 'is']]
print(a,type(a)) #비어 있는 리스트 객체
print(b,type(b))
print(c,type(c))
print(d,type(d))
print(e,type(e))
# 전부 다 리스트..!


a = list()
a, type(a)





a = [1,2,3]
a


a[0]


a[0] + a[2]


a[0] + a[-1]


a = [1,2,3,['a','b','c']]
a


len(a) #요소의 길이는 4개


a[3]


a[3][1] #4번째 요소 안에 2번쨰꺼 추출


# 삼중 리스트 인덱싱
a = [1,2,['a','b',['life','is']]]


a[2][2][0]





a = [1,2,3,4,5]


a[2:4] #end는 -1이라 4로 해야 3,4가 추출됨~


#홀수 슬라이싱
a[::2] # start(시작), end(끝), step(간격) -> 처음부터 끝까지 2개 단위로


#짝수 슬라이싱
a[1::2]





a = [1,2,3,['a','b','c'],4,5]


a[2:5]


a[2:-1]


a[3][0:2]





a = [1, 2, 3]
del a[1] # <- 얘는 원본 직접 수정함


a


a = [1, 2, 3, 4, 5]
del a[2:]


a





# 리스트 요소 추가 append
a = [1, 2, 3]
a


a.append(4) #<- 맨 뒤에 데이터 추가
a


# 리스트 정렬 sort
a = [1, 4, 3, 2]
a.sort() #<- 값을 넣을 필요가 없음(정렬만 하면 됨)
a


a.sort?


a.sort(reverse = True)


a


# 리스트 뒤집기 함수 reverse
a = ['a', 'c', 'b']
a.reverse()
a


# 인덱스 반환 index
a = [1, 2, 3]
a.index(3)


a.index(0)


# 리스트 요소 삽입 insert
#얘는 위치도 지정 가능, 보통 append를 활용함(데이터 추가를 하기 때문)
a = [1, 2, 3]
a.insert(0,4)
a


# remove
# delete와 다른 점?
a = [1, 2, 3, 1, 2, 3]
a.remove(3)
a
#가장 처음 만나는 3(요소)을 삭제함


# pop
# 뽑아서 지우기
a = [1, 2, 3]
a.pop()


a


# count
a = [1, 2, 3, 1]
a.count(1)


a.count?


# extend
a = [1, 2, 3]
a.extend([4, 5])
a


b = [6, 7]
a.extend(b)
a


a.extend?


# iterable <- 반복 가능한 객체 나중에 for문에서 자세히 배운다고 합니다





a = 1
a = a + 2
a


a += 3
a


a = [1, 2, 3]
a += [4, 5]
a


a += 9 #<- 리스트가 아님
a


a += [9]
a


#리스트는 리스트하고만 연산할 수 있다!





t1 = ()
t2 = (1, )
t3 = (1,2,3)
t4 = 1,2,3
t5 = ('a','b',('ab','cd'))
print(t1, type(t1))
print(t2, type(t2))
print(t3, type(t3))
print(t4, type(t4))
print(t5, type(t5))


# 주로 쓰이는 경우
#함수의 input output 데이터
# 회원 DB 생성할 때
# 데이터 이동 시(변경되면 안되기 때문)
#123처럼 괄호 안치면 튜플로 인식
# 뒤에 안적어도 인정해줌

#조회, 이동시 사용!!


t1, t2


type((1)), type((1,)) # 괄호 + 복수개가 있어야 튜플


t1 = (1,2,'a','b')
t1


del t1[0] #튜플은 제거가 안됨 !


t1[0] = 'c' #튜플은 수정도 안됨 !





# 인덱싱
t1 = (1,2,'a','b')
t1[0]


t1 = (1,2,'a','b')
t1[1:]





#튜플 더하기
t1 = (1,2,'a','b')
t2 = (3,4)
t3 = t1 + t2
t3


# 연산이 되지 않음 !


t2 = (3,4)
t3 = t2*3
t3
# 값이 3배가 되는 것이 아닌 데이터가 3번 입력됨
#변경이 안된다는 점 제외하면 리스트와 거의 유사 !





t1 = (1,2,'a','b')
len(t1)


24.06.12











dic = {'name': 'pey', 'phone': '010-9999-1234', 'birth': '1118'}
dic


type(dic)


a = {1 : 'hi'}
a, type(a)


a = {'a' : [1,2,3]}
a, type(a)


#key는 단일 value만 들어갈 수 있음(리스트는 안됨) value는 리스트도 가능!





a = {1: 'a'}


a[2] = 'b'
a


a['name'] = 'pey'
a


a[3] = [1,2,3]
a # 딕셔너리에선 int 순서가 아니라 0,1,2 순서가 아님


del a[1]
a





# 키를 사용해서 value 얻기
grade = {'pey': 10, 'julliet': 99}
grade


grade['pey']


grade['julliet']





a = {[1,2] : 'hi'}


# 리스트는 키로 만들 수 없다 - key는 변하면 안되는데 리스트는 변할 수 있어서 안됨(key는 수정이 되면 안됨)





# key 리스트 만들기 - keys
a = {'name': 'pey', 'phone': '010-9999-1234', 'birth': '1118'}
a.keys()


for k in a.keys(): #a라는 변수에 있는 모든 key를 뽑아줘
    print(k) # iter - 개수가 여럿, 반복을 할 수 있음(반복문을 활용할 수 있음)
# a에 존재하는 키들을 하나씪 뽑아서 실행해줘 라는 뜻
# : <- 코드블럭을 만듦(print가 저 위치인 이유는 for문 안에 속한 코드임을 표시)
# for 문은 반복하기 위한 명령
# for문의 재료: iterable한 객체 = 반복가능한 객체(sequence 객체, 
# sequence객체로 이루어진 또 다른 객체 ex)dict_keys(['name', 'phone', 'birth']) -> sequence 객체로 이루어진 dic 객체)


list(a.keys()) # 기존은 dic 객체라 리스트 객체로 변환하는 법


#values 리스트 만들기 - values
a.values()


# k,v 쌍 얻기 - items
a.items()


# k, v 쌍 모두 지우기 - clear
a.clear()
a


# key로 value 얻기 - get
a = {'name': 'pey', 'phone': '010-9999-1234', 'birth': '1118'}
a


a.get('name')


a.get('phone')


a.get('nokey') # 매서드는 내가 찾으려는 key 없으면 에러가 안뜸(미리 정해둔 default 값을 띄울 수 있음)


a['nokey'] # index는 내가 찾으려는 key 없으면 에러가 뜸


a.get('nokey', '꽝') # -> 매서드 사용하면 오류가 나는 경우에 대한 설계를 할 필요 없음


## 해당 key가 딕셔너리 안에 있는지 조사하기
'name' in a


'email' in a





s1 = set([1,2,3])
s1, type(s1)


s2 = set('Hello')
s2 # Unique한 값만 독립적으로 유지함: 중복 허용 x, 순서 x: 데이터의 중복을 제거하기 위한 필터로 사용


l1 = list(s1)
l1


l1[0]


s1[0]





s1 = set([1, 2, 3, 4, 5, 6])
s2 = set([4, 5, 6, 7, 8, 9])
s3 = set([4,6,10])


# 교집합 구하기
s1.intersection(s2)


# (여럿일 땐 이렇게 하면 된당)
s1.intersection(s2,s3)


# 합집합 구하기
s1.union(s2)


# 합집합 구하기 (여럿일 땐 이렇게 하면 된당)
s1.union(s2, s3)


s1 | s2 # | -> or 기능


# 차집합 구하기
s1 - s2


s1.difference(s2)





# 값 1개 추가하기 - add
s1 = set([1,2,3])
s1.add(4)


s1 # <- 순서 x, 주머니 안에 여러개가 떠다니느 것


# 값 여러개 추가하기 - update
s1.update([4,5,6]) 
s1 # <- 4가 두번 안나오는 이유는 set이 중복을 허용하지 않아서


# 특정 값 제거하기 - remove
s1.remove(2)
s1





True # 예약어라서 반드시 앞에 T만 대문자를 써야 함


true
TRUE


a = True
b = False


type(a), type(b)


1 == 1


2 > 1


2 < 1


# 프로그램 계산만 하는게 아닌 논리(명제)를 프로그래밍 할 수 있어야 함
# 비교 연산자, 논리 연산자로 조건문을 만들 수 있어야 함
# 만약 이게 참이라면 실행해줘 등의 논리를 실행하기 위함





a = [1,2,3,4]
while a: # while = 조건 반복문(이 조건에 맞으면 게속 실행, 애매하면 무한 반복,, 컴퓨터 퍼짐)
    print(a.pop()) #하나씩 추출하면서 표시해줘


# 리스트는 값이 있으면 참, 없으면 거짓으로 판별
# while은 값이 다 빠지면 거짓으로 보고 종료함

# 자료형도 값이 있으면 참, 없으면 거짓으로 봄
# 튜플도 값이 있으면 참, 없으면 거짓
# dic도 값이 있으면 참, 없으면 거짓(index가 있긴 하니까..)


if []: # 이 조건에 해당하는걸 표시하고
    print('참')
else : #이 조건에 해당하지 않는걸 표시해줘
    print('거짓')
#지금은 조건이 비어있어서 거짓


if [1,2,3]: 
    print('참')
else : 
    print('거짓')





bool?


bool('python')


bool('')


bool(' ') # 공백도 값~


bool(0)


bool(3) #int도 값이 있으면 True ! 


True + True # 1 + 1


True + False # 1 + 0






