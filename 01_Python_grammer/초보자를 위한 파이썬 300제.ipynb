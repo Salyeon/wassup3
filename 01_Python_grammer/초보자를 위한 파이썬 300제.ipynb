{
 "cells": [
  {
   "cell_type": "markdown",
   "id": "5e61a99e-f2fe-4cbb-8d2f-02dcccef777f",
   "metadata": {},
   "source": [
    "# 01. 파이썬 시작하기"
   ]
  },
  {
   "cell_type": "markdown",
   "id": "f4cf2c67-7619-445c-bca1-b9eb566cc456",
   "metadata": {},
   "source": [
    "## 001 ~ 010"
   ]
  },
  {
   "cell_type": "code",
   "execution_count": 1,
   "id": "d52c36a4-3011-46c9-a292-5e4cd3dbe31a",
   "metadata": {},
   "outputs": [
    {
     "name": "stdout",
     "output_type": "stream",
     "text": [
      "hello world\n"
     ]
    }
   ],
   "source": [
    "#1\n",
    "print('hello world')"
   ]
  },
  {
   "cell_type": "code",
   "execution_count": 2,
   "id": "c2cf0c41-ac37-4698-b87b-c0aec933e543",
   "metadata": {},
   "outputs": [
    {
     "name": "stdout",
     "output_type": "stream",
     "text": [
      "Mary's cosmetics\n"
     ]
    }
   ],
   "source": [
    "#2\n",
    "print(\"Mary's cosmetics\")"
   ]
  },
  {
   "cell_type": "code",
   "execution_count": 3,
   "id": "8a714ade-1b06-4329-b905-bc00314c6957",
   "metadata": {},
   "outputs": [
    {
     "name": "stdout",
     "output_type": "stream",
     "text": [
      "신씨가 소리질렀다. \"도둑이야\".\n"
     ]
    }
   ],
   "source": [
    "#3\n",
    "print('신씨가 소리질렀다. \"도둑이야\".')"
   ]
  },
  {
   "cell_type": "code",
   "execution_count": 4,
   "id": "d97e2dbb-146a-423b-9fde-debb0e2d9af7",
   "metadata": {},
   "outputs": [
    {
     "name": "stdout",
     "output_type": "stream",
     "text": [
      "C:\\Windows\n"
     ]
    }
   ],
   "source": [
    "#4\n",
    "print('C:\\Windows')"
   ]
  },
  {
   "cell_type": "code",
   "execution_count": 6,
   "id": "ce0c8622-ab50-4033-be86-30318948be1c",
   "metadata": {},
   "outputs": [
    {
     "name": "stdout",
     "output_type": "stream",
     "text": [
      "안녕하세요.\n",
      "만나서\t\t반갑습니다.\n"
     ]
    }
   ],
   "source": [
    "#5\n",
    "print(\"안녕하세요.\\n만나서\\t\\t반갑습니다.\")\n",
    "# \\n = 엔터\n",
    "# \\t = 탭"
   ]
  },
  {
   "cell_type": "code",
   "execution_count": 8,
   "id": "c2c563a1-094b-4356-add2-0f088dcad487",
   "metadata": {},
   "outputs": [
    {
     "name": "stdout",
     "output_type": "stream",
     "text": [
      "오늘은 일요일\n"
     ]
    }
   ],
   "source": [
    "#6\n",
    "print (\"오늘은\",\"일요일\")"
   ]
  },
  {
   "cell_type": "code",
   "execution_count": 9,
   "id": "cdc04337-2b33-4824-8fc3-b68c1caa5152",
   "metadata": {},
   "outputs": [
    {
     "name": "stdout",
     "output_type": "stream",
     "text": [
      "naver;kakao;sk;samsung\n"
     ]
    }
   ],
   "source": [
    "#7\n",
    "print(\"naver;kakao;sk;samsung\")"
   ]
  },
  {
   "cell_type": "code",
   "execution_count": 10,
   "id": "cba45fc3-f897-46fe-b747-f41145970265",
   "metadata": {},
   "outputs": [
    {
     "name": "stdout",
     "output_type": "stream",
     "text": [
      "naver/kakao/sk/samsung\n"
     ]
    }
   ],
   "source": [
    "#8\n",
    "print(\"naver/kakao/sk/samsung\")"
   ]
  },
  {
   "cell_type": "code",
   "execution_count": 26,
   "id": "7939eae0-8f78-4225-8b7c-eb5ab5012a13",
   "metadata": {},
   "outputs": [
    {
     "name": "stdout",
     "output_type": "stream",
     "text": [
      "first, second\n"
     ]
    }
   ],
   "source": [
    "#9\n",
    "print(\"first\",end=\", \"); print(\"second\")"
   ]
  },
  {
   "cell_type": "code",
   "execution_count": 34,
   "id": "4984cb43-045d-46af-9c91-c98165a49362",
   "metadata": {},
   "outputs": [
    {
     "name": "stdout",
     "output_type": "stream",
     "text": [
      "1.6666666666666667\n",
      "1.6666666666666667\n"
     ]
    }
   ],
   "source": [
    "#10\n",
    "a = 5/3\n",
    "a\n",
    "print(a)\n",
    "print(5/3)"
   ]
  },
  {
   "cell_type": "markdown",
   "id": "8c80f662-ae0f-43b2-8891-cd46651af3af",
   "metadata": {},
   "source": [
    "# 02. 파이썬 변수"
   ]
  },
  {
   "cell_type": "markdown",
   "id": "34aaaebb-72d4-4732-8acc-59fb8f5dc736",
   "metadata": {},
   "source": [
    "## 011 ~ 020"
   ]
  },
  {
   "cell_type": "code",
   "execution_count": null,
   "id": "b77f2eb4-59f7-46ab-89e5-e978153aea33",
   "metadata": {},
   "outputs": [],
   "source": []
  },
  {
   "cell_type": "code",
   "execution_count": null,
   "id": "88105853-fa7b-4aca-89e7-9c005fa32e58",
   "metadata": {},
   "outputs": [],
   "source": []
  },
  {
   "cell_type": "code",
   "execution_count": null,
   "id": "539abfa4-8f98-4896-b24a-d87879dd5827",
   "metadata": {},
   "outputs": [],
   "source": []
  },
  {
   "cell_type": "markdown",
   "id": "251a8e39-c1d4-4e9f-85c5-d03a2da734c7",
   "metadata": {},
   "source": [
    "# 03. 파이썬 문자열"
   ]
  },
  {
   "cell_type": "markdown",
   "id": "198c41d8-07dd-453a-9b00-cb2e7f3d7e3f",
   "metadata": {},
   "source": [
    "## 021 ~ 030"
   ]
  },
  {
   "cell_type": "code",
   "execution_count": null,
   "id": "42226ee5-e8d0-4775-b41e-7d1972ace44a",
   "metadata": {},
   "outputs": [],
   "source": []
  },
  {
   "cell_type": "markdown",
   "id": "0da5a1f5-199a-4e51-8504-6797b3dc1b13",
   "metadata": {},
   "source": [
    "## 031 ~ 040"
   ]
  },
  {
   "cell_type": "code",
   "execution_count": null,
   "id": "ac9ef800-4f41-407e-8176-b3cf64019fac",
   "metadata": {},
   "outputs": [],
   "source": []
  },
  {
   "cell_type": "markdown",
   "id": "5203ff90-0066-4d46-903f-a101ee6d08fa",
   "metadata": {},
   "source": [
    "## 041 ~ 050"
   ]
  },
  {
   "cell_type": "code",
   "execution_count": null,
   "id": "5353a36a-ac64-4b0c-b162-5797e334687e",
   "metadata": {},
   "outputs": [],
   "source": []
  },
  {
   "cell_type": "markdown",
   "id": "9ced6143-42f4-4406-a2b4-981b093f573d",
   "metadata": {},
   "source": [
    "# 04. 파이썬 리스트"
   ]
  },
  {
   "cell_type": "markdown",
   "id": "98fb8598-b484-4a4f-ac2f-c7fda32768bf",
   "metadata": {},
   "source": [
    "## 051 ~ 060"
   ]
  },
  {
   "cell_type": "code",
   "execution_count": null,
   "id": "34821098-756e-49a4-bcbb-bce79a1a0e87",
   "metadata": {},
   "outputs": [],
   "source": []
  },
  {
   "cell_type": "markdown",
   "id": "bf7c1eb1-d36f-4f80-9481-e9b8b09b767d",
   "metadata": {},
   "source": [
    "## 061 ~ 070"
   ]
  },
  {
   "cell_type": "code",
   "execution_count": null,
   "id": "81c85960-33ad-4bb1-9bec-523210daf66d",
   "metadata": {},
   "outputs": [],
   "source": []
  },
  {
   "cell_type": "markdown",
   "id": "bc6b0b63-bb15-4eb2-8416-2e2601647c32",
   "metadata": {},
   "source": [
    "# 05. 파이썬 튜플"
   ]
  },
  {
   "cell_type": "markdown",
   "id": "8f1e8577-5b9b-44b1-be0c-8c071769b3d2",
   "metadata": {},
   "source": [
    "## 071 ~ 080"
   ]
  },
  {
   "cell_type": "code",
   "execution_count": null,
   "id": "ef3d6284-b938-45b1-9dc4-55bcca96944d",
   "metadata": {},
   "outputs": [],
   "source": []
  }
 ],
 "metadata": {
  "kernelspec": {
   "display_name": "Python 3 (ipykernel)",
   "language": "python",
   "name": "python3"
  },
  "language_info": {
   "codemirror_mode": {
    "name": "ipython",
    "version": 3
   },
   "file_extension": ".py",
   "mimetype": "text/x-python",
   "name": "python",
   "nbconvert_exporter": "python",
   "pygments_lexer": "ipython3",
   "version": "3.11.7"
  }
 },
 "nbformat": 4,
 "nbformat_minor": 5
}
