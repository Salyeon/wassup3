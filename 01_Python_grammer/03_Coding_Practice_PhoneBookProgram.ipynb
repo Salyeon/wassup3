{
 "cells": [
  {
   "cell_type": "markdown",
   "metadata": {},
   "source": [
    "# 전화번호 프로그램 만들기\n",
    "\n",
    "* 홍길동 010-123-4567\n",
    "* 기능1 : 연락처 추가\n",
    "* 기능2 : 연락처 전체 보기\n",
    "* 기능3 : 검색, 이름을 입력받아서 전화번호 조회\n",
    "* 기능4 : 수정, 이름을 입력받아서 전화번호 입력수정\n",
    "* 기능5 : 삭제, 이름 입력받아서 삭제\n",
    "* 기능6 : 프로그램 종료"
   ]
  },
  {
   "cell_type": "code",
   "execution_count": 6,
   "metadata": {},
   "outputs": [],
   "source": [
    "prompt = \"\"\"\n",
    "1. 연락처 추가\n",
    "2. 연락처 전체 보기\n",
    "3. 검색, 이름을 입력받아서 전화번호 조회\n",
    "4. 수정, 이름을 입력받아서 전화번호 입력수정\n",
    "5. 삭제, 이름 입력받아서 삭제\n",
    "6. 프로그램 종료\n",
    "\n",
    "Enter number: \"\"\""
   ]
  },
  {
   "cell_type": "code",
   "execution_count": 56,
   "metadata": {},
   "outputs": [
    {
     "name": "stdout",
     "output_type": "stream",
     "text": [
      "\n",
      "1. 연락처 추가\n",
      "2. 연락처 전체 보기\n",
      "3. 검색, 이름을 입력받아서 전화번호 조회\n",
      "4. 수정, 이름을 입력받아서 전화번호 입력수정\n",
      "5. 삭제, 이름 입력받아서 삭제\n",
      "6. 프로그램 종료\n",
      "\n",
      "Enter number: \n"
     ]
    },
    {
     "name": "stdin",
     "output_type": "stream",
     "text": [
      " 6\n"
     ]
    }
   ],
   "source": [
    "\n",
    "db = {'홍길동', '010-123-4567'}\n",
    "number = 0\n",
    "while number != 6:\n",
    "    print(prompt)\n",
    "    number = int(input())\n",
    "    if number == 1:\n",
    "        db = input('이름, 연락처를 입력해주세요')\n",
    "    elif number == 2:\n",
    "        print(db)\n",
    "    elif number == 3:\n",
    "        db[input('이름을 입력하세요')]\n",
    "    elif number == 4:\n",
    "        name = input('이름을 입력하세요')\n",
    "    elif number == 5:\n",
    "        del(name[input('이름을 입력하세요')])\n",
    "    elif number == 6:\n",
    "        break\n",
    "        \n",
    "\n",
    "\n",
    "    "
   ]
  },
  {
   "cell_type": "code",
   "execution_count": null,
   "metadata": {},
   "outputs": [],
   "source": [
    "1. 기본 메뉴창 123456 있는거\n",
    "1. 연락처 추가 창 인풋창\n",
    "2. 전체 연락처 조회 창 \n",
    "3. 이름 검색 창\n",
    "4. 전화번호 수정 창\n",
    "5. 데이터 삭제 창\n",
    "6. 종료 창"
   ]
  },
  {
   "cell_type": "markdown",
   "metadata": {},
   "source": [
    "## 요구사항 분석 및 설계\n",
    "1. I/O, 데이터타입: 문자열, 딕셔너리 K:V\n",
    "2. 데이터: 사용자 입력 input()\n",
    "3. 구조: while(사용자가 입력할때까지 대기해야해서), if문(다양한 기능 존재)\n",
    "4. 기능 + 인터페이스 정책\n",
    "   1. 연락처 추가: dict[key] = value\n",
    "   2. 연락처 전체 보기: print(dict)\n",
    "   3. 검색: get메서드, dict[key] + 편의기능(사전에 사용자가 존재하는지 확인 if user in dict)\n",
    "   4. 수정: update, dict[key] = value\n",
    "   5. 삭제: del\n",
    "   9. 종료: break"
   ]
  },
  {
   "cell_type": "code",
   "execution_count": null,
   "metadata": {},
   "outputs": [
    {
     "name": "stdout",
     "output_type": "stream",
     "text": [
      "-----전화번호부 프로그램-----\n",
      "1. 추가    2. 보기    3. 검색    4. 수정    5. 삭제    9. 종료\n"
     ]
    },
    {
     "name": "stdin",
     "output_type": "stream",
     "text": [
      "메뉴를 선택해주세요.(숫자 only):  1\n"
     ]
    },
    {
     "name": "stdout",
     "output_type": "stream",
     "text": [
      "연락처를 추가합니다.\n"
     ]
    },
    {
     "name": "stdin",
     "output_type": "stream",
     "text": [
      "이름:  qwe\n",
      "전화번호:  123\n"
     ]
    },
    {
     "name": "stdout",
     "output_type": "stream",
     "text": [
      "qwe 123\n",
      "-----전화번호부 프로그램-----\n",
      "1. 추가    2. 보기    3. 검색    4. 수정    5. 삭제    9. 종료\n"
     ]
    },
    {
     "name": "stdin",
     "output_type": "stream",
     "text": [
      "메뉴를 선택해주세요.(숫자 only):  1\n"
     ]
    },
    {
     "name": "stdout",
     "output_type": "stream",
     "text": [
      "연락처를 추가합니다.\n"
     ]
    },
    {
     "name": "stdin",
     "output_type": "stream",
     "text": [
      "이름:  qwe\n",
      "전화번호:  124\n"
     ]
    },
    {
     "name": "stdout",
     "output_type": "stream",
     "text": [
      "qwe 124\n",
      "-----전화번호부 프로그램-----\n",
      "1. 추가    2. 보기    3. 검색    4. 수정    5. 삭제    9. 종료\n"
     ]
    }
   ],
   "source": [
    "contact = {}\n",
    "\n",
    "while True: \n",
    "    print('-----전화번호부 프로그램-----')\n",
    "    print('1. 추가    2. 보기    3. 검색    4. 수정    5. 삭제    9. 종료')\n",
    "    menu = int(input('메뉴를 선택해주세요.(숫자 only): '))\n",
    "\n",
    "    if menu == 1:\n",
    "        print('연락처를 추가합니다.')\n",
    "        new_name = input('이름: ')\n",
    "        new_tel = input('전화번호: ')\n",
    "        print(new_name,new_tel)\n",
    "        #contact[new_name] = new_tel\n",
    "        contact.setdefault(new_name, new_tel)\n",
    "\n",
    "    \n",
    "    elif menu == 2:\n",
    "        print('연락처를 조회합니다.')\n",
    "        #print(contact)\n",
    "        for name, tel in contact.items():\n",
    "            print(name, '=', tel)\n",
    "\n",
    "    \n",
    "    elif menu == 3:\n",
    "        print('연락처를 검색합니다.')\n",
    "        search_name = input('검색 이름: ')\n",
    "        #print(contact[search_name])\n",
    "        print(contact.get(search_name, '없는 이름입니다.'))\n",
    "     \n",
    "    \n",
    "    elif menu == 4:\n",
    "        print('연락처를 수정합니다.')\n",
    "        mod_name = input('수정 이름: ')\n",
    "\n",
    "        if mod_name in contact:\n",
    "            mod_tel = input('새 전화번호: ')\n",
    "            contact[mod_name] = mod_tel\n",
    "        else: \n",
    "            print('등록되지 않은 이름입니다.')\n",
    "\n",
    "    \n",
    "    elif menu == 5:\n",
    "        print('연락처를 삭제합니다.')\n",
    "        del_name = input('삭제 이름: ')\n",
    "        \n",
    "        if del_name in contact:\n",
    "             del contact[del_name]\n",
    "        else: \n",
    "            print('등록되지 않은 이름입니다.')\n",
    "           \n",
    "\n",
    "    \n",
    "    elif menu == 9:\n",
    "        print('연락처를 종료합니다.')\n",
    "        break\n",
    "        \n",
    "    else : \n",
    "        print('잘못된 입력입니다.')"
   ]
  },
  {
   "cell_type": "code",
   "execution_count": null,
   "metadata": {},
   "outputs": [],
   "source": [
    "else"
   ]
  }
 ],
 "metadata": {
  "kernelspec": {
   "display_name": "Python 3 (ipykernel)",
   "language": "python",
   "name": "python3"
  },
  "language_info": {
   "codemirror_mode": {
    "name": "ipython",
    "version": 3
   },
   "file_extension": ".py",
   "mimetype": "text/x-python",
   "name": "python",
   "nbconvert_exporter": "python",
   "pygments_lexer": "ipython3",
   "version": "3.11.7"
  },
  "toc": {
   "base_numbering": 1,
   "nav_menu": {},
   "number_sections": true,
   "sideBar": true,
   "skip_h1_title": false,
   "title_cell": "Table of Contents",
   "title_sidebar": "Contents",
   "toc_cell": false,
   "toc_position": {},
   "toc_section_display": true,
   "toc_window_display": false
  },
  "varInspector": {
   "cols": {
    "lenName": 16,
    "lenType": 16,
    "lenVar": 40
   },
   "kernels_config": {
    "python": {
     "delete_cmd_postfix": "",
     "delete_cmd_prefix": "del ",
     "library": "var_list.py",
     "varRefreshCmd": "print(var_dic_list())"
    },
    "r": {
     "delete_cmd_postfix": ") ",
     "delete_cmd_prefix": "rm(",
     "library": "var_list.r",
     "varRefreshCmd": "cat(var_dic_list()) "
    }
   },
   "types_to_exclude": [
    "module",
    "function",
    "builtin_function_or_method",
    "instance",
    "_Feature"
   ],
   "window_display": false
  }
 },
 "nbformat": 4,
 "nbformat_minor": 4
}
