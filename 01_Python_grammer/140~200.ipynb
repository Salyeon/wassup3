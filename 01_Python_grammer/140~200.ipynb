{
 "cells": [
  {
   "cell_type": "markdown",
   "id": "960c5c9d-59af-4596-ad1e-c14f4b196420",
   "metadata": {},
   "source": [
    "# 08. 파이썬 반복문"
   ]
  },
  {
   "cell_type": "markdown",
   "id": "237435ad-24ec-42b9-a47f-c64bd663334b",
   "metadata": {},
   "source": [
    "## 131 ~ 140"
   ]
  },
  {
   "cell_type": "code",
   "execution_count": 5,
   "id": "86f66b46-0c49-4ea3-ba94-320e14e932cf",
   "metadata": {},
   "outputs": [
    {
     "name": "stdout",
     "output_type": "stream",
     "text": [
      "사과\n",
      "귤\n",
      "수박\n"
     ]
    }
   ],
   "source": [
    "#131\n",
    "과일 = [\"사과\", \"귤\", \"수박\"]\n",
    "for 변수 in 과일:\n",
    "    print(변수)\n",
    "# 사과\\\n",
    "#    귤\\\n",
    "#    수박"
   ]
  },
  {
   "cell_type": "code",
   "execution_count": 7,
   "id": "d92a240a-eaff-4f0a-a892-743d345346df",
   "metadata": {},
   "outputs": [
    {
     "name": "stdout",
     "output_type": "stream",
     "text": [
      "#####\n",
      "#####\n",
      "#####\n"
     ]
    }
   ],
   "source": [
    "#132\n",
    "과일 = [\"사과\", \"귤\", \"수박\"]\n",
    "for 변수 in 과일:\n",
    "  print(\"#####\")\n",
    "# ##### 3줄"
   ]
  },
  {
   "cell_type": "code",
   "execution_count": 14,
   "id": "2555b078-d91a-498a-82b4-47694958d82e",
   "metadata": {},
   "outputs": [
    {
     "name": "stdout",
     "output_type": "stream",
     "text": [
      "A\n",
      "B\n",
      "C\n",
      "===\n",
      "A\n",
      "B\n",
      "C\n"
     ]
    }
   ],
   "source": [
    "#133\n",
    "for 변수 in [\"A\", \"B\", \"C\"]:\n",
    "  print(변수)\n",
    "\n",
    "print('===')\n",
    "\n",
    "print('A')\n",
    "print('B')\n",
    "print('C')"
   ]
  },
  {
   "cell_type": "code",
   "execution_count": 15,
   "id": "e9a1d3ea-d373-4da6-a789-e38fd7467008",
   "metadata": {},
   "outputs": [
    {
     "name": "stdout",
     "output_type": "stream",
     "text": [
      "출력: A\n",
      "출력: B\n",
      "출력: C\n",
      "===\n",
      "출력: A\n",
      "출력: B\n",
      "출력: C\n"
     ]
    }
   ],
   "source": [
    "#134\n",
    "for 변수 in [\"A\", \"B\", \"C\"]:\n",
    "  print(\"출력:\", 변수)\n",
    "\n",
    "print('===')\n",
    "\n",
    "print('출력: A')\n",
    "print('출력: B')\n",
    "print('출력: C')"
   ]
  },
  {
   "cell_type": "code",
   "execution_count": 16,
   "id": "b94f7903-2a02-40c9-8df2-80f16d39cdc1",
   "metadata": {},
   "outputs": [
    {
     "name": "stdout",
     "output_type": "stream",
     "text": [
      "변환: a\n",
      "변환: b\n",
      "변환: c\n",
      "===\n",
      "변환: a\n",
      "변환: b\n",
      "변환: c\n"
     ]
    }
   ],
   "source": [
    "#135\n",
    "for 변수 in [\"A\", \"B\", \"C\"]:\n",
    "  b = 변수.lower()\n",
    "  print(\"변환:\", b)\n",
    "\n",
    "print('===')\n",
    "\n",
    "print('변환: a')\n",
    "print('변환: b')\n",
    "print('변환: c')"
   ]
  },
  {
   "cell_type": "code",
   "execution_count": 19,
   "id": "015c0a96-a6af-40b3-b16b-6701317c1446",
   "metadata": {},
   "outputs": [
    {
     "name": "stdout",
     "output_type": "stream",
     "text": [
      "10\n",
      "20\n",
      "30\n",
      "===\n",
      "10\n",
      "20\n",
      "30\n"
     ]
    }
   ],
   "source": [
    "#136\n",
    "변수 = 10\n",
    "print(변수)\n",
    "변수 = 20\n",
    "print(변수)\n",
    "변수 = 30\n",
    "print(변수)\n",
    "\n",
    "print('===')\n",
    "\n",
    "for 변수 in ['10','20','30']:\n",
    "    print(변수)"
   ]
  },
  {
   "cell_type": "code",
   "execution_count": 21,
   "id": "7d651285-f248-48f7-89cc-b5ad1b7e4c70",
   "metadata": {},
   "outputs": [
    {
     "name": "stdout",
     "output_type": "stream",
     "text": [
      "10\n",
      "20\n",
      "30\n",
      "===\n",
      "10\n",
      "20\n",
      "30\n"
     ]
    }
   ],
   "source": [
    "#137\n",
    "print(10)\n",
    "print(20)\n",
    "print(30)\n",
    "\n",
    "print('===')\n",
    "\n",
    "for 변수 in ['10','20','30']:\n",
    "    print(변수)"
   ]
  },
  {
   "cell_type": "code",
   "execution_count": 25,
   "id": "d980509b-e7ff-4a61-8ec0-2f0c089cc70b",
   "metadata": {},
   "outputs": [
    {
     "name": "stdout",
     "output_type": "stream",
     "text": [
      "10\n",
      "-------\n",
      "20\n",
      "-------\n",
      "30\n",
      "-------\n",
      "===\n",
      "10\n",
      "------\n",
      "20\n",
      "------\n",
      "30\n",
      "------\n"
     ]
    }
   ],
   "source": [
    "#138\n",
    "print(10)\n",
    "print(\"-------\")\n",
    "print(20)\n",
    "print(\"-------\")\n",
    "print(30)\n",
    "print(\"-------\")\n",
    "\n",
    "print('===')\n",
    "\n",
    "변수 = [10,20,30]\n",
    "for i in 변수:\n",
    "    print(i)\n",
    "    print('------')"
   ]
  },
  {
   "cell_type": "code",
   "execution_count": 28,
   "id": "36788ddd-41e9-477d-8060-9f54426e6127",
   "metadata": {},
   "outputs": [
    {
     "name": "stdout",
     "output_type": "stream",
     "text": [
      "++++\n",
      "10\n",
      "20\n",
      "30\n",
      "++++\n",
      "10\n",
      "20\n",
      "30\n"
     ]
    }
   ],
   "source": [
    "#139\n",
    "print(\"++++\")\n",
    "print(10)\n",
    "print(20)\n",
    "print(30)\n",
    "\n",
    "\n",
    "변수 = [10,20,30]\n",
    "print(\"++++\")\n",
    "for i in 변수:\n",
    "    print(i)\n",
    "    "
   ]
  },
  {
   "cell_type": "code",
   "execution_count": 32,
   "id": "af31213d-c432-44f7-bf9d-bae020013bb6",
   "metadata": {},
   "outputs": [
    {
     "name": "stdout",
     "output_type": "stream",
     "text": [
      "-------\n",
      "-------\n",
      "-------\n",
      "-------\n",
      "\n",
      "\n",
      "-------\n",
      "-------\n",
      "-------\n",
      "-------\n"
     ]
    }
   ],
   "source": [
    "#140\n",
    "변수 = [1,2,3,4]\n",
    "for i in 변수:\n",
    "    print(\"-------\")\n",
    "\n",
    "print('\\n')\n",
    "\n",
    "for i in [1,2,3,4]:\n",
    "    print(\"-------\")"
   ]
  },
  {
   "cell_type": "markdown",
   "id": "ec0a2a8e-d207-472a-9a6b-e204fa2e579f",
   "metadata": {},
   "source": [
    "## 141 ~ 150"
   ]
  },
  {
   "cell_type": "code",
   "execution_count": 5,
   "id": "9d520401-d5c8-4486-bf6a-89327c38044b",
   "metadata": {},
   "outputs": [
    {
     "name": "stdout",
     "output_type": "stream",
     "text": [
      "110\n",
      "210\n",
      "310\n"
     ]
    }
   ],
   "source": [
    "#141\n",
    "리스트 = [100, 200, 300]\n",
    "for i in 리스트:\n",
    "    print(int(i)+10)"
   ]
  },
  {
   "cell_type": "code",
   "execution_count": 8,
   "id": "98b6e56c-b4b4-4221-a446-8c80636e29cf",
   "metadata": {},
   "outputs": [
    {
     "name": "stdout",
     "output_type": "stream",
     "text": [
      "오늘의 메뉴: 김밥\n",
      "오늘의 메뉴: 라면\n",
      "오늘의 메뉴: 튀김\n"
     ]
    }
   ],
   "source": [
    "#142\n",
    "리스트 = [\"김밥\", \"라면\", \"튀김\"]\n",
    "for i in 리스트:\n",
    "    print('오늘의 메뉴:', i)"
   ]
  },
  {
   "cell_type": "code",
   "execution_count": 24,
   "id": "ae33cd40-aa07-4acf-bc12-173096288d79",
   "metadata": {},
   "outputs": [
    {
     "name": "stdout",
     "output_type": "stream",
     "text": [
      "6\n",
      "4\n",
      "4\n",
      "-----------------------------------\n",
      "SK하이닉스\n",
      "삼성전자\n",
      "LG전자\n",
      "-----------------------------------\n",
      "['SK하이닉스', '삼성전자', 'LG전자']\n",
      "['SK하이닉스', '삼성전자', 'LG전자']\n",
      "['SK하이닉스', '삼성전자', 'LG전자']\n",
      "-----------------------------------\n",
      "LG전자\n",
      "['SK하이닉스', '삼성전자', 'LG전자']\n"
     ]
    }
   ],
   "source": [
    "#143\n",
    "리스트 = [\"SK하이닉스\", \"삼성전자\", \"LG전자\"]\n",
    "for i in 리스트:\n",
    "    print(len(i))\n",
    "\n",
    "print('-----------------------------------')\n",
    "\n",
    "for i in 리스트:\n",
    "    print(i)\n",
    "\n",
    "print('-----------------------------------')\n",
    "\n",
    "for i in 리스트:\n",
    "    print(리스트)\n",
    "\n",
    "print('-----------------------------------')\n",
    "\n",
    "print(i)\n",
    "print(리스트)"
   ]
  },
  {
   "cell_type": "code",
   "execution_count": 25,
   "id": "57109524-c0e1-44c2-9bdb-119d7fb07b00",
   "metadata": {},
   "outputs": [
    {
     "name": "stdout",
     "output_type": "stream",
     "text": [
      "dog 3\n",
      "cat 3\n",
      "parrot 6\n"
     ]
    }
   ],
   "source": [
    "#144\n",
    "리스트 = ['dog', 'cat', 'parrot']\n",
    "for i in 리스트:\n",
    "    print(i, len(i))"
   ]
  },
  {
   "cell_type": "code",
   "execution_count": 26,
   "id": "9f68042c-cbd1-48a9-a50d-1b944bfa37a2",
   "metadata": {},
   "outputs": [
    {
     "name": "stdout",
     "output_type": "stream",
     "text": [
      "d\n",
      "c\n",
      "p\n"
     ]
    }
   ],
   "source": [
    "#145\n",
    "리스트 = ['dog', 'cat', 'parrot']\n",
    "for i in 리스트:\n",
    "    print(i[0])"
   ]
  },
  {
   "cell_type": "code",
   "execution_count": 36,
   "id": "c8f34454-4b0a-40e1-b90c-520b19c11c8b",
   "metadata": {},
   "outputs": [
    {
     "name": "stdout",
     "output_type": "stream",
     "text": [
      "3 x 1\n",
      "3 x 2\n",
      "3 x 3\n"
     ]
    }
   ],
   "source": [
    "#146\n",
    "리스트 = [1, 2, 3]\n",
    "for i in 리스트:\n",
    "    print(f'3 x {i}')"
   ]
  },
  {
   "cell_type": "code",
   "execution_count": 35,
   "id": "6854fb9f-0531-4999-850c-0ecd393e8be7",
   "metadata": {},
   "outputs": [
    {
     "name": "stdout",
     "output_type": "stream",
     "text": [
      "3 x 1 = 3\n",
      "3 x 2 = 6\n",
      "3 x 3 = 9\n"
     ]
    }
   ],
   "source": [
    "#147\n",
    "리스트 = [1, 2, 3]\n",
    "for i in 리스트:\n",
    "    print(f'3 x {i} = {i*3}')"
   ]
  },
  {
   "cell_type": "code",
   "execution_count": 45,
   "id": "a4826319-646c-4b9f-b219-29bc18868604",
   "metadata": {},
   "outputs": [
    {
     "name": "stdout",
     "output_type": "stream",
     "text": [
      "나\n",
      "다\n",
      "라\n"
     ]
    }
   ],
   "source": [
    "#148\n",
    "리스트 = [\"가\", \"나\", \"다\", \"라\"]\n",
    "for i in 리스트:\n",
    "    if i == '가':\n",
    "        pass\n",
    "    else :\n",
    "        print(i)"
   ]
  },
  {
   "cell_type": "code",
   "execution_count": 60,
   "id": "8fc22f81-2550-4a2d-af6f-9343f1340102",
   "metadata": {},
   "outputs": [
    {
     "name": "stdout",
     "output_type": "stream",
     "text": [
      "가\n",
      "다\n",
      "====================\n",
      "가\n",
      "다\n"
     ]
    }
   ],
   "source": [
    "#149\n",
    "리스트 = [\"가\", \"나\", \"다\", \"라\"]\n",
    "for i in 리스트:\n",
    "    if i == '나':\n",
    "        pass\n",
    "    elif i == '라':\n",
    "        pass\n",
    "    else: \n",
    "        print(i)\n",
    "\n",
    "print('====================')\n",
    "\n",
    "리스트 = [\"가\", \"나\", \"다\", \"라\"]\n",
    "for 변수 in 리스트[: :2]:\n",
    "  print(변수)"
   ]
  },
  {
   "cell_type": "code",
   "execution_count": 78,
   "id": "87ae23db-af2c-4e5d-90be-b1569b941c84",
   "metadata": {},
   "outputs": [
    {
     "name": "stdout",
     "output_type": "stream",
     "text": [
      "라\n",
      "다\n",
      "나\n",
      "가\n"
     ]
    }
   ],
   "source": [
    "#150\n",
    "리스트 = [\"가\", \"나\", \"다\", \"라\"]\n",
    "리스트.reverse()\n",
    "\n",
    "for i in 리스트:\n",
    "    print(i)"
   ]
  },
  {
   "cell_type": "markdown",
   "id": "3ab6d264-936f-4bfa-b5fc-f3bb41e771f7",
   "metadata": {},
   "source": [
    "## 151 ~ 160"
   ]
  },
  {
   "cell_type": "code",
   "execution_count": 82,
   "id": "ad35e14b-65a1-4791-a4d5-ed300dcda297",
   "metadata": {},
   "outputs": [
    {
     "name": "stdout",
     "output_type": "stream",
     "text": [
      "-20\n",
      "-3\n"
     ]
    }
   ],
   "source": [
    "#151\n",
    "리스트 = [3, -20, -3, 44]\n",
    "for i in 리스트:\n",
    "    if i < 0: \n",
    "        print(i)"
   ]
  },
  {
   "cell_type": "code",
   "execution_count": 84,
   "id": "843b0da9-1c55-4185-9d3e-724496eed320",
   "metadata": {},
   "outputs": [
    {
     "name": "stdout",
     "output_type": "stream",
     "text": [
      "3\n"
     ]
    }
   ],
   "source": [
    "#152\n",
    "리스트 = [3, 100, 23, 44]\n",
    "for i in 리스트:\n",
    "    if i%3==0:\n",
    "        print(i)"
   ]
  },
  {
   "cell_type": "code",
   "execution_count": 91,
   "id": "bf2de4eb-8282-40b4-9b62-85e20c960e50",
   "metadata": {},
   "outputs": [
    {
     "name": "stdout",
     "output_type": "stream",
     "text": [
      "12\n",
      "18\n"
     ]
    }
   ],
   "source": [
    "#153\n",
    "리스트 = [13, 21, 12, 14, 30, 18]\n",
    "for i in 리스트:\n",
    "    if i <20 and i%3==0:\n",
    "        print(i)"
   ]
  },
  {
   "cell_type": "code",
   "execution_count": 92,
   "id": "4d67f937-18bb-48b6-bbbc-320529f528a5",
   "metadata": {},
   "outputs": [
    {
     "name": "stdout",
     "output_type": "stream",
     "text": [
      "study\n",
      "python\n",
      "language\n"
     ]
    }
   ],
   "source": [
    "#154\n",
    "리스트 = [\"I\", \"study\", \"python\", \"language\", \"!\"]\n",
    "for i in 리스트:\n",
    "    if len(i) >=3:\n",
    "        print(i)"
   ]
  },
  {
   "cell_type": "code",
   "execution_count": 97,
   "id": "05199f92-de4a-46c9-9da2-e358b817e081",
   "metadata": {},
   "outputs": [
    {
     "name": "stdout",
     "output_type": "stream",
     "text": [
      "A\n",
      "D\n"
     ]
    }
   ],
   "source": [
    "#155\n",
    "리스트 = [\"A\", \"b\", \"c\", \"D\"]\n",
    "for i in 리스트:\n",
    "    if i.isupper() == True:\n",
    "        print(i)"
   ]
  },
  {
   "cell_type": "code",
   "execution_count": 100,
   "id": "8826cb08-d704-45ba-9273-6ebbb76143c7",
   "metadata": {},
   "outputs": [
    {
     "name": "stdout",
     "output_type": "stream",
     "text": [
      "b\n",
      "c\n"
     ]
    }
   ],
   "source": [
    "#156\n",
    "리스트 = [\"A\", \"b\", \"c\", \"D\"]\n",
    "for i in 리스트:\n",
    "    if i.islower() == True:\n",
    "        print(i)"
   ]
  },
  {
   "cell_type": "code",
   "execution_count": 102,
   "id": "0983318c-0b97-4474-8eba-0773d10b6325",
   "metadata": {},
   "outputs": [
    {
     "name": "stdout",
     "output_type": "stream",
     "text": [
      "Dog\n",
      "Cat\n",
      "Parrot\n"
     ]
    }
   ],
   "source": [
    "#157\n",
    "리스트 = ['dog', 'cat', 'parrot']\n",
    "for i in 리스트:\n",
    "    print(i[0].upper() + i[1:])"
   ]
  },
  {
   "cell_type": "code",
   "execution_count": 150,
   "id": "b693a4d1-5021-4347-9439-48e6a9b484d1",
   "metadata": {},
   "outputs": [
    {
     "name": "stdout",
     "output_type": "stream",
     "text": [
      "hello\n",
      "ex01\n",
      "intro\n",
      "\n",
      "\n",
      "=========== \n",
      "\n"
     ]
    },
    {
     "data": {
      "text/plain": [
       "str"
      ]
     },
     "execution_count": 150,
     "metadata": {},
     "output_type": "execute_result"
    }
   ],
   "source": [
    "#158\n",
    "리스트 = ['hello.py', 'ex01.py', 'intro.hwp']\n",
    "for i in 리스트:\n",
    "    list = i.split('.')\n",
    "    print(list[0])\n",
    "print('\\n')\n",
    "print('===========', '\\n')\n",
    "type(i)"
   ]
  },
  {
   "cell_type": "code",
   "execution_count": 161,
   "id": "6cd14d4e-a778-4878-ab86-ea398e594d37",
   "metadata": {},
   "outputs": [
    {
     "name": "stdout",
     "output_type": "stream",
     "text": [
      "intra.h\n",
      "['intra', 'h']\n",
      "define.h\n",
      "['define', 'h']\n"
     ]
    }
   ],
   "source": [
    "#159\n",
    "리스트 = ['intra.h', 'intra.c', 'define.h', 'run.py']\n",
    "for i in 리스트:\n",
    "    list = i.split('.')\n",
    "    if list[1] == 'h':\n",
    "        print(i)\n",
    "        print(list)"
   ]
  },
  {
   "cell_type": "code",
   "execution_count": 166,
   "id": "e90a56c5-2eb2-4a7c-b1d4-bf79dbc3fa5e",
   "metadata": {},
   "outputs": [
    {
     "name": "stdout",
     "output_type": "stream",
     "text": [
      "intra.h\n",
      "intra.c\n",
      "define.h\n"
     ]
    }
   ],
   "source": [
    "#160\n",
    "리스트 = ['intra.h', 'intra.c', 'define.h', 'run.py']\n",
    "for i in 리스트:\n",
    "    list = i.split('.')\n",
    "    if list[1] in ('h', 'c'):\n",
    "        print(i)"
   ]
  },
  {
   "cell_type": "markdown",
   "id": "82f3b3c7-7ee9-4237-ad74-f2003d79a52e",
   "metadata": {},
   "source": [
    "## 161 ~ 170"
   ]
  },
  {
   "cell_type": "code",
   "execution_count": 168,
   "id": "b44af5f8-adef-4199-ba25-099648888822",
   "metadata": {},
   "outputs": [
    {
     "name": "stdout",
     "output_type": "stream",
     "text": [
      "0\n",
      "1\n",
      "2\n",
      "3\n",
      "4\n",
      "5\n",
      "6\n",
      "7\n",
      "8\n",
      "9\n",
      "10\n",
      "11\n",
      "12\n",
      "13\n",
      "14\n",
      "15\n",
      "16\n",
      "17\n",
      "18\n",
      "19\n",
      "20\n",
      "21\n",
      "22\n",
      "23\n",
      "24\n",
      "25\n",
      "26\n",
      "27\n",
      "28\n",
      "29\n",
      "30\n",
      "31\n",
      "32\n",
      "33\n",
      "34\n",
      "35\n",
      "36\n",
      "37\n",
      "38\n",
      "39\n",
      "40\n",
      "41\n",
      "42\n",
      "43\n",
      "44\n",
      "45\n",
      "46\n",
      "47\n",
      "48\n",
      "49\n",
      "50\n",
      "51\n",
      "52\n",
      "53\n",
      "54\n",
      "55\n",
      "56\n",
      "57\n",
      "58\n",
      "59\n",
      "60\n",
      "61\n",
      "62\n",
      "63\n",
      "64\n",
      "65\n",
      "66\n",
      "67\n",
      "68\n",
      "69\n",
      "70\n",
      "71\n",
      "72\n",
      "73\n",
      "74\n",
      "75\n",
      "76\n",
      "77\n",
      "78\n",
      "79\n",
      "80\n",
      "81\n",
      "82\n",
      "83\n",
      "84\n",
      "85\n",
      "86\n",
      "87\n",
      "88\n",
      "89\n",
      "90\n",
      "91\n",
      "92\n",
      "93\n",
      "94\n",
      "95\n",
      "96\n",
      "97\n",
      "98\n",
      "99\n"
     ]
    }
   ],
   "source": [
    "#161\n",
    "for i in range(0,100):\n",
    "    print(i)"
   ]
  },
  {
   "cell_type": "code",
   "execution_count": 172,
   "id": "694d40e3-49d4-4f2f-9c9a-6593f4253302",
   "metadata": {},
   "outputs": [
    {
     "name": "stdout",
     "output_type": "stream",
     "text": [
      "2002\n",
      "2006\n",
      "2010\n",
      "2014\n",
      "2018\n",
      "2022\n",
      "2026\n",
      "2030\n",
      "2034\n",
      "2038\n",
      "2042\n",
      "2046\n",
      "2050\n"
     ]
    }
   ],
   "source": [
    "#162\n",
    "for i in range(2002,2051,4):\n",
    "    print(i)"
   ]
  },
  {
   "cell_type": "code",
   "execution_count": 175,
   "id": "fb21358f-af19-4d47-9f91-a87c2dcc9e2b",
   "metadata": {},
   "outputs": [
    {
     "name": "stdout",
     "output_type": "stream",
     "text": [
      "3\n",
      "6\n",
      "9\n",
      "12\n",
      "15\n",
      "18\n",
      "21\n",
      "24\n",
      "27\n",
      "30\n"
     ]
    }
   ],
   "source": [
    "#163\n",
    "for i in range(1,31,3):\n",
    "    print(i+2)"
   ]
  },
  {
   "cell_type": "code",
   "execution_count": 187,
   "id": "286e6631-7b6c-4560-b7af-8b5f11ec1c4f",
   "metadata": {},
   "outputs": [
    {
     "name": "stdout",
     "output_type": "stream",
     "text": [
      "99\n",
      "98\n",
      "97\n",
      "96\n",
      "95\n",
      "94\n",
      "93\n",
      "92\n",
      "91\n",
      "90\n",
      "89\n",
      "88\n",
      "87\n",
      "86\n",
      "85\n",
      "84\n",
      "83\n",
      "82\n",
      "81\n",
      "80\n",
      "79\n",
      "78\n",
      "77\n",
      "76\n",
      "75\n",
      "74\n",
      "73\n",
      "72\n",
      "71\n",
      "70\n",
      "69\n",
      "68\n",
      "67\n",
      "66\n",
      "65\n",
      "64\n",
      "63\n",
      "62\n",
      "61\n",
      "60\n",
      "59\n",
      "58\n",
      "57\n",
      "56\n",
      "55\n",
      "54\n",
      "53\n",
      "52\n",
      "51\n",
      "50\n",
      "49\n",
      "48\n",
      "47\n",
      "46\n",
      "45\n",
      "44\n",
      "43\n",
      "42\n",
      "41\n",
      "40\n",
      "39\n",
      "38\n",
      "37\n",
      "36\n",
      "35\n",
      "34\n",
      "33\n",
      "32\n",
      "31\n",
      "30\n",
      "29\n",
      "28\n",
      "27\n",
      "26\n",
      "25\n",
      "24\n",
      "23\n",
      "22\n",
      "21\n",
      "20\n",
      "19\n",
      "18\n",
      "17\n",
      "16\n",
      "15\n",
      "14\n",
      "13\n",
      "12\n",
      "11\n",
      "10\n",
      "9\n",
      "8\n",
      "7\n",
      "6\n",
      "5\n",
      "4\n",
      "3\n",
      "2\n",
      "1\n",
      "0\n"
     ]
    }
   ],
   "source": [
    "#164\n",
    "for i in range(0,100):\n",
    "    print(99-i)"
   ]
  },
  {
   "cell_type": "code",
   "execution_count": 188,
   "id": "05c7ce14-a807-4265-9a70-f46cfc7968ad",
   "metadata": {},
   "outputs": [
    {
     "name": "stdout",
     "output_type": "stream",
     "text": [
      "0.0\n",
      "0.1\n",
      "0.2\n",
      "0.3\n",
      "0.4\n",
      "0.5\n",
      "0.6\n",
      "0.7\n",
      "0.8\n",
      "0.9\n"
     ]
    }
   ],
   "source": [
    "#165\n",
    "for i in range(0,10):\n",
    "    print(i/10)"
   ]
  },
  {
   "cell_type": "code",
   "execution_count": 189,
   "id": "7421886e-4a10-4426-987d-234921377af4",
   "metadata": {},
   "outputs": [
    {
     "name": "stdout",
     "output_type": "stream",
     "text": [
      "3x1 = 3\n",
      "3x2 = 6\n",
      "3x3 = 9\n",
      "3x4 = 12\n",
      "3x5 = 15\n",
      "3x6 = 18\n",
      "3x7 = 21\n",
      "3x8 = 24\n",
      "3x9 = 27\n"
     ]
    }
   ],
   "source": [
    "#166\n",
    "for i in range(1,10):\n",
    "    print(f'3x{i} = {3*i}')"
   ]
  },
  {
   "cell_type": "code",
   "execution_count": 190,
   "id": "828ef66f-b452-4f91-a9a5-1b3c79ac9ded",
   "metadata": {},
   "outputs": [
    {
     "name": "stdout",
     "output_type": "stream",
     "text": [
      "3x1 = 3\n",
      "3x3 = 9\n",
      "3x5 = 15\n",
      "3x7 = 21\n",
      "3x9 = 27\n"
     ]
    }
   ],
   "source": [
    "#167\n",
    "for i in range(1,10,2):\n",
    "    print(f'3x{i} = {3*i}')"
   ]
  },
  {
   "cell_type": "code",
   "execution_count": 209,
   "id": "e7967979-2ff3-4597-8bf2-f80cc879be75",
   "metadata": {},
   "outputs": [
    {
     "name": "stdout",
     "output_type": "stream",
     "text": [
      "1\n",
      "3\n",
      "6\n",
      "10\n",
      "15\n",
      "21\n",
      "28\n",
      "36\n",
      "45\n",
      "55\n"
     ]
    }
   ],
   "source": [
    "#168\n",
    "result = 0\n",
    "for i in range(1,11):\n",
    "    result += i\n",
    "    print(result)"
   ]
  },
  {
   "cell_type": "code",
   "execution_count": 210,
   "id": "885cb9bc-ff4c-44b3-9d03-97c3b80f5001",
   "metadata": {},
   "outputs": [
    {
     "name": "stdout",
     "output_type": "stream",
     "text": [
      "1\n",
      "4\n",
      "9\n",
      "16\n",
      "25\n"
     ]
    }
   ],
   "source": [
    "#169\n",
    "result = 0\n",
    "for i in range(1,11,2):\n",
    "    result += i\n",
    "    print(result)"
   ]
  },
  {
   "cell_type": "code",
   "execution_count": 212,
   "id": "ca8d3de8-1fda-43c2-9a4c-ee07c426f444",
   "metadata": {},
   "outputs": [
    {
     "name": "stdout",
     "output_type": "stream",
     "text": [
      "1\n",
      "2\n",
      "6\n",
      "24\n",
      "120\n",
      "720\n",
      "5040\n",
      "40320\n",
      "362880\n",
      "3628800\n"
     ]
    }
   ],
   "source": [
    "#170\n",
    "result = 1\n",
    "for i in range(1,11):\n",
    "    result = result * i # result *= i 하면 같은 뜻\n",
    "    print(result)"
   ]
  },
  {
   "cell_type": "markdown",
   "id": "9196a3f1-a55b-490a-be00-26d2dbf13873",
   "metadata": {},
   "source": [
    "## 171 ~ 180"
   ]
  },
  {
   "cell_type": "code",
   "execution_count": 216,
   "id": "cef2f0fe-2246-4290-adcb-e512fb6204d7",
   "metadata": {},
   "outputs": [
    {
     "name": "stdout",
     "output_type": "stream",
     "text": [
      "32100\n",
      "32150\n",
      "32000\n",
      "32500\n"
     ]
    }
   ],
   "source": [
    "#171\n",
    "price_list = [32100, 32150, 32000, 32500]\n",
    "for i in range(4):\n",
    "    print(price_list[i])"
   ]
  },
  {
   "cell_type": "code",
   "execution_count": 217,
   "id": "9f1608bb-1bfc-4eac-a509-b7545a915cdd",
   "metadata": {},
   "outputs": [
    {
     "name": "stdout",
     "output_type": "stream",
     "text": [
      "0 32100\n",
      "1 32150\n",
      "2 32000\n",
      "3 32500\n"
     ]
    }
   ],
   "source": [
    "#172\n",
    "price_list = [32100, 32150, 32000, 32500]\n",
    "for i in range(4):\n",
    "    print(i, price_list[i])"
   ]
  },
  {
   "cell_type": "code",
   "execution_count": 225,
   "id": "828a3444-6c96-43a9-94c5-c3585b487332",
   "metadata": {},
   "outputs": [
    {
     "name": "stdout",
     "output_type": "stream",
     "text": [
      "3 32100\n",
      "2 32150\n",
      "1 32000\n",
      "0 32500\n"
     ]
    }
   ],
   "source": [
    "#173\n",
    "price_list = [32100, 32150, 32000, 32500]\n",
    "for i in range(4):\n",
    "    print(3-i, price_list[i])"
   ]
  },
  {
   "cell_type": "code",
   "execution_count": 226,
   "id": "e9e21f0c-2a16-4be4-9837-7f210dab5d71",
   "metadata": {},
   "outputs": [
    {
     "name": "stdout",
     "output_type": "stream",
     "text": [
      "110 32150\n",
      "120 32000\n",
      "130 32500\n"
     ]
    }
   ],
   "source": [
    "#174\n",
    "price_list = [32100, 32150, 32000, 32500]\n",
    "for i in range(1,4):\n",
    "    print(f'1{i}0', price_list[i])"
   ]
  },
  {
   "cell_type": "code",
   "execution_count": 231,
   "id": "eb227414-c3ad-439c-8fbc-487a801ea105",
   "metadata": {},
   "outputs": [
    {
     "name": "stdout",
     "output_type": "stream",
     "text": [
      "가 나\n",
      "나 다\n",
      "다 라\n"
     ]
    }
   ],
   "source": [
    "#175\n",
    "my_list = [\"가\", \"나\", \"다\", \"라\"]\n",
    "for i in range(0,3):\n",
    "    print(my_list[i], my_list[i+1])"
   ]
  },
  {
   "cell_type": "code",
   "execution_count": 232,
   "id": "c0198697-6570-476c-80d9-98bc1942b1b8",
   "metadata": {},
   "outputs": [
    {
     "name": "stdout",
     "output_type": "stream",
     "text": [
      "가 나 다\n",
      "나 다 라\n",
      "다 라 마\n"
     ]
    }
   ],
   "source": [
    "#176\n",
    "my_list = [\"가\", \"나\", \"다\", \"라\", \"마\"]\n",
    "for i in range(len(my_list)-2):\n",
    "    print(my_list[i], my_list[i+1], my_list[i+2])"
   ]
  },
  {
   "cell_type": "code",
   "execution_count": 235,
   "id": "480a2896-e674-4cee-b202-758ece3fd92b",
   "metadata": {},
   "outputs": [
    {
     "name": "stdout",
     "output_type": "stream",
     "text": [
      "라 다\n",
      "다 나\n",
      "나 가\n"
     ]
    }
   ],
   "source": [
    "#177\n",
    "my_list = [\"가\", \"나\", \"다\", \"라\"]\n",
    "for i in range(3):\n",
    "    print(my_list[3-i],my_list[2-i] )"
   ]
  },
  {
   "cell_type": "code",
   "execution_count": 237,
   "id": "69e7b994-6319-4f0d-9593-72b507de5a93",
   "metadata": {},
   "outputs": [
    {
     "name": "stdout",
     "output_type": "stream",
     "text": [
      "100\n",
      "200\n",
      "400\n"
     ]
    }
   ],
   "source": [
    "#178\n",
    "my_list = [100, 200, 400, 800]\n",
    "for i in range(3):\n",
    "    print(my_list[i+1]-my_list[i])"
   ]
  },
  {
   "cell_type": "code",
   "execution_count": 248,
   "id": "89f5ab35-c9c2-4afd-8501-704d91a8053c",
   "metadata": {},
   "outputs": [
    {
     "name": "stdout",
     "output_type": "stream",
     "text": [
      "233.33333333333334\n",
      "466.6666666666667\n",
      "733.3333333333334\n",
      "1033.3333333333333\n"
     ]
    }
   ],
   "source": [
    "#179\n",
    "my_list = [100, 200, 400, 800, 1000, 1300]\n",
    "for i in range(4):\n",
    "    print((my_list[i] + my_list[i+1] + my_list[i+2])/3)"
   ]
  },
  {
   "cell_type": "code",
   "execution_count": 266,
   "id": "d9c89e6b-1693-4ce9-9d0b-0bbd9ef24079",
   "metadata": {},
   "outputs": [
    {
     "name": "stdout",
     "output_type": "stream",
     "text": [
      "[50, 100, 30, 80, 0]\n"
     ]
    }
   ],
   "source": [
    "#180\n",
    "volatility = [] # 리스트 지정\n",
    "low_prices  = [100, 200, 400, 800, 1000]\n",
    "high_prices = [150, 300, 430, 880, 1000]\n",
    "for i in range(5):\n",
    "    volatility.append(high_prices[i] - low_prices[i]) #append 함수 통해서 리스트 내 값 추가(01_자료형과 변수 시트에 자세한거 있음)\n",
    "\n",
    "print(volatility)"
   ]
  },
  {
   "cell_type": "markdown",
   "id": "1c14c4f0-af8d-4b59-ba3c-fc361951daa2",
   "metadata": {},
   "source": [
    "## 181 ~ 190"
   ]
  },
  {
   "cell_type": "code",
   "execution_count": null,
   "id": "58fee115-e3b7-4f85-8d01-8c4d71df11c7",
   "metadata": {},
   "outputs": [],
   "source": [
    "#181\n",
    "apart = [['101호', '102호',], [['201호', '202호'], ['301호','302호'] ]"
   ]
  },
  {
   "cell_type": "code",
   "execution_count": null,
   "id": "6854d4bb-061b-4b8e-a73a-6ebb74cbf841",
   "metadata": {},
   "outputs": [],
   "source": [
    "#182\n",
    "stock = [['시가','100','200','300'],['종가','80','210','330']]"
   ]
  },
  {
   "cell_type": "code",
   "execution_count": 267,
   "id": "7977b926-2d08-4b09-a56e-9cc5ee0feba8",
   "metadata": {},
   "outputs": [],
   "source": [
    "#183\n",
    "stock = {'시가': ['100','200','300'], '종가': ['80','210','330'] }"
   ]
  },
  {
   "cell_type": "code",
   "execution_count": null,
   "id": "9f450a5d-1b59-4209-8090-f7d4a82fbfee",
   "metadata": {},
   "outputs": [],
   "source": [
    "#184\n",
    "stcok = {'10/10':['80','110','70','90'], '10/11': ['210','230','190','200'] }"
   ]
  },
  {
   "cell_type": "code",
   "execution_count": 279,
   "id": "b963661b-9e43-48ff-bc99-0141e3079d59",
   "metadata": {},
   "outputs": [
    {
     "name": "stdout",
     "output_type": "stream",
     "text": [
      "101 호\n",
      "102 호\n",
      "201 호\n",
      "202 호\n",
      "301 호\n",
      "302 호\n"
     ]
    }
   ],
   "source": [
    "#185\n",
    "apart = [ [101, 102], [201, 202], [301, 302] ]\n",
    "for i in apart:\n",
    "    print(i[0],'호')\n",
    "    print(i[1],'호')"
   ]
  },
  {
   "cell_type": "code",
   "execution_count": 308,
   "id": "8d496db9-88a6-407d-a745-f9ddd2c1a995",
   "metadata": {},
   "outputs": [
    {
     "name": "stdout",
     "output_type": "stream",
     "text": [
      "301 호\n",
      "302 호\n",
      "201 호\n",
      "202 호\n",
      "101 호\n",
      "102 호\n"
     ]
    }
   ],
   "source": [
    "#186\n",
    "apart = [ [101, 102], [201, 202], [301, 302] ]\n",
    "for i in apart[::-1]: # [시작:끝:간격] -1은 역순이라고 함\n",
    "    print(i[0],'호')\n",
    "    print(i[1],'호')"
   ]
  },
  {
   "cell_type": "code",
   "execution_count": 309,
   "id": "407e4238-3728-40da-842d-7f1d90005e3f",
   "metadata": {},
   "outputs": [
    {
     "name": "stdout",
     "output_type": "stream",
     "text": [
      "302 호\n",
      "301 호\n",
      "202 호\n",
      "201 호\n",
      "102 호\n",
      "101 호\n"
     ]
    }
   ],
   "source": [
    "#187\n",
    "apart = [ [101, 102], [201, 202], [301, 302] ]\n",
    "for i in apart[::-1]: # [시작:끝:간격] -1은 역순이라고 함\n",
    "    print(i[1],'호')\n",
    "    print(i[0],'호')"
   ]
  },
  {
   "cell_type": "code",
   "execution_count": 311,
   "id": "e105b43a-b300-4908-ad56-51491edb5b34",
   "metadata": {},
   "outputs": [
    {
     "name": "stdout",
     "output_type": "stream",
     "text": [
      "101 호\n",
      "-----\n",
      "102 호\n",
      "-----\n",
      "201 호\n",
      "-----\n",
      "202 호\n",
      "-----\n",
      "301 호\n",
      "-----\n",
      "302 호\n",
      "-----\n"
     ]
    }
   ],
   "source": [
    "#188\n",
    "apart = [ [101, 102], [201, 202], [301, 302] ]\n",
    "for i in apart:\n",
    "    print(i[0],'호')\n",
    "    print('-----')\n",
    "    print(i[1],'호')\n",
    "    print('-----')"
   ]
  },
  {
   "cell_type": "code",
   "execution_count": 312,
   "id": "85d7134d-8753-4706-a8d7-17c805b29641",
   "metadata": {},
   "outputs": [
    {
     "name": "stdout",
     "output_type": "stream",
     "text": [
      "101 호\n",
      "102 호\n",
      "-----\n",
      "201 호\n",
      "202 호\n",
      "-----\n",
      "301 호\n",
      "302 호\n",
      "-----\n"
     ]
    }
   ],
   "source": [
    "#189\n",
    "apart = [ [101, 102], [201, 202], [301, 302] ]\n",
    "for i in apart:\n",
    "    print(i[0],'호')\n",
    "    print(i[1],'호')\n",
    "    print('-----')"
   ]
  },
  {
   "cell_type": "code",
   "execution_count": 314,
   "id": "185abb1b-0c0d-4f90-9cae-ef77defae43d",
   "metadata": {},
   "outputs": [
    {
     "name": "stdout",
     "output_type": "stream",
     "text": [
      "101 호\n",
      "102 호\n",
      "201 호\n",
      "202 호\n",
      "301 호\n",
      "302 호\n",
      "-----\n"
     ]
    }
   ],
   "source": [
    "#190\n",
    "apart = [ [101, 102], [201, 202], [301, 302] ]\n",
    "for i in apart:\n",
    "    print(i[0],'호')\n",
    "    print(i[1],'호')\n",
    "print('-----')"
   ]
  },
  {
   "cell_type": "markdown",
   "id": "78a0ff56-4307-44e2-ad08-dff4b15488d5",
   "metadata": {},
   "source": [
    "## 191 ~ 200"
   ]
  },
  {
   "cell_type": "code",
   "execution_count": null,
   "id": "1cd0ce34-cb4d-4a45-b127-5cfa1dfa7183",
   "metadata": {},
   "outputs": [],
   "source": [
    "#191"
   ]
  },
  {
   "cell_type": "code",
   "execution_count": null,
   "id": "2b339a8e-4a2b-4132-88af-fbd6387f8234",
   "metadata": {},
   "outputs": [],
   "source": [
    "#192"
   ]
  },
  {
   "cell_type": "code",
   "execution_count": null,
   "id": "d1ef1255-da39-4341-a623-703b632f1594",
   "metadata": {},
   "outputs": [],
   "source": [
    "#193"
   ]
  },
  {
   "cell_type": "code",
   "execution_count": null,
   "id": "7bc8c252-4ba1-46f8-ae8c-0deea0c049ef",
   "metadata": {},
   "outputs": [],
   "source": [
    "#194"
   ]
  },
  {
   "cell_type": "code",
   "execution_count": null,
   "id": "c3ca48b2-4653-4ad5-9e0f-ceb0340247c1",
   "metadata": {},
   "outputs": [],
   "source": [
    "#195"
   ]
  },
  {
   "cell_type": "code",
   "execution_count": null,
   "id": "4ed869d1-da66-4692-bc6b-8632bc4c21de",
   "metadata": {},
   "outputs": [],
   "source": [
    "#196"
   ]
  },
  {
   "cell_type": "code",
   "execution_count": null,
   "id": "2a4d1259-cc23-4f60-8c43-d19b7933f098",
   "metadata": {},
   "outputs": [],
   "source": [
    "#197"
   ]
  },
  {
   "cell_type": "code",
   "execution_count": null,
   "id": "b276d284-71b3-488c-a6cd-4775c2086b28",
   "metadata": {},
   "outputs": [],
   "source": [
    "#198"
   ]
  },
  {
   "cell_type": "code",
   "execution_count": null,
   "id": "23ccde32-3b80-4dc9-a3f6-2348a4645fb0",
   "metadata": {},
   "outputs": [],
   "source": [
    "#199"
   ]
  },
  {
   "cell_type": "code",
   "execution_count": null,
   "id": "3f7857ec-362e-4f51-ac83-0e4397d9a96f",
   "metadata": {},
   "outputs": [],
   "source": [
    "#200"
   ]
  }
 ],
 "metadata": {
  "kernelspec": {
   "display_name": "Python 3 (ipykernel)",
   "language": "python",
   "name": "python3"
  },
  "language_info": {
   "codemirror_mode": {
    "name": "ipython",
    "version": 3
   },
   "file_extension": ".py",
   "mimetype": "text/x-python",
   "name": "python",
   "nbconvert_exporter": "python",
   "pygments_lexer": "ipython3",
   "version": "3.11.7"
  }
 },
 "nbformat": 4,
 "nbformat_minor": 5
}
