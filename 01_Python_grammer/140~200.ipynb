{
 "cells": [
  {
   "cell_type": "markdown",
   "id": "960c5c9d-59af-4596-ad1e-c14f4b196420",
   "metadata": {},
   "source": [
    "# 08. 파이썬 반복문"
   ]
  },
  {
   "cell_type": "markdown",
   "id": "237435ad-24ec-42b9-a47f-c64bd663334b",
   "metadata": {},
   "source": [
    "## 131 ~ 140"
   ]
  },
  {
   "cell_type": "code",
   "execution_count": 5,
   "id": "86f66b46-0c49-4ea3-ba94-320e14e932cf",
   "metadata": {},
   "outputs": [
    {
     "name": "stdout",
     "output_type": "stream",
     "text": [
      "사과\n",
      "귤\n",
      "수박\n"
     ]
    }
   ],
   "source": [
    "#131\n",
    "과일 = [\"사과\", \"귤\", \"수박\"]\n",
    "for 변수 in 과일:\n",
    "    print(변수)\n",
    "# 사과\\\n",
    "#    귤\\\n",
    "#    수박"
   ]
  },
  {
   "cell_type": "code",
   "execution_count": 7,
   "id": "d92a240a-eaff-4f0a-a892-743d345346df",
   "metadata": {},
   "outputs": [
    {
     "name": "stdout",
     "output_type": "stream",
     "text": [
      "#####\n",
      "#####\n",
      "#####\n"
     ]
    }
   ],
   "source": [
    "#132\n",
    "과일 = [\"사과\", \"귤\", \"수박\"]\n",
    "for 변수 in 과일:\n",
    "  print(\"#####\")\n",
    "# ##### 3줄"
   ]
  },
  {
   "cell_type": "code",
   "execution_count": 14,
   "id": "2555b078-d91a-498a-82b4-47694958d82e",
   "metadata": {},
   "outputs": [
    {
     "name": "stdout",
     "output_type": "stream",
     "text": [
      "A\n",
      "B\n",
      "C\n",
      "===\n",
      "A\n",
      "B\n",
      "C\n"
     ]
    }
   ],
   "source": [
    "#133\n",
    "for 변수 in [\"A\", \"B\", \"C\"]:\n",
    "  print(변수)\n",
    "\n",
    "print('===')\n",
    "\n",
    "print('A')\n",
    "print('B')\n",
    "print('C')"
   ]
  },
  {
   "cell_type": "code",
   "execution_count": 15,
   "id": "e9a1d3ea-d373-4da6-a789-e38fd7467008",
   "metadata": {},
   "outputs": [
    {
     "name": "stdout",
     "output_type": "stream",
     "text": [
      "출력: A\n",
      "출력: B\n",
      "출력: C\n",
      "===\n",
      "출력: A\n",
      "출력: B\n",
      "출력: C\n"
     ]
    }
   ],
   "source": [
    "#134\n",
    "for 변수 in [\"A\", \"B\", \"C\"]:\n",
    "  print(\"출력:\", 변수)\n",
    "\n",
    "print('===')\n",
    "\n",
    "print('출력: A')\n",
    "print('출력: B')\n",
    "print('출력: C')"
   ]
  },
  {
   "cell_type": "code",
   "execution_count": 16,
   "id": "b94f7903-2a02-40c9-8df2-80f16d39cdc1",
   "metadata": {},
   "outputs": [
    {
     "name": "stdout",
     "output_type": "stream",
     "text": [
      "변환: a\n",
      "변환: b\n",
      "변환: c\n",
      "===\n",
      "변환: a\n",
      "변환: b\n",
      "변환: c\n"
     ]
    }
   ],
   "source": [
    "#135\n",
    "for 변수 in [\"A\", \"B\", \"C\"]:\n",
    "  b = 변수.lower()\n",
    "  print(\"변환:\", b)\n",
    "\n",
    "print('===')\n",
    "\n",
    "print('변환: a')\n",
    "print('변환: b')\n",
    "print('변환: c')"
   ]
  },
  {
   "cell_type": "code",
   "execution_count": 19,
   "id": "015c0a96-a6af-40b3-b16b-6701317c1446",
   "metadata": {},
   "outputs": [
    {
     "name": "stdout",
     "output_type": "stream",
     "text": [
      "10\n",
      "20\n",
      "30\n",
      "===\n",
      "10\n",
      "20\n",
      "30\n"
     ]
    }
   ],
   "source": [
    "#136\n",
    "변수 = 10\n",
    "print(변수)\n",
    "변수 = 20\n",
    "print(변수)\n",
    "변수 = 30\n",
    "print(변수)\n",
    "\n",
    "print('===')\n",
    "\n",
    "for 변수 in ['10','20','30']:\n",
    "    print(변수)"
   ]
  },
  {
   "cell_type": "code",
   "execution_count": 21,
   "id": "7d651285-f248-48f7-89cc-b5ad1b7e4c70",
   "metadata": {},
   "outputs": [
    {
     "name": "stdout",
     "output_type": "stream",
     "text": [
      "10\n",
      "20\n",
      "30\n",
      "===\n",
      "10\n",
      "20\n",
      "30\n"
     ]
    }
   ],
   "source": [
    "#137\n",
    "print(10)\n",
    "print(20)\n",
    "print(30)\n",
    "\n",
    "print('===')\n",
    "\n",
    "for 변수 in ['10','20','30']:\n",
    "    print(변수)"
   ]
  },
  {
   "cell_type": "code",
   "execution_count": 25,
   "id": "d980509b-e7ff-4a61-8ec0-2f0c089cc70b",
   "metadata": {},
   "outputs": [
    {
     "name": "stdout",
     "output_type": "stream",
     "text": [
      "10\n",
      "-------\n",
      "20\n",
      "-------\n",
      "30\n",
      "-------\n",
      "===\n",
      "10\n",
      "------\n",
      "20\n",
      "------\n",
      "30\n",
      "------\n"
     ]
    }
   ],
   "source": [
    "#138\n",
    "print(10)\n",
    "print(\"-------\")\n",
    "print(20)\n",
    "print(\"-------\")\n",
    "print(30)\n",
    "print(\"-------\")\n",
    "\n",
    "print('===')\n",
    "\n",
    "변수 = [10,20,30]\n",
    "for i in 변수:\n",
    "    print(i)\n",
    "    print('------')"
   ]
  },
  {
   "cell_type": "code",
   "execution_count": 28,
   "id": "36788ddd-41e9-477d-8060-9f54426e6127",
   "metadata": {},
   "outputs": [
    {
     "name": "stdout",
     "output_type": "stream",
     "text": [
      "++++\n",
      "10\n",
      "20\n",
      "30\n",
      "++++\n",
      "10\n",
      "20\n",
      "30\n"
     ]
    }
   ],
   "source": [
    "#139\n",
    "print(\"++++\")\n",
    "print(10)\n",
    "print(20)\n",
    "print(30)\n",
    "\n",
    "\n",
    "변수 = [10,20,30]\n",
    "print(\"++++\")\n",
    "for i in 변수:\n",
    "    print(i)\n",
    "    "
   ]
  },
  {
   "cell_type": "code",
   "execution_count": 32,
   "id": "af31213d-c432-44f7-bf9d-bae020013bb6",
   "metadata": {},
   "outputs": [
    {
     "name": "stdout",
     "output_type": "stream",
     "text": [
      "-------\n",
      "-------\n",
      "-------\n",
      "-------\n",
      "\n",
      "\n",
      "-------\n",
      "-------\n",
      "-------\n",
      "-------\n"
     ]
    }
   ],
   "source": [
    "#140\n",
    "변수 = [1,2,3,4]\n",
    "for i in 변수:\n",
    "    print(\"-------\")\n",
    "\n",
    "print('\\n')\n",
    "\n",
    "for i in [1,2,3,4]:\n",
    "    print(\"-------\")"
   ]
  },
  {
   "cell_type": "markdown",
   "id": "ec0a2a8e-d207-472a-9a6b-e204fa2e579f",
   "metadata": {},
   "source": [
    "## 141 ~ 150"
   ]
  },
  {
   "cell_type": "code",
   "execution_count": 5,
   "id": "9d520401-d5c8-4486-bf6a-89327c38044b",
   "metadata": {},
   "outputs": [
    {
     "name": "stdout",
     "output_type": "stream",
     "text": [
      "110\n",
      "210\n",
      "310\n"
     ]
    }
   ],
   "source": [
    "#141\n",
    "리스트 = [100, 200, 300]\n",
    "for i in 리스트:\n",
    "    print(int(i)+10)"
   ]
  },
  {
   "cell_type": "code",
   "execution_count": 8,
   "id": "98b6e56c-b4b4-4221-a446-8c80636e29cf",
   "metadata": {},
   "outputs": [
    {
     "name": "stdout",
     "output_type": "stream",
     "text": [
      "오늘의 메뉴: 김밥\n",
      "오늘의 메뉴: 라면\n",
      "오늘의 메뉴: 튀김\n"
     ]
    }
   ],
   "source": [
    "#142\n",
    "리스트 = [\"김밥\", \"라면\", \"튀김\"]\n",
    "for i in 리스트:\n",
    "    print('오늘의 메뉴:', i)"
   ]
  },
  {
   "cell_type": "code",
   "execution_count": 24,
   "id": "ae33cd40-aa07-4acf-bc12-173096288d79",
   "metadata": {},
   "outputs": [
    {
     "name": "stdout",
     "output_type": "stream",
     "text": [
      "6\n",
      "4\n",
      "4\n",
      "-----------------------------------\n",
      "SK하이닉스\n",
      "삼성전자\n",
      "LG전자\n",
      "-----------------------------------\n",
      "['SK하이닉스', '삼성전자', 'LG전자']\n",
      "['SK하이닉스', '삼성전자', 'LG전자']\n",
      "['SK하이닉스', '삼성전자', 'LG전자']\n",
      "-----------------------------------\n",
      "LG전자\n",
      "['SK하이닉스', '삼성전자', 'LG전자']\n"
     ]
    }
   ],
   "source": [
    "#143\n",
    "리스트 = [\"SK하이닉스\", \"삼성전자\", \"LG전자\"]\n",
    "for i in 리스트:\n",
    "    print(len(i))\n",
    "\n",
    "print('-----------------------------------')\n",
    "\n",
    "for i in 리스트:\n",
    "    print(i)\n",
    "\n",
    "print('-----------------------------------')\n",
    "\n",
    "for i in 리스트:\n",
    "    print(리스트)\n",
    "\n",
    "print('-----------------------------------')\n",
    "\n",
    "print(i)\n",
    "print(리스트)"
   ]
  },
  {
   "cell_type": "code",
   "execution_count": 25,
   "id": "57109524-c0e1-44c2-9bdb-119d7fb07b00",
   "metadata": {},
   "outputs": [
    {
     "name": "stdout",
     "output_type": "stream",
     "text": [
      "dog 3\n",
      "cat 3\n",
      "parrot 6\n"
     ]
    }
   ],
   "source": [
    "#144\n",
    "리스트 = ['dog', 'cat', 'parrot']\n",
    "for i in 리스트:\n",
    "    print(i, len(i))"
   ]
  },
  {
   "cell_type": "code",
   "execution_count": 26,
   "id": "9f68042c-cbd1-48a9-a50d-1b944bfa37a2",
   "metadata": {},
   "outputs": [
    {
     "name": "stdout",
     "output_type": "stream",
     "text": [
      "d\n",
      "c\n",
      "p\n"
     ]
    }
   ],
   "source": [
    "#145\n",
    "리스트 = ['dog', 'cat', 'parrot']\n",
    "for i in 리스트:\n",
    "    print(i[0])"
   ]
  },
  {
   "cell_type": "code",
   "execution_count": 36,
   "id": "c8f34454-4b0a-40e1-b90c-520b19c11c8b",
   "metadata": {},
   "outputs": [
    {
     "name": "stdout",
     "output_type": "stream",
     "text": [
      "3 x 1\n",
      "3 x 2\n",
      "3 x 3\n"
     ]
    }
   ],
   "source": [
    "#146\n",
    "리스트 = [1, 2, 3]\n",
    "for i in 리스트:\n",
    "    print(f'3 x {i}')"
   ]
  },
  {
   "cell_type": "code",
   "execution_count": 35,
   "id": "6854fb9f-0531-4999-850c-0ecd393e8be7",
   "metadata": {},
   "outputs": [
    {
     "name": "stdout",
     "output_type": "stream",
     "text": [
      "3 x 1 = 3\n",
      "3 x 2 = 6\n",
      "3 x 3 = 9\n"
     ]
    }
   ],
   "source": [
    "#147\n",
    "리스트 = [1, 2, 3]\n",
    "for i in 리스트:\n",
    "    print(f'3 x {i} = {i*3}')"
   ]
  },
  {
   "cell_type": "code",
   "execution_count": 45,
   "id": "a4826319-646c-4b9f-b219-29bc18868604",
   "metadata": {},
   "outputs": [
    {
     "name": "stdout",
     "output_type": "stream",
     "text": [
      "나\n",
      "다\n",
      "라\n"
     ]
    }
   ],
   "source": [
    "#148\n",
    "리스트 = [\"가\", \"나\", \"다\", \"라\"]\n",
    "for i in 리스트:\n",
    "    if i == '가':\n",
    "        pass\n",
    "    else :\n",
    "        print(i)"
   ]
  },
  {
   "cell_type": "code",
   "execution_count": 60,
   "id": "8fc22f81-2550-4a2d-af6f-9343f1340102",
   "metadata": {},
   "outputs": [
    {
     "name": "stdout",
     "output_type": "stream",
     "text": [
      "가\n",
      "다\n",
      "====================\n",
      "가\n",
      "다\n"
     ]
    }
   ],
   "source": [
    "#149\n",
    "리스트 = [\"가\", \"나\", \"다\", \"라\"]\n",
    "for i in 리스트:\n",
    "    if i == '나':\n",
    "        pass\n",
    "    elif i == '라':\n",
    "        pass\n",
    "    else: \n",
    "        print(i)\n",
    "\n",
    "print('====================')\n",
    "\n",
    "리스트 = [\"가\", \"나\", \"다\", \"라\"]\n",
    "for 변수 in 리스트[: :2]:\n",
    "  print(변수)"
   ]
  },
  {
   "cell_type": "code",
   "execution_count": 78,
   "id": "87ae23db-af2c-4e5d-90be-b1569b941c84",
   "metadata": {},
   "outputs": [
    {
     "name": "stdout",
     "output_type": "stream",
     "text": [
      "라\n",
      "다\n",
      "나\n",
      "가\n"
     ]
    }
   ],
   "source": [
    "#150\n",
    "리스트 = [\"가\", \"나\", \"다\", \"라\"]\n",
    "리스트.reverse()\n",
    "\n",
    "for i in 리스트:\n",
    "    print(i)"
   ]
  },
  {
   "cell_type": "markdown",
   "id": "3ab6d264-936f-4bfa-b5fc-f3bb41e771f7",
   "metadata": {},
   "source": [
    "## 151 ~ 160"
   ]
  },
  {
   "cell_type": "code",
   "execution_count": null,
   "id": "ad35e14b-65a1-4791-a4d5-ed300dcda297",
   "metadata": {},
   "outputs": [],
   "source": [
    "#151\n"
   ]
  },
  {
   "cell_type": "code",
   "execution_count": null,
   "id": "843b0da9-1c55-4185-9d3e-724496eed320",
   "metadata": {},
   "outputs": [],
   "source": [
    "#152"
   ]
  },
  {
   "cell_type": "code",
   "execution_count": null,
   "id": "bf2de4eb-8282-40b4-9b62-85e20c960e50",
   "metadata": {},
   "outputs": [],
   "source": [
    "#153"
   ]
  },
  {
   "cell_type": "code",
   "execution_count": null,
   "id": "4d67f937-18bb-48b6-bbbc-320529f528a5",
   "metadata": {},
   "outputs": [],
   "source": [
    "#154"
   ]
  },
  {
   "cell_type": "code",
   "execution_count": null,
   "id": "05199f92-de4a-46c9-9da2-e358b817e081",
   "metadata": {},
   "outputs": [],
   "source": [
    "#155"
   ]
  },
  {
   "cell_type": "code",
   "execution_count": null,
   "id": "8826cb08-d704-45ba-9273-6ebbb76143c7",
   "metadata": {},
   "outputs": [],
   "source": [
    "#156"
   ]
  },
  {
   "cell_type": "code",
   "execution_count": null,
   "id": "0983318c-0b97-4474-8eba-0773d10b6325",
   "metadata": {},
   "outputs": [],
   "source": [
    "#157"
   ]
  },
  {
   "cell_type": "code",
   "execution_count": null,
   "id": "b693a4d1-5021-4347-9439-48e6a9b484d1",
   "metadata": {},
   "outputs": [],
   "source": [
    "#158"
   ]
  },
  {
   "cell_type": "code",
   "execution_count": null,
   "id": "6cd14d4e-a778-4878-ab86-ea398e594d37",
   "metadata": {},
   "outputs": [],
   "source": [
    "#159"
   ]
  },
  {
   "cell_type": "code",
   "execution_count": null,
   "id": "e90a56c5-2eb2-4a7c-b1d4-bf79dbc3fa5e",
   "metadata": {},
   "outputs": [],
   "source": [
    "#160"
   ]
  },
  {
   "cell_type": "markdown",
   "id": "82f3b3c7-7ee9-4237-ad74-f2003d79a52e",
   "metadata": {},
   "source": [
    "## 161 ~ 170"
   ]
  },
  {
   "cell_type": "code",
   "execution_count": null,
   "id": "b44af5f8-adef-4199-ba25-099648888822",
   "metadata": {},
   "outputs": [],
   "source": [
    "#161"
   ]
  },
  {
   "cell_type": "code",
   "execution_count": null,
   "id": "694d40e3-49d4-4f2f-9c9a-6593f4253302",
   "metadata": {},
   "outputs": [],
   "source": [
    "#162"
   ]
  },
  {
   "cell_type": "code",
   "execution_count": null,
   "id": "fb21358f-af19-4d47-9f91-a87c2dcc9e2b",
   "metadata": {},
   "outputs": [],
   "source": [
    "#163"
   ]
  },
  {
   "cell_type": "code",
   "execution_count": null,
   "id": "286e6631-7b6c-4560-b7af-8b5f11ec1c4f",
   "metadata": {},
   "outputs": [],
   "source": [
    "#164"
   ]
  },
  {
   "cell_type": "code",
   "execution_count": null,
   "id": "05c7ce14-a807-4265-9a70-f46cfc7968ad",
   "metadata": {},
   "outputs": [],
   "source": [
    "#165"
   ]
  },
  {
   "cell_type": "code",
   "execution_count": null,
   "id": "7421886e-4a10-4426-987d-234921377af4",
   "metadata": {},
   "outputs": [],
   "source": [
    "#166"
   ]
  },
  {
   "cell_type": "code",
   "execution_count": null,
   "id": "828ef66f-b452-4f91-a9a5-1b3c79ac9ded",
   "metadata": {},
   "outputs": [],
   "source": [
    "#167"
   ]
  },
  {
   "cell_type": "code",
   "execution_count": null,
   "id": "e7967979-2ff3-4597-8bf2-f80cc879be75",
   "metadata": {},
   "outputs": [],
   "source": [
    "#168"
   ]
  },
  {
   "cell_type": "code",
   "execution_count": null,
   "id": "885cb9bc-ff4c-44b3-9d03-97c3b80f5001",
   "metadata": {},
   "outputs": [],
   "source": [
    "#169"
   ]
  },
  {
   "cell_type": "code",
   "execution_count": null,
   "id": "ca8d3de8-1fda-43c2-9a4c-ee07c426f444",
   "metadata": {},
   "outputs": [],
   "source": [
    "#170"
   ]
  },
  {
   "cell_type": "markdown",
   "id": "9196a3f1-a55b-490a-be00-26d2dbf13873",
   "metadata": {},
   "source": [
    "## 171 ~ 180"
   ]
  },
  {
   "cell_type": "code",
   "execution_count": null,
   "id": "cef2f0fe-2246-4290-adcb-e512fb6204d7",
   "metadata": {},
   "outputs": [],
   "source": [
    "#171"
   ]
  },
  {
   "cell_type": "code",
   "execution_count": null,
   "id": "9f1608bb-1bfc-4eac-a509-b7545a915cdd",
   "metadata": {},
   "outputs": [],
   "source": [
    "#172"
   ]
  },
  {
   "cell_type": "code",
   "execution_count": null,
   "id": "828a3444-6c96-43a9-94c5-c3585b487332",
   "metadata": {},
   "outputs": [],
   "source": [
    "#173"
   ]
  },
  {
   "cell_type": "code",
   "execution_count": null,
   "id": "e9e21f0c-2a16-4be4-9837-7f210dab5d71",
   "metadata": {},
   "outputs": [],
   "source": [
    "#174"
   ]
  },
  {
   "cell_type": "code",
   "execution_count": null,
   "id": "eb227414-c3ad-439c-8fbc-487a801ea105",
   "metadata": {},
   "outputs": [],
   "source": [
    "#175"
   ]
  },
  {
   "cell_type": "code",
   "execution_count": null,
   "id": "c0198697-6570-476c-80d9-98bc1942b1b8",
   "metadata": {},
   "outputs": [],
   "source": [
    "#176"
   ]
  },
  {
   "cell_type": "code",
   "execution_count": null,
   "id": "480a2896-e674-4cee-b202-758ece3fd92b",
   "metadata": {},
   "outputs": [],
   "source": [
    "#177"
   ]
  },
  {
   "cell_type": "code",
   "execution_count": null,
   "id": "69e7b994-6319-4f0d-9593-72b507de5a93",
   "metadata": {},
   "outputs": [],
   "source": [
    "#178"
   ]
  },
  {
   "cell_type": "code",
   "execution_count": null,
   "id": "89f5ab35-c9c2-4afd-8501-704d91a8053c",
   "metadata": {},
   "outputs": [],
   "source": [
    "#179"
   ]
  },
  {
   "cell_type": "code",
   "execution_count": null,
   "id": "d9c89e6b-1693-4ce9-9d0b-0bbd9ef24079",
   "metadata": {},
   "outputs": [],
   "source": [
    "#180"
   ]
  },
  {
   "cell_type": "markdown",
   "id": "1c14c4f0-af8d-4b59-ba3c-fc361951daa2",
   "metadata": {},
   "source": [
    "## 181 ~ 190"
   ]
  },
  {
   "cell_type": "code",
   "execution_count": null,
   "id": "58fee115-e3b7-4f85-8d01-8c4d71df11c7",
   "metadata": {},
   "outputs": [],
   "source": [
    "#181"
   ]
  },
  {
   "cell_type": "code",
   "execution_count": null,
   "id": "6854d4bb-061b-4b8e-a73a-6ebb74cbf841",
   "metadata": {},
   "outputs": [],
   "source": [
    "#182"
   ]
  },
  {
   "cell_type": "code",
   "execution_count": null,
   "id": "7977b926-2d08-4b09-a56e-9cc5ee0feba8",
   "metadata": {},
   "outputs": [],
   "source": [
    "#183"
   ]
  },
  {
   "cell_type": "code",
   "execution_count": null,
   "id": "9f450a5d-1b59-4209-8090-f7d4a82fbfee",
   "metadata": {},
   "outputs": [],
   "source": [
    "#184"
   ]
  },
  {
   "cell_type": "code",
   "execution_count": null,
   "id": "b963661b-9e43-48ff-bc99-0141e3079d59",
   "metadata": {},
   "outputs": [],
   "source": [
    "#185"
   ]
  },
  {
   "cell_type": "code",
   "execution_count": null,
   "id": "8d496db9-88a6-407d-a745-f9ddd2c1a995",
   "metadata": {},
   "outputs": [],
   "source": [
    "#186"
   ]
  },
  {
   "cell_type": "code",
   "execution_count": null,
   "id": "407e4238-3728-40da-842d-7f1d90005e3f",
   "metadata": {},
   "outputs": [],
   "source": [
    "#187"
   ]
  },
  {
   "cell_type": "code",
   "execution_count": null,
   "id": "e105b43a-b300-4908-ad56-51491edb5b34",
   "metadata": {},
   "outputs": [],
   "source": [
    "#188"
   ]
  },
  {
   "cell_type": "code",
   "execution_count": null,
   "id": "85d7134d-8753-4706-a8d7-17c805b29641",
   "metadata": {},
   "outputs": [],
   "source": [
    "#189"
   ]
  },
  {
   "cell_type": "code",
   "execution_count": null,
   "id": "185abb1b-0c0d-4f90-9cae-ef77defae43d",
   "metadata": {},
   "outputs": [],
   "source": [
    "#190"
   ]
  },
  {
   "cell_type": "markdown",
   "id": "78a0ff56-4307-44e2-ad08-dff4b15488d5",
   "metadata": {},
   "source": [
    "## 191 ~ 200"
   ]
  },
  {
   "cell_type": "code",
   "execution_count": null,
   "id": "1cd0ce34-cb4d-4a45-b127-5cfa1dfa7183",
   "metadata": {},
   "outputs": [],
   "source": [
    "#191"
   ]
  },
  {
   "cell_type": "code",
   "execution_count": null,
   "id": "2b339a8e-4a2b-4132-88af-fbd6387f8234",
   "metadata": {},
   "outputs": [],
   "source": [
    "#192"
   ]
  },
  {
   "cell_type": "code",
   "execution_count": null,
   "id": "d1ef1255-da39-4341-a623-703b632f1594",
   "metadata": {},
   "outputs": [],
   "source": [
    "#193"
   ]
  },
  {
   "cell_type": "code",
   "execution_count": null,
   "id": "7bc8c252-4ba1-46f8-ae8c-0deea0c049ef",
   "metadata": {},
   "outputs": [],
   "source": [
    "#194"
   ]
  },
  {
   "cell_type": "code",
   "execution_count": null,
   "id": "c3ca48b2-4653-4ad5-9e0f-ceb0340247c1",
   "metadata": {},
   "outputs": [],
   "source": [
    "#195"
   ]
  },
  {
   "cell_type": "code",
   "execution_count": null,
   "id": "4ed869d1-da66-4692-bc6b-8632bc4c21de",
   "metadata": {},
   "outputs": [],
   "source": [
    "#196"
   ]
  },
  {
   "cell_type": "code",
   "execution_count": null,
   "id": "2a4d1259-cc23-4f60-8c43-d19b7933f098",
   "metadata": {},
   "outputs": [],
   "source": [
    "#197"
   ]
  },
  {
   "cell_type": "code",
   "execution_count": null,
   "id": "b276d284-71b3-488c-a6cd-4775c2086b28",
   "metadata": {},
   "outputs": [],
   "source": [
    "#198"
   ]
  },
  {
   "cell_type": "code",
   "execution_count": null,
   "id": "23ccde32-3b80-4dc9-a3f6-2348a4645fb0",
   "metadata": {},
   "outputs": [],
   "source": [
    "#199"
   ]
  },
  {
   "cell_type": "code",
   "execution_count": null,
   "id": "3f7857ec-362e-4f51-ac83-0e4397d9a96f",
   "metadata": {},
   "outputs": [],
   "source": [
    "#200"
   ]
  }
 ],
 "metadata": {
  "kernelspec": {
   "display_name": "Python 3 (ipykernel)",
   "language": "python",
   "name": "python3"
  },
  "language_info": {
   "codemirror_mode": {
    "name": "ipython",
    "version": 3
   },
   "file_extension": ".py",
   "mimetype": "text/x-python",
   "name": "python",
   "nbconvert_exporter": "python",
   "pygments_lexer": "ipython3",
   "version": "3.11.7"
  }
 },
 "nbformat": 4,
 "nbformat_minor": 5
}
