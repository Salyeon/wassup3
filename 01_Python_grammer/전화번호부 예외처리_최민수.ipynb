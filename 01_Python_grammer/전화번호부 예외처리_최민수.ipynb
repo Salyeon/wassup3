{
 "cells": [
  {
   "cell_type": "markdown",
   "metadata": {},
   "source": [
    "# 전화번호 프로그램 만들기\n",
    "\n",
    "* 홍길동 010-123-4567\n",
    "* 기능1 : 연락처 추가\n",
    "* 기능2 : 연락처 전체 보기\n",
    "* 기능3 : 검색, 이름을 입력받아서 전화번호 조회\n",
    "* 기능4 : 수정, 이름을 입력받아서 전화번호 입력수정\n",
    "* 기능5 : 삭제, 이름 입력받아서 삭제\n",
    "* 기능6 : 프로그램 종료"
   ]
  },
  {
   "cell_type": "code",
   "execution_count": null,
   "metadata": {},
   "outputs": [],
   "source": [
    "요구사항 분석 및 설계\n",
    "데이터 타입 = dict\n",
    "데이터 - 사용자 입력(input 함수)\n",
    "구조 - while(사용자 입력 전까지 한무 대기)\n",
    "기능\n",
    "1. 연락처 추가\n",
    "2. 연락처 전체 조회\n",
    "연락처 검색\n",
    "연락처 수정\n",
    "연락처 삭제\n",
    "프로그램 종료"
   ]
  },
  {
   "cell_type": "code",
   "execution_count": 1,
   "metadata": {},
   "outputs": [
    {
     "name": "stdout",
     "output_type": "stream",
     "text": [
      "*****전화번호부 CRUD 프로그램*****\n",
      "1. 추가    2. 조회    3. 검색    4. 수정    5. 삭제    0. 종료\n"
     ]
    },
    {
     "name": "stdin",
     "output_type": "stream",
     "text": [
      "원하는 기능을 숫자로 입력하세요:  ㅇ\n"
     ]
    },
    {
     "ename": "ValueError",
     "evalue": "invalid literal for int() with base 10: 'ㅇ'",
     "output_type": "error",
     "traceback": [
      "\u001b[1;31m---------------------------------------------------------------------------\u001b[0m",
      "\u001b[1;31mValueError\u001b[0m                                Traceback (most recent call last)",
      "Cell \u001b[1;32mIn[1], line 5\u001b[0m\n\u001b[0;32m      3\u001b[0m \u001b[38;5;28mprint\u001b[39m(\u001b[38;5;124m'\u001b[39m\u001b[38;5;124m*****전화번호부 CRUD 프로그램*****\u001b[39m\u001b[38;5;124m'\u001b[39m)\n\u001b[0;32m      4\u001b[0m \u001b[38;5;28mprint\u001b[39m(\u001b[38;5;124m'\u001b[39m\u001b[38;5;124m1. 추가    2. 조회    3. 검색    4. 수정    5. 삭제    0. 종료\u001b[39m\u001b[38;5;124m'\u001b[39m)\n\u001b[1;32m----> 5\u001b[0m remote \u001b[38;5;241m=\u001b[39m \u001b[38;5;28mint\u001b[39m(\u001b[38;5;28minput\u001b[39m(\u001b[38;5;124m'\u001b[39m\u001b[38;5;124m원하는 기능을 숫자로 입력하세요: \u001b[39m\u001b[38;5;124m'\u001b[39m))\n\u001b[0;32m      7\u001b[0m \u001b[38;5;28;01mif\u001b[39;00m remote \u001b[38;5;241m==\u001b[39m \u001b[38;5;241m1\u001b[39m:\n\u001b[0;32m      8\u001b[0m     \u001b[38;5;28mprint\u001b[39m(\u001b[38;5;124m'\u001b[39m\u001b[38;5;124m연락처 추가\u001b[39m\u001b[38;5;124m'\u001b[39m)\n",
      "\u001b[1;31mValueError\u001b[0m: invalid literal for int() with base 10: 'ㅇ'"
     ]
    }
   ],
   "source": [
    "db = {'홍길동':'010-123-4567'}\n",
    "while True:\n",
    "    print('*****전화번호부 CRUD 프로그램*****')\n",
    "    print('1. 추가    2. 조회    3. 검색    4. 수정    5. 삭제    0. 종료')\n",
    "    remote = int(input('원하는 기능을 숫자로 입력하세요: '))\n",
    "\n",
    "    if remote == 1:\n",
    "        print('연락처 추가')\n",
    "        new_name = input('이름: ')\n",
    "        new_num = input('번호: ')\n",
    "        print(new_name, new_num)\n",
    "        #db[new_name] = new_num\n",
    "        db.setdefault(new_name,new_num)\n",
    "        \n",
    "    elif remote == 2:\n",
    "        print('전체 연락처 조회')\n",
    "        print(db)\n",
    "        \n",
    "    elif remote == 3:\n",
    "        print('연락처 검색')\n",
    "        s_name = input('이름: ')\n",
    "        print(db.get(s_name,'해당 이름에 대한 정보가 없습니다.'))\n",
    "        \n",
    "    elif remote == 4:\n",
    "        print('연락처 수정')\n",
    "        u_name = input('연락처를 수정할 이름: ')\n",
    "        if u_name in db:\n",
    "            u_num = input('수정할 연락처: ')\n",
    "            db[u_name] = u_num\n",
    "        else: \n",
    "            print('연락처에 존재하지 않는 이름입니다.')\n",
    "            \n",
    "    elif remote == 5:\n",
    "        print('연락처 삭제')\n",
    "        del_name = input('연락처에서 삭제할 이름 :')\n",
    "        if del_name in db:\n",
    "            del db[del_name]\n",
    "            print(del_name, '이(가) 연락처에서 삭제되었습니다.')\n",
    "        else: \n",
    "            print('등록되지 않은 연락처입니다.')\n",
    "            \n",
    "    elif remote == 0:\n",
    "        print('프로그램 종료')\n",
    "        break"
   ]
  },
  {
   "cell_type": "code",
   "execution_count": null,
   "metadata": {},
   "outputs": [
    {
     "name": "stdout",
     "output_type": "stream",
     "text": [
      "*****전화번호부 CRUD 프로그램*****\n",
      "1. 추가    2. 조회    3. 검색    4. 수정    5. 삭제    0. 종료\n"
     ]
    },
    {
     "name": "stdin",
     "output_type": "stream",
     "text": [
      "원하는 기능을 숫자로 입력하세요:  01\n"
     ]
    },
    {
     "name": "stdout",
     "output_type": "stream",
     "text": [
      "연락처 추가\n"
     ]
    },
    {
     "name": "stdin",
     "output_type": "stream",
     "text": [
      "이름:  1\n",
      "번호:  1\n"
     ]
    },
    {
     "name": "stdout",
     "output_type": "stream",
     "text": [
      "1 1\n",
      "*****전화번호부 CRUD 프로그램*****\n",
      "1. 추가    2. 조회    3. 검색    4. 수정    5. 삭제    0. 종료\n"
     ]
    },
    {
     "name": "stdin",
     "output_type": "stream",
     "text": [
      "원하는 기능을 숫자로 입력하세요:  5\n"
     ]
    },
    {
     "name": "stdout",
     "output_type": "stream",
     "text": [
      "연락처 삭제\n"
     ]
    },
    {
     "name": "stdin",
     "output_type": "stream",
     "text": [
      "연락처에서 삭제할 이름 : 1\n"
     ]
    },
    {
     "name": "stdout",
     "output_type": "stream",
     "text": [
      "1 이(가) 연락처에서 삭제되었습니다.\n",
      "*****전화번호부 CRUD 프로그램*****\n",
      "1. 추가    2. 조회    3. 검색    4. 수정    5. 삭제    0. 종료\n"
     ]
    }
   ],
   "source": [
    "db = {'홍길동':'010-123-4567'}\n",
    "while True:\n",
    "    print('*****전화번호부 CRUD 프로그램*****')\n",
    "    print('1. 추가    2. 조회    3. 검색    4. 수정    5. 삭제    0. 종료')\n",
    "    try: \n",
    "        remote = int(input('원하는 기능을 숫자로 입력하세요: '))\n",
    "    except: \n",
    "        print('숫자 1,2,3,4,5,0 중에 하나로 입력해주세요')\n",
    "    else:\n",
    "\n",
    "\n",
    "        \n",
    "        if remote == 1:\n",
    "            print('연락처 추가')\n",
    "            new_name = input('이름: ')\n",
    "            new_num = input('번호: ')\n",
    "            print(new_name, new_num)\n",
    "            #db[new_name] = new_num\n",
    "            db.setdefault(new_name,new_num)\n",
    "            \n",
    "        elif remote == 2:\n",
    "            print('전체 연락처 조회')\n",
    "            print(db)\n",
    "            \n",
    "        elif remote == 3:\n",
    "            print('연락처 검색')\n",
    "            s_name = input('이름: ')\n",
    "            print(db.get(s_name,'해당 이름에 대한 정보가 없습니다.'))\n",
    "            \n",
    "        elif remote == 4:\n",
    "            print('연락처 수정')\n",
    "            u_name = input('연락처를 수정할 이름: ')\n",
    "            if u_name in db:\n",
    "                u_num = input('수정할 연락처: ')\n",
    "                db[u_name] = u_num\n",
    "            else: \n",
    "                print('연락처에 존재하지 않는 이름입니다.')\n",
    "                \n",
    "        elif remote == 5:\n",
    "            print('연락처 삭제')\n",
    "            del_name = input('연락처에서 삭제할 이름 :')\n",
    "            if del_name in db:\n",
    "                del db[del_name]\n",
    "                print(del_name, '이(가) 연락처에서 삭제되었습니다.')\n",
    "            else: \n",
    "                print('등록되지 않은 연락처입니다.')\n",
    "                \n",
    "        elif remote == 0:\n",
    "            print('프로그램 종료')\n",
    "            break\n",
    "\n",
    "        else: \n",
    "            print('숫자 1,2,3,4,5,0 중에 하나로 입력해주세요')"
   ]
  }
 ],
 "metadata": {
  "kernelspec": {
   "display_name": "Python 3 (ipykernel)",
   "language": "python",
   "name": "python3"
  },
  "language_info": {
   "codemirror_mode": {
    "name": "ipython",
    "version": 3
   },
   "file_extension": ".py",
   "mimetype": "text/x-python",
   "name": "python",
   "nbconvert_exporter": "python",
   "pygments_lexer": "ipython3",
   "version": "3.11.7"
  },
  "toc": {
   "base_numbering": 1,
   "nav_menu": {},
   "number_sections": true,
   "sideBar": true,
   "skip_h1_title": false,
   "title_cell": "Table of Contents",
   "title_sidebar": "Contents",
   "toc_cell": false,
   "toc_position": {},
   "toc_section_display": true,
   "toc_window_display": false
  },
  "varInspector": {
   "cols": {
    "lenName": 16,
    "lenType": 16,
    "lenVar": 40
   },
   "kernels_config": {
    "python": {
     "delete_cmd_postfix": "",
     "delete_cmd_prefix": "del ",
     "library": "var_list.py",
     "varRefreshCmd": "print(var_dic_list())"
    },
    "r": {
     "delete_cmd_postfix": ") ",
     "delete_cmd_prefix": "rm(",
     "library": "var_list.r",
     "varRefreshCmd": "cat(var_dic_list()) "
    }
   },
   "types_to_exclude": [
    "module",
    "function",
    "builtin_function_or_method",
    "instance",
    "_Feature"
   ],
   "window_display": false
  }
 },
 "nbformat": 4,
 "nbformat_minor": 4
}
