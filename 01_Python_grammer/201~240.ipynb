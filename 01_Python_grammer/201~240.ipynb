{
 "cells": [
  {
   "cell_type": "markdown",
   "id": "c55aa258-423b-45bb-93d5-3fbc5592221f",
   "metadata": {},
   "source": [
    "# 09. 파이썬 함수 "
   ]
  },
  {
   "cell_type": "markdown",
   "id": "cdd22d57-1ada-4e0d-823e-2ac724602109",
   "metadata": {},
   "source": [
    "## 201 ~ 210"
   ]
  },
  {
   "cell_type": "code",
   "execution_count": 2,
   "id": "14fc57f5-93b7-486a-92c3-39129ddfe478",
   "metadata": {},
   "outputs": [],
   "source": [
    "#201\n",
    "def print_coin():\n",
    "    return '비트코인'"
   ]
  },
  {
   "cell_type": "code",
   "execution_count": 18,
   "id": "4fd9f137-7091-4f28-a78c-ad020d4c88fb",
   "metadata": {},
   "outputs": [
    {
     "data": {
      "text/plain": [
       "'비트코인'"
      ]
     },
     "execution_count": 18,
     "metadata": {},
     "output_type": "execute_result"
    }
   ],
   "source": [
    "#202\n",
    "print_coin()"
   ]
  },
  {
   "cell_type": "code",
   "execution_count": 7,
   "id": "495c7dcd-de7f-43f9-bf00-46cc58453530",
   "metadata": {},
   "outputs": [],
   "source": [
    "#203\n",
    "for i in range(100):\n",
    "    print_coin()"
   ]
  },
  {
   "cell_type": "code",
   "execution_count": 8,
   "id": "8a0e0c93-c06e-4df8-ad8d-90048256ce21",
   "metadata": {},
   "outputs": [
    {
     "name": "stdout",
     "output_type": "stream",
     "text": [
      "비트코인\n",
      "비트코인\n",
      "비트코인\n",
      "비트코인\n",
      "비트코인\n",
      "비트코인\n",
      "비트코인\n",
      "비트코인\n",
      "비트코인\n",
      "비트코인\n",
      "비트코인\n",
      "비트코인\n",
      "비트코인\n",
      "비트코인\n",
      "비트코인\n",
      "비트코인\n",
      "비트코인\n",
      "비트코인\n",
      "비트코인\n",
      "비트코인\n",
      "비트코인\n",
      "비트코인\n",
      "비트코인\n",
      "비트코인\n",
      "비트코인\n",
      "비트코인\n",
      "비트코인\n",
      "비트코인\n",
      "비트코인\n",
      "비트코인\n",
      "비트코인\n",
      "비트코인\n",
      "비트코인\n",
      "비트코인\n",
      "비트코인\n",
      "비트코인\n",
      "비트코인\n",
      "비트코인\n",
      "비트코인\n",
      "비트코인\n",
      "비트코인\n",
      "비트코인\n",
      "비트코인\n",
      "비트코인\n",
      "비트코인\n",
      "비트코인\n",
      "비트코인\n",
      "비트코인\n",
      "비트코인\n",
      "비트코인\n",
      "비트코인\n",
      "비트코인\n",
      "비트코인\n",
      "비트코인\n",
      "비트코인\n",
      "비트코인\n",
      "비트코인\n",
      "비트코인\n",
      "비트코인\n",
      "비트코인\n",
      "비트코인\n",
      "비트코인\n",
      "비트코인\n",
      "비트코인\n",
      "비트코인\n",
      "비트코인\n",
      "비트코인\n",
      "비트코인\n",
      "비트코인\n",
      "비트코인\n",
      "비트코인\n",
      "비트코인\n",
      "비트코인\n",
      "비트코인\n",
      "비트코인\n",
      "비트코인\n",
      "비트코인\n",
      "비트코인\n",
      "비트코인\n",
      "비트코인\n",
      "비트코인\n",
      "비트코인\n",
      "비트코인\n",
      "비트코인\n",
      "비트코인\n",
      "비트코인\n",
      "비트코인\n",
      "비트코인\n",
      "비트코인\n",
      "비트코인\n",
      "비트코인\n",
      "비트코인\n",
      "비트코인\n",
      "비트코인\n",
      "비트코인\n",
      "비트코인\n",
      "비트코인\n",
      "비트코인\n",
      "비트코인\n",
      "비트코인\n"
     ]
    }
   ],
   "source": [
    "#204\n",
    "for i in range(100):\n",
    "    print(print_coin())"
   ]
  },
  {
   "cell_type": "code",
   "execution_count": 14,
   "id": "4856d033-720f-4ec3-95ee-554a3bdaede9",
   "metadata": {},
   "outputs": [
    {
     "data": {
      "text/plain": [
       "'hi'"
      ]
     },
     "execution_count": 14,
     "metadata": {},
     "output_type": "execute_result"
    }
   ],
   "source": [
    "#205\n",
    "def hello():\n",
    "    return 'hi'\n",
    "hello()\n",
    "# 정의가 완료되지 않아서 hello()라고 써도 hi를 결과값으로 내지 않는 것"
   ]
  },
  {
   "cell_type": "code",
   "execution_count": 20,
   "id": "63f77076-1662-4e3f-9475-91c8fa423bdf",
   "metadata": {},
   "outputs": [
    {
     "name": "stdout",
     "output_type": "stream",
     "text": [
      "A\n",
      "B\n",
      "C\n",
      "A\n",
      "B\n"
     ]
    }
   ],
   "source": [
    "#206\n",
    "def message() :\n",
    "    print(\"A\")\n",
    "    print(\"B\")\n",
    "\n",
    "message()\n",
    "print('C')\n",
    "message()\n",
    "\n",
    "#ABABC?\n",
    "#이렇게 해도 함수가 출력이 되네..?"
   ]
  },
  {
   "cell_type": "code",
   "execution_count": 22,
   "id": "ed4e98ea-de4b-48c4-bc70-4f62e611f673",
   "metadata": {},
   "outputs": [
    {
     "name": "stdout",
     "output_type": "stream",
     "text": [
      "A\n",
      "C\n",
      "B\n"
     ]
    }
   ],
   "source": [
    "#207\n",
    "#A C B 각 엔터\n",
    "print(\"A\")\n",
    "\n",
    "def message() :\n",
    "    print(\"B\")\n",
    "\n",
    "print(\"C\")\n",
    "message()"
   ]
  },
  {
   "cell_type": "code",
   "execution_count": 23,
   "id": "c1fe56bc-0647-4c01-9192-d6ee67d9de1a",
   "metadata": {},
   "outputs": [
    {
     "name": "stdout",
     "output_type": "stream",
     "text": [
      "A\n",
      "C\n",
      "B\n",
      "E\n",
      "D\n"
     ]
    }
   ],
   "source": [
    "#208\n",
    "# A C B E D 각 엔터\n",
    "print(\"A\")\n",
    "def message1() :\n",
    "    print(\"B\")\n",
    "print(\"C\")\n",
    "def message2() :\n",
    "    print(\"D\")\n",
    "message1()\n",
    "print(\"E\")\n",
    "message2()"
   ]
  },
  {
   "cell_type": "code",
   "execution_count": 25,
   "id": "7f125754-a037-4b33-b15f-ac56e2793a1b",
   "metadata": {},
   "outputs": [
    {
     "name": "stdout",
     "output_type": "stream",
     "text": [
      "B\n",
      "A\n"
     ]
    }
   ],
   "source": [
    "#209\n",
    "# B A 각 엔터\n",
    "def message1():\n",
    "    print(\"A\")\n",
    "\n",
    "def message2():\n",
    "    print(\"B\")\n",
    "    message1()\n",
    "\n",
    "message2()"
   ]
  },
  {
   "cell_type": "code",
   "execution_count": 26,
   "id": "85dc0797-d56d-44b4-a566-89fd8c4a3573",
   "metadata": {},
   "outputs": [
    {
     "name": "stdout",
     "output_type": "stream",
     "text": [
      "B\n",
      "C\n",
      "B\n",
      "C\n",
      "B\n",
      "C\n",
      "A\n"
     ]
    }
   ],
   "source": [
    "#210\n",
    "# 어... [['B,'C'], ['B','C'],['B','C']] 에 엔터하고 A\n",
    "def message1():\n",
    "    print(\"A\")\n",
    "\n",
    "def message2():\n",
    "    print(\"B\")\n",
    "\n",
    "def message3():\n",
    "    for i in range (3) :\n",
    "        message2()\n",
    "        print(\"C\")\n",
    "    message1()\n",
    "\n",
    "message3()\n",
    "#그냥 Print라서 B C B C B C A"
   ]
  },
  {
   "cell_type": "markdown",
   "id": "0632b52e-01e0-4bac-8fb0-03fee3069f8b",
   "metadata": {},
   "source": [
    "## 211 ~ 220"
   ]
  },
  {
   "cell_type": "code",
   "execution_count": 29,
   "id": "43b54d9b-1485-4551-80ca-64f86ff42b2c",
   "metadata": {},
   "outputs": [
    {
     "name": "stdout",
     "output_type": "stream",
     "text": [
      "안녕\n",
      "Hi\n"
     ]
    }
   ],
   "source": [
    "#211\n",
    "# 안녕 HI 각 엔터\n",
    "def 함수(문자열) :\n",
    "    print(문자열)\n",
    "\n",
    "함수(\"안녕\")\n",
    "함수(\"Hi\")"
   ]
  },
  {
   "cell_type": "code",
   "execution_count": 30,
   "id": "df9579c7-a0e9-4ffb-b4ae-9ecf125b6bd6",
   "metadata": {},
   "outputs": [
    {
     "name": "stdout",
     "output_type": "stream",
     "text": [
      "7\n",
      "15\n"
     ]
    }
   ],
   "source": [
    "#212\n",
    "# 7, 15\n",
    "def 함수(a, b) :\n",
    "    print(a + b)\n",
    "\n",
    "함수(3, 4)\n",
    "함수(7, 8)"
   ]
  },
  {
   "cell_type": "code",
   "execution_count": 34,
   "id": "07ef92be-a1b1-4834-9372-4bbc60905695",
   "metadata": {},
   "outputs": [
    {
     "name": "stdout",
     "output_type": "stream",
     "text": [
      "a\n",
      "1\n"
     ]
    }
   ],
   "source": [
    "#213\n",
    "#내용물이 없어서\n",
    "def 함수(문자열) :\n",
    "    print(문자열)\n",
    "함수('a')\n",
    "함수(1)\n",
    "#내용물 넣으면 잘 됨"
   ]
  },
  {
   "cell_type": "code",
   "execution_count": 38,
   "id": "8736a9b8-d6e6-4f6e-9643-3d649ccc0088",
   "metadata": {},
   "outputs": [
    {
     "ename": "NameError",
     "evalue": "name '안녕' is not defined",
     "output_type": "error",
     "traceback": [
      "\u001b[1;31m---------------------------------------------------------------------------\u001b[0m",
      "\u001b[1;31mNameError\u001b[0m                                 Traceback (most recent call last)",
      "Cell \u001b[1;32mIn[38], line 5\u001b[0m\n\u001b[0;32m      2\u001b[0m \u001b[38;5;28;01mdef\u001b[39;00m \u001b[38;5;21m함수\u001b[39m(a, b) :\n\u001b[0;32m      3\u001b[0m     \u001b[38;5;28mprint\u001b[39m(a \u001b[38;5;241m+\u001b[39m b)\n\u001b[1;32m----> 5\u001b[0m 함수(안녕, \u001b[38;5;241m3\u001b[39m)\n",
      "\u001b[1;31mNameError\u001b[0m: name '안녕' is not defined"
     ]
    }
   ],
   "source": [
    "#214\n",
    "def 함수(a, b) :\n",
    "    print(a + b)\n",
    "\n",
    "함수(안녕, 3)\n",
    "#둘 다 int가 아니라 한개만 int 라서"
   ]
  },
  {
   "cell_type": "code",
   "execution_count": 43,
   "id": "1a4bf7c1-fd38-4e67-b97e-0633e2ab0a96",
   "metadata": {},
   "outputs": [],
   "source": [
    "#215\n",
    "def print_with_smile(문자열):\n",
    "    print(문자열+':D')"
   ]
  },
  {
   "cell_type": "code",
   "execution_count": 45,
   "id": "07beab0f-f3ed-42e5-ade4-3dfbab0f6450",
   "metadata": {},
   "outputs": [
    {
     "name": "stdout",
     "output_type": "stream",
     "text": [
      "안녕하세요:D\n"
     ]
    }
   ],
   "source": [
    "#216\n",
    "print_with_smile('안녕하세요')"
   ]
  },
  {
   "cell_type": "code",
   "execution_count": 46,
   "id": "89000da5-71aa-4cba-9ef2-12f755cb8a18",
   "metadata": {},
   "outputs": [],
   "source": [
    "#217\n",
    "def print_upper_pirce(number):\n",
    "    print(number*1.3)"
   ]
  },
  {
   "cell_type": "code",
   "execution_count": 47,
   "id": "ffa36bae-9d20-468c-a853-22aa86193545",
   "metadata": {},
   "outputs": [],
   "source": [
    "#218\n",
    "def print_sum(a,b):\n",
    "    print(a+b)"
   ]
  },
  {
   "cell_type": "code",
   "execution_count": 52,
   "id": "3a9f7ea9-6cef-4716-9421-50b6a9887b03",
   "metadata": {},
   "outputs": [
    {
     "name": "stdout",
     "output_type": "stream",
     "text": [
      "3 + 4 = 7\n",
      "3 - 4 = -1\n",
      "3 * 4 = 12\n",
      "3 / 4 = 0.75\n"
     ]
    }
   ],
   "source": [
    "#219\n",
    "def print_arithmetic_operation(a,b):\n",
    "    print(f'{a} + {b} = {a+b}')\n",
    "    print(f'{a} - {b} = {a-b}')\n",
    "    print(f'{a} * {b} = {a*b}')\n",
    "    print(f'{a} / {b} = {a/b}')\n",
    "\n",
    "print_arithmetic_operation(3, 4)"
   ]
  },
  {
   "cell_type": "code",
   "execution_count": 73,
   "id": "a631a5d0-a528-48be-87d6-f03315a21647",
   "metadata": {},
   "outputs": [
    {
     "name": "stdout",
     "output_type": "stream",
     "text": [
      "3 + 4 = 7\n",
      "3 - 4 = -1\n",
      "3 * 4 = 12\n",
      "3 / 4 = 0.75\n"
     ]
    }
   ],
   "source": [
    "#219 for문으로 구하려면 eval이란 문자열을 계산해주는 함수가 필요\n",
    "def print_arithmetic_operation(a,b):\n",
    "    for i in ['+','-','*','/']:\n",
    "        result = eval(f'{a} {i} {b}')\n",
    "        print(f'{a} {i} {b} = {result}')\n",
    "        \n",
    "print_arithmetic_operation(3,4)"
   ]
  },
  {
   "cell_type": "code",
   "execution_count": 88,
   "id": "7268931a-01de-4896-bba0-9c15e779751f",
   "metadata": {},
   "outputs": [
    {
     "name": "stdout",
     "output_type": "stream",
     "text": [
      "30\n"
     ]
    }
   ],
   "source": [
    "#220\n",
    "def print_max(a,b,c):\n",
    "    if a >= b and a>=c:\n",
    "        print(a)\n",
    "    elif b > a and b>c:\n",
    "        print(b)\n",
    "    else:\n",
    "        print(c)\n",
    "\n",
    "print_max(30,5,10)"
   ]
  },
  {
   "cell_type": "markdown",
   "id": "7b6a9cf5-5628-433c-b96e-9c1d94baca9a",
   "metadata": {},
   "source": [
    "## 221 ~ 230"
   ]
  },
  {
   "cell_type": "code",
   "execution_count": 99,
   "id": "da25b0b1-91e2-498b-bad6-373c87786e89",
   "metadata": {},
   "outputs": [
    {
     "name": "stdout",
     "output_type": "stream",
     "text": [
      "nohtyp\n"
     ]
    }
   ],
   "source": [
    "#221\n",
    "def print_reverse(str):\n",
    "    print(str[::-1])\n",
    "\n",
    "\n",
    "print_reverse(\"python\")"
   ]
  },
  {
   "cell_type": "code",
   "execution_count": 103,
   "id": "eb6cb648-ba2f-44d4-b28c-6d2975785795",
   "metadata": {},
   "outputs": [
    {
     "name": "stdout",
     "output_type": "stream",
     "text": [
      "2.0\n"
     ]
    }
   ],
   "source": [
    "#222\n",
    "def print_score(a):\n",
    "    print(sum(a)/3)\n",
    "    \n",
    "print_score([1,2,3])"
   ]
  },
  {
   "cell_type": "code",
   "execution_count": 108,
   "id": "82a64f3b-2ecf-4b1d-b20d-ca8a307b91d9",
   "metadata": {},
   "outputs": [
    {
     "name": "stdout",
     "output_type": "stream",
     "text": [
      "2\n",
      "10\n",
      "12\n"
     ]
    }
   ],
   "source": [
    "#223\n",
    "def print_even(a):\n",
    "    for i in a:\n",
    "        if i%2==0:\n",
    "            print(i)\n",
    "print_even ([1, 3, 2, 10, 12, 11, 15])"
   ]
  },
  {
   "cell_type": "code",
   "execution_count": 114,
   "id": "f33d4eab-4f78-412c-b5ca-0dbac36059bb",
   "metadata": {},
   "outputs": [
    {
     "name": "stdout",
     "output_type": "stream",
     "text": [
      "이름\n",
      "나이\n",
      "성별\n"
     ]
    }
   ],
   "source": [
    "#224\n",
    "def print_keys(a):\n",
    "    for i in a.keys():\n",
    "        print(i)\n",
    "\n",
    "print_keys ({\"이름\":\"김말똥\", \"나이\":30, \"성별\":0})"
   ]
  },
  {
   "cell_type": "code",
   "execution_count": 118,
   "id": "92cb2dc1-0a8c-4fa7-b3e6-63906999cb40",
   "metadata": {},
   "outputs": [
    {
     "name": "stdout",
     "output_type": "stream",
     "text": [
      "[100, 130, 100, 100]\n"
     ]
    }
   ],
   "source": [
    "#225\n",
    "my_dict = {\"10/26\" : [100, 130, 100, 100], \"10/27\" : [10, 12, 10, 11]}\n",
    "\n",
    "def print_value_by_key(a,b):\n",
    "    print(a.get(b))\n",
    "\n",
    "\n",
    "print_value_by_key(my_dict, \"10/26\")  # get 함수 사용 버전"
   ]
  },
  {
   "cell_type": "code",
   "execution_count": 121,
   "id": "3d414dab-7066-4ca5-8f86-092ca5f56b15",
   "metadata": {},
   "outputs": [
    {
     "name": "stdout",
     "output_type": "stream",
     "text": [
      "[100, 130, 100, 100]\n"
     ]
    }
   ],
   "source": [
    "# 인덱스 사용 버전\n",
    "my_dict = {\"10/26\" : [100, 130, 100, 100], \"10/27\" : [10, 12, 10, 11]}\n",
    "def print_value_by_key (my_dict, key) :\n",
    "    print(my_dict[key])\n",
    "\n",
    "\n",
    "print_value_by_key(my_dict, \"10/26\")"
   ]
  },
  {
   "cell_type": "code",
   "execution_count": 138,
   "id": "1b4df312-bddb-4c79-bb21-64fbf28978c7",
   "metadata": {},
   "outputs": [
    {
     "name": "stdout",
     "output_type": "stream",
     "text": [
      "가나다라마바\n"
     ]
    }
   ],
   "source": [
    "#226\n",
    "def print_5xn(string):\n",
    "    print(string)\n",
    "\n",
    "print_5xn('가나다라마바')\n",
    "# 뭔소린지 모르겠다"
   ]
  },
  {
   "cell_type": "code",
   "execution_count": null,
   "id": "caa0427e-25b2-404d-8396-3cb702a32cf6",
   "metadata": {},
   "outputs": [],
   "source": [
    "#227\n",
    "#얘도 뭔소린지 1도 모르겠다"
   ]
  },
  {
   "cell_type": "code",
   "execution_count": 142,
   "id": "a9cb8e1d-664f-4a3b-9d27-590f80a9cfb0",
   "metadata": {},
   "outputs": [
    {
     "name": "stdout",
     "output_type": "stream",
     "text": [
      "1000001\n"
     ]
    }
   ],
   "source": [
    "#228\n",
    "def calc_monthly_salary(annual_salary):\n",
    "    a= int(annual_salary/12)\n",
    "    print(a)\n",
    "\n",
    "calc_monthly_salary(12000013)"
   ]
  },
  {
   "cell_type": "code",
   "execution_count": 147,
   "id": "02bef9ba-c112-440f-ae2d-72dca5aeb358",
   "metadata": {},
   "outputs": [
    {
     "name": "stdout",
     "output_type": "stream",
     "text": [
      "왼쪽: 100\n",
      "오른쪽: 200\n"
     ]
    }
   ],
   "source": [
    "#229\n",
    "#왼쪽: a=100\n",
    "#오른쪽: b=100\n",
    "def my_print (a, b) :\n",
    "    print(\"왼쪽:\", a)\n",
    "    print(\"오른쪽:\", b)\n",
    "\n",
    "my_print(a=100, b=200)\n",
    "#예상치대로 나오려면 'a=100' 이라고 적어야됨"
   ]
  },
  {
   "cell_type": "code",
   "execution_count": 149,
   "id": "553879ac-dd05-4f51-931f-abb65a0663e7",
   "metadata": {},
   "outputs": [
    {
     "name": "stdout",
     "output_type": "stream",
     "text": [
      "왼쪽: 200\n",
      "오른쪽: 100\n"
     ]
    }
   ],
   "source": [
    "#230\n",
    "#왼쪽: 200\n",
    "#오른쪽: 100\n",
    "\n",
    "def my_print (a, b) :\n",
    "    print(\"왼쪽:\", a)\n",
    "    print(\"오른쪽:\", b)\n",
    "\n",
    "my_print(b=100, a=200)"
   ]
  },
  {
   "cell_type": "markdown",
   "id": "048db676-eb11-4a76-b7db-f1d5cfda732e",
   "metadata": {},
   "source": [
    "## 231 ~ 240"
   ]
  },
  {
   "cell_type": "code",
   "execution_count": 156,
   "id": "dc74791b-ff90-4ec0-9569-61ca8e9e5e8d",
   "metadata": {},
   "outputs": [
    {
     "ename": "NameError",
     "evalue": "name 'result' is not defined",
     "output_type": "error",
     "traceback": [
      "\u001b[1;31m---------------------------------------------------------------------------\u001b[0m",
      "\u001b[1;31mNameError\u001b[0m                                 Traceback (most recent call last)",
      "Cell \u001b[1;32mIn[156], line 7\u001b[0m\n\u001b[0;32m      4\u001b[0m     result \u001b[38;5;241m=\u001b[39m n \u001b[38;5;241m+\u001b[39m \u001b[38;5;241m1\u001b[39m\n\u001b[0;32m      6\u001b[0m n_plus_1(\u001b[38;5;241m3\u001b[39m)\n\u001b[1;32m----> 7\u001b[0m \u001b[38;5;28mprint\u001b[39m (result)\n",
      "\u001b[1;31mNameError\u001b[0m: name 'result' is not defined"
     ]
    }
   ],
   "source": [
    "#231\n",
    "# 지정되지 않은 함수라 에러 뜰듯?\n",
    "def n_plus_1 (n) :\n",
    "    result = n + 1\n",
    "\n",
    "n_plus_1(3)\n",
    "print (result)"
   ]
  },
  {
   "cell_type": "code",
   "execution_count": 166,
   "id": "19d1e0af-d5ce-4dfe-b169-552486263061",
   "metadata": {},
   "outputs": [
    {
     "data": {
      "text/plain": [
       "4"
      ]
     },
     "execution_count": 166,
     "metadata": {},
     "output_type": "execute_result"
    }
   ],
   "source": [
    "def n_plus_1(n) :\n",
    "    result = n + 1\n",
    "    return(result)\n",
    "n_plus_1(3)"
   ]
  },
  {
   "cell_type": "code",
   "execution_count": 177,
   "id": "b1e4d6d1-7bba-41f1-b849-3a5a6d1102d5",
   "metadata": {},
   "outputs": [
    {
     "name": "stdout",
     "output_type": "stream",
     "text": [
      "www.naver.com\n"
     ]
    }
   ],
   "source": [
    "#232\n",
    "def make_url(text):\n",
    "    print(f'www.{text}.com')\n",
    "make_url(\"naver\")"
   ]
  },
  {
   "cell_type": "code",
   "execution_count": 180,
   "id": "cc4db314-acf1-489e-9d39-85ae9fd90461",
   "metadata": {},
   "outputs": [
    {
     "data": {
      "text/plain": [
       "['a', 'b', 'c', 'd']"
      ]
     },
     "execution_count": 180,
     "metadata": {},
     "output_type": "execute_result"
    }
   ],
   "source": [
    "#233\n",
    "def make_list(text):\n",
    "    a = list(text)\n",
    "    return(a)\n",
    "\n",
    "make_list(\"abcd\")"
   ]
  },
  {
   "cell_type": "code",
   "execution_count": 181,
   "id": "32dc39c9-6444-4b55-bb23-5ac34054266b",
   "metadata": {},
   "outputs": [
    {
     "name": "stdout",
     "output_type": "stream",
     "text": [
      "['a', 'b', 'c', 'd']\n"
     ]
    }
   ],
   "source": [
    "#233 return 없이\n",
    "def make_list(text):\n",
    "    print(list(text))\n",
    "\n",
    "make_list(\"abcd\")"
   ]
  },
  {
   "cell_type": "code",
   "execution_count": 186,
   "id": "d8b9ae16-2ef0-4821-8939-c40b566a075a",
   "metadata": {},
   "outputs": [
    {
     "data": {
      "text/plain": [
       "[4, 6, 8]"
      ]
     },
     "execution_count": 186,
     "metadata": {},
     "output_type": "execute_result"
    }
   ],
   "source": [
    "#234\n",
    "result = []\n",
    "def pickup_even(list):\n",
    "    for i in list:\n",
    "        if i%2==0:\n",
    "            result.append(i)\n",
    "    return result\n",
    "\n",
    "pickup_even([3, 4, 5, 6, 7, 8])    "
   ]
  },
  {
   "cell_type": "code",
   "execution_count": 191,
   "id": "d447f38e-76bc-493b-9e69-e9de767a6a03",
   "metadata": {},
   "outputs": [
    {
     "data": {
      "text/plain": [
       "1234567"
      ]
     },
     "execution_count": 191,
     "metadata": {},
     "output_type": "execute_result"
    }
   ],
   "source": [
    "#235\n",
    "def convert_int(str):\n",
    "    return int(str.replace(',',''))\n",
    "convert_int(\"1,234,567\")"
   ]
  },
  {
   "cell_type": "code",
   "execution_count": 192,
   "id": "58a8594a-72a5-48d5-813e-07ef93119671",
   "metadata": {},
   "outputs": [
    {
     "name": "stdout",
     "output_type": "stream",
     "text": [
      "22\n"
     ]
    }
   ],
   "source": [
    "#236\n",
    "def 함수(num) :\n",
    "    return num + 4\n",
    "\n",
    "a = 함수(10) # a= 14\n",
    "b = 함수(a) # b = 18\n",
    "c = 함수(b) # c = 22\n",
    "print(c)"
   ]
  },
  {
   "cell_type": "code",
   "execution_count": 193,
   "id": "d9411fb4-86c6-4009-a521-f3671f8d3b52",
   "metadata": {},
   "outputs": [
    {
     "name": "stdout",
     "output_type": "stream",
     "text": [
      "22\n"
     ]
    }
   ],
   "source": [
    "#237\n",
    "def 함수(num) :\n",
    "    return num + 4\n",
    "\n",
    "c = 함수(함수(함수(10))) #14 18 22\n",
    "print(c)"
   ]
  },
  {
   "cell_type": "code",
   "execution_count": 194,
   "id": "94c4aa24-9285-48e0-a40c-aaba6addca55",
   "metadata": {},
   "outputs": [
    {
     "name": "stdout",
     "output_type": "stream",
     "text": [
      "140\n"
     ]
    }
   ],
   "source": [
    "#238\n",
    "def 함수1(num) :\n",
    "    return num + 4\n",
    "\n",
    "def 함수2(num) :\n",
    "    return num * 10\n",
    "\n",
    "a = 함수1(10) # 10+4 = 14\n",
    "c = 함수2(a) # 14*10 = 140\n",
    "print(c) #140"
   ]
  },
  {
   "cell_type": "code",
   "execution_count": 195,
   "id": "facd8d62-f59b-4278-908b-419c3eeb5b33",
   "metadata": {},
   "outputs": [
    {
     "name": "stdout",
     "output_type": "stream",
     "text": [
      "16\n"
     ]
    }
   ],
   "source": [
    "#239\n",
    "def 함수1(num) :\n",
    "    return num + 4\n",
    "\n",
    "def 함수2(num) :\n",
    "    num = num + 2\n",
    "    return 함수1(num)\n",
    "\n",
    "c = 함수2(10) # 함수1(12) = 16\n",
    "print(c)"
   ]
  },
  {
   "cell_type": "code",
   "execution_count": 196,
   "id": "63a36d1f-7bbc-488a-b9b4-b2161147568a",
   "metadata": {},
   "outputs": [
    {
     "name": "stdout",
     "output_type": "stream",
     "text": [
      "28\n"
     ]
    }
   ],
   "source": [
    "#240\n",
    "def 함수0(num) :\n",
    "    return num * 2\n",
    "\n",
    "def 함수1(num) :\n",
    "    return 함수0(num + 2)\n",
    "\n",
    "def 함수2(num) :\n",
    "    num = num + 10\n",
    "    return 함수1(num)\n",
    "\n",
    "c = 함수2(2) #함수1(12) 함수0(14) 28\n",
    "print(c)"
   ]
  }
 ],
 "metadata": {
  "kernelspec": {
   "display_name": "Python 3 (ipykernel)",
   "language": "python",
   "name": "python3"
  },
  "language_info": {
   "codemirror_mode": {
    "name": "ipython",
    "version": 3
   },
   "file_extension": ".py",
   "mimetype": "text/x-python",
   "name": "python",
   "nbconvert_exporter": "python",
   "pygments_lexer": "ipython3",
   "version": "3.11.7"
  }
 },
 "nbformat": 4,
 "nbformat_minor": 5
}
