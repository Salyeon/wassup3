{
 "cells": [
  {
   "cell_type": "markdown",
   "id": "c55aa258-423b-45bb-93d5-3fbc5592221f",
   "metadata": {},
   "source": [
    "# 09. 파이썬 함수 "
   ]
  },
  {
   "cell_type": "markdown",
   "id": "cdd22d57-1ada-4e0d-823e-2ac724602109",
   "metadata": {},
   "source": [
    "## 201 ~ 210"
   ]
  },
  {
   "cell_type": "code",
   "execution_count": 17,
   "id": "14fc57f5-93b7-486a-92c3-39129ddfe478",
   "metadata": {},
   "outputs": [],
   "source": [
    "#201\n",
    "def print_coin():\n",
    "    return '비트코인'"
   ]
  },
  {
   "cell_type": "code",
   "execution_count": 18,
   "id": "4fd9f137-7091-4f28-a78c-ad020d4c88fb",
   "metadata": {},
   "outputs": [
    {
     "data": {
      "text/plain": [
       "'비트코인'"
      ]
     },
     "execution_count": 18,
     "metadata": {},
     "output_type": "execute_result"
    }
   ],
   "source": [
    "#202\n",
    "print_coin()"
   ]
  },
  {
   "cell_type": "code",
   "execution_count": 19,
   "id": "495c7dcd-de7f-43f9-bf00-46cc58453530",
   "metadata": {},
   "outputs": [],
   "source": [
    "#203\n",
    "for i in range(100):\n",
    "    print_coin()"
   ]
  },
  {
   "cell_type": "code",
   "execution_count": null,
   "id": "8a0e0c93-c06e-4df8-ad8d-90048256ce21",
   "metadata": {},
   "outputs": [],
   "source": [
    "#204"
   ]
  },
  {
   "cell_type": "code",
   "execution_count": null,
   "id": "4856d033-720f-4ec3-95ee-554a3bdaede9",
   "metadata": {},
   "outputs": [],
   "source": [
    "#205"
   ]
  },
  {
   "cell_type": "code",
   "execution_count": null,
   "id": "63f77076-1662-4e3f-9475-91c8fa423bdf",
   "metadata": {},
   "outputs": [],
   "source": [
    "#206"
   ]
  },
  {
   "cell_type": "code",
   "execution_count": null,
   "id": "ed4e98ea-de4b-48c4-bc70-4f62e611f673",
   "metadata": {},
   "outputs": [],
   "source": [
    "#207"
   ]
  },
  {
   "cell_type": "code",
   "execution_count": null,
   "id": "c1fe56bc-0647-4c01-9192-d6ee67d9de1a",
   "metadata": {},
   "outputs": [],
   "source": [
    "#208"
   ]
  },
  {
   "cell_type": "code",
   "execution_count": null,
   "id": "7f125754-a037-4b33-b15f-ac56e2793a1b",
   "metadata": {},
   "outputs": [],
   "source": [
    "#209"
   ]
  },
  {
   "cell_type": "code",
   "execution_count": null,
   "id": "85dc0797-d56d-44b4-a566-89fd8c4a3573",
   "metadata": {},
   "outputs": [],
   "source": [
    "#210"
   ]
  },
  {
   "cell_type": "markdown",
   "id": "0632b52e-01e0-4bac-8fb0-03fee3069f8b",
   "metadata": {},
   "source": [
    "## 211 ~ 220"
   ]
  },
  {
   "cell_type": "code",
   "execution_count": null,
   "id": "43b54d9b-1485-4551-80ca-64f86ff42b2c",
   "metadata": {},
   "outputs": [],
   "source": [
    "#211"
   ]
  },
  {
   "cell_type": "code",
   "execution_count": null,
   "id": "df9579c7-a0e9-4ffb-b4ae-9ecf125b6bd6",
   "metadata": {},
   "outputs": [],
   "source": [
    "#212"
   ]
  },
  {
   "cell_type": "code",
   "execution_count": null,
   "id": "07ef92be-a1b1-4834-9372-4bbc60905695",
   "metadata": {},
   "outputs": [],
   "source": [
    "#213"
   ]
  },
  {
   "cell_type": "code",
   "execution_count": null,
   "id": "8736a9b8-d6e6-4f6e-9643-3d649ccc0088",
   "metadata": {},
   "outputs": [],
   "source": [
    "#214"
   ]
  },
  {
   "cell_type": "code",
   "execution_count": null,
   "id": "1a4bf7c1-fd38-4e67-b97e-0633e2ab0a96",
   "metadata": {},
   "outputs": [],
   "source": [
    "#215"
   ]
  },
  {
   "cell_type": "code",
   "execution_count": null,
   "id": "07beab0f-f3ed-42e5-ade4-3dfbab0f6450",
   "metadata": {},
   "outputs": [],
   "source": [
    "#216"
   ]
  },
  {
   "cell_type": "code",
   "execution_count": null,
   "id": "89000da5-71aa-4cba-9ef2-12f755cb8a18",
   "metadata": {},
   "outputs": [],
   "source": [
    "#217"
   ]
  },
  {
   "cell_type": "code",
   "execution_count": null,
   "id": "ffa36bae-9d20-468c-a853-22aa86193545",
   "metadata": {},
   "outputs": [],
   "source": [
    "#218"
   ]
  },
  {
   "cell_type": "code",
   "execution_count": null,
   "id": "3a9f7ea9-6cef-4716-9421-50b6a9887b03",
   "metadata": {},
   "outputs": [],
   "source": [
    "#219"
   ]
  },
  {
   "cell_type": "code",
   "execution_count": null,
   "id": "7268931a-01de-4896-bba0-9c15e779751f",
   "metadata": {},
   "outputs": [],
   "source": [
    "#220"
   ]
  },
  {
   "cell_type": "markdown",
   "id": "7b6a9cf5-5628-433c-b96e-9c1d94baca9a",
   "metadata": {},
   "source": [
    "## 221 ~ 230"
   ]
  },
  {
   "cell_type": "code",
   "execution_count": null,
   "id": "da25b0b1-91e2-498b-bad6-373c87786e89",
   "metadata": {},
   "outputs": [],
   "source": [
    "#221"
   ]
  },
  {
   "cell_type": "code",
   "execution_count": null,
   "id": "eb6cb648-ba2f-44d4-b28c-6d2975785795",
   "metadata": {},
   "outputs": [],
   "source": [
    "#222"
   ]
  },
  {
   "cell_type": "code",
   "execution_count": null,
   "id": "82a64f3b-2ecf-4b1d-b20d-ca8a307b91d9",
   "metadata": {},
   "outputs": [],
   "source": [
    "#223"
   ]
  },
  {
   "cell_type": "code",
   "execution_count": null,
   "id": "f33d4eab-4f78-412c-b5ca-0dbac36059bb",
   "metadata": {},
   "outputs": [],
   "source": [
    "#224"
   ]
  },
  {
   "cell_type": "code",
   "execution_count": null,
   "id": "92cb2dc1-0a8c-4fa7-b3e6-63906999cb40",
   "metadata": {},
   "outputs": [],
   "source": [
    "#225"
   ]
  },
  {
   "cell_type": "code",
   "execution_count": null,
   "id": "1b4df312-bddb-4c79-bb21-64fbf28978c7",
   "metadata": {},
   "outputs": [],
   "source": [
    "#226"
   ]
  },
  {
   "cell_type": "code",
   "execution_count": null,
   "id": "caa0427e-25b2-404d-8396-3cb702a32cf6",
   "metadata": {},
   "outputs": [],
   "source": [
    "#227"
   ]
  },
  {
   "cell_type": "code",
   "execution_count": null,
   "id": "a9cb8e1d-664f-4a3b-9d27-590f80a9cfb0",
   "metadata": {},
   "outputs": [],
   "source": [
    "#228"
   ]
  },
  {
   "cell_type": "code",
   "execution_count": null,
   "id": "02bef9ba-c112-440f-ae2d-72dca5aeb358",
   "metadata": {},
   "outputs": [],
   "source": [
    "#229"
   ]
  },
  {
   "cell_type": "code",
   "execution_count": null,
   "id": "553879ac-dd05-4f51-931f-abb65a0663e7",
   "metadata": {},
   "outputs": [],
   "source": [
    "#230"
   ]
  },
  {
   "cell_type": "markdown",
   "id": "048db676-eb11-4a76-b7db-f1d5cfda732e",
   "metadata": {},
   "source": [
    "## 231 ~ 240"
   ]
  },
  {
   "cell_type": "code",
   "execution_count": null,
   "id": "dc74791b-ff90-4ec0-9569-61ca8e9e5e8d",
   "metadata": {},
   "outputs": [],
   "source": [
    "#231"
   ]
  },
  {
   "cell_type": "code",
   "execution_count": null,
   "id": "b1e4d6d1-7bba-41f1-b849-3a5a6d1102d5",
   "metadata": {},
   "outputs": [],
   "source": [
    "#232"
   ]
  },
  {
   "cell_type": "code",
   "execution_count": null,
   "id": "cc4db314-acf1-489e-9d39-85ae9fd90461",
   "metadata": {},
   "outputs": [],
   "source": [
    "#233"
   ]
  },
  {
   "cell_type": "code",
   "execution_count": null,
   "id": "d8b9ae16-2ef0-4821-8939-c40b566a075a",
   "metadata": {},
   "outputs": [],
   "source": [
    "#234"
   ]
  },
  {
   "cell_type": "code",
   "execution_count": null,
   "id": "d447f38e-76bc-493b-9e69-e9de767a6a03",
   "metadata": {},
   "outputs": [],
   "source": [
    "#235"
   ]
  },
  {
   "cell_type": "code",
   "execution_count": null,
   "id": "58a8594a-72a5-48d5-813e-07ef93119671",
   "metadata": {},
   "outputs": [],
   "source": [
    "#236"
   ]
  },
  {
   "cell_type": "code",
   "execution_count": null,
   "id": "d9411fb4-86c6-4009-a521-f3671f8d3b52",
   "metadata": {},
   "outputs": [],
   "source": [
    "#237"
   ]
  },
  {
   "cell_type": "code",
   "execution_count": null,
   "id": "94c4aa24-9285-48e0-a40c-aaba6addca55",
   "metadata": {},
   "outputs": [],
   "source": [
    "#238"
   ]
  },
  {
   "cell_type": "code",
   "execution_count": null,
   "id": "facd8d62-f59b-4278-908b-419c3eeb5b33",
   "metadata": {},
   "outputs": [],
   "source": [
    "#239"
   ]
  },
  {
   "cell_type": "code",
   "execution_count": 1,
   "id": "63a36d1f-7bbc-488a-b9b4-b2161147568a",
   "metadata": {},
   "outputs": [],
   "source": [
    "#240"
   ]
  }
 ],
 "metadata": {
  "kernelspec": {
   "display_name": "Python 3 (ipykernel)",
   "language": "python",
   "name": "python3"
  },
  "language_info": {
   "codemirror_mode": {
    "name": "ipython",
    "version": 3
   },
   "file_extension": ".py",
   "mimetype": "text/x-python",
   "name": "python",
   "nbconvert_exporter": "python",
   "pygments_lexer": "ipython3",
   "version": "3.11.7"
  }
 },
 "nbformat": 4,
 "nbformat_minor": 5
}
