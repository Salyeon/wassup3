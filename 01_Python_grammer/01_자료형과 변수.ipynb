{
 "cells": [
  {
   "cell_type": "markdown",
   "id": "153ec3ac-9803-45fc-94fa-fce35e17cfa1",
   "metadata": {},
   "source": [
    "# 숫자 자료형"
   ]
  },
  {
   "cell_type": "code",
   "execution_count": 1,
   "id": "779c4ff7-ae54-4731-bdef-cfb0627ccca6",
   "metadata": {},
   "outputs": [],
   "source": [
    "a = 123"
   ]
  },
  {
   "cell_type": "code",
   "execution_count": 2,
   "id": "075a2500-8d7a-4149-8500-83e159a6830a",
   "metadata": {},
   "outputs": [
    {
     "data": {
      "text/plain": [
       "123"
      ]
     },
     "execution_count": 2,
     "metadata": {},
     "output_type": "execute_result"
    }
   ],
   "source": [
    "a"
   ]
  },
  {
   "cell_type": "code",
   "execution_count": 3,
   "id": "1ec0b4ee-0ffe-431d-9705-3c429cf30403",
   "metadata": {},
   "outputs": [
    {
     "data": {
      "text/plain": [
       "-178"
      ]
     },
     "execution_count": 3,
     "metadata": {},
     "output_type": "execute_result"
    }
   ],
   "source": [
    "a = -178\n",
    "a"
   ]
  },
  {
   "cell_type": "code",
   "execution_count": 4,
   "id": "cd055961-3547-4b67-af30-de9dba8ee0c9",
   "metadata": {},
   "outputs": [
    {
     "data": {
      "text/plain": [
       "0"
      ]
     },
     "execution_count": 4,
     "metadata": {},
     "output_type": "execute_result"
    }
   ],
   "source": [
    "a = 0\n",
    "a"
   ]
  },
  {
   "cell_type": "code",
   "execution_count": 5,
   "id": "394bab95-e981-4ef4-afcd-dba90288546c",
   "metadata": {},
   "outputs": [
    {
     "data": {
      "text/plain": [
       "1.2"
      ]
     },
     "execution_count": 5,
     "metadata": {},
     "output_type": "execute_result"
    }
   ],
   "source": [
    "a = 1.2\n",
    "a"
   ]
  },
  {
   "cell_type": "code",
   "execution_count": 8,
   "id": "0fef8a6d-64b9-4cc7-abf1-fb81e8776bcf",
   "metadata": {},
   "outputs": [
    {
     "data": {
      "text/plain": [
       "-3.45"
      ]
     },
     "execution_count": 8,
     "metadata": {},
     "output_type": "execute_result"
    }
   ],
   "source": [
    "a = -3.45\n",
    "a"
   ]
  },
  {
   "cell_type": "code",
   "execution_count": 9,
   "id": "dbf39061-1538-4f72-94a3-bfe7638a781d",
   "metadata": {},
   "outputs": [
    {
     "data": {
      "text/plain": [
       "42400000000.0"
      ]
     },
     "execution_count": 9,
     "metadata": {},
     "output_type": "execute_result"
    }
   ],
   "source": [
    "a = 4.24E10\n",
    "a"
   ]
  },
  {
   "cell_type": "code",
   "execution_count": 10,
   "id": "153077ae-aae4-4bde-abfe-2addf93801ba",
   "metadata": {},
   "outputs": [
    {
     "data": {
      "text/plain": [
       "4.24e-10"
      ]
     },
     "execution_count": 10,
     "metadata": {},
     "output_type": "execute_result"
    }
   ],
   "source": [
    "a = 4.24E-10\n",
    "a"
   ]
  },
  {
   "cell_type": "code",
   "execution_count": 11,
   "id": "e2ced9b4-6bf7-4c48-a81e-7fdd5ac0219b",
   "metadata": {},
   "outputs": [
    {
     "data": {
      "text/plain": [
       "127"
      ]
     },
     "execution_count": 11,
     "metadata": {},
     "output_type": "execute_result"
    }
   ],
   "source": [
    "a = 0o177\n",
    "a"
   ]
  },
  {
   "cell_type": "code",
   "execution_count": 14,
   "id": "4cb24d39-5362-4547-81cf-c874c504c94d",
   "metadata": {},
   "outputs": [
    {
     "data": {
      "text/plain": [
       "(2303, 2748)"
      ]
     },
     "execution_count": 14,
     "metadata": {},
     "output_type": "execute_result"
    }
   ],
   "source": [
    "a = 0x8ff\n",
    "b = 0xABC\n",
    "a,b"
   ]
  },
  {
   "cell_type": "markdown",
   "id": "ed3a9282-64d5-4e08-b159-9c069af3b864",
   "metadata": {},
   "source": [
    "## 사칙연산"
   ]
  },
  {
   "cell_type": "code",
   "execution_count": 16,
   "id": "9a01be2d-1647-470b-afec-96374a19c189",
   "metadata": {},
   "outputs": [
    {
     "data": {
      "text/plain": [
       "7"
      ]
     },
     "execution_count": 16,
     "metadata": {},
     "output_type": "execute_result"
    }
   ],
   "source": [
    "a = 3\n",
    "b = 4\n",
    "a + b"
   ]
  },
  {
   "cell_type": "code",
   "execution_count": 17,
   "id": "cae7002b-b03a-4625-955f-2c7d06539a75",
   "metadata": {},
   "outputs": [
    {
     "data": {
      "text/plain": [
       "-1"
      ]
     },
     "execution_count": 17,
     "metadata": {},
     "output_type": "execute_result"
    }
   ],
   "source": [
    "a-b"
   ]
  },
  {
   "cell_type": "code",
   "execution_count": 18,
   "id": "b982b60f-97d7-4e31-9ead-363cbd562c11",
   "metadata": {},
   "outputs": [
    {
     "data": {
      "text/plain": [
       "12"
      ]
     },
     "execution_count": 18,
     "metadata": {},
     "output_type": "execute_result"
    }
   ],
   "source": [
    "a*b"
   ]
  },
  {
   "cell_type": "code",
   "execution_count": 19,
   "id": "419a0f2a-8ad4-4c4e-9c91-3d2ea2d617f3",
   "metadata": {},
   "outputs": [
    {
     "data": {
      "text/plain": [
       "0.75"
      ]
     },
     "execution_count": 19,
     "metadata": {},
     "output_type": "execute_result"
    }
   ],
   "source": [
    "a/b"
   ]
  },
  {
   "cell_type": "markdown",
   "id": "d6991945-dd08-40a5-95e8-c8c27005bd93",
   "metadata": {},
   "source": [
    "## 제곱 연산"
   ]
  },
  {
   "cell_type": "code",
   "execution_count": 20,
   "id": "5bfa3d91-4385-47c5-abfd-a4dd2bdc9469",
   "metadata": {},
   "outputs": [
    {
     "data": {
      "text/plain": [
       "81"
      ]
     },
     "execution_count": 20,
     "metadata": {},
     "output_type": "execute_result"
    }
   ],
   "source": [
    "a**b"
   ]
  },
  {
   "cell_type": "markdown",
   "id": "25c0c57b-96f7-4c23-88b0-92fb2cd29e4e",
   "metadata": {},
   "source": [
    "## 나눗셈 나머지 연산"
   ]
  },
  {
   "cell_type": "code",
   "execution_count": 21,
   "id": "a9641494-7122-4d3b-8943-08e9c6108e16",
   "metadata": {},
   "outputs": [
    {
     "data": {
      "text/plain": [
       "1"
      ]
     },
     "execution_count": 21,
     "metadata": {},
     "output_type": "execute_result"
    }
   ],
   "source": [
    "7 % 3"
   ]
  },
  {
   "cell_type": "code",
   "execution_count": 22,
   "id": "9063e9e0-3d2d-485b-91b9-96973920c5dc",
   "metadata": {},
   "outputs": [
    {
     "data": {
      "text/plain": [
       "3"
      ]
     },
     "execution_count": 22,
     "metadata": {},
     "output_type": "execute_result"
    }
   ],
   "source": [
    "3 % 7"
   ]
  },
  {
   "cell_type": "markdown",
   "id": "4efc3ddb-6ebc-4e0e-b12a-b90f5206b24f",
   "metadata": {},
   "source": [
    "## 나눗셈 몫 연산"
   ]
  },
  {
   "cell_type": "code",
   "execution_count": 23,
   "id": "38b170c8-23a0-4dec-a17d-d1d99b9548cf",
   "metadata": {},
   "outputs": [
    {
     "data": {
      "text/plain": [
       "1"
      ]
     },
     "execution_count": 23,
     "metadata": {},
     "output_type": "execute_result"
    }
   ],
   "source": [
    "7 // 4"
   ]
  },
  {
   "cell_type": "code",
   "execution_count": 24,
   "id": "c6721614-7e6a-492a-ae1f-aa2c4d2c56cd",
   "metadata": {},
   "outputs": [
    {
     "data": {
      "text/plain": [
       "1.75"
      ]
     },
     "execution_count": 24,
     "metadata": {},
     "output_type": "execute_result"
    }
   ],
   "source": [
    "7 / 4"
   ]
  },
  {
   "cell_type": "markdown",
   "id": "1a88982d-b4be-4185-a555-b1c4ed56f6e3",
   "metadata": {},
   "source": [
    "# 문자열 자료형"
   ]
  },
  {
   "cell_type": "code",
   "execution_count": 26,
   "id": "36a5814b-e11c-4567-8c29-86055b9cc5c2",
   "metadata": {},
   "outputs": [
    {
     "data": {
      "text/plain": [
       "'Hello World'"
      ]
     },
     "execution_count": 26,
     "metadata": {},
     "output_type": "execute_result"
    }
   ],
   "source": [
    "\"Hello World\""
   ]
  },
  {
   "cell_type": "code",
   "execution_count": 27,
   "id": "863066b4-cfea-455f-99b8-8906775e61a9",
   "metadata": {},
   "outputs": [
    {
     "ename": "SyntaxError",
     "evalue": "invalid syntax (961555472.py, line 1)",
     "output_type": "error",
     "traceback": [
      "\u001b[1;36m  Cell \u001b[1;32mIn[27], line 1\u001b[1;36m\u001b[0m\n\u001b[1;33m    Hello World\u001b[0m\n\u001b[1;37m          ^\u001b[0m\n\u001b[1;31mSyntaxError\u001b[0m\u001b[1;31m:\u001b[0m invalid syntax\n"
     ]
    }
   ],
   "source": [
    "Hello World"
   ]
  },
  {
   "cell_type": "code",
   "execution_count": 33,
   "id": "e9d31c16-8bdb-4d8b-abc4-9195287df6f3",
   "metadata": {},
   "outputs": [
    {
     "data": {
      "text/plain": [
       "'hello world'"
      ]
     },
     "execution_count": 33,
     "metadata": {},
     "output_type": "execute_result"
    }
   ],
   "source": [
    "'hello world'"
   ]
  },
  {
   "cell_type": "code",
   "execution_count": 35,
   "id": "f409843b-b1ce-4e25-ac6f-7e33246484f2",
   "metadata": {},
   "outputs": [
    {
     "data": {
      "text/plain": [
       "' Hello World '"
      ]
     },
     "execution_count": 35,
     "metadata": {},
     "output_type": "execute_result"
    }
   ],
   "source": [
    "\"\"\" Hello World \"\"\""
   ]
  },
  {
   "cell_type": "code",
   "execution_count": 36,
   "id": "9acd38c9-a097-4f95-80d0-5c9ac75f6f3f",
   "metadata": {},
   "outputs": [
    {
     "data": {
      "text/plain": [
       "'\\nhello wordld\\n'"
      ]
     },
     "execution_count": 36,
     "metadata": {},
     "output_type": "execute_result"
    }
   ],
   "source": [
    "'''\n",
    "hello wordld\n",
    "'''"
   ]
  },
  {
   "cell_type": "markdown",
   "id": "0708ef7a-cd9d-411a-b863-0131e208ef3d",
   "metadata": {},
   "source": [
    "## 문자열 안에 작은 따옴표나 큰 따옴표를 포함시키고 싶을 때\n",
    "```\n",
    "Python's favorite food is perl\n",
    "```"
   ]
  },
  {
   "cell_type": "code",
   "execution_count": 37,
   "id": "7b77e7bc-7c90-4699-bfc3-a20201172fba",
   "metadata": {},
   "outputs": [
    {
     "ename": "SyntaxError",
     "evalue": "unterminated string literal (detected at line 1) (2917458957.py, line 1)",
     "output_type": "error",
     "traceback": [
      "\u001b[1;36m  Cell \u001b[1;32mIn[37], line 1\u001b[1;36m\u001b[0m\n\u001b[1;33m    Python's favorite food is perl\u001b[0m\n\u001b[1;37m          ^\u001b[0m\n\u001b[1;31mSyntaxError\u001b[0m\u001b[1;31m:\u001b[0m unterminated string literal (detected at line 1)\n"
     ]
    }
   ],
   "source": [
    "Python's favorite food is perl"
   ]
  },
  {
   "cell_type": "code",
   "execution_count": 39,
   "id": "7b0149fb-0854-4d37-9639-87ff51c7634f",
   "metadata": {},
   "outputs": [
    {
     "ename": "SyntaxError",
     "evalue": "unterminated string literal (detected at line 1) (1974562179.py, line 1)",
     "output_type": "error",
     "traceback": [
      "\u001b[1;36m  Cell \u001b[1;32mIn[39], line 1\u001b[1;36m\u001b[0m\n\u001b[1;33m    'Python's favorite food is perl'\u001b[0m\n\u001b[1;37m                                   ^\u001b[0m\n\u001b[1;31mSyntaxError\u001b[0m\u001b[1;31m:\u001b[0m unterminated string literal (detected at line 1)\n"
     ]
    }
   ],
   "source": [
    "'Python's favorite food is perl'"
   ]
  },
  {
   "cell_type": "code",
   "execution_count": 41,
   "id": "94dcebef-3a56-4ab9-b245-d1381756981e",
   "metadata": {},
   "outputs": [
    {
     "data": {
      "text/plain": [
       "\"Python's favorite food is perl\""
      ]
     },
     "execution_count": 41,
     "metadata": {},
     "output_type": "execute_result"
    }
   ],
   "source": [
    "\"Python's favorite food is perl\" #<- 같은 성격이 아닌 다른 성격으로 표시(', \")"
   ]
  },
  {
   "cell_type": "code",
   "execution_count": 42,
   "id": "1c3f0cf2-8655-4399-9880-6f00de84eaef",
   "metadata": {},
   "outputs": [
    {
     "ename": "SyntaxError",
     "evalue": "invalid syntax (2498016959.py, line 1)",
     "output_type": "error",
     "traceback": [
      "\u001b[1;36m  Cell \u001b[1;32mIn[42], line 1\u001b[1;36m\u001b[0m\n\u001b[1;33m    \"Python is very easy.\" he says.\u001b[0m\n\u001b[1;37m                           ^\u001b[0m\n\u001b[1;31mSyntaxError\u001b[0m\u001b[1;31m:\u001b[0m invalid syntax\n"
     ]
    }
   ],
   "source": [
    "\"Python is very easy.\" he says."
   ]
  },
  {
   "cell_type": "code",
   "execution_count": 43,
   "id": "fd29bbfc-1971-4fa5-a158-d65e497f812f",
   "metadata": {},
   "outputs": [
    {
     "data": {
      "text/plain": [
       "'\"Python is very easy.\" he says.'"
      ]
     },
     "execution_count": 43,
     "metadata": {},
     "output_type": "execute_result"
    }
   ],
   "source": [
    "'\"Python is very easy.\" he says.'"
   ]
  },
  {
   "cell_type": "code",
   "execution_count": null,
   "id": "48ff38a3-1b67-423d-be8d-1ca918cccd50",
   "metadata": {},
   "outputs": [],
   "source": [
    "'Python\\'s favorite food is perl' # \\ = 원화 표시: 게헹문자 구분(\\n으로 줄 바꿈 같은거)"
   ]
  },
  {
   "cell_type": "code",
   "execution_count": 45,
   "id": "15725dd7-c8a1-466d-92b4-907ed582bc58",
   "metadata": {},
   "outputs": [
    {
     "data": {
      "text/plain": [
       "'Life is too short \\n You need python'"
      ]
     },
     "execution_count": 45,
     "metadata": {},
     "output_type": "execute_result"
    }
   ],
   "source": [
    "\"Life is too short \\n You need python\""
   ]
  },
  {
   "cell_type": "code",
   "execution_count": 46,
   "id": "770e6398-8940-4d28-ab70-1e369e3a29ee",
   "metadata": {},
   "outputs": [
    {
     "data": {
      "text/plain": [
       "'Life is too short \\n You need python'"
      ]
     },
     "execution_count": 46,
     "metadata": {},
     "output_type": "execute_result"
    }
   ],
   "source": [
    "multiline = \"Life is too short \\n You need python\"\n",
    "multiline"
   ]
  },
  {
   "cell_type": "code",
   "execution_count": 47,
   "id": "8d3544f4-0146-46bb-a4a1-baa2ea15c354",
   "metadata": {},
   "outputs": [
    {
     "name": "stdout",
     "output_type": "stream",
     "text": [
      "Life is too short \n",
      " You need python\n"
     ]
    }
   ],
   "source": [
    "print(multiline)"
   ]
  },
  {
   "cell_type": "code",
   "execution_count": null,
   "id": "20b716d1-f349-4ab9-97bc-6394ce983bc6",
   "metadata": {},
   "outputs": [],
   "source": [
    "# 개발환경에서 이루어지는 것인지? 외장 라이브러리에서 이루어지는 것인지?\n",
    "# 주피터 노트북 편의기능(입력만 해도 나오던 것): IDE에서 변수만 적어도 변수 정보를 출력하는 편의기능\n",
    "#실제 동작하게 하려면 print 기능을 활용해야함\n"
   ]
  },
  {
   "cell_type": "code",
   "execution_count": 48,
   "id": "b6c30860-15f4-4953-93fe-6c655073ea5e",
   "metadata": {},
   "outputs": [],
   "source": [
    "multiline = '''\n",
    "Life is too short\n",
    "You need python\n",
    "'''"
   ]
  },
  {
   "cell_type": "code",
   "execution_count": 49,
   "id": "13bfa30a-c00c-440f-9979-6a819890b63e",
   "metadata": {},
   "outputs": [
    {
     "data": {
      "text/plain": [
       "'\\nLife is too short\\nYou need python\\n'"
      ]
     },
     "execution_count": 49,
     "metadata": {},
     "output_type": "execute_result"
    }
   ],
   "source": [
    "multiline"
   ]
  },
  {
   "cell_type": "code",
   "execution_count": 50,
   "id": "c11ff0f5-2fa9-4d5c-8452-f5775887cfb1",
   "metadata": {},
   "outputs": [
    {
     "name": "stdout",
     "output_type": "stream",
     "text": [
      "\n",
      "Life is too short\n",
      "You need python\n",
      "\n"
     ]
    }
   ],
   "source": [
    "print(multiline)"
   ]
  },
  {
   "cell_type": "markdown",
   "id": "b77b8e9d-9c11-4feb-a0cf-7f805008ff3b",
   "metadata": {},
   "source": [
    "## 문자열 연산하기"
   ]
  },
  {
   "cell_type": "code",
   "execution_count": 52,
   "id": "d8ac145a-4e24-462f-831a-df605096b2ec",
   "metadata": {},
   "outputs": [
    {
     "data": {
      "text/plain": [
       "'Python is fun!'"
      ]
     },
     "execution_count": 52,
     "metadata": {},
     "output_type": "execute_result"
    }
   ],
   "source": [
    "head = \"Python\"\n",
    "tail = \" is fun!\"\n",
    "head + tail # 수치는 계산하고, 문자열은 연결해주는 것"
   ]
  },
  {
   "cell_type": "code",
   "execution_count": 55,
   "id": "04752c66-77b2-4b30-aa88-a4a2e10212b3",
   "metadata": {},
   "outputs": [
    {
     "data": {
      "text/plain": [
       "'pythonpythonpythonpythonpython'"
      ]
     },
     "execution_count": 55,
     "metadata": {},
     "output_type": "execute_result"
    }
   ],
   "source": [
    "a = 'python'\n",
    "a * 5"
   ]
  },
  {
   "cell_type": "markdown",
   "id": "c5a648a6-fc7a-48f6-a5a4-b71ecb8967b5",
   "metadata": {},
   "source": [
    "---"
   ]
  },
  {
   "cell_type": "code",
   "execution_count": 59,
   "id": "eb6f6880-0cdd-4f47-9a96-9ca297bd8317",
   "metadata": {},
   "outputs": [
    {
     "data": {
      "text/plain": [
       "17"
      ]
     },
     "execution_count": 59,
     "metadata": {},
     "output_type": "execute_result"
    }
   ],
   "source": [
    "a = \"Life is too short\"\n",
    "len(a) # 값의 길이, 문자열의 길이(공백도 1로 포함됨, \"\"은 제외하고 L~t까지 길이를 센 것)"
   ]
  },
  {
   "cell_type": "markdown",
   "id": "8e618458-749d-43ed-a572-e5be6ccd6b7a",
   "metadata": {},
   "source": [
    "## 문자열 인덱싱"
   ]
  },
  {
   "cell_type": "code",
   "execution_count": 60,
   "id": "16dd12bc-c448-4d3a-9b4b-7b98b110b73b",
   "metadata": {},
   "outputs": [],
   "source": [
    "a = \"Life is too short, You need Python\""
   ]
  },
  {
   "cell_type": "code",
   "execution_count": 61,
   "id": "2ee9cc2e-7f63-4a62-926a-d8b1c5eb73e9",
   "metadata": {},
   "outputs": [
    {
     "data": {
      "text/plain": [
       "34"
      ]
     },
     "execution_count": 61,
     "metadata": {},
     "output_type": "execute_result"
    }
   ],
   "source": [
    "len(a)"
   ]
  },
  {
   "cell_type": "code",
   "execution_count": 63,
   "id": "09acc005-f10a-4936-9a1e-7db027747981",
   "metadata": {},
   "outputs": [
    {
     "data": {
      "text/plain": [
       "'e'"
      ]
     },
     "execution_count": 63,
     "metadata": {},
     "output_type": "execute_result"
    }
   ],
   "source": [
    "a[3] # a라는 index에서 4번째(0부터 있으므로 4번째꺼를 표시함) index를 표시해줘"
   ]
  },
  {
   "cell_type": "code",
   "execution_count": 66,
   "id": "bd19cc34-d9a6-4e28-ad41-fe611bb8436a",
   "metadata": {},
   "outputs": [
    {
     "data": {
      "text/plain": [
       "'h'"
      ]
     },
     "execution_count": 66,
     "metadata": {},
     "output_type": "execute_result"
    }
   ],
   "source": [
    "a[13]"
   ]
  },
  {
   "cell_type": "code",
   "execution_count": 67,
   "id": "a5ae6efa-c1d6-441b-9ba1-e934159ddb48",
   "metadata": {},
   "outputs": [
    {
     "data": {
      "text/plain": [
       "'n'"
      ]
     },
     "execution_count": 67,
     "metadata": {},
     "output_type": "execute_result"
    }
   ],
   "source": [
    "a[-1] #0부터 시작, 뒤는 -1부터 시작"
   ]
  },
  {
   "cell_type": "code",
   "execution_count": 68,
   "id": "bbba7776-70f2-44aa-addf-c6a04a640dfc",
   "metadata": {},
   "outputs": [
    {
     "data": {
      "text/plain": [
       "' '"
      ]
     },
     "execution_count": 68,
     "metadata": {},
     "output_type": "execute_result"
    }
   ],
   "source": [
    "a[-7]"
   ]
  },
  {
   "cell_type": "code",
   "execution_count": 69,
   "id": "f2367c08-d9dd-4b17-bd52-84df5cd3dd59",
   "metadata": {},
   "outputs": [
    {
     "data": {
      "text/plain": [
       "'L'"
      ]
     },
     "execution_count": 69,
     "metadata": {},
     "output_type": "execute_result"
    }
   ],
   "source": [
    "a[-0]"
   ]
  },
  {
   "cell_type": "markdown",
   "id": "6bfcccfc-dee1-4fb5-84c8-7e8fb5fa93ff",
   "metadata": {},
   "source": [
    "## 문자열 슬라이싱"
   ]
  },
  {
   "cell_type": "code",
   "execution_count": 71,
   "id": "41ab983d-85c5-4004-b05f-2d93494f605e",
   "metadata": {},
   "outputs": [],
   "source": [
    "#구간을 잘라내어 추출 !\n",
    "a = \"Life is too short, You need Python\""
   ]
  },
  {
   "cell_type": "code",
   "execution_count": 74,
   "id": "b7a5d2b3-4f0b-4fe1-9a7e-2f51799bd26e",
   "metadata": {},
   "outputs": [
    {
     "data": {
      "text/plain": [
       "'Life'"
      ]
     },
     "execution_count": 74,
     "metadata": {},
     "output_type": "execute_result"
    }
   ],
   "source": [
    "a[0]+a[1]+a[2]+a[3]"
   ]
  },
  {
   "cell_type": "code",
   "execution_count": 76,
   "id": "f208b901-c745-4b59-a35f-69fb6216fab0",
   "metadata": {},
   "outputs": [
    {
     "data": {
      "text/plain": [
       "'Life'"
      ]
     },
     "execution_count": 76,
     "metadata": {},
     "output_type": "execute_result"
    }
   ],
   "source": [
    "a[start:end]"
   ]
  },
  {
   "cell_type": "code",
   "execution_count": 80,
   "id": "5634855d-5490-49f5-bfcd-7b0a9f3dc4da",
   "metadata": {},
   "outputs": [
    {
     "data": {
      "text/plain": [
       "'Lif'"
      ]
     },
     "execution_count": 80,
     "metadata": {},
     "output_type": "execute_result"
    }
   ],
   "source": [
    "a[0:3] # end: -1이 들어감 -> life를 가져오려면 4까지 지정해야함\n",
    "#why? 연산때문에 그럼: 범위간 계산할 때 겹치지 않게 하기 위함"
   ]
  },
  {
   "cell_type": "code",
   "execution_count": 79,
   "id": "2bcbb9da-4d11-41ba-afa3-d57044227040",
   "metadata": {},
   "outputs": [
    {
     "data": {
      "text/plain": [
       "'Life'"
      ]
     },
     "execution_count": 79,
     "metadata": {},
     "output_type": "execute_result"
    }
   ],
   "source": [
    "a[0:4]"
   ]
  },
  {
   "cell_type": "code",
   "execution_count": 87,
   "id": "d254ddd0-d1be-42e5-8c8a-e80b70d196d3",
   "metadata": {},
   "outputs": [
    {
     "data": {
      "text/plain": [
       "'You need Python'"
      ]
     },
     "execution_count": 87,
     "metadata": {},
     "output_type": "execute_result"
    }
   ],
   "source": [
    "a[-15:] # -15부터 끝나는 곳까지 전부 다 가져와! 라는 뜻"
   ]
  },
  {
   "cell_type": "code",
   "execution_count": 88,
   "id": "43ef973f-10ed-4789-90da-db44165e499d",
   "metadata": {},
   "outputs": [
    {
     "data": {
      "text/plain": [
       "'Life is too short, You need Python'"
      ]
     },
     "execution_count": 88,
     "metadata": {},
     "output_type": "execute_result"
    }
   ],
   "source": [
    "a[:] # start와 제약 없이 끝까지 전부 다 보여줘"
   ]
  },
  {
   "cell_type": "code",
   "execution_count": 89,
   "id": "2022ef39-a60e-489d-abe2-84173180e6eb",
   "metadata": {},
   "outputs": [
    {
     "data": {
      "text/plain": [
       "'You need'"
      ]
     },
     "execution_count": 89,
     "metadata": {},
     "output_type": "execute_result"
    }
   ],
   "source": [
    "a[19:-7]"
   ]
  },
  {
   "cell_type": "markdown",
   "id": "c8b8999e-80bb-4389-a04f-c7c9e8897948",
   "metadata": {},
   "source": [
    "## 슬라이싱으로 문자열 나누기"
   ]
  },
  {
   "cell_type": "code",
   "execution_count": 102,
   "id": "be04097b-4437-4f89-b9e7-4b41a6a6edfd",
   "metadata": {},
   "outputs": [],
   "source": [
    "a = \"20240610Sunny\" # date날짜와 sunny를 구분하고 싶을 때\n",
    "date = a[:8]\n",
    "weather = a[8:]"
   ]
  },
  {
   "cell_type": "code",
   "execution_count": 103,
   "id": "5369c795-82a6-454f-a474-47110806f29c",
   "metadata": {},
   "outputs": [
    {
     "data": {
      "text/plain": [
       "'20240610'"
      ]
     },
     "execution_count": 103,
     "metadata": {},
     "output_type": "execute_result"
    }
   ],
   "source": [
    "date"
   ]
  },
  {
   "cell_type": "code",
   "execution_count": 104,
   "id": "adf3aeb8-a57a-4a08-ae7d-81b929ccc5f0",
   "metadata": {},
   "outputs": [
    {
     "data": {
      "text/plain": [
       "'Sunny'"
      ]
     },
     "execution_count": 104,
     "metadata": {},
     "output_type": "execute_result"
    }
   ],
   "source": [
    "weather"
   ]
  },
  {
   "cell_type": "code",
   "execution_count": 105,
   "id": "222506f2-7e8b-402c-b181-d250a41d9ef7",
   "metadata": {},
   "outputs": [
    {
     "data": {
      "text/plain": [
       "('2024', '0610', 'Sunny')"
      ]
     },
     "execution_count": 105,
     "metadata": {},
     "output_type": "execute_result"
    }
   ],
   "source": [
    "year = a[:4]\n",
    "day = a[4:8]\n",
    "year, day, weather"
   ]
  },
  {
   "cell_type": "markdown",
   "id": "e1bb4a8f-1b67-4be2-b32a-4f964002af1f",
   "metadata": {},
   "source": [
    "## 문자열 수정하기"
   ]
  },
  {
   "cell_type": "code",
   "execution_count": 115,
   "id": "ce76c32a-f531-43f4-9c97-1aa6e16e3d8f",
   "metadata": {},
   "outputs": [],
   "source": [
    "a = \"pithon\"\n",
    "# i를 y로 바꾸고 싶을 때"
   ]
  },
  {
   "cell_type": "code",
   "execution_count": 113,
   "id": "cb01a7e9-ccde-4bbc-b9be-120ba895ecc2",
   "metadata": {},
   "outputs": [
    {
     "ename": "TypeError",
     "evalue": "'str' object does not support item assignment",
     "output_type": "error",
     "traceback": [
      "\u001b[1;31m---------------------------------------------------------------------------\u001b[0m",
      "\u001b[1;31mTypeError\u001b[0m                                 Traceback (most recent call last)",
      "Cell \u001b[1;32mIn[113], line 1\u001b[0m\n\u001b[1;32m----> 1\u001b[0m a[\u001b[38;5;241m1\u001b[39m] \u001b[38;5;241m=\u001b[39m \u001b[38;5;124m'\u001b[39m\u001b[38;5;124my\u001b[39m\u001b[38;5;124m'\u001b[39m \u001b[38;5;66;03m#문자열이라 수정할 수 없음\u001b[39;00m\n\u001b[0;32m      2\u001b[0m a\n",
      "\u001b[1;31mTypeError\u001b[0m: 'str' object does not support item assignment"
     ]
    }
   ],
   "source": [
    "a[1] = 'y' #문자열이라 수정할 수 없음 -> 변수를 새로 생성해야 함 !\n",
    "a"
   ]
  },
  {
   "cell_type": "code",
   "execution_count": 116,
   "id": "8fc656e3-8dac-43ca-b1ba-1f7756c7f4b2",
   "metadata": {},
   "outputs": [
    {
     "data": {
      "text/plain": [
       "'python'"
      ]
     },
     "execution_count": 116,
     "metadata": {},
     "output_type": "execute_result"
    }
   ],
   "source": [
    "a[0]+'y'+a[2:]"
   ]
  },
  {
   "cell_type": "markdown",
   "id": "8c439108-4078-4efa-a2f4-0403c5de0b76",
   "metadata": {},
   "source": [
    "## 문자열 포매팅"
   ]
  },
  {
   "cell_type": "code",
   "execution_count": 119,
   "id": "8fb35578-4a4a-4c14-876f-66b0436903d1",
   "metadata": {},
   "outputs": [
    {
     "data": {
      "text/plain": [
       "'I eat 3 apples'"
      ]
     },
     "execution_count": 119,
     "metadata": {},
     "output_type": "execute_result"
    }
   ],
   "source": [
    "#오늘의 날씨 등 동적인 데이터 보여주기\n",
    "#숫자를 바로 대입\n",
    "\"I eat %d apples\"%3\n",
    "#특수기호가 들어간 것 = 게헹문자"
   ]
  },
  {
   "cell_type": "code",
   "execution_count": 120,
   "id": "51e69aa4-498b-438f-badc-bcc319f78593",
   "metadata": {},
   "outputs": [
    {
     "data": {
      "text/plain": [
       "'I eat five apples'"
      ]
     },
     "execution_count": 120,
     "metadata": {},
     "output_type": "execute_result"
    }
   ],
   "source": [
    "# 문자열 바로 대입\n",
    "\"I eat %s apples\"%\"five\""
   ]
  },
  {
   "cell_type": "code",
   "execution_count": 121,
   "id": "6f55ce29-5516-4326-96ec-9eb3851274c5",
   "metadata": {},
   "outputs": [
    {
     "data": {
      "text/plain": [
       "'I eat 5 apples'"
      ]
     },
     "execution_count": 121,
     "metadata": {},
     "output_type": "execute_result"
    }
   ],
   "source": [
    "\"I eat %s apples\"%5"
   ]
  },
  {
   "cell_type": "code",
   "execution_count": 126,
   "id": "58074997-a861-4a16-989b-ec5b212802fb",
   "metadata": {},
   "outputs": [],
   "source": [
    "#숫자는 문자열로 인식 가능 but 오 -> 이걸 숫자로 바꿀 순 없음(컴퓨터는 이게 무슨 말인지를 모름)"
   ]
  },
  {
   "cell_type": "code",
   "execution_count": 130,
   "id": "10428c31-c18d-445c-a404-b085e4f6f682",
   "metadata": {},
   "outputs": [
    {
     "ename": "TypeError",
     "evalue": "%d format: a real number is required, not str",
     "output_type": "error",
     "traceback": [
      "\u001b[1;31m---------------------------------------------------------------------------\u001b[0m",
      "\u001b[1;31mTypeError\u001b[0m                                 Traceback (most recent call last)",
      "Cell \u001b[1;32mIn[130], line 1\u001b[0m\n\u001b[1;32m----> 1\u001b[0m \u001b[38;5;124m\"\u001b[39m\u001b[38;5;124mI eat \u001b[39m\u001b[38;5;132;01m%d\u001b[39;00m\u001b[38;5;124m apples\u001b[39m\u001b[38;5;124m\"\u001b[39m\u001b[38;5;241m%\u001b[39m\u001b[38;5;124m\"\u001b[39m\u001b[38;5;124m삼\u001b[39m\u001b[38;5;124m\"\u001b[39m\n",
      "\u001b[1;31mTypeError\u001b[0m: %d format: a real number is required, not str"
     ]
    }
   ],
   "source": [
    "\"I eat %d apples\"%\"삼\""
   ]
  },
  {
   "cell_type": "code",
   "execution_count": 131,
   "id": "111957ee-b2ec-4822-8a04-61c8ddc0e57b",
   "metadata": {},
   "outputs": [
    {
     "data": {
      "text/plain": [
       "'I eat 3 apples'"
      ]
     },
     "execution_count": 131,
     "metadata": {},
     "output_type": "execute_result"
    }
   ],
   "source": [
    "# 숫자값을 나타내는 변수로 대입(여태까진 상수)\n",
    "num = 3\n",
    "\"I eat %d apples\"%num"
   ]
  },
  {
   "cell_type": "code",
   "execution_count": 132,
   "id": "71078aa5-05a2-4d5c-8ed1-e1d6afb1b68c",
   "metadata": {},
   "outputs": [
    {
     "data": {
      "text/plain": [
       "'I ate 10 apples. So I was sick for three days.'"
      ]
     },
     "execution_count": 132,
     "metadata": {},
     "output_type": "execute_result"
    }
   ],
   "source": [
    "# 2개 이상 값 넣기\n",
    "num = 10\n",
    "day = 'three'\n",
    "\"I ate %d apples. So I was sick for %s days.\"%(num,day)"
   ]
  },
  {
   "cell_type": "code",
   "execution_count": 134,
   "id": "79fb0a25-a41d-464c-81df-6ed0dcb54861",
   "metadata": {},
   "outputs": [
    {
     "ename": "TypeError",
     "evalue": "%d format: a real number is required, not str",
     "output_type": "error",
     "traceback": [
      "\u001b[1;31m---------------------------------------------------------------------------\u001b[0m",
      "\u001b[1;31mTypeError\u001b[0m                                 Traceback (most recent call last)",
      "Cell \u001b[1;32mIn[134], line 1\u001b[0m\n\u001b[1;32m----> 1\u001b[0m \u001b[38;5;124m\"\u001b[39m\u001b[38;5;124mI ate \u001b[39m\u001b[38;5;132;01m%d\u001b[39;00m\u001b[38;5;124m apples. So I was sick for \u001b[39m\u001b[38;5;132;01m%s\u001b[39;00m\u001b[38;5;124m days.\u001b[39m\u001b[38;5;124m\"\u001b[39m\u001b[38;5;241m%\u001b[39m(day,num)\n",
      "\u001b[1;31mTypeError\u001b[0m: %d format: a real number is required, not str"
     ]
    }
   ],
   "source": [
    "\"I ate %d apples. So I was sick for %s days.\"%(day,num)\n",
    "# 타입이 맞지 않음(숫자, 문자인데 문자 숫자를 주면 에러가 남)"
   ]
  },
  {
   "cell_type": "code",
   "execution_count": 136,
   "id": "d2950458-cfa7-4fa8-a13e-319a789e2858",
   "metadata": {},
   "outputs": [
    {
     "data": {
      "text/plain": [
       "'I have 3 apples'"
      ]
     },
     "execution_count": 136,
     "metadata": {},
     "output_type": "execute_result"
    }
   ],
   "source": [
    "\"I have %s apples\"%3"
   ]
  },
  {
   "cell_type": "code",
   "execution_count": 137,
   "id": "ddb2ed23-ef4f-4373-a9d1-ba391de98b64",
   "metadata": {},
   "outputs": [
    {
     "data": {
      "text/plain": [
       "'rate is 3.234'"
      ]
     },
     "execution_count": 137,
     "metadata": {},
     "output_type": "execute_result"
    }
   ],
   "source": [
    "\"rate is %s\"%3.234"
   ]
  },
  {
   "cell_type": "code",
   "execution_count": 140,
   "id": "312aae17-24ca-4562-8cdb-a3da0b1d8f38",
   "metadata": {},
   "outputs": [
    {
     "data": {
      "text/plain": [
       "'오늘의 습도는 70% 입니다'"
      ]
     },
     "execution_count": 140,
     "metadata": {},
     "output_type": "execute_result"
    }
   ],
   "source": [
    "\"오늘의 습도는 %d%% 입니다\"%70 #%d%라고 하면 하나의 게헹문자로 이어져있음, %d%%로 %를 따로 표기한다는 것을 알려주기"
   ]
  },
  {
   "cell_type": "markdown",
   "id": "d39f5619-2ed1-43d8-af2a-2450778e2d7b",
   "metadata": {},
   "source": [
    "## 소수점 표현하기"
   ]
  },
  {
   "cell_type": "code",
   "execution_count": 142,
   "id": "a8323626-343c-422e-966d-3a929c37ea08",
   "metadata": {},
   "outputs": [
    {
     "data": {
      "text/plain": [
       "'3.14'"
      ]
     },
     "execution_count": 142,
     "metadata": {},
     "output_type": "execute_result"
    }
   ],
   "source": [
    "\"%0.2f\"%3.14159268 #소수점 2자리까지 보여주고, 실수다(f)"
   ]
  },
  {
   "cell_type": "code",
   "execution_count": 144,
   "id": "498c5c09-a6c7-481a-afcf-814fbaecc012",
   "metadata": {},
   "outputs": [
    {
     "data": {
      "text/plain": [
       "'3.1416'"
      ]
     },
     "execution_count": 144,
     "metadata": {},
     "output_type": "execute_result"
    }
   ],
   "source": [
    "\"%0.4f\"%3.14159268 #자동 반올림"
   ]
  },
  {
   "cell_type": "markdown",
   "id": "05e476e1-0f59-4ee1-83ce-6f0185374e3d",
   "metadata": {},
   "source": [
    "## format 함수를 사용한 포매팅"
   ]
  },
  {
   "cell_type": "code",
   "execution_count": 145,
   "id": "387f585c-6756-4056-bc07-54ea0c0ad6f5",
   "metadata": {},
   "outputs": [
    {
     "data": {
      "text/plain": [
       "'I eat 3 apples'"
      ]
     },
     "execution_count": 145,
     "metadata": {},
     "output_type": "execute_result"
    }
   ],
   "source": [
    "\"I eat {} apples\".format(3) #. -> 메서드(기능): . 하고 탭 하면 나오는 기능들 \n",
    "#문자열이라는 객체에!"
   ]
  },
  {
   "cell_type": "code",
   "execution_count": 147,
   "id": "5a380938-2913-4dea-9103-92f825e3af64",
   "metadata": {},
   "outputs": [
    {
     "data": {
      "text/plain": [
       "'I eat five apples'"
      ]
     },
     "execution_count": 147,
     "metadata": {},
     "output_type": "execute_result"
    }
   ],
   "source": [
    "\"I eat {} apples\".format('five') # %d, %s를 구분하지 않아도 됨"
   ]
  },
  {
   "cell_type": "code",
   "execution_count": 150,
   "id": "b8dae5c4-5036-4c23-b227-b84361e3c4c0",
   "metadata": {},
   "outputs": [
    {
     "data": {
      "text/plain": [
       "'I eat 10 apples'"
      ]
     },
     "execution_count": 150,
     "metadata": {},
     "output_type": "execute_result"
    }
   ],
   "source": [
    "num = 10\n",
    "\"I eat {} apples\".format(num)"
   ]
  },
  {
   "cell_type": "code",
   "execution_count": 151,
   "id": "dbaf1378-28d2-416c-a4ea-57ba4384a0a8",
   "metadata": {},
   "outputs": [
    {
     "data": {
      "text/plain": [
       "'I ate 10 apples. So I was sick for three days.'"
      ]
     },
     "execution_count": 151,
     "metadata": {},
     "output_type": "execute_result"
    }
   ],
   "source": [
    "# 2개 이상 값 넣기\n",
    "num = 10\n",
    "day = 'three'\n",
    "\"I ate {} apples. So I was sick for {} days.\".format(num,day)"
   ]
  },
  {
   "cell_type": "code",
   "execution_count": 152,
   "id": "68f29ee1-2db6-451a-9f2f-af937a56e38d",
   "metadata": {},
   "outputs": [
    {
     "data": {
      "text/plain": [
       "'I ate three apples. So I was sick for 10 days.'"
      ]
     },
     "execution_count": 152,
     "metadata": {},
     "output_type": "execute_result"
    }
   ],
   "source": [
    "\"I ate {} apples. So I was sick for {} days.\".format(day,num) \n",
    "# <- 자료형이 지정이 되어있지 않아서 num,day순서 바꿔도 작동"
   ]
  },
  {
   "cell_type": "code",
   "execution_count": 159,
   "id": "1cff66ce-98d1-45dc-8ca9-b378b46bcf33",
   "metadata": {},
   "outputs": [
    {
     "data": {
      "text/plain": [
       "'I ate 10 apples. So I was sick for 3 days.'"
      ]
     },
     "execution_count": 159,
     "metadata": {},
     "output_type": "execute_result"
    }
   ],
   "source": [
    "\"I ate {num} apples. So I was sick for {day} days.\".format(num=10,day=3) \n",
    "# 인자를 지정해둔 것, 뒤에 num과 day 순서를 바꿔도 작동"
   ]
  },
  {
   "cell_type": "code",
   "execution_count": 160,
   "id": "72e087d5-4414-4951-819a-af0a488dbe52",
   "metadata": {},
   "outputs": [
    {
     "data": {
      "text/plain": [
       "'I ate 10 apples. So I was sick for 3 days.'"
      ]
     },
     "execution_count": 160,
     "metadata": {},
     "output_type": "execute_result"
    }
   ],
   "source": [
    "\"I ate {num} apples. So I was sick for {day} days.\".format(day=3,num=10) "
   ]
  },
  {
   "cell_type": "code",
   "execution_count": 163,
   "id": "48ea4676-aecf-4fa4-90d7-9cf9335448a8",
   "metadata": {},
   "outputs": [
    {
     "ename": "SyntaxError",
     "evalue": "positional argument follows keyword argument (4264613768.py, line 1)",
     "output_type": "error",
     "traceback": [
      "\u001b[1;36m  Cell \u001b[1;32mIn[163], line 1\u001b[1;36m\u001b[0m\n\u001b[1;33m    \"I ate {} apples. So I was sick for {day} days.\".format(day=3,10)\u001b[0m\n\u001b[1;37m                                                                    ^\u001b[0m\n\u001b[1;31mSyntaxError\u001b[0m\u001b[1;31m:\u001b[0m positional argument follows keyword argument\n"
     ]
    }
   ],
   "source": [
    "\"I ate {} apples. So I was sick for {day} days.\".format(day=3,10) \n",
    "# day는 라벨이 있어서 들어감, \n",
    "#10은 라벨 지정이 안되어있어서 순서대로 들어감 = 2번째에 들어가야 하는데 이미 day 라벨이 있어서 작동 X"
   ]
  },
  {
   "cell_type": "code",
   "execution_count": 164,
   "id": "46e19a59-ecaf-42c0-9f1f-51c98ba0b218",
   "metadata": {},
   "outputs": [
    {
     "data": {
      "text/plain": [
       "'I ate 10 apples. So I was sick for 3 days.'"
      ]
     },
     "execution_count": 164,
     "metadata": {},
     "output_type": "execute_result"
    }
   ],
   "source": [
    "\"I ate {} apples. So I was sick for {day} days.\".format(10, day=3) "
   ]
  },
  {
   "cell_type": "markdown",
   "id": "517d4d71-5184-4bc4-8361-c4856b761ac9",
   "metadata": {},
   "source": [
    "## 소수점 표현하기"
   ]
  },
  {
   "cell_type": "code",
   "execution_count": 166,
   "id": "20b56b84-c13b-47e9-92a3-1ff1282d0b6e",
   "metadata": {},
   "outputs": [
    {
     "data": {
      "text/plain": [
       "'3.4213'"
      ]
     },
     "execution_count": 166,
     "metadata": {},
     "output_type": "execute_result"
    }
   ],
   "source": [
    "y = 3.4213426\n",
    "\"{0:0.4f}\".format(y)"
   ]
  },
  {
   "cell_type": "markdown",
   "id": "7b24609b-47a7-4008-8118-7c6118ca53ee",
   "metadata": {},
   "source": [
    "## f문자열 포매팅(강추)"
   ]
  },
  {
   "cell_type": "code",
   "execution_count": 168,
   "id": "5b4adbba-5245-470b-a423-f8a97d372b45",
   "metadata": {},
   "outputs": [
    {
     "data": {
      "text/plain": [
       "'나의 이름은 홍길동입니다. 나이는  30입니다.'"
      ]
     },
     "execution_count": 168,
     "metadata": {},
     "output_type": "execute_result"
    }
   ],
   "source": [
    "name = \"홍길동\"\n",
    "age = 30\n",
    "f'나의 이름은 {name}입니다. 나이는  {age}입니다.'"
   ]
  },
  {
   "cell_type": "code",
   "execution_count": 169,
   "id": "bb730b54-e412-4828-8f83-eadafefe93e3",
   "metadata": {},
   "outputs": [
    {
     "data": {
      "text/plain": [
       "'나는 내년이면 31살이 됩니다.'"
      ]
     },
     "execution_count": 169,
     "metadata": {},
     "output_type": "execute_result"
    }
   ],
   "source": [
    "f'나는 내년이면 {age+1}살이 됩니다.'"
   ]
  },
  {
   "cell_type": "code",
   "execution_count": 173,
   "id": "1d172617-4ffa-4d4f-98d8-d0807d610be9",
   "metadata": {},
   "outputs": [
    {
     "data": {
      "text/plain": [
       "'나의 이름은 홍길동입니다. 나이는 30입니다.'"
      ]
     },
     "execution_count": 173,
     "metadata": {},
     "output_type": "execute_result"
    }
   ],
   "source": [
    "d = {'name' : '홍길동', 'age' : 30}\n",
    "f'나의 이름은 {d[\"name\"]}입니다. 나이는 {d[\"age\"]}입니다.'"
   ]
  },
  {
   "cell_type": "code",
   "execution_count": null,
   "id": "79027844-3607-4d5a-99a3-e9c587b8556e",
   "metadata": {},
   "outputs": [],
   "source": []
  },
  {
   "cell_type": "code",
   "execution_count": null,
   "id": "72e98961-cd46-431e-bcd5-70ffb39e7f38",
   "metadata": {},
   "outputs": [],
   "source": []
  },
  {
   "cell_type": "code",
   "execution_count": null,
   "id": "acc6bd1c-309f-4f81-a09a-e17a05333346",
   "metadata": {},
   "outputs": [],
   "source": []
  }
 ],
 "metadata": {
  "kernelspec": {
   "display_name": "Python 3 (ipykernel)",
   "language": "python",
   "name": "python3"
  },
  "language_info": {
   "codemirror_mode": {
    "name": "ipython",
    "version": 3
   },
   "file_extension": ".py",
   "mimetype": "text/x-python",
   "name": "python",
   "nbconvert_exporter": "python",
   "pygments_lexer": "ipython3",
   "version": "3.11.7"
  }
 },
 "nbformat": 4,
 "nbformat_minor": 5
}
