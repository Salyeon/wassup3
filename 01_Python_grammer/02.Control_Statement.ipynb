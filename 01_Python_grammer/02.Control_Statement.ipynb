{
 "cells": [
  {
   "cell_type": "markdown",
   "id": "62488bd8-3915-484f-bec6-3fcccfb30fec",
   "metadata": {},
   "source": [
    "# if 분기문"
   ]
  },
  {
   "cell_type": "markdown",
   "id": "5edbf9a9-15c0-4877-b9e6-a6c901409970",
   "metadata": {},
   "source": [
    "‘돈이 있으면 택시를 타고 가고, 돈이 없으면 걸어간다.’"
   ]
  },
  {
   "cell_type": "code",
   "execution_count": 2,
   "id": "153b96fa-b1fa-4e62-ae37-8eedf654c545",
   "metadata": {},
   "outputs": [
    {
     "name": "stdout",
     "output_type": "stream",
     "text": [
      "택시를 타고 가라\n"
     ]
    }
   ],
   "source": [
    "money = True # 돈 있음\n",
    "if money:\n",
    "    print(\"택시를 타고 가라\") # 돈 있으면 택시 타고 가라\n",
    "else:\n",
    "    print(\"걸어 가라\") # 돈 있는게 아니면 걸어 가라\n",
    "\n",
    "# tab 1 = space 4"
   ]
  },
  {
   "cell_type": "code",
   "execution_count": 8,
   "id": "d1a8fe8b-1519-461a-9fc1-8f35dd4dc157",
   "metadata": {},
   "outputs": [],
   "source": [
    "# *** 계층 주의 ***\n",
    "# *** 반드시 : 붙이기 ***"
   ]
  },
  {
   "cell_type": "code",
   "execution_count": 5,
   "id": "322eb841-6859-444d-9dfa-8398a48460ea",
   "metadata": {},
   "outputs": [
    {
     "ename": "IndentationError",
     "evalue": "unexpected indent (2093219496.py, line 5)",
     "output_type": "error",
     "traceback": [
      "\u001b[1;36m  Cell \u001b[1;32mIn[5], line 5\u001b[1;36m\u001b[0m\n\u001b[1;33m    print(\"가라\")\u001b[0m\n\u001b[1;37m    ^\u001b[0m\n\u001b[1;31mIndentationError\u001b[0m\u001b[1;31m:\u001b[0m unexpected indent\n"
     ]
    }
   ],
   "source": [
    "money = True\n",
    "if money:\n",
    "    print(\"택시를\")\n",
    "print(\"타고\") # <- 여기가 내려가서 안된다는 뜻\n",
    "    print(\"가라\")"
   ]
  },
  {
   "cell_type": "code",
   "execution_count": 7,
   "id": "d58b1651-c57e-457f-8c0c-f1fc55be43a4",
   "metadata": {},
   "outputs": [
    {
     "ename": "IndentationError",
     "evalue": "unexpected indent (521462513.py, line 5)",
     "output_type": "error",
     "traceback": [
      "\u001b[1;36m  Cell \u001b[1;32mIn[7], line 5\u001b[1;36m\u001b[0m\n\u001b[1;33m    print(\"가라\") #<- 더 들어가서 실패\u001b[0m\n\u001b[1;37m    ^\u001b[0m\n\u001b[1;31mIndentationError\u001b[0m\u001b[1;31m:\u001b[0m unexpected indent\n"
     ]
    }
   ],
   "source": [
    "money = True\n",
    "if money:\n",
    "    print(\"택시를\")\n",
    "    print(\"타고\")\n",
    "        print(\"가라\") #<- 더 들어가서 실패"
   ]
  },
  {
   "cell_type": "markdown",
   "id": "e041fadb-a80c-4495-88da-68ab4dc729aa",
   "metadata": {},
   "source": [
    "## 조건문이란 무엇인가?\n",
    "참과 거짓을 판단하는 문장"
   ]
  },
  {
   "cell_type": "markdown",
   "id": "711a4ac0-6bca-4f3c-8fbb-9495bb2cbc55",
   "metadata": {},
   "source": [
    "## 비교연산자"
   ]
  },
  {
   "cell_type": "code",
   "execution_count": 11,
   "id": "754acad5-cf9b-4fdb-9632-dbf000a6c883",
   "metadata": {},
   "outputs": [
    {
     "data": {
      "text/plain": [
       "True"
      ]
     },
     "execution_count": 11,
     "metadata": {},
     "output_type": "execute_result"
    }
   ],
   "source": [
    "# 비교연산자\n",
    "x = 3\n",
    "y = 2\n",
    "x > y"
   ]
  },
  {
   "cell_type": "code",
   "execution_count": 10,
   "id": "b3f29ddf-08a8-482b-8068-8c1c68d99cfd",
   "metadata": {},
   "outputs": [
    {
     "data": {
      "text/plain": [
       "False"
      ]
     },
     "execution_count": 10,
     "metadata": {},
     "output_type": "execute_result"
    }
   ],
   "source": [
    "x < y"
   ]
  },
  {
   "cell_type": "code",
   "execution_count": 13,
   "id": "ce48b5bb-b503-4add-bc6b-b0cdd3ed08d0",
   "metadata": {},
   "outputs": [],
   "source": [
    "# == 같다 != 같지 않다"
   ]
  },
  {
   "cell_type": "code",
   "execution_count": 14,
   "id": "e19d2758-4962-47ee-9aa8-787d124da755",
   "metadata": {},
   "outputs": [
    {
     "data": {
      "text/plain": [
       "True"
      ]
     },
     "execution_count": 14,
     "metadata": {},
     "output_type": "execute_result"
    }
   ],
   "source": [
    "x != y"
   ]
  },
  {
   "cell_type": "code",
   "execution_count": 17,
   "id": "8819edc1-2116-4607-914c-47c61014d6f0",
   "metadata": {},
   "outputs": [
    {
     "name": "stdout",
     "output_type": "stream",
     "text": [
      "택시를 타고 가라\n"
     ]
    }
   ],
   "source": [
    "## quiz\n",
    "##만약 3000원 이상의 돈을 가지고 있으면 택시를 타고 가고, 그렇지 않으면 걸어가라.\n",
    "money = 3000  # 요기 금액을 수정~\n",
    "if money >= 3000:\n",
    "    print(\"택시를 타고 가라\") \n",
    "else:\n",
    "    print(\"걸어 가라\")"
   ]
  },
  {
   "cell_type": "markdown",
   "id": "8df09274-637f-485d-afb3-acd604c48cdf",
   "metadata": {},
   "source": [
    "## and, or, not\n",
    " 둘 다 참이어야, 둘 중 하나만, x가 거짓이면 참이다      \n",
    " 돈이 3000원 이상 있거나 카드가 있다면 택시를 타고 가고, 그렇지 않으면 걸어가라."
   ]
  },
  {
   "cell_type": "code",
   "execution_count": 19,
   "id": "1fbe3114-7f7a-4f2b-b238-c99aa1fabcde",
   "metadata": {},
   "outputs": [
    {
     "name": "stdout",
     "output_type": "stream",
     "text": [
      "택시를 타고 가라\n"
     ]
    }
   ],
   "source": [
    "\n",
    "money = 3000 \n",
    "card = True\n",
    "if money >= 3000 or card:\n",
    "    print(\"택시를 타고 가라\") \n",
    "else:\n",
    "    print(\"걸어 가라\")"
   ]
  },
  {
   "cell_type": "markdown",
   "id": "ccca8d43-1074-447e-93e8-0a7deb4b4cdc",
   "metadata": {},
   "source": [
    "## in, not in"
   ]
  },
  {
   "cell_type": "code",
   "execution_count": 21,
   "id": "99dad472-3c64-4679-9631-7e67bd54b8c2",
   "metadata": {},
   "outputs": [
    {
     "data": {
      "text/plain": [
       "True"
      ]
     },
     "execution_count": 21,
     "metadata": {},
     "output_type": "execute_result"
    }
   ],
   "source": [
    "1 in [1,2,3]"
   ]
  },
  {
   "cell_type": "code",
   "execution_count": 22,
   "id": "f075ecc7-cd2d-43f0-acf7-9e0b1aa70c66",
   "metadata": {},
   "outputs": [
    {
     "data": {
      "text/plain": [
       "False"
      ]
     },
     "execution_count": 22,
     "metadata": {},
     "output_type": "execute_result"
    }
   ],
   "source": [
    "1 not in [1,2,3]"
   ]
  },
  {
   "cell_type": "code",
   "execution_count": 25,
   "id": "f8298793-bdad-44e3-bdb3-2f4f3d75ec89",
   "metadata": {},
   "outputs": [
    {
     "name": "stdout",
     "output_type": "stream",
     "text": [
      "택시를 타고 가라\n"
     ]
    }
   ],
   "source": [
    "주머니 = ['돈','휴대폰', '종이']\n",
    "if '돈' in 주머니:\n",
    "    print(\"택시를 타고 가라\")\n",
    "else:\n",
    "    print(\"걸어가라\")"
   ]
  },
  {
   "cell_type": "markdown",
   "id": "0d0de6a7-91fc-4438-8b62-09e6a5848d02",
   "metadata": {},
   "source": [
    "## 조건문에서 아무 일도 하지 않게 설정하려면\n",
    "주머니에 돈이 있으면 가만히 있고, 주머니에 돈이 없으면 카드를 꺼내라.\n"
   ]
  },
  {
   "cell_type": "code",
   "execution_count": 26,
   "id": "ff0f2d4f-740d-4f9c-b39a-1a6cd28d74a3",
   "metadata": {},
   "outputs": [],
   "source": [
    "주머니 = ['돈','휴대폰', '종이']\n",
    "if '돈' in 주머니:\n",
    "    pass\n",
    "else:\n",
    "    print(\"걸어가라\")"
   ]
  },
  {
   "cell_type": "markdown",
   "id": "e1545536-b817-4cec-93cd-b378fb29ce61",
   "metadata": {},
   "source": [
    "## 다양한 조건을 판단하는 elif\n",
    "주머니에 돈이 있으면 택시를 타고 가고,    \n",
    "주머니에 돈은 없지만 카드가 있으면 택시를 타고 가고,    \n",
    "돈도 없고 카드도 없으면 걸어가라."
   ]
  },
  {
   "cell_type": "code",
   "execution_count": 37,
   "id": "46d42304-cc1d-42ec-8dc2-ae1fb2aa066a",
   "metadata": {},
   "outputs": [],
   "source": [
    "#참과 거짓, 2개만 찾을 수 있음 -> elif로 여럿 사용가능!"
   ]
  },
  {
   "cell_type": "code",
   "execution_count": 38,
   "id": "b6cfcbde-bb7b-43d1-8e8c-2cef31cca8b1",
   "metadata": {},
   "outputs": [],
   "source": [
    "# if 문만으로 문제 풀기"
   ]
  },
  {
   "cell_type": "code",
   "execution_count": 31,
   "id": "3feb1253-08d2-4b11-8ffc-26fcdecbc8db",
   "metadata": {},
   "outputs": [
    {
     "name": "stdout",
     "output_type": "stream",
     "text": [
      "택시를 타고 가라\n"
     ]
    }
   ],
   "source": [
    "p = ['money', 'phone', 'paper']\n",
    "card = True\n",
    "if 'money' in p or card:\n",
    "    print(\"택시를 타고 가라\")\n",
    "else:\n",
    "    if card:\n",
    "        print(\"택시를 타고 가라\")\n",
    "    else:\n",
    "        print(\"걸어가라\")"
   ]
  },
  {
   "cell_type": "code",
   "execution_count": 35,
   "id": "c70948b8-f6fd-4210-80fe-6f4d697a5076",
   "metadata": {},
   "outputs": [
    {
     "name": "stdout",
     "output_type": "stream",
     "text": [
      "택시를 타고 가라\n"
     ]
    }
   ],
   "source": [
    "p = ['phone', 'paper']\n",
    "card = True\n",
    "if 'money' in p or card:\n",
    "    print(\"택시를 타고 가라\")\n",
    "else:\n",
    "    if card:\n",
    "        print(\"택시를 타고 가라\")\n",
    "    else:\n",
    "        print(\"걸어가라\")"
   ]
  },
  {
   "cell_type": "code",
   "execution_count": 36,
   "id": "d4a6c0cc-7b3d-4d63-9ce8-c00bc1b86d9b",
   "metadata": {},
   "outputs": [
    {
     "name": "stdout",
     "output_type": "stream",
     "text": [
      "걸어가라\n"
     ]
    }
   ],
   "source": [
    "p = ['phone', 'paper']\n",
    "card = False\n",
    "if 'money' in p or card:\n",
    "    print(\"택시를 타고 가라\")\n",
    "else:\n",
    "    if card:\n",
    "        print(\"택시를 타고 가라\")\n",
    "    else:\n",
    "        print(\"걸어가라\")"
   ]
  },
  {
   "cell_type": "code",
   "execution_count": 51,
   "id": "3beabce4-38b4-4af9-b586-9a76c1163950",
   "metadata": {},
   "outputs": [
    {
     "name": "stdout",
     "output_type": "stream",
     "text": [
      "택시를 타고 가라\n"
     ]
    }
   ],
   "source": [
    "#elif 문\n",
    "p = ['money', 'phone', 'paper']\n",
    "card = True\n",
    "if 'money' in p or card:\n",
    "    print(\"택시를 타고 가라\")\n",
    "elif card:\n",
    "        print(\"택시를 타고 가라\")\n",
    "else:\n",
    "        print(\"걸어가라\")"
   ]
  },
  {
   "cell_type": "code",
   "execution_count": null,
   "id": "ca334493-06be-4021-b866-f0ab72eec258",
   "metadata": {},
   "outputs": [],
   "source": [
    "# elif는 개수의 제한이 없음"
   ]
  },
  {
   "cell_type": "code",
   "execution_count": 70,
   "id": "7c0360b5-9edf-4315-8b8a-ec2cc733bf6c",
   "metadata": {},
   "outputs": [],
   "source": [
    "# if문 한줄로 작성하기\n",
    "p = ['money', 'phone', 'paper']\n",
    "if 'money' in p or card:pass\n",
    "else:print(\"카드를 꺼내라\")"
   ]
  },
  {
   "cell_type": "markdown",
   "id": "1040188e-a2c5-4510-a05e-60f63d37e692",
   "metadata": {},
   "source": [
    "## 조건부 표현식"
   ]
  },
  {
   "cell_type": "code",
   "execution_count": 54,
   "id": "ae736242-9947-4e84-9d6d-26cfd864bde5",
   "metadata": {},
   "outputs": [
    {
     "name": "stdout",
     "output_type": "stream",
     "text": [
      "success\n"
     ]
    }
   ],
   "source": [
    "score = 88\n",
    "if score >= 60:\n",
    "    message = \"success\"\n",
    "    print(message)\n",
    "else:\n",
    "    message = \"failure\"\n",
    "    print(message)"
   ]
  },
  {
   "cell_type": "code",
   "execution_count": 55,
   "id": "cd774007-a5a3-452f-a247-a24d53355336",
   "metadata": {},
   "outputs": [
    {
     "name": "stdout",
     "output_type": "stream",
     "text": [
      "success\n"
     ]
    }
   ],
   "source": [
    "score = 88\n",
    "if score >= 60:\n",
    "    message = \"success\"\n",
    "else:\n",
    "    message = \"failure\"\n",
    "print(message)"
   ]
  },
  {
   "cell_type": "code",
   "execution_count": 58,
   "id": "eacd55ab-ebef-4b45-9543-7963041cea3c",
   "metadata": {},
   "outputs": [
    {
     "name": "stdout",
     "output_type": "stream",
     "text": [
      "success\n"
     ]
    }
   ],
   "source": [
    "score = 88\n",
    "message = \"success\" if score >= 60 else \"failure\"\n",
    "print(message)\n",
    "#기본적으로 왼쪽을 참, 오른쪽을 거짓으로 봄"
   ]
  },
  {
   "cell_type": "markdown",
   "id": "abae1290-cc39-4c92-9b75-7138d5edd7aa",
   "metadata": {},
   "source": [
    "# while 조건 반복문\n",
    "* 열 번 찍어 안 넘어가는 나무 없다 속담을 구현해보자"
   ]
  },
  {
   "cell_type": "code",
   "execution_count": null,
   "id": "7be026dc-4b88-44f5-955d-755bb8af92cd",
   "metadata": {},
   "outputs": [],
   "source": [
    "#for과 while의 역할이 다름\n",
    "#while은 조건"
   ]
  },
  {
   "cell_type": "code",
   "execution_count": 74,
   "id": "5e69142e-2fbd-4641-9d93-6f132dff581c",
   "metadata": {},
   "outputs": [
    {
     "name": "stdout",
     "output_type": "stream",
     "text": [
      "나무를 1번 찍었습니다.\n",
      "나무를 2번 찍었습니다.\n",
      "나무를 3번 찍었습니다.\n",
      "나무를 4번 찍었습니다.\n",
      "나무를 5번 찍었습니다.\n",
      "나무를 6번 찍었습니다.\n",
      "나무를 7번 찍었습니다.\n",
      "나무를 8번 찍었습니다.\n",
      "나무를 9번 찍었습니다.\n",
      "나무를 10번 찍었습니다.\n",
      "나무 넘어갑니다.\n"
     ]
    }
   ],
   "source": [
    "treeHit = 0\n",
    "while treeHit < 10: # 10부터 종료\n",
    "    treeHit = treeHit +1 #10보다 작으면 계속 실행하고 기존에서 +1 수치만큼 늘려줘(기록하기 위함)\n",
    "    print(\"나무를 %d번 찍었습니다.\" % treeHit)\n",
    "    if treeHit == 10:\n",
    "        print(\"나무 넘어갑니다.\") #분기문"
   ]
  },
  {
   "cell_type": "markdown",
   "id": "b1ac3d2d-59b9-4b2b-b40c-6dca39cfb782",
   "metadata": {},
   "source": [
    "## while문 만들기"
   ]
  },
  {
   "cell_type": "code",
   "execution_count": 80,
   "id": "4a7e5bec-888f-4247-8a11-89fe79cd6809",
   "metadata": {},
   "outputs": [],
   "source": [
    "prompt = \"\"\"\n",
    "1. Add\n",
    "2. Del\n",
    "3. List\n",
    "4. Quit\n",
    "\n",
    "Enter number: \"\"\""
   ]
  },
  {
   "cell_type": "code",
   "execution_count": 77,
   "id": "ecc5cb15-08fe-4ba3-a7e4-60fd67790a2a",
   "metadata": {},
   "outputs": [
    {
     "name": "stdout",
     "output_type": "stream",
     "text": [
      "\n",
      "1. Add\n",
      "2. Del\n",
      "3. List\n",
      "4. Quit\n",
      "\n",
      "Enter number:\n"
     ]
    }
   ],
   "source": [
    "# \"\"\"  ~~~ \"\"\" = 단락\n",
    "print(prompt)"
   ]
  },
  {
   "cell_type": "code",
   "execution_count": 81,
   "id": "47f8c192-f87d-4785-8377-99f91eab80f9",
   "metadata": {},
   "outputs": [
    {
     "name": "stdout",
     "output_type": "stream",
     "text": [
      "\n",
      "1. Add\n",
      "2. Del\n",
      "3. List\n",
      "4. Quit\n",
      "\n",
      "Enter number: \n"
     ]
    },
    {
     "name": "stdin",
     "output_type": "stream",
     "text": [
      " 1\n"
     ]
    },
    {
     "name": "stdout",
     "output_type": "stream",
     "text": [
      "\n",
      "1. Add\n",
      "2. Del\n",
      "3. List\n",
      "4. Quit\n",
      "\n",
      "Enter number: \n"
     ]
    },
    {
     "name": "stdin",
     "output_type": "stream",
     "text": [
      " 2\n"
     ]
    },
    {
     "name": "stdout",
     "output_type": "stream",
     "text": [
      "\n",
      "1. Add\n",
      "2. Del\n",
      "3. List\n",
      "4. Quit\n",
      "\n",
      "Enter number: \n"
     ]
    },
    {
     "name": "stdin",
     "output_type": "stream",
     "text": [
      " 4\n"
     ]
    }
   ],
   "source": [
    "number = 0\n",
    "while number != 4:\n",
    "    print(prompt)\n",
    "    number = int(input())"
   ]
  },
  {
   "cell_type": "markdown",
   "id": "680fe851-29f0-450b-9c24-fa7fcfc44ca3",
   "metadata": {},
   "source": [
    "## while 문 강제로 빠져나가기"
   ]
  },
  {
   "cell_type": "code",
   "execution_count": 84,
   "id": "58802846-fa2c-49f4-9e31-95e2f483b628",
   "metadata": {},
   "outputs": [],
   "source": [
    "# 가장먼저 구현하는게 종료 기능\n",
    "# why? 무한히 실행시키면 끌 수 없기 때문에 기능 만들 땐 가장 먼저 종료부터 만들어야 함\n",
    "# if 의 pass문처럼(얘는 지나가는거긴 하지만..) break를 통해 문장을 종료함"
   ]
  },
  {
   "cell_type": "code",
   "execution_count": null,
   "id": "620f97cf-3d0c-4f1b-97d6-a4a2c8b9115c",
   "metadata": {},
   "outputs": [],
   "source": [
    "coffee = 10\n",
    "money = 300\n",
    "while money :\n",
    "    print('돈을 받았으니 커피를 줍니다.')\n",
    "    coffee = coffee - 1\n",
    "    print(f'남은 커피의 양은 {coffee}입니다.')\n",
    "    if coffee == 0:\n",
    "        print('커피가 다 떨어져서 판매를 중지합니다.')\n",
    "        break"
   ]
  },
  {
   "cell_type": "markdown",
   "id": "349d6366-1658-4e98-9a43-d8d399c48635",
   "metadata": {},
   "source": [
    "### quiz\n",
    "- money를 사용자 입력을 받습니다.\n",
    "- 커피 가격은 300원입니다.\n",
    "- 커피 가격이 일치하지 않으면 잔돈을 거슬러줍니다.\n",
    "- 커피 재고가 떨어지면 종료합니다\n"
   ]
  },
  {
   "cell_type": "code",
   "execution_count": null,
   "id": "4e72d301-5c3f-4817-9df0-7be8ef13b7cb",
   "metadata": {},
   "outputs": [],
   "source": [
    "coffee = 10\n",
    "money = int(input('금액을 투입하세요'))\n",
    "while money == 300:\n",
    "    print('돈을 받았으니 커피를 줍니다.')\n",
    "    if coffee > 0:\n",
    "        coffee = coffee -1\n",
    "        print(f'남은 커피의 양은 {coffee}입니다.')\n",
    "        if coffee == 0:\n",
    "            print('커피가 다 떨어져서 판매를 중지합니다.')\n",
    "            break"
   ]
  },
  {
   "cell_type": "code",
   "execution_count": null,
   "id": "0a278db1-2aac-4deb-b7a7-0d379c9da52a",
   "metadata": {},
   "outputs": [],
   "source": [
    "* input, output 정의\n",
    "* 데이터: 커피 가격 300원(정의되어있음), 커피 재고(상수), 사용자 입력 커피 금액(input())\n",
    "* 조건\n",
    "  1. 커피값 == 300\n",
    "     커피를 제공하고(print())\n",
    "     커피 재고를 차감하고(stock = coffee-userinput)\n",
    "     재고를 안내해주자 stock print\n",
    "  2. 커피값 > 300\n",
    "     커피를 제공하고\n",
    "     거스름돈을 준다(userinput-300)\n",
    "     커피 재고 차감하고 안내한다 \n",
    "  3. 커피값 < 300\n",
    "     안준다(print)\n",
    "     남은 재고 알려줘도 되고 안알려줘도 됨(print)\n",
    "  4. 커피 재고 == 0\n",
    "     재고 소진을 안내하고\n",
    "     마감을 안내한다.(print)\n",
    "     break"
   ]
  },
  {
   "cell_type": "code",
   "execution_count": null,
   "id": "e908c085-99b4-4ae9-af8a-995449ed53b8",
   "metadata": {},
   "outputs": [
    {
     "name": "stdin",
     "output_type": "stream",
     "text": [
      "돈을 넣어주세요:  500\n"
     ]
    },
    {
     "name": "stdout",
     "output_type": "stream",
     "text": [
      "거스름돈 200원을 주고 커피를 줍니다.\n",
      "남은 커피수량은 9입니다.\n"
     ]
    }
   ],
   "source": [
    "coffee = 10\n",
    "\n",
    "while True : \n",
    "    money = int(input('돈을 넣어주세요: '))\n",
    "\n",
    "    if money == 300:\n",
    "        print('300원을 받았습니다. 커피를 줍니다.')\n",
    "        coffee = coffee -1\n",
    "        print(f'남은 커피수량은 {coffee}입니다.')\n",
    "\n",
    "    elif money > 300:\n",
    "        print(f'거스름돈 {money-300}원을 주고 커피를 줍니다.')\n",
    "        coffee = coffee -1\n",
    "        print(f'남은 커피수량은 {coffee}입니다.')\n",
    "\n",
    "    else : # money < 300\n",
    "        print('돈이 부족합니다. 커피를 주지 않습니다.')\n",
    "    if coffee == 0:\n",
    "        print('커피가 다 떨어졌습니다. 판매를 중지합니다')\n",
    "        break"
   ]
  },
  {
   "cell_type": "code",
   "execution_count": null,
   "id": "49c825ba-1ba1-4e27-8627-dc2f4c01b827",
   "metadata": {},
   "outputs": [],
   "source": []
  },
  {
   "cell_type": "code",
   "execution_count": 1,
   "id": "0e28ed34-b691-410c-91d5-e023d6cec7cb",
   "metadata": {},
   "outputs": [
    {
     "name": "stdin",
     "output_type": "stream",
     "text": [
      "금액을 투입하세요 300\n"
     ]
    },
    {
     "name": "stdout",
     "output_type": "stream",
     "text": [
      "돈을 받았으니 커피를 줍니다.\n",
      "남은 커피의 양은 9입니다.\n",
      "돈을 받았으니 커피를 줍니다.\n",
      "남은 커피의 양은 8입니다.\n",
      "돈을 받았으니 커피를 줍니다.\n",
      "남은 커피의 양은 7입니다.\n",
      "돈을 받았으니 커피를 줍니다.\n",
      "남은 커피의 양은 6입니다.\n",
      "돈을 받았으니 커피를 줍니다.\n",
      "남은 커피의 양은 5입니다.\n",
      "돈을 받았으니 커피를 줍니다.\n",
      "남은 커피의 양은 4입니다.\n",
      "돈을 받았으니 커피를 줍니다.\n",
      "남은 커피의 양은 3입니다.\n",
      "돈을 받았으니 커피를 줍니다.\n",
      "남은 커피의 양은 2입니다.\n",
      "돈을 받았으니 커피를 줍니다.\n",
      "남은 커피의 양은 1입니다.\n",
      "돈을 받았으니 커피를 줍니다.\n",
      "남은 커피의 양은 0입니다.\n",
      "커피가 다 떨어져서 판매를 중지합니다.\n"
     ]
    }
   ],
   "source": [
    "coffee = 10\n",
    "money = int(input('금액을 투입하세요'))\n",
    "while money == 300:\n",
    "    print('돈을 받았으니 커피를 줍니다.')\n",
    "    if coffee > 0:\n",
    "        coffee = coffee -1\n",
    "        print(f'남은 커피의 양은 {coffee}입니다.')\n",
    "        if coffee == 0:\n",
    "            print('커피가 다 떨어져서 판매를 중지합니다.')\n",
    "            break"
   ]
  },
  {
   "cell_type": "code",
   "execution_count": null,
   "id": "f365e99b-efa0-4d07-a529-1ef2e186b297",
   "metadata": {},
   "outputs": [],
   "source": [
    "24.06.13"
   ]
  },
  {
   "cell_type": "code",
   "execution_count": null,
   "id": "310569ed-e05a-434e-9d0c-030ecb319a1d",
   "metadata": {},
   "outputs": [],
   "source": []
  },
  {
   "cell_type": "code",
   "execution_count": null,
   "id": "a41d9fc4-6c97-4b00-82ce-7ba2fea9fa81",
   "metadata": {},
   "outputs": [],
   "source": []
  }
 ],
 "metadata": {
  "kernelspec": {
   "display_name": "Python 3 (ipykernel)",
   "language": "python",
   "name": "python3"
  },
  "language_info": {
   "codemirror_mode": {
    "name": "ipython",
    "version": 3
   },
   "file_extension": ".py",
   "mimetype": "text/x-python",
   "name": "python",
   "nbconvert_exporter": "python",
   "pygments_lexer": "ipython3",
   "version": "3.11.7"
  }
 },
 "nbformat": 4,
 "nbformat_minor": 5
}
