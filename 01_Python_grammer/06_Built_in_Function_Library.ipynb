{
 "cells": [
  {
   "cell_type": "markdown",
   "id": "dd559916-1c48-4326-a837-f0631b71c714",
   "metadata": {},
   "source": [
    "# 내장함수"
   ]
  },
  {
   "cell_type": "markdown",
   "id": "a9fc1fe1-fa20-4017-8b60-c24eab88d0fb",
   "metadata": {},
   "source": [
    "## abs"
   ]
  },
  {
   "cell_type": "code",
   "execution_count": 1,
   "id": "7244adf1-567f-44be-9db9-e19a2e52dfd5",
   "metadata": {},
   "outputs": [
    {
     "data": {
      "text/plain": [
       "3"
      ]
     },
     "execution_count": 1,
     "metadata": {},
     "output_type": "execute_result"
    }
   ],
   "source": [
    "# 절대값 리턴 함수\n",
    "abs(3)"
   ]
  },
  {
   "cell_type": "code",
   "execution_count": 2,
   "id": "9aa40d96-fc99-4768-9591-46702c585e42",
   "metadata": {},
   "outputs": [
    {
     "data": {
      "text/plain": [
       "3"
      ]
     },
     "execution_count": 2,
     "metadata": {},
     "output_type": "execute_result"
    }
   ],
   "source": [
    "abs(-3)"
   ]
  },
  {
   "cell_type": "code",
   "execution_count": 3,
   "id": "f46d0e8d-6586-458f-8401-edec3397fb66",
   "metadata": {},
   "outputs": [
    {
     "data": {
      "text/plain": [
       "1.2"
      ]
     },
     "execution_count": 3,
     "metadata": {},
     "output_type": "execute_result"
    }
   ],
   "source": [
    "abs(-1.2)"
   ]
  },
  {
   "cell_type": "markdown",
   "id": "3a3238e5-4d56-4ff5-b89b-938e163778a4",
   "metadata": {},
   "source": [
    "## all"
   ]
  },
  {
   "cell_type": "code",
   "execution_count": 4,
   "id": "d54a15e9-6173-4d94-8cc1-4ce59ec1eb96",
   "metadata": {},
   "outputs": [
    {
     "data": {
      "text/plain": [
       "True"
      ]
     },
     "execution_count": 4,
     "metadata": {},
     "output_type": "execute_result"
    }
   ],
   "source": [
    "all([1,2,3]) #요소가 있다"
   ]
  },
  {
   "cell_type": "code",
   "execution_count": 5,
   "id": "5d69cf0f-c08a-4aea-a507-05b12b6ce10d",
   "metadata": {},
   "outputs": [
    {
     "data": {
      "text/plain": [
       "False"
      ]
     },
     "execution_count": 5,
     "metadata": {},
     "output_type": "execute_result"
    }
   ],
   "source": [
    "all([1,2,3,0]) # 0은 요소로 인정 안함"
   ]
  },
  {
   "cell_type": "code",
   "execution_count": 16,
   "id": "2eacb156-ce3d-4cff-8734-28cc72aa31c9",
   "metadata": {},
   "outputs": [
    {
     "data": {
      "text/plain": [
       "True"
      ]
     },
     "execution_count": 16,
     "metadata": {},
     "output_type": "execute_result"
    }
   ],
   "source": [
    "all([]) # 판단할게 없다"
   ]
  },
  {
   "cell_type": "markdown",
   "id": "13eac5da-5868-4121-9d79-bb81d7aa0016",
   "metadata": {},
   "source": [
    "## any"
   ]
  },
  {
   "cell_type": "code",
   "execution_count": 10,
   "id": "9c177d78-ef06-4f14-b8a5-87fcbe6f91f4",
   "metadata": {},
   "outputs": [
    {
     "data": {
      "text/plain": [
       "True"
      ]
     },
     "execution_count": 10,
     "metadata": {},
     "output_type": "execute_result"
    }
   ],
   "source": [
    "any([1,2,3])"
   ]
  },
  {
   "cell_type": "code",
   "execution_count": 11,
   "id": "6fe40bce-5814-45db-b2da-ddbaf4f60bb4",
   "metadata": {},
   "outputs": [
    {
     "data": {
      "text/plain": [
       "False"
      ]
     },
     "execution_count": 11,
     "metadata": {},
     "output_type": "execute_result"
    }
   ],
   "source": [
    "any([0,''])"
   ]
  },
  {
   "cell_type": "code",
   "execution_count": 12,
   "id": "657ac312-e4a6-4431-bbe9-de81fdad654c",
   "metadata": {},
   "outputs": [
    {
     "data": {
      "text/plain": [
       "False"
      ]
     },
     "execution_count": 12,
     "metadata": {},
     "output_type": "execute_result"
    }
   ],
   "source": [
    "any([])"
   ]
  },
  {
   "cell_type": "code",
   "execution_count": 14,
   "id": "011afdfa-58d0-4e70-93e5-388948289392",
   "metadata": {},
   "outputs": [
    {
     "data": {
      "text/plain": [
       "True"
      ]
     },
     "execution_count": 14,
     "metadata": {},
     "output_type": "execute_result"
    }
   ],
   "source": [
    "any([' '])"
   ]
  },
  {
   "cell_type": "markdown",
   "id": "70498754-742f-4e66-b7d8-74b8b7c8244e",
   "metadata": {},
   "source": [
    "## chr"
   ]
  },
  {
   "cell_type": "code",
   "execution_count": 17,
   "id": "e15830c9-727c-4ee5-b5a9-0979941270c9",
   "metadata": {},
   "outputs": [
    {
     "data": {
      "text/plain": [
       "'a'"
      ]
     },
     "execution_count": 17,
     "metadata": {},
     "output_type": "execute_result"
    }
   ],
   "source": [
    "chr(97)"
   ]
  },
  {
   "cell_type": "code",
   "execution_count": 18,
   "id": "e0af19e9-eebb-4fd0-b79c-68fb32da34b0",
   "metadata": {},
   "outputs": [
    {
     "data": {
      "text/plain": [
       "'가'"
      ]
     },
     "execution_count": 18,
     "metadata": {},
     "output_type": "execute_result"
    }
   ],
   "source": [
    "chr(44032)"
   ]
  },
  {
   "cell_type": "markdown",
   "id": "41bb1738-32b1-4671-82e5-554bb63b244a",
   "metadata": {},
   "source": [
    "## dir"
   ]
  },
  {
   "cell_type": "code",
   "execution_count": 21,
   "id": "c48089fe-3cfe-4558-96b8-e4214f7f544c",
   "metadata": {},
   "outputs": [
    {
     "data": {
      "text/plain": [
       "['__add__',\n",
       " '__class__',\n",
       " '__class_getitem__',\n",
       " '__contains__',\n",
       " '__delattr__',\n",
       " '__delitem__',\n",
       " '__dir__',\n",
       " '__doc__',\n",
       " '__eq__',\n",
       " '__format__',\n",
       " '__ge__',\n",
       " '__getattribute__',\n",
       " '__getitem__',\n",
       " '__getstate__',\n",
       " '__gt__',\n",
       " '__hash__',\n",
       " '__iadd__',\n",
       " '__imul__',\n",
       " '__init__',\n",
       " '__init_subclass__',\n",
       " '__iter__',\n",
       " '__le__',\n",
       " '__len__',\n",
       " '__lt__',\n",
       " '__mul__',\n",
       " '__ne__',\n",
       " '__new__',\n",
       " '__reduce__',\n",
       " '__reduce_ex__',\n",
       " '__repr__',\n",
       " '__reversed__',\n",
       " '__rmul__',\n",
       " '__setattr__',\n",
       " '__setitem__',\n",
       " '__sizeof__',\n",
       " '__str__',\n",
       " '__subclasshook__',\n",
       " 'append',\n",
       " 'clear',\n",
       " 'copy',\n",
       " 'count',\n",
       " 'extend',\n",
       " 'index',\n",
       " 'insert',\n",
       " 'pop',\n",
       " 'remove',\n",
       " 'reverse',\n",
       " 'sort']"
      ]
     },
     "execution_count": 21,
     "metadata": {},
     "output_type": "execute_result"
    }
   ],
   "source": [
    "dir([1,2,3]) # 리스트 객체가 가지고 있는 모든 함수(메서드)를 보여줌"
   ]
  },
  {
   "cell_type": "code",
   "execution_count": 22,
   "id": "6093a335-538d-4ae5-b82e-6c5ea34d84ef",
   "metadata": {},
   "outputs": [
    {
     "data": {
      "text/plain": [
       "['__and__',\n",
       " '__class__',\n",
       " '__class_getitem__',\n",
       " '__contains__',\n",
       " '__delattr__',\n",
       " '__dir__',\n",
       " '__doc__',\n",
       " '__eq__',\n",
       " '__format__',\n",
       " '__ge__',\n",
       " '__getattribute__',\n",
       " '__getstate__',\n",
       " '__gt__',\n",
       " '__hash__',\n",
       " '__iand__',\n",
       " '__init__',\n",
       " '__init_subclass__',\n",
       " '__ior__',\n",
       " '__isub__',\n",
       " '__iter__',\n",
       " '__ixor__',\n",
       " '__le__',\n",
       " '__len__',\n",
       " '__lt__',\n",
       " '__ne__',\n",
       " '__new__',\n",
       " '__or__',\n",
       " '__rand__',\n",
       " '__reduce__',\n",
       " '__reduce_ex__',\n",
       " '__repr__',\n",
       " '__ror__',\n",
       " '__rsub__',\n",
       " '__rxor__',\n",
       " '__setattr__',\n",
       " '__sizeof__',\n",
       " '__str__',\n",
       " '__sub__',\n",
       " '__subclasshook__',\n",
       " '__xor__',\n",
       " 'add',\n",
       " 'clear',\n",
       " 'copy',\n",
       " 'difference',\n",
       " 'difference_update',\n",
       " 'discard',\n",
       " 'intersection',\n",
       " 'intersection_update',\n",
       " 'isdisjoint',\n",
       " 'issubset',\n",
       " 'issuperset',\n",
       " 'pop',\n",
       " 'remove',\n",
       " 'symmetric_difference',\n",
       " 'symmetric_difference_update',\n",
       " 'union',\n",
       " 'update']"
      ]
     },
     "execution_count": 22,
     "metadata": {},
     "output_type": "execute_result"
    }
   ],
   "source": [
    "dir({1,2,3})"
   ]
  },
  {
   "cell_type": "markdown",
   "id": "a984575a-c309-496d-86c4-71455199c507",
   "metadata": {},
   "source": [
    "## divmod"
   ]
  },
  {
   "cell_type": "code",
   "execution_count": 23,
   "id": "1be04206-203a-44b2-8436-c211a6318dd8",
   "metadata": {},
   "outputs": [],
   "source": [
    "#함수를 통해 몫과 나머지를 튜플 형식으로 구할 수 있음"
   ]
  },
  {
   "cell_type": "code",
   "execution_count": 25,
   "id": "0a6ca61c-f28d-49fb-a97b-53b9832d68d3",
   "metadata": {},
   "outputs": [
    {
     "data": {
      "text/plain": [
       "(2, 1)"
      ]
     },
     "execution_count": 25,
     "metadata": {},
     "output_type": "execute_result"
    }
   ],
   "source": [
    "divmod(7,3)"
   ]
  },
  {
   "cell_type": "code",
   "execution_count": 27,
   "id": "f0b67210-5485-4ba1-9a22-4201103a2417",
   "metadata": {},
   "outputs": [
    {
     "data": {
      "text/plain": [
       "(2, 1)"
      ]
     },
     "execution_count": 27,
     "metadata": {},
     "output_type": "execute_result"
    }
   ],
   "source": [
    "7//3,7%3"
   ]
  },
  {
   "cell_type": "markdown",
   "id": "2fe14001-79c8-4c39-8fdb-18e967fe8db4",
   "metadata": {},
   "source": [
    "## enumerate"
   ]
  },
  {
   "cell_type": "code",
   "execution_count": 28,
   "id": "ebccf6db-6043-46a6-a473-869a095fbae2",
   "metadata": {},
   "outputs": [],
   "source": [
    "#인지하고 있어라ㅏㅏ외우면 더 좋다ㅏㅏㅏㅏ"
   ]
  },
  {
   "cell_type": "code",
   "execution_count": 29,
   "id": "d9072e71-c029-436b-a86e-19ce5479437a",
   "metadata": {},
   "outputs": [],
   "source": [
    "#순서가 있는 데이터를 받을 경우 = immutable"
   ]
  },
  {
   "cell_type": "code",
   "execution_count": 30,
   "id": "a81d0386-703e-408a-99a8-7713940720dd",
   "metadata": {},
   "outputs": [],
   "source": [
    "# 인덱스 값을 포함하는 enumerate 객체를 리턴한다."
   ]
  },
  {
   "cell_type": "code",
   "execution_count": 34,
   "id": "dcb4fd79-a9d7-41ad-a3e0-d6d6609b01db",
   "metadata": {},
   "outputs": [
    {
     "name": "stdout",
     "output_type": "stream",
     "text": [
      "<enumerate object at 0x00000287A4D384F0>\n",
      "0 body\n",
      "<enumerate object at 0x00000287A4D384F0>\n",
      "1 foo\n",
      "<enumerate object at 0x00000287A4D384F0>\n",
      "2 bar\n"
     ]
    }
   ],
   "source": [
    "for i, name in enumerate(['body', 'foo', 'bar']):\n",
    "    print(enumerate(['body', 'foo', 'bar']))\n",
    "    print(i,name)\n",
    "\n",
    "#객체\n",
    "# 인덱스 붙이기 위해 따로 for문을 쓸 필요가 없어짐~"
   ]
  },
  {
   "cell_type": "markdown",
   "id": "24fc291f-40cd-4d00-bfbc-86cb7521b9a2",
   "metadata": {},
   "source": [
    "## eval"
   ]
  },
  {
   "cell_type": "code",
   "execution_count": 35,
   "id": "7b2c382d-e4ab-4f47-9b31-6c916e28f260",
   "metadata": {},
   "outputs": [
    {
     "data": {
      "text/plain": [
       "3"
      ]
     },
     "execution_count": 35,
     "metadata": {},
     "output_type": "execute_result"
    }
   ],
   "source": [
    "eval('1+2')"
   ]
  },
  {
   "cell_type": "code",
   "execution_count": 36,
   "id": "2ef7fd77-e4c1-4b06-9c94-9cf3683ca5d3",
   "metadata": {},
   "outputs": [
    {
     "data": {
      "text/plain": [
       "'hia'"
      ]
     },
     "execution_count": 36,
     "metadata": {},
     "output_type": "execute_result"
    }
   ],
   "source": [
    "eval(\" 'hi' + 'a' \")"
   ]
  },
  {
   "cell_type": "code",
   "execution_count": 37,
   "id": "86e4205e-5741-4514-9f46-b334a868e6b5",
   "metadata": {},
   "outputs": [
    {
     "data": {
      "text/plain": [
       "(1, 1)"
      ]
     },
     "execution_count": 37,
     "metadata": {},
     "output_type": "execute_result"
    }
   ],
   "source": [
    "eval('divmod(4,3)')"
   ]
  },
  {
   "cell_type": "markdown",
   "id": "fadbf7e7-4720-48b5-96dc-f1b6c61f262c",
   "metadata": {},
   "source": [
    "## filter"
   ]
  },
  {
   "cell_type": "code",
   "execution_count": 38,
   "id": "370644d4-eb67-479c-91f3-394f9cf043d9",
   "metadata": {},
   "outputs": [
    {
     "name": "stdout",
     "output_type": "stream",
     "text": [
      "[1, 2, 6]\n"
     ]
    }
   ],
   "source": [
    "def positive(l): \n",
    "    result = [] \n",
    "    for i in l: \n",
    "        if i > 0: \n",
    "            result.append(i) \n",
    "    return result\n",
    "\n",
    "print(positive([1,-3,2,0,-5,6]))"
   ]
  },
  {
   "cell_type": "code",
   "execution_count": 39,
   "id": "03732582-efb2-42db-9542-636d6b7a2ab1",
   "metadata": {},
   "outputs": [],
   "source": [
    "def positive(x):\n",
    "    return x > 0"
   ]
  },
  {
   "cell_type": "code",
   "execution_count": 40,
   "id": "a9de8952-1149-41e5-a96b-6792a729c4b7",
   "metadata": {},
   "outputs": [
    {
     "data": {
      "text/plain": [
       "<filter at 0x287a41b23e0>"
      ]
     },
     "execution_count": 40,
     "metadata": {},
     "output_type": "execute_result"
    }
   ],
   "source": [
    "filter(positive, [1,-3,2,0,-5,6])"
   ]
  },
  {
   "cell_type": "code",
   "execution_count": 41,
   "id": "8617b581-2a31-4ecc-807c-6d5a87827435",
   "metadata": {},
   "outputs": [
    {
     "data": {
      "text/plain": [
       "[1, 2, 6]"
      ]
     },
     "execution_count": 41,
     "metadata": {},
     "output_type": "execute_result"
    }
   ],
   "source": [
    "list(filter(positive, [1,-3,2,0,-5,6]))"
   ]
  },
  {
   "cell_type": "code",
   "execution_count": null,
   "id": "9469a328-8bbe-421c-b7cf-a0d300e90c4e",
   "metadata": {},
   "outputs": [],
   "source": [
    "positive = lambder x: x>0"
   ]
  },
  {
   "cell_type": "code",
   "execution_count": 43,
   "id": "61d26bbc-d74a-48e6-93bd-1dd506caa486",
   "metadata": {},
   "outputs": [
    {
     "data": {
      "text/plain": [
       "<filter at 0x287a41b1e40>"
      ]
     },
     "execution_count": 43,
     "metadata": {},
     "output_type": "execute_result"
    }
   ],
   "source": [
    "filter(lambda x: x>0, [1,-3,2,0,-5,6])"
   ]
  },
  {
   "cell_type": "code",
   "execution_count": 44,
   "id": "b88e9311-c2cb-4934-a00e-fd99f1609145",
   "metadata": {},
   "outputs": [
    {
     "data": {
      "text/plain": [
       "[1, 2, 6]"
      ]
     },
     "execution_count": 44,
     "metadata": {},
     "output_type": "execute_result"
    }
   ],
   "source": [
    "list(filter(lambda x: x>0, [1,-3,2,0,-5,6]))"
   ]
  },
  {
   "cell_type": "markdown",
   "id": "13c39c90-767c-49ee-b8b9-30188c7b054c",
   "metadata": {},
   "source": [
    "## int"
   ]
  },
  {
   "cell_type": "code",
   "execution_count": 45,
   "id": "76f6b588-bd1f-4ecb-9844-0b4c34cae75f",
   "metadata": {},
   "outputs": [
    {
     "data": {
      "text/plain": [
       "3"
      ]
     },
     "execution_count": 45,
     "metadata": {},
     "output_type": "execute_result"
    }
   ],
   "source": [
    "int('3')"
   ]
  },
  {
   "cell_type": "code",
   "execution_count": 46,
   "id": "ac0be3fa-fd17-4337-8d28-00fd04299bba",
   "metadata": {},
   "outputs": [
    {
     "data": {
      "text/plain": [
       "3"
      ]
     },
     "execution_count": 46,
     "metadata": {},
     "output_type": "execute_result"
    }
   ],
   "source": [
    "int(3.4)"
   ]
  },
  {
   "cell_type": "code",
   "execution_count": 47,
   "id": "a0215843-461b-4c35-a1cb-a22b2b04f837",
   "metadata": {},
   "outputs": [
    {
     "data": {
      "text/plain": [
       "3"
      ]
     },
     "execution_count": 47,
     "metadata": {},
     "output_type": "execute_result"
    }
   ],
   "source": [
    "int('11',2)"
   ]
  },
  {
   "cell_type": "code",
   "execution_count": 49,
   "id": "3f8d15bb-9a4e-4ad8-8cef-aa117535c16c",
   "metadata": {},
   "outputs": [
    {
     "data": {
      "text/plain": [
       "26"
      ]
     },
     "execution_count": 49,
     "metadata": {},
     "output_type": "execute_result"
    }
   ],
   "source": [
    "int('1A',16)"
   ]
  },
  {
   "cell_type": "markdown",
   "id": "5718e89c-30aa-49a6-ad4a-299fd43ea3be",
   "metadata": {},
   "source": [
    "## isinstance"
   ]
  },
  {
   "cell_type": "code",
   "execution_count": 50,
   "id": "d602a58e-fb45-499f-a746-6b702876db5a",
   "metadata": {},
   "outputs": [],
   "source": [
    "class Person: pass"
   ]
  },
  {
   "cell_type": "code",
   "execution_count": 52,
   "id": "d80b6908-f936-43e1-83eb-851ad718bf52",
   "metadata": {},
   "outputs": [
    {
     "data": {
      "text/plain": [
       "<__main__.Person at 0x287a4d4a3d0>"
      ]
     },
     "execution_count": 52,
     "metadata": {},
     "output_type": "execute_result"
    }
   ],
   "source": [
    "a = Person()\n",
    "a"
   ]
  },
  {
   "cell_type": "code",
   "execution_count": 53,
   "id": "485aae6d-6c3d-4d29-9309-c0815e557208",
   "metadata": {},
   "outputs": [
    {
     "data": {
      "text/plain": [
       "True"
      ]
     },
     "execution_count": 53,
     "metadata": {},
     "output_type": "execute_result"
    }
   ],
   "source": [
    "isinstance(a,Person)"
   ]
  },
  {
   "cell_type": "code",
   "execution_count": 56,
   "id": "eff23c54-703c-4c58-883f-086f43283c21",
   "metadata": {},
   "outputs": [
    {
     "data": {
      "text/plain": [
       "False"
      ]
     },
     "execution_count": 56,
     "metadata": {},
     "output_type": "execute_result"
    }
   ],
   "source": [
    "b=3\n",
    "isinstance(b,Person)"
   ]
  },
  {
   "cell_type": "markdown",
   "id": "3d1fdddc-91cb-44d0-a67d-6542961ccd78",
   "metadata": {},
   "source": [
    "## list"
   ]
  },
  {
   "cell_type": "code",
   "execution_count": 57,
   "id": "88138cf3-8dca-4dbe-bac1-84aca611c47a",
   "metadata": {},
   "outputs": [
    {
     "data": {
      "text/plain": [
       "['p', 'y', 't', 'h', 'o', 'n']"
      ]
     },
     "execution_count": 57,
     "metadata": {},
     "output_type": "execute_result"
    }
   ],
   "source": [
    "list('python')"
   ]
  },
  {
   "cell_type": "code",
   "execution_count": 59,
   "id": "8293eef4-4aa3-4b63-ba3b-71f943a3900b",
   "metadata": {},
   "outputs": [
    {
     "data": {
      "text/plain": [
       "[1, 2, 3]"
      ]
     },
     "execution_count": 59,
     "metadata": {},
     "output_type": "execute_result"
    }
   ],
   "source": [
    "list((1,2,3))"
   ]
  },
  {
   "cell_type": "markdown",
   "id": "679c3821-4c1d-4388-b470-3709d794f22e",
   "metadata": {},
   "source": [
    "## map"
   ]
  },
  {
   "cell_type": "code",
   "execution_count": 60,
   "id": "cd5269c2-89ad-4669-83bd-cdfee81fa065",
   "metadata": {},
   "outputs": [
    {
     "name": "stdout",
     "output_type": "stream",
     "text": [
      "[2, 4, 6, 8]\n"
     ]
    }
   ],
   "source": [
    "def two_times(numberList):\n",
    "    result = []\n",
    "    for number in numberList:\n",
    "        result.append(number*2)\n",
    "    return result\n",
    "\n",
    "result = two_times([1, 2, 3, 4])\n",
    "print(result)"
   ]
  },
  {
   "cell_type": "code",
   "execution_count": 62,
   "id": "e433842d-d81c-4a1f-bbd4-617e66f86b9b",
   "metadata": {},
   "outputs": [],
   "source": [
    "def two_times(x):\n",
    "    return x*2"
   ]
  },
  {
   "cell_type": "code",
   "execution_count": 63,
   "id": "baebc18f-f12c-4d8a-83b4-15b7f84d9613",
   "metadata": {},
   "outputs": [
    {
     "data": {
      "text/plain": [
       "[2, 4, 6, 8]"
      ]
     },
     "execution_count": 63,
     "metadata": {},
     "output_type": "execute_result"
    }
   ],
   "source": [
    "list(map(two_times, [1, 2, 3, 4]))\n",
    "[2, 4, 6, 8]"
   ]
  },
  {
   "cell_type": "code",
   "execution_count": 64,
   "id": "f3b7536d-0463-4a4e-aff7-5cabe5193ef5",
   "metadata": {},
   "outputs": [
    {
     "data": {
      "text/plain": [
       "[2, 4, 6, 8]"
      ]
     },
     "execution_count": 64,
     "metadata": {},
     "output_type": "execute_result"
    }
   ],
   "source": [
    "list(map(lambda x:x*2,[1,2,3,4]))"
   ]
  },
  {
   "cell_type": "markdown",
   "id": "ca7dcf87-1fa9-49df-9bb4-cd9de40fd438",
   "metadata": {},
   "source": [
    "## max"
   ]
  },
  {
   "cell_type": "code",
   "execution_count": 65,
   "id": "8bf9e318-1455-4019-9bef-abd64ab9b435",
   "metadata": {},
   "outputs": [
    {
     "data": {
      "text/plain": [
       "3"
      ]
     },
     "execution_count": 65,
     "metadata": {},
     "output_type": "execute_result"
    }
   ],
   "source": [
    "max([1,2,3])"
   ]
  },
  {
   "cell_type": "code",
   "execution_count": 66,
   "id": "e392922f-43de-41e2-8ce5-db4770b3099b",
   "metadata": {},
   "outputs": [
    {
     "data": {
      "text/plain": [
       "1"
      ]
     },
     "execution_count": 66,
     "metadata": {},
     "output_type": "execute_result"
    }
   ],
   "source": [
    "min([1,2,3])"
   ]
  },
  {
   "cell_type": "code",
   "execution_count": 67,
   "id": "c8870dc3-01c7-4317-a1b4-b0e651cd86f7",
   "metadata": {},
   "outputs": [
    {
     "data": {
      "text/plain": [
       "97"
      ]
     },
     "execution_count": 67,
     "metadata": {},
     "output_type": "execute_result"
    }
   ],
   "source": [
    "ord('a')"
   ]
  },
  {
   "cell_type": "code",
   "execution_count": 70,
   "id": "70903aaf-5044-46b5-94d7-9c7bf931f300",
   "metadata": {},
   "outputs": [
    {
     "data": {
      "text/plain": [
       "'a'"
      ]
     },
     "execution_count": 70,
     "metadata": {},
     "output_type": "execute_result"
    }
   ],
   "source": [
    "chr(97)"
   ]
  },
  {
   "cell_type": "markdown",
   "id": "2c70756d-ec1e-4ac4-8474-b3c9f8e63676",
   "metadata": {},
   "source": [
    "## pow"
   ]
  },
  {
   "cell_type": "code",
   "execution_count": 72,
   "id": "d0c30447-edcd-4c7e-ade7-31c20bebd183",
   "metadata": {},
   "outputs": [
    {
     "data": {
      "text/plain": [
       "16"
      ]
     },
     "execution_count": 72,
     "metadata": {},
     "output_type": "execute_result"
    }
   ],
   "source": [
    "pow(2,4)"
   ]
  },
  {
   "cell_type": "code",
   "execution_count": 73,
   "id": "168aaa34-adf3-494a-9e09-a07ef53ee85e",
   "metadata": {},
   "outputs": [
    {
     "data": {
      "text/plain": [
       "8"
      ]
     },
     "execution_count": 73,
     "metadata": {},
     "output_type": "execute_result"
    }
   ],
   "source": [
    "pow(2,3)"
   ]
  },
  {
   "cell_type": "markdown",
   "id": "6c2b3525-d067-419b-9331-5d8c23fe4681",
   "metadata": {},
   "source": [
    "## range"
   ]
  },
  {
   "cell_type": "code",
   "execution_count": 74,
   "id": "c61c5000-38e2-48ae-900f-b49e99fcd9ab",
   "metadata": {},
   "outputs": [
    {
     "data": {
      "text/plain": [
       "range(0, 5)"
      ]
     },
     "execution_count": 74,
     "metadata": {},
     "output_type": "execute_result"
    }
   ],
   "source": [
    "range(5)"
   ]
  },
  {
   "cell_type": "code",
   "execution_count": 75,
   "id": "9cb4c6ba-73d5-4ab9-affc-f2cc49ab2605",
   "metadata": {},
   "outputs": [
    {
     "data": {
      "text/plain": [
       "[0, 1, 2, 3, 4]"
      ]
     },
     "execution_count": 75,
     "metadata": {},
     "output_type": "execute_result"
    }
   ],
   "source": [
    "list(range(5))"
   ]
  },
  {
   "cell_type": "code",
   "execution_count": 77,
   "id": "3741ae80-64f0-4b88-a306-187e882dcbd2",
   "metadata": {},
   "outputs": [
    {
     "data": {
      "text/plain": [
       "[5, 6, 7, 8, 9]"
      ]
     },
     "execution_count": 77,
     "metadata": {},
     "output_type": "execute_result"
    }
   ],
   "source": [
    "list(range(5,10))"
   ]
  },
  {
   "cell_type": "code",
   "execution_count": 78,
   "id": "f880d2b5-887a-4ed1-8018-c48ef4cce033",
   "metadata": {},
   "outputs": [
    {
     "data": {
      "text/plain": [
       "[5, 7, 9]"
      ]
     },
     "execution_count": 78,
     "metadata": {},
     "output_type": "execute_result"
    }
   ],
   "source": [
    "list(range(5,10,2))"
   ]
  },
  {
   "cell_type": "markdown",
   "id": "56dbb8e9-4fcd-4614-a4c9-07bd68816cec",
   "metadata": {},
   "source": [
    "## round"
   ]
  },
  {
   "cell_type": "code",
   "execution_count": 79,
   "id": "b512d60d-c90a-4976-a434-be3248762de7",
   "metadata": {},
   "outputs": [
    {
     "data": {
      "text/plain": [
       "5"
      ]
     },
     "execution_count": 79,
     "metadata": {},
     "output_type": "execute_result"
    }
   ],
   "source": [
    "round(4.6)"
   ]
  },
  {
   "cell_type": "code",
   "execution_count": 80,
   "id": "3fa8a3cf-d75e-4b75-9d0f-e25b9ba5c5dc",
   "metadata": {},
   "outputs": [
    {
     "data": {
      "text/plain": [
       "5.68"
      ]
     },
     "execution_count": 80,
     "metadata": {},
     "output_type": "execute_result"
    }
   ],
   "source": [
    "round(5.678,2)"
   ]
  },
  {
   "cell_type": "markdown",
   "id": "9f307f23-de45-4479-a90f-e9a7e93c4697",
   "metadata": {},
   "source": [
    "## sorted"
   ]
  },
  {
   "cell_type": "code",
   "execution_count": 83,
   "id": "ec1e840d-874a-402e-8a58-0bf411f10fbf",
   "metadata": {},
   "outputs": [
    {
     "data": {
      "text/plain": [
       "[1, 2, 3]"
      ]
     },
     "execution_count": 83,
     "metadata": {},
     "output_type": "execute_result"
    }
   ],
   "source": [
    "sorted([3,1,2])"
   ]
  },
  {
   "cell_type": "code",
   "execution_count": 84,
   "id": "cc178009-1dd9-48dd-86dc-870185b0b5e5",
   "metadata": {},
   "outputs": [
    {
     "data": {
      "text/plain": [
       "['a', 'b', 'c']"
      ]
     },
     "execution_count": 84,
     "metadata": {},
     "output_type": "execute_result"
    }
   ],
   "source": [
    "sorted(['a','c','b'])"
   ]
  },
  {
   "cell_type": "code",
   "execution_count": 85,
   "id": "2f924b44-e8cf-4d6e-b6c0-621bf382e22e",
   "metadata": {},
   "outputs": [
    {
     "data": {
      "text/plain": [
       "['e', 'o', 'r', 'z']"
      ]
     },
     "execution_count": 85,
     "metadata": {},
     "output_type": "execute_result"
    }
   ],
   "source": [
    "sorted('zero')"
   ]
  },
  {
   "cell_type": "markdown",
   "id": "d9acacaf-5192-4858-8581-48e60c93aef0",
   "metadata": {},
   "source": [
    "## zip"
   ]
  },
  {
   "cell_type": "code",
   "execution_count": 86,
   "id": "434eac07-7a78-4683-b3f3-59230d1315ea",
   "metadata": {},
   "outputs": [],
   "source": [
    "# iterable한 객체가 들어갔을 때 동일한 데이터들을 묶어서 리턴"
   ]
  },
  {
   "cell_type": "code",
   "execution_count": 87,
   "id": "70be20e9-f77c-43b9-909a-bc243d47390e",
   "metadata": {},
   "outputs": [],
   "source": [
    "#enumalate, filter, map, zip"
   ]
  },
  {
   "cell_type": "code",
   "execution_count": 88,
   "id": "65228fcb-8b6c-4268-853c-5da341170922",
   "metadata": {},
   "outputs": [
    {
     "data": {
      "text/plain": [
       "<zip at 0x287a40406c0>"
      ]
     },
     "execution_count": 88,
     "metadata": {},
     "output_type": "execute_result"
    }
   ],
   "source": [
    "zip([1,2,3,],[4,5,6])"
   ]
  },
  {
   "cell_type": "code",
   "execution_count": 89,
   "id": "b2a34d5f-0665-4b5f-8068-dac836fa1957",
   "metadata": {},
   "outputs": [
    {
     "data": {
      "text/plain": [
       "[(1, 4), (2, 5), (3, 6)]"
      ]
     },
     "execution_count": 89,
     "metadata": {},
     "output_type": "execute_result"
    }
   ],
   "source": [
    "list(zip([1,2,3,],[4,5,6]))"
   ]
  },
  {
   "cell_type": "markdown",
   "id": "ad37723b-84fd-4215-8c46-d3efae4e905f",
   "metadata": {},
   "source": [
    "# 표준 라이브러리"
   ]
  },
  {
   "cell_type": "markdown",
   "id": "d60ee757-f371-4994-9666-67f2133c6e0e",
   "metadata": {},
   "source": [
    "## datetime"
   ]
  },
  {
   "cell_type": "code",
   "execution_count": 94,
   "id": "47450088-8eda-45f4-bdd2-993caae9350e",
   "metadata": {},
   "outputs": [],
   "source": [
    "import datetime\n",
    "day1 = datetime.date(2024, 5, 2)\n",
    "day2 = datetime.date(2024, 6, 18)"
   ]
  },
  {
   "cell_type": "code",
   "execution_count": 95,
   "id": "7190cb40-2533-4d41-9cd9-10282c0cfbb5",
   "metadata": {},
   "outputs": [
    {
     "data": {
      "text/plain": [
       "(datetime.date(2024, 5, 2), datetime.date(2024, 6, 18))"
      ]
     },
     "execution_count": 95,
     "metadata": {},
     "output_type": "execute_result"
    }
   ],
   "source": [
    "day1, day2"
   ]
  },
  {
   "cell_type": "code",
   "execution_count": 96,
   "id": "0556a703-01d3-48d1-9345-5dfc1a88ace4",
   "metadata": {},
   "outputs": [
    {
     "data": {
      "text/plain": [
       "47"
      ]
     },
     "execution_count": 96,
     "metadata": {},
     "output_type": "execute_result"
    }
   ],
   "source": [
    "diff = day2-day1\n",
    "diff.days"
   ]
  },
  {
   "cell_type": "code",
   "execution_count": 97,
   "id": "cfc5c4ac-6e44-4845-aaa4-c1844d04afb9",
   "metadata": {},
   "outputs": [
    {
     "data": {
      "text/plain": [
       "1"
      ]
     },
     "execution_count": 97,
     "metadata": {},
     "output_type": "execute_result"
    }
   ],
   "source": [
    "day = datetime.date(2024,6,18)\n",
    "day.weekday() #0부터 시작해서 화요일"
   ]
  },
  {
   "cell_type": "code",
   "execution_count": 99,
   "id": "94a842f3-05cf-4dc9-afb6-79729ae1eae5",
   "metadata": {},
   "outputs": [
    {
     "data": {
      "text/plain": [
       "2"
      ]
     },
     "execution_count": 99,
     "metadata": {},
     "output_type": "execute_result"
    }
   ],
   "source": [
    "day.isoweekday() #1부터 시작해서 화요일"
   ]
  },
  {
   "cell_type": "markdown",
   "id": "718c447d-054a-4e87-9d8a-088371c83497",
   "metadata": {},
   "source": [
    "## time"
   ]
  },
  {
   "cell_type": "code",
   "execution_count": 101,
   "id": "df0d6e92-0f70-48c4-831b-3a62cbcd04e2",
   "metadata": {},
   "outputs": [
    {
     "data": {
      "text/plain": [
       "1718691071.0104141"
      ]
     },
     "execution_count": 101,
     "metadata": {},
     "output_type": "execute_result"
    }
   ],
   "source": [
    "import time\n",
    "time.time() # 기준은 1970 1 1 00:00:00 기준에서 초로 얼마나 지났는지"
   ]
  },
  {
   "cell_type": "code",
   "execution_count": 102,
   "id": "d2595e67-37e0-48f4-8da0-77b660b81d29",
   "metadata": {},
   "outputs": [
    {
     "data": {
      "text/plain": [
       "time.struct_time(tm_year=2024, tm_mon=6, tm_mday=18, tm_hour=15, tm_min=11, tm_sec=24, tm_wday=1, tm_yday=170, tm_isdst=0)"
      ]
     },
     "execution_count": 102,
     "metadata": {},
     "output_type": "execute_result"
    }
   ],
   "source": [
    "time.localtime(time.time())"
   ]
  },
  {
   "cell_type": "code",
   "execution_count": 105,
   "id": "a4e52c66-b36b-4045-b8b9-73bb2e7d8d29",
   "metadata": {},
   "outputs": [
    {
     "data": {
      "text/plain": [
       "'Tue Jun 18 15:12:03 2024'"
      ]
     },
     "execution_count": 105,
     "metadata": {},
     "output_type": "execute_result"
    }
   ],
   "source": [
    "time.asctime(time.localtime(time.time()))"
   ]
  },
  {
   "cell_type": "code",
   "execution_count": 107,
   "id": "70a6926a-135b-4078-98a1-ced3c033aea6",
   "metadata": {},
   "outputs": [
    {
     "data": {
      "text/plain": [
       "'Tue Jun 18 15:12:22 2024'"
      ]
     },
     "execution_count": 107,
     "metadata": {},
     "output_type": "execute_result"
    }
   ],
   "source": [
    "time.ctime()"
   ]
  },
  {
   "cell_type": "code",
   "execution_count": 109,
   "id": "8514c337-3da3-4846-9613-80e66b26a350",
   "metadata": {},
   "outputs": [
    {
     "data": {
      "text/plain": [
       "'06/18/24'"
      ]
     },
     "execution_count": 109,
     "metadata": {},
     "output_type": "execute_result"
    }
   ],
   "source": [
    "#str format time\n",
    "time.strftime('%x',time.localtime(time.time()))"
   ]
  },
  {
   "cell_type": "code",
   "execution_count": 110,
   "id": "3f24f044-60ab-4d4e-bfb7-c7eef33fa6ff",
   "metadata": {},
   "outputs": [
    {
     "data": {
      "text/plain": [
       "'Tue Jun 18 15:14:21 2024'"
      ]
     },
     "execution_count": 110,
     "metadata": {},
     "output_type": "execute_result"
    }
   ],
   "source": [
    "time.strftime('%c',time.localtime(time.time()))"
   ]
  },
  {
   "cell_type": "code",
   "execution_count": 114,
   "id": "665cf6c0-5981-42b7-98c6-e5150616fdc2",
   "metadata": {},
   "outputs": [
    {
     "name": "stdout",
     "output_type": "stream",
     "text": [
      "0\n",
      "1\n",
      "2\n",
      "3\n",
      "4\n",
      "5\n",
      "6\n",
      "7\n",
      "8\n",
      "9\n"
     ]
    }
   ],
   "source": [
    "for i in range(10):\n",
    "    print(i)\n",
    "    time.sleep(1)\n",
    "# 짱신기해.. 일정 간격으로 한개씩 값 나옴"
   ]
  },
  {
   "cell_type": "markdown",
   "id": "de11bc27-6f8e-4f50-8494-9dc59382b791",
   "metadata": {},
   "source": [
    "## random\n",
    "난수를 발생시킴"
   ]
  },
  {
   "cell_type": "code",
   "execution_count": 116,
   "id": "3c0eb3cc-1c18-4e0a-a749-5393fdf44e64",
   "metadata": {},
   "outputs": [
    {
     "data": {
      "text/plain": [
       "0.3940442990463252"
      ]
     },
     "execution_count": 116,
     "metadata": {},
     "output_type": "execute_result"
    }
   ],
   "source": [
    "import random\n",
    "random.random() #무작위로 실수가 나옴"
   ]
  },
  {
   "cell_type": "code",
   "execution_count": 118,
   "id": "ba31e2a0-1639-4704-a754-7ffab1aa95e9",
   "metadata": {},
   "outputs": [
    {
     "data": {
      "text/plain": [
       "0.11976189959525096"
      ]
     },
     "execution_count": 118,
     "metadata": {},
     "output_type": "execute_result"
    }
   ],
   "source": [
    "import random\n",
    "random.random() # 0~1사이 실수"
   ]
  },
  {
   "cell_type": "code",
   "execution_count": 125,
   "id": "7a9dcd7b-32e1-4774-9044-a844fdb7729d",
   "metadata": {},
   "outputs": [
    {
     "data": {
      "text/plain": [
       "10"
      ]
     },
     "execution_count": 125,
     "metadata": {},
     "output_type": "execute_result"
    }
   ],
   "source": [
    "import random\n",
    "random.randint(1,10)"
   ]
  },
  {
   "cell_type": "code",
   "execution_count": 127,
   "id": "7c964900-6a91-47e9-826e-7fd2a7616a45",
   "metadata": {},
   "outputs": [
    {
     "data": {
      "text/plain": [
       "6"
      ]
     },
     "execution_count": 127,
     "metadata": {},
     "output_type": "execute_result"
    }
   ],
   "source": [
    "import random\n",
    "random.randint(1,10)"
   ]
  },
  {
   "cell_type": "code",
   "execution_count": 128,
   "id": "15a815dc-8af6-4e4e-8657-8875d6d52ead",
   "metadata": {},
   "outputs": [
    {
     "data": {
      "text/plain": [
       "7"
      ]
     },
     "execution_count": 128,
     "metadata": {},
     "output_type": "execute_result"
    }
   ],
   "source": [
    "import random\n",
    "random.randint(1,10)"
   ]
  },
  {
   "cell_type": "code",
   "execution_count": 129,
   "id": "511fde29-2954-49e0-b3f0-7a5c1db35d06",
   "metadata": {},
   "outputs": [
    {
     "data": {
      "text/plain": [
       "4"
      ]
     },
     "execution_count": 129,
     "metadata": {},
     "output_type": "execute_result"
    }
   ],
   "source": [
    "random.randint(1,55)"
   ]
  },
  {
   "cell_type": "markdown",
   "id": "23221c67-028a-464e-936a-55ff7ba23674",
   "metadata": {},
   "source": [
    "## Quiz. 로또 번호 추출해보기"
   ]
  },
  {
   "cell_type": "code",
   "execution_count": 150,
   "id": "225c0009-6d59-430b-8121-d5dc55c06045",
   "metadata": {},
   "outputs": [
    {
     "name": "stdout",
     "output_type": "stream",
     "text": [
      "15\n",
      "15\n",
      "15\n",
      "15\n",
      "15\n",
      "15\n"
     ]
    }
   ],
   "source": [
    "lotto = random.randint(1,45)\n",
    "num = [1,2,3,4,5,6]\n",
    "for i in num:\n",
    "    print(lotto)\n",
    "# 아 몰라"
   ]
  },
  {
   "cell_type": "code",
   "execution_count": 152,
   "id": "fe3b72ea-6a9b-4ebd-a73a-b0a37d2eaada",
   "metadata": {},
   "outputs": [
    {
     "data": {
      "text/plain": [
       "\u001b[1;31mSignature:\u001b[0m \u001b[0mrandom\u001b[0m\u001b[1;33m.\u001b[0m\u001b[0mchoice\u001b[0m\u001b[1;33m(\u001b[0m\u001b[0mseq\u001b[0m\u001b[1;33m)\u001b[0m\u001b[1;33m\u001b[0m\u001b[1;33m\u001b[0m\u001b[0m\n",
       "\u001b[1;31mDocstring:\u001b[0m Choose a random element from a non-empty sequence.\n",
       "\u001b[1;31mFile:\u001b[0m      c:\\users\\choiminsoo\\anaconda3\\lib\\random.py\n",
       "\u001b[1;31mType:\u001b[0m      method"
      ]
     },
     "metadata": {},
     "output_type": "display_data"
    }
   ],
   "source": [
    "random.choice?"
   ]
  },
  {
   "cell_type": "code",
   "execution_count": 153,
   "id": "29444484-9eb4-419a-ad59-f6c91242afbb",
   "metadata": {},
   "outputs": [
    {
     "data": {
      "text/plain": [
       "\u001b[1;31mSignature:\u001b[0m \u001b[0mrandom\u001b[0m\u001b[1;33m.\u001b[0m\u001b[0msample\u001b[0m\u001b[1;33m(\u001b[0m\u001b[0mpopulation\u001b[0m\u001b[1;33m,\u001b[0m \u001b[0mk\u001b[0m\u001b[1;33m,\u001b[0m \u001b[1;33m*\u001b[0m\u001b[1;33m,\u001b[0m \u001b[0mcounts\u001b[0m\u001b[1;33m=\u001b[0m\u001b[1;32mNone\u001b[0m\u001b[1;33m)\u001b[0m\u001b[1;33m\u001b[0m\u001b[1;33m\u001b[0m\u001b[0m\n",
       "\u001b[1;31mDocstring:\u001b[0m\n",
       "Chooses k unique random elements from a population sequence.\n",
       "\n",
       "Returns a new list containing elements from the population while\n",
       "leaving the original population unchanged.  The resulting list is\n",
       "in selection order so that all sub-slices will also be valid random\n",
       "samples.  This allows raffle winners (the sample) to be partitioned\n",
       "into grand prize and second place winners (the subslices).\n",
       "\n",
       "Members of the population need not be hashable or unique.  If the\n",
       "population contains repeats, then each occurrence is a possible\n",
       "selection in the sample.\n",
       "\n",
       "Repeated elements can be specified one at a time or with the optional\n",
       "counts parameter.  For example:\n",
       "\n",
       "    sample(['red', 'blue'], counts=[4, 2], k=5)\n",
       "\n",
       "is equivalent to:\n",
       "\n",
       "    sample(['red', 'red', 'red', 'red', 'blue', 'blue'], k=5)\n",
       "\n",
       "To choose a sample from a range of integers, use range() for the\n",
       "population argument.  This is especially fast and space efficient\n",
       "for sampling from a large population:\n",
       "\n",
       "    sample(range(10000000), 60)\n",
       "\u001b[1;31mFile:\u001b[0m      c:\\users\\choiminsoo\\anaconda3\\lib\\random.py\n",
       "\u001b[1;31mType:\u001b[0m      method"
      ]
     },
     "metadata": {},
     "output_type": "display_data"
    }
   ],
   "source": [
    "random.sample?"
   ]
  },
  {
   "cell_type": "code",
   "execution_count": 160,
   "id": "0f567ac8-ddce-4b99-bde5-d212c5477447",
   "metadata": {},
   "outputs": [],
   "source": [
    "import random\n",
    "def random_pop(data):\n",
    "    number = random.choice(data)\n",
    "    data.remove(number)\n",
    "    return number"
   ]
  },
  {
   "cell_type": "code",
   "execution_count": 161,
   "id": "19020332-99b5-42ee-93e0-ff81709e8762",
   "metadata": {},
   "outputs": [
    {
     "ename": "IndentationError",
     "evalue": "unexpected indent (1700961020.py, line 2)",
     "output_type": "error",
     "traceback": [
      "\u001b[1;36m  Cell \u001b[1;32mIn[161], line 2\u001b[1;36m\u001b[0m\n\u001b[1;33m    while data:\u001b[0m\n\u001b[1;37m    ^\u001b[0m\n\u001b[1;31mIndentationError\u001b[0m\u001b[1;31m:\u001b[0m unexpected indent\n"
     ]
    }
   ],
   "source": [
    " data = [1, 2, 3, 4, 5]\n",
    "    while data: \n",
    "        print(random_pop(data))"
   ]
  },
  {
   "cell_type": "code",
   "execution_count": 156,
   "id": "5b309811-067a-4cc1-bf00-8bcfda599956",
   "metadata": {},
   "outputs": [],
   "source": [
    "def random_pop(data):\n",
    "    number = random.randint(0, len(data)-1)\n",
    "    return data.pop(number)"
   ]
  },
  {
   "cell_type": "code",
   "execution_count": null,
   "id": "e0e25e5c-96dd-4cc2-a761-6b77432224b1",
   "metadata": {},
   "outputs": [],
   "source": []
  },
  {
   "cell_type": "code",
   "execution_count": 200,
   "id": "6340adb3-e0ed-423c-bbb5-d33bb0a139f2",
   "metadata": {},
   "outputs": [
    {
     "data": {
      "text/plain": [
       "[2, 3, 5, 4, 1]"
      ]
     },
     "execution_count": 200,
     "metadata": {},
     "output_type": "execute_result"
    }
   ],
   "source": [
    "import random\n",
    "data = [1, 2, 3, 4, 5]\n",
    "random.sample(data, len(data))"
   ]
  },
  {
   "cell_type": "code",
   "execution_count": 173,
   "id": "a25861b7-b2c7-40e0-9d3c-8c14c68ad6f7",
   "metadata": {},
   "outputs": [
    {
     "data": {
      "text/plain": [
       "[34, 35, 25, 18, 6]"
      ]
     },
     "execution_count": 173,
     "metadata": {},
     "output_type": "execute_result"
    }
   ],
   "source": [
    "import random\n",
    "lotto = list(range(1,56))\n",
    "random.sample(lotto, 5)"
   ]
  },
  {
   "cell_type": "code",
   "execution_count": 202,
   "id": "96dc8f93-e1c3-46ff-b766-cdd0c5c3ae92",
   "metadata": {},
   "outputs": [
    {
     "data": {
      "text/plain": [
       "array([1, 1, 2, 2, 5, 1, 3, 5, 3, 5, 2, 3, 3, 5, 3, 5, 2, 5, 2, 3, 2, 3,\n",
       "       3, 4, 2, 2, 5, 5, 4, 4])"
      ]
     },
     "execution_count": 202,
     "metadata": {},
     "output_type": "execute_result"
    }
   ],
   "source": [
    "data = [1,2,3,4,5]\n",
    "import numpy as np\n",
    "np.random.choice(data,30) # <- 얜 리스트 숫자 이상으로도 뽑아낼 수 있음(복원 추출)"
   ]
  },
  {
   "cell_type": "code",
   "execution_count": 203,
   "id": "fc2f2b66-4080-430c-9f61-7bd2f80c5f2e",
   "metadata": {},
   "outputs": [
    {
     "data": {
      "text/plain": [
       "array([4, 2, 3, 5])"
      ]
     },
     "execution_count": 203,
     "metadata": {},
     "output_type": "execute_result"
    }
   ],
   "source": [
    "np.random.choice(data, 4, False) # <- 얜 리스트 숫자 넘어가면 에러 뜸(비복원 추출)"
   ]
  },
  {
   "cell_type": "markdown",
   "id": "d3454dcc-ec5d-418f-95df-4fed4bfb2ddb",
   "metadata": {},
   "source": [
    "## glob"
   ]
  },
  {
   "cell_type": "code",
   "execution_count": 204,
   "id": "44902064-97f8-465c-b09c-c3b2fe82cefa",
   "metadata": {},
   "outputs": [
    {
     "data": {
      "text/plain": [
       "'C:\\\\workspace\\\\wassup3\\\\01_Python_grammer'"
      ]
     },
     "execution_count": 204,
     "metadata": {},
     "output_type": "execute_result"
    }
   ],
   "source": [
    "pwd"
   ]
  },
  {
   "cell_type": "code",
   "execution_count": 208,
   "id": "00c4273d-734e-48e7-9e4c-f6d457ee8103",
   "metadata": {},
   "outputs": [
    {
     "data": {
      "text/plain": [
       "['C:\\\\workspace\\\\wassup3\\\\01_Python_grammer\\\\01_자료형과 변수.ipynb',\n",
       " 'C:\\\\workspace\\\\wassup3\\\\01_Python_grammer\\\\02_Control_Statement.ipynb',\n",
       " 'C:\\\\workspace\\\\wassup3\\\\01_Python_grammer\\\\02_Control_Statement_Practice.ipynb',\n",
       " 'C:\\\\workspace\\\\wassup3\\\\01_Python_grammer\\\\03_Coding_Practice_PhoneBookProgram.ipynb',\n",
       " 'C:\\\\workspace\\\\wassup3\\\\01_Python_grammer\\\\03_전화번호부.ipynb',\n",
       " 'C:\\\\workspace\\\\wassup3\\\\01_Python_grammer\\\\04_Function_IO.ipynb',\n",
       " 'C:\\\\workspace\\\\wassup3\\\\01_Python_grammer\\\\04_Function__IO_Practice_Answer.ipynb',\n",
       " 'C:\\\\workspace\\\\wassup3\\\\01_Python_grammer\\\\04_Function__IO_Practice_최민수.ipynb',\n",
       " 'C:\\\\workspace\\\\wassup3\\\\01_Python_grammer\\\\05_Class_Module.ipynb',\n",
       " 'C:\\\\workspace\\\\wassup3\\\\01_Python_grammer\\\\05_Class_Module_Practice.ipynb',\n",
       " 'C:\\\\workspace\\\\wassup3\\\\01_Python_grammer\\\\05_Class_Module_Practice_Answer.ipynb',\n",
       " 'C:\\\\workspace\\\\wassup3\\\\01_Python_grammer\\\\06_Built_in_Function_Library.ipynb',\n",
       " 'C:\\\\workspace\\\\wassup3\\\\01_Python_grammer\\\\140~200.ipynb',\n",
       " 'C:\\\\workspace\\\\wassup3\\\\01_Python_grammer\\\\201~240.ipynb',\n",
       " 'C:\\\\workspace\\\\wassup3\\\\01_Python_grammer\\\\24.06.12_01_DatatypeVariable_practice_최민수.ipynb',\n",
       " 'C:\\\\workspace\\\\wassup3\\\\01_Python_grammer\\\\24.06.13_01_Datatype_Variable_Practice_Answer.ipynb',\n",
       " 'C:\\\\workspace\\\\wassup3\\\\01_Python_grammer\\\\24.06.13_02_Control_Statement_강사님.ipynb',\n",
       " 'C:\\\\workspace\\\\wassup3\\\\01_Python_grammer\\\\24.06.13_03.전화번호부_최민수.ipynb',\n",
       " 'C:\\\\workspace\\\\wassup3\\\\01_Python_grammer\\\\24.06.14_04_Function_IO.ipynb',\n",
       " 'C:\\\\workspace\\\\wassup3\\\\01_Python_grammer\\\\81~130.ipynb',\n",
       " 'C:\\\\workspace\\\\wassup3\\\\01_Python_grammer\\\\전화번호부 예외처리_최민수.ipynb',\n",
       " 'C:\\\\workspace\\\\wassup3\\\\01_Python_grammer\\\\초보자를 위한 파이썬 300제.ipynb']"
      ]
     },
     "execution_count": 208,
     "metadata": {},
     "output_type": "execute_result"
    }
   ],
   "source": [
    "import glob\n",
    "glob.glob('C:\\\\workspace\\\\wassup3\\\\01_Python_grammer\\\\*.ipynb') #*,? 등으로 찾으면 됨"
   ]
  },
  {
   "cell_type": "markdown",
   "id": "b82a5459-58e7-4b50-bae0-f94f61b9981d",
   "metadata": {},
   "source": [
    "## quiz; 해당 경로에서 노트북 파일의 이름만 추출"
   ]
  },
  {
   "cell_type": "code",
   "execution_count": 209,
   "id": "5b25c737-596b-4a0f-a50e-49645c4d15d8",
   "metadata": {},
   "outputs": [
    {
     "name": "stdout",
     "output_type": "stream",
     "text": [
      "['C:\\\\workspace\\\\wassup3\\\\01_Python_grammer\\\\01_자료형과 변수.ipynb', 'C:\\\\workspace\\\\wassup3\\\\01_Python_grammer\\\\02_Control_Statement.ipynb', 'C:\\\\workspace\\\\wassup3\\\\01_Python_grammer\\\\02_Control_Statement_Practice.ipynb', 'C:\\\\workspace\\\\wassup3\\\\01_Python_grammer\\\\03_Coding_Practice_PhoneBookProgram.ipynb', 'C:\\\\workspace\\\\wassup3\\\\01_Python_grammer\\\\03_전화번호부.ipynb', 'C:\\\\workspace\\\\wassup3\\\\01_Python_grammer\\\\04_Function_IO.ipynb', 'C:\\\\workspace\\\\wassup3\\\\01_Python_grammer\\\\04_Function__IO_Practice_Answer.ipynb', 'C:\\\\workspace\\\\wassup3\\\\01_Python_grammer\\\\04_Function__IO_Practice_최민수.ipynb', 'C:\\\\workspace\\\\wassup3\\\\01_Python_grammer\\\\05_Class_Module.ipynb', 'C:\\\\workspace\\\\wassup3\\\\01_Python_grammer\\\\05_Class_Module_Practice.ipynb', 'C:\\\\workspace\\\\wassup3\\\\01_Python_grammer\\\\05_Class_Module_Practice_Answer.ipynb', 'C:\\\\workspace\\\\wassup3\\\\01_Python_grammer\\\\06_Built_in_Function_Library.ipynb', 'C:\\\\workspace\\\\wassup3\\\\01_Python_grammer\\\\140~200.ipynb', 'C:\\\\workspace\\\\wassup3\\\\01_Python_grammer\\\\201~240.ipynb', 'C:\\\\workspace\\\\wassup3\\\\01_Python_grammer\\\\24.06.12_01_DatatypeVariable_practice_최민수.ipynb', 'C:\\\\workspace\\\\wassup3\\\\01_Python_grammer\\\\24.06.13_01_Datatype_Variable_Practice_Answer.ipynb', 'C:\\\\workspace\\\\wassup3\\\\01_Python_grammer\\\\24.06.13_02_Control_Statement_강사님.ipynb', 'C:\\\\workspace\\\\wassup3\\\\01_Python_grammer\\\\24.06.13_03.전화번호부_최민수.ipynb', 'C:\\\\workspace\\\\wassup3\\\\01_Python_grammer\\\\24.06.14_04_Function_IO.ipynb', 'C:\\\\workspace\\\\wassup3\\\\01_Python_grammer\\\\81~130.ipynb', 'C:\\\\workspace\\\\wassup3\\\\01_Python_grammer\\\\전화번호부 예외처리_최민수.ipynb', 'C:\\\\workspace\\\\wassup3\\\\01_Python_grammer\\\\초보자를 위한 파이썬 300제.ipynb']\n"
     ]
    }
   ],
   "source": [
    "import glob\n",
    "a = glob.glob('C:\\\\workspace\\\\wassup3\\\\01_Python_grammer\\\\*.ipynb')\n",
    "print(a)\n"
   ]
  },
  {
   "cell_type": "code",
   "execution_count": 231,
   "id": "bdada557-d056-46a7-803b-99d398fb24b2",
   "metadata": {},
   "outputs": [
    {
     "name": "stdout",
     "output_type": "stream",
     "text": [
      "01_자료형과 변수.ipynb\n",
      "02_Control_Statement.ipynb\n",
      "02_Control_Statement_Practice.ipynb\n",
      "03_Coding_Practice_PhoneBookProgram.ipynb\n",
      "03_전화번호부.ipynb\n",
      "04_Function_IO.ipynb\n",
      "04_Function__IO_Practice_Answer.ipynb\n",
      "04_Function__IO_Practice_최민수.ipynb\n",
      "05_Class_Module.ipynb\n",
      "05_Class_Module_Practice.ipynb\n",
      "05_Class_Module_Practice_Answer.ipynb\n",
      "06_Built_in_Function_Library.ipynb\n",
      "140~200.ipynb\n",
      "201~240.ipynb\n",
      "24.06.12_01_DatatypeVariable_practice_최민수.ipynb\n",
      "24.06.13_01_Datatype_Variable_Practice_Answer.ipynb\n",
      "24.06.13_02_Control_Statement_강사님.ipynb\n",
      "24.06.13_03.전화번호부_최민수.ipynb\n",
      "24.06.14_04_Function_IO.ipynb\n",
      "81~130.ipynb\n",
      "전화번호부 예외처리_최민수.ipynb\n",
      "초보자를 위한 파이썬 300제.ipynb\n"
     ]
    }
   ],
   "source": [
    "b = []\n",
    "for i in a:\n",
    "    b = i.replace('C:\\\\workspace\\\\wassup3\\\\01_Python_grammer\\\\','')\n",
    "    print(b)"
   ]
  },
  {
   "cell_type": "code",
   "execution_count": 236,
   "id": "48890ce0-ce17-4ab0-9071-93734a775249",
   "metadata": {},
   "outputs": [
    {
     "name": "stdout",
     "output_type": "stream",
     "text": [
      "01_자료형과 변수\n",
      "02_Control_Statement\n",
      "02_Control_Statement_Practice\n",
      "03_Coding_Practice_PhoneBookProgram\n",
      "03_전화번호부\n",
      "04_Function_IO\n",
      "04_Function__IO_Practice_Answer\n",
      "04_Function__IO_Practice_최민수\n",
      "05_Class_Module\n",
      "05_Class_Module_Practice\n",
      "05_Class_Module_Practice_Answer\n",
      "06_Built_in_Function_Library\n",
      "140~200\n",
      "201~240\n",
      "24.06.12_01_DatatypeVariable_practice_최민수\n",
      "24.06.13_01_Datatype_Variable_Practice_Answer\n",
      "24.06.13_02_Control_Statement_강사님\n",
      "24.06.13_03.전화번호부_최민수\n",
      "24.06.14_04_Function_IO\n",
      "81~130\n",
      "전화번호부 예외처리_최민수\n",
      "초보자를 위한 파이썬 300제\n"
     ]
    }
   ],
   "source": [
    "b = []\n",
    "import glob\n",
    "a = glob.glob('C:\\\\workspace\\\\wassup3\\\\01_Python_grammer\\\\*.ipynb')\n",
    "for i in a:\n",
    "    b = i.replace('C:\\\\workspace\\\\wassup3\\\\01_Python_grammer\\\\','')\n",
    "    print(b.split('.ipynb')[0])"
   ]
  },
  {
   "cell_type": "markdown",
   "id": "6833c8ac-c1df-486a-b6e3-ab39e9f99af1",
   "metadata": {},
   "source": [
    "## OS"
   ]
  },
  {
   "cell_type": "code",
   "execution_count": 237,
   "id": "b0b5b93f-ff44-405a-afa5-c08a6602a126",
   "metadata": {},
   "outputs": [
    {
     "data": {
      "text/plain": [
       "environ{'ALLUSERSPROFILE': 'C:\\\\ProgramData',\n",
       "        'APPDATA': 'C:\\\\Users\\\\ChoiMinsoo\\\\AppData\\\\Roaming',\n",
       "        'COMMONPROGRAMFILES': 'C:\\\\Program Files\\\\Common Files',\n",
       "        'COMMONPROGRAMFILES(X86)': 'C:\\\\Program Files (x86)\\\\Common Files',\n",
       "        'COMMONPROGRAMW6432': 'C:\\\\Program Files\\\\Common Files',\n",
       "        'COMPUTERNAME': 'DESKTOP-9S9492M',\n",
       "        'COMSPEC': 'C:\\\\Windows\\\\system32\\\\cmd.exe',\n",
       "        'DRIVERDATA': 'C:\\\\Windows\\\\System32\\\\Drivers\\\\DriverData',\n",
       "        'FPS_BROWSER_APP_PROFILE_STRING': 'Internet Explorer',\n",
       "        'FPS_BROWSER_USER_PROFILE_STRING': 'Default',\n",
       "        'HOMEDRIVE': 'C:',\n",
       "        'HOMEPATH': '\\\\Users\\\\ChoiMinsoo',\n",
       "        'IGCCSVC_DB': 'AQAAANCMnd8BFdERjHoAwE/Cl+sBAAAAlBgZTRTebESRHwMkrQlpygQAAAACAAAAAAAQZgAAAAEAACAAAABLHEoVIwwuNCFiwirWfWFOafX3xvmuQzsYNcfTwlpCKQAAAAAOgAAAAAIAACAAAAB1AQGdzEE56I1tjakAjPIzVAhcwFxBXvbDo/9bxPh9cWAAAAAlKgVx3S6QUVqV5+EHeP5xta48VCkcIuMotB30aPSV6NOa0mOvp+bXxbdcTvDtL/aJs45bby8jUG6x+F4ZqSFDy68vk7CsBmKmF79zrWbLbaHvSQsFdthPl2x3KAkbo8lAAAAAv4ka0sLprWz967m7s+KxpN8m5Diqj661oZMyPdW9cTGAmGbb74iBprX/w2nh6DmSWE815d4oWNRh+JIIhMhWsA==',\n",
       "        'LOCALAPPDATA': 'C:\\\\Users\\\\ChoiMinsoo\\\\AppData\\\\Local',\n",
       "        'LOGONSERVER': '\\\\\\\\DESKTOP-9S9492M',\n",
       "        'NUMBER_OF_PROCESSORS': '24',\n",
       "        'ONEDRIVE': 'C:\\\\Users\\\\ChoiMinsoo\\\\OneDrive',\n",
       "        'OS': 'Windows_NT',\n",
       "        'PATH': 'C:\\\\Users\\\\ChoiMinsoo\\\\anaconda3;C:\\\\Users\\\\ChoiMinsoo\\\\anaconda3\\\\Library\\\\mingw-w64\\\\bin;C:\\\\Users\\\\ChoiMinsoo\\\\anaconda3\\\\Library\\\\usr\\\\bin;C:\\\\Users\\\\ChoiMinsoo\\\\anaconda3\\\\Library\\\\bin;C:\\\\Users\\\\ChoiMinsoo\\\\anaconda3\\\\Scripts;C:\\\\Windows\\\\system32;C:\\\\Windows;C:\\\\Windows\\\\System32\\\\Wbem;C:\\\\Windows\\\\System32\\\\WindowsPowerShell\\\\v1.0\\\\;C:\\\\Windows\\\\System32\\\\OpenSSH\\\\;C:\\\\Program Files\\\\dotnet\\\\;C:\\\\Program Files\\\\MySQL\\\\MySQL Server 8.0\\\\bin;C:\\\\Program Files\\\\Git\\\\cmd;C:\\\\Users\\\\ChoiMinsoo\\\\anaconda3;C:\\\\Users\\\\ChoiMinsoo\\\\anaconda3\\\\Library\\\\mingw-w64\\\\bin;C:\\\\Users\\\\ChoiMinsoo\\\\anaconda3\\\\Library\\\\usr\\\\bin;C:\\\\Users\\\\ChoiMinsoo\\\\anaconda3\\\\Library\\\\bin;C:\\\\Users\\\\ChoiMinsoo\\\\anaconda3\\\\Scripts;C:\\\\Users\\\\ChoiMinsoo\\\\AppData\\\\Local\\\\Microsoft\\\\WindowsApps',\n",
       "        'PATHEXT': '.COM;.EXE;.BAT;.CMD;.VBS;.VBE;.JS;.JSE;.WSF;.WSH;.MSC',\n",
       "        'PROCESSOR_ARCHITECTURE': 'AMD64',\n",
       "        'PROCESSOR_IDENTIFIER': 'Intel64 Family 6 Model 183 Stepping 1, GenuineIntel',\n",
       "        'PROCESSOR_LEVEL': '6',\n",
       "        'PROCESSOR_REVISION': 'b701',\n",
       "        'PROGRAMDATA': 'C:\\\\ProgramData',\n",
       "        'PROGRAMFILES': 'C:\\\\Program Files',\n",
       "        'PROGRAMFILES(X86)': 'C:\\\\Program Files (x86)',\n",
       "        'PROGRAMW6432': 'C:\\\\Program Files',\n",
       "        'PSMODULEPATH': 'C:\\\\Program Files\\\\WindowsPowerShell\\\\Modules;C:\\\\Windows\\\\system32\\\\WindowsPowerShell\\\\v1.0\\\\Modules',\n",
       "        'PUBLIC': 'C:\\\\Users\\\\Public',\n",
       "        'SESSIONNAME': 'Console',\n",
       "        'SYSTEMDRIVE': 'C:',\n",
       "        'SYSTEMROOT': 'C:\\\\Windows',\n",
       "        'TEMP': 'C:\\\\Users\\\\CHOIMI~1\\\\AppData\\\\Local\\\\Temp',\n",
       "        'TMP': 'C:\\\\Users\\\\CHOIMI~1\\\\AppData\\\\Local\\\\Temp',\n",
       "        'USERDOMAIN': 'DESKTOP-9S9492M',\n",
       "        'USERDOMAIN_ROAMINGPROFILE': 'DESKTOP-9S9492M',\n",
       "        'USERNAME': 'ChoiMinsoo',\n",
       "        'USERPROFILE': 'C:\\\\Users\\\\ChoiMinsoo',\n",
       "        'WINDIR': 'C:\\\\Windows',\n",
       "        'ZES_ENABLE_SYSMAN': '1',\n",
       "        'CONDA_PREFIX': 'C:\\\\Users\\\\ChoiMinsoo\\\\anaconda3',\n",
       "        'PYDEVD_USE_FRAME_EVAL': 'NO',\n",
       "        'PYTHONUNBUFFERED': '1',\n",
       "        'JPY_SESSION_NAME': 'C:\\\\workspace\\\\wassup3\\\\01_Python_grammer\\\\Untitled.ipynb',\n",
       "        'JPY_INTERRUPT_EVENT': '4268',\n",
       "        'IPY_INTERRUPT_EVENT': '4268',\n",
       "        'JPY_PARENT_PID': '5004',\n",
       "        'TERM': 'xterm-color',\n",
       "        'CLICOLOR': '1',\n",
       "        'FORCE_COLOR': '1',\n",
       "        'CLICOLOR_FORCE': '1',\n",
       "        'PAGER': 'cat',\n",
       "        'GIT_PAGER': 'cat',\n",
       "        'MPLBACKEND': 'module://matplotlib_inline.backend_inline'}"
      ]
     },
     "execution_count": 237,
     "metadata": {},
     "output_type": "execute_result"
    }
   ],
   "source": [
    "import os\n",
    "os.environ"
   ]
  },
  {
   "cell_type": "code",
   "execution_count": 238,
   "id": "df5283ee-75b3-4897-a3dc-272d8f81f522",
   "metadata": {},
   "outputs": [
    {
     "data": {
      "text/plain": [
       "'C:\\\\Users\\\\ChoiMinsoo\\\\anaconda3;C:\\\\Users\\\\ChoiMinsoo\\\\anaconda3\\\\Library\\\\mingw-w64\\\\bin;C:\\\\Users\\\\ChoiMinsoo\\\\anaconda3\\\\Library\\\\usr\\\\bin;C:\\\\Users\\\\ChoiMinsoo\\\\anaconda3\\\\Library\\\\bin;C:\\\\Users\\\\ChoiMinsoo\\\\anaconda3\\\\Scripts;C:\\\\Windows\\\\system32;C:\\\\Windows;C:\\\\Windows\\\\System32\\\\Wbem;C:\\\\Windows\\\\System32\\\\WindowsPowerShell\\\\v1.0\\\\;C:\\\\Windows\\\\System32\\\\OpenSSH\\\\;C:\\\\Program Files\\\\dotnet\\\\;C:\\\\Program Files\\\\MySQL\\\\MySQL Server 8.0\\\\bin;C:\\\\Program Files\\\\Git\\\\cmd;C:\\\\Users\\\\ChoiMinsoo\\\\anaconda3;C:\\\\Users\\\\ChoiMinsoo\\\\anaconda3\\\\Library\\\\mingw-w64\\\\bin;C:\\\\Users\\\\ChoiMinsoo\\\\anaconda3\\\\Library\\\\usr\\\\bin;C:\\\\Users\\\\ChoiMinsoo\\\\anaconda3\\\\Library\\\\bin;C:\\\\Users\\\\ChoiMinsoo\\\\anaconda3\\\\Scripts;C:\\\\Users\\\\ChoiMinsoo\\\\AppData\\\\Local\\\\Microsoft\\\\WindowsApps'"
      ]
     },
     "execution_count": 238,
     "metadata": {},
     "output_type": "execute_result"
    }
   ],
   "source": [
    "os.environ['path']"
   ]
  },
  {
   "cell_type": "code",
   "execution_count": 239,
   "id": "fcafa355-5aac-4a25-9d1a-9a8bc14b2bc3",
   "metadata": {},
   "outputs": [
    {
     "data": {
      "text/plain": [
       "'C:\\\\workspace\\\\wassup3\\\\01_Python_grammer'"
      ]
     },
     "execution_count": 239,
     "metadata": {},
     "output_type": "execute_result"
    }
   ],
   "source": [
    "os.getcwd()"
   ]
  },
  {
   "cell_type": "code",
   "execution_count": 240,
   "id": "2fb0f5a7-2238-4849-b743-8fe2379a6055",
   "metadata": {},
   "outputs": [],
   "source": [
    "# os.chdir('c:/windows')"
   ]
  },
  {
   "cell_type": "code",
   "execution_count": null,
   "id": "81603607-69b4-4811-aa07-c98135934dca",
   "metadata": {},
   "outputs": [],
   "source": []
  },
  {
   "cell_type": "markdown",
   "id": "5e634235-e5db-4ffa-b55a-59f69aaaedae",
   "metadata": {},
   "source": [
    "## json"
   ]
  },
  {
   "cell_type": "code",
   "execution_count": 242,
   "id": "df06531e-1283-415a-8339-91210ee88366",
   "metadata": {},
   "outputs": [],
   "source": [
    "# dictionary를 file로 만든 확장자 = json"
   ]
  },
  {
   "cell_type": "code",
   "execution_count": 243,
   "id": "bedd1c48-eae9-46a3-8cf4-966b8d2d1749",
   "metadata": {},
   "outputs": [],
   "source": [
    "myinfo = {\n",
    "    \"name\": \"홍길동\",\n",
    "    \"birth\": \"0525\",\n",
    "    \"age\": 30\n",
    "}"
   ]
  },
  {
   "cell_type": "code",
   "execution_count": 254,
   "id": "49796b07-477a-45f7-b5b6-1660b80a6bcd",
   "metadata": {},
   "outputs": [],
   "source": [
    "import json\n",
    "data = {'name': '홍길동', 'birth': '0525', 'age': 30}\n",
    "with open('output/myinfo.json', 'w') as f:\n",
    "    json.dump(data, f)"
   ]
  },
  {
   "cell_type": "code",
   "execution_count": 257,
   "id": "93061659-84e5-4597-9e66-7ae08d676bf8",
   "metadata": {},
   "outputs": [
    {
     "data": {
      "text/plain": [
       "(dict, {'name': '홍길동', 'birth': '0525', 'age': 30})"
      ]
     },
     "execution_count": 257,
     "metadata": {},
     "output_type": "execute_result"
    }
   ],
   "source": [
    "import json\n",
    "data = {'name': '홍길동', 'birth': '0525', 'age': 30}\n",
    "with open('output/myinfo.json') as f:\n",
    "    json.load(f)\n",
    "\n",
    "type(data), data"
   ]
  },
  {
   "cell_type": "code",
   "execution_count": 258,
   "id": "6ed244c2-a731-4e9b-b1b2-4bdbff2c17ed",
   "metadata": {},
   "outputs": [],
   "source": [
    "with open('output/myinfo.json', 'w') as f:\n",
    "    json.dump(data, f, ensure_ascii=False)"
   ]
  },
  {
   "cell_type": "markdown",
   "id": "d9224353-ad08-4c56-bd16-e09c3204a014",
   "metadata": {},
   "source": [
    "## urllib"
   ]
  },
  {
   "cell_type": "code",
   "execution_count": 261,
   "id": "8dd3ab35-137d-458a-9e48-d8a9b72b5acd",
   "metadata": {},
   "outputs": [],
   "source": [
    "import urllib.request"
   ]
  },
  {
   "cell_type": "code",
   "execution_count": 262,
   "id": "7cdc0b63-03ce-490d-bad0-c02944bb83f2",
   "metadata": {},
   "outputs": [],
   "source": [
    "def get_wikidocs(page):\n",
    "    resource = 'https://wikidocs.net/{}'.format(page)\n",
    "    with urllib.request.urlopen(resource) as s:\n",
    "        with open('wikidocs_%s.html' % page, 'wb') as f:\n",
    "            f.write(s.read())"
   ]
  },
  {
   "cell_type": "code",
   "execution_count": 263,
   "id": "58d27384-217b-4044-95b9-ae3bd24a42b6",
   "metadata": {},
   "outputs": [],
   "source": [
    "get_wikidocs(33)"
   ]
  },
  {
   "cell_type": "code",
   "execution_count": 265,
   "id": "cee20028-7f8e-4c7d-987d-50f6fe1f2171",
   "metadata": {},
   "outputs": [],
   "source": [
    "#정적 웹페이지를 수집할 땐 쉽지만 실제 웹사이트는 동적 웹페이지가 많기 때문에 ㅁ..머라구?셀레니움? 아무튼 뭔가를 활용해서 수집한다고 합니다"
   ]
  },
  {
   "cell_type": "markdown",
   "id": "a40fa1c9-5afb-4231-8415-be03bebbae43",
   "metadata": {},
   "source": [
    "## webbrwser"
   ]
  },
  {
   "cell_type": "code",
   "execution_count": 266,
   "id": "443d3f53-8812-4c21-8c61-e00fedd64dd6",
   "metadata": {},
   "outputs": [
    {
     "data": {
      "text/plain": [
       "True"
      ]
     },
     "execution_count": 266,
     "metadata": {},
     "output_type": "execute_result"
    }
   ],
   "source": [
    "import webbrowser\n",
    "\n",
    "webbrowser.open_new('http://python.org')"
   ]
  },
  {
   "cell_type": "code",
   "execution_count": 267,
   "id": "1a882d21-f5bb-4e1b-a36d-cc53cd2b0710",
   "metadata": {},
   "outputs": [
    {
     "data": {
      "text/plain": [
       "True"
      ]
     },
     "execution_count": 267,
     "metadata": {},
     "output_type": "execute_result"
    }
   ],
   "source": [
    "webbrowser.open('http://python.org')"
   ]
  },
  {
   "cell_type": "markdown",
   "id": "ce439261-93de-49ed-a694-eda6fcac714c",
   "metadata": {},
   "source": [
    "# 외부 라이브러리"
   ]
  },
  {
   "cell_type": "code",
   "execution_count": null,
   "id": "644555f5-48fc-48d3-87c6-a63cdcc65898",
   "metadata": {},
   "outputs": [],
   "source": [
    "# 깔 떈 pip install == 1.0.4등 버전까지 입력 가능: 호환성, 안정성이 좋아서 구버전을 많이 활용함\n",
    "# 삭제할 땐 pip uninstall"
   ]
  },
  {
   "cell_type": "code",
   "execution_count": 269,
   "id": "c88adb13-7c57-4496-879b-6c42a779add2",
   "metadata": {},
   "outputs": [
    {
     "name": "stdout",
     "output_type": "stream",
     "text": [
      "Package                           Version\n",
      "--------------------------------- ------------\n",
      "aiobotocore                       2.7.0\n",
      "aiohttp                           3.9.3\n",
      "aioitertools                      0.7.1\n",
      "aiosignal                         1.2.0\n",
      "alabaster                         0.7.12\n",
      "altair                            5.0.1\n",
      "anaconda-anon-usage               0.4.3\n",
      "anaconda-catalogs                 0.2.0\n",
      "anaconda-client                   1.12.3\n",
      "anaconda-cloud-auth               0.1.4\n",
      "anaconda-navigator                2.5.2\n",
      "anaconda-project                  0.11.1\n",
      "anyio                             4.2.0\n",
      "appdirs                           1.4.4\n",
      "archspec                          0.2.1\n",
      "argon2-cffi                       21.3.0\n",
      "argon2-cffi-bindings              21.2.0\n",
      "arrow                             1.2.3\n",
      "astroid                           2.14.2\n",
      "astropy                           5.3.4\n",
      "asttokens                         2.0.5\n",
      "async-lru                         2.0.4\n",
      "atomicwrites                      1.4.0\n",
      "attrs                             23.1.0\n",
      "Automat                           20.2.0\n",
      "autopep8                          1.6.0\n",
      "Babel                             2.11.0\n",
      "backports.functools-lru-cache     1.6.4\n",
      "backports.tempfile                1.0\n",
      "backports.weakref                 1.0.post1\n",
      "bcrypt                            3.2.0\n",
      "beautifulsoup4                    4.12.2\n",
      "binaryornot                       0.4.4\n",
      "black                             23.11.0\n",
      "bleach                            4.1.0\n",
      "blinker                           1.6.2\n",
      "bokeh                             3.3.4\n",
      "boltons                           23.0.0\n",
      "botocore                          1.31.64\n",
      "Bottleneck                        1.3.7\n",
      "Brotli                            1.0.9\n",
      "cachetools                        4.2.2\n",
      "certifi                           2024.2.2\n",
      "cffi                              1.16.0\n",
      "chardet                           4.0.0\n",
      "charset-normalizer                2.0.4\n",
      "click                             8.1.7\n",
      "cloudpickle                       2.2.1\n",
      "clyent                            1.2.2\n",
      "colorama                          0.4.6\n",
      "colorcet                          3.0.1\n",
      "comm                              0.1.2\n",
      "conda                             24.1.2\n",
      "conda-build                       24.1.2\n",
      "conda-content-trust               0.2.0\n",
      "conda_index                       0.4.0\n",
      "conda-libmamba-solver             24.1.0\n",
      "conda-pack                        0.6.0\n",
      "conda-package-handling            2.2.0\n",
      "conda_package_streaming           0.9.0\n",
      "conda-repo-cli                    1.0.75\n",
      "conda-token                       0.4.0\n",
      "conda-verify                      3.4.2\n",
      "constantly                        23.10.4\n",
      "contourpy                         1.2.0\n",
      "cookiecutter                      2.5.0\n",
      "cryptography                      42.0.2\n",
      "cssselect                         1.2.0\n",
      "cycler                            0.11.0\n",
      "cytoolz                           0.12.2\n",
      "dask                              2023.11.0\n",
      "datashader                        0.16.0\n",
      "debugpy                           1.6.7\n",
      "decorator                         5.1.1\n",
      "defusedxml                        0.7.1\n",
      "diff-match-patch                  20200713\n",
      "dill                              0.3.7\n",
      "distributed                       2023.11.0\n",
      "distro                            1.8.0\n",
      "docstring-to-markdown             0.11\n",
      "docutils                          0.18.1\n",
      "entrypoints                       0.4\n",
      "et-xmlfile                        1.1.0\n",
      "executing                         0.8.3\n",
      "fastjsonschema                    2.16.2\n",
      "filelock                          3.13.1\n",
      "flake8                            6.0.0\n",
      "Flask                             2.2.5\n",
      "fonttools                         4.25.0\n",
      "frozenlist                        1.4.0\n",
      "fsspec                            2023.10.0\n",
      "future                            0.18.3\n",
      "gensim                            4.3.0\n",
      "gitdb                             4.0.7\n",
      "GitPython                         3.1.37\n",
      "gmpy2                             2.1.2\n",
      "greenlet                          3.0.1\n",
      "h5py                              3.9.0\n",
      "HeapDict                          1.0.1\n",
      "holoviews                         1.18.3\n",
      "hvplot                            0.9.2\n",
      "hyperlink                         21.0.0\n",
      "idna                              3.4\n",
      "imagecodecs                       2023.1.23\n",
      "imageio                           2.33.1\n",
      "imagesize                         1.4.1\n",
      "imbalanced-learn                  0.11.0\n",
      "importlib-metadata                7.0.1\n",
      "incremental                       22.10.0\n",
      "inflection                        0.5.1\n",
      "iniconfig                         1.1.1\n",
      "intake                            0.6.8\n",
      "intervaltree                      3.1.0\n",
      "ipykernel                         6.28.0\n",
      "ipython                           8.20.0\n",
      "ipython-genutils                  0.2.0\n",
      "ipywidgets                        7.6.5\n",
      "isort                             5.9.3\n",
      "itemadapter                       0.3.0\n",
      "itemloaders                       1.1.0\n",
      "itsdangerous                      2.0.1\n",
      "jaraco.classes                    3.2.1\n",
      "jedi                              0.18.1\n",
      "jellyfish                         1.0.1\n",
      "Jinja2                            3.1.3\n",
      "jmespath                          1.0.1\n",
      "joblib                            1.2.0\n",
      "json5                             0.9.6\n",
      "jsonpatch                         1.32\n",
      "jsonpointer                       2.1\n",
      "jsonschema                        4.19.2\n",
      "jsonschema-specifications         2023.7.1\n",
      "jupyter                           1.0.0\n",
      "jupyter_client                    8.6.0\n",
      "jupyter-console                   6.6.3\n",
      "jupyter_core                      5.5.0\n",
      "jupyter-events                    0.8.0\n",
      "jupyter-lsp                       2.2.0\n",
      "jupyter_server                    2.10.0\n",
      "jupyter_server_terminals          0.4.4\n",
      "jupyterlab                        4.0.11\n",
      "jupyterlab-pygments               0.1.2\n",
      "jupyterlab_server                 2.25.1\n",
      "jupyterlab-widgets                3.0.9\n",
      "keyring                           23.13.1\n",
      "kiwisolver                        1.4.4\n",
      "lazy_loader                       0.3\n",
      "lazy-object-proxy                 1.6.0\n",
      "lckr_jupyterlab_variableinspector 3.1.0\n",
      "libarchive-c                      2.9\n",
      "libmambapy                        1.5.6\n",
      "linkify-it-py                     2.0.0\n",
      "llvmlite                          0.42.0\n",
      "lmdb                              1.4.1\n",
      "locket                            1.0.0\n",
      "lxml                              4.9.3\n",
      "lz4                               4.3.2\n",
      "Markdown                          3.4.1\n",
      "markdown-it-py                    2.2.0\n",
      "MarkupSafe                        2.1.3\n",
      "matplotlib                        3.8.0\n",
      "matplotlib-inline                 0.1.6\n",
      "mccabe                            0.7.0\n",
      "mdit-py-plugins                   0.3.0\n",
      "mdurl                             0.1.0\n",
      "menuinst                          2.0.2\n",
      "mistune                           2.0.4\n",
      "mkl-fft                           1.3.8\n",
      "mkl-random                        1.2.4\n",
      "mkl-service                       2.4.0\n",
      "more-itertools                    10.1.0\n",
      "mpmath                            1.3.0\n",
      "msgpack                           1.0.3\n",
      "multidict                         6.0.4\n",
      "multipledispatch                  0.6.0\n",
      "munkres                           1.1.4\n",
      "mypy                              1.8.0\n",
      "mypy-extensions                   1.0.0\n",
      "navigator-updater                 0.4.0\n",
      "nbclient                          0.8.0\n",
      "nbconvert                         7.10.0\n",
      "nbformat                          5.9.2\n",
      "nest-asyncio                      1.6.0\n",
      "networkx                          3.1\n",
      "nltk                              3.8.1\n",
      "notebook                          7.0.8\n",
      "notebook_shim                     0.2.3\n",
      "numba                             0.59.0\n",
      "numexpr                           2.8.7\n",
      "numpy                             1.26.4\n",
      "numpydoc                          1.5.0\n",
      "openpyxl                          3.0.10\n",
      "overrides                         7.4.0\n",
      "packaging                         23.1\n",
      "pandas                            2.1.4\n",
      "pandocfilters                     1.5.0\n",
      "panel                             1.3.8\n",
      "param                             2.0.2\n",
      "paramiko                          2.8.1\n",
      "parsel                            1.8.1\n",
      "parso                             0.8.3\n",
      "partd                             1.4.1\n",
      "pathlib                           1.0.1\n",
      "pathspec                          0.10.3\n",
      "patsy                             0.5.3\n",
      "pexpect                           4.8.0\n",
      "pickleshare                       0.7.5\n",
      "pillow                            10.2.0\n",
      "pip                               23.3.1\n",
      "pkce                              1.0.3\n",
      "pkginfo                           1.9.6\n",
      "platformdirs                      3.10.0\n",
      "plotly                            5.9.0\n",
      "pluggy                            1.0.0\n",
      "ply                               3.11\n",
      "prometheus-client                 0.14.1\n",
      "prompt-toolkit                    3.0.43\n",
      "Protego                           0.1.16\n",
      "protobuf                          3.20.3\n",
      "psutil                            5.9.0\n",
      "ptyprocess                        0.7.0\n",
      "pure-eval                         0.2.2\n",
      "py-cpuinfo                        9.0.0\n",
      "pyarrow                           14.0.2\n",
      "pyasn1                            0.4.8\n",
      "pyasn1-modules                    0.2.8\n",
      "pycodestyle                       2.10.0\n",
      "pycosat                           0.6.6\n",
      "pycparser                         2.21\n",
      "pyct                              0.5.0\n",
      "pycurl                            7.45.2\n",
      "pydantic                          1.10.12\n",
      "pydeck                            0.8.0\n",
      "PyDispatcher                      2.0.5\n",
      "pydocstyle                        6.3.0\n",
      "pyerfa                            2.0.0\n",
      "pyflakes                          3.0.1\n",
      "Pygments                          2.15.1\n",
      "PyJWT                             2.4.0\n",
      "pylint                            2.16.2\n",
      "pylint-venv                       2.3.0\n",
      "pyls-spyder                       0.4.0\n",
      "PyNaCl                            1.5.0\n",
      "pyodbc                            5.0.1\n",
      "pyOpenSSL                         24.0.0\n",
      "pyparsing                         3.0.9\n",
      "PyQt5                             5.15.10\n",
      "PyQt5-sip                         12.13.0\n",
      "PyQtWebEngine                     5.15.6\n",
      "PySocks                           1.7.1\n",
      "pytest                            7.4.0\n",
      "python-dateutil                   2.8.2\n",
      "python-dotenv                     0.21.0\n",
      "python-json-logger                2.0.7\n",
      "python-lsp-black                  1.2.1\n",
      "python-lsp-jsonrpc                1.0.0\n",
      "python-lsp-server                 1.7.2\n",
      "python-slugify                    5.0.2\n",
      "python-snappy                     0.6.1\n",
      "pytoolconfig                      1.2.6\n",
      "pytz                              2023.3.post1\n",
      "pyviz_comms                       3.0.0\n",
      "pywavelets                        1.5.0\n",
      "pywin32                           305.1\n",
      "pywin32-ctypes                    0.2.0\n",
      "pywinpty                          2.0.10\n",
      "PyYAML                            6.0.1\n",
      "pyzmq                             25.1.2\n",
      "QDarkStyle                        3.0.2\n",
      "qstylizer                         0.2.2\n",
      "QtAwesome                         1.2.2\n",
      "qtconsole                         5.4.2\n",
      "QtPy                              2.4.1\n",
      "queuelib                          1.6.2\n",
      "referencing                       0.30.2\n",
      "regex                             2023.10.3\n",
      "requests                          2.31.0\n",
      "requests-file                     1.5.1\n",
      "requests-toolbelt                 1.0.0\n",
      "rfc3339-validator                 0.1.4\n",
      "rfc3986-validator                 0.1.1\n",
      "rich                              13.3.5\n",
      "rope                              1.7.0\n",
      "rpds-py                           0.10.6\n",
      "Rtree                             1.0.1\n",
      "ruamel.yaml                       0.17.21\n",
      "ruamel-yaml-conda                 0.17.21\n",
      "s3fs                              2023.10.0\n",
      "scikit-image                      0.22.0\n",
      "scikit-learn                      1.2.2\n",
      "scipy                             1.11.4\n",
      "Scrapy                            2.8.0\n",
      "seaborn                           0.12.2\n",
      "semver                            2.13.0\n",
      "Send2Trash                        1.8.2\n",
      "service-identity                  18.1.0\n",
      "setuptools                        68.2.2\n",
      "sip                               6.7.12\n",
      "six                               1.16.0\n",
      "smart-open                        5.2.1\n",
      "smmap                             4.0.0\n",
      "sniffio                           1.3.0\n",
      "snowballstemmer                   2.2.0\n",
      "sortedcontainers                  2.4.0\n",
      "soupsieve                         2.5\n",
      "Sphinx                            5.0.2\n",
      "sphinxcontrib-applehelp           1.0.2\n",
      "sphinxcontrib-devhelp             1.0.2\n",
      "sphinxcontrib-htmlhelp            2.0.0\n",
      "sphinxcontrib-jsmath              1.0.1\n",
      "sphinxcontrib-qthelp              1.0.3\n",
      "sphinxcontrib-serializinghtml     1.1.5\n",
      "spyder                            5.4.3\n",
      "spyder-kernels                    2.4.4\n",
      "SQLAlchemy                        2.0.25\n",
      "stack-data                        0.2.0\n",
      "statsmodels                       0.14.0\n",
      "streamlit                         1.30.0\n",
      "sympy                             1.12\n",
      "tables                            3.9.2\n",
      "tabulate                          0.9.0\n",
      "tblib                             1.7.0\n",
      "tenacity                          8.2.2\n",
      "terminado                         0.17.1\n",
      "text-unidecode                    1.3\n",
      "textdistance                      4.2.1\n",
      "threadpoolctl                     2.2.0\n",
      "three-merge                       0.1.1\n",
      "tifffile                          2023.4.12\n",
      "tinycss2                          1.2.1\n",
      "tldextract                        3.2.0\n",
      "toml                              0.10.2\n",
      "tomlkit                           0.11.1\n",
      "toolz                             0.12.0\n",
      "tornado                           6.3.3\n",
      "tqdm                              4.65.0\n",
      "traitlets                         5.7.1\n",
      "truststore                        0.8.0\n",
      "Twisted                           23.10.0\n",
      "twisted-iocpsupport               1.0.2\n",
      "typing_extensions                 4.9.0\n",
      "tzdata                            2023.3\n",
      "tzlocal                           2.1\n",
      "uc-micro-py                       1.0.1\n",
      "ujson                             5.4.0\n",
      "Unidecode                         1.2.0\n",
      "urllib3                           2.0.7\n",
      "validators                        0.18.2\n",
      "w3lib                             2.1.2\n",
      "watchdog                          2.1.6\n",
      "wcwidth                           0.2.5\n",
      "webencodings                      0.5.1\n",
      "websocket-client                  0.58.0\n",
      "Werkzeug                          2.2.3\n",
      "whatthepatch                      1.0.2\n",
      "wheel                             0.41.2\n",
      "widgetsnbextension                3.5.2\n",
      "win-inet-pton                     1.1.0\n",
      "wrapt                             1.14.1\n",
      "xarray                            2023.6.0\n",
      "xlwings                           0.29.1\n",
      "xyzservices                       2022.9.0\n",
      "yapf                              0.31.0\n",
      "yarl                              1.9.3\n",
      "zict                              3.0.0\n",
      "zipp                              3.17.0\n",
      "zope.interface                    5.4.0\n",
      "zstandard                         0.19.0\n",
      "Note: you may need to restart the kernel to use updated packages.\n"
     ]
    }
   ],
   "source": [
    "pip list # 많은 이유는 아나콘다로 설치해서 대부분의 리스트들이 깔려있기 때문 !"
   ]
  },
  {
   "cell_type": "markdown",
   "id": "6ae07b1f-b149-4b53-a626-57a5e1840eb3",
   "metadata": {},
   "source": [
    "## Faker"
   ]
  },
  {
   "cell_type": "code",
   "execution_count": 270,
   "id": "6daa2953-f3c3-45cc-8abf-9b43b80ad65b",
   "metadata": {},
   "outputs": [],
   "source": [
    "# 테스트용 가짜 데이터 생성하는 라이브러리"
   ]
  },
  {
   "cell_type": "code",
   "execution_count": null,
   "id": "1001d344-d69c-42d7-a70a-7a0c4bce93cc",
   "metadata": {},
   "outputs": [],
   "source": []
  },
  {
   "cell_type": "code",
   "execution_count": 275,
   "id": "020ed70f-8016-4df7-94a9-5fbf531ff0ba",
   "metadata": {},
   "outputs": [],
   "source": [
    "# 반드시 대문자로 Faker 입력"
   ]
  },
  {
   "cell_type": "code",
   "execution_count": null,
   "id": "c03bd6df-2612-48c8-b029-2abad78146dd",
   "metadata": {},
   "outputs": [],
   "source": []
  },
  {
   "cell_type": "code",
   "execution_count": 5,
   "id": "959ebcd9-bcb4-46be-b7f4-40ec07343d6b",
   "metadata": {},
   "outputs": [
    {
     "name": "stdout",
     "output_type": "stream",
     "text": [
      "Requirement already satisfied: Faker in c:\\users\\choiminsoo\\anaconda3\\lib\\site-packages (25.8.0)\n",
      "Requirement already satisfied: python-dateutil>=2.4 in c:\\users\\choiminsoo\\anaconda3\\lib\\site-packages (from Faker) (2.8.2)\n",
      "Requirement already satisfied: six>=1.5 in c:\\users\\choiminsoo\\anaconda3\\lib\\site-packages (from python-dateutil>=2.4->Faker) (1.16.0)\n",
      "Note: you may need to restart the kernel to use updated packages.\n"
     ]
    }
   ],
   "source": [
    "pip install Faker"
   ]
  },
  {
   "cell_type": "code",
   "execution_count": 6,
   "id": "731472ba-3bc7-4c08-a927-c3b0a2fb6e70",
   "metadata": {},
   "outputs": [
    {
     "data": {
      "text/plain": [
       "(faker.proxy.Faker, <faker.proxy.Faker at 0x260a1765310>)"
      ]
     },
     "execution_count": 6,
     "metadata": {},
     "output_type": "execute_result"
    }
   ],
   "source": [
    "from faker import Faker\n",
    "fake = Faker()\n",
    "type(fake), fake"
   ]
  },
  {
   "cell_type": "code",
   "execution_count": 7,
   "id": "53c6bc7a-4729-4b58-824e-bb6b741149dc",
   "metadata": {},
   "outputs": [
    {
     "data": {
      "text/plain": [
       "'880 Smith Stream\\nSouth Stevenbury, DC 56337'"
      ]
     },
     "execution_count": 7,
     "metadata": {},
     "output_type": "execute_result"
    }
   ],
   "source": [
    "fake.address()"
   ]
  },
  {
   "cell_type": "code",
   "execution_count": 9,
   "id": "0eaf802b-c525-47ba-9e0f-49290416b977",
   "metadata": {},
   "outputs": [
    {
     "data": {
      "text/plain": [
       "'김예진'"
      ]
     },
     "execution_count": 9,
     "metadata": {},
     "output_type": "execute_result"
    }
   ],
   "source": [
    "fake = Faker('ko-KR')\n",
    "fake.name()"
   ]
  },
  {
   "cell_type": "code",
   "execution_count": 10,
   "id": "ddc6ad6a-c9ff-4020-aa2a-4fb019400930",
   "metadata": {},
   "outputs": [
    {
     "data": {
      "text/plain": [
       "'인천광역시 은평구 개포47거리'"
      ]
     },
     "execution_count": 10,
     "metadata": {},
     "output_type": "execute_result"
    }
   ],
   "source": [
    "fake.address()"
   ]
  },
  {
   "cell_type": "code",
   "execution_count": 12,
   "id": "840a441e-bc57-4448-bdab-be6301e9ed94",
   "metadata": {},
   "outputs": [
    {
     "data": {
      "text/plain": [
       "[('이서윤', '경기도 홍성군 역삼길'),\n",
       " ('이윤서', '부산광역시 은평구 강남대가 (은지이우면)'),\n",
       " ('강정호', '부산광역시 서구 역삼거리'),\n",
       " ('신성호', '충청남도 계룡시 봉은사55로 (영철한동)'),\n",
       " ('문상훈', '대전광역시 남구 서초대길'),\n",
       " ('이승민', '부산광역시 노원구 석촌호수거리'),\n",
       " ('김지아', '충청남도 제천시 강남대거리'),\n",
       " ('김미정', '세종특별자치시 관악구 삼성거리 (수민김동)'),\n",
       " ('윤지혜', '경상북도 천안시 서북구 압구정거리'),\n",
       " ('문정호', '세종특별자치시 서대문구 개포로 (은영안이동)'),\n",
       " ('권민재', '부산광역시 은평구 언주가'),\n",
       " ('이서윤', '대구광역시 성동구 서초대로'),\n",
       " ('윤성호', '서울특별시 동작구 석촌호수83가'),\n",
       " ('김정자', '대전광역시 도봉구 논현거리 (지연박구리)'),\n",
       " ('홍승민', '충청북도 과천시 테헤란99길 (민준이노리)'),\n",
       " ('김예준', '인천광역시 서대문구 양재천5길'),\n",
       " ('노춘자', '강원도 광명시 서초대가'),\n",
       " ('김순옥', '대전광역시 금천구 서초중앙가 (민수한동)'),\n",
       " ('서수민', '전라북도 화천군 오금길 (수진김김면)'),\n",
       " ('오성수', '충청남도 구리시 서초중앙19가'),\n",
       " ('백동현', '부산광역시 종로구 석촌호수가'),\n",
       " ('엄영일', '전라남도 부천시 소사구 석촌호수37가 (선영한리)'),\n",
       " ('박영철', '울산광역시 용산구 양재천829로 (주원서김동)'),\n",
       " ('박정희', '강원도 수원시 테헤란7길'),\n",
       " ('장정호', '경기도 양평군 서초대55길'),\n",
       " ('김영진', '대전광역시 강북구 테헤란15가 (진호박안동)'),\n",
       " ('안경희', '충청북도 논산시 학동가 (채원황김읍)'),\n",
       " ('이정희', '전라남도 태안군 영동대로 (영미김송동)'),\n",
       " ('백지원', '경상남도 홍천군 가락45거리 (정훈배강읍)'),\n",
       " ('이순자', '서울특별시 남구 가락08거리 (성수김동)')]"
      ]
     },
     "execution_count": 12,
     "metadata": {},
     "output_type": "execute_result"
    }
   ],
   "source": [
    "test_data = [(fake.name(), fake.address()) for i in range(30)]\n",
    "test_data"
   ]
  },
  {
   "cell_type": "code",
   "execution_count": 18,
   "id": "c738efd9-160b-49d5-acbf-2364b026c3fa",
   "metadata": {},
   "outputs": [
    {
     "data": {
      "text/plain": [
       "'공유 가능한 5세대 유연성'"
      ]
     },
     "execution_count": 18,
     "metadata": {},
     "output_type": "execute_result"
    }
   ],
   "source": [
    "fake.catch_phrase()"
   ]
  },
  {
   "cell_type": "code",
   "execution_count": null,
   "id": "4e214f7d-6b06-4028-989e-10946bc7c4a1",
   "metadata": {},
   "outputs": [],
   "source": []
  }
 ],
 "metadata": {
  "kernelspec": {
   "display_name": "Python 3 (ipykernel)",
   "language": "python",
   "name": "python3"
  },
  "language_info": {
   "codemirror_mode": {
    "name": "ipython",
    "version": 3
   },
   "file_extension": ".py",
   "mimetype": "text/x-python",
   "name": "python",
   "nbconvert_exporter": "python",
   "pygments_lexer": "ipython3",
   "version": "3.11.7"
  }
 },
 "nbformat": 4,
 "nbformat_minor": 5
}
