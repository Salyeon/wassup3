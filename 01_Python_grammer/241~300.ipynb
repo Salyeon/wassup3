{
 "cells": [
  {
   "cell_type": "markdown",
   "id": "41d92910-b2e2-4070-8a13-59556d70ed10",
   "metadata": {},
   "source": [
    "# 10. 파이썬 모듈"
   ]
  },
  {
   "cell_type": "markdown",
   "id": "dc8099bb-5de3-41ac-87c4-fef171184029",
   "metadata": {},
   "source": [
    "## 241 ~ 250"
   ]
  },
  {
   "cell_type": "code",
   "execution_count": 16,
   "id": "6438ea45-d368-47e8-8eaa-563349159aad",
   "metadata": {},
   "outputs": [
    {
     "name": "stdout",
     "output_type": "stream",
     "text": [
      "17:09:49.889519\n"
     ]
    }
   ],
   "source": [
    "#241\n",
    "import datetime\n",
    "a = datetime.datetime.now()\n",
    "print(a.time())"
   ]
  },
  {
   "cell_type": "code",
   "execution_count": 17,
   "id": "4dfb4928-8f95-466f-ac1c-08d5e95b1893",
   "metadata": {},
   "outputs": [
    {
     "data": {
      "text/plain": [
       "datetime.datetime"
      ]
     },
     "execution_count": 17,
     "metadata": {},
     "output_type": "execute_result"
    }
   ],
   "source": [
    "#242\n",
    "type(a)"
   ]
  },
  {
   "cell_type": "code",
   "execution_count": 86,
   "id": "afa8002d-b7fc-41f3-8eb9-39002c1679a8",
   "metadata": {},
   "outputs": [
    {
     "name": "stdout",
     "output_type": "stream",
     "text": [
      "2024-06-13 17:36:07.430604\n",
      "2024-06-14 17:36:07.430604\n",
      "2024-06-15 17:36:07.430604\n",
      "2024-06-16 17:36:07.430604\n",
      "2024-06-17 17:36:07.430604\n"
     ]
    }
   ],
   "source": [
    "#243\n",
    "import datetime\n",
    "\n",
    "a = datetime.datetime.now()\n",
    "\n",
    "for i in range(5,0,-1):\n",
    "    b = datetime.timedelta(i)\n",
    "    c = a - b\n",
    "    print(c)"
   ]
  },
  {
   "cell_type": "code",
   "execution_count": 89,
   "id": "9f5631a4-c1c4-44d7-95c4-f7d71ef6339e",
   "metadata": {},
   "outputs": [
    {
     "data": {
      "text/plain": [
       "'17:36:59'"
      ]
     },
     "execution_count": 89,
     "metadata": {},
     "output_type": "execute_result"
    }
   ],
   "source": [
    "#244\n",
    "import time\n",
    "time.strftime('%X', time.localtime(time.time()))"
   ]
  },
  {
   "cell_type": "code",
   "execution_count": 97,
   "id": "b35d7016-e284-481a-b341-329d7d51b4f2",
   "metadata": {},
   "outputs": [
    {
     "name": "stdout",
     "output_type": "stream",
     "text": [
      "<class 'datetime.datetime'> 2020-05-04 00:00:00\n"
     ]
    }
   ],
   "source": [
    "#245\n",
    "day = \"2020-05-04\"\n",
    "a = datetime.datetime.strptime(day, '%Y-%m-%d')\n",
    "print(type(a), a)"
   ]
  },
  {
   "cell_type": "code",
   "execution_count": 1,
   "id": "14dff06b-1357-4b9c-bd94-189a0af0c4b0",
   "metadata": {},
   "outputs": [
    {
     "name": "stdout",
     "output_type": "stream",
     "text": [
      "17:49:00\n",
      "17:49:01\n",
      "17:49:02\n",
      "17:49:03\n",
      "17:49:04\n",
      "17:49:05\n"
     ]
    },
    {
     "ename": "KeyboardInterrupt",
     "evalue": "",
     "output_type": "error",
     "traceback": [
      "\u001b[1;31m---------------------------------------------------------------------------\u001b[0m",
      "\u001b[1;31mKeyboardInterrupt\u001b[0m                         Traceback (most recent call last)",
      "Cell \u001b[1;32mIn[1], line 7\u001b[0m\n\u001b[0;32m      5\u001b[0m i \u001b[38;5;241m=\u001b[39m time\u001b[38;5;241m.\u001b[39mstrftime(\u001b[38;5;124m'\u001b[39m\u001b[38;5;132;01m%X\u001b[39;00m\u001b[38;5;124m'\u001b[39m, time\u001b[38;5;241m.\u001b[39mlocaltime(time\u001b[38;5;241m.\u001b[39mtime()))\n\u001b[0;32m      6\u001b[0m \u001b[38;5;28mprint\u001b[39m(i)\n\u001b[1;32m----> 7\u001b[0m time\u001b[38;5;241m.\u001b[39msleep(\u001b[38;5;241m1\u001b[39m)\n",
      "\u001b[1;31mKeyboardInterrupt\u001b[0m: "
     ]
    }
   ],
   "source": [
    "#246\n",
    "import time\n",
    "import datetime\n",
    "while True:\n",
    "    i = time.strftime('%X', time.localtime(time.time()))\n",
    "    print(i)\n",
    "    time.sleep(1)"
   ]
  },
  {
   "cell_type": "code",
   "execution_count": null,
   "id": "074cf16b-722a-4325-8b71-82dfe94123bf",
   "metadata": {},
   "outputs": [],
   "source": [
    "#247\n",
    "import 해서 모듈 불러오기\n",
    "말곤 모르겠숩니다\n"
   ]
  },
  {
   "cell_type": "code",
   "execution_count": null,
   "id": "94709305-ae5d-4976-ba76-018d24135661",
   "metadata": {},
   "outputs": [],
   "source": [
    "#248\n"
   ]
  },
  {
   "cell_type": "code",
   "execution_count": null,
   "id": "da2c9c46-a458-4427-afd6-0fb93748adb0",
   "metadata": {},
   "outputs": [],
   "source": [
    "#249"
   ]
  },
  {
   "cell_type": "code",
   "execution_count": null,
   "id": "042fff05-2911-4f58-83e4-cf94b0e0d8b1",
   "metadata": {},
   "outputs": [],
   "source": [
    "#250"
   ]
  },
  {
   "cell_type": "markdown",
   "id": "16f07600-6bad-4908-9a50-ef8cb23bd7e6",
   "metadata": {},
   "source": [
    "# 11. 파이썬 클래스"
   ]
  },
  {
   "cell_type": "markdown",
   "id": "17afc290-b604-4a5e-ab26-7041b574c88b",
   "metadata": {},
   "source": [
    "## 251 ~ 260"
   ]
  },
  {
   "cell_type": "code",
   "execution_count": null,
   "id": "f37a2aa1-df2c-48ba-b9a7-45cf99a9bcc8",
   "metadata": {},
   "outputs": [],
   "source": [
    "#251"
   ]
  },
  {
   "cell_type": "code",
   "execution_count": null,
   "id": "5088ff49-baba-4bd5-9ffb-7824a224ac37",
   "metadata": {},
   "outputs": [],
   "source": [
    "#252"
   ]
  },
  {
   "cell_type": "code",
   "execution_count": null,
   "id": "c600a4cc-247b-4fa2-87f5-d60e4efe74d9",
   "metadata": {},
   "outputs": [],
   "source": [
    "#253"
   ]
  },
  {
   "cell_type": "code",
   "execution_count": null,
   "id": "51154274-001c-4d81-a24f-8eeb949e7ef4",
   "metadata": {},
   "outputs": [],
   "source": [
    "#254"
   ]
  },
  {
   "cell_type": "code",
   "execution_count": null,
   "id": "647f9df9-360d-4fea-890f-e6eae58fb6b5",
   "metadata": {},
   "outputs": [],
   "source": [
    "#255"
   ]
  },
  {
   "cell_type": "code",
   "execution_count": null,
   "id": "59820830-72ca-4cbf-b63a-f2af6256d1dc",
   "metadata": {},
   "outputs": [],
   "source": [
    "#256"
   ]
  },
  {
   "cell_type": "code",
   "execution_count": null,
   "id": "1543bc40-d45f-4ea1-80e8-7c541710736a",
   "metadata": {},
   "outputs": [],
   "source": [
    "#257"
   ]
  },
  {
   "cell_type": "code",
   "execution_count": null,
   "id": "6a07e79b-6822-46cf-9343-e86d8cecc598",
   "metadata": {},
   "outputs": [],
   "source": [
    "#258"
   ]
  },
  {
   "cell_type": "code",
   "execution_count": null,
   "id": "bddefd8b-36bf-44be-bc6a-fbf4c2722fae",
   "metadata": {},
   "outputs": [],
   "source": [
    "#259"
   ]
  },
  {
   "cell_type": "code",
   "execution_count": null,
   "id": "02fcaa36-254b-40f7-84b3-24215eba2171",
   "metadata": {},
   "outputs": [],
   "source": [
    "#260"
   ]
  },
  {
   "cell_type": "markdown",
   "id": "1dc28365-aa1f-47e6-b45d-bb6e8b080f74",
   "metadata": {},
   "source": [
    "## 261 ~ 270"
   ]
  },
  {
   "cell_type": "code",
   "execution_count": 1,
   "id": "59a6ef7a-507b-4f2d-ac91-b2b02f008ff6",
   "metadata": {},
   "outputs": [],
   "source": [
    "#261"
   ]
  },
  {
   "cell_type": "code",
   "execution_count": null,
   "id": "77bdaf6f-368e-4e4f-bcdb-29a5853bae3e",
   "metadata": {},
   "outputs": [],
   "source": [
    "#262"
   ]
  },
  {
   "cell_type": "code",
   "execution_count": null,
   "id": "23f9ec27-8dbb-44a5-824e-9a18973c5280",
   "metadata": {},
   "outputs": [],
   "source": [
    "#263"
   ]
  },
  {
   "cell_type": "code",
   "execution_count": null,
   "id": "3cb9aece-dc0d-48ea-ac8d-9e6d4d08604c",
   "metadata": {},
   "outputs": [],
   "source": [
    "#264"
   ]
  },
  {
   "cell_type": "code",
   "execution_count": null,
   "id": "009d7d34-e2a5-4f56-816b-25ff1c2ccbbb",
   "metadata": {},
   "outputs": [],
   "source": [
    "#265"
   ]
  },
  {
   "cell_type": "code",
   "execution_count": null,
   "id": "7160e08e-7698-4be5-b158-914c70cd5da0",
   "metadata": {},
   "outputs": [],
   "source": [
    "#266"
   ]
  },
  {
   "cell_type": "code",
   "execution_count": null,
   "id": "649b9213-9252-41bd-b6c8-8d8636d87c1e",
   "metadata": {},
   "outputs": [],
   "source": [
    "#267"
   ]
  },
  {
   "cell_type": "code",
   "execution_count": null,
   "id": "52974ae0-148a-4b22-a5dc-c263545a466d",
   "metadata": {},
   "outputs": [],
   "source": [
    "#268"
   ]
  },
  {
   "cell_type": "code",
   "execution_count": null,
   "id": "8dd5883f-30a2-4850-9758-425a78c7bb65",
   "metadata": {},
   "outputs": [],
   "source": [
    "#269"
   ]
  },
  {
   "cell_type": "code",
   "execution_count": null,
   "id": "eb5e8ee4-9f0b-47da-9113-dd3a636d9e8e",
   "metadata": {},
   "outputs": [],
   "source": [
    "#270"
   ]
  },
  {
   "cell_type": "markdown",
   "id": "361efbe9-983d-41a9-a7c2-5384e64953a1",
   "metadata": {},
   "source": [
    "## 271 ~ 280"
   ]
  },
  {
   "cell_type": "code",
   "execution_count": null,
   "id": "d349d418-518d-4b96-970e-12a0c30a08ba",
   "metadata": {},
   "outputs": [],
   "source": [
    "#271"
   ]
  },
  {
   "cell_type": "code",
   "execution_count": null,
   "id": "e0b3b2c9-e64a-416c-ba77-1148c9a834fa",
   "metadata": {},
   "outputs": [],
   "source": [
    "#272"
   ]
  },
  {
   "cell_type": "code",
   "execution_count": null,
   "id": "cccb7b57-4834-4fd2-ac00-176430e8f3bc",
   "metadata": {},
   "outputs": [],
   "source": [
    "#273"
   ]
  },
  {
   "cell_type": "code",
   "execution_count": null,
   "id": "a0520f6c-5c90-41eb-a1ab-5d4e1703d512",
   "metadata": {},
   "outputs": [],
   "source": [
    "#274"
   ]
  },
  {
   "cell_type": "code",
   "execution_count": null,
   "id": "902c96f8-134e-42d2-88a9-31de35f544a4",
   "metadata": {},
   "outputs": [],
   "source": [
    "#275"
   ]
  },
  {
   "cell_type": "code",
   "execution_count": null,
   "id": "1bb907ef-d719-409e-9b69-be11668ad083",
   "metadata": {},
   "outputs": [],
   "source": [
    "#276"
   ]
  },
  {
   "cell_type": "code",
   "execution_count": null,
   "id": "688edb92-0cc8-4f07-9971-c608c53c92e6",
   "metadata": {},
   "outputs": [],
   "source": [
    "#277"
   ]
  },
  {
   "cell_type": "code",
   "execution_count": null,
   "id": "cf2d7929-3fd6-48ad-b279-ee847efae1f2",
   "metadata": {},
   "outputs": [],
   "source": [
    "#278"
   ]
  },
  {
   "cell_type": "code",
   "execution_count": null,
   "id": "0b3a75a4-5831-4d4a-bdbc-fd9110612c4f",
   "metadata": {},
   "outputs": [],
   "source": [
    "#279"
   ]
  },
  {
   "cell_type": "code",
   "execution_count": null,
   "id": "931001d3-4b2d-48b1-acc9-c1d767112f32",
   "metadata": {},
   "outputs": [],
   "source": [
    "#280"
   ]
  },
  {
   "cell_type": "markdown",
   "id": "bcebaa68-1097-43ed-bbe3-30bcf4a1c77d",
   "metadata": {},
   "source": [
    "## 281 ~ 290"
   ]
  },
  {
   "cell_type": "code",
   "execution_count": null,
   "id": "1c0ffac9-ef96-4591-990c-46f6afc9d69d",
   "metadata": {},
   "outputs": [],
   "source": [
    "#281"
   ]
  },
  {
   "cell_type": "code",
   "execution_count": null,
   "id": "78e88ce3-fdb6-41d0-ae0d-430639767e64",
   "metadata": {},
   "outputs": [],
   "source": [
    "#282"
   ]
  },
  {
   "cell_type": "code",
   "execution_count": null,
   "id": "8304437d-2b52-424a-a165-83ac7d72ba4b",
   "metadata": {},
   "outputs": [],
   "source": [
    "#283"
   ]
  },
  {
   "cell_type": "code",
   "execution_count": null,
   "id": "3aab51d4-0c71-47e0-87b0-47bcc994fdbe",
   "metadata": {},
   "outputs": [],
   "source": [
    "#284"
   ]
  },
  {
   "cell_type": "code",
   "execution_count": null,
   "id": "dc8273be-fe3f-476a-8661-85c5a30dbf70",
   "metadata": {},
   "outputs": [],
   "source": [
    "#285"
   ]
  },
  {
   "cell_type": "code",
   "execution_count": null,
   "id": "60dab80c-e561-4612-bbc7-1dc7c2aca77b",
   "metadata": {},
   "outputs": [],
   "source": [
    "#286"
   ]
  },
  {
   "cell_type": "code",
   "execution_count": null,
   "id": "27dbed3f-f75c-45df-aee7-6043bee104ab",
   "metadata": {},
   "outputs": [],
   "source": [
    "#287"
   ]
  },
  {
   "cell_type": "code",
   "execution_count": null,
   "id": "37d561c9-b702-45d9-bfb5-5a487f245db0",
   "metadata": {},
   "outputs": [],
   "source": [
    "#288"
   ]
  },
  {
   "cell_type": "code",
   "execution_count": null,
   "id": "dfd80f4e-b996-4ee3-a847-2c820a1a6b2d",
   "metadata": {},
   "outputs": [],
   "source": [
    "#289"
   ]
  },
  {
   "cell_type": "code",
   "execution_count": null,
   "id": "9c83bc92-404f-49a8-b5ee-0d8b210f0d84",
   "metadata": {},
   "outputs": [],
   "source": [
    "#290"
   ]
  },
  {
   "cell_type": "markdown",
   "id": "c541bc66-0e22-41ae-a529-a40b1eaa22d2",
   "metadata": {},
   "source": [
    "# 12. 파일 입출력과 예외처리"
   ]
  },
  {
   "cell_type": "markdown",
   "id": "a3fb5838-7421-4359-8fe1-ec138f625a55",
   "metadata": {},
   "source": [
    "## 291 ~ 300"
   ]
  },
  {
   "cell_type": "code",
   "execution_count": null,
   "id": "bf7286aa-627d-4f9b-89ca-a3c0d66f65f7",
   "metadata": {},
   "outputs": [],
   "source": [
    "#291"
   ]
  },
  {
   "cell_type": "code",
   "execution_count": null,
   "id": "e0923daf-43c0-4149-b01c-cdfb10c735d0",
   "metadata": {},
   "outputs": [],
   "source": [
    "#292"
   ]
  },
  {
   "cell_type": "code",
   "execution_count": null,
   "id": "ef3de960-01ec-49bf-979d-7c2435b83f25",
   "metadata": {},
   "outputs": [],
   "source": [
    "#293"
   ]
  },
  {
   "cell_type": "code",
   "execution_count": null,
   "id": "8435adb4-a1a8-4ef6-a5e1-7f009c451398",
   "metadata": {},
   "outputs": [],
   "source": [
    "#294"
   ]
  },
  {
   "cell_type": "code",
   "execution_count": null,
   "id": "a03f3c10-b2e1-442c-b45c-486383f09993",
   "metadata": {},
   "outputs": [],
   "source": [
    "#295"
   ]
  },
  {
   "cell_type": "code",
   "execution_count": null,
   "id": "36ea76f3-0415-4168-bf32-b9591ff1cc8f",
   "metadata": {},
   "outputs": [],
   "source": [
    "#296"
   ]
  },
  {
   "cell_type": "code",
   "execution_count": null,
   "id": "5ed97712-8b58-4be1-87f4-ec2501e6efb1",
   "metadata": {},
   "outputs": [],
   "source": [
    "#297"
   ]
  },
  {
   "cell_type": "code",
   "execution_count": null,
   "id": "65184768-59db-4c95-b435-3e1a60d99c79",
   "metadata": {},
   "outputs": [],
   "source": [
    "#298"
   ]
  },
  {
   "cell_type": "code",
   "execution_count": null,
   "id": "325857e0-0eab-43fa-83e7-e111b3e1cdb7",
   "metadata": {},
   "outputs": [],
   "source": [
    "#299"
   ]
  },
  {
   "cell_type": "code",
   "execution_count": null,
   "id": "925d0c42-8173-454b-8557-707f0534eee7",
   "metadata": {},
   "outputs": [],
   "source": [
    "#300"
   ]
  }
 ],
 "metadata": {
  "kernelspec": {
   "display_name": "Python 3 (ipykernel)",
   "language": "python",
   "name": "python3"
  },
  "language_info": {
   "codemirror_mode": {
    "name": "ipython",
    "version": 3
   },
   "file_extension": ".py",
   "mimetype": "text/x-python",
   "name": "python",
   "nbconvert_exporter": "python",
   "pygments_lexer": "ipython3",
   "version": "3.11.7"
  }
 },
 "nbformat": 4,
 "nbformat_minor": 5
}
