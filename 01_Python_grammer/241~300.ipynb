{
 "cells": [
  {
   "cell_type": "markdown",
   "id": "41d92910-b2e2-4070-8a13-59556d70ed10",
   "metadata": {},
   "source": [
    "# 10. 파이썬 모듈"
   ]
  },
  {
   "cell_type": "markdown",
   "id": "dc8099bb-5de3-41ac-87c4-fef171184029",
   "metadata": {},
   "source": [
    "## 241 ~ 250"
   ]
  },
  {
   "cell_type": "code",
   "execution_count": 16,
   "id": "6438ea45-d368-47e8-8eaa-563349159aad",
   "metadata": {},
   "outputs": [
    {
     "name": "stdout",
     "output_type": "stream",
     "text": [
      "17:09:49.889519\n"
     ]
    }
   ],
   "source": [
    "#241\n",
    "import datetime\n",
    "a = datetime.datetime.now()\n",
    "print(a.time())"
   ]
  },
  {
   "cell_type": "code",
   "execution_count": 17,
   "id": "4dfb4928-8f95-466f-ac1c-08d5e95b1893",
   "metadata": {},
   "outputs": [
    {
     "data": {
      "text/plain": [
       "datetime.datetime"
      ]
     },
     "execution_count": 17,
     "metadata": {},
     "output_type": "execute_result"
    }
   ],
   "source": [
    "#242\n",
    "type(a)"
   ]
  },
  {
   "cell_type": "code",
   "execution_count": 86,
   "id": "afa8002d-b7fc-41f3-8eb9-39002c1679a8",
   "metadata": {},
   "outputs": [
    {
     "name": "stdout",
     "output_type": "stream",
     "text": [
      "2024-06-13 17:36:07.430604\n",
      "2024-06-14 17:36:07.430604\n",
      "2024-06-15 17:36:07.430604\n",
      "2024-06-16 17:36:07.430604\n",
      "2024-06-17 17:36:07.430604\n"
     ]
    }
   ],
   "source": [
    "#243\n",
    "import datetime\n",
    "\n",
    "a = datetime.datetime.now()\n",
    "\n",
    "for i in range(5,0,-1):\n",
    "    b = datetime.timedelta(i)\n",
    "    c = a - b\n",
    "    print(c)"
   ]
  },
  {
   "cell_type": "code",
   "execution_count": 89,
   "id": "9f5631a4-c1c4-44d7-95c4-f7d71ef6339e",
   "metadata": {},
   "outputs": [
    {
     "data": {
      "text/plain": [
       "'17:36:59'"
      ]
     },
     "execution_count": 89,
     "metadata": {},
     "output_type": "execute_result"
    }
   ],
   "source": [
    "#244\n",
    "import time\n",
    "time.strftime('%X', time.localtime(time.time()))"
   ]
  },
  {
   "cell_type": "code",
   "execution_count": 97,
   "id": "b35d7016-e284-481a-b341-329d7d51b4f2",
   "metadata": {},
   "outputs": [
    {
     "name": "stdout",
     "output_type": "stream",
     "text": [
      "<class 'datetime.datetime'> 2020-05-04 00:00:00\n"
     ]
    }
   ],
   "source": [
    "#245\n",
    "day = \"2020-05-04\"\n",
    "a = datetime.datetime.strptime(day, '%Y-%m-%d')\n",
    "print(type(a), a)"
   ]
  },
  {
   "cell_type": "code",
   "execution_count": 1,
   "id": "14dff06b-1357-4b9c-bd94-189a0af0c4b0",
   "metadata": {},
   "outputs": [
    {
     "name": "stdout",
     "output_type": "stream",
     "text": [
      "17:49:00\n",
      "17:49:01\n",
      "17:49:02\n",
      "17:49:03\n",
      "17:49:04\n",
      "17:49:05\n"
     ]
    },
    {
     "ename": "KeyboardInterrupt",
     "evalue": "",
     "output_type": "error",
     "traceback": [
      "\u001b[1;31m---------------------------------------------------------------------------\u001b[0m",
      "\u001b[1;31mKeyboardInterrupt\u001b[0m                         Traceback (most recent call last)",
      "Cell \u001b[1;32mIn[1], line 7\u001b[0m\n\u001b[0;32m      5\u001b[0m i \u001b[38;5;241m=\u001b[39m time\u001b[38;5;241m.\u001b[39mstrftime(\u001b[38;5;124m'\u001b[39m\u001b[38;5;132;01m%X\u001b[39;00m\u001b[38;5;124m'\u001b[39m, time\u001b[38;5;241m.\u001b[39mlocaltime(time\u001b[38;5;241m.\u001b[39mtime()))\n\u001b[0;32m      6\u001b[0m \u001b[38;5;28mprint\u001b[39m(i)\n\u001b[1;32m----> 7\u001b[0m time\u001b[38;5;241m.\u001b[39msleep(\u001b[38;5;241m1\u001b[39m)\n",
      "\u001b[1;31mKeyboardInterrupt\u001b[0m: "
     ]
    }
   ],
   "source": [
    "#246\n",
    "import time\n",
    "import datetime\n",
    "while True:\n",
    "    i = time.strftime('%X', time.localtime(time.time()))\n",
    "    print(i)\n",
    "    time.sleep(1)"
   ]
  },
  {
   "cell_type": "code",
   "execution_count": null,
   "id": "074cf16b-722a-4325-8b71-82dfe94123bf",
   "metadata": {},
   "outputs": [],
   "source": [
    "#247\n",
    "import 해서 모듈 불러오기\n",
    "말곤 모르겠숩니다\n"
   ]
  },
  {
   "cell_type": "code",
   "execution_count": 2,
   "id": "94709305-ae5d-4976-ba76-018d24135661",
   "metadata": {},
   "outputs": [
    {
     "data": {
      "text/plain": [
       "'C:\\\\workspace\\\\wassup3\\\\01_Python_grammer'"
      ]
     },
     "execution_count": 2,
     "metadata": {},
     "output_type": "execute_result"
    }
   ],
   "source": [
    "#248\n",
    "import os\n",
    "os.getcwd()"
   ]
  },
  {
   "cell_type": "code",
   "execution_count": 13,
   "id": "da2c9c46-a458-4427-afd6-0fb93748adb0",
   "metadata": {},
   "outputs": [],
   "source": [
    "#249\n",
    "import os\n",
    "os.rename('C:/Users/ChoiMinsoo/Desktop/2.txt', 'C:/Users/ChoiMinsoo/Desktop/1.txt')"
   ]
  },
  {
   "cell_type": "code",
   "execution_count": 25,
   "id": "799b2dd2-17a6-4146-95f9-a89b3017b8eb",
   "metadata": {},
   "outputs": [
    {
     "name": "stdout",
     "output_type": "stream",
     "text": [
      "0.0\n",
      "0.1\n",
      "0.2\n",
      "0.30000000000000004\n",
      "0.4\n",
      "0.5\n",
      "0.6000000000000001\n",
      "0.7000000000000001\n",
      "0.8\n",
      "0.9\n",
      "1.0\n",
      "1.1\n",
      "1.2000000000000002\n",
      "1.3\n",
      "1.4000000000000001\n",
      "1.5\n",
      "1.6\n",
      "1.7000000000000002\n",
      "1.8\n",
      "1.9000000000000001\n",
      "2.0\n",
      "2.1\n",
      "2.2\n",
      "2.3000000000000003\n",
      "2.4000000000000004\n",
      "2.5\n",
      "2.6\n",
      "2.7\n",
      "2.8000000000000003\n",
      "2.9000000000000004\n",
      "3.0\n",
      "3.1\n",
      "3.2\n",
      "3.3000000000000003\n",
      "3.4000000000000004\n",
      "3.5\n",
      "3.6\n",
      "3.7\n",
      "3.8000000000000003\n",
      "3.9000000000000004\n",
      "4.0\n",
      "4.1000000000000005\n",
      "4.2\n",
      "4.3\n",
      "4.4\n",
      "4.5\n",
      "4.6000000000000005\n",
      "4.7\n",
      "4.800000000000001\n",
      "4.9\n",
      "5.0\n"
     ]
    }
   ],
   "source": [
    "#250\n",
    "import numpy as np\n",
    "for i in np.arange(0, 5.1, 0.1):\n",
    "    print(i)"
   ]
  },
  {
   "cell_type": "markdown",
   "id": "16f07600-6bad-4908-9a50-ef8cb23bd7e6",
   "metadata": {},
   "source": [
    "# 11. 파이썬 클래스"
   ]
  },
  {
   "cell_type": "markdown",
   "id": "17afc290-b604-4a5e-ab26-7041b574c88b",
   "metadata": {},
   "source": [
    "## 251 ~ 260"
   ]
  },
  {
   "cell_type": "code",
   "execution_count": null,
   "id": "f37a2aa1-df2c-48ba-b9a7-45cf99a9bcc8",
   "metadata": {},
   "outputs": [],
   "source": [
    "#251\n",
    "# 클래스 안의 요소가 객체 \n",
    "#객체는 클래스의 인스턴스라고 부름 !"
   ]
  },
  {
   "cell_type": "code",
   "execution_count": 154,
   "id": "5088ff49-baba-4bd5-9ffb-7824a224ac37",
   "metadata": {},
   "outputs": [],
   "source": [
    "#252\n",
    "class Human:\n",
    "    pass"
   ]
  },
  {
   "cell_type": "code",
   "execution_count": 155,
   "id": "c600a4cc-247b-4fa2-87f5-d60e4efe74d9",
   "metadata": {},
   "outputs": [],
   "source": [
    "#253\n",
    "class Human:\n",
    "    pass\n",
    "areum = Human()"
   ]
  },
  {
   "cell_type": "code",
   "execution_count": null,
   "id": "51154274-001c-4d81-a24f-8eeb949e7ef4",
   "metadata": {},
   "outputs": [],
   "source": [
    "#254\n",
    "class Human:\n",
    "    def"
   ]
  },
  {
   "cell_type": "code",
   "execution_count": 161,
   "id": "c67d51c1-8dc6-444d-b868-b155cb95eb2b",
   "metadata": {},
   "outputs": [
    {
     "name": "stdout",
     "output_type": "stream",
     "text": [
      "응애응애\n"
     ]
    }
   ],
   "source": [
    "#254\n",
    "class Human:\n",
    "    def __init__(self): #__init__ = key, 함수 = value, print('응애응애') = 바인딩되어있는 코드\n",
    "        print(\"응애응애\")\n",
    "areum = Human()"
   ]
  },
  {
   "cell_type": "code",
   "execution_count": 173,
   "id": "647f9df9-360d-4fea-890f-e6eae58fb6b5",
   "metadata": {},
   "outputs": [
    {
     "name": "stdout",
     "output_type": "stream",
     "text": [
      "아름\n"
     ]
    }
   ],
   "source": [
    "#255\n",
    "class Human:\n",
    "    def __init__(a, full_name, age, gender):\n",
    "        a.name = full_name\n",
    "        a.age = age\n",
    "        a.gen = gender\n",
    "\n",
    "areum = Human(\"아름\", 25, \"여자\")\n",
    "print(areum.name)"
   ]
  },
  {
   "cell_type": "code",
   "execution_count": 180,
   "id": "59820830-72ca-4cbf-b63a-f2af6256d1dc",
   "metadata": {},
   "outputs": [
    {
     "name": "stdout",
     "output_type": "stream",
     "text": [
      "이름: 조아름 나이: 25 성별: 여자\n"
     ]
    }
   ],
   "source": [
    "#256\n",
    "class Human:\n",
    "    def __init__(a, full_name, age, gender):\n",
    "        a.name = full_name\n",
    "        a.age = age\n",
    "        a.gen = gender\n",
    "\n",
    "areum = Human(\"조아름\", 25, \"여자\")\n",
    "print('이름:', areum.name, '나이:', areum.age, '성별:', areum.gen)\n"
   ]
  },
  {
   "cell_type": "code",
   "execution_count": 182,
   "id": "1543bc40-d45f-4ea1-80e8-7c541710736a",
   "metadata": {},
   "outputs": [
    {
     "name": "stdout",
     "output_type": "stream",
     "text": [
      "이름: 조아름 나이: 25 성별: 여자\n"
     ]
    }
   ],
   "source": [
    "#257\n",
    "class Human:\n",
    "    def __init__(a, full_name, age, gender):\n",
    "        a.name = full_name\n",
    "        a.age = age\n",
    "        a.gen = gender\n",
    "    def who(a):\n",
    "        print('이름:', areum.name, '나이:', areum.age, '성별:', areum.gen)\n",
    "\n",
    "areum = Human(\"조아름\", 25, \"여자\")\n",
    "areum.who()"
   ]
  },
  {
   "cell_type": "code",
   "execution_count": 191,
   "id": "6a07e79b-6822-46cf-9343-e86d8cecc598",
   "metadata": {},
   "outputs": [
    {
     "name": "stdout",
     "output_type": "stream",
     "text": [
      "이름: 모름 나이: 0 성별: 모름\n",
      "이름: 아름 나이: 25 성별: 여자\n"
     ]
    }
   ],
   "source": [
    "#258\n",
    "class Human:\n",
    "    def __init__(a, full_name, age, gender):\n",
    "        a.name = full_name\n",
    "        a.age = age\n",
    "        a.gen = gender\n",
    "    def who(a):\n",
    "        print('이름:', areum.name, '나이:', areum.age, '성별:', areum.gen)\n",
    "    def setInfo(a, name,age,gen):\n",
    "        a.name = name\n",
    "        a.age = age\n",
    "        a.gen = gen\n",
    "\n",
    "areum = Human(\"모름\", 0, \"모름\")\n",
    "areum.who()\n",
    "areum.setInfo(\"아름\", 25, \"여자\")\n",
    "areum.who()"
   ]
  },
  {
   "cell_type": "code",
   "execution_count": 192,
   "id": "bddefd8b-36bf-44be-bc6a-fbf4c2722fae",
   "metadata": {},
   "outputs": [
    {
     "name": "stdout",
     "output_type": "stream",
     "text": [
      "나의 죽음을 알리지 말라\n"
     ]
    }
   ],
   "source": [
    "#259\n",
    "#258\n",
    "class Human:\n",
    "    def __init__(a, full_name, age, gender):\n",
    "        a.name = full_name\n",
    "        a.age = age\n",
    "        a.gen = gender\n",
    "    def who(a):\n",
    "        print('이름:', areum.name, '나이:', areum.age, '성별:', areum.gen)\n",
    "    def setInfo(a, name,age,gen):\n",
    "        a.name = name\n",
    "        a.age = age\n",
    "        a.gen = gen\n",
    "    def __del__(a):\n",
    "        print('나의 죽음을 알리지 말라')\n",
    "\n",
    "areum = Human(\"아름\", 25, \"여자\")\n",
    "del areum"
   ]
  },
  {
   "cell_type": "code",
   "execution_count": 198,
   "id": "02fcaa36-254b-40f7-84b3-24215eba2171",
   "metadata": {},
   "outputs": [
    {
     "name": "stdout",
     "output_type": "stream",
     "text": [
      "Oh my god\n"
     ]
    }
   ],
   "source": [
    "#260\n",
    "class OMG : \n",
    "    def print() :\n",
    "        print(\"Oh my god\")\n",
    "        \n",
    "myStock = OMG() #함수 밖에서 정의를 해줘야 \n",
    "OMG.print() # myStock이 아니라 정의한 OMG를 뽑아야 값이 나옴"
   ]
  },
  {
   "cell_type": "markdown",
   "id": "1dc28365-aa1f-47e6-b45d-bb6e8b080f74",
   "metadata": {},
   "source": [
    "## 261 ~ 270"
   ]
  },
  {
   "cell_type": "code",
   "execution_count": 199,
   "id": "59a6ef7a-507b-4f2d-ac91-b2b02f008ff6",
   "metadata": {},
   "outputs": [],
   "source": [
    "#261\n",
    "class Stock:\n",
    "    pass"
   ]
  },
  {
   "cell_type": "code",
   "execution_count": 205,
   "id": "77bdaf6f-368e-4e4f-bcdb-29a5853bae3e",
   "metadata": {},
   "outputs": [
    {
     "name": "stdout",
     "output_type": "stream",
     "text": [
      "삼성전자\n",
      "005930\n"
     ]
    }
   ],
   "source": [
    "#262\n",
    "class Stock:\n",
    "    def __init__(self,name,code):\n",
    "        self.name = name\n",
    "        self.code = code\n",
    "\n",
    "삼성 = Stock(\"삼성전자\", \"005930\")\n",
    "print(삼성.name)\n",
    "print(삼성.code)"
   ]
  },
  {
   "cell_type": "code",
   "execution_count": 215,
   "id": "23f9ec27-8dbb-44a5-824e-9a18973c5280",
   "metadata": {},
   "outputs": [
    {
     "name": "stdout",
     "output_type": "stream",
     "text": [
      "삼성전자\n"
     ]
    }
   ],
   "source": [
    "#263\n",
    "class Stock:\n",
    "    def __init__(self,name,code):\n",
    "        self.name = name\n",
    "        self.code = code\n",
    "    def set_name(self,name):\n",
    "        self.name = name\n",
    "        \n",
    "a = Stock(None, None)\n",
    "a.set_name('삼성전자')\n",
    "print(a.name)"
   ]
  },
  {
   "cell_type": "code",
   "execution_count": 218,
   "id": "3cb9aece-dc0d-48ea-ac8d-9e6d4d08604c",
   "metadata": {},
   "outputs": [
    {
     "name": "stdout",
     "output_type": "stream",
     "text": [
      "005930\n"
     ]
    }
   ],
   "source": [
    "#264\n",
    "class Stock:\n",
    "    def __init__(self,name,code):\n",
    "        self.name = name\n",
    "        self.code = code\n",
    "    def set_name(self,name):\n",
    "        self.name = name\n",
    "    def set_code(self,code):\n",
    "        self.code = code\n",
    "                \n",
    "        \n",
    "a = Stock(None, None)\n",
    "a.set_code('005930')\n",
    "print(a.code)"
   ]
  },
  {
   "cell_type": "code",
   "execution_count": 219,
   "id": "009d7d34-e2a5-4f56-816b-25ff1c2ccbbb",
   "metadata": {},
   "outputs": [
    {
     "name": "stdout",
     "output_type": "stream",
     "text": [
      "삼성전자\n",
      "005930\n",
      "삼성전자\n",
      "005930\n"
     ]
    }
   ],
   "source": [
    "#265\n",
    "class Stock:\n",
    "    def __init__(self,name,code):\n",
    "        self.name = name\n",
    "        self.code = code\n",
    "    def set_name(self,name):\n",
    "        self.name = name\n",
    "    def set_code(self,code):\n",
    "        self.code = code\n",
    "    def get_name(self):\n",
    "        return self.name\n",
    "    def get_code(self):\n",
    "        return self.code\n",
    "                \n",
    "        \n",
    "삼성 = Stock(\"삼성전자\", \"005930\")\n",
    "print(삼성.name)\n",
    "print(삼성.code)\n",
    "print(삼성.get_name())\n",
    "print(삼성.get_code())"
   ]
  },
  {
   "cell_type": "code",
   "execution_count": 222,
   "id": "7160e08e-7698-4be5-b158-914c70cd5da0",
   "metadata": {},
   "outputs": [],
   "source": [
    "#266\n",
    "class Stock:\n",
    "    def __init__(self,name,code,per,pbr, dy):\n",
    "        self.name = name\n",
    "        self.code = code\n",
    "        self.per = per\n",
    "        self.pbr = pbr\n",
    "        self.dy = dy\n",
    "    def set_name(self,name):\n",
    "        self.name = name\n",
    "    def set_code(self,code):\n",
    "        self.code = code\n",
    "    def get_name(self):\n",
    "        return self.name\n",
    "    def get_code(self):\n",
    "        return self.code"
   ]
  },
  {
   "cell_type": "code",
   "execution_count": 225,
   "id": "649b9213-9252-41bd-b6c8-8d8636d87c1e",
   "metadata": {},
   "outputs": [
    {
     "name": "stdout",
     "output_type": "stream",
     "text": [
      "15.79\n",
      "1.33\n",
      "2.83\n"
     ]
    }
   ],
   "source": [
    "#267\n",
    "삼성 = Stock(\"삼성전자\", \"005930\", 15.79, 1.33, 2.83)\n",
    "print(삼성.per)\n",
    "print(삼성.pbr)\n",
    "print(삼성.dy)"
   ]
  },
  {
   "cell_type": "code",
   "execution_count": 235,
   "id": "52974ae0-148a-4b22-a5dc-c263545a466d",
   "metadata": {},
   "outputs": [],
   "source": [
    "#268\n",
    "class Stock:\n",
    "    def __init__(self,name,code,per,pbr, dy):\n",
    "        self.name = name\n",
    "        self.code = code\n",
    "        self.per = per\n",
    "        self.pbr = pbr\n",
    "        self.dy = dy\n",
    "    def set_name(self,name):\n",
    "        self.name = name\n",
    "    def set_code(self,code):\n",
    "        self.code = code\n",
    "    def set_per(self,per):\n",
    "        self.per = per\n",
    "    def set_pbr(self,pbr):\n",
    "        self.pbr = pbr\n",
    "    def set_dy(self,dy):\n",
    "        self.dy = dy\n",
    "    def get_name(self):\n",
    "        return self.name\n",
    "    def get_code(self):\n",
    "        return self.code"
   ]
  },
  {
   "cell_type": "code",
   "execution_count": 232,
   "id": "8dd5883f-30a2-4850-9758-425a78c7bb65",
   "metadata": {},
   "outputs": [
    {
     "name": "stdout",
     "output_type": "stream",
     "text": [
      "12.75\n"
     ]
    }
   ],
   "source": [
    "#269\n",
    "삼성 = Stock(\"삼성전자\", \"005930\", 15.79, 1.33, 2.83)\n",
    "삼성.set_per(12.75)\n",
    "print(삼성.per)"
   ]
  },
  {
   "cell_type": "code",
   "execution_count": 251,
   "id": "eb5e8ee4-9f0b-47da-9113-dd3a636d9e8e",
   "metadata": {},
   "outputs": [
    {
     "name": "stdout",
     "output_type": "stream",
     "text": [
      "삼성전자 005930 15.79\n",
      "현대차 005380 8.7\n",
      "LG전자 066570 317.34\n"
     ]
    }
   ],
   "source": [
    "#270\n",
    "list = []\n",
    "삼성 = Stock(\"삼성전자\", \"005930\", 15.79, 1.33, 2.83)\n",
    "현대 = Stock('현대차', '005380',\t8.70, 0.35, 4.27)\n",
    "엘지 = Stock('LG전자', '066570', 317.34,0.69,1.37)\n",
    "list.append(삼성)\n",
    "list.append(현대)\n",
    "list.append(엘지)\n",
    "\n",
    "for i in list:\n",
    "    print(i.name,i.code, i.per)\n",
    "#이름은 내가 확인하려고 뽑음!"
   ]
  },
  {
   "cell_type": "markdown",
   "id": "361efbe9-983d-41a9-a7c2-5384e64953a1",
   "metadata": {},
   "source": [
    "## 271 ~ 280"
   ]
  },
  {
   "cell_type": "code",
   "execution_count": 286,
   "id": "d349d418-518d-4b96-970e-12a0c30a08ba",
   "metadata": {},
   "outputs": [
    {
     "name": "stdout",
     "output_type": "stream",
     "text": [
      "348-69-765268\n"
     ]
    }
   ],
   "source": [
    "#271\n",
    "import random\n",
    "class Account:\n",
    "\n",
    "    def __init__(self, name, balance):\n",
    "        self.name = name\n",
    "        self.balance = balance\n",
    "        self.bank = 'SC은행'\n",
    "        n1 = random.randint(0,999)\n",
    "        n2 = random.randint(0,99)\n",
    "        n3 = random.randint(0,999999)\n",
    "        \n",
    "        n1 = str(n1).zfill(3)\n",
    "        n2 = str(n2).zfill(2)\n",
    "        n3 = str(n3).zfill(6)\n",
    "        self.ac = n1+'-'+n2+'-'+n3\n",
    "\n",
    "민수 = Account(\"최민수\", 10000)\n",
    "print(민수.ac)"
   ]
  },
  {
   "cell_type": "code",
   "execution_count": 300,
   "id": "e0b3b2c9-e64a-416c-ba77-1148c9a834fa",
   "metadata": {},
   "outputs": [
    {
     "name": "stdout",
     "output_type": "stream",
     "text": [
      "183-51-649735\n",
      "2\n"
     ]
    }
   ],
   "source": [
    "#272\n",
    "import random\n",
    "class Account:\n",
    "    \n",
    "    account_number = 0\n",
    "    \n",
    "    def __init__(self, name, balance):\n",
    "        self.name = name\n",
    "        self.balance = balance\n",
    "        self.bank = 'SC은행'\n",
    "        n1 = random.randint(0,999)\n",
    "        n2 = random.randint(0,99)\n",
    "        n3 = random.randint(0,999999)\n",
    "        \n",
    "        n1 = str(n1).zfill(3)\n",
    "        n2 = str(n2).zfill(2)\n",
    "        n3 = str(n3).zfill(6)\n",
    "        self.ac = n1+'-'+n2+'-'+n3\n",
    "        Account.account_number += 1\n",
    "        \n",
    "민수 = Account(\"최민수\", 10000)\n",
    "빠덜 = Account(\"최아빠\", 10000)\n",
    "print(민수.ac)\n",
    "print(Account.account_number)"
   ]
  },
  {
   "cell_type": "code",
   "execution_count": 304,
   "id": "cccb7b57-4834-4fd2-ac00-176430e8f3bc",
   "metadata": {},
   "outputs": [
    {
     "name": "stdout",
     "output_type": "stream",
     "text": [
      "766-79-832893\n",
      "2\n"
     ]
    },
    {
     "data": {
      "text/plain": [
       "2"
      ]
     },
     "execution_count": 304,
     "metadata": {},
     "output_type": "execute_result"
    }
   ],
   "source": [
    "#273\n",
    "import random\n",
    "class Account:\n",
    "    \n",
    "    account_number = 0\n",
    "    \n",
    "    def __init__(self, name, balance):\n",
    "        self.name = name\n",
    "        self.balance = balance\n",
    "        self.bank = 'SC은행'\n",
    "        n1 = random.randint(0,999)\n",
    "        n2 = random.randint(0,99)\n",
    "        n3 = random.randint(0,999999)\n",
    "        \n",
    "        n1 = str(n1).zfill(3)\n",
    "        n2 = str(n2).zfill(2)\n",
    "        n3 = str(n3).zfill(6)\n",
    "        self.ac = n1+'-'+n2+'-'+n3\n",
    "        Account.account_number += 1\n",
    "    \n",
    "    def get_account_num(self):\n",
    "        return Account.account_number\n",
    "\n",
    "        \n",
    "민수 = Account(\"최민수\", 10000)\n",
    "빠덜 = Account(\"최아빠\", 10000)\n",
    "print(민수.ac)\n",
    "print(Account.account_number)\n",
    "민수.get_account_num()"
   ]
  },
  {
   "cell_type": "code",
   "execution_count": 329,
   "id": "a0520f6c-5c90-41eb-a1ab-5d4e1703d512",
   "metadata": {},
   "outputs": [
    {
     "name": "stdout",
     "output_type": "stream",
     "text": [
      "514-58-815226\n",
      "15000\n"
     ]
    }
   ],
   "source": [
    "#274\n",
    "import random\n",
    "class Account:\n",
    "    \n",
    "    account_number = 0\n",
    "    \n",
    "    def __init__(self, name, balance):\n",
    "        self.name = name\n",
    "        self.balance = balance\n",
    "        self.bank = 'SC은행'\n",
    "        \n",
    "        n1 = random.randint(0,999)\n",
    "        n2 = random.randint(0,99)\n",
    "        n3 = random.randint(0,999999)\n",
    "        \n",
    "        n1 = str(n1).zfill(3)\n",
    "        n2 = str(n2).zfill(2)\n",
    "        n3 = str(n3).zfill(6)\n",
    "        self.ac = n1+'-'+n2+'-'+n3\n",
    "        Account.account_number += 1\n",
    "    \n",
    "\n",
    "    def get_account_num(self):\n",
    "        print(cls.account_count)\n",
    "\n",
    "    def deposit(self, money):\n",
    "        if money >= 1:\n",
    "            self.balance += money\n",
    "\n",
    "        \n",
    "민수 = Account(\"최민수\", 10000)\n",
    "빠덜 = Account(\"최아빠\", 10000)\n",
    "print(민수.ac)\n",
    "민수.deposit(5000)\n",
    "print(민수.balance)"
   ]
  },
  {
   "cell_type": "code",
   "execution_count": 347,
   "id": "902c96f8-134e-42d2-88a9-31de35f544a4",
   "metadata": {},
   "outputs": [
    {
     "name": "stdout",
     "output_type": "stream",
     "text": [
      "901-93-241551\n",
      "12000\n"
     ]
    }
   ],
   "source": [
    "#275\n",
    "import random\n",
    "class Account:\n",
    "    \n",
    "    account_number = 0\n",
    "    \n",
    "    def __init__(self, name, balance):\n",
    "        self.name = name\n",
    "        self.balance = balance\n",
    "        self.bank = 'SC은행'\n",
    "        \n",
    "        n1 = random.randint(0,999)\n",
    "        n2 = random.randint(0,99)\n",
    "        n3 = random.randint(0,999999)\n",
    "        \n",
    "        n1 = str(n1).zfill(3)\n",
    "        n2 = str(n2).zfill(2)\n",
    "        n3 = str(n3).zfill(6)\n",
    "        self.ac = n1+'-'+n2+'-'+n3\n",
    "        Account.account_number += 1\n",
    "    \n",
    "\n",
    "    def get_account_num(self):\n",
    "        print(Account.account_count)\n",
    "\n",
    "    def deposit(self, money):\n",
    "        if money >= 1:\n",
    "            self.balance += money\n",
    "        \n",
    "\n",
    "    def withdraw(self,money):\n",
    "        if self.balance >= money:\n",
    "            self.balance-= money\n",
    "        \n",
    "\n",
    "        \n",
    "민수 = Account(\"최민수\", 10000)\n",
    "빠덜 = Account(\"최아빠\", 10000)\n",
    "print(민수.ac)\n",
    "민수.deposit(5000)\n",
    "민수.withdraw(3000)\n",
    "print(민수.balance)"
   ]
  },
  {
   "cell_type": "code",
   "execution_count": 354,
   "id": "1bb907ef-d719-409e-9b69-be11668ad083",
   "metadata": {},
   "outputs": [
    {
     "name": "stdout",
     "output_type": "stream",
     "text": [
      "129-51-269674\n",
      "12000\n",
      "은행이름: SC은행\n",
      "예금주: 최민수\n",
      "계좌번호: 129-51-269674\n",
      "잔고: 12,000\n"
     ]
    }
   ],
   "source": [
    "#276\n",
    "#275\n",
    "import random\n",
    "class Account:\n",
    "    \n",
    "    account_number = 0\n",
    "    \n",
    "    def __init__(self, name, balance):\n",
    "        self.name = name\n",
    "        self.balance = balance\n",
    "        self.bank = 'SC은행'\n",
    "        \n",
    "        n1 = random.randint(0,999)\n",
    "        n2 = random.randint(0,99)\n",
    "        n3 = random.randint(0,999999)\n",
    "        \n",
    "        n1 = str(n1).zfill(3)\n",
    "        n2 = str(n2).zfill(2)\n",
    "        n3 = str(n3).zfill(6)\n",
    "        self.ac = n1+'-'+n2+'-'+n3\n",
    "        Account.account_number += 1\n",
    "    \n",
    "\n",
    "    def get_account_num(self):\n",
    "        print(Account.account_count)\n",
    "\n",
    "    def deposit(self, money):\n",
    "        if money >= 1:\n",
    "            self.balance += money\n",
    "        \n",
    "\n",
    "    def withdraw(self,money):\n",
    "        if self.balance >= money:\n",
    "            self.balance-= money\n",
    "    def display_info(self):\n",
    "        print('은행이름:',self.bank)\n",
    "        print('예금주:',self.name)\n",
    "        print('계좌번호:',self.ac)\n",
    "        print('잔고:',format(self.balance,','))\n",
    "        \n",
    "\n",
    "        \n",
    "민수 = Account(\"최민수\", 10000)\n",
    "빠덜 = Account(\"최아빠\", 10000)\n",
    "print(민수.ac)\n",
    "민수.deposit(5000)\n",
    "민수.withdraw(3000)\n",
    "print(민수.balance)\n",
    "민수.display_info()"
   ]
  },
  {
   "cell_type": "code",
   "execution_count": 374,
   "id": "688edb92-0cc8-4f07-9971-c608c53c92e6",
   "metadata": {},
   "outputs": [
    {
     "name": "stdout",
     "output_type": "stream",
     "text": [
      "15150.0\n",
      "[<__main__.Account object at 0x0000012D09CDD690>, <__main__.Account object at 0x0000012D0931D1D0>, <__main__.Account object at 0x0000012D092642D0>]\n"
     ]
    }
   ],
   "source": [
    "#277\n",
    "\n",
    "import random\n",
    "class Account:\n",
    "    \n",
    "    account_number = 0\n",
    "    \n",
    "    \n",
    "    def __init__(self, name, balance):\n",
    "        self.deposit_number = 0\n",
    "        \n",
    "        self.name = name\n",
    "        self.balance = balance\n",
    "        self.bank = 'SC은행'\n",
    "        \n",
    "        n1 = random.randint(0,999)\n",
    "        n2 = random.randint(0,99)\n",
    "        n3 = random.randint(0,999999)\n",
    "        \n",
    "        n1 = str(n1).zfill(3)\n",
    "        n2 = str(n2).zfill(2)\n",
    "        n3 = str(n3).zfill(6)\n",
    "        self.ac = n1+'-'+n2+'-'+n3\n",
    "        Account.account_number += 1\n",
    "    \n",
    "\n",
    "    def get_account_num(self):\n",
    "        print(Account.account_count)\n",
    "\n",
    "    def deposit(self, money):\n",
    "        if money >= 1:\n",
    "            self.balance += money\n",
    "            \n",
    "            self.deposit_number += 1\n",
    "            if self.deposit_number%5==0:\n",
    "                self.balance =  (self.balance * 1.01)\n",
    "\n",
    "        \n",
    "\n",
    "    def withdraw(self,money):\n",
    "        if self.balance >= money:\n",
    "            self.balance-= money\n",
    "    def display_info(self):\n",
    "        print('은행이름:',self.bank)\n",
    "        print('예금주:',self.name)\n",
    "        print('계좌번호:',self.ac)\n",
    "        print('잔고:',format(self.balance,'.'))\n",
    "        \n",
    "\n",
    "     \n",
    "민수 = Account(\"최민수\", 10000)\n",
    "민수.deposit(1000)\n",
    "민수.deposit(1000)\n",
    "민수.deposit(1000)\n",
    "민수.deposit(1000)\n",
    "민수.deposit(1000)\n",
    "print(민수.balance)\n",
    "print(list)"
   ]
  },
  {
   "cell_type": "code",
   "execution_count": null,
   "id": "cf2d7929-3fd6-48ad-b279-ee847efae1f2",
   "metadata": {},
   "outputs": [],
   "source": [
    "#278\n",
    "\n",
    "import random\n",
    "class Account:\n",
    "    \n",
    "    account_number = 0\n",
    "    \n",
    "    \n",
    "    def __init__(self, name, balance):\n",
    "        self.deposit_number = 0\n",
    "        \n",
    "        self.name = name\n",
    "        self.balance = balance\n",
    "        self.bank = 'SC은행'\n",
    "        \n",
    "        n1 = random.randint(0,999)\n",
    "        n2 = random.randint(0,99)\n",
    "        n3 = random.randint(0,999999)\n",
    "        \n",
    "        n1 = str(n1).zfill(3)\n",
    "        n2 = str(n2).zfill(2)\n",
    "        n3 = str(n3).zfill(6)\n",
    "        self.ac = n1+'-'+n2+'-'+n3\n",
    "        Account.account_number += 1\n",
    "    \n",
    "\n",
    "    def get_account_num(self):\n",
    "        print(Account.account_count)\n",
    "\n",
    "    def deposit(self, money):\n",
    "        if money >= 1:\n",
    "            self.balance += money\n",
    "            \n",
    "            self.deposit_number += 1\n",
    "            if self.deposit_number%5==0:\n",
    "                self.balance =  (self.balance * 1.01)\n",
    "\n",
    "        \n",
    "\n",
    "    def withdraw(self,money):\n",
    "        if self.balance >= money:\n",
    "            self.balance-= money\n",
    "    def display_info(self):\n",
    "        print('은행이름:',self.bank)\n",
    "        print('예금주:',self.name)\n",
    "        print('계좌번호:',self.ac)\n",
    "        print('잔고:',format(self.balance,'.'))\n",
    "        \n",
    "\n",
    "list = []        \n",
    "민수 = Account(\"최민수\", 10000)\n",
    "마덜 = Account(\"최아빠\", 10000)\n",
    "빠덜 = Account(\"최가아닌엄마\", 10000)\n",
    "\n",
    "list.append(민수)\n",
    "list.append(마덜)\n",
    "list.append(빠덜)\n",
    "\n",
    "print(list)"
   ]
  },
  {
   "cell_type": "code",
   "execution_count": 385,
   "id": "0b3a75a4-5831-4d4a-bdbc-fd9110612c4f",
   "metadata": {},
   "outputs": [
    {
     "name": "stdout",
     "output_type": "stream",
     "text": [
      "은행이름: SC은행\n",
      "예금주: 최민수\n",
      "계좌번호: 160-66-426521\n",
      "잔고: 1000000\n"
     ]
    }
   ],
   "source": [
    "#279\n",
    "\n",
    "import random\n",
    "class Account:\n",
    "    \n",
    "    account_number = 0\n",
    "    \n",
    "    \n",
    "    def __init__(self, name, balance):\n",
    "        self.deposit_number = 0\n",
    "        \n",
    "        self.name = name\n",
    "        self.balance = balance\n",
    "        self.bank = 'SC은행'\n",
    "        \n",
    "        n1 = random.randint(0,999)\n",
    "        n2 = random.randint(0,99)\n",
    "        n3 = random.randint(0,999999)\n",
    "        \n",
    "        n1 = str(n1).zfill(3)\n",
    "        n2 = str(n2).zfill(2)\n",
    "        n3 = str(n3).zfill(6)\n",
    "        self.ac = n1+'-'+n2+'-'+n3\n",
    "        Account.account_number += 1\n",
    "    \n",
    "\n",
    "    def get_account_num(self):\n",
    "        print(Account.account_count)\n",
    "\n",
    "    def deposit(self, money):\n",
    "        if money >= 1:\n",
    "            self.balance += money\n",
    "            \n",
    "            self.deposit_number += 1\n",
    "            if self.deposit_number%5==0:\n",
    "                self.balance =  (self.balance * 1.01)\n",
    "\n",
    "        \n",
    "\n",
    "    def withdraw(self,money):\n",
    "        if self.balance >= money:\n",
    "            self.balance-= money\n",
    "    def display_info(self):\n",
    "        print('은행이름:',self.bank)\n",
    "        print('예금주:',self.name)\n",
    "        print('계좌번호:',self.ac)\n",
    "        print('잔고:',self.balance)\n",
    "        \n",
    "\n",
    "list = []        \n",
    "민수 = Account(\"최민수\", 1000000)\n",
    "마덜 = Account(\"최아빠\", 100000)\n",
    "빠덜 = Account(\"최가아닌엄마\", 10000)\n",
    "\n",
    "list.append(민수)\n",
    "list.append(마덜)\n",
    "list.append(빠덜)\n",
    "\n",
    "\n",
    "for i in list:\n",
    "    if i.balance >= 1000000:\n",
    "        i.display_info()"
   ]
  },
  {
   "cell_type": "code",
   "execution_count": 393,
   "id": "2f477963-5ac4-4672-a4bd-05e5c4995413",
   "metadata": {},
   "outputs": [
    {
     "name": "stdout",
     "output_type": "stream",
     "text": [
      "입금내역: 1000\n",
      "입금내역: 2000\n",
      "출금내역: 100\n",
      "출금내역: 200\n"
     ]
    }
   ],
   "source": [
    "#280\n",
    "\n",
    "import random\n",
    "class Account:\n",
    "    \n",
    "    account_number = 0\n",
    "    \n",
    "    \n",
    "    def __init__(self, name, balance):\n",
    "        self.deposit_number = 0\n",
    "        self.deposit_details = []\n",
    "        self.withdraw_details = []\n",
    "        \n",
    "        self.name = name\n",
    "        self.balance = balance\n",
    "        self.bank = 'SC은행'\n",
    "        \n",
    "        n1 = random.randint(0,999)\n",
    "        n2 = random.randint(0,99)\n",
    "        n3 = random.randint(0,999999)\n",
    "        \n",
    "        n1 = str(n1).zfill(3)\n",
    "        n2 = str(n2).zfill(2)\n",
    "        n3 = str(n3).zfill(6)\n",
    "        self.ac = n1+'-'+n2+'-'+n3\n",
    "        Account.account_number += 1\n",
    "    \n",
    "\n",
    "    def get_account_num(self):\n",
    "        print(Account.account_count)\n",
    "\n",
    "    def deposit(self, money):\n",
    "        if money >= 1:\n",
    "            self.deposit_details.append(money)\n",
    "            self.balance += money\n",
    "            \n",
    "            self.deposit_number += 1\n",
    "            if self.deposit_number%5==0:\n",
    "                self.balance =  (self.balance * 1.01)\n",
    "\n",
    "        \n",
    "\n",
    "    def withdraw(self,money):\n",
    "        if self.balance >= money:\n",
    "            self.withdraw_details.append(money)\n",
    "            self.balance-= money\n",
    "    def display_info(self):\n",
    "        print('은행이름:',self.bank)\n",
    "        print('예금주:',self.name)\n",
    "        print('계좌번호:',self.ac)\n",
    "        print('잔고:',self.balance)\n",
    "    \n",
    "    def deposit_history(self):\n",
    "        for money in self.deposit_details:\n",
    "            print('입금내역:',money)\n",
    "    def withdraw_history(self):\n",
    "        for money in self.withdraw_details:\n",
    "            print('출금내역:',money)\n",
    "        \n",
    "\n",
    "       \n",
    "민수 = Account(\"최민수\", 1000000)\n",
    "민수.deposit(1000)\n",
    "민수.deposit(2000)\n",
    "민수.deposit_history()\n",
    "민수.withdraw(100)\n",
    "민수.withdraw(200)\n",
    "민수.withdraw_history()"
   ]
  },
  {
   "cell_type": "markdown",
   "id": "3cfba3cc-9297-4eb1-8039-df2cc456e0ed",
   "metadata": {},
   "source": [
    "## 281 ~ 290"
   ]
  },
  {
   "cell_type": "code",
   "execution_count": 401,
   "id": "eb90795c-55fc-4f64-9de5-cd248e2c1496",
   "metadata": {},
   "outputs": [],
   "source": [
    "#281\n",
    "class 차:\n",
    "    def __init__(self, 바퀴, 가격):\n",
    "        self.바퀴 = 바퀴\n",
    "        self.가격 = 가격\n",
    "    "
   ]
  },
  {
   "cell_type": "code",
   "execution_count": 403,
   "id": "b71c44df-9cba-4de6-b4e5-1d857985bb9d",
   "metadata": {},
   "outputs": [
    {
     "name": "stdout",
     "output_type": "stream",
     "text": [
      "2\n",
      "1000\n"
     ]
    }
   ],
   "source": [
    "car = 차(2, 1000)\n",
    "print(car.바퀴)\n",
    "print(car.가격)"
   ]
  },
  {
   "cell_type": "code",
   "execution_count": 404,
   "id": "38eaa913-c7c6-4a87-accd-15d773841d3a",
   "metadata": {},
   "outputs": [],
   "source": [
    "#282\n",
    "class 차:\n",
    "    def __init__(self, 바퀴, 가격):\n",
    "        self.바퀴 = 바퀴\n",
    "        self.가격 = 가격\n",
    "class 자전차(차):\n",
    "    pass"
   ]
  },
  {
   "cell_type": "code",
   "execution_count": 406,
   "id": "c844aa32-6f64-47bf-bae4-bd48e9039a67",
   "metadata": {},
   "outputs": [],
   "source": [
    "#283\n",
    "class 차:\n",
    "    def __init__(self, 바퀴, 가격):\n",
    "        self.바퀴 = 바퀴\n",
    "        self.가격 = 가격\n",
    "class 자전차(차):\n",
    "    pass"
   ]
  },
  {
   "cell_type": "code",
   "execution_count": 408,
   "id": "b265d486-9d24-4d9f-9afe-45a38b9cfb64",
   "metadata": {},
   "outputs": [
    {
     "name": "stdout",
     "output_type": "stream",
     "text": [
      "100\n"
     ]
    }
   ],
   "source": [
    "bicycle = 자전차(2, 100)\n",
    "print(bicycle.가격)"
   ]
  },
  {
   "cell_type": "code",
   "execution_count": 409,
   "id": "d61d9bc8-2f35-4f1e-abf7-32a263e842ec",
   "metadata": {},
   "outputs": [
    {
     "data": {
      "text/plain": [
       "'시마노'"
      ]
     },
     "execution_count": 409,
     "metadata": {},
     "output_type": "execute_result"
    }
   ],
   "source": [
    "#284\n",
    "class 차:\n",
    "    def __init__(self, 바퀴, 가격):\n",
    "        self.바퀴 = 바퀴\n",
    "        self.가격 = 가격\n",
    "class 자전차(차):\n",
    "    def __init__(self, 바퀴, 가격, 구동계):\n",
    "        self.바퀴 = 바퀴\n",
    "        self.가격 = 가격\n",
    "        self.구동계 = 구동계\n",
    "\n",
    "bicycle = 자전차(2, 100, \"시마노\")\n",
    "bicycle.구동계"
   ]
  },
  {
   "cell_type": "code",
   "execution_count": 412,
   "id": "b6475e16-0d3b-4fba-b799-64b7ccd15835",
   "metadata": {},
   "outputs": [
    {
     "name": "stdout",
     "output_type": "stream",
     "text": [
      "바퀴수 4\n",
      "가격 1000\n"
     ]
    }
   ],
   "source": [
    "#285\n",
    "class 차:\n",
    "    def __init__(self, 바퀴, 가격):\n",
    "        self.바퀴 = 바퀴\n",
    "        self.가격 = 가격\n",
    "    def 정보(self):\n",
    "        print('바퀴수',self.바퀴)\n",
    "        print('가격', self.가격)\n",
    "class 자동차(차):\n",
    "    pass\n",
    "\n",
    "car = 자동차(4, 1000)\n",
    "car.정보()"
   ]
  },
  {
   "cell_type": "code",
   "execution_count": 415,
   "id": "f98f842f-2d8e-457e-bc7d-8eeeea696241",
   "metadata": {},
   "outputs": [
    {
     "name": "stdout",
     "output_type": "stream",
     "text": [
      "바퀴수 2\n",
      "가격 100\n"
     ]
    }
   ],
   "source": [
    "#286\n",
    "class 차:\n",
    "    def __init__(self, 바퀴, 가격, 구동계):\n",
    "        self.바퀴 = 바퀴\n",
    "        self.가격 = 가격\n",
    "        self.구동계 = 구동계\n",
    "    def 정보(self):\n",
    "        print('바퀴수',self.바퀴)\n",
    "        print('가격', self.가격)\n",
    "class 자전차(차):\n",
    "    pass\n",
    "\n",
    "bicycle = 자전차(2, 100, \"시마노\")\n",
    "bicycle.정보()"
   ]
  },
  {
   "cell_type": "code",
   "execution_count": 416,
   "id": "c2a47406-83f8-461c-a869-180170609819",
   "metadata": {},
   "outputs": [
    {
     "name": "stdout",
     "output_type": "stream",
     "text": [
      "바퀴수 2\n",
      "가격 100\n",
      "구동계 시마노\n"
     ]
    }
   ],
   "source": [
    "#287\n",
    "class 차:\n",
    "    def __init__(self, 바퀴, 가격, 구동계):\n",
    "        self.바퀴 = 바퀴\n",
    "        self.가격 = 가격\n",
    "        self.구동계 = 구동계\n",
    "    def 정보(self):\n",
    "        print('바퀴수',self.바퀴)\n",
    "        print('가격', self.가격)\n",
    "        print('구동계', self.구동계)\n",
    "class 자전차(차):\n",
    "    pass\n",
    "\n",
    "bicycle = 자전차(2, 100, \"시마노\")\n",
    "bicycle.정보()"
   ]
  },
  {
   "cell_type": "code",
   "execution_count": null,
   "id": "95f25d35-1f87-4121-845f-9722c3c6edcb",
   "metadata": {},
   "outputs": [],
   "source": []
  },
  {
   "cell_type": "markdown",
   "id": "c541bc66-0e22-41ae-a529-a40b1eaa22d2",
   "metadata": {},
   "source": [
    "# 12. 파일 입출력과 예외처리"
   ]
  },
  {
   "cell_type": "markdown",
   "id": "a3fb5838-7421-4359-8fe1-ec138f625a55",
   "metadata": {},
   "source": [
    "## 291 ~ 300"
   ]
  },
  {
   "cell_type": "code",
   "execution_count": 41,
   "id": "bf7286aa-627d-4f9b-89ca-a3c0d66f65f7",
   "metadata": {},
   "outputs": [
    {
     "name": "stdout",
     "output_type": "stream",
     "text": [
      "005930 \n",
      "\n",
      "005380 \n",
      "\n",
      "035420 \n",
      "\n"
     ]
    }
   ],
   "source": [
    "#291\n",
    "f = open('C:/Users/Choiminsoo/Desktop/매수종목1.txt', 'w')\n",
    "a = ['005930','005380','035420']\n",
    "for i in a:\n",
    "    j = f'{i} \\n'\n",
    "    print(j)\n",
    "    f.write(j)\n",
    "\n",
    "f.close()"
   ]
  },
  {
   "cell_type": "code",
   "execution_count": 59,
   "id": "e0923daf-43c0-4149-b01c-cdfb10c735d0",
   "metadata": {},
   "outputs": [
    {
     "name": "stdout",
     "output_type": "stream",
     "text": [
      "005930 \n",
      "\n",
      "005380 \n",
      "\n",
      "035420 \n",
      "\n"
     ]
    }
   ],
   "source": [
    "#292\n",
    "f = open('C:/Users/Choiminsoo/Desktop/매수종목2.txt', 'w')\n",
    "a = ['005930','005380','035420']\n",
    "b = ['삼성전자','현대차','NAVER']\n",
    "c = {'005930':'삼성전자', '005380':'현대차','035420':'NAVER'}\n",
    "\n",
    "for i in c:\n",
    "    j = f'{i}'\n",
    "    k = f'{i} \\n'\n",
    "    print(k)\n",
    "    f.write(k)\n",
    "\n",
    "f.close()"
   ]
  },
  {
   "cell_type": "code",
   "execution_count": 77,
   "id": "43951dc5-02d2-42ee-8e6a-7e2075d520be",
   "metadata": {},
   "outputs": [],
   "source": [
    "#292_답\n",
    "f = open(\"C:/Users/Choiminsoo/Desktop/매수종목2.txt\", mode=\"w\",encoding='cp949')\n",
    "f.write(\"005930 삼성전자\\n\")\n",
    "f.write(\"005380 현대차\\n\")\n",
    "f.write(\"035420 NAVER\\n\")\n",
    "f.close()"
   ]
  },
  {
   "cell_type": "code",
   "execution_count": 78,
   "id": "ef3de960-01ec-49bf-979d-7c2435b83f25",
   "metadata": {},
   "outputs": [],
   "source": [
    "#293\n",
    "import csv\n",
    "f = open(\"C:/Users/Choiminsoo/Desktop/매수종목.csv\",'w',newline='')\n",
    "data = [['종목명','종목코드','PER'],['삼성전자','005930','15.79'],['NAVER','035420','55.82']]\n",
    "writer = csv.writer(f)\n",
    "writer.writerow(['종목명','종목코드','PER'])\n",
    "writer.writerow(['삼성전자','005930','15.79'])\n",
    "writer.writerow(['NAVER','035420','55.82'])\n",
    "\n",
    "f.close()"
   ]
  },
  {
   "cell_type": "code",
   "execution_count": 99,
   "id": "8435adb4-a1a8-4ef6-a5e1-7f009c451398",
   "metadata": {},
   "outputs": [
    {
     "name": "stdout",
     "output_type": "stream",
     "text": [
      "['005930', '005380', '035420']\n"
     ]
    }
   ],
   "source": [
    "#294\n",
    "f = open('C:/Users/Choiminsoo/Desktop/매수종목1.txt', 'r')\n",
    "lines = f.readlines()\n",
    "lists = []\n",
    "for line in lines:\n",
    "    list = line.strip()\n",
    "    lists.append(list)\n",
    "print(lists)\n",
    "f.close()"
   ]
  },
  {
   "cell_type": "code",
   "execution_count": 102,
   "id": "a03f3c10-b2e1-442c-b45c-486383f09993",
   "metadata": {},
   "outputs": [
    {
     "name": "stdout",
     "output_type": "stream",
     "text": [
      "{'005930': '삼성전자', '005380': '현대차', '035420': 'NAVER'}\n"
     ]
    }
   ],
   "source": [
    "#295\n",
    "f = open('C:/Users/Choiminsoo/Desktop/매수종목2.txt', 'r')\n",
    "lines = f.readlines()\n",
    "dics = {}\n",
    "for line in lines:\n",
    "    dic = line.strip()\n",
    "    a,b = dic.split()\n",
    "    dics[a] = b\n",
    "print(dics)\n",
    "f.close()"
   ]
  },
  {
   "cell_type": "code",
   "execution_count": 104,
   "id": "36ea76f3-0415-4168-bf32-b9591ff1cc8f",
   "metadata": {},
   "outputs": [
    {
     "name": "stdout",
     "output_type": "stream",
     "text": [
      "10.31\n",
      "0\n",
      "8.0\n"
     ]
    }
   ],
   "source": [
    "#296\n",
    "per = [\"10.31\", \"\", \"8.00\"]\n",
    "for i in per:\n",
    "    try:\n",
    "        print(float(i))\n",
    "    except:\n",
    "        print(0)"
   ]
  },
  {
   "cell_type": "code",
   "execution_count": 121,
   "id": "5ed97712-8b58-4be1-87f4-ec2501e6efb1",
   "metadata": {},
   "outputs": [
    {
     "name": "stdout",
     "output_type": "stream",
     "text": [
      "[10.31, 0, 8.0]\n"
     ]
    }
   ],
   "source": [
    "#297\n",
    "per = [\"10.31\",\"\",\"8.00\"]\n",
    "list = []\n",
    "for i in per:\n",
    "    try: \n",
    "        j = float(i)\n",
    "    except: \n",
    "        j = 0\n",
    "    list.append(j)\n",
    "print(list)"
   ]
  },
  {
   "cell_type": "code",
   "execution_count": 124,
   "id": "65184768-59db-4c95-b435-3e1a60d99c79",
   "metadata": {},
   "outputs": [
    {
     "name": "stdout",
     "output_type": "stream",
     "text": [
      "바보\n"
     ]
    }
   ],
   "source": [
    "#298\n",
    "try : \n",
    "    4/0\n",
    "except ZeroDivisionError:\n",
    "    print('바보')\n"
   ]
  },
  {
   "cell_type": "code",
   "execution_count": 134,
   "id": "325857e0-0eab-43fa-83e7-e111b3e1cdb7",
   "metadata": {},
   "outputs": [
    {
     "name": "stdout",
     "output_type": "stream",
     "text": [
      "1\n",
      "2\n",
      "3\n"
     ]
    },
    {
     "ename": "IndexError",
     "evalue": "list index out of range",
     "output_type": "error",
     "traceback": [
      "\u001b[1;31m---------------------------------------------------------------------------\u001b[0m",
      "\u001b[1;31mIndexError\u001b[0m                                Traceback (most recent call last)",
      "Cell \u001b[1;32mIn[134], line 4\u001b[0m\n\u001b[0;32m      2\u001b[0m data \u001b[38;5;241m=\u001b[39m [\u001b[38;5;241m1\u001b[39m, \u001b[38;5;241m2\u001b[39m, \u001b[38;5;241m3\u001b[39m]\n\u001b[0;32m      3\u001b[0m \u001b[38;5;28;01mfor\u001b[39;00m i \u001b[38;5;129;01min\u001b[39;00m \u001b[38;5;28mrange\u001b[39m(\u001b[38;5;241m5\u001b[39m):\n\u001b[1;32m----> 4\u001b[0m     \u001b[38;5;28mprint\u001b[39m(data[i])\n",
      "\u001b[1;31mIndexError\u001b[0m: list index out of range"
     ]
    }
   ],
   "source": [
    "#299\n",
    "data = [1, 2, 3]\n",
    "for i in range(5):\n",
    "    print(data[i])"
   ]
  },
  {
   "cell_type": "code",
   "execution_count": 135,
   "id": "6663f840-3525-4a25-89e4-be24faabaa96",
   "metadata": {},
   "outputs": [
    {
     "name": "stdout",
     "output_type": "stream",
     "text": [
      "1\n",
      "2\n",
      "3\n",
      "list index out of range\n",
      "list index out of range\n"
     ]
    }
   ],
   "source": [
    "data = [1, 2, 3]\n",
    "for i in range(5):\n",
    "    try:\n",
    "        print(data[i])\n",
    "    except IndexError as e:\n",
    "        print(e)"
   ]
  },
  {
   "cell_type": "code",
   "execution_count": 136,
   "id": "925d0c42-8173-454b-8557-707f0534eee7",
   "metadata": {},
   "outputs": [
    {
     "ename": "TypeError",
     "evalue": "float() argument must be a string or a real number, not 'list'",
     "output_type": "error",
     "traceback": [
      "\u001b[1;31m---------------------------------------------------------------------------\u001b[0m",
      "\u001b[1;31mTypeError\u001b[0m                                 Traceback (most recent call last)",
      "Cell \u001b[1;32mIn[136], line 5\u001b[0m\n\u001b[0;32m      2\u001b[0m per \u001b[38;5;241m=\u001b[39m [\u001b[38;5;124m\"\u001b[39m\u001b[38;5;124m10.31\u001b[39m\u001b[38;5;124m\"\u001b[39m, \u001b[38;5;124m\"\u001b[39m\u001b[38;5;124m\"\u001b[39m, \u001b[38;5;124m\"\u001b[39m\u001b[38;5;124m8.00\u001b[39m\u001b[38;5;124m\"\u001b[39m]\n\u001b[0;32m      4\u001b[0m \u001b[38;5;28;01mfor\u001b[39;00m i \u001b[38;5;129;01min\u001b[39;00m per:\n\u001b[1;32m----> 5\u001b[0m     \u001b[38;5;28mprint\u001b[39m(\u001b[38;5;28mfloat\u001b[39m(per))\n",
      "\u001b[1;31mTypeError\u001b[0m: float() argument must be a string or a real number, not 'list'"
     ]
    }
   ],
   "source": [
    "#300\n",
    "per = [\"10.31\", \"\", \"8.00\"]\n",
    "\n",
    "for i in per:\n",
    "    print(float(per))"
   ]
  },
  {
   "cell_type": "code",
   "execution_count": 153,
   "id": "09c110cf-4a1e-4875-b409-fb5f204d50e6",
   "metadata": {},
   "outputs": [
    {
     "name": "stdout",
     "output_type": "stream",
     "text": [
      "10.31\n",
      "-\n",
      "finish\n",
      "0\n",
      "finish\n",
      "8.0\n",
      "-\n",
      "finish\n"
     ]
    }
   ],
   "source": [
    "per = [\"10.31\",\"\",\"8.00\"]\n",
    "\n",
    "for i in per:\n",
    "    try: \n",
    "        print(float(i))\n",
    "    except: \n",
    "        print(0)\n",
    "    else: \n",
    "        print('-')\n",
    "    finally: \n",
    "        print('finish')\n",
    "\n",
    "# 솔직히 뭔말인지 하나도 모르곘음.."
   ]
  }
 ],
 "metadata": {
  "kernelspec": {
   "display_name": "Python 3 (ipykernel)",
   "language": "python",
   "name": "python3"
  },
  "language_info": {
   "codemirror_mode": {
    "name": "ipython",
    "version": 3
   },
   "file_extension": ".py",
   "mimetype": "text/x-python",
   "name": "python",
   "nbconvert_exporter": "python",
   "pygments_lexer": "ipython3",
   "version": "3.11.7"
  }
 },
 "nbformat": 4,
 "nbformat_minor": 5
}
