{
 "cells": [
  {
   "cell_type": "markdown",
   "id": "0238b781-63e3-46e5-8697-1e8ce856b981",
   "metadata": {},
   "source": [
    "# 클래스"
   ]
  },
  {
   "cell_type": "code",
   "execution_count": 10,
   "id": "a0df75ff-f1b3-4739-bac4-fb4403270791",
   "metadata": {},
   "outputs": [
    {
     "name": "stdout",
     "output_type": "stream",
     "text": [
      "3\n",
      "7\n"
     ]
    }
   ],
   "source": [
    "#더하기\n",
    "result = 0\n",
    "\n",
    "def add(num):\n",
    "    global result # 로컬 지역변수만 사용하는게 아닌 글로벌로 존재하는 메모리를 사용, 누적하여 값을 더함\n",
    "    result += num  # 결괏값(result)에 입력값(num) 더하기\n",
    "    return result  # 결괏값 리턴\n",
    "\n",
    "print(add(3))\n",
    "print(add(4))\n",
    "\n",
    "#나만 사용 가능한 계산기"
   ]
  },
  {
   "cell_type": "code",
   "execution_count": 14,
   "id": "1484f162-fa1d-4f13-82c5-86ebc102c7f3",
   "metadata": {},
   "outputs": [
    {
     "name": "stdout",
     "output_type": "stream",
     "text": [
      "3\n",
      "7\n",
      "3\n",
      "10\n"
     ]
    }
   ],
   "source": [
    "# calculator2.py\n",
    "result1 = 0\n",
    "result2 = 0\n",
    "\n",
    "def add1(num):  # 계산기1\n",
    "    global result1\n",
    "    result1 += num\n",
    "    return result1\n",
    "\n",
    "def add2(num):  # 계산기2\n",
    "    global result2\n",
    "    result2 += num\n",
    "    return result2\n",
    "\n",
    "print(add1(3))\n",
    "print(add1(4))\n",
    "print(add2(3))\n",
    "print(add2(7))\n",
    "#2개까진 수작업으로 만들었다 하지만 수만명이 사용하는 프로그램은 일일히 다 만들어야? 아니라면 어떻게? -> class\n",
    "\n",
    "# 나와 타인 1명만 사용가능한 계산기"
   ]
  },
  {
   "cell_type": "code",
   "execution_count": 15,
   "id": "5c7cb901-12f7-45c2-8b86-87ce15fc682b",
   "metadata": {},
   "outputs": [
    {
     "name": "stdout",
     "output_type": "stream",
     "text": [
      "3\n",
      "7\n",
      "3\n",
      "10\n"
     ]
    }
   ],
   "source": [
    "# calculator3.py\n",
    "class Calculator:    #코드는 하나\n",
    "    def __init__(self):\n",
    "        self.result = 0\n",
    "\n",
    "    def add(self, num):\n",
    "        self.result += num\n",
    "        return self.result\n",
    "\n",
    "cal1 = Calculator()   #인스턴스를 만듦\n",
    "cal2 = Calculator()   # 2명이라서 2개의 인스턴스를 만든 것\n",
    "\n",
    "print(cal1.add(3))  #메서드를 사용해 계산기 프로그램을 사용한 것\n",
    "print(cal1.add(4))  \n",
    "print(cal2.add(3))  # 사람이 사용가능하도록 메서드를 사용한 것\n",
    "print(cal2.add(7))\n",
    "\n",
    "#사람이 사용 가능한 계신기"
   ]
  },
  {
   "cell_type": "markdown",
   "id": "f5d49bf7-4b4b-4b23-bb58-5c3cc13d5b84",
   "metadata": {},
   "source": [
    "## 클래스와 객체"
   ]
  },
  {
   "cell_type": "code",
   "execution_count": 16,
   "id": "6bb6ebc3-881a-4bc9-b8b6-1a547ef8b3d0",
   "metadata": {},
   "outputs": [],
   "source": [
    "# 과자틀 = class, 과자 = 객체"
   ]
  },
  {
   "cell_type": "code",
   "execution_count": 30,
   "id": "fbdc7a70-887e-477d-b0fb-ff1bbcbca110",
   "metadata": {},
   "outputs": [],
   "source": [
    "class Cookie: # 변수와 구분하기 위해 첫글자는 반드시 대문자로 작성\n",
    "    pass"
   ]
  },
  {
   "cell_type": "code",
   "execution_count": 21,
   "id": "8155d3b2-ba61-464d-a862-36b636fb8a8f",
   "metadata": {},
   "outputs": [
    {
     "data": {
      "text/plain": [
       "type"
      ]
     },
     "execution_count": 21,
     "metadata": {},
     "output_type": "execute_result"
    }
   ],
   "source": [
    "type(Cookie)"
   ]
  },
  {
   "cell_type": "code",
   "execution_count": 26,
   "id": "b11dfda7-7e86-4ad2-a6d4-02cf5694006a",
   "metadata": {},
   "outputs": [
    {
     "data": {
      "text/plain": [
       "__main__.Cookie"
      ]
     },
     "execution_count": 26,
     "metadata": {},
     "output_type": "execute_result"
    }
   ],
   "source": [
    "type(Cookie())"
   ]
  },
  {
   "cell_type": "code",
   "execution_count": 31,
   "id": "627debab-85fc-4014-9797-b82eb6ed1cb7",
   "metadata": {},
   "outputs": [
    {
     "name": "stdout",
     "output_type": "stream",
     "text": [
      "<__main__.Cookie object at 0x000001DD5C246250> <class '__main__.Cookie'>\n"
     ]
    }
   ],
   "source": [
    "a = Cookie()\n",
    "print(a,type(a)) # 이 객체가 인스턴스\n",
    "#문자열이란 자료형에서 만들어진 객체 인스턴스\n",
    "#인스턴스는 개체 안에 포함되어있는 것"
   ]
  },
  {
   "cell_type": "markdown",
   "id": "91a20147-a70f-4d66-a1ac-6db829a942f3",
   "metadata": {},
   "source": [
    "인스턴스는 특정 객체가 어떤 클래스의 객체인지 관계 위주로 설명할 떄 사용    \n",
    "a = 객체     \n",
    "Cookie = 클래스    \n",
    "a는 Cookie라는 클래스의 인스턴스에요(관계를 설명하기 위해 객체 대신 인스턴스라고 말함)"
   ]
  },
  {
   "cell_type": "markdown",
   "id": "1b1a8cdf-a45b-4734-8a8e-75991708f66f",
   "metadata": {},
   "source": [
    "## 사칙 연산 클래스 만들기"
   ]
  },
  {
   "cell_type": "code",
   "execution_count": 32,
   "id": "e4d37553-9549-48df-acec-1c0315f99afd",
   "metadata": {},
   "outputs": [],
   "source": [
    "# 값 받아올 메서드 1개, 사칙연산 메서드 4개 도합 5개 메서드가 필요"
   ]
  },
  {
   "cell_type": "code",
   "execution_count": 40,
   "id": "61d6aeba-fe1c-45bd-812c-cdeb7ed31205",
   "metadata": {},
   "outputs": [],
   "source": [
    "class FourCal():\n",
    "    pass"
   ]
  },
  {
   "cell_type": "code",
   "execution_count": 41,
   "id": "96235e9d-2e68-4f30-8ea5-5d4cd853f69b",
   "metadata": {},
   "outputs": [
    {
     "data": {
      "text/plain": [
       "__main__.FourCal"
      ]
     },
     "execution_count": 41,
     "metadata": {},
     "output_type": "execute_result"
    }
   ],
   "source": [
    "a = FourCal()\n",
    "type(a)"
   ]
  },
  {
   "cell_type": "code",
   "execution_count": 44,
   "id": "530c20ca-e24f-4090-81cb-280a3dda198c",
   "metadata": {},
   "outputs": [],
   "source": [
    "# 객체에 연산할 숫자를 지정하기\n",
    "# 사칙연산보다 값 받아오는걸 먼저 구현해야 함\n",
    "class FourCal:\n",
    "    def setdata(self, first, second): #method(=function) # 매개변수\n",
    "        self.first = first # 매서드의 수행문\n",
    "        self.second = second # 매서드의 수행문\n",
    "#self라고 안적어도 되지만 관례상 self라고 많이 함"
   ]
  },
  {
   "cell_type": "code",
   "execution_count": null,
   "id": "44d57375-f9df-43e4-86bf-25560073c87e",
   "metadata": {},
   "outputs": [],
   "source": [
    "# 클래스 안에 들어간 함수 = 메서드\n",
    "# 그냥 함수 = function"
   ]
  },
  {
   "cell_type": "code",
   "execution_count": 48,
   "id": "8d7c27bb-968b-44ac-89a4-d93a45c79175",
   "metadata": {},
   "outputs": [],
   "source": [
    "a = FourCal()  # 빵, 빵틀, 아래에서 잼을 넣어줘(4,2)를 함\n",
    "a.setdata(4,2) # a라는 인스턴스 지정, self -> 내가 이걸 쓴다!\n",
    "# 공통 4,2가 아닌, 나만을 위한(내부적으로 사용할) 계산이다\n",
    "#모르느 질문을 강사한테 직접"
   ]
  },
  {
   "cell_type": "code",
   "execution_count": 50,
   "id": "79cdbad4-c2a2-4625-a855-6f3a183df14f",
   "metadata": {},
   "outputs": [],
   "source": [
    "# 메서드를 호출하는 또다른 방법\n",
    "a = FourCal()\n",
    "FourCal.setdata(a,4,2) #어떤 빵인지는 모르겠는데 빵 안에 잼을 넣을게,(a,4,2) <- 아 a에 잼 넣을게!\n",
    "#모르는 질문을 멘토한테 -> 멘토가 강사에게 질문 전달"
   ]
  },
  {
   "cell_type": "markdown",
   "id": "fb1b68ae-2b7c-439c-9840-e24938c58020",
   "metadata": {},
   "source": [
    "## set.data 매서드의 수행문"
   ]
  },
  {
   "cell_type": "code",
   "execution_count": 51,
   "id": "16492430-a3a9-4c85-8a3c-cd7fa81c2d15",
   "metadata": {},
   "outputs": [
    {
     "data": {
      "text/plain": [
       "4"
      ]
     },
     "execution_count": 51,
     "metadata": {},
     "output_type": "execute_result"
    }
   ],
   "source": [
    "a.first"
   ]
  },
  {
   "cell_type": "code",
   "execution_count": 52,
   "id": "7c01bfdf-df42-42e4-b4d8-8a6166cfe574",
   "metadata": {},
   "outputs": [
    {
     "data": {
      "text/plain": [
       "2"
      ]
     },
     "execution_count": 52,
     "metadata": {},
     "output_type": "execute_result"
    }
   ],
   "source": [
    "a.second"
   ]
  },
  {
   "cell_type": "code",
   "execution_count": 55,
   "id": "8a53445b-61e3-47e7-a928-de85599ff636",
   "metadata": {},
   "outputs": [
    {
     "data": {
      "text/plain": [
       "<bound method FourCal.setdata of <__main__.FourCal object at 0x000001DD5C19B950>>"
      ]
     },
     "execution_count": 55,
     "metadata": {},
     "output_type": "execute_result"
    }
   ],
   "source": [
    "a.setdata # 객체 변수, 속성(Attribute)"
   ]
  },
  {
   "cell_type": "code",
   "execution_count": 54,
   "id": "5b7f0b80-743f-4024-be8b-2391080892be",
   "metadata": {},
   "outputs": [],
   "source": [
    "# first, second -> 객체 변수\n",
    "# set.data -> 함수\n",
    "# 괄호가 필요한 것들 = 실행이 필요한 함수들이라서\n",
    "# 괄호가 필요없는 것들 = 객체변수(값, 조회하는 기능만 있기 때문)"
   ]
  },
  {
   "cell_type": "code",
   "execution_count": 56,
   "id": "91f0fc22-9a98-45a9-bf45-df1925cdaab7",
   "metadata": {},
   "outputs": [],
   "source": [
    "a = FourCal()\n",
    "b = FourCal()"
   ]
  },
  {
   "cell_type": "code",
   "execution_count": 57,
   "id": "79f3db75-a7d1-48e9-bcd1-380890c26d76",
   "metadata": {},
   "outputs": [
    {
     "data": {
      "text/plain": [
       "4"
      ]
     },
     "execution_count": 57,
     "metadata": {},
     "output_type": "execute_result"
    }
   ],
   "source": [
    "a.setdata(4,2)\n",
    "a.first"
   ]
  },
  {
   "cell_type": "code",
   "execution_count": 59,
   "id": "1b785ade-55a6-42f0-be8c-b4374f4baaf5",
   "metadata": {},
   "outputs": [
    {
     "data": {
      "text/plain": [
       "3"
      ]
     },
     "execution_count": 59,
     "metadata": {},
     "output_type": "execute_result"
    }
   ],
   "source": [
    "b.setdata(3,7)\n",
    "b.first\n",
    "# a와 b가 안섞이고 보여주는걸 알 수 있음"
   ]
  },
  {
   "cell_type": "markdown",
   "id": "9030ed8a-5b95-4e25-8170-9c9a3c36e51e",
   "metadata": {},
   "source": [
    "## 더하기 기능 만들기"
   ]
  },
  {
   "cell_type": "code",
   "execution_count": 69,
   "id": "1b5bb576-4426-466b-ba9b-0d699e72a235",
   "metadata": {},
   "outputs": [],
   "source": [
    "class FourCal:\n",
    "    def setdata(self, first, second):\n",
    "        self.first = first\n",
    "        self.second = second\n",
    "    def add(self): # 이미 first, second는 받아와서 굳이 한번 더 self, first, second라고 할 필요 없음\n",
    "        result = self.first + self.second\n",
    "        return result"
   ]
  },
  {
   "cell_type": "code",
   "execution_count": 72,
   "id": "e74ed72b-149f-469a-8ea3-93b3d2a802c9",
   "metadata": {},
   "outputs": [],
   "source": [
    "a = FourCal()\n",
    "a.setdata(4,2)"
   ]
  },
  {
   "cell_type": "code",
   "execution_count": 74,
   "id": "effe6702-f0e4-423b-9057-2570281e42e6",
   "metadata": {},
   "outputs": [
    {
     "data": {
      "text/plain": [
       "6"
      ]
     },
     "execution_count": 74,
     "metadata": {},
     "output_type": "execute_result"
    }
   ],
   "source": [
    "a.add()"
   ]
  },
  {
   "cell_type": "markdown",
   "id": "d8e99e2f-db77-4a5e-ba17-d2b8cf008c25",
   "metadata": {},
   "source": [
    "## 곱하기 빼기 나누기 기능 만들기"
   ]
  },
  {
   "cell_type": "code",
   "execution_count": 142,
   "id": "4e0a5fd5-169b-4d62-bb29-a829bafd36ff",
   "metadata": {},
   "outputs": [],
   "source": [
    "class FourCal:\n",
    "    def setdata(self, first, second):\n",
    "        self.first = first\n",
    "        self.second = second\n",
    "    def add(self):\n",
    "        result = self.first + self.second\n",
    "        return result\n",
    "    def sub(self):\n",
    "        result = self.first - self.second\n",
    "        return result\n",
    "    def x(self):\n",
    "        result = self.first * self.second\n",
    "        return result\n",
    "    def div(self):\n",
    "        result = self.first / self.second\n",
    "        return result\n",
    "    "
   ]
  },
  {
   "cell_type": "code",
   "execution_count": 143,
   "id": "c51c6481-161e-4b64-ad08-b03e6db7fceb",
   "metadata": {},
   "outputs": [
    {
     "name": "stdout",
     "output_type": "stream",
     "text": [
      "6 2 8 2.0\n",
      "11 -5 24 0.375\n"
     ]
    }
   ],
   "source": [
    "a = FourCal()\n",
    "b = FourCal()\n",
    "a.setdata(4,2)\n",
    "b.setdata(3,8)\n",
    "print(a.add(), a.sub(), a.x(), a.div())\n",
    "print(b.add(), b.sub(), b.x(), b.div())"
   ]
  },
  {
   "cell_type": "markdown",
   "id": "61453e14-61b3-44c7-85ad-3c4f5129273e",
   "metadata": {},
   "source": [
    "## 생성자"
   ]
  },
  {
   "cell_type": "code",
   "execution_count": 144,
   "id": "2cf9569b-9214-4093-8486-f50ed445e9b8",
   "metadata": {},
   "outputs": [],
   "source": [
    "class FourCal:\n",
    "    def setdata(self, first, second):\n",
    "        self.first = first\n",
    "        self.second = second\n",
    "    def add(self):\n",
    "        result = self.first + self.second\n",
    "        return result\n",
    "    def sub(self):\n",
    "        result = self.first - self.second\n",
    "        return result\n",
    "    def x(self):\n",
    "        result = self.first * self.second\n",
    "        return result\n",
    "    def div(self):\n",
    "        result = self.first / self.second\n",
    "        return result\n",
    "    "
   ]
  },
  {
   "cell_type": "code",
   "execution_count": 114,
   "id": "be767b7e-41a0-4227-88e6-9c9e38c87dd3",
   "metadata": {},
   "outputs": [],
   "source": [
    "a = FourCal()"
   ]
  },
  {
   "cell_type": "code",
   "execution_count": 115,
   "id": "05dabe4e-4a79-427b-a6bf-aecb2b98b37b",
   "metadata": {},
   "outputs": [
    {
     "ename": "AttributeError",
     "evalue": "'FourCal' object has no attribute 'first'",
     "output_type": "error",
     "traceback": [
      "\u001b[1;31m---------------------------------------------------------------------------\u001b[0m",
      "\u001b[1;31mAttributeError\u001b[0m                            Traceback (most recent call last)",
      "Cell \u001b[1;32mIn[115], line 2\u001b[0m\n\u001b[0;32m      1\u001b[0m a \u001b[38;5;241m=\u001b[39m FourCal()\n\u001b[1;32m----> 2\u001b[0m a\u001b[38;5;241m.\u001b[39madd()\n",
      "Cell \u001b[1;32mIn[113], line 6\u001b[0m, in \u001b[0;36mFourCal.add\u001b[1;34m(self)\u001b[0m\n\u001b[0;32m      5\u001b[0m \u001b[38;5;28;01mdef\u001b[39;00m \u001b[38;5;21madd\u001b[39m(\u001b[38;5;28mself\u001b[39m):\n\u001b[1;32m----> 6\u001b[0m     result \u001b[38;5;241m=\u001b[39m \u001b[38;5;28mself\u001b[39m\u001b[38;5;241m.\u001b[39mfirst \u001b[38;5;241m+\u001b[39m \u001b[38;5;28mself\u001b[39m\u001b[38;5;241m.\u001b[39msecond\n\u001b[0;32m      7\u001b[0m     \u001b[38;5;28;01mreturn\u001b[39;00m result\n",
      "\u001b[1;31mAttributeError\u001b[0m: 'FourCal' object has no attribute 'first'"
     ]
    }
   ],
   "source": [
    "a = FourCal()\n",
    "a.add() #값을 먼저 지정해줘야함"
   ]
  },
  {
   "cell_type": "code",
   "execution_count": 145,
   "id": "fb7b1371-c207-445b-a248-d809031eb3ce",
   "metadata": {},
   "outputs": [],
   "source": [
    "class FourCal: # __init__ = 생성자\n",
    "    def __init__(self, first, second): # __init__ = 매직메서드: 규칙으로 정해져있는 것 (__ __로 일반 변수와 구분)\n",
    "        self.first = first   # __init__ : 그떄그때 초기화해주는 기능 !\n",
    "        self.second = second\n",
    "        \n",
    "    # def setdata(self, first, second):\n",
    "    #     self.first = first\n",
    "    #     self.second = second\n",
    "        \n",
    "    def add(self):\n",
    "        result = self.first + self.second\n",
    "        return result\n",
    "    def sub(self):\n",
    "        result = self.first - self.second\n",
    "        return result\n",
    "    def x(self):\n",
    "        result = self.first * self.second\n",
    "        return result\n",
    "    def div(self):\n",
    "        result = self.first / self.second\n",
    "        return result\n",
    "    "
   ]
  },
  {
   "cell_type": "code",
   "execution_count": 118,
   "id": "c7d369ff-4fda-4a17-bb15-73b4664927f1",
   "metadata": {},
   "outputs": [],
   "source": [
    "a = FourCal"
   ]
  },
  {
   "cell_type": "code",
   "execution_count": 122,
   "id": "0e9c9f5f-8523-4b2c-835f-bcc6c64c4fc9",
   "metadata": {},
   "outputs": [],
   "source": [
    "a = FourCal(4,2) # 정상동작함 !"
   ]
  },
  {
   "cell_type": "code",
   "execution_count": 123,
   "id": "25638999-6ea4-4e4f-859e-af51b45d8cce",
   "metadata": {},
   "outputs": [
    {
     "data": {
      "text/plain": [
       "6"
      ]
     },
     "execution_count": 123,
     "metadata": {},
     "output_type": "execute_result"
    }
   ],
   "source": [
    "a.add()"
   ]
  },
  {
   "cell_type": "code",
   "execution_count": 125,
   "id": "1488eab9-f1a9-42fc-a0d4-03c2d96a1fb2",
   "metadata": {},
   "outputs": [
    {
     "data": {
      "text/plain": [
       "2"
      ]
     },
     "execution_count": 125,
     "metadata": {},
     "output_type": "execute_result"
    }
   ],
   "source": [
    "a.sub()"
   ]
  },
  {
   "cell_type": "markdown",
   "id": "1ee9e664-5e32-4ff0-9312-c9d323190410",
   "metadata": {},
   "source": [
    "## 클래스의 상속"
   ]
  },
  {
   "cell_type": "code",
   "execution_count": 126,
   "id": "e64ded97-698a-4bf7-9dbd-363888a3e303",
   "metadata": {},
   "outputs": [],
   "source": [
    "# 절차 지향은 위에 바꾸면 아래도 다 바꿔야함\n",
    "# 객체 지향은 한개 수정해야하면 상속받아서 수정하면 됨: 유지 관리 보수가 좋음"
   ]
  },
  {
   "cell_type": "code",
   "execution_count": 128,
   "id": "6e61198f-f171-44de-a7a2-3b3ac7d8dda5",
   "metadata": {},
   "outputs": [],
   "source": [
    "class MoreFourCal(FourCal):\n",
    "    pass"
   ]
  },
  {
   "cell_type": "code",
   "execution_count": 129,
   "id": "df9b22ca-5162-4370-9ab5-4ff286321a7a",
   "metadata": {},
   "outputs": [
    {
     "data": {
      "text/plain": [
       "<__main__.MoreFourCal at 0x1dd5c69a350>"
      ]
     },
     "execution_count": 129,
     "metadata": {},
     "output_type": "execute_result"
    }
   ],
   "source": [
    "a = MoreFourCal(4,2)\n",
    "a"
   ]
  },
  {
   "cell_type": "code",
   "execution_count": 146,
   "id": "1e7b41fd-d7d7-4cad-8cd2-b85e3eb02da9",
   "metadata": {},
   "outputs": [
    {
     "data": {
      "text/plain": [
       "(6, 8, 2, 2.0)"
      ]
     },
     "execution_count": 146,
     "metadata": {},
     "output_type": "execute_result"
    }
   ],
   "source": [
    "a.add(), a.x(), a.sub(), a.div()"
   ]
  },
  {
   "cell_type": "code",
   "execution_count": 131,
   "id": "abb27261-c11b-4d6b-86a7-6f14c7d5272f",
   "metadata": {},
   "outputs": [],
   "source": [
    "# 상속받아서 버전업\n",
    "# 코드의 도식화는 불가능에 가까움 - 하나 수정했다고 변수와 연결된 모든걸 수정하는게 너무 까다로움\n",
    "# 한개만 새 클래스를 만들어서 버전업, 앞으로 사용할 때 클래스명만 변경하면 됨"
   ]
  },
  {
   "cell_type": "code",
   "execution_count": 147,
   "id": "1ee66e7e-e364-4291-9d99-3bf04aa0a9b7",
   "metadata": {},
   "outputs": [],
   "source": [
    "class MoreFourCal(FourCal):\n",
    "    def power(self):\n",
    "        result = self.first ** self.second\n",
    "        return result\n",
    "# 빵 틀 만든 것"
   ]
  },
  {
   "cell_type": "code",
   "execution_count": 148,
   "id": "052f9049-8207-45d2-ad87-9530065b13ef",
   "metadata": {},
   "outputs": [
    {
     "data": {
      "text/plain": [
       "(6, 8, 2, 2.0, 16)"
      ]
     },
     "execution_count": 148,
     "metadata": {},
     "output_type": "execute_result"
    }
   ],
   "source": [
    "a = MoreFourCal(4,2) # 빵 틀에 빵 넣기\n",
    "a.add(), a.x(), a.sub(), a.div(), a.power() # 빵에 잼 넣기"
   ]
  },
  {
   "cell_type": "markdown",
   "id": "fabbb0c6-8e33-4107-a467-ddbc4ef4d5f1",
   "metadata": {},
   "source": [
    "## 매서드 오버라이딩"
   ]
  },
  {
   "cell_type": "code",
   "execution_count": 150,
   "id": "fdad6af9-da55-47e5-ab4d-d8505bff6a17",
   "metadata": {},
   "outputs": [
    {
     "ename": "ZeroDivisionError",
     "evalue": "division by zero",
     "output_type": "error",
     "traceback": [
      "\u001b[1;31m---------------------------------------------------------------------------\u001b[0m",
      "\u001b[1;31mZeroDivisionError\u001b[0m                         Traceback (most recent call last)",
      "Cell \u001b[1;32mIn[150], line 2\u001b[0m\n\u001b[0;32m      1\u001b[0m a \u001b[38;5;241m=\u001b[39m FourCal(\u001b[38;5;241m4\u001b[39m,\u001b[38;5;241m0\u001b[39m)\n\u001b[1;32m----> 2\u001b[0m a\u001b[38;5;241m.\u001b[39mdiv()\n",
      "Cell \u001b[1;32mIn[145], line 20\u001b[0m, in \u001b[0;36mFourCal.div\u001b[1;34m(self)\u001b[0m\n\u001b[0;32m     19\u001b[0m \u001b[38;5;28;01mdef\u001b[39;00m \u001b[38;5;21mdiv\u001b[39m(\u001b[38;5;28mself\u001b[39m):\n\u001b[1;32m---> 20\u001b[0m     result \u001b[38;5;241m=\u001b[39m \u001b[38;5;28mself\u001b[39m\u001b[38;5;241m.\u001b[39mfirst \u001b[38;5;241m/\u001b[39m \u001b[38;5;28mself\u001b[39m\u001b[38;5;241m.\u001b[39msecond\n\u001b[0;32m     21\u001b[0m     \u001b[38;5;28;01mreturn\u001b[39;00m result\n",
      "\u001b[1;31mZeroDivisionError\u001b[0m: division by zero"
     ]
    }
   ],
   "source": [
    "a = FourCal(4,0)\n",
    "a.div()"
   ]
  },
  {
   "cell_type": "code",
   "execution_count": 138,
   "id": "8df5d251-c639-4280-a440-5eb06a6eb37d",
   "metadata": {},
   "outputs": [],
   "source": [
    "# 상속받은 메서드 덮어씌우기\n",
    "class SafeFourCal(FourCal):\n",
    "    def div(self):\n",
    "        if self.second == 0:  # 나누는 값이 0인 경우 0을 리턴하도록 수정\n",
    "            return 0\n",
    "        else:\n",
    "            return self.first / self.second"
   ]
  },
  {
   "cell_type": "code",
   "execution_count": 140,
   "id": "98235ba3-3daf-4455-8ef1-1361d6978b34",
   "metadata": {},
   "outputs": [
    {
     "data": {
      "text/plain": [
       "0"
      ]
     },
     "execution_count": 140,
     "metadata": {},
     "output_type": "execute_result"
    }
   ],
   "source": [
    "a = SafeFourCal(4,0)\n",
    "a.div()"
   ]
  },
  {
   "cell_type": "markdown",
   "id": "66247e87-77bf-4a97-8718-d7b37468c7ac",
   "metadata": {},
   "source": [
    "## 클래스 변수"
   ]
  },
  {
   "cell_type": "code",
   "execution_count": 151,
   "id": "755c8e85-7f38-4122-adc5-53716df2a3ca",
   "metadata": {},
   "outputs": [],
   "source": [
    "class Family:\n",
    "    lastname = '김'"
   ]
  },
  {
   "cell_type": "code",
   "execution_count": 152,
   "id": "47b890bf-27cf-433b-92f9-b48279c50da1",
   "metadata": {},
   "outputs": [
    {
     "data": {
      "text/plain": [
       "'김'"
      ]
     },
     "execution_count": 152,
     "metadata": {},
     "output_type": "execute_result"
    }
   ],
   "source": [
    "Family.lastname"
   ]
  },
  {
   "cell_type": "code",
   "execution_count": 156,
   "id": "f735486e-f0e7-40a5-b4ea-503709b54b5f",
   "metadata": {},
   "outputs": [
    {
     "data": {
      "text/plain": [
       "('김', '김')"
      ]
     },
     "execution_count": 156,
     "metadata": {},
     "output_type": "execute_result"
    }
   ],
   "source": [
    "a = Family()\n",
    "b = Family()\n",
    "a.lastname, b.lastname\n",
    "#Family 안에서 어떤 인스턴스를 만들어도 무조건 변수가 '김'으로 고정되어있음"
   ]
  },
  {
   "cell_type": "code",
   "execution_count": 157,
   "id": "b60ed70b-2ba3-4ec3-bd92-cc066c7562fc",
   "metadata": {},
   "outputs": [
    {
     "data": {
      "text/plain": [
       "'박'"
      ]
     },
     "execution_count": 157,
     "metadata": {},
     "output_type": "execute_result"
    }
   ],
   "source": [
    "Family.lastname = '박'\n",
    "a.lastname"
   ]
  },
  {
   "cell_type": "code",
   "execution_count": 159,
   "id": "a74096e2-522b-46a5-a871-044edbaafba7",
   "metadata": {},
   "outputs": [
    {
     "data": {
      "text/plain": [
       "'박'"
      ]
     },
     "execution_count": 159,
     "metadata": {},
     "output_type": "execute_result"
    }
   ],
   "source": [
    "b.lastname #기준이 바꼈기때문에 인스턴스가 바껴도 변경점이 그대로"
   ]
  },
  {
   "cell_type": "code",
   "execution_count": 161,
   "id": "5136d104-aa65-4161-a114-6523f859f492",
   "metadata": {},
   "outputs": [
    {
     "data": {
      "text/plain": [
       "'최'"
      ]
     },
     "execution_count": 161,
     "metadata": {},
     "output_type": "execute_result"
    }
   ],
   "source": [
    "a.lastname = ('최')\n",
    "a.lastname"
   ]
  },
  {
   "cell_type": "code",
   "execution_count": 165,
   "id": "94060c6d-df59-4c0b-abfc-4a636a4c526d",
   "metadata": {},
   "outputs": [
    {
     "data": {
      "text/plain": [
       "'박'"
      ]
     },
     "execution_count": 165,
     "metadata": {},
     "output_type": "execute_result"
    }
   ],
   "source": [
    "b.lastname # a만 성이 바꼈기 때문에 종가는 그대로, 따라서 b는 그대로 박"
   ]
  },
  {
   "cell_type": "code",
   "execution_count": 167,
   "id": "87d0757f-6e4e-4019-b483-9429a8961f61",
   "metadata": {},
   "outputs": [],
   "source": [
    "# class가 바뀌면 인스턴스도 바뀌지만 인스턴스가 바뀐다고 클래스가 바뀌진 않음"
   ]
  },
  {
   "cell_type": "code",
   "execution_count": null,
   "id": "28f396c5-3e94-4bec-a70c-2571fb03dc9a",
   "metadata": {},
   "outputs": [],
   "source": []
  },
  {
   "cell_type": "markdown",
   "id": "06e308a2-0534-4e94-9b2a-62a29443c217",
   "metadata": {},
   "source": [
    "# 예외 처리"
   ]
  },
  {
   "cell_type": "code",
   "execution_count": 168,
   "id": "539ba719-d2f6-4263-a873-780623a3c42a",
   "metadata": {},
   "outputs": [],
   "source": [
    "# 커퓌머쉰...\n",
    "# 전화...번호부...\n",
    "# 내가 원하는 값만 넣지 않아서 예외처리가 필요~"
   ]
  },
  {
   "cell_type": "markdown",
   "id": "c539f08c-a236-4cb3-93c7-4384f5446034",
   "metadata": {},
   "source": [
    "## 오류는 언제 발생하는가?"
   ]
  },
  {
   "cell_type": "code",
   "execution_count": 170,
   "id": "bff6d2f7-02be-4353-9a32-6beeffaea809",
   "metadata": {},
   "outputs": [
    {
     "ename": "FileNotFoundError",
     "evalue": "[Errno 2] No such file or directory: '없는파일'",
     "output_type": "error",
     "traceback": [
      "\u001b[1;31m---------------------------------------------------------------------------\u001b[0m",
      "\u001b[1;31mFileNotFoundError\u001b[0m                         Traceback (most recent call last)",
      "Cell \u001b[1;32mIn[170], line 2\u001b[0m\n\u001b[0;32m      1\u001b[0m \u001b[38;5;66;03m#존재하지 않는 파일을 사용하려고 시도했을 때\u001b[39;00m\n\u001b[1;32m----> 2\u001b[0m f \u001b[38;5;241m=\u001b[39m \u001b[38;5;28mopen\u001b[39m(\u001b[38;5;124m'\u001b[39m\u001b[38;5;124m없는파일\u001b[39m\u001b[38;5;124m'\u001b[39m,\u001b[38;5;124m'\u001b[39m\u001b[38;5;124mr\u001b[39m\u001b[38;5;124m'\u001b[39m)\n",
      "File \u001b[1;32m~\\anaconda3\\Lib\\site-packages\\IPython\\core\\interactiveshell.py:310\u001b[0m, in \u001b[0;36m_modified_open\u001b[1;34m(file, *args, **kwargs)\u001b[0m\n\u001b[0;32m    303\u001b[0m \u001b[38;5;28;01mif\u001b[39;00m file \u001b[38;5;129;01min\u001b[39;00m {\u001b[38;5;241m0\u001b[39m, \u001b[38;5;241m1\u001b[39m, \u001b[38;5;241m2\u001b[39m}:\n\u001b[0;32m    304\u001b[0m     \u001b[38;5;28;01mraise\u001b[39;00m \u001b[38;5;167;01mValueError\u001b[39;00m(\n\u001b[0;32m    305\u001b[0m         \u001b[38;5;124mf\u001b[39m\u001b[38;5;124m\"\u001b[39m\u001b[38;5;124mIPython won\u001b[39m\u001b[38;5;124m'\u001b[39m\u001b[38;5;124mt let you open fd=\u001b[39m\u001b[38;5;132;01m{\u001b[39;00mfile\u001b[38;5;132;01m}\u001b[39;00m\u001b[38;5;124m by default \u001b[39m\u001b[38;5;124m\"\u001b[39m\n\u001b[0;32m    306\u001b[0m         \u001b[38;5;124m\"\u001b[39m\u001b[38;5;124mas it is likely to crash IPython. If you know what you are doing, \u001b[39m\u001b[38;5;124m\"\u001b[39m\n\u001b[0;32m    307\u001b[0m         \u001b[38;5;124m\"\u001b[39m\u001b[38;5;124myou can use builtins\u001b[39m\u001b[38;5;124m'\u001b[39m\u001b[38;5;124m open.\u001b[39m\u001b[38;5;124m\"\u001b[39m\n\u001b[0;32m    308\u001b[0m     )\n\u001b[1;32m--> 310\u001b[0m \u001b[38;5;28;01mreturn\u001b[39;00m io_open(file, \u001b[38;5;241m*\u001b[39margs, \u001b[38;5;241m*\u001b[39m\u001b[38;5;241m*\u001b[39mkwargs)\n",
      "\u001b[1;31mFileNotFoundError\u001b[0m: [Errno 2] No such file or directory: '없는파일'"
     ]
    }
   ],
   "source": [
    "#존재하지 않는 파일을 사용하려고 시도했을 때\n",
    "f = open('없는파일','r')"
   ]
  },
  {
   "cell_type": "code",
   "execution_count": 171,
   "id": "0f196bac-5f60-4545-9d1f-4d9049d909b3",
   "metadata": {},
   "outputs": [
    {
     "ename": "ZeroDivisionError",
     "evalue": "division by zero",
     "output_type": "error",
     "traceback": [
      "\u001b[1;31m---------------------------------------------------------------------------\u001b[0m",
      "\u001b[1;31mZeroDivisionError\u001b[0m                         Traceback (most recent call last)",
      "Cell \u001b[1;32mIn[171], line 2\u001b[0m\n\u001b[0;32m      1\u001b[0m \u001b[38;5;66;03m# 0으로 나누려고 시도했을 때\u001b[39;00m\n\u001b[1;32m----> 2\u001b[0m \u001b[38;5;241m4\u001b[39m\u001b[38;5;241m/\u001b[39m\u001b[38;5;241m0\u001b[39m\n",
      "\u001b[1;31mZeroDivisionError\u001b[0m: division by zero"
     ]
    }
   ],
   "source": [
    "# 0으로 나누려고 시도했을 때\n",
    "4/0"
   ]
  },
  {
   "cell_type": "code",
   "execution_count": 172,
   "id": "37787d47-8832-4d86-8086-23c871849de8",
   "metadata": {},
   "outputs": [
    {
     "ename": "IndexError",
     "evalue": "list index out of range",
     "output_type": "error",
     "traceback": [
      "\u001b[1;31m---------------------------------------------------------------------------\u001b[0m",
      "\u001b[1;31mIndexError\u001b[0m                                Traceback (most recent call last)",
      "Cell \u001b[1;32mIn[172], line 3\u001b[0m\n\u001b[0;32m      1\u001b[0m \u001b[38;5;66;03m# 인덱스 요소가 없을 때\u001b[39;00m\n\u001b[0;32m      2\u001b[0m a \u001b[38;5;241m=\u001b[39m [\u001b[38;5;241m1\u001b[39m,\u001b[38;5;241m2\u001b[39m,\u001b[38;5;241m3\u001b[39m]\n\u001b[1;32m----> 3\u001b[0m a[\u001b[38;5;241m3\u001b[39m]\n",
      "\u001b[1;31mIndexError\u001b[0m: list index out of range"
     ]
    }
   ],
   "source": [
    "# 인덱스 요소가 없을 때\n",
    "a = [1,2,3]\n",
    "a[3]"
   ]
  },
  {
   "cell_type": "code",
   "execution_count": 173,
   "id": "103e06e2-cd20-41b4-b56e-9cd6dfeeb2cf",
   "metadata": {},
   "outputs": [],
   "source": [
    "# 에러코드가 바꼈다 -> 나름 발전하고 있다는 뜻"
   ]
  },
  {
   "cell_type": "markdown",
   "id": "962c78ec-bb32-48a8-870a-ffde63064fda",
   "metadata": {},
   "source": [
    "## 오류 예외 처리 기법"
   ]
  },
  {
   "cell_type": "code",
   "execution_count": 175,
   "id": "68db83be-edb7-4171-903f-3da26e9609e7",
   "metadata": {},
   "outputs": [],
   "source": [
    "#  1. Try-except 문\n",
    "\n",
    "# 모니터링하는 구간에서 에러가 난다면\n",
    "# 이렇게 해줘 (분기문처럼)\n",
    "# 에러의 범위는 무궁무진하고 예상할 수 없기 때문에 분기문 처리하지말고 오류 예외 처리 기법 사용"
   ]
  },
  {
   "cell_type": "code",
   "execution_count": 178,
   "id": "8a72ee79-f821-4e97-b7fd-c2f2c49fe985",
   "metadata": {},
   "outputs": [],
   "source": [
    "# 1. try-except만 쓰는 방법\n",
    "# 이 경우에는 오류의 종류에 상관없이 오류가 발생하면 except 블록을 수행한다."
   ]
  },
  {
   "cell_type": "code",
   "execution_count": null,
   "id": "bedd644a-3b82-441b-9b96-0c773fbc9a99",
   "metadata": {},
   "outputs": [],
   "source": [
    "#   1. 오류 원인 파악\n",
    "#   2. 오류에 대한 대응"
   ]
  },
  {
   "cell_type": "code",
   "execution_count": 181,
   "id": "c2ebdf1e-8f5b-4d51-9d29-157a65623c3a",
   "metadata": {},
   "outputs": [],
   "source": [
    "#에러코드 관리하는 내부 WIKI 문서가 있음\n",
    "#정책, 프로그래밍, 코드관리, 히스토리 등\n",
    "#에러코드 관리를 위한 문서도 있음 !\n",
    "# 알툴즈 당시 에러 200+개, 에러코드 구분해서 기획자가 문서에 각각 고객 대응 메뉴얼을 작성, 고객지원팀이 그걸 보고 대응"
   ]
  },
  {
   "cell_type": "code",
   "execution_count": 184,
   "id": "ff276049-3062-4deb-932d-b492e46f49ec",
   "metadata": {},
   "outputs": [
    {
     "name": "stdout",
     "output_type": "stream",
     "text": [
      "0\n"
     ]
    }
   ],
   "source": [
    "# try except만 쓰는 방법\n",
    "try:\n",
    "#    4/0\n",
    "    f = open('없는파일','r')\n",
    "except :  # 오류 캐치 블록\n",
    "    print(0)\n",
    "# 모든 오류에 대해 0으로 표기 -> 뭐가 문제인지 모름"
   ]
  },
  {
   "cell_type": "code",
   "execution_count": 186,
   "id": "1ddc3c9b-92df-4661-8592-aa6506d9151f",
   "metadata": {},
   "outputs": [
    {
     "name": "stdout",
     "output_type": "stream",
     "text": [
      "0\n"
     ]
    }
   ],
   "source": [
    "# 2. 발생 오류만 포함하는 except문\n",
    "try:\n",
    "    4/0\n",
    "#    f = open('없는파일','r')\n",
    "except ZeroDivisionError:\n",
    "    print(0)"
   ]
  },
  {
   "cell_type": "code",
   "execution_count": 188,
   "id": "cfa6fc0c-6425-40d4-9132-3e832ec96866",
   "metadata": {},
   "outputs": [
    {
     "ename": "ZeroDivisionError",
     "evalue": "division by zero",
     "output_type": "error",
     "traceback": [
      "\u001b[1;31m---------------------------------------------------------------------------\u001b[0m",
      "\u001b[1;31mZeroDivisionError\u001b[0m                         Traceback (most recent call last)",
      "Cell \u001b[1;32mIn[188], line 2\u001b[0m\n\u001b[0;32m      1\u001b[0m \u001b[38;5;28;01mtry\u001b[39;00m:\n\u001b[1;32m----> 2\u001b[0m     \u001b[38;5;241m4\u001b[39m\u001b[38;5;241m/\u001b[39m\u001b[38;5;241m0\u001b[39m\n\u001b[0;32m      3\u001b[0m \u001b[38;5;66;03m#    f = open('없는파일','r')\u001b[39;00m\n\u001b[0;32m      4\u001b[0m \u001b[38;5;28;01mexcept\u001b[39;00m \u001b[38;5;167;01mFileNotFoundError\u001b[39;00m:\n",
      "\u001b[1;31mZeroDivisionError\u001b[0m: division by zero"
     ]
    }
   ],
   "source": [
    "try:\n",
    "    4/0\n",
    "#    f = open('없는파일','r')\n",
    "except FileNotFoundError:\n",
    "    print(0)\n",
    "# 에러가 났을 때 에러메시지 팝업으 띄우기 위해서 - 에러 정보도 알아야하고 에러 내용도 추출해야함(적합한 팝업 띄우려고)"
   ]
  },
  {
   "cell_type": "code",
   "execution_count": 191,
   "id": "c35dc16a-ed0f-4e2a-828f-664ff8b8a8f9",
   "metadata": {},
   "outputs": [
    {
     "name": "stdout",
     "output_type": "stream",
     "text": [
      "division by zero\n"
     ]
    }
   ],
   "source": [
    "#3. 발생오류와 오류 변수까지 포함한 except문\n",
    "try:\n",
    "    4/0\n",
    "except ZeroDivisionError as e:\n",
    "    print(e)\n",
    "# 에러 나도 컴 꺼지는게 아니라 에러 있는채로 그대로 사용 가능함"
   ]
  },
  {
   "cell_type": "markdown",
   "id": "d549f92b-8d74-4716-b5dd-e7fa479dfd6b",
   "metadata": {},
   "source": [
    "## try-finally 문"
   ]
  },
  {
   "cell_type": "code",
   "execution_count": 194,
   "id": "baaa3a09-49be-4d6c-be0d-de3cbf326a82",
   "metadata": {},
   "outputs": [],
   "source": [
    "try:\n",
    "    f = open('foo.txt', 'w')\n",
    "    # 무언가를 수행한다.\n",
    "    # 근데 다른 코스 실행하다가 에러가 남\n",
    "    # 안전장치로 존재하는것이 finally\n",
    "    # 중간에 에러 있더라도 기능 동작, 프로세스 같은것들이 에러가 난 상태에서 계속 켜지면 오류가 더 심각해짐\n",
    "    # 데이터 수집을 위해 text 객체 열어서 씌우고 있는데 갑자기 예상하지 못한 에러가 나는 경우(네트워크 오류 등):\n",
    "        # 상대 서버에서 에러가 났다던가, 네트워크 오류가 났다던가 등등\n",
    "    # 기존에 가져간거 다 버리는게 아닌 종료하든 저장하든 해줘 라고 안전장치를 두는 것\n",
    "finally:\n",
    "    f.close()  # 중간에 오류가 발생하더라도 무조건 실행된다."
   ]
  },
  {
   "cell_type": "markdown",
   "id": "36a4dce1-9f31-4a6e-a98c-b655238bd602",
   "metadata": {},
   "source": [
    "## 여러개의 오류 처리하기"
   ]
  },
  {
   "cell_type": "code",
   "execution_count": 196,
   "id": "3bb4c2f2-5c86-4cb1-baaf-d10ff6dde723",
   "metadata": {},
   "outputs": [
    {
     "name": "stdout",
     "output_type": "stream",
     "text": [
      "인덱싱 할 수 없습니다.\n"
     ]
    }
   ],
   "source": [
    "try:\n",
    "    a = [1,2]\n",
    "    print(a[3])\n",
    "    4/0\n",
    "except ZeroDivisionError:\n",
    "    print(\"0으로 나눌 수 없습니다.\")\n",
    "except IndexError:\n",
    "    print(\"인덱싱 할 수 없습니다.\")\n",
    "\n",
    "#인덱스에서 이미 에러가 났기 때문에 인덱스 에러가 뜸"
   ]
  },
  {
   "cell_type": "code",
   "execution_count": 197,
   "id": "f75bbe77-e757-4208-924a-0ce6acb0617a",
   "metadata": {},
   "outputs": [
    {
     "name": "stdout",
     "output_type": "stream",
     "text": [
      "list index out of range\n"
     ]
    }
   ],
   "source": [
    "# as 사용한 것\n",
    "try:\n",
    "    a = [1,2]\n",
    "    print(a[3])\n",
    "    4/0\n",
    "except ZeroDivisionError as e:\n",
    "    print(e)\n",
    "except IndexError as e:\n",
    "    print(e)"
   ]
  },
  {
   "cell_type": "code",
   "execution_count": 198,
   "id": "ed65b9ad-865e-4e65-ab89-536c0c8de4a9",
   "metadata": {},
   "outputs": [
    {
     "name": "stdout",
     "output_type": "stream",
     "text": [
      "list index out of range\n"
     ]
    }
   ],
   "source": [
    "# 튜플\n",
    "try:\n",
    "    a = [1,2]\n",
    "    print(a[3])\n",
    "    4/0\n",
    "except (ZeroDivisionError, IndexError) as e:\n",
    "    print(e)"
   ]
  },
  {
   "cell_type": "markdown",
   "id": "d6828d94-267c-4e92-966b-934158c4bc7e",
   "metadata": {},
   "source": [
    "## Try-else 문"
   ]
  },
  {
   "cell_type": "code",
   "execution_count": 199,
   "id": "d2f8d56c-a2c6-4b72-990f-129cc58c2771",
   "metadata": {},
   "outputs": [],
   "source": [
    "# 코드가 에러가 났을 때 실행하는 문법을 여태 배웠다\n",
    "# 그럼 코드가 에러가 나지 않았을 땐?(정상 코드일 때)"
   ]
  },
  {
   "cell_type": "code",
   "execution_count": 204,
   "id": "7cf46bba-58d8-4330-959d-a713b0480cb4",
   "metadata": {},
   "outputs": [
    {
     "name": "stdin",
     "output_type": "stream",
     "text": [
      "나이를 입력하세요:  19\n"
     ]
    },
    {
     "name": "stdout",
     "output_type": "stream",
     "text": [
      "환영합니다.\n"
     ]
    }
   ],
   "source": [
    "try:\n",
    "    age=int(input('나이를 입력하세요: '))\n",
    "except:\n",
    "    print('입력이 정확하지 않습니다.')\n",
    "else:\n",
    "    if age <= 18:\n",
    "        print('미성년자는 출입금지입니다.')\n",
    "    else:\n",
    "        print('환영합니다.')"
   ]
  },
  {
   "cell_type": "markdown",
   "id": "801d9979-8072-4149-aabd-56133aebc44c",
   "metadata": {},
   "source": [
    "## 오류 회피하기"
   ]
  },
  {
   "cell_type": "code",
   "execution_count": 1,
   "id": "97ff0301-586e-421e-bf56-150aa6f6d223",
   "metadata": {},
   "outputs": [],
   "source": [
    "try:\n",
    "    f = open(\"없는파일\", 'r')\n",
    "except FileNotFoundError:\n",
    "    pass\n",
    "# 원인은 잘 모르겠는데 진짜 사소한 에러일 때\n",
    "# 알려면 코드 다 까봐야하는데 별로 큰 에러는 아닐 때 그냥 넘기는 용으로\n",
    "# 100번중에 1번 에러 뜨긴 하는데 되게 사소한 에러라 잘 모른다 ~ 이런거일 때"
   ]
  },
  {
   "cell_type": "markdown",
   "id": "c07c896a-8548-404b-a37f-9b92d4d12e92",
   "metadata": {},
   "source": [
    "## 오류 일부러 발생시키기"
   ]
  },
  {
   "cell_type": "code",
   "execution_count": 207,
   "id": "dc082218-29c8-4121-b32d-71ec283ef456",
   "metadata": {},
   "outputs": [],
   "source": [
    "# class 만들었는데 계속 활용되고 overwriting 하고, 다른 사람도 쓰고, 내 코드가 배포 되고 있음\n",
    "# 제약을 알려줘야 함 !\n",
    "# 에러가 뜨는 것도 raise 시켜주는 것\n",
    "# 이런 경우에 이런 에러 코드를 보여줘, 라고 제공하고 있는 것\n",
    "# 진짜 오류는 동작 안하고 꺼짐"
   ]
  },
  {
   "cell_type": "code",
   "execution_count": 209,
   "id": "3743becf-5b02-48e4-bd1f-2fe669f98c2e",
   "metadata": {},
   "outputs": [],
   "source": [
    "class Bird:\n",
    "    def fly(self):\n",
    "        raise NotImplementedError"
   ]
  },
  {
   "cell_type": "code",
   "execution_count": 210,
   "id": "d8a91090-9cd6-4a82-9e44-a1a04dfa06f1",
   "metadata": {},
   "outputs": [],
   "source": [
    "class Eagle(Bird):\n",
    "    pass"
   ]
  },
  {
   "cell_type": "code",
   "execution_count": 211,
   "id": "6a63b6d6-8bcc-44f6-bc28-d73709381473",
   "metadata": {},
   "outputs": [
    {
     "ename": "NotImplementedError",
     "evalue": "",
     "output_type": "error",
     "traceback": [
      "\u001b[1;31m---------------------------------------------------------------------------\u001b[0m",
      "\u001b[1;31mNotImplementedError\u001b[0m                       Traceback (most recent call last)",
      "Cell \u001b[1;32mIn[211], line 2\u001b[0m\n\u001b[0;32m      1\u001b[0m eagle \u001b[38;5;241m=\u001b[39m Eagle()\n\u001b[1;32m----> 2\u001b[0m eagle\u001b[38;5;241m.\u001b[39mfly()\n",
      "Cell \u001b[1;32mIn[209], line 3\u001b[0m, in \u001b[0;36mBird.fly\u001b[1;34m(self)\u001b[0m\n\u001b[0;32m      2\u001b[0m \u001b[38;5;28;01mdef\u001b[39;00m \u001b[38;5;21mfly\u001b[39m(\u001b[38;5;28mself\u001b[39m):\n\u001b[1;32m----> 3\u001b[0m     \u001b[38;5;28;01mraise\u001b[39;00m \u001b[38;5;167;01mNotImplementedError\u001b[39;00m\n",
      "\u001b[1;31mNotImplementedError\u001b[0m: "
     ]
    }
   ],
   "source": [
    "eagle = Eagle()\n",
    "eagle.fly() # 정의하지 않은 메서드 사용하니까 NotImplementedError라고 뜸"
   ]
  },
  {
   "cell_type": "code",
   "execution_count": 214,
   "id": "1a3c7576-abfe-4efc-9edd-e0dc24b3691a",
   "metadata": {},
   "outputs": [
    {
     "name": "stdout",
     "output_type": "stream",
     "text": [
      "very fast\n"
     ]
    }
   ],
   "source": [
    "class Eagle(Bird):\n",
    "    def fly(self):\n",
    "        print(\"very fast\")\n",
    "\n",
    "eagle = Eagle()\n",
    "eagle.fly()\n",
    "# 넣어주면 정상 작동함"
   ]
  },
  {
   "cell_type": "markdown",
   "id": "7045c7b5-089b-43da-85db-5e74a9f9525c",
   "metadata": {},
   "source": [
    "## 예외 만들기"
   ]
  },
  {
   "cell_type": "code",
   "execution_count": 230,
   "id": "e2633733-4b65-4112-a905-c242ada401dc",
   "metadata": {},
   "outputs": [],
   "source": [
    "class MyError(Exception): \n",
    "    pass"
   ]
  },
  {
   "cell_type": "code",
   "execution_count": 231,
   "id": "84a1f7e2-cb51-406d-be06-e0d564b548f0",
   "metadata": {},
   "outputs": [],
   "source": [
    "def say_nick(nick):\n",
    "    if nick == '바보':\n",
    "        raise MyError()\n",
    "    print(nick)"
   ]
  },
  {
   "cell_type": "code",
   "execution_count": 232,
   "id": "e77c0453-4f8b-4a78-badc-728d8d3bb85a",
   "metadata": {},
   "outputs": [
    {
     "name": "stdout",
     "output_type": "stream",
     "text": [
      "천사\n"
     ]
    }
   ],
   "source": [
    "say_nick('천사')"
   ]
  },
  {
   "cell_type": "code",
   "execution_count": 233,
   "id": "66ed3e02-b759-42ec-97c3-4900adb40e4c",
   "metadata": {},
   "outputs": [
    {
     "ename": "MyError",
     "evalue": "",
     "output_type": "error",
     "traceback": [
      "\u001b[1;31m---------------------------------------------------------------------------\u001b[0m",
      "\u001b[1;31mMyError\u001b[0m                                   Traceback (most recent call last)",
      "Cell \u001b[1;32mIn[233], line 1\u001b[0m\n\u001b[1;32m----> 1\u001b[0m say_nick(\u001b[38;5;124m'\u001b[39m\u001b[38;5;124m바보\u001b[39m\u001b[38;5;124m'\u001b[39m)\n",
      "Cell \u001b[1;32mIn[231], line 3\u001b[0m, in \u001b[0;36msay_nick\u001b[1;34m(nick)\u001b[0m\n\u001b[0;32m      1\u001b[0m \u001b[38;5;28;01mdef\u001b[39;00m \u001b[38;5;21msay_nick\u001b[39m(nick):\n\u001b[0;32m      2\u001b[0m     \u001b[38;5;28;01mif\u001b[39;00m nick \u001b[38;5;241m==\u001b[39m \u001b[38;5;124m'\u001b[39m\u001b[38;5;124m바보\u001b[39m\u001b[38;5;124m'\u001b[39m:\n\u001b[1;32m----> 3\u001b[0m         \u001b[38;5;28;01mraise\u001b[39;00m MyError()\n\u001b[0;32m      4\u001b[0m     \u001b[38;5;28mprint\u001b[39m(nick)\n",
      "\u001b[1;31mMyError\u001b[0m: "
     ]
    }
   ],
   "source": [
    "say_nick('바보')"
   ]
  },
  {
   "cell_type": "code",
   "execution_count": 234,
   "id": "f4da7b68-35eb-4ce2-b19e-db25614b6836",
   "metadata": {},
   "outputs": [
    {
     "name": "stdout",
     "output_type": "stream",
     "text": [
      "천사\n",
      "허용되지 않는 별명입니다.\n"
     ]
    }
   ],
   "source": [
    "try:\n",
    "    say_nick('천사')\n",
    "    say_nick('바보')\n",
    "except MyError:\n",
    "    print('허용되지 않는 별명입니다.')"
   ]
  },
  {
   "cell_type": "markdown",
   "id": "36440e06-a7dd-4883-9d4b-344f89745d21",
   "metadata": {},
   "source": [
    "# Quiz : 전화번호부 프로그램의 예외처리를 해보자\n",
    "-> 주변 사람들한테 사용법을 알려주지 않고 자랑했을 때 정상 동작(Goal)을 달성하게 끔 예외를 처리해보세요"
   ]
  },
  {
   "cell_type": "code",
   "execution_count": 235,
   "id": "a4e1f224-5e27-40ce-974a-8118dfb0489e",
   "metadata": {},
   "outputs": [],
   "source": [
    "# 누군가는 숫자, 누군가는 영어, 누군가는 한글, 누군가는 특수기호 기입할 것\n",
    "# 사용법을 알려주지 않았을 때 정상동작하게끔 예외를 처리해보자"
   ]
  }
 ],
 "metadata": {
  "kernelspec": {
   "display_name": "Python 3 (ipykernel)",
   "language": "python",
   "name": "python3"
  },
  "language_info": {
   "codemirror_mode": {
    "name": "ipython",
    "version": 3
   },
   "file_extension": ".py",
   "mimetype": "text/x-python",
   "name": "python",
   "nbconvert_exporter": "python",
   "pygments_lexer": "ipython3",
   "version": "3.11.7"
  }
 },
 "nbformat": 4,
 "nbformat_minor": 5
}
