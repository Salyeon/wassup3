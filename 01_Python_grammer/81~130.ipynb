{
 "cells": [
  {
   "cell_type": "markdown",
   "id": "93a39c97-e91f-4671-ac33-aece0fae4d64",
   "metadata": {},
   "source": [
    "# 06. 파이썬 딕셔너리"
   ]
  },
  {
   "cell_type": "markdown",
   "id": "21433add-63f5-429e-ad85-7b7df56b1d67",
   "metadata": {},
   "source": [
    "## 081 ~ 090"
   ]
  },
  {
   "cell_type": "code",
   "execution_count": 30,
   "id": "2c034dff-1601-4306-aae9-3091d9ace4fe",
   "metadata": {},
   "outputs": [
    {
     "name": "stdout",
     "output_type": "stream",
     "text": [
      "[8.8, 8.9, 8.7, 9.2, 9.3, 9.7, 9.9, 9.5]\n"
     ]
    }
   ],
   "source": [
    "#81\n",
    "scores = [8.8, 8.9, 8.7, 9.2, 9.3, 9.7, 9.9, 9.5, 7.8, 9.4]\n",
    "*valid_score, a, b = scores\n",
    "print(valid_score)"
   ]
  },
  {
   "cell_type": "code",
   "execution_count": 31,
   "id": "104f9be0-2bcb-49b0-9606-228c87a1e4c6",
   "metadata": {},
   "outputs": [
    {
     "name": "stdout",
     "output_type": "stream",
     "text": [
      "[8.7, 9.2, 9.3, 9.7, 9.9, 9.5, 7.8, 9.4]\n"
     ]
    }
   ],
   "source": [
    "#82\n",
    "scores = [8.8, 8.9, 8.7, 9.2, 9.3, 9.7, 9.9, 9.5, 7.8, 9.4]\n",
    "a, b, *valid_score = scores\n",
    "print(valid_score)"
   ]
  },
  {
   "cell_type": "code",
   "execution_count": 32,
   "id": "5fc9c209-2d2f-4947-8143-049a504c8e64",
   "metadata": {},
   "outputs": [
    {
     "name": "stdout",
     "output_type": "stream",
     "text": [
      "[8.9, 8.7, 9.2, 9.3, 9.7, 9.9, 9.5, 7.8]\n"
     ]
    }
   ],
   "source": [
    "#83\n",
    "scores = [8.8, 8.9, 8.7, 9.2, 9.3, 9.7, 9.9, 9.5, 7.8, 9.4]\n",
    "a, *valid_score, b = scores\n",
    "print(valid_score)"
   ]
  },
  {
   "cell_type": "code",
   "execution_count": 33,
   "id": "8b203ccb-11e2-4f1e-9f64-49db99d469d1",
   "metadata": {},
   "outputs": [
    {
     "name": "stdout",
     "output_type": "stream",
     "text": [
      "{} <class 'dict'>\n"
     ]
    }
   ],
   "source": [
    "#84\n",
    "temp = {}\n",
    "print(temp, type(temp))"
   ]
  },
  {
   "cell_type": "code",
   "execution_count": 36,
   "id": "8669eb32-9692-4d21-aff0-756a6844aa0e",
   "metadata": {},
   "outputs": [
    {
     "name": "stdout",
     "output_type": "stream",
     "text": [
      "{'메로나': 1000, '폴라포': 1200, '빵빠레': 1800}\n"
     ]
    }
   ],
   "source": [
    "#85\n",
    "a = {'메로나':1000, '폴라포':1200, '빵빠레':1800}\n",
    "print(a)"
   ]
  },
  {
   "cell_type": "code",
   "execution_count": 37,
   "id": "b9e04efa-f4f8-4e0a-8e69-6d9a816fb6d6",
   "metadata": {},
   "outputs": [
    {
     "name": "stdout",
     "output_type": "stream",
     "text": [
      "{'메로나': 1000, '폴라포': 1200, '빵빠레': 1800, '죠스바': 1200, '월드콘': 1500}\n"
     ]
    }
   ],
   "source": [
    "#86\n",
    "a['죠스바'] = 1200\n",
    "a['월드콘'] = 1500\n",
    "print(a)"
   ]
  },
  {
   "cell_type": "code",
   "execution_count": 49,
   "id": "98d2a982-dbb9-4186-b9a1-d6a72639b03f",
   "metadata": {},
   "outputs": [
    {
     "name": "stdout",
     "output_type": "stream",
     "text": [
      "메로나 가격:  1000\n"
     ]
    }
   ],
   "source": [
    "#87\n",
    "a\n",
    "print('메로나 가격: ', a['메로나'])"
   ]
  },
  {
   "cell_type": "code",
   "execution_count": 51,
   "id": "01d60979-63bc-4d2c-80cf-27303edf1575",
   "metadata": {},
   "outputs": [
    {
     "name": "stdout",
     "output_type": "stream",
     "text": [
      "{'메로나': 1300, '폴라포': 1200, '빵빠레': 1800, '죠스바': 1200, '월드콘': 1500}\n"
     ]
    }
   ],
   "source": [
    "#88\n",
    "a['메로나'] = 1300\n",
    "print(a)"
   ]
  },
  {
   "cell_type": "code",
   "execution_count": 52,
   "id": "68dc9371-149d-44ce-8791-6559d5df2433",
   "metadata": {},
   "outputs": [
    {
     "name": "stdout",
     "output_type": "stream",
     "text": [
      "{'폴라포': 1200, '빵빠레': 1800, '죠스바': 1200, '월드콘': 1500}\n"
     ]
    }
   ],
   "source": [
    "#89\n",
    "del a['메로나']\n",
    "print(a)"
   ]
  },
  {
   "cell_type": "code",
   "execution_count": null,
   "id": "6ff868fa-cd29-4897-a7d1-6a819c81ba34",
   "metadata": {},
   "outputs": [],
   "source": [
    "#90\n",
    ">> icecream = {'폴라포': 1200, '빵빠레': 1800, '월드콘': 1500, '메로나': 1000}\n",
    ">> icecream['누가바'] # <- 여기 get을 써야 에러가 안뜸(index는 없는 key 검색하면 에러 표시)\n"
   ]
  },
  {
   "cell_type": "markdown",
   "id": "50d68604-69c2-479f-8f35-3a13177b96c3",
   "metadata": {},
   "source": [
    "## 091 ~ 100"
   ]
  },
  {
   "cell_type": "code",
   "execution_count": 71,
   "id": "049c47af-7f43-46d7-9436-056969382305",
   "metadata": {},
   "outputs": [
    {
     "name": "stdout",
     "output_type": "stream",
     "text": [
      "{'메로나': [300, 20], '비비빅': [400, 3], '죠스바': [250, 100]}\n"
     ]
    }
   ],
   "source": [
    "#91\n",
    "inventory = {'메로나':[300,20], '비비빅':[400,3], '죠스바':[250,100]}\n",
    "print(inventory)"
   ]
  },
  {
   "cell_type": "code",
   "execution_count": 82,
   "id": "4389e495-cc7d-4160-bdd0-f3f98ac0fb21",
   "metadata": {},
   "outputs": [
    {
     "name": "stdout",
     "output_type": "stream",
     "text": [
      "300 원\n"
     ]
    }
   ],
   "source": [
    "#92\n",
    "inventory = {'메로나':[300,20], '비비빅':[400,3], '죠스바':[250,100]}\n",
    "print(inventory['메로나'][0],'원')"
   ]
  },
  {
   "cell_type": "code",
   "execution_count": 83,
   "id": "bc95aa9c-9463-4933-b30a-a679df3553ec",
   "metadata": {},
   "outputs": [
    {
     "name": "stdout",
     "output_type": "stream",
     "text": [
      "20 개\n"
     ]
    }
   ],
   "source": [
    "#93\n",
    "inventory = {'메로나':[300,20], '비비빅':[400,3], '죠스바':[250,100]}\n",
    "print(inventory['메로나'][1],'개')"
   ]
  },
  {
   "cell_type": "code",
   "execution_count": 85,
   "id": "8bffd28d-59e1-4882-a038-880587816cd4",
   "metadata": {},
   "outputs": [
    {
     "name": "stdout",
     "output_type": "stream",
     "text": [
      "{'메로나': [300, 20], '비비빅': [400, 3], '죠스바': [250, 100], '월드콘': [500, 7]}\n"
     ]
    }
   ],
   "source": [
    "#94\n",
    "inventory['월드콘'] = [500,7]\n",
    "print(inventory)"
   ]
  },
  {
   "cell_type": "code",
   "execution_count": 90,
   "id": "721ca0de-1383-4eb8-86bd-e577fd85abe1",
   "metadata": {},
   "outputs": [
    {
     "name": "stdout",
     "output_type": "stream",
     "text": [
      "['탱크보이', '폴라포', '빵빠레', '월드콘', '메로나']\n"
     ]
    }
   ],
   "source": [
    "#95\n",
    "icecream = {'탱크보이': 1200, '폴라포': 1200, '빵빠레': 1800, '월드콘': 1500, '메로나': 1000}\n",
    "menu = list(icecream.keys())\n",
    "print(menu)"
   ]
  },
  {
   "cell_type": "code",
   "execution_count": 91,
   "id": "65fc92c6-fbec-41fc-b6b8-2a1dd5ef562e",
   "metadata": {},
   "outputs": [
    {
     "name": "stdout",
     "output_type": "stream",
     "text": [
      "[1200, 1200, 1800, 1500, 1000]\n"
     ]
    }
   ],
   "source": [
    "#96\n",
    "price = list(icecream.values())\n",
    "print(price)"
   ]
  },
  {
   "cell_type": "code",
   "execution_count": 94,
   "id": "b80b1524-e4dc-463b-bd43-209156871cc0",
   "metadata": {},
   "outputs": [
    {
     "name": "stdout",
     "output_type": "stream",
     "text": [
      "6700 원\n"
     ]
    }
   ],
   "source": [
    "#97\n",
    "price = list(icecream.values())\n",
    "print(sum(price),'원')"
   ]
  },
  {
   "cell_type": "code",
   "execution_count": 95,
   "id": "7dae3119-8009-40bd-95d8-fa8e5910e28f",
   "metadata": {},
   "outputs": [
    {
     "name": "stdout",
     "output_type": "stream",
     "text": [
      "{'탱크보이': 1200, '폴라포': 1200, '빵빠레': 1800, '월드콘': 1500, '메로나': 1000, '팥빙수': 2700, '아맛나': 1000}\n"
     ]
    }
   ],
   "source": [
    "#98\n",
    "icecream = {'탱크보이': 1200, '폴라포': 1200, '빵빠레': 1800, '월드콘': 1500, '메로나': 1000}\n",
    "new_product = {'팥빙수':2700, '아맛나':1000}\n",
    "icecream['팥빙수'] = 2700\n",
    "icecream['아맛나'] = 1000\n",
    "print(icecream)"
   ]
  },
  {
   "cell_type": "code",
   "execution_count": 98,
   "id": "57b1285d-1223-44e5-84c3-c5bbdc255275",
   "metadata": {},
   "outputs": [
    {
     "name": "stdout",
     "output_type": "stream",
     "text": [
      "{'탱크보이': 1200, '폴라포': 1200, '빵빠레': 1800, '월드콘': 1500, '메로나': 1000, '팥빙수': 2700, '아맛나': 1000}\n"
     ]
    }
   ],
   "source": [
    "#98, update 메서드\n",
    "icecream = {'탱크보이': 1200, '폴라포': 1200, '빵빠레': 1800, '월드콘': 1500, '메로나': 1000}\n",
    "new_product = {'팥빙수':2700, '아맛나':1000}\n",
    "icecream.update(new_product)\n",
    "print(icecream)"
   ]
  },
  {
   "cell_type": "code",
   "execution_count": 103,
   "id": "f949ecc3-d80b-4f3a-9d00-532b7663b7bf",
   "metadata": {},
   "outputs": [
    {
     "name": "stdout",
     "output_type": "stream",
     "text": [
      "{'apple': 300, 'pear': 250, 'peach': 400}\n"
     ]
    }
   ],
   "source": [
    "#99\n",
    "keys = (\"apple\", \"pear\", \"peach\")\n",
    "vals = (300, 250, 400)\n",
    "result = dict(zip(keys, vals))\n",
    "print(result)"
   ]
  },
  {
   "cell_type": "code",
   "execution_count": 104,
   "id": "cbba814f-b866-42c4-b6ce-a9e6837c87da",
   "metadata": {},
   "outputs": [
    {
     "name": "stdout",
     "output_type": "stream",
     "text": [
      "{'09/05': 10500, '09/06': 10300, '09/07': 10100, '09/08': 10800, '09/09': 11000}\n"
     ]
    }
   ],
   "source": [
    "#100\n",
    "date = ['09/05', '09/06', '09/07', '09/08', '09/09']\n",
    "close_price = [10500, 10300, 10100, 10800, 11000]\n",
    "close_table = dict(zip(date, close_price))\n",
    "print(close_table)"
   ]
  },
  {
   "cell_type": "markdown",
   "id": "c325ab3b-eb8f-45b1-a781-19501a98db39",
   "metadata": {},
   "source": [
    "# 07. 파이썬 분기문"
   ]
  },
  {
   "cell_type": "markdown",
   "id": "53769977-67b2-4459-a243-bfd8cb02991e",
   "metadata": {},
   "source": [
    "## 101 ~ 110"
   ]
  },
  {
   "cell_type": "code",
   "execution_count": null,
   "id": "160c40f6-959a-4f2c-9cf3-6c63df5bcccf",
   "metadata": {},
   "outputs": [],
   "source": [
    "#101\n",
    "boolean"
   ]
  },
  {
   "cell_type": "code",
   "execution_count": 106,
   "id": "467cc6dd-5b8d-4b54-9e2f-6baeddbe11f3",
   "metadata": {},
   "outputs": [
    {
     "name": "stdout",
     "output_type": "stream",
     "text": [
      "False\n"
     ]
    }
   ],
   "source": [
    "#102\n",
    "print(3 == 5)\n",
    "# False요"
   ]
  },
  {
   "cell_type": "code",
   "execution_count": 108,
   "id": "3a251899-634e-48a6-8832-9c8919e777b9",
   "metadata": {},
   "outputs": [
    {
     "name": "stdout",
     "output_type": "stream",
     "text": [
      "True\n"
     ]
    }
   ],
   "source": [
    "#103\n",
    "print(3 < 5)\n",
    "# True요"
   ]
  },
  {
   "cell_type": "code",
   "execution_count": 110,
   "id": "c1b2a070-7ba0-4b3c-8500-f652b5e09207",
   "metadata": {},
   "outputs": [
    {
     "name": "stdout",
     "output_type": "stream",
     "text": [
      "True\n"
     ]
    }
   ],
   "source": [
    "#104\n",
    "x = 4\n",
    "print(1 < x < 5)\n",
    "#4는 1보다 크고 5보다 작으니까 T"
   ]
  },
  {
   "cell_type": "code",
   "execution_count": 111,
   "id": "b8af68ee-f15a-47f9-bd18-c574a51ec566",
   "metadata": {},
   "outputs": [
    {
     "name": "stdout",
     "output_type": "stream",
     "text": [
      "True\n"
     ]
    }
   ],
   "source": [
    "#105\n",
    "print ((3 == 3) and (4 != 3))\n",
    "# 3=3은 T이고 4!=3 도T니까 True"
   ]
  },
  {
   "cell_type": "code",
   "execution_count": 115,
   "id": "bfe4a188-f643-4e64-b864-6281629535d6",
   "metadata": {},
   "outputs": [
    {
     "ename": "SyntaxError",
     "evalue": "expression cannot contain assignment, perhaps you meant \"==\"? (3878782604.py, line 2)",
     "output_type": "error",
     "traceback": [
      "\u001b[1;36m  Cell \u001b[1;32mIn[115], line 2\u001b[1;36m\u001b[0m\n\u001b[1;33m    print(3 => 4)\u001b[0m\n\u001b[1;37m          ^\u001b[0m\n\u001b[1;31mSyntaxError\u001b[0m\u001b[1;31m:\u001b[0m expression cannot contain assignment, perhaps you meant \"==\"?\n"
     ]
    }
   ],
   "source": [
    "#106\n",
    "print(3 => 4)\n",
    "# =>가 아니라 >="
   ]
  },
  {
   "cell_type": "code",
   "execution_count": 117,
   "id": "0909f9e2-8646-4818-9ffd-efcbff57dce8",
   "metadata": {},
   "outputs": [],
   "source": [
    "#107\n",
    "if 4 < 3:\n",
    "    print(\"Hello World\")\n",
    "# 암것도 인나옴. 4 < 3가 F라서"
   ]
  },
  {
   "cell_type": "code",
   "execution_count": 118,
   "id": "56ec2daa-bdcb-4f0d-9b1a-aa7339309732",
   "metadata": {},
   "outputs": [
    {
     "name": "stdout",
     "output_type": "stream",
     "text": [
      "Hi, there.\n"
     ]
    }
   ],
   "source": [
    "#108\n",
    "if 4 < 3:\n",
    "    print(\"Hello World.\")\n",
    "else:\n",
    "    print(\"Hi, there.\")\n",
    "#4<3가 F이므로 else 값인 \"Hi, there.\" 나옴"
   ]
  },
  {
   "cell_type": "code",
   "execution_count": 120,
   "id": "94a6a11b-4776-4849-aa6c-5a861aad24e5",
   "metadata": {},
   "outputs": [
    {
     "name": "stdout",
     "output_type": "stream",
     "text": [
      "1\n",
      "2\n",
      "4\n",
      "Object `if` not found.\n"
     ]
    }
   ],
   "source": [
    "#109\n",
    "if True : # <- 이게 나온 이상 이미 전제는 참으로 시작, else는 볼 필요가 없다\n",
    "    print (\"1\")\n",
    "    print (\"2\")\n",
    "else :\n",
    "    print(\"3\")\n",
    "print(\"4\")\n"
   ]
  },
  {
   "cell_type": "code",
   "execution_count": 126,
   "id": "14b47020-40ea-4d1f-819c-519b39be04a3",
   "metadata": {},
   "outputs": [
    {
     "name": "stdout",
     "output_type": "stream",
     "text": [
      "3\n",
      "5\n"
     ]
    }
   ],
   "source": [
    "#110\n",
    "# 3,5 \n",
    "if True : # <- 이미 참, true 말곤 볼 필요 x\n",
    "    if False:\n",
    "        print(\"1\")\n",
    "        print(\"2\")\n",
    "    else:\n",
    "        print(\"3\") # <-false 아닌게 true니까 이걸 출력\n",
    "else :\n",
    "    print(\"4\")\n",
    "print(\"5\")"
   ]
  },
  {
   "cell_type": "markdown",
   "id": "65987e42-063e-4fcc-942c-13eda0a8be63",
   "metadata": {},
   "source": [
    "## 111 ~ 120"
   ]
  },
  {
   "cell_type": "code",
   "execution_count": 130,
   "id": "46bf71aa-002a-4f59-b491-b866446ccfa3",
   "metadata": {},
   "outputs": [
    {
     "name": "stdin",
     "output_type": "stream",
     "text": [
      " aa\n"
     ]
    },
    {
     "name": "stdout",
     "output_type": "stream",
     "text": [
      "aaaa\n"
     ]
    }
   ],
   "source": [
    "#111\n",
    "text = (input())\n",
    "print(text*2)"
   ]
  },
  {
   "cell_type": "code",
   "execution_count": 131,
   "id": "d5236509-d4bf-46ff-b3a1-dc42a552d05a",
   "metadata": {},
   "outputs": [
    {
     "name": "stdin",
     "output_type": "stream",
     "text": [
      " 3\n"
     ]
    },
    {
     "name": "stdout",
     "output_type": "stream",
     "text": [
      "13\n"
     ]
    }
   ],
   "source": [
    "#112\n",
    "num = int(input())\n",
    "print(num+10)"
   ]
  },
  {
   "cell_type": "code",
   "execution_count": 134,
   "id": "2f37b65b-e352-41d9-9a22-4af5d17a30ea",
   "metadata": {},
   "outputs": [
    {
     "name": "stdin",
     "output_type": "stream",
     "text": [
      " 43\n"
     ]
    },
    {
     "name": "stdout",
     "output_type": "stream",
     "text": [
      "홀수\n"
     ]
    }
   ],
   "source": [
    "#113\n",
    "num = int(input())\n",
    "if num%2==0:\n",
    "    print('짝수')\n",
    "else:\n",
    "    print('홀수')"
   ]
  },
  {
   "cell_type": "code",
   "execution_count": 153,
   "id": "c8c70cde-fa9b-422c-9091-8b0b4a6cfb5c",
   "metadata": {},
   "outputs": [
    {
     "name": "stdin",
     "output_type": "stream",
     "text": [
      " 236\n"
     ]
    },
    {
     "name": "stdout",
     "output_type": "stream",
     "text": [
      "255\n"
     ]
    }
   ],
   "source": [
    "#114\n",
    "numa = int(input()) + 20\n",
    "if numa <= 255:\n",
    "    print(numa)\n",
    "else:\n",
    "    print(255)"
   ]
  },
  {
   "cell_type": "code",
   "execution_count": 165,
   "id": "319b4b3d-1afe-4a4d-b7e5-450e262d775b",
   "metadata": {},
   "outputs": [
    {
     "name": "stdin",
     "output_type": "stream",
     "text": [
      " 31\n"
     ]
    },
    {
     "name": "stdout",
     "output_type": "stream",
     "text": [
      "11\n"
     ]
    }
   ],
   "source": [
    "#115\n",
    "num2 = int(input()) - 20\n",
    "if num2 > 255:\n",
    "    print(255)\n",
    "elif 1 <= num2 <= 255:\n",
    "    print(num2)\n",
    "else :\n",
    "    print(0)"
   ]
  },
  {
   "cell_type": "code",
   "execution_count": null,
   "id": "c7d77cda-8f9e-473b-800b-566bbce33b18",
   "metadata": {},
   "outputs": [],
   "source": [
    "1. 21~274\n",
    "2. ~20\n",
    "3. 275~"
   ]
  },
  {
   "cell_type": "code",
   "execution_count": 179,
   "id": "b9b0e245-af27-46de-86c1-9a8e885ebb9a",
   "metadata": {},
   "outputs": [
    {
     "name": "stdin",
     "output_type": "stream",
     "text": [
      "시간:분 23:00\n"
     ]
    },
    {
     "name": "stdout",
     "output_type": "stream",
     "text": [
      "정각입니다.\n"
     ]
    }
   ],
   "source": [
    "#116\n",
    "hour, minute = input('시간:분').split(':')\n",
    "hour = int(hour)\n",
    "minute = int(minute)\n",
    "\n",
    "if minute == 0:\n",
    "    print('정각입니다.')\n",
    "else:\n",
    "    print('정각이 아닙니다.')"
   ]
  },
  {
   "cell_type": "code",
   "execution_count": 172,
   "id": "ab18c6a5-0fa7-4d99-abeb-b47e8594de27",
   "metadata": {},
   "outputs": [
    {
     "name": "stdin",
     "output_type": "stream",
     "text": [
      "현재시간:  2300\n"
     ]
    },
    {
     "name": "stdout",
     "output_type": "stream",
     "text": [
      "정각 입니다.\n"
     ]
    }
   ],
   "source": [
    "time = input(\"현재시간: \")\n",
    "if time[-2:] == \"00\":\n",
    "    print(\"정각 입니다.\")\n",
    "else:\n",
    "    print(\"정각이 아닙니다.\")"
   ]
  },
  {
   "cell_type": "code",
   "execution_count": 180,
   "id": "264681f7-b398-4b5c-a34e-dff2b6375487",
   "metadata": {},
   "outputs": [
    {
     "name": "stdin",
     "output_type": "stream",
     "text": [
      "좋아하는 과일은? 참외\n"
     ]
    },
    {
     "name": "stdout",
     "output_type": "stream",
     "text": [
      "오답입니다.\n"
     ]
    }
   ],
   "source": [
    "#117\n",
    "fruit = [\"사과\", \"포도\", \"홍시\"]\n",
    "fq = input(\"좋아하는 과일은?\")\n",
    "if fq in fruit:\n",
    "    print('정답입니다.')\n",
    "else :\n",
    "    print('오답입니다.')"
   ]
  },
  {
   "cell_type": "code",
   "execution_count": 187,
   "id": "a36e627d-6c69-4cb3-b384-cdb5228477f4",
   "metadata": {},
   "outputs": [
    {
     "name": "stdin",
     "output_type": "stream",
     "text": [
      " microsoft\n"
     ]
    },
    {
     "name": "stdout",
     "output_type": "stream",
     "text": [
      "투자 경고 종목이 아닙니다.\n"
     ]
    }
   ],
   "source": [
    "#118\n",
    "warn_investment_list = [\"Microsoft\", \"Google\", \"Naver\", \"Kakao\", \"SAMSUNG\", \"LG\"]\n",
    "list = input(\"\")\n",
    "if list in warn_investment_list:\n",
    "    print('투자 경고 종목입니다.')\n",
    "else: \n",
    "    print('투자 경고 종목이 아닙니다.')\n",
    "\n",
    "#대소문자 구분 안하려면 문자열을 해야 하는데 문자열은 수정이 불가능해서 안됨 <- 이 부분 극복할 수 있는 방법이 없을까?"
   ]
  },
  {
   "cell_type": "code",
   "execution_count": 199,
   "id": "29082681-22f6-4a68-a444-a7fa18c8a3aa",
   "metadata": {},
   "outputs": [
    {
     "name": "stdin",
     "output_type": "stream",
     "text": [
      "제가 제일 좋아하는 계절은:  봄\n"
     ]
    },
    {
     "name": "stdout",
     "output_type": "stream",
     "text": [
      "정답입니다.\n"
     ]
    }
   ],
   "source": [
    "#119\n",
    "fruit = {\"봄\" : \"딸기\", \"여름\" : \"토마토\", \"가을\" : \"사과\"}\n",
    "f = input('제가 제일 좋아하는 계절은: ')\n",
    "if f in fruit.keys():\n",
    "    print('정답입니다.')\n",
    "else :\n",
    "    print('오답입니다.')"
   ]
  },
  {
   "cell_type": "code",
   "execution_count": 195,
   "id": "2b1ccc15-fb7b-4fff-9bb7-2e105e779c4f",
   "metadata": {},
   "outputs": [
    {
     "name": "stdin",
     "output_type": "stream",
     "text": [
      "제가 제일 좋아하는 계절은:  딸기\n"
     ]
    },
    {
     "name": "stdout",
     "output_type": "stream",
     "text": [
      "정답입니다.\n"
     ]
    }
   ],
   "source": [
    "#120\n",
    "fruit = {\"봄\" : \"딸기\", \"여름\" : \"토마토\", \"가을\" : \"사과\"}\n",
    "f = input('제가 제일 좋아하는 계절은: ')\n",
    "if f in fruit.values():\n",
    "    print('정답입니다.')\n",
    "else :\n",
    "    print('오답입니다.')"
   ]
  },
  {
   "cell_type": "markdown",
   "id": "270e4c2a-7e94-495d-8436-eaa8265ed697",
   "metadata": {},
   "source": [
    "## 121 ~ 130"
   ]
  },
  {
   "cell_type": "code",
   "execution_count": null,
   "id": "fec5c27c-20e1-4070-9d74-4745543253c9",
   "metadata": {},
   "outputs": [],
   "source": [
    "#121"
   ]
  },
  {
   "cell_type": "code",
   "execution_count": null,
   "id": "60a26b37-e856-44ba-ab6b-ffd7a2da02ab",
   "metadata": {},
   "outputs": [],
   "source": [
    "#122"
   ]
  },
  {
   "cell_type": "code",
   "execution_count": null,
   "id": "d70235b3-d4bb-4197-bfc0-2fe73b51b7d9",
   "metadata": {},
   "outputs": [],
   "source": [
    "#123"
   ]
  },
  {
   "cell_type": "code",
   "execution_count": null,
   "id": "0de87d33-6fe4-49c8-a4d5-28443f956a29",
   "metadata": {},
   "outputs": [],
   "source": [
    "#124"
   ]
  },
  {
   "cell_type": "code",
   "execution_count": null,
   "id": "8c831b68-6320-4184-8e6b-ca056835c811",
   "metadata": {},
   "outputs": [],
   "source": [
    "#125"
   ]
  },
  {
   "cell_type": "code",
   "execution_count": null,
   "id": "ec5efaff-9270-478c-8d17-934d04d7c1bb",
   "metadata": {},
   "outputs": [],
   "source": [
    "#126"
   ]
  },
  {
   "cell_type": "code",
   "execution_count": null,
   "id": "6827e378-8974-44f4-9276-578331c80988",
   "metadata": {},
   "outputs": [],
   "source": [
    "#127"
   ]
  },
  {
   "cell_type": "code",
   "execution_count": null,
   "id": "d98bcd4d-9ff1-4a16-8bc7-1d543763db90",
   "metadata": {},
   "outputs": [],
   "source": [
    "#128"
   ]
  },
  {
   "cell_type": "code",
   "execution_count": null,
   "id": "9a851c0d-b07a-4d42-80b6-4929eaed6c6b",
   "metadata": {},
   "outputs": [],
   "source": [
    "#129"
   ]
  },
  {
   "cell_type": "code",
   "execution_count": 1,
   "id": "a0fc351e-e442-445a-a32a-a98f7dfd09ce",
   "metadata": {},
   "outputs": [],
   "source": [
    "#130"
   ]
  }
 ],
 "metadata": {
  "kernelspec": {
   "display_name": "Python 3 (ipykernel)",
   "language": "python",
   "name": "python3"
  },
  "language_info": {
   "codemirror_mode": {
    "name": "ipython",
    "version": 3
   },
   "file_extension": ".py",
   "mimetype": "text/x-python",
   "name": "python",
   "nbconvert_exporter": "python",
   "pygments_lexer": "ipython3",
   "version": "3.11.7"
  }
 },
 "nbformat": 4,
 "nbformat_minor": 5
}
