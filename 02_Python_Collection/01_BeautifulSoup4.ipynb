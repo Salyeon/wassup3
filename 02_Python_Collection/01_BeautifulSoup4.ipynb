{
 "cells": [
  {
   "cell_type": "markdown",
   "id": "6282f14e-b4b9-46ff-9241-079fd20ce650",
   "metadata": {},
   "source": [
    "## BeautifulSoup"
   ]
  },
  {
   "cell_type": "code",
   "execution_count": 1,
   "id": "8921867c-147c-49d5-a898-8aa8e0e2a209",
   "metadata": {
    "collapsed": true,
    "jupyter": {
     "outputs_hidden": true
    },
    "scrolled": true
   },
   "outputs": [
    {
     "name": "stdout",
     "output_type": "stream",
     "text": [
      "Package                           Version\n",
      "--------------------------------- ------------\n",
      "aiobotocore                       2.7.0\n",
      "aiohttp                           3.9.3\n",
      "aioitertools                      0.7.1\n",
      "aiosignal                         1.2.0\n",
      "alabaster                         0.7.12\n",
      "altair                            5.0.1\n",
      "anaconda-anon-usage               0.4.3\n",
      "anaconda-catalogs                 0.2.0\n",
      "anaconda-client                   1.12.3\n",
      "anaconda-cloud-auth               0.1.4\n",
      "anaconda-navigator                2.5.2\n",
      "anaconda-project                  0.11.1\n",
      "anyio                             4.2.0\n",
      "appdirs                           1.4.4\n",
      "archspec                          0.2.1\n",
      "argon2-cffi                       21.3.0\n",
      "argon2-cffi-bindings              21.2.0\n",
      "arrow                             1.2.3\n",
      "astroid                           2.14.2\n",
      "astropy                           5.3.4\n",
      "asttokens                         2.0.5\n",
      "async-lru                         2.0.4\n",
      "atomicwrites                      1.4.0\n",
      "attrs                             23.1.0\n",
      "Automat                           20.2.0\n",
      "autopep8                          1.6.0\n",
      "Babel                             2.11.0\n",
      "backports.functools-lru-cache     1.6.4\n",
      "backports.tempfile                1.0\n",
      "backports.weakref                 1.0.post1\n",
      "bcrypt                            3.2.0\n",
      "beautifulsoup4                    4.12.2\n",
      "binaryornot                       0.4.4\n",
      "black                             23.11.0\n",
      "bleach                            4.1.0\n",
      "blinker                           1.6.2\n",
      "bokeh                             3.3.4\n",
      "boltons                           23.0.0\n",
      "botocore                          1.31.64\n",
      "Bottleneck                        1.3.7\n",
      "Brotli                            1.0.9\n",
      "cachetools                        4.2.2\n",
      "certifi                           2024.2.2\n",
      "cffi                              1.16.0\n",
      "chardet                           4.0.0\n",
      "charset-normalizer                2.0.4\n",
      "click                             8.1.7\n",
      "cloudpickle                       2.2.1\n",
      "clyent                            1.2.2\n",
      "colorama                          0.4.6\n",
      "colorcet                          3.0.1\n",
      "comm                              0.1.2\n",
      "conda                             24.1.2\n",
      "conda-build                       24.1.2\n",
      "conda-content-trust               0.2.0\n",
      "conda_index                       0.4.0\n",
      "conda-libmamba-solver             24.1.0\n",
      "conda-pack                        0.6.0\n",
      "conda-package-handling            2.2.0\n",
      "conda_package_streaming           0.9.0\n",
      "conda-repo-cli                    1.0.75\n",
      "conda-token                       0.4.0\n",
      "conda-verify                      3.4.2\n",
      "constantly                        23.10.4\n",
      "contourpy                         1.2.0\n",
      "cookiecutter                      2.5.0\n",
      "cryptography                      42.0.2\n",
      "cssselect                         1.2.0\n",
      "cycler                            0.11.0\n",
      "cytoolz                           0.12.2\n",
      "dask                              2023.11.0\n",
      "datashader                        0.16.0\n",
      "debugpy                           1.6.7\n",
      "decorator                         5.1.1\n",
      "defusedxml                        0.7.1\n",
      "diff-match-patch                  20200713\n",
      "dill                              0.3.7\n",
      "distributed                       2023.11.0\n",
      "distro                            1.8.0\n",
      "docstring-to-markdown             0.11\n",
      "docutils                          0.18.1\n",
      "entrypoints                       0.4\n",
      "et-xmlfile                        1.1.0\n",
      "executing                         0.8.3\n",
      "Faker                             25.8.0\n",
      "fastjsonschema                    2.16.2\n",
      "filelock                          3.13.1\n",
      "flake8                            6.0.0\n",
      "Flask                             2.2.5\n",
      "fonttools                         4.25.0\n",
      "frozenlist                        1.4.0\n",
      "fsspec                            2023.10.0\n",
      "future                            0.18.3\n",
      "gensim                            4.3.0\n",
      "gitdb                             4.0.7\n",
      "GitPython                         3.1.37\n",
      "gmpy2                             2.1.2\n",
      "greenlet                          3.0.1\n",
      "h5py                              3.9.0\n",
      "HeapDict                          1.0.1\n",
      "holoviews                         1.18.3\n",
      "hvplot                            0.9.2\n",
      "hyperlink                         21.0.0\n",
      "idna                              3.4\n",
      "imagecodecs                       2023.1.23\n",
      "imageio                           2.33.1\n",
      "imagesize                         1.4.1\n",
      "imbalanced-learn                  0.11.0\n",
      "importlib-metadata                7.0.1\n",
      "incremental                       22.10.0\n",
      "inflection                        0.5.1\n",
      "iniconfig                         1.1.1\n",
      "intake                            0.6.8\n",
      "intervaltree                      3.1.0\n",
      "ipykernel                         6.28.0\n",
      "ipython                           8.20.0\n",
      "ipython-genutils                  0.2.0\n",
      "ipywidgets                        7.6.5\n",
      "isort                             5.9.3\n",
      "itemadapter                       0.3.0\n",
      "itemloaders                       1.1.0\n",
      "itsdangerous                      2.0.1\n",
      "jaraco.classes                    3.2.1\n",
      "jedi                              0.18.1\n",
      "jellyfish                         1.0.1\n",
      "Jinja2                            3.1.3\n",
      "jmespath                          1.0.1\n",
      "joblib                            1.2.0\n",
      "json5                             0.9.6\n",
      "jsonpatch                         1.32\n",
      "jsonpointer                       2.1\n",
      "jsonschema                        4.19.2\n",
      "jsonschema-specifications         2023.7.1\n",
      "jupyter                           1.0.0\n",
      "jupyter_client                    8.6.0\n",
      "jupyter-console                   6.6.3\n",
      "jupyter_core                      5.5.0\n",
      "jupyter-events                    0.8.0\n",
      "jupyter-lsp                       2.2.0\n",
      "jupyter_server                    2.10.0\n",
      "jupyter_server_terminals          0.4.4\n",
      "jupyterlab                        4.0.11\n",
      "jupyterlab-pygments               0.1.2\n",
      "jupyterlab_server                 2.25.1\n",
      "jupyterlab-widgets                3.0.9\n",
      "keyring                           23.13.1\n",
      "kiwisolver                        1.4.4\n",
      "lazy_loader                       0.3\n",
      "lazy-object-proxy                 1.6.0\n",
      "lckr_jupyterlab_variableinspector 3.1.0\n",
      "libarchive-c                      2.9\n",
      "libmambapy                        1.5.6\n",
      "linkify-it-py                     2.0.0\n",
      "llvmlite                          0.42.0\n",
      "lmdb                              1.4.1\n",
      "locket                            1.0.0\n",
      "lxml                              4.9.3\n",
      "lz4                               4.3.2\n",
      "Markdown                          3.4.1\n",
      "markdown-it-py                    2.2.0\n",
      "MarkupSafe                        2.1.3\n",
      "matplotlib                        3.8.0\n",
      "matplotlib-inline                 0.1.6\n",
      "mccabe                            0.7.0\n",
      "mdit-py-plugins                   0.3.0\n",
      "mdurl                             0.1.0\n",
      "menuinst                          2.0.2\n",
      "mistune                           2.0.4\n",
      "mkl-fft                           1.3.8\n",
      "mkl-random                        1.2.4\n",
      "mkl-service                       2.4.0\n",
      "more-itertools                    10.1.0\n",
      "mpmath                            1.3.0\n",
      "msgpack                           1.0.3\n",
      "multidict                         6.0.4\n",
      "multipledispatch                  0.6.0\n",
      "munkres                           1.1.4\n",
      "mypy                              1.8.0\n",
      "mypy-extensions                   1.0.0\n",
      "navigator-updater                 0.4.0\n",
      "nbclient                          0.8.0\n",
      "nbconvert                         7.10.0\n",
      "nbformat                          5.9.2\n",
      "nest-asyncio                      1.6.0\n",
      "networkx                          3.1\n",
      "nltk                              3.8.1\n",
      "notebook                          7.0.8\n",
      "notebook_shim                     0.2.3\n",
      "numba                             0.59.0\n",
      "numexpr                           2.8.7\n",
      "numpy                             1.26.4\n",
      "numpydoc                          1.5.0\n",
      "openpyxl                          3.0.10\n",
      "overrides                         7.4.0\n",
      "packaging                         23.1\n",
      "pandas                            2.1.4\n",
      "pandocfilters                     1.5.0\n",
      "panel                             1.3.8\n",
      "param                             2.0.2\n",
      "paramiko                          2.8.1\n",
      "parsel                            1.8.1\n",
      "parso                             0.8.3\n",
      "partd                             1.4.1\n",
      "pathlib                           1.0.1\n",
      "pathspec                          0.10.3\n",
      "patsy                             0.5.3\n",
      "pexpect                           4.8.0\n",
      "pickleshare                       0.7.5\n",
      "pillow                            10.2.0\n",
      "pip                               23.3.1\n",
      "pkce                              1.0.3\n",
      "pkginfo                           1.9.6\n",
      "platformdirs                      3.10.0\n",
      "plotly                            5.9.0\n",
      "pluggy                            1.0.0\n",
      "ply                               3.11\n",
      "prometheus-client                 0.14.1\n",
      "prompt-toolkit                    3.0.43\n",
      "Protego                           0.1.16\n",
      "protobuf                          3.20.3\n",
      "psutil                            5.9.0\n",
      "ptyprocess                        0.7.0\n",
      "pure-eval                         0.2.2\n",
      "py-cpuinfo                        9.0.0\n",
      "pyarrow                           14.0.2\n",
      "pyasn1                            0.4.8\n",
      "pyasn1-modules                    0.2.8\n",
      "pycodestyle                       2.10.0\n",
      "pycosat                           0.6.6\n",
      "pycparser                         2.21\n",
      "pyct                              0.5.0\n",
      "pycurl                            7.45.2\n",
      "pydantic                          1.10.12\n",
      "pydeck                            0.8.0\n",
      "PyDispatcher                      2.0.5\n",
      "pydocstyle                        6.3.0\n",
      "pyerfa                            2.0.0\n",
      "pyflakes                          3.0.1\n",
      "Pygments                          2.15.1\n",
      "PyJWT                             2.4.0\n",
      "pylint                            2.16.2\n",
      "pylint-venv                       2.3.0\n",
      "pyls-spyder                       0.4.0\n",
      "PyNaCl                            1.5.0\n",
      "pyodbc                            5.0.1\n",
      "pyOpenSSL                         24.0.0\n",
      "pyparsing                         3.0.9\n",
      "PyQt5                             5.15.10\n",
      "PyQt5-sip                         12.13.0\n",
      "PyQtWebEngine                     5.15.6\n",
      "PySocks                           1.7.1\n",
      "pytest                            7.4.0\n",
      "python-dateutil                   2.8.2\n",
      "python-dotenv                     0.21.0\n",
      "python-json-logger                2.0.7\n",
      "python-lsp-black                  1.2.1\n",
      "python-lsp-jsonrpc                1.0.0\n",
      "python-lsp-server                 1.7.2\n",
      "python-slugify                    5.0.2\n",
      "python-snappy                     0.6.1\n",
      "pytoolconfig                      1.2.6\n",
      "pytz                              2023.3.post1\n",
      "pyviz_comms                       3.0.0\n",
      "pywavelets                        1.5.0\n",
      "pywin32                           305.1\n",
      "pywin32-ctypes                    0.2.0\n",
      "pywinpty                          2.0.10\n",
      "PyYAML                            6.0.1\n",
      "pyzmq                             25.1.2\n",
      "QDarkStyle                        3.0.2\n",
      "qstylizer                         0.2.2\n",
      "QtAwesome                         1.2.2\n",
      "qtconsole                         5.4.2\n",
      "QtPy                              2.4.1\n",
      "queuelib                          1.6.2\n",
      "referencing                       0.30.2\n",
      "regex                             2023.10.3\n",
      "requests                          2.31.0\n",
      "requests-file                     1.5.1\n",
      "requests-toolbelt                 1.0.0\n",
      "rfc3339-validator                 0.1.4\n",
      "rfc3986-validator                 0.1.1\n",
      "rich                              13.3.5\n",
      "rope                              1.7.0\n",
      "rpds-py                           0.10.6\n",
      "Rtree                             1.0.1\n",
      "ruamel.yaml                       0.17.21\n",
      "ruamel-yaml-conda                 0.17.21\n",
      "s3fs                              2023.10.0\n",
      "scikit-image                      0.22.0\n",
      "scikit-learn                      1.2.2\n",
      "scipy                             1.11.4\n",
      "Scrapy                            2.8.0\n",
      "seaborn                           0.12.2\n",
      "semver                            2.13.0\n",
      "Send2Trash                        1.8.2\n",
      "service-identity                  18.1.0\n",
      "setuptools                        68.2.2\n",
      "sip                               6.7.12\n",
      "six                               1.16.0\n",
      "smart-open                        5.2.1\n",
      "smmap                             4.0.0\n",
      "sniffio                           1.3.0\n",
      "snowballstemmer                   2.2.0\n",
      "sortedcontainers                  2.4.0\n",
      "soupsieve                         2.5\n",
      "Sphinx                            5.0.2\n",
      "sphinxcontrib-applehelp           1.0.2\n",
      "sphinxcontrib-devhelp             1.0.2\n",
      "sphinxcontrib-htmlhelp            2.0.0\n",
      "sphinxcontrib-jsmath              1.0.1\n",
      "sphinxcontrib-qthelp              1.0.3\n",
      "sphinxcontrib-serializinghtml     1.1.5\n",
      "spyder                            5.4.3\n",
      "spyder-kernels                    2.4.4\n",
      "SQLAlchemy                        2.0.25\n",
      "stack-data                        0.2.0\n",
      "statsmodels                       0.14.0\n",
      "streamlit                         1.30.0\n",
      "sympy                             1.12\n",
      "tables                            3.9.2\n",
      "tabulate                          0.9.0\n",
      "tblib                             1.7.0\n",
      "tenacity                          8.2.2\n",
      "terminado                         0.17.1\n",
      "text-unidecode                    1.3\n",
      "textdistance                      4.2.1\n",
      "threadpoolctl                     2.2.0\n",
      "three-merge                       0.1.1\n",
      "tifffile                          2023.4.12\n",
      "tinycss2                          1.2.1\n",
      "tldextract                        3.2.0\n",
      "toml                              0.10.2\n",
      "tomlkit                           0.11.1\n",
      "toolz                             0.12.0\n",
      "tornado                           6.3.3\n",
      "tqdm                              4.65.0\n",
      "traitlets                         5.7.1\n",
      "truststore                        0.8.0\n",
      "Twisted                           23.10.0\n",
      "twisted-iocpsupport               1.0.2\n",
      "typing_extensions                 4.9.0\n",
      "tzdata                            2023.3\n",
      "tzlocal                           2.1\n",
      "uc-micro-py                       1.0.1\n",
      "ujson                             5.4.0\n",
      "Unidecode                         1.2.0\n",
      "urllib3                           2.0.7\n",
      "validators                        0.18.2\n",
      "w3lib                             2.1.2\n",
      "watchdog                          2.1.6\n",
      "wcwidth                           0.2.5\n",
      "webencodings                      0.5.1\n",
      "websocket-client                  0.58.0\n",
      "Werkzeug                          2.2.3\n",
      "whatthepatch                      1.0.2\n",
      "wheel                             0.41.2\n",
      "widgetsnbextension                3.5.2\n",
      "win-inet-pton                     1.1.0\n",
      "wrapt                             1.14.1\n",
      "xarray                            2023.6.0\n",
      "xlwings                           0.29.1\n",
      "xyzservices                       2022.9.0\n",
      "yapf                              0.31.0\n",
      "yarl                              1.9.3\n",
      "zict                              3.0.0\n",
      "zipp                              3.17.0\n",
      "zope.interface                    5.4.0\n",
      "zstandard                         0.19.0\n",
      "Note: you may need to restart the kernel to use updated packages.\n"
     ]
    }
   ],
   "source": [
    "pip list"
   ]
  },
  {
   "cell_type": "code",
   "execution_count": 1,
   "id": "91aac1ae-8faf-4606-a7da-ee1bdcf7fff9",
   "metadata": {
    "collapsed": true,
    "jupyter": {
     "outputs_hidden": true
    }
   },
   "outputs": [
    {
     "name": "stdout",
     "output_type": "stream",
     "text": [
      "Requirement already satisfied: bs4 in c:\\users\\choiminsoo\\anaconda3\\lib\\site-packages (0.0.2)\n",
      "Requirement already satisfied: beautifulsoup4 in c:\\users\\choiminsoo\\anaconda3\\lib\\site-packages (from bs4) (4.12.2)\n",
      "Requirement already satisfied: soupsieve>1.2 in c:\\users\\choiminsoo\\anaconda3\\lib\\site-packages (from beautifulsoup4->bs4) (2.5)\n",
      "Note: you may need to restart the kernel to use updated packages.\n"
     ]
    }
   ],
   "source": [
    "pip install bs4"
   ]
  },
  {
   "cell_type": "code",
   "execution_count": 2,
   "id": "a209268a-810d-42b5-abf0-fe09b2e1b83c",
   "metadata": {},
   "outputs": [
    {
     "name": "stdout",
     "output_type": "stream",
     "text": [
      "Requirement already satisfied: lxml in c:\\users\\choiminsoo\\anaconda3\\lib\\site-packages (4.9.3)Note: you may need to restart the kernel to use updated packages.\n",
      "\n"
     ]
    }
   ],
   "source": [
    "pip install lxml"
   ]
  },
  {
   "cell_type": "markdown",
   "id": "5c746b0c-ed71-4b1f-a248-9d76d256fb76",
   "metadata": {},
   "source": [
    "## Parser"
   ]
  },
  {
   "cell_type": "code",
   "execution_count": 4,
   "id": "34c7e47c-8238-40bc-8815-b03a9ccb3465",
   "metadata": {},
   "outputs": [],
   "source": [
    "from bs4 import BeautifulSoup\n",
    "import lxml"
   ]
  },
  {
   "cell_type": "code",
   "execution_count": 5,
   "id": "62bf351f-4645-4875-93b6-879fa16e358a",
   "metadata": {
    "collapsed": true,
    "jupyter": {
     "outputs_hidden": true
    },
    "scrolled": true
   },
   "outputs": [
    {
     "data": {
      "text/plain": [
       "\u001b[1;31mInit signature:\u001b[0m\n",
       "\u001b[0mBeautifulSoup\u001b[0m\u001b[1;33m(\u001b[0m\u001b[1;33m\n",
       "\u001b[0m    \u001b[0mmarkup\u001b[0m\u001b[1;33m=\u001b[0m\u001b[1;34m''\u001b[0m\u001b[1;33m,\u001b[0m\u001b[1;33m\n",
       "\u001b[0m    \u001b[0mfeatures\u001b[0m\u001b[1;33m=\u001b[0m\u001b[1;32mNone\u001b[0m\u001b[1;33m,\u001b[0m\u001b[1;33m\n",
       "\u001b[0m    \u001b[0mbuilder\u001b[0m\u001b[1;33m=\u001b[0m\u001b[1;32mNone\u001b[0m\u001b[1;33m,\u001b[0m\u001b[1;33m\n",
       "\u001b[0m    \u001b[0mparse_only\u001b[0m\u001b[1;33m=\u001b[0m\u001b[1;32mNone\u001b[0m\u001b[1;33m,\u001b[0m\u001b[1;33m\n",
       "\u001b[0m    \u001b[0mfrom_encoding\u001b[0m\u001b[1;33m=\u001b[0m\u001b[1;32mNone\u001b[0m\u001b[1;33m,\u001b[0m\u001b[1;33m\n",
       "\u001b[0m    \u001b[0mexclude_encodings\u001b[0m\u001b[1;33m=\u001b[0m\u001b[1;32mNone\u001b[0m\u001b[1;33m,\u001b[0m\u001b[1;33m\n",
       "\u001b[0m    \u001b[0melement_classes\u001b[0m\u001b[1;33m=\u001b[0m\u001b[1;32mNone\u001b[0m\u001b[1;33m,\u001b[0m\u001b[1;33m\n",
       "\u001b[0m    \u001b[1;33m**\u001b[0m\u001b[0mkwargs\u001b[0m\u001b[1;33m,\u001b[0m\u001b[1;33m\n",
       "\u001b[0m\u001b[1;33m)\u001b[0m\u001b[1;33m\u001b[0m\u001b[1;33m\u001b[0m\u001b[0m\n",
       "\u001b[1;31mDocstring:\u001b[0m     \n",
       "A data structure representing a parsed HTML or XML document.\n",
       "\n",
       "Most of the methods you'll call on a BeautifulSoup object are inherited from\n",
       "PageElement or Tag.\n",
       "\n",
       "Internally, this class defines the basic interface called by the\n",
       "tree builders when converting an HTML/XML document into a data\n",
       "structure. The interface abstracts away the differences between\n",
       "parsers. To write a new tree builder, you'll need to understand\n",
       "these methods as a whole.\n",
       "\n",
       "These methods will be called by the BeautifulSoup constructor:\n",
       "  * reset()\n",
       "  * feed(markup)\n",
       "\n",
       "The tree builder may call these methods from its feed() implementation:\n",
       "  * handle_starttag(name, attrs) # See note about return value\n",
       "  * handle_endtag(name)\n",
       "  * handle_data(data) # Appends to the current data node\n",
       "  * endData(containerClass) # Ends the current data node\n",
       "\n",
       "No matter how complicated the underlying parser is, you should be\n",
       "able to build a tree using 'start tag' events, 'end tag' events,\n",
       "'data' events, and \"done with data\" events.\n",
       "\n",
       "If you encounter an empty-element tag (aka a self-closing tag,\n",
       "like HTML's <br> tag), call handle_starttag and then\n",
       "handle_endtag.\n",
       "\u001b[1;31mInit docstring:\u001b[0m\n",
       "Constructor.\n",
       "\n",
       ":param markup: A string or a file-like object representing\n",
       " markup to be parsed.\n",
       "\n",
       ":param features: Desirable features of the parser to be\n",
       " used. This may be the name of a specific parser (\"lxml\",\n",
       " \"lxml-xml\", \"html.parser\", or \"html5lib\") or it may be the\n",
       " type of markup to be used (\"html\", \"html5\", \"xml\"). It's\n",
       " recommended that you name a specific parser, so that\n",
       " Beautiful Soup gives you the same results across platforms\n",
       " and virtual environments.\n",
       "\n",
       ":param builder: A TreeBuilder subclass to instantiate (or\n",
       " instance to use) instead of looking one up based on\n",
       " `features`. You only need to use this if you've implemented a\n",
       " custom TreeBuilder.\n",
       "\n",
       ":param parse_only: A SoupStrainer. Only parts of the document\n",
       " matching the SoupStrainer will be considered. This is useful\n",
       " when parsing part of a document that would otherwise be too\n",
       " large to fit into memory.\n",
       "\n",
       ":param from_encoding: A string indicating the encoding of the\n",
       " document to be parsed. Pass this in if Beautiful Soup is\n",
       " guessing wrongly about the document's encoding.\n",
       "\n",
       ":param exclude_encodings: A list of strings indicating\n",
       " encodings known to be wrong. Pass this in if you don't know\n",
       " the document's encoding but you know Beautiful Soup's guess is\n",
       " wrong.\n",
       "\n",
       ":param element_classes: A dictionary mapping BeautifulSoup\n",
       " classes like Tag and NavigableString, to other classes you'd\n",
       " like to be instantiated instead as the parse tree is\n",
       " built. This is useful for subclassing Tag or NavigableString\n",
       " to modify default behavior.\n",
       "\n",
       ":param kwargs: For backwards compatibility purposes, the\n",
       " constructor accepts certain keyword arguments used in\n",
       " Beautiful Soup 3. None of these arguments do anything in\n",
       " Beautiful Soup 4; they will result in a warning and then be\n",
       " ignored.\n",
       " \n",
       " Apart from this, any keyword arguments passed into the\n",
       " BeautifulSoup constructor are propagated to the TreeBuilder\n",
       " constructor. This makes it possible to configure a\n",
       " TreeBuilder by passing in arguments, not just by saying which\n",
       " one to use.\n",
       "\u001b[1;31mFile:\u001b[0m           c:\\users\\choiminsoo\\anaconda3\\lib\\site-packages\\bs4\\__init__.py\n",
       "\u001b[1;31mType:\u001b[0m           type\n",
       "\u001b[1;31mSubclasses:\u001b[0m     BeautifulStoneSoup"
      ]
     },
     "metadata": {},
     "output_type": "display_data"
    }
   ],
   "source": [
    "BeautifulSoup?"
   ]
  },
  {
   "cell_type": "code",
   "execution_count": 4,
   "id": "faed5d48-5fe9-4e4f-ad30-c8a302584e05",
   "metadata": {},
   "outputs": [],
   "source": [
    "# sample\n",
    "html = '''\n",
    "<div id=prices >\n",
    "    <table >\n",
    "        <tr class=bb>\n",
    "            <th class=\"bb lm lft\">Date\n",
    "            <th class=\"rgt bb\">Open\n",
    "            <th class=\"rgt bb\">High\n",
    "            <th class=\"rgt bb\">Low\n",
    "            <th class=\"rgt bb\">Close\n",
    "            <th class=\"rgt bb rm\">Volume\n",
    "        <tr>\n",
    "            <td class=\"lm\">Feb 28, 2014\n",
    "            <td class=\"rgt\">100.71\n",
    "            <td class=\"rgt\">100.71\n",
    "            <td class=\"rgt\">100.71\n",
    "            <td class=\"rgt\">100.71\n",
    "            <td class=\"rgt rm\">0\n",
    "     </table>\n",
    "'''\n",
    "#div, tr, th, td 닫은게 없음"
   ]
  },
  {
   "cell_type": "code",
   "execution_count": null,
   "id": "1d184328-d5f7-49a4-8bd8-8f0d8af25ac6",
   "metadata": {},
   "outputs": [],
   "source": [
    "#</th>가 앞에 있는거 빼곤 괜찮음 -> 실제론 위에 달려있기 때문에 문법상 문제 없음, 보여지는 것만 아래에 있을 뿐"
   ]
  },
  {
   "cell_type": "code",
   "execution_count": 3,
   "id": "c30bec5d-a899-4bfb-b0d3-c813950a49e1",
   "metadata": {},
   "outputs": [
    {
     "ename": "NameError",
     "evalue": "name 'html' is not defined",
     "output_type": "error",
     "traceback": [
      "\u001b[1;31m---------------------------------------------------------------------------\u001b[0m",
      "\u001b[1;31mNameError\u001b[0m                                 Traceback (most recent call last)",
      "Cell \u001b[1;32mIn[3], line 2\u001b[0m\n\u001b[0;32m      1\u001b[0m \u001b[38;5;66;03m# 파이썬 표준 html 파서\u001b[39;00m\n\u001b[1;32m----> 2\u001b[0m BeautifulSoup(html, \u001b[38;5;124m'\u001b[39m\u001b[38;5;124mhtml.parser\u001b[39m\u001b[38;5;124m'\u001b[39m)\n",
      "\u001b[1;31mNameError\u001b[0m: name 'html' is not defined"
     ]
    }
   ],
   "source": [
    "# 파이썬 표준 html 파서\n",
    "BeautifulSoup(html, 'html.parser')"
   ]
  },
  {
   "cell_type": "code",
   "execution_count": 5,
   "id": "15ddf45c-771f-4272-8921-340168931a80",
   "metadata": {},
   "outputs": [
    {
     "data": {
      "text/plain": [
       "<html><body><div id=\"prices\">\n",
       "<table>\n",
       "<tr class=\"bb\">\n",
       "<th class=\"bb lm lft\">Date\n",
       "            </th><th class=\"rgt bb\">Open\n",
       "            </th><th class=\"rgt bb\">High\n",
       "            </th><th class=\"rgt bb\">Low\n",
       "            </th><th class=\"rgt bb\">Close\n",
       "            </th><th class=\"rgt bb rm\">Volume\n",
       "        </th></tr><tr>\n",
       "<td class=\"lm\">Feb 28, 2014\n",
       "            </td><td class=\"rgt\">100.71\n",
       "            </td><td class=\"rgt\">100.71\n",
       "            </td><td class=\"rgt\">100.71\n",
       "            </td><td class=\"rgt\">100.71\n",
       "            </td><td class=\"rgt rm\">0\n",
       "     </td></tr></table>\n",
       "</div></body></html>"
      ]
     },
     "execution_count": 5,
     "metadata": {},
     "output_type": "execute_result"
    }
   ],
   "source": [
    "# lxml의 HTML 파서\n",
    "BeautifulSoup(html, 'lxml')"
   ]
  },
  {
   "cell_type": "code",
   "execution_count": 9,
   "id": "49583c67-1c0e-4fd8-9ae7-f544b727edd6",
   "metadata": {},
   "outputs": [],
   "source": [
    "# 비어있는게 한쪽 아래에 다 몰려있음, 이래도 작동을 하긴 함"
   ]
  },
  {
   "cell_type": "markdown",
   "id": "7f8e2bbd-b975-41c0-b2a2-1cf4e7bc0465",
   "metadata": {},
   "source": [
    "24.06.20"
   ]
  },
  {
   "cell_type": "markdown",
   "id": "c7731832-afc1-409c-8358-a4e93982f48a",
   "metadata": {},
   "source": [
    "## BS4 객체의 속성과 메서드"
   ]
  },
  {
   "cell_type": "code",
   "execution_count": 7,
   "id": "8d009268-2762-499f-ab06-c6a5e64f46b9",
   "metadata": {},
   "outputs": [
    {
     "data": {
      "text/plain": [
       "'C:\\\\workspace\\\\wassup3\\\\02_Python_Collection'"
      ]
     },
     "execution_count": 7,
     "metadata": {},
     "output_type": "execute_result"
    }
   ],
   "source": [
    "pwd"
   ]
  },
  {
   "cell_type": "code",
   "execution_count": 5,
   "id": "353c718b-3103-49bf-9790-cea40f351432",
   "metadata": {},
   "outputs": [
    {
     "data": {
      "text/plain": [
       "<_io.TextIOWrapper name='sample/market.html' mode='r' encoding='utf-8'>"
      ]
     },
     "execution_count": 5,
     "metadata": {},
     "output_type": "execute_result"
    }
   ],
   "source": [
    "html_file = open('sample/market.html', encoding='utf-8')\n",
    "html_file"
   ]
  },
  {
   "cell_type": "code",
   "execution_count": 6,
   "id": "4beb32ef-dcd6-47dc-a70e-512bf2879938",
   "metadata": {},
   "outputs": [],
   "source": [
    "html_src = html_file.read()\n",
    "html_file.close()"
   ]
  },
  {
   "cell_type": "code",
   "execution_count": 7,
   "id": "f58fc0f1-1d1c-4a5a-a119-8ce9fe676c46",
   "metadata": {},
   "outputs": [
    {
     "data": {
      "text/plain": [
       "'<html>\\n    <body>\\n        <h1> 과일 목록 </h1>\\n        <div>\\n                <p id=\\'banana\\' class=\\'fruit\\' title=\\'바나나\\'>\\n                      <span class = \\'price\\'> 3000원 </span>\\n                      <span class = \\'count\\'> 10개 </span>\\n                      <span class = \\'store\\'> 바나나가게 </span>\\n                      <a href = \\'https://www.banana.com\\'> banana.com </a>\\n                </p>\\n                <p id=\\'cherry\\' class=\\'fruit\\' title=\\'체리\\'>\\n                    <span class = \\'price\\'> 100원 </span>\\n                    <span class = \\'count\\'> 50개 </span>\\n                    <span class = \\'store\\'> 체리가게</span>\\n                    <a href = \\'https://www.cherry.com\\'> cherry.com </a>\\n                </p>\\n                <p id=\\'orange\\' class=\\'fruit best\\' title=\\'오렌지\\'>\\n                    <span class = \\'price\\'> 500원 </span>\\n                    <span class = \\'count\\'> 20개 </span>\\n                    <span class = \\'store\\'> 오렌지가게</span>\\n                    <a href = \\'https://www.orange.com\\'> orange.com </a>\\n                    <span>\\n                        <a href=\"https://www.orange.blog/\">오렌지 효능</a>\\n                    </span>\\n                </p>\\n        </div>\\n    </body> \\n</html>'"
      ]
     },
     "execution_count": 7,
     "metadata": {},
     "output_type": "execute_result"
    }
   ],
   "source": [
    "html_src"
   ]
  },
  {
   "cell_type": "code",
   "execution_count": 13,
   "id": "e8b46fd1-bf25-4130-91cd-cfdb3f5ce7ac",
   "metadata": {},
   "outputs": [
    {
     "name": "stdout",
     "output_type": "stream",
     "text": [
      "<html>\n",
      "    <body>\n",
      "        <h1> 과일 목록 </h1>\n",
      "        <div>\n",
      "                <p id='banana' class='fruit' title='바나나'>\n",
      "                      <span class = 'price'> 3000원 </span>\n",
      "                      <span class = 'count'> 10개 </span>\n",
      "                      <span class = 'store'> 바나나가게 </span>\n",
      "                      <a href = 'https://www.banana.com'> banana.com </a>\n",
      "                </p>\n",
      "                <p id='cherry' class='fruit' title='체리'>\n",
      "                    <span class = 'price'> 100원 </span>\n",
      "                    <span class = 'count'> 50개 </span>\n",
      "                    <span class = 'store'> 체리가게</span>\n",
      "                    <a href = 'https://www.cherry.com'> cherry.com </a>\n",
      "                </p>\n",
      "                <p id='orange' class='fruit best' title='오렌지'>\n",
      "                    <span class = 'price'> 500원 </span>\n",
      "                    <span class = 'count'> 20개 </span>\n",
      "                    <span class = 'store'> 오렌지가게</span>\n",
      "                    <a href = 'https://www.orange.com'> orange.com </a>\n",
      "                    <span>\n",
      "                        <a href=\"https://www.orange.blog/\">오렌지 효능</a>\n",
      "                    </span>\n",
      "                </p>\n",
      "        </div>\n",
      "    </body> \n",
      "</html>\n"
     ]
    }
   ],
   "source": [
    "print(html_src)"
   ]
  },
  {
   "cell_type": "code",
   "execution_count": 9,
   "id": "b5bb403b-c6d9-442d-85c4-33d3a0369b9b",
   "metadata": {},
   "outputs": [],
   "source": [
    "# Dom 구조로 변환\n",
    "soup = BeautifulSoup(html_src,'lxml')"
   ]
  },
  {
   "cell_type": "code",
   "execution_count": 18,
   "id": "13c3822e-84a6-4df2-91f2-0f64eb0532db",
   "metadata": {},
   "outputs": [
    {
     "data": {
      "text/plain": [
       "bs4.BeautifulSoup"
      ]
     },
     "execution_count": 18,
     "metadata": {},
     "output_type": "execute_result"
    }
   ],
   "source": [
    "type(soup) # <- 이거 자체는 객체"
   ]
  },
  {
   "cell_type": "code",
   "execution_count": 19,
   "id": "d496ac3e-afeb-48c7-bc6e-451bd26a7ee8",
   "metadata": {},
   "outputs": [
    {
     "data": {
      "text/plain": [
       "<html>\n",
       "<body>\n",
       "<h1> 과일 목록 </h1>\n",
       "<div>\n",
       "<p class=\"fruit\" id=\"banana\" title=\"바나나\">\n",
       "<span class=\"price\"> 3000원 </span>\n",
       "<span class=\"count\"> 10개 </span>\n",
       "<span class=\"store\"> 바나나가게 </span>\n",
       "<a href=\"https://www.banana.com\"> banana.com </a>\n",
       "</p>\n",
       "<p class=\"fruit\" id=\"cherry\" title=\"체리\">\n",
       "<span class=\"price\"> 100원 </span>\n",
       "<span class=\"count\"> 50개 </span>\n",
       "<span class=\"store\"> 체리가게</span>\n",
       "<a href=\"https://www.cherry.com\"> cherry.com </a>\n",
       "</p>\n",
       "<p class=\"fruit best\" id=\"orange\" title=\"오렌지\">\n",
       "<span class=\"price\"> 500원 </span>\n",
       "<span class=\"count\"> 20개 </span>\n",
       "<span class=\"store\"> 오렌지가게</span>\n",
       "<a href=\"https://www.orange.com\"> orange.com </a>\n",
       "<span>\n",
       "<a href=\"https://www.orange.blog/\">오렌지 효능</a>\n",
       "</span>\n",
       "</p>\n",
       "</div>\n",
       "</body>\n",
       "</html>"
      ]
     },
     "execution_count": 19,
     "metadata": {},
     "output_type": "execute_result"
    }
   ],
   "source": [
    "soup # 이건 객체 !"
   ]
  },
  {
   "cell_type": "code",
   "execution_count": null,
   "id": "b1989d4d-2f8b-45ee-9424-1cb4662eef2c",
   "metadata": {},
   "outputs": [],
   "source": [
    "soup."
   ]
  },
  {
   "cell_type": "markdown",
   "id": "5123d8a7-aae7-480e-b908-3e2584e772c3",
   "metadata": {},
   "source": [
    "##  매서드를 사용한 요소 탐색"
   ]
  },
  {
   "cell_type": "code",
   "execution_count": 20,
   "id": "e49be0f3-ec5c-45da-a5fe-3aeab716fe5f",
   "metadata": {},
   "outputs": [],
   "source": [
    "# select는 css를 사용해 찾는 것 !\n",
    "# find 태그, id, class\n",
    "# class_ 인 이유 - class는 예약어라서 구분하는 것\n",
    "# find -> 단일 요소 찾기 find_all -> 다 찾기"
   ]
  },
  {
   "cell_type": "code",
   "execution_count": 21,
   "id": "661fb6c3-9140-42ca-8785-69ad511f9919",
   "metadata": {},
   "outputs": [
    {
     "data": {
      "text/plain": [
       "\u001b[1;31mSignature:\u001b[0m \u001b[0msoup\u001b[0m\u001b[1;33m.\u001b[0m\u001b[0mfind\u001b[0m\u001b[1;33m(\u001b[0m\u001b[0mname\u001b[0m\u001b[1;33m=\u001b[0m\u001b[1;32mNone\u001b[0m\u001b[1;33m,\u001b[0m \u001b[0mattrs\u001b[0m\u001b[1;33m=\u001b[0m\u001b[1;33m{\u001b[0m\u001b[1;33m}\u001b[0m\u001b[1;33m,\u001b[0m \u001b[0mrecursive\u001b[0m\u001b[1;33m=\u001b[0m\u001b[1;32mTrue\u001b[0m\u001b[1;33m,\u001b[0m \u001b[0mstring\u001b[0m\u001b[1;33m=\u001b[0m\u001b[1;32mNone\u001b[0m\u001b[1;33m,\u001b[0m \u001b[1;33m**\u001b[0m\u001b[0mkwargs\u001b[0m\u001b[1;33m)\u001b[0m\u001b[1;33m\u001b[0m\u001b[1;33m\u001b[0m\u001b[0m\n",
       "\u001b[1;31mDocstring:\u001b[0m\n",
       "Look in the children of this PageElement and find the first\n",
       "PageElement that matches the given criteria.\n",
       "\n",
       "All find_* methods take a common set of arguments. See the online\n",
       "documentation for detailed explanations.\n",
       "\n",
       ":param name: A filter on tag name.\n",
       ":param attrs: A dictionary of filters on attribute values.\n",
       ":param recursive: If this is True, find() will perform a\n",
       "    recursive search of this PageElement's children. Otherwise,\n",
       "    only the direct children will be considered.\n",
       ":param limit: Stop looking after finding this many results.\n",
       ":kwargs: A dictionary of filters on attribute values.\n",
       ":return: A PageElement.\n",
       ":rtype: bs4.element.Tag | bs4.element.NavigableString\n",
       "\u001b[1;31mFile:\u001b[0m      c:\\users\\choiminsoo\\anaconda3\\lib\\site-packages\\bs4\\element.py\n",
       "\u001b[1;31mType:\u001b[0m      method"
      ]
     },
     "metadata": {},
     "output_type": "display_data"
    }
   ],
   "source": [
    "soup.find?"
   ]
  },
  {
   "cell_type": "code",
   "execution_count": 23,
   "id": "9820141f-5442-40b7-8ba8-2868f9c94c44",
   "metadata": {},
   "outputs": [
    {
     "data": {
      "text/plain": [
       "<p class=\"fruit\" id=\"banana\" title=\"바나나\">\n",
       "<span class=\"price\"> 3000원 </span>\n",
       "<span class=\"count\"> 10개 </span>\n",
       "<span class=\"store\"> 바나나가게 </span>\n",
       "<a href=\"https://www.banana.com\"> banana.com </a>\n",
       "</p>"
      ]
     },
     "execution_count": 23,
     "metadata": {},
     "output_type": "execute_result"
    }
   ],
   "source": [
    "soup.find('p') # find는 단일요소 찾기라서 p 가 3개였지만 한개만 찾아다줌(제일 위에꺼)"
   ]
  },
  {
   "cell_type": "code",
   "execution_count": 26,
   "id": "f769128e-cfcc-4728-b03a-46297b197815",
   "metadata": {},
   "outputs": [
    {
     "data": {
      "text/plain": [
       "bs4.element.Tag"
      ]
     },
     "execution_count": 26,
     "metadata": {},
     "output_type": "execute_result"
    }
   ],
   "source": [
    "type(soup.find('p')) # 얘도 객체(문자열, 리스트 아님: DOM 객체를 만들었고, 그 안의 Tag 객체를 만든 것)"
   ]
  },
  {
   "cell_type": "code",
   "execution_count": 27,
   "id": "c49432b2-4c71-4548-b932-80010862307f",
   "metadata": {},
   "outputs": [],
   "source": [
    "# 여기서 문자열 뽑으면 데이터 타입 객체를 뽑는 것"
   ]
  },
  {
   "cell_type": "code",
   "execution_count": 28,
   "id": "8f63d23d-2da8-471f-b7c9-98a720d6790d",
   "metadata": {},
   "outputs": [
    {
     "data": {
      "text/plain": [
       "[<p class=\"fruit\" id=\"banana\" title=\"바나나\">\n",
       " <span class=\"price\"> 3000원 </span>\n",
       " <span class=\"count\"> 10개 </span>\n",
       " <span class=\"store\"> 바나나가게 </span>\n",
       " <a href=\"https://www.banana.com\"> banana.com </a>\n",
       " </p>,\n",
       " <p class=\"fruit\" id=\"cherry\" title=\"체리\">\n",
       " <span class=\"price\"> 100원 </span>\n",
       " <span class=\"count\"> 50개 </span>\n",
       " <span class=\"store\"> 체리가게</span>\n",
       " <a href=\"https://www.cherry.com\"> cherry.com </a>\n",
       " </p>,\n",
       " <p class=\"fruit best\" id=\"orange\" title=\"오렌지\">\n",
       " <span class=\"price\"> 500원 </span>\n",
       " <span class=\"count\"> 20개 </span>\n",
       " <span class=\"store\"> 오렌지가게</span>\n",
       " <a href=\"https://www.orange.com\"> orange.com </a>\n",
       " <span>\n",
       " <a href=\"https://www.orange.blog/\">오렌지 효능</a>\n",
       " </span>\n",
       " </p>]"
      ]
     },
     "execution_count": 28,
     "metadata": {},
     "output_type": "execute_result"
    }
   ],
   "source": [
    "soup.find_all('p')"
   ]
  },
  {
   "cell_type": "code",
   "execution_count": 30,
   "id": "3c56a46c-eb1e-430c-b064-2e2447f10dab",
   "metadata": {},
   "outputs": [
    {
     "data": {
      "text/plain": [
       "bs4.element.ResultSet"
      ]
     },
     "execution_count": 30,
     "metadata": {},
     "output_type": "execute_result"
    }
   ],
   "source": [
    "type(soup.find_all('p')) # 얘도 리스트가 아니라 객체(아직 요소 안에까지 안들어간거라서 객체로 들어가는 것)"
   ]
  },
  {
   "cell_type": "code",
   "execution_count": 32,
   "id": "d806f1d3-8501-4a5d-aa76-b7e845cd49c1",
   "metadata": {},
   "outputs": [
    {
     "data": {
      "text/plain": [
       "<p class=\"fruit best\" id=\"orange\" title=\"오렌지\">\n",
       "<span class=\"price\"> 500원 </span>\n",
       "<span class=\"count\"> 20개 </span>\n",
       "<span class=\"store\"> 오렌지가게</span>\n",
       "<a href=\"https://www.orange.com\"> orange.com </a>\n",
       "<span>\n",
       "<a href=\"https://www.orange.blog/\">오렌지 효능</a>\n",
       "</span>\n",
       "</p>"
      ]
     },
     "execution_count": 32,
     "metadata": {},
     "output_type": "execute_result"
    }
   ],
   "source": [
    "# find로 오렌지를 찾고 싶은데 p 떄리면 바나나만 나옴\n",
    "soup.find('p',id = 'orange')"
   ]
  },
  {
   "cell_type": "code",
   "execution_count": null,
   "id": "a2854e4e-4618-454c-abf8-839c973c2b6d",
   "metadata": {},
   "outputs": [],
   "source": [
    "# class 찾기 - 여기선 group label의 역할\n",
    "soup.find('p',id = 'orange')\n",
    "# <p class=\"fruit best\" id=\"orange\" title=\"오렌지\"> <-여기서 p 뿐만 아니라 class를 가지고도 찾아올 수가 있음,\n",
    "# 태그 하나론 불가능(너무 많아서) 보통 태그 + 클래스로 찾아옴"
   ]
  },
  {
   "cell_type": "code",
   "execution_count": 33,
   "id": "cf7e5014-91e7-473a-a65d-9c2c70778b36",
   "metadata": {},
   "outputs": [
    {
     "data": {
      "text/plain": [
       "[<p class=\"fruit\" id=\"banana\" title=\"바나나\">\n",
       " <span class=\"price\"> 3000원 </span>\n",
       " <span class=\"count\"> 10개 </span>\n",
       " <span class=\"store\"> 바나나가게 </span>\n",
       " <a href=\"https://www.banana.com\"> banana.com </a>\n",
       " </p>,\n",
       " <p class=\"fruit\" id=\"cherry\" title=\"체리\">\n",
       " <span class=\"price\"> 100원 </span>\n",
       " <span class=\"count\"> 50개 </span>\n",
       " <span class=\"store\"> 체리가게</span>\n",
       " <a href=\"https://www.cherry.com\"> cherry.com </a>\n",
       " </p>,\n",
       " <p class=\"fruit best\" id=\"orange\" title=\"오렌지\">\n",
       " <span class=\"price\"> 500원 </span>\n",
       " <span class=\"count\"> 20개 </span>\n",
       " <span class=\"store\"> 오렌지가게</span>\n",
       " <a href=\"https://www.orange.com\"> orange.com </a>\n",
       " <span>\n",
       " <a href=\"https://www.orange.blog/\">오렌지 효능</a>\n",
       " </span>\n",
       " </p>]"
      ]
     },
     "execution_count": 33,
     "metadata": {},
     "output_type": "execute_result"
    }
   ],
   "source": [
    "soup.find_all(class_='fruit')"
   ]
  },
  {
   "cell_type": "markdown",
   "id": "f87c812e-bbac-48a4-8375-022ac5789380",
   "metadata": {},
   "source": [
    "## select\r",
    "- \n",
    "find와 select의 차이, select는 css선택자 사용, 관계 연결 가능- \r\n",
    "find와 select와 조건 방식이 다- 름\r\n",
    "find 와 select_one은 단일 태그값 만   - 반환\r\n",
    "find_all과 select는 모든 tag를 list로-  반환\r\n",
    "soup.select/select_one(태그, '#orange', '.fru- it')\r\n",
    "soup.select() : 모든 요소 찾기 --> CSS 선택자 * soup.select_one() : 첫번째 요소 찾기요소 찾기"
   ]
  },
  {
   "cell_type": "code",
   "execution_count": 36,
   "id": "62f31544-9423-4c41-9843-1587b11a0ca5",
   "metadata": {},
   "outputs": [],
   "source": [
    "# soup select만 하면 여러개\n",
    "# select_one 하면 한개"
   ]
  },
  {
   "cell_type": "code",
   "execution_count": 37,
   "id": "bd525622-4e71-42b1-b94f-912235a11f70",
   "metadata": {
    "scrolled": true
   },
   "outputs": [
    {
     "data": {
      "text/plain": [
       "\u001b[1;31mSignature:\u001b[0m \u001b[0msoup\u001b[0m\u001b[1;33m.\u001b[0m\u001b[0mselect\u001b[0m\u001b[1;33m(\u001b[0m\u001b[0mselector\u001b[0m\u001b[1;33m,\u001b[0m \u001b[0mnamespaces\u001b[0m\u001b[1;33m=\u001b[0m\u001b[1;32mNone\u001b[0m\u001b[1;33m,\u001b[0m \u001b[0mlimit\u001b[0m\u001b[1;33m=\u001b[0m\u001b[1;32mNone\u001b[0m\u001b[1;33m,\u001b[0m \u001b[1;33m**\u001b[0m\u001b[0mkwargs\u001b[0m\u001b[1;33m)\u001b[0m\u001b[1;33m\u001b[0m\u001b[1;33m\u001b[0m\u001b[0m\n",
       "\u001b[1;31mDocstring:\u001b[0m\n",
       "Perform a CSS selection operation on the current element.\n",
       "\n",
       "This uses the SoupSieve library.\n",
       "\n",
       ":param selector: A string containing a CSS selector.\n",
       "\n",
       ":param namespaces: A dictionary mapping namespace prefixes\n",
       "   used in the CSS selector to namespace URIs. By default,\n",
       "   Beautiful Soup will use the prefixes it encountered while\n",
       "   parsing the document.\n",
       "\n",
       ":param limit: After finding this number of results, stop looking.\n",
       "\n",
       ":param kwargs: Keyword arguments to be passed into SoupSieve's\n",
       "   soupsieve.select() method.\n",
       "\n",
       ":return: A ResultSet of Tags.\n",
       ":rtype: bs4.element.ResultSet\n",
       "\u001b[1;31mFile:\u001b[0m      c:\\users\\choiminsoo\\anaconda3\\lib\\site-packages\\bs4\\element.py\n",
       "\u001b[1;31mType:\u001b[0m      method"
      ]
     },
     "metadata": {},
     "output_type": "display_data"
    }
   ],
   "source": [
    "soup.select?"
   ]
  },
  {
   "cell_type": "code",
   "execution_count": 38,
   "id": "67b0eafa-c716-4cf9-8f43-306008603541",
   "metadata": {},
   "outputs": [
    {
     "data": {
      "text/plain": [
       "[<p class=\"fruit\" id=\"banana\" title=\"바나나\">\n",
       " <span class=\"price\"> 3000원 </span>\n",
       " <span class=\"count\"> 10개 </span>\n",
       " <span class=\"store\"> 바나나가게 </span>\n",
       " <a href=\"https://www.banana.com\"> banana.com </a>\n",
       " </p>,\n",
       " <p class=\"fruit\" id=\"cherry\" title=\"체리\">\n",
       " <span class=\"price\"> 100원 </span>\n",
       " <span class=\"count\"> 50개 </span>\n",
       " <span class=\"store\"> 체리가게</span>\n",
       " <a href=\"https://www.cherry.com\"> cherry.com </a>\n",
       " </p>,\n",
       " <p class=\"fruit best\" id=\"orange\" title=\"오렌지\">\n",
       " <span class=\"price\"> 500원 </span>\n",
       " <span class=\"count\"> 20개 </span>\n",
       " <span class=\"store\"> 오렌지가게</span>\n",
       " <a href=\"https://www.orange.com\"> orange.com </a>\n",
       " <span>\n",
       " <a href=\"https://www.orange.blog/\">오렌지 효능</a>\n",
       " </span>\n",
       " </p>]"
      ]
     },
     "execution_count": 38,
     "metadata": {},
     "output_type": "execute_result"
    }
   ],
   "source": [
    "soup.select('p')\n",
    "#find는 태그 요소를 찾음\n",
    "#select는 관계를 찾음 -> 그래서 복수 검색"
   ]
  },
  {
   "cell_type": "code",
   "execution_count": 39,
   "id": "f5fd5940-0f14-4210-96b1-232ff0deb671",
   "metadata": {},
   "outputs": [
    {
     "data": {
      "text/plain": [
       "<p class=\"fruit\" id=\"banana\" title=\"바나나\">\n",
       "<span class=\"price\"> 3000원 </span>\n",
       "<span class=\"count\"> 10개 </span>\n",
       "<span class=\"store\"> 바나나가게 </span>\n",
       "<a href=\"https://www.banana.com\"> banana.com </a>\n",
       "</p>"
      ]
     },
     "execution_count": 39,
     "metadata": {},
     "output_type": "execute_result"
    }
   ],
   "source": [
    "soup.select_one('p')\n",
    "#1개만 나옴(가장 먼저 만나는 1개의 관계만 반환하겠다!)"
   ]
  },
  {
   "cell_type": "code",
   "execution_count": 41,
   "id": "6f38d93c-be29-4d4b-9cb6-b2ba11aa804b",
   "metadata": {},
   "outputs": [
    {
     "data": {
      "text/plain": [
       "[<p class=\"fruit best\" id=\"orange\" title=\"오렌지\">\n",
       " <span class=\"price\"> 500원 </span>\n",
       " <span class=\"count\"> 20개 </span>\n",
       " <span class=\"store\"> 오렌지가게</span>\n",
       " <a href=\"https://www.orange.com\"> orange.com </a>\n",
       " <span>\n",
       " <a href=\"https://www.orange.blog/\">오렌지 효능</a>\n",
       " </span>\n",
       " </p>]"
      ]
     },
     "execution_count": 41,
     "metadata": {},
     "output_type": "execute_result"
    }
   ],
   "source": [
    "# css 셀렉터 문법\n",
    "soup.select('#orange') # 여기선 아이디를 #(샾)으로 표현함"
   ]
  },
  {
   "cell_type": "code",
   "execution_count": 43,
   "id": "c489d35a-907a-4e74-ba8c-f171bb4d84ed",
   "metadata": {},
   "outputs": [
    {
     "data": {
      "text/plain": [
       "<p class=\"fruit best\" id=\"orange\" title=\"오렌지\">\n",
       "<span class=\"price\"> 500원 </span>\n",
       "<span class=\"count\"> 20개 </span>\n",
       "<span class=\"store\"> 오렌지가게</span>\n",
       "<a href=\"https://www.orange.com\"> orange.com </a>\n",
       "<span>\n",
       "<a href=\"https://www.orange.blog/\">오렌지 효능</a>\n",
       "</span>\n",
       "</p>"
      ]
     },
     "execution_count": 43,
     "metadata": {},
     "output_type": "execute_result"
    }
   ],
   "source": [
    "soup.select_one('#orange') # 아이디는 유니크하기 때문에 1개만 나와서 select나 select_one이나 검색결과는 차이가 없음\n",
    "#리스트로 감싸져있는지 없는지 차이만 있음(select가 리스트로 감싸져있음)"
   ]
  },
  {
   "cell_type": "code",
   "execution_count": 45,
   "id": "f49a39db-ced0-45ba-8f5b-39973904a519",
   "metadata": {},
   "outputs": [
    {
     "data": {
      "text/plain": [
       "[<span class=\"price\"> 3000원 </span>,\n",
       " <span class=\"price\"> 100원 </span>,\n",
       " <span class=\"price\"> 500원 </span>]"
      ]
     },
     "execution_count": 45,
     "metadata": {},
     "output_type": "execute_result"
    }
   ],
   "source": [
    "soup.select('.price') # class 속성\n",
    "#itterable하다는 뜻(리스트로 감싸져있음: 리스트의 특징을 가지고 있는 객체 = for 문을 돌릴 수 있음)"
   ]
  },
  {
   "cell_type": "code",
   "execution_count": 46,
   "id": "f5b3b518-d6bb-49da-9295-cbd08c9bb9f4",
   "metadata": {},
   "outputs": [
    {
     "data": {
      "text/plain": [
       "[<p class=\"fruit best\" id=\"orange\" title=\"오렌지\">\n",
       " <span class=\"price\"> 500원 </span>\n",
       " <span class=\"count\"> 20개 </span>\n",
       " <span class=\"store\"> 오렌지가게</span>\n",
       " <a href=\"https://www.orange.com\"> orange.com </a>\n",
       " <span>\n",
       " <a href=\"https://www.orange.blog/\">오렌지 효능</a>\n",
       " </span>\n",
       " </p>]"
      ]
     },
     "execution_count": 46,
     "metadata": {},
     "output_type": "execute_result"
    }
   ],
   "source": [
    "# AND 관계\n",
    "soup.select('p#orange') # p와 orange 모두 해당하는 것만 반환"
   ]
  },
  {
   "cell_type": "code",
   "execution_count": 48,
   "id": "56c3879b-f17d-421b-bcde-9f64e31102c4",
   "metadata": {},
   "outputs": [
    {
     "data": {
      "text/plain": [
       "[<span class=\"store\"> 바나나가게 </span>,\n",
       " <a href=\"https://www.banana.com\"> banana.com </a>,\n",
       " <span class=\"store\"> 체리가게</span>,\n",
       " <a href=\"https://www.cherry.com\"> cherry.com </a>,\n",
       " <span class=\"store\"> 오렌지가게</span>,\n",
       " <a href=\"https://www.orange.com\"> orange.com </a>,\n",
       " <a href=\"https://www.orange.blog/\">오렌지 효능</a>]"
      ]
     },
     "execution_count": 48,
     "metadata": {},
     "output_type": "execute_result"
    }
   ],
   "source": [
    "# OR 관계 = a 태그 또는 store 클래스에 해당하는 모든 요소를 찾아줘\n",
    "soup.select('a, .store') # a 태그들은 class가 없지만 ,는 or 이라서 a 태그와 class 태그 둘중 하나만 가져도 다 반환함\n",
    "# , = or 관계"
   ]
  },
  {
   "cell_type": "code",
   "execution_count": 50,
   "id": "d4e18fa5-f964-4442-a8c2-ca6e9ad00961",
   "metadata": {},
   "outputs": [
    {
     "data": {
      "text/plain": [
       "[<p class=\"fruit best\" id=\"orange\" title=\"오렌지\">\n",
       " <span class=\"price\"> 500원 </span>\n",
       " <span class=\"count\"> 20개 </span>\n",
       " <span class=\"store\"> 오렌지가게</span>\n",
       " <a href=\"https://www.orange.com\"> orange.com </a>\n",
       " <span>\n",
       " <a href=\"https://www.orange.blog/\">오렌지 효능</a>\n",
       " </span>\n",
       " </p>]"
      ]
     },
     "execution_count": 50,
     "metadata": {},
     "output_type": "execute_result"
    }
   ],
   "source": [
    "soup.select('.fruit.best') # class가 2개인 값도 찾아줌: 클래스는 group label이라서 여러개의 class를 부여할 수도 있음"
   ]
  },
  {
   "cell_type": "code",
   "execution_count": 53,
   "id": "4728ccde-1993-4ac6-86b7-dc3a85781bbd",
   "metadata": {},
   "outputs": [
    {
     "data": {
      "text/plain": [
       "[<a href=\"https://www.orange.com\"> orange.com </a>]"
      ]
     },
     "execution_count": 53,
     "metadata": {},
     "output_type": "execute_result"
    }
   ],
   "source": [
    "# p 태그 안에 있는 url 뽑고 싶을 때\n",
    "soup.select('.fruit.best>a')\n",
    "# >     <- 자식(저거 안에 있는 a를 찾아줘)"
   ]
  },
  {
   "cell_type": "code",
   "execution_count": 55,
   "id": "3c7dfbb5-6a6e-4664-984e-85f3f0d3f0a0",
   "metadata": {},
   "outputs": [
    {
     "data": {
      "text/plain": [
       "[<a href=\"https://www.orange.com\"> orange.com </a>]"
      ]
     },
     "execution_count": 55,
     "metadata": {},
     "output_type": "execute_result"
    }
   ],
   "source": [
    "soup.select('.fruit.best > a') \n",
    "#공백 되긴 함, 그런데 권장하지 않음"
   ]
  },
  {
   "cell_type": "code",
   "execution_count": 57,
   "id": "8096f9cf-f301-4a9e-933f-76c39bd51c4d",
   "metadata": {},
   "outputs": [
    {
     "data": {
      "text/plain": [
       "[<a href=\"https://www.orange.com\"> orange.com </a>,\n",
       " <a href=\"https://www.orange.blog/\">오렌지 효능</a>]"
      ]
     },
     "execution_count": 57,
     "metadata": {},
     "output_type": "execute_result"
    }
   ],
   "source": [
    "soup.select('.fruit.best a') # 공백은 자손을 의미.(내 자식, 손주 등등 전부 다 해당됨)\n",
    "#공백 자체가 의미가 있기 때문에 가독성때문에 띄어쓰기는 권장하지 않음"
   ]
  },
  {
   "cell_type": "code",
   "execution_count": 59,
   "id": "91e3a7d9-0953-4917-8d59-01d2753e602e",
   "metadata": {},
   "outputs": [
    {
     "data": {
      "text/plain": [
       "[<a href=\"https://www.orange.blog/\">오렌지 효능</a>]"
      ]
     },
     "execution_count": 59,
     "metadata": {},
     "output_type": "execute_result"
    }
   ],
   "source": [
    "soup.select('.fruit.best>span>a')"
   ]
  },
  {
   "cell_type": "code",
   "execution_count": 61,
   "id": "dc27af33-a67b-4c32-8e9b-1c604d821ed3",
   "metadata": {},
   "outputs": [
    {
     "data": {
      "text/plain": [
       "bs4.element.ResultSet"
      ]
     },
     "execution_count": 61,
     "metadata": {},
     "output_type": "execute_result"
    }
   ],
   "source": [
    "type(soup.select('.fruit.best a'))"
   ]
  },
  {
   "cell_type": "code",
   "execution_count": 64,
   "id": "5c06ce08-4955-4053-9102-a479e6681f17",
   "metadata": {},
   "outputs": [
    {
     "data": {
      "text/plain": [
       "bs4.element.Tag"
      ]
     },
     "execution_count": 64,
     "metadata": {},
     "output_type": "execute_result"
    }
   ],
   "source": [
    "type(soup.select('.fruit.best a')[0])\n",
    "# 태그 객체가 모여서 result 객체가 됐음\n",
    "#실제 전체 본 소스가 다 모여있는 거가 result고 그 안에 각각의 tag 요소들이 있음\n",
    "# 각각의 tag 요소들을 보면 데이터 타입으로 데이터가 들어있음\n",
    "# select_one 하면 단일로 tag 요소가 반환이 됨(result 요소로 묶이지 않고)"
   ]
  },
  {
   "cell_type": "code",
   "execution_count": 65,
   "id": "7d71b597-b276-4a8b-8944-419054ded018",
   "metadata": {},
   "outputs": [],
   "source": [
    "# 오로지 tag 객체에서만 조회 메서드를 활용할 수 있음, result에선 안됨"
   ]
  },
  {
   "cell_type": "code",
   "execution_count": 97,
   "id": "5bf14cca-118a-445e-a50b-c677b16c92bf",
   "metadata": {},
   "outputs": [
    {
     "data": {
      "text/plain": [
       "'오렌지 효능'"
      ]
     },
     "execution_count": 97,
     "metadata": {},
     "output_type": "execute_result"
    }
   ],
   "source": [
    "soup.select('.fruit.best a')[0].text"
   ]
  },
  {
   "cell_type": "code",
   "execution_count": 71,
   "id": "dbfac5d5-277a-484d-bb9e-56b13481d291",
   "metadata": {},
   "outputs": [
    {
     "data": {
      "text/plain": [
       "<a href=\"https://www.orange.com\"> orange.com </a>"
      ]
     },
     "execution_count": 71,
     "metadata": {},
     "output_type": "execute_result"
    }
   ],
   "source": [
    "mylist = soup.select('.fruit.best a')[0]\n",
    "mylist"
   ]
  },
  {
   "cell_type": "code",
   "execution_count": null,
   "id": "f31fee82-1150-48c5-b9ca-3d54f4ce241c",
   "metadata": {},
   "outputs": [],
   "source": [
    "mylist. # 탭 해보면 사용할 수 있는게 많다ㅏ"
   ]
  },
  {
   "cell_type": "code",
   "execution_count": 110,
   "id": "c07fbbca-abc4-42fc-8221-7dad1ab40c3c",
   "metadata": {},
   "outputs": [
    {
     "data": {
      "text/plain": [
       "[<a href=\"https://www.orange.com\"> orange.com </a>,\n",
       " <a href=\"https://www.orange.blog/\">오렌지 효능</a>]"
      ]
     },
     "execution_count": 110,
     "metadata": {},
     "output_type": "execute_result"
    }
   ],
   "source": [
    "yourlist = soup.select('.fruit.best a')\n",
    "yourlist\n",
    "# 이게 다 객체"
   ]
  },
  {
   "cell_type": "code",
   "execution_count": 108,
   "id": "2c62adf6-f348-4e5d-a88e-577b9e60b349",
   "metadata": {},
   "outputs": [
    {
     "name": "stdout",
     "output_type": "stream",
     "text": [
      " orange.com \n",
      "오렌지 효능\n"
     ]
    }
   ],
   "source": [
    "yourlist = soup.select('.fruit.best a')\n",
    "for i in yourlist:\n",
    "    print(i.text)"
   ]
  },
  {
   "cell_type": "code",
   "execution_count": 114,
   "id": "b2c7c9ba-166f-4759-b221-98117876f2e7",
   "metadata": {},
   "outputs": [
    {
     "name": "stdout",
     "output_type": "stream",
     "text": [
      " orange.com \n",
      "오렌지 효능\n"
     ]
    }
   ],
   "source": [
    "# 태그 객체 > result 객체 > Dom 객체\n",
    "# 태그까지 파고들어야 메서드 객체를 활용할 수 있다\n",
    "for tagItem in yourlist :\n",
    "    print(tagItem.text)"
   ]
  },
  {
   "cell_type": "code",
   "execution_count": 115,
   "id": "917fb5a6-503b-44d0-ac26-9057946a329d",
   "metadata": {},
   "outputs": [],
   "source": [
    "# href = a 태그의 속성"
   ]
  },
  {
   "cell_type": "code",
   "execution_count": 116,
   "id": "833b3c39-8bd8-4b16-a15a-9359208456ca",
   "metadata": {},
   "outputs": [
    {
     "data": {
      "text/plain": [
       "'https://www.orange.blog/'"
      ]
     },
     "execution_count": 116,
     "metadata": {},
     "output_type": "execute_result"
    }
   ],
   "source": [
    "tagItem['href']"
   ]
  },
  {
   "cell_type": "code",
   "execution_count": 117,
   "id": "0df10810-583a-4a60-9e5c-5837b2a4b6b4",
   "metadata": {},
   "outputs": [
    {
     "name": "stdout",
     "output_type": "stream",
     "text": [
      "https://www.orange.com\n",
      "https://www.orange.blog/\n"
     ]
    }
   ],
   "source": [
    "for tagItem in yourlist :\n",
    "    print(tagItem['href'])"
   ]
  },
  {
   "cell_type": "markdown",
   "id": "b6fa8a6d-6700-4764-964f-b10961ed2abb",
   "metadata": {},
   "source": [
    "## Quiz"
   ]
  },
  {
   "cell_type": "code",
   "execution_count": 152,
   "id": "be4c6f10-dca5-4f0a-86ef-7e6ff3aa7484",
   "metadata": {},
   "outputs": [
    {
     "data": {
      "text/plain": [
       "[<span class=\"price\"> 3000원 </span>,\n",
       " <span class=\"count\"> 10개 </span>,\n",
       " <span class=\"store\"> 바나나가게 </span>,\n",
       " <span class=\"price\"> 100원 </span>,\n",
       " <span class=\"count\"> 50개 </span>,\n",
       " <span class=\"store\"> 체리가게</span>,\n",
       " <span class=\"price\"> 500원 </span>,\n",
       " <span class=\"count\"> 20개 </span>,\n",
       " <span class=\"store\"> 오렌지가게</span>,\n",
       " <span>\n",
       " <a href=\"https://www.orange.blog/\">오렌지 효능</a>\n",
       " </span>]"
      ]
     },
     "execution_count": 152,
     "metadata": {},
     "output_type": "execute_result"
    }
   ],
   "source": [
    "aa = soup.select('.fruit>span')\n",
    "aa"
   ]
  },
  {
   "cell_type": "code",
   "execution_count": 140,
   "id": "42c6a2e8-35cc-4147-9a8d-a30d2c9db376",
   "metadata": {},
   "outputs": [
    {
     "data": {
      "text/plain": [
       "[<a href=\"https://www.banana.com\"> banana.com </a>,\n",
       " <a href=\"https://www.cherry.com\"> cherry.com </a>,\n",
       " <a href=\"https://www.orange.com\"> orange.com </a>,\n",
       " <a href=\"https://www.orange.blog/\">오렌지 효능</a>]"
      ]
     },
     "execution_count": 140,
     "metadata": {},
     "output_type": "execute_result"
    }
   ],
   "source": [
    "bb = soup.select('.fruit a')\n",
    "bb"
   ]
  },
  {
   "cell_type": "code",
   "execution_count": 153,
   "id": "9deef4c1-febd-48fd-bfc9-8e16aad1f35f",
   "metadata": {},
   "outputs": [
    {
     "name": "stdout",
     "output_type": "stream",
     "text": [
      " 3000원  10개  바나나가게  100원  50개  체리가게 500원  20개  오렌지가게\n",
      "오렌지 효능\n"
     ]
    }
   ],
   "source": [
    "aa = soup.select('.fruit>span')\n",
    "for i in aa:\n",
    "    print(i.text, end ='')"
   ]
  },
  {
   "cell_type": "code",
   "execution_count": 191,
   "id": "1d9a3652-40b7-4a32-a0f7-cca64a5f59b0",
   "metadata": {},
   "outputs": [
    {
     "name": "stdout",
     "output_type": "stream",
     "text": [
      "<p class=\"fruit\" id=\"banana\" title=\"바나나\">\n",
      "<span class=\"price\"> 3000원 </span>\n",
      "<span class=\"count\"> 10개 </span>\n",
      "<span class=\"store\"> 바나나가게 </span>\n",
      "<a href=\"https://www.banana.com\"> banana.com </a>\n",
      "</p>\n",
      "<p class=\"fruit\" id=\"cherry\" title=\"체리\">\n",
      "<span class=\"price\"> 100원 </span>\n",
      "<span class=\"count\"> 50개 </span>\n",
      "<span class=\"store\"> 체리가게</span>\n",
      "<a href=\"https://www.cherry.com\"> cherry.com </a>\n",
      "</p>\n",
      "<p class=\"fruit best\" id=\"orange\" title=\"오렌지\">\n",
      "<span class=\"price\"> 500원 </span>\n",
      "<span class=\"count\"> 20개 </span>\n",
      "<span class=\"store\"> 오렌지가게</span>\n",
      "<a href=\"https://www.orange.com\"> orange.com </a>\n",
      "<span>\n",
      "<a href=\"https://www.orange.blog/\">오렌지 효능</a>\n",
      "</span>\n",
      "</p>\n"
     ]
    }
   ],
   "source": [
    "for item in soup.select('.fruit'):\n",
    "\n",
    "    print(item)"
   ]
  },
  {
   "cell_type": "code",
   "execution_count": 10,
   "id": "50e98244-4855-4e11-92e1-d2fbdc3cc3fe",
   "metadata": {},
   "outputs": [
    {
     "name": "stdout",
     "output_type": "stream",
     "text": [
      "바나나  3000원   10개   바나나가게  https://www.banana.com\n",
      "체리  100원   50개   체리가게 https://www.cherry.com\n",
      "오렌지  500원   20개   오렌지가게 https://www.orange.com\n"
     ]
    }
   ],
   "source": [
    "# 정답\n",
    "for item in soup.select('.fruit'):  \n",
    "    name = item['title']\n",
    "    price = item.find('span','price').text\n",
    "    count = item.find('span','count').text\n",
    "    store = item.find('span', 'store').text\n",
    "    url = item.find('a')['href']\n",
    "    print(name, price, count, store, url)"
   ]
  },
  {
   "cell_type": "markdown",
   "id": "4df48efe-71b4-4fbd-bcdd-cf793f0a8986",
   "metadata": {},
   "source": [
    "## 요소의 속성 및 텍스트 반환\n",
    "e.name : 요소의 이름 얻기   \n",
    "e['속성명'] : 요소의 속성 얻기   \n",
    "e.attrs : 요소의 속성 목록(dict)   \n",
    "e.string : 요소의 텍스트   \n",
    "e.strings : 자식과 후손 요소 텍스트 목록(iter)   \n",
    "e.text : 자식과 후손 요소의 텍스트를 문자열로 얻기"
   ]
  },
  {
   "cell_type": "code",
   "execution_count": 160,
   "id": "57119588-0ae4-4d30-b1dc-6da50770eacf",
   "metadata": {},
   "outputs": [],
   "source": [
    "e = soup.find('p', id='orange')"
   ]
  },
  {
   "cell_type": "code",
   "execution_count": 168,
   "id": "dc599224-5e35-4f3d-b34f-3291a83ae7da",
   "metadata": {},
   "outputs": [
    {
     "data": {
      "text/plain": [
       "<p class=\"fruit best\" id=\"orange\" title=\"오렌지\">\n",
       "<span class=\"price\"> 500원 </span>\n",
       "<span class=\"count\"> 20개 </span>\n",
       "<span class=\"store\"> 오렌지가게</span>\n",
       "<a href=\"https://www.orange.com\"> orange.com </a>\n",
       "<span>\n",
       "<a href=\"https://www.orange.blog/\">오렌지 효능</a>\n",
       "</span>\n",
       "</p>"
      ]
     },
     "execution_count": 168,
     "metadata": {},
     "output_type": "execute_result"
    }
   ],
   "source": [
    "e"
   ]
  },
  {
   "cell_type": "code",
   "execution_count": 161,
   "id": "3dfa4a4a-8fbc-4e18-9e14-bf40d44030a6",
   "metadata": {},
   "outputs": [
    {
     "data": {
      "text/plain": [
       "bs4.element.Tag"
      ]
     },
     "execution_count": 161,
     "metadata": {},
     "output_type": "execute_result"
    }
   ],
   "source": [
    "type(e)"
   ]
  },
  {
   "cell_type": "code",
   "execution_count": 164,
   "id": "03abe0ab-26b1-440d-a1a4-fde59d5a4cc6",
   "metadata": {},
   "outputs": [
    {
     "data": {
      "text/plain": [
       "'p'"
      ]
     },
     "execution_count": 164,
     "metadata": {},
     "output_type": "execute_result"
    }
   ],
   "source": [
    "e.name #속성 아렬줌"
   ]
  },
  {
   "cell_type": "code",
   "execution_count": 163,
   "id": "2b0ef688-789a-4c72-b705-fa12721a6e8e",
   "metadata": {},
   "outputs": [
    {
     "data": {
      "text/plain": [
       "{'id': 'orange', 'class': ['fruit', 'best'], 'title': '오렌지'}"
      ]
     },
     "execution_count": 163,
     "metadata": {},
     "output_type": "execute_result"
    }
   ],
   "source": [
    "e.attrs # id , class, title이 뭔지 알려준다"
   ]
  },
  {
   "cell_type": "code",
   "execution_count": 165,
   "id": "106d5aee-0b01-47ef-8396-a5cf87596069",
   "metadata": {},
   "outputs": [
    {
     "data": {
      "text/plain": [
       "'오렌지'"
      ]
     },
     "execution_count": 165,
     "metadata": {},
     "output_type": "execute_result"
    }
   ],
   "source": [
    "e.attrs['title']"
   ]
  },
  {
   "cell_type": "code",
   "execution_count": 166,
   "id": "3828a2df-9e99-43f0-b4b1-85a76066c3e1",
   "metadata": {},
   "outputs": [],
   "source": [
    "e.string"
   ]
  },
  {
   "cell_type": "code",
   "execution_count": 167,
   "id": "8c1e5e85-bd1f-41cb-bd8c-f0cd3af76fa9",
   "metadata": {},
   "outputs": [
    {
     "name": "stdout",
     "output_type": "stream",
     "text": [
      "None\n"
     ]
    }
   ],
   "source": [
    "print(e.string)"
   ]
  },
  {
   "cell_type": "code",
   "execution_count": 170,
   "id": "1692bc09-9305-435d-ac32-ae02db4ebb14",
   "metadata": {},
   "outputs": [
    {
     "data": {
      "text/plain": [
       "'\\n 500원 \\n 20개 \\n 오렌지가게\\n orange.com \\n\\n오렌지 효능\\n\\n'"
      ]
     },
     "execution_count": 170,
     "metadata": {},
     "output_type": "execute_result"
    }
   ],
   "source": [
    "e.text"
   ]
  },
  {
   "cell_type": "code",
   "execution_count": 171,
   "id": "f1f7a693-4c97-4ea5-9a7f-63277f9a9a99",
   "metadata": {},
   "outputs": [],
   "source": [
    "#e 는 p 태그인데 p 는 텍스트를 가지고 있지 않음(p 태그의 자손인 apn과 a가 텍스트를 가지고 있음)\n",
    "# 그래서 string에선 아무것도 없음\n",
    "# text는 자손, 후손으로 텍스트를 구분해서 표시해주고 있음"
   ]
  },
  {
   "cell_type": "code",
   "execution_count": 172,
   "id": "7bb4462c-d0de-411d-869e-fe7cd58d7598",
   "metadata": {},
   "outputs": [
    {
     "name": "stdout",
     "output_type": "stream",
     "text": [
      "\n",
      " 500원 \n",
      " 20개 \n",
      " 오렌지가게\n",
      " orange.com \n",
      "\n",
      "오렌지 효능\n",
      "\n",
      "\n"
     ]
    }
   ],
   "source": [
    "print(e.text)"
   ]
  },
  {
   "cell_type": "code",
   "execution_count": 173,
   "id": "3244820f-49a6-4867-99e3-4ba99407a563",
   "metadata": {},
   "outputs": [
    {
     "data": {
      "text/plain": [
       "<generator object Tag._all_strings at 0x0000022C5328AC40>"
      ]
     },
     "execution_count": 173,
     "metadata": {},
     "output_type": "execute_result"
    }
   ],
   "source": [
    "e.strings # 생성해주는 객체, itterable 하지만 출력 하려면 하나씩 반환 해줘야함"
   ]
  },
  {
   "cell_type": "code",
   "execution_count": 175,
   "id": "6b2d8861-3c62-4118-bab7-a714efbe696c",
   "metadata": {},
   "outputs": [
    {
     "data": {
      "text/plain": [
       "\u001b[1;31mType:\u001b[0m        property\n",
       "\u001b[1;31mString form:\u001b[0m <property object at 0x0000022C50D2D210>\n",
       "\u001b[1;31mDocstring:\u001b[0m  \n",
       "Yield all strings of certain classes, possibly stripping them.\n",
       "\n",
       ":param strip: If True, all strings will be stripped before being\n",
       "    yielded.\n",
       "\n",
       ":param types: A tuple of NavigableString subclasses. Any strings of\n",
       "    a subclass not found in this list will be ignored. By\n",
       "    default, the subclasses considered are the ones found in\n",
       "    self.interesting_string_types. If that's not specified,\n",
       "    only NavigableString and CData objects will be\n",
       "    considered. That means no comments, processing\n",
       "    instructions, etc.\n",
       "\n",
       ":yield: A sequence of strings."
      ]
     },
     "metadata": {},
     "output_type": "display_data"
    }
   ],
   "source": [
    "e.strings?"
   ]
  },
  {
   "cell_type": "code",
   "execution_count": 176,
   "id": "d64f4c99-5c95-411d-92bd-ea740a18f7ab",
   "metadata": {},
   "outputs": [
    {
     "name": "stdout",
     "output_type": "stream",
     "text": [
      "\n",
      "\n",
      " 500원 \n",
      "\n",
      "\n",
      " 20개 \n",
      "\n",
      "\n",
      " 오렌지가게\n",
      "\n",
      "\n",
      " orange.com \n",
      "\n",
      "\n",
      "\n",
      "\n",
      "오렌지 효능\n",
      "\n",
      "\n",
      "\n",
      "\n"
     ]
    }
   ],
   "source": [
    "for i in e.strings:\n",
    "    print(i)"
   ]
  },
  {
   "cell_type": "code",
   "execution_count": 177,
   "id": "f580fc87-9829-47f3-ba48-8929fabdc72f",
   "metadata": {},
   "outputs": [],
   "source": [
    "# strings - 객체로 반환, sting, text -  문자열로 반환"
   ]
  },
  {
   "cell_type": "markdown",
   "id": "4f37a801-9bbe-4efc-87e1-15d8c1142152",
   "metadata": {},
   "source": [
    "## 트리 구조를 활용한 요소 탐색\n",
    "e.요소명 : e 하위의 첫번째 요소   \n",
    "e.parent : 부모 요소   \n",
    "e.parents : 모든 조상 요소(iter)   \n",
    "e.contents : 모든 자식 요소(list)   \n",
    "e.children : 모든 자식 요소(iter)   \n",
    "e.descendants : 모든 후손 요소(iter)   \n",
    "e.previous_sibling : 바로 앞의 형제 요소   \n",
    "e.previous_siblings : 모든 앞의 형제 요소(iter)   \n",
    "e.next_sibling : 바로 뒤의 형제 요소   \n",
    "e.next_siblings : 모든 뒤의 형제 요소(iter)   \n",
    "e.previous_element : 바로 앞의 요소   \n",
    "e.previous_elements : 모든 앞에 있는 요소(iter)   \n",
    "e.next_element : 바로 뒤의 요소   \n",
    "e.next_elements : 모든 뒤에 있는 요소(iter)"
   ]
  },
  {
   "cell_type": "code",
   "execution_count": 180,
   "id": "1557510a-eb14-42bf-acbb-abc8e86d8bdb",
   "metadata": {},
   "outputs": [
    {
     "data": {
      "text/plain": [
       "<div>\n",
       "<p class=\"fruit\" id=\"banana\" title=\"바나나\">\n",
       "<span class=\"price\"> 3000원 </span>\n",
       "<span class=\"count\"> 10개 </span>\n",
       "<span class=\"store\"> 바나나가게 </span>\n",
       "<a href=\"https://www.banana.com\"> banana.com </a>\n",
       "</p>\n",
       "<p class=\"fruit\" id=\"cherry\" title=\"체리\">\n",
       "<span class=\"price\"> 100원 </span>\n",
       "<span class=\"count\"> 50개 </span>\n",
       "<span class=\"store\"> 체리가게</span>\n",
       "<a href=\"https://www.cherry.com\"> cherry.com </a>\n",
       "</p>\n",
       "<p class=\"fruit best\" id=\"orange\" title=\"오렌지\">\n",
       "<span class=\"price\"> 500원 </span>\n",
       "<span class=\"count\"> 20개 </span>\n",
       "<span class=\"store\"> 오렌지가게</span>\n",
       "<a href=\"https://www.orange.com\"> orange.com </a>\n",
       "<span>\n",
       "<a href=\"https://www.orange.blog/\">오렌지 효능</a>\n",
       "</span>\n",
       "</p>\n",
       "</div>"
      ]
     },
     "execution_count": 180,
     "metadata": {},
     "output_type": "execute_result"
    }
   ],
   "source": [
    "e.parent"
   ]
  },
  {
   "cell_type": "code",
   "execution_count": 181,
   "id": "5d47236e-27ec-4d43-ad6e-984cce21bad4",
   "metadata": {},
   "outputs": [
    {
     "data": {
      "text/plain": [
       "<generator object PageElement.parents at 0x0000022C5328E740>"
      ]
     },
     "execution_count": 181,
     "metadata": {},
     "output_type": "execute_result"
    }
   ],
   "source": [
    "e.parents"
   ]
  },
  {
   "cell_type": "code",
   "execution_count": 184,
   "id": "bc13f0e3-ea02-4b3e-92d5-542a51c3b6d1",
   "metadata": {},
   "outputs": [
    {
     "name": "stdout",
     "output_type": "stream",
     "text": [
      "div\n",
      "body\n",
      "html\n",
      "[document]\n"
     ]
    }
   ],
   "source": [
    "for i in e.parents:\n",
    "    print(i.name) # 너무ㅡ 기니까 이름만~"
   ]
  },
  {
   "cell_type": "code",
   "execution_count": 186,
   "id": "b18da1c6-3c73-4552-960f-8dcc3d4f883a",
   "metadata": {},
   "outputs": [
    {
     "data": {
      "text/plain": [
       "['\\n',\n",
       " <span class=\"price\"> 500원 </span>,\n",
       " '\\n',\n",
       " <span class=\"count\"> 20개 </span>,\n",
       " '\\n',\n",
       " <span class=\"store\"> 오렌지가게</span>,\n",
       " '\\n',\n",
       " <a href=\"https://www.orange.com\"> orange.com </a>,\n",
       " '\\n',\n",
       " <span>\n",
       " <a href=\"https://www.orange.blog/\">오렌지 효능</a>\n",
       " </span>,\n",
       " '\\n']"
      ]
     },
     "execution_count": 186,
     "metadata": {},
     "output_type": "execute_result"
    }
   ],
   "source": [
    "e.contents"
   ]
  },
  {
   "cell_type": "code",
   "execution_count": 187,
   "id": "6b277646-c268-4bcb-b1a7-e926a5a9f6e5",
   "metadata": {},
   "outputs": [
    {
     "data": {
      "text/plain": [
       "<list_iterator at 0x22c52cf02b0>"
      ]
     },
     "execution_count": 187,
     "metadata": {},
     "output_type": "execute_result"
    }
   ],
   "source": [
    "e.children"
   ]
  },
  {
   "cell_type": "code",
   "execution_count": 189,
   "id": "402522be-976e-4302-a419-5d860519a29d",
   "metadata": {},
   "outputs": [
    {
     "name": "stdout",
     "output_type": "stream",
     "text": [
      "None\n",
      "span\n",
      "None\n",
      "span\n",
      "None\n",
      "span\n",
      "None\n",
      "a\n",
      "None\n",
      "span\n",
      "None\n"
     ]
    }
   ],
   "source": [
    "for i in e.children:\n",
    "    print(i.name)"
   ]
  },
  {
   "cell_type": "code",
   "execution_count": null,
   "id": "d5fd91fd-27d2-4fc9-84fb-4e878391ec0a",
   "metadata": {},
   "outputs": [],
   "source": []
  },
  {
   "cell_type": "code",
   "execution_count": null,
   "id": "facaf687-5b39-426d-a3fe-447863f01318",
   "metadata": {},
   "outputs": [],
   "source": []
  },
  {
   "cell_type": "code",
   "execution_count": null,
   "id": "7a1e9c60-5308-4a29-92de-218659af7da4",
   "metadata": {},
   "outputs": [],
   "source": []
  },
  {
   "cell_type": "code",
   "execution_count": null,
   "id": "f2e18d2f-1caa-4d05-b598-10d64579a03c",
   "metadata": {},
   "outputs": [],
   "source": []
  },
  {
   "cell_type": "code",
   "execution_count": null,
   "id": "6edb409d-968b-4f86-b234-8562cf989af6",
   "metadata": {},
   "outputs": [],
   "source": []
  },
  {
   "cell_type": "code",
   "execution_count": null,
   "id": "ebdb2b5f-7fb1-464c-9a8c-f9f574e7222c",
   "metadata": {},
   "outputs": [],
   "source": []
  },
  {
   "cell_type": "code",
   "execution_count": null,
   "id": "9effbd2c-2bec-427f-a8ba-ac0a4545d33f",
   "metadata": {},
   "outputs": [],
   "source": []
  },
  {
   "cell_type": "code",
   "execution_count": null,
   "id": "d728edc1-08e9-43c7-bb56-1888bfdbdf2f",
   "metadata": {},
   "outputs": [],
   "source": []
  },
  {
   "cell_type": "code",
   "execution_count": null,
   "id": "d6792bed-e04d-4d22-951a-8c8eff7aa22a",
   "metadata": {},
   "outputs": [],
   "source": []
  }
 ],
 "metadata": {
  "kernelspec": {
   "display_name": "Python 3 (ipykernel)",
   "language": "python",
   "name": "python3"
  },
  "language_info": {
   "codemirror_mode": {
    "name": "ipython",
    "version": 3
   },
   "file_extension": ".py",
   "mimetype": "text/x-python",
   "name": "python",
   "nbconvert_exporter": "python",
   "pygments_lexer": "ipython3",
   "version": "3.11.7"
  }
 },
 "nbformat": 4,
 "nbformat_minor": 5
}
