{
 "cells": [
  {
   "cell_type": "markdown",
   "id": "21f9c243-b658-4308-a13d-f81ee95b23f7",
   "metadata": {},
   "source": [
    "## Selenium 사용하기\n",
    "크롬 115이상 버전부터 부터 드라이버 설치 불필요   \n",
    "셀레니움4 부터 문법 변경   \n",
    "https://www.selenium.dev/documentation/"
   ]
  },
  {
   "cell_type": "code",
   "execution_count": null,
   "id": "e7ba3876-8c55-4ec4-a018-ebc34a789bce",
   "metadata": {},
   "outputs": [],
   "source": []
  },
  {
   "cell_type": "code",
   "execution_count": 1,
   "id": "88e741be-2964-4fc9-9f53-760618879dad",
   "metadata": {
    "collapsed": true,
    "jupyter": {
     "outputs_hidden": true
    }
   },
   "outputs": [
    {
     "name": "stdout",
     "output_type": "stream",
     "text": [
      "Collecting selenium\n",
      "  Downloading selenium-4.22.0-py3-none-any.whl.metadata (7.0 kB)\n",
      "Requirement already satisfied: urllib3<3,>=1.26 in c:\\users\\choiminsoo\\anaconda3\\lib\\site-packages (from urllib3[socks]<3,>=1.26->selenium) (2.0.7)\n",
      "Collecting trio~=0.17 (from selenium)\n",
      "  Downloading trio-0.25.1-py3-none-any.whl.metadata (8.7 kB)\n",
      "Collecting trio-websocket~=0.9 (from selenium)\n",
      "  Downloading trio_websocket-0.11.1-py3-none-any.whl.metadata (4.7 kB)\n",
      "Requirement already satisfied: certifi>=2021.10.8 in c:\\users\\choiminsoo\\anaconda3\\lib\\site-packages (from selenium) (2024.2.2)\n",
      "Requirement already satisfied: typing_extensions>=4.9.0 in c:\\users\\choiminsoo\\anaconda3\\lib\\site-packages (from selenium) (4.9.0)\n",
      "Collecting websocket-client>=1.8.0 (from selenium)\n",
      "  Downloading websocket_client-1.8.0-py3-none-any.whl.metadata (8.0 kB)\n",
      "Collecting attrs>=23.2.0 (from trio~=0.17->selenium)\n",
      "  Downloading attrs-23.2.0-py3-none-any.whl.metadata (9.5 kB)\n",
      "Requirement already satisfied: sortedcontainers in c:\\users\\choiminsoo\\anaconda3\\lib\\site-packages (from trio~=0.17->selenium) (2.4.0)\n",
      "Requirement already satisfied: idna in c:\\users\\choiminsoo\\anaconda3\\lib\\site-packages (from trio~=0.17->selenium) (3.4)\n",
      "Collecting outcome (from trio~=0.17->selenium)\n",
      "  Downloading outcome-1.3.0.post0-py2.py3-none-any.whl.metadata (2.6 kB)\n",
      "Requirement already satisfied: sniffio>=1.3.0 in c:\\users\\choiminsoo\\anaconda3\\lib\\site-packages (from trio~=0.17->selenium) (1.3.0)\n",
      "Requirement already satisfied: cffi>=1.14 in c:\\users\\choiminsoo\\anaconda3\\lib\\site-packages (from trio~=0.17->selenium) (1.16.0)\n",
      "Collecting wsproto>=0.14 (from trio-websocket~=0.9->selenium)\n",
      "  Downloading wsproto-1.2.0-py3-none-any.whl.metadata (5.6 kB)\n",
      "Requirement already satisfied: pysocks!=1.5.7,<2.0,>=1.5.6 in c:\\users\\choiminsoo\\anaconda3\\lib\\site-packages (from urllib3[socks]<3,>=1.26->selenium) (1.7.1)\n",
      "Requirement already satisfied: pycparser in c:\\users\\choiminsoo\\anaconda3\\lib\\site-packages (from cffi>=1.14->trio~=0.17->selenium) (2.21)\n",
      "Collecting h11<1,>=0.9.0 (from wsproto>=0.14->trio-websocket~=0.9->selenium)\n",
      "  Downloading h11-0.14.0-py3-none-any.whl.metadata (8.2 kB)\n",
      "Downloading selenium-4.22.0-py3-none-any.whl (9.4 MB)\n",
      "   ---------------------------------------- 0.0/9.4 MB ? eta -:--:--\n",
      "   - -------------------------------------- 0.3/9.4 MB 10.6 MB/s eta 0:00:01\n",
      "   --- ------------------------------------ 0.9/9.4 MB 11.9 MB/s eta 0:00:01\n",
      "   ---- ----------------------------------- 1.1/9.4 MB 8.8 MB/s eta 0:00:01\n",
      "   ------ --------------------------------- 1.6/9.4 MB 9.5 MB/s eta 0:00:01\n",
      "   --------- ------------------------------ 2.2/9.4 MB 10.0 MB/s eta 0:00:01\n",
      "   ----------- ---------------------------- 2.7/9.4 MB 10.2 MB/s eta 0:00:01\n",
      "   -------------- ------------------------- 3.3/9.4 MB 10.6 MB/s eta 0:00:01\n",
      "   ---------------- ----------------------- 3.8/9.4 MB 10.7 MB/s eta 0:00:01\n",
      "   ------------------ --------------------- 4.4/9.4 MB 10.7 MB/s eta 0:00:01\n",
      "   -------------------- ------------------- 4.9/9.4 MB 10.8 MB/s eta 0:00:01\n",
      "   ----------------------- ---------------- 5.5/9.4 MB 10.9 MB/s eta 0:00:01\n",
      "   ------------------------- -------------- 6.0/9.4 MB 11.0 MB/s eta 0:00:01\n",
      "   --------------------------- ------------ 6.5/9.4 MB 11.0 MB/s eta 0:00:01\n",
      "   ----------------------------- ---------- 7.1/9.4 MB 11.0 MB/s eta 0:00:01\n",
      "   -------------------------------- ------- 7.6/9.4 MB 11.1 MB/s eta 0:00:01\n",
      "   ---------------------------------- ----- 8.2/9.4 MB 11.1 MB/s eta 0:00:01\n",
      "   ------------------------------------ --- 8.7/9.4 MB 11.1 MB/s eta 0:00:01\n",
      "   ---------------------------------------  9.2/9.4 MB 11.1 MB/s eta 0:00:01\n",
      "   ---------------------------------------- 9.4/9.4 MB 11.0 MB/s eta 0:00:00\n",
      "Downloading trio-0.25.1-py3-none-any.whl (467 kB)\n",
      "   ---------------------------------------- 0.0/467.7 kB ? eta -:--:--\n",
      "   --------------------------------------  460.8/467.7 kB 14.5 MB/s eta 0:00:01\n",
      "   ---------------------------------------- 467.7/467.7 kB 9.7 MB/s eta 0:00:00\n",
      "Downloading trio_websocket-0.11.1-py3-none-any.whl (17 kB)\n",
      "Downloading websocket_client-1.8.0-py3-none-any.whl (58 kB)\n",
      "   ---------------------------------------- 0.0/58.8 kB ? eta -:--:--\n",
      "   ---------------------------------------- 58.8/58.8 kB ? eta 0:00:00\n",
      "Downloading attrs-23.2.0-py3-none-any.whl (60 kB)\n",
      "   ---------------------------------------- 0.0/60.8 kB ? eta -:--:--\n",
      "   ---------------------------------------- 60.8/60.8 kB ? eta 0:00:00\n",
      "Downloading wsproto-1.2.0-py3-none-any.whl (24 kB)\n",
      "Downloading outcome-1.3.0.post0-py2.py3-none-any.whl (10 kB)\n",
      "Downloading h11-0.14.0-py3-none-any.whl (58 kB)\n",
      "   ---------------------------------------- 0.0/58.3 kB ? eta -:--:--\n",
      "   ---------------------------------------- 58.3/58.3 kB 3.2 MB/s eta 0:00:00\n",
      "Installing collected packages: websocket-client, h11, attrs, wsproto, outcome, trio, trio-websocket, selenium\n",
      "  Attempting uninstall: websocket-client\n",
      "    Found existing installation: websocket-client 0.58.0\n",
      "    Uninstalling websocket-client-0.58.0:\n",
      "      Successfully uninstalled websocket-client-0.58.0\n",
      "  Attempting uninstall: attrs\n",
      "    Found existing installation: attrs 23.1.0\n",
      "    Uninstalling attrs-23.1.0:\n",
      "      Successfully uninstalled attrs-23.1.0\n",
      "Successfully installed attrs-23.2.0 h11-0.14.0 outcome-1.3.0.post0 selenium-4.22.0 trio-0.25.1 trio-websocket-0.11.1 websocket-client-1.8.0 wsproto-1.2.0\n"
     ]
    }
   ],
   "source": [
    "#셀레리움 라이브러리 설치\n",
    "!pip install selenium"
   ]
  },
  {
   "cell_type": "code",
   "execution_count": 5,
   "id": "f93c1556-ad95-4bd9-b72e-b107b9cb13f5",
   "metadata": {},
   "outputs": [
    {
     "data": {
      "text/plain": [
       "<selenium.webdriver.chrome.options.Options at 0x253e4852e90>"
      ]
     },
     "execution_count": 5,
     "metadata": {},
     "output_type": "execute_result"
    }
   ],
   "source": [
    "from selenium import webdriver\n",
    "from selenium.webdriver.common.by import By\n",
    "from selenium.webdriver.chrome.options import Options\n",
    "import time\n",
    "\n",
    "options = Options() # 객체!\n",
    "options # option 은 options의 인스턴스"
   ]
  },
  {
   "cell_type": "code",
   "execution_count": 9,
   "id": "f09c32f8-02c6-4d6a-aa21-9d0ebc52eef1",
   "metadata": {},
   "outputs": [],
   "source": [
    "#특정함수안에서  드라이버 생성시 함수종료될 때 브라우저 같이 종료되는 문제 대응\n",
    "options.add_experimental_option('detach', True)\n",
    "#for 문 반복이 끝나도 브라우저가 같이 꺼지는거 방지하는 기능"
   ]
  },
  {
   "cell_type": "markdown",
   "id": "d676a3a7-abee-4c31-9ac6-31800d4d6646",
   "metadata": {},
   "source": [
    "## 브라우저 실행 및 페이지 접속"
   ]
  },
  {
   "cell_type": "code",
   "execution_count": 11,
   "id": "364eb8fc-fd07-4551-ad0f-25fb8abd22c0",
   "metadata": {},
   "outputs": [],
   "source": [
    "url = 'https://naver.com'\n",
    "driver = webdriver.Chrome(options = options)"
   ]
  },
  {
   "cell_type": "code",
   "execution_count": 13,
   "id": "4fd749e4-c848-40a7-8062-6d5920b21ca0",
   "metadata": {},
   "outputs": [],
   "source": [
    "driver.get(url) # 실행 \n",
    "time.sleep(2) "
   ]
  },
  {
   "cell_type": "markdown",
   "id": "e5195dc8-24cf-4df5-8559-7ef63dbfdc3a",
   "metadata": {},
   "source": [
    "## 상호작용"
   ]
  },
  {
   "cell_type": "code",
   "execution_count": 15,
   "id": "7e0f1c17-68c1-4bac-84eb-8c43ac4cbe4c",
   "metadata": {},
   "outputs": [],
   "source": [
    "driver.back()"
   ]
  },
  {
   "cell_type": "code",
   "execution_count": 16,
   "id": "b95324c0-fb6a-44ce-b4b9-bef60e716724",
   "metadata": {},
   "outputs": [],
   "source": [
    "driver.forward()"
   ]
  },
  {
   "cell_type": "code",
   "execution_count": 17,
   "id": "3f381bde-8a93-4e81-aedb-a3be964b6073",
   "metadata": {},
   "outputs": [],
   "source": [
    "driver.refresh()"
   ]
  },
  {
   "cell_type": "markdown",
   "id": "be54452a-1ad0-4e31-8476-dd47d6b50155",
   "metadata": {},
   "source": [
    "## 페이지 정보 가져오기"
   ]
  },
  {
   "cell_type": "code",
   "execution_count": 20,
   "id": "59ef5232-93b2-4412-ba24-b82c0d62402c",
   "metadata": {},
   "outputs": [
    {
     "name": "stdout",
     "output_type": "stream",
     "text": [
      "NAVER https://www.naver.com/ 48CC5B61F66B99AC14B2A94B6C05A0BF\n"
     ]
    }
   ],
   "source": [
    "title = driver.title\n",
    "url = driver.current_url\n",
    "handle = driver.current_window_handle\n",
    "print(title, url, handle)\n",
    "# 각각 탭에 뜨는 이름, url 창에 주소, 윈도우 창에 대한 ID를 의미\n",
    "#ID가 있다 = 동시에 여러개를 조작할 수 있다"
   ]
  },
  {
   "cell_type": "markdown",
   "id": "dbd94a9d-3c4f-4816-a130-dbbd2f103c5b",
   "metadata": {},
   "source": [
    "## html 요소 찾기\n",
    "네이버 검색창을 핸들링해보자\n",
    "\n",
    "```\n",
    "<input id=\"query\" name=\"query\" type=\"search\" title=\"검색어를 입력해 주세요.\" placeholder=\"검색어를 입력해 주세요.\" maxlength=\"255\" autocomplete=\"off\" class=\"search_input\" data-atcmp-element=\"\">\n",
    "```"
   ]
  },
  {
   "cell_type": "code",
   "execution_count": 21,
   "id": "fecdd7d0-3428-494f-862e-bc192cd2332d",
   "metadata": {},
   "outputs": [
    {
     "data": {
      "text/plain": [
       "\u001b[1;31mSignature:\u001b[0m \u001b[0mdrive\u001b[0m\u001b[1;33m.\u001b[0m\u001b[0mfind_element\u001b[0m\u001b[1;33m(\u001b[0m\u001b[0mby\u001b[0m\u001b[1;33m=\u001b[0m\u001b[1;34m'id'\u001b[0m\u001b[1;33m,\u001b[0m \u001b[0mvalue\u001b[0m\u001b[1;33m:\u001b[0m \u001b[0mOptional\u001b[0m\u001b[1;33m[\u001b[0m\u001b[0mstr\u001b[0m\u001b[1;33m]\u001b[0m \u001b[1;33m=\u001b[0m \u001b[1;32mNone\u001b[0m\u001b[1;33m)\u001b[0m \u001b[1;33m->\u001b[0m \u001b[0mselenium\u001b[0m\u001b[1;33m.\u001b[0m\u001b[0mwebdriver\u001b[0m\u001b[1;33m.\u001b[0m\u001b[0mremote\u001b[0m\u001b[1;33m.\u001b[0m\u001b[0mwebelement\u001b[0m\u001b[1;33m.\u001b[0m\u001b[0mWebElement\u001b[0m\u001b[1;33m\u001b[0m\u001b[1;33m\u001b[0m\u001b[0m\n",
       "\u001b[1;31mDocstring:\u001b[0m\n",
       "Find an element given a By strategy and locator.\n",
       "\n",
       ":Usage:\n",
       "    ::\n",
       "\n",
       "        element = driver.find_element(By.ID, 'foo')\n",
       "\n",
       ":rtype: WebElement\n",
       "\u001b[1;31mFile:\u001b[0m      c:\\users\\choiminsoo\\anaconda3\\lib\\site-packages\\selenium\\webdriver\\remote\\webdriver.py\n",
       "\u001b[1;31mType:\u001b[0m      method"
      ]
     },
     "metadata": {},
     "output_type": "display_data"
    }
   ],
   "source": [
    "drive.find_element?"
   ]
  },
  {
   "cell_type": "code",
   "execution_count": 23,
   "id": "a786bdb6-d6aa-4a0f-8890-0820ba617612",
   "metadata": {},
   "outputs": [
    {
     "data": {
      "text/plain": [
       "<selenium.webdriver.remote.webelement.WebElement (session=\"9d14e74954a721953eee9ef6a5b2fb34\", element=\"f.48CC5B61F66B99AC14B2A94B6C05A0BF.d.4BB2DD7BAAA75A4217C00593CFFAE31E.e.1102\")>"
      ]
     },
     "execution_count": 23,
     "metadata": {},
     "output_type": "execute_result"
    }
   ],
   "source": [
    "driver.find_element(By.ID, 'query')"
   ]
  },
  {
   "cell_type": "code",
   "execution_count": 24,
   "id": "19752e23-4faf-4c37-8d8a-c15e485884a1",
   "metadata": {},
   "outputs": [],
   "source": [
    "# 키 입력\n",
    "driver.find_element(By.ID, 'query').send_keys('뉴진스')"
   ]
  },
  {
   "cell_type": "code",
   "execution_count": 25,
   "id": "19367639-8dbb-451e-a467-4951e1618020",
   "metadata": {},
   "outputs": [],
   "source": [
    "driver.find_element(By.CLASS_NAME, \"search_input\").send_keys('블랙핑크')"
   ]
  },
  {
   "cell_type": "code",
   "execution_count": 26,
   "id": "9977df35-1811-4c9e-88a9-6cdfc7535853",
   "metadata": {},
   "outputs": [],
   "source": [
    "driver.find_element(By.NAME, \"query\").send_keys('르세라핌')"
   ]
  },
  {
   "cell_type": "code",
   "execution_count": 27,
   "id": "a2e89452-e30b-432d-a07d-5121ffde1823",
   "metadata": {},
   "outputs": [],
   "source": [
    "driver.find_element(By.CSS_SELECTOR, \"#query\").send_keys('에스파')"
   ]
  },
  {
   "cell_type": "code",
   "execution_count": 28,
   "id": "87abac8a-eab0-4b01-bf39-9d1badde1057",
   "metadata": {},
   "outputs": [],
   "source": [
    "driver.find_element(By.CSS_SELECTOR, \".search_input\").send_keys('세븐틴')"
   ]
  },
  {
   "cell_type": "code",
   "execution_count": 29,
   "id": "d67e1665-5e4e-4e31-a0c3-02f72f5db7dd",
   "metadata": {},
   "outputs": [],
   "source": [
    "driver.find_element(By.CSS_SELECTOR, \"[title = '검색어를 입력해 주세요.']\").send_keys('트와이스')"
   ]
  },
  {
   "cell_type": "code",
   "execution_count": 31,
   "id": "152c6d9e-a335-451e-8530-f9dfd517a543",
   "metadata": {},
   "outputs": [],
   "source": [
    "driver.find_element(By.XPATH,'//*[@id=\"query\"]').send_keys('BTS')"
   ]
  },
  {
   "cell_type": "markdown",
   "id": "804bd00a-a9a9-423f-96ac-768e59927723",
   "metadata": {},
   "source": [
    "## 클릭\n",
    "네이버 쇼핑 메뉴를 클릭해보자"
   ]
  },
  {
   "cell_type": "code",
   "execution_count": 32,
   "id": "1df46eee-177c-444c-aee8-255270e126a0",
   "metadata": {},
   "outputs": [
    {
     "data": {
      "text/plain": [
       "<selenium.webdriver.remote.webelement.WebElement (session=\"9d14e74954a721953eee9ef6a5b2fb34\", element=\"f.48CC5B61F66B99AC14B2A94B6C05A0BF.d.4BB2DD7BAAA75A4217C00593CFFAE31E.e.1226\")>"
      ]
     },
     "execution_count": 32,
     "metadata": {},
     "output_type": "execute_result"
    }
   ],
   "source": [
    "driver.find_element(By.LINK_TEXT, '쇼핑') # 해당 텍스트가 있는 링크 객체를 찾아줘"
   ]
  },
  {
   "cell_type": "code",
   "execution_count": 33,
   "id": "154580d5-dce5-4d2c-981a-ededf3a51764",
   "metadata": {},
   "outputs": [],
   "source": [
    "driver.find_element(By.LINK_TEXT, '쇼핑').click()"
   ]
  },
  {
   "cell_type": "code",
   "execution_count": 34,
   "id": "80b9b5d8-8f1c-42b0-b0d6-61623213a9f3",
   "metadata": {},
   "outputs": [],
   "source": [
    "# 일부 매칭(일부 키워드만으로 이동하기)\n",
    "driver.find_element(By.PARTIAL_LINK_TEXT, '증').click()"
   ]
  },
  {
   "cell_type": "code",
   "execution_count": 35,
   "id": "981103f9-c3ba-4e05-bbd7-9bf993121a97",
   "metadata": {},
   "outputs": [
    {
     "data": {
      "text/plain": [
       "<selenium.webdriver.remote.webelement.WebElement (session=\"9d14e74954a721953eee9ef6a5b2fb34\", element=\"f.48CC5B61F66B99AC14B2A94B6C05A0BF.d.4BB2DD7BAAA75A4217C00593CFFAE31E.e.1822\")>"
      ]
     },
     "execution_count": 35,
     "metadata": {},
     "output_type": "execute_result"
    }
   ],
   "source": [
    "# 태그로 찾기\n",
    "# 태그는 요소가 너무 많으므로 정확하게 대상을 찾을 때에는 권장 안함\n",
    "driver.find_element(By.TAG_NAME,'div')"
   ]
  },
  {
   "cell_type": "code",
   "execution_count": 36,
   "id": "1585eece-abbf-48e6-b33c-d0d87b7cd488",
   "metadata": {},
   "outputs": [
    {
     "data": {
      "text/plain": [
       "[<selenium.webdriver.remote.webelement.WebElement (session=\"9d14e74954a721953eee9ef6a5b2fb34\", element=\"f.48CC5B61F66B99AC14B2A94B6C05A0BF.d.4BB2DD7BAAA75A4217C00593CFFAE31E.e.1211\")>,\n",
       " <selenium.webdriver.remote.webelement.WebElement (session=\"9d14e74954a721953eee9ef6a5b2fb34\", element=\"f.48CC5B61F66B99AC14B2A94B6C05A0BF.d.4BB2DD7BAAA75A4217C00593CFFAE31E.e.1216\")>,\n",
       " <selenium.webdriver.remote.webelement.WebElement (session=\"9d14e74954a721953eee9ef6a5b2fb34\", element=\"f.48CC5B61F66B99AC14B2A94B6C05A0BF.d.4BB2DD7BAAA75A4217C00593CFFAE31E.e.1221\")>,\n",
       " <selenium.webdriver.remote.webelement.WebElement (session=\"9d14e74954a721953eee9ef6a5b2fb34\", element=\"f.48CC5B61F66B99AC14B2A94B6C05A0BF.d.4BB2DD7BAAA75A4217C00593CFFAE31E.e.1226\")>,\n",
       " <selenium.webdriver.remote.webelement.WebElement (session=\"9d14e74954a721953eee9ef6a5b2fb34\", element=\"f.48CC5B61F66B99AC14B2A94B6C05A0BF.d.4BB2DD7BAAA75A4217C00593CFFAE31E.e.1231\")>,\n",
       " <selenium.webdriver.remote.webelement.WebElement (session=\"9d14e74954a721953eee9ef6a5b2fb34\", element=\"f.48CC5B61F66B99AC14B2A94B6C05A0BF.d.4BB2DD7BAAA75A4217C00593CFFAE31E.e.1236\")>,\n",
       " <selenium.webdriver.remote.webelement.WebElement (session=\"9d14e74954a721953eee9ef6a5b2fb34\", element=\"f.48CC5B61F66B99AC14B2A94B6C05A0BF.d.4BB2DD7BAAA75A4217C00593CFFAE31E.e.1241\")>,\n",
       " <selenium.webdriver.remote.webelement.WebElement (session=\"9d14e74954a721953eee9ef6a5b2fb34\", element=\"f.48CC5B61F66B99AC14B2A94B6C05A0BF.d.4BB2DD7BAAA75A4217C00593CFFAE31E.e.1246\")>,\n",
       " <selenium.webdriver.remote.webelement.WebElement (session=\"9d14e74954a721953eee9ef6a5b2fb34\", element=\"f.48CC5B61F66B99AC14B2A94B6C05A0BF.d.4BB2DD7BAAA75A4217C00593CFFAE31E.e.1251\")>,\n",
       " <selenium.webdriver.remote.webelement.WebElement (session=\"9d14e74954a721953eee9ef6a5b2fb34\", element=\"f.48CC5B61F66B99AC14B2A94B6C05A0BF.d.4BB2DD7BAAA75A4217C00593CFFAE31E.e.1256\")>,\n",
       " <selenium.webdriver.remote.webelement.WebElement (session=\"9d14e74954a721953eee9ef6a5b2fb34\", element=\"f.48CC5B61F66B99AC14B2A94B6C05A0BF.d.4BB2DD7BAAA75A4217C00593CFFAE31E.e.1261\")>,\n",
       " <selenium.webdriver.remote.webelement.WebElement (session=\"9d14e74954a721953eee9ef6a5b2fb34\", element=\"f.48CC5B61F66B99AC14B2A94B6C05A0BF.d.4BB2DD7BAAA75A4217C00593CFFAE31E.e.1266\")>]"
      ]
     },
     "execution_count": 36,
     "metadata": {},
     "output_type": "execute_result"
    }
   ],
   "source": [
    "# 여러 개의 요소를 찾을 때\n",
    "driver.find_elements(By.CSS_SELECTOR, '.link_service')"
   ]
  },
  {
   "cell_type": "code",
   "execution_count": null,
   "id": "9bdf704e-56fe-49fe-a7ce-3ef9d7f216be",
   "metadata": {},
   "outputs": [],
   "source": [
    "#태그 객체 안에 딕셔너리 속성이라 href 사용했었음\n",
    "#지금은 리스트로 엮여있음!"
   ]
  },
  {
   "cell_type": "code",
   "execution_count": 38,
   "id": "db410278-4670-42e1-84eb-3aacf6e0c992",
   "metadata": {},
   "outputs": [
    {
     "data": {
      "text/plain": [
       "'https://mail.naver.com/'"
      ]
     },
     "execution_count": 38,
     "metadata": {},
     "output_type": "execute_result"
    }
   ],
   "source": [
    "driver.find_elements(By.CSS_SELECTOR, '.link_service')[0].get_attribute('href')"
   ]
  },
  {
   "cell_type": "code",
   "execution_count": 43,
   "id": "1fe9bd5d-0d1f-4419-9bc0-ecf133289d47",
   "metadata": {},
   "outputs": [
    {
     "name": "stdout",
     "output_type": "stream",
     "text": [
      "https://mail.naver.com/\n",
      "https://cafe.naver.com/\n",
      "https://blog.naver.com/\n",
      "https://shopping.naver.com/home\n",
      "https://news.naver.com/\n",
      "https://finance.naver.com/\n",
      "https://land.naver.com/\n",
      "https://map.naver.com/\n",
      "https://comic.naver.com/\n",
      "https://chzzk.naver.com/\n",
      "https://www.naver.com/#\n",
      "https://siape.veta.naver.com/rd?rk=4OkQF7JoJKqCyUnDjnr_WQ&eltts=DCLofzx%2FfvfA6IuqtKv45w%3D%3D&elu=5BA297C9C3C09BC2A363AD20A2AF2280AA600BB0F1224856B1E3B0CD8C7D5F6341BB3F4A77A5F39CD5816E901BFB74C92B046500D36C473274A2DF28B9D9C604F0D8675FDAF22A996AAEFDEE92BA1FCD697E5F7ECC82BD74C279AA95D9F31FA9106C54B228F25590EF823CA4768D621930DE9513FAD9CD3EC5D5F708FBFC00BDA1F5B03C00EADE3421C9D4FE1E658652E8C5A37BBB18D79B4D542EF9B859195A8B5F3CB5F7D17DF7D63104BA36F5191223192AE294E03593BF7CA3B054BF55FF7DF70D50D25D1F0D4D87A7831487FDC2AFB8FEA841F79F16EA53276AF68816C7A149514203E223A19FA55EAAC4E98561256439BD31A8DEFDBC8CEF82F716E628B23F8C3BFA407A51086748714615D78698A603B1B20D8157A049045EADF303C7C90C945E9B6678B41330B37AAA80FDCE0589F05E39A2DECC900ED27DE4327494D8CC07C1B67CE038EFBDA44E52E5B715A3EC5A3F07FD7CCDECDFCA955A7B6FCB11DFA46E51BA4203609299CFB488F993296C5387E386A488064288B95F527FA540946C8672D26BA42D643227D77736CF&tr=ndp\n"
     ]
    }
   ],
   "source": [
    "a = driver.find_elements(By.CSS_SELECTOR, '.link_service')\n",
    "for i in a:\n",
    "    print(i.get_attribute('href'))"
   ]
  },
  {
   "cell_type": "markdown",
   "id": "befd91e6-ae24-4129-b3ef-ddaa269ebda8",
   "metadata": {},
   "source": [
    "## 자동 로그인 연습"
   ]
  },
  {
   "cell_type": "code",
   "execution_count": 77,
   "id": "44036044-06a3-43d8-b620-20dc91eb1e77",
   "metadata": {},
   "outputs": [],
   "source": [
    "# 테스트용 html\n",
    "url = 'file:///C:/workspace/wassup3/02_Python_Collection/sample/signin.html'\n",
    "driver = webdriver.Chrome(options = options)\n",
    "driver.get(url)\n",
    "time.sleep(2)"
   ]
  },
  {
   "cell_type": "code",
   "execution_count": 78,
   "id": "5be3684d-8633-4db7-9f97-8680df9c94f7",
   "metadata": {},
   "outputs": [],
   "source": [
    "username = driver.find_element(By.NAME, 'username')\n",
    "username.send_keys('korea')"
   ]
  },
  {
   "cell_type": "code",
   "execution_count": 79,
   "id": "7c2cb357-d7c0-4559-b71a-c72aa22dcfc2",
   "metadata": {},
   "outputs": [],
   "source": [
    "password = driver.find_element(By.NAME, 'password')\n",
    "password.send_keys('1234')"
   ]
  },
  {
   "cell_type": "code",
   "execution_count": 80,
   "id": "5327cc0a-e2d0-4e31-a367-255b0f533322",
   "metadata": {},
   "outputs": [],
   "source": [
    "#클릭해서 로그인하기\n",
    "login = driver.find_element(By.XPATH, '//*[@id=\"loginForm\"]/input[3]')\n",
    "login.click()"
   ]
  },
  {
   "cell_type": "code",
   "execution_count": 81,
   "id": "85a0d522-0727-4b74-ad4d-1ba12f523db6",
   "metadata": {},
   "outputs": [],
   "source": [
    "driver.back()"
   ]
  },
  {
   "cell_type": "code",
   "execution_count": 53,
   "id": "1e542f1a-c809-40a3-ab98-3bf336f44a6b",
   "metadata": {},
   "outputs": [],
   "source": [
    "login = driver.find_element(By.XPATH, '/html/body/form/input[3]')\n",
    "login.click()"
   ]
  },
  {
   "cell_type": "code",
   "execution_count": 54,
   "id": "62cf2da6-33f5-43a3-b213-054d9f2103d7",
   "metadata": {},
   "outputs": [],
   "source": [
    "driver.back()"
   ]
  },
  {
   "cell_type": "code",
   "execution_count": 56,
   "id": "86779f17-4771-4bb6-a4f3-1949f7c10d8f",
   "metadata": {},
   "outputs": [],
   "source": [
    "login = driver.find_element(By.CSS_SELECTOR, '[value = Login]')\n",
    "login.click()"
   ]
  },
  {
   "cell_type": "code",
   "execution_count": 57,
   "id": "15a904a4-dcdb-4aec-8e26-e9e264c2b37d",
   "metadata": {},
   "outputs": [],
   "source": [
    "driver.back()"
   ]
  },
  {
   "cell_type": "code",
   "execution_count": 67,
   "id": "58097137-5a81-46a9-8c76-674e3aac76a5",
   "metadata": {},
   "outputs": [],
   "source": [
    "username.clear()"
   ]
  },
  {
   "cell_type": "code",
   "execution_count": 68,
   "id": "c1d037be-d8ae-478d-a5bf-854b99ab4e80",
   "metadata": {},
   "outputs": [],
   "source": [
    "password.clear()"
   ]
  },
  {
   "cell_type": "code",
   "execution_count": 82,
   "id": "d80b838a-c359-4525-b32d-374ee34b2dfe",
   "metadata": {},
   "outputs": [],
   "source": [
    "username = driver.find_element(By.NAME, 'username')\n",
    "username.send_keys('korea')\n",
    "password = driver.find_element(By.NAME, 'password')\n",
    "password.send_keys('1234')"
   ]
  },
  {
   "cell_type": "code",
   "execution_count": 83,
   "id": "efd3a075-3307-4cbf-9687-fa49c5fc9a62",
   "metadata": {},
   "outputs": [],
   "source": [
    "username.submit()"
   ]
  },
  {
   "cell_type": "code",
   "execution_count": 84,
   "id": "ddbb75fe-9d90-4d15-a24f-6b1395911ca6",
   "metadata": {},
   "outputs": [],
   "source": [
    "driver.back()"
   ]
  },
  {
   "cell_type": "code",
   "execution_count": 75,
   "id": "dd2da4ff-02f3-4216-9c0a-6e891435bff6",
   "metadata": {},
   "outputs": [
    {
     "data": {
      "text/plain": [
       "'Are you sure you want to do this?'"
      ]
     },
     "execution_count": 75,
     "metadata": {},
     "output_type": "execute_result"
    }
   ],
   "source": [
    "driver.find_element(By.TAG_NAME,'p').text"
   ]
  },
  {
   "cell_type": "code",
   "execution_count": 74,
   "id": "725f6b00-527e-4d58-9d54-73a08b55d2cf",
   "metadata": {},
   "outputs": [
    {
     "data": {
      "text/plain": [
       "'<html><head></head><body>\\n        <h1> Sign In </h1>\\n        <form action=\"moved.html\" id=\"loginForm\">\\n            ID : <input name=\"username\" type=\"text\"> <br>\\n            Password : <input name=\"password\" type=\"password\"> <br>\\n\\n            <input name=\"continue\" type=\"submit\" value=\"Login\">\\n            <input name=\"continue\" type=\"button\" value=\"Clear\">\\n        \\n        </form>\\n\\n        <p>Are you sure you want to do this?</p>\\n        <a href=\"continue.html\">Continue</a>\\n        <a href=\"cancel.html\">Cancel</a>\\n\\n        <h1>Welcome</h1>\\n        <p>Site content goes here.</p>\\n        <p class=\"content\">Site content goes here.</p>\\n    \\n</body></html>'"
      ]
     },
     "execution_count": 74,
     "metadata": {},
     "output_type": "execute_result"
    }
   ],
   "source": [
    "#html 소스 추출하기\n",
    "driver.page_source"
   ]
  },
  {
   "cell_type": "code",
   "execution_count": 85,
   "id": "2f8605ab-0666-4ed9-9db8-21dc8573e70f",
   "metadata": {},
   "outputs": [],
   "source": [
    "driver.close()"
   ]
  }
 ],
 "metadata": {
  "kernelspec": {
   "display_name": "Python 3 (ipykernel)",
   "language": "python",
   "name": "python3"
  },
  "language_info": {
   "codemirror_mode": {
    "name": "ipython",
    "version": 3
   },
   "file_extension": ".py",
   "mimetype": "text/x-python",
   "name": "python",
   "nbconvert_exporter": "python",
   "pygments_lexer": "ipython3",
   "version": "3.11.7"
  }
 },
 "nbformat": 4,
 "nbformat_minor": 5
}
